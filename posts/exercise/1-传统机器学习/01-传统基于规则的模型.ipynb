{
 "cells": [
  {
   "cell_type": "code",
   "execution_count": null,
   "metadata": {},
   "outputs": [],
   "source": [
    "有两种方式：\n",
    "1. 基于规则（基于语法规则、基于模板）\n",
    "    原理：基于预先设置好的规则来生成文本（如对话）\n",
    "    1.1 基于语法规则\n",
    "    1.2 基于模板\n",
    "2. 基于概率"
   ]
  },
  {
   "cell_type": "code",
   "execution_count": 3,
   "metadata": {},
   "outputs": [
    {
     "data": {
      "text/plain": [
       "'难过的温柔的'"
      ]
     },
     "execution_count": 3,
     "metadata": {},
     "output_type": "execute_result"
    }
   ],
   "source": [
    "# 1.1 基于语法规则\n",
    "\n",
    "import random\n",
    "\n",
    "# 简单的语法规则\n",
    "\n",
    "simple_grammar = \"\"\"\n",
    "sentence => noun_phrase verb_phrase\n",
    "noun_phrase => Article Adj* noun\n",
    "Adj* => null | Adj Adj*\n",
    "verb_phrase => verb noun_phrase\n",
    "Article =>  一个 | 这个 | 那个\n",
    "noun =>   女孩 | 男孩 | 教室 | 员工 | 电脑 | 眼镜 | 办公室\n",
    "verb => 看着 | 坐在 |  听着 | 看见 | 用着 | 戴着\n",
    "Adj =>  温暖的 | 安静的 | 温柔的 | 细心的 | 难过的\n",
    "\"\"\"\n",
    "\n",
    "# 生成单个形容词\n",
    "def adj():\n",
    "    return random.choice(\"温暖的 | 安静的 | 温柔的 | 细心的 | 难过的\".split(\"|\")).split()[0]\n",
    "# adj()\n",
    "\n",
    "# 生成0个或多个形容词\n",
    "def adj_star():\n",
    "    return random.choice([lambda: '', lambda: adj() + adj_star()])()\n",
    "adj_star()"
   ]
  },
  {
   "cell_type": "code",
   "execution_count": 4,
   "metadata": {},
   "outputs": [
    {
     "data": {
      "text/plain": [
       "{'Adj*': [['null'], ['Adj', 'Adj*']],\n",
       " 'Adj': [['温暖的'], ['安静的'], ['温柔的'], ['细心的'], ['难过的']]}"
      ]
     },
     "execution_count": 4,
     "metadata": {},
     "output_type": "execute_result"
    }
   ],
   "source": [
    "# 将预定义语法字符串转化成 python 格式\n",
    "def create_grammar(grammar_str, split='=>', line_split='\\n'):\n",
    "    grammar = {}\n",
    "    for line in grammar_str.split(line_split):\n",
    "        if not line.strip():\n",
    "            continue\n",
    "        exp, stmt = line.split(split)\n",
    "        grammar[exp.strip()] = [s.split() for s in stmt.split('|')]\n",
    "    return grammar\n",
    "\n",
    "# 生成语法\n",
    "adj_grammar = \"\"\"\n",
    "Adj* => null | Adj Adj*\n",
    "Adj => 温暖的 | 安静的 | 温柔的 | 细心的 | 难过的\n",
    "\"\"\"\n",
    "grammar = create_grammar(adj_grammar)\n",
    "grammar"
   ]
  },
  {
   "cell_type": "code",
   "execution_count": 5,
   "metadata": {},
   "outputs": [
    {
     "data": {
      "text/plain": [
       "{'sentence': [['noun_phrase', 'verb_phrase']],\n",
       " 'noun_phrase': [['Article', 'Adj*', 'noun']],\n",
       " 'Adj*': [['null'], ['Adj', 'Adj*']],\n",
       " 'verb_phrase': [['verb', 'noun_phrase']],\n",
       " 'Article': [['一个'], ['这个'], ['那个']],\n",
       " 'noun': [['女孩'], ['男孩'], ['教室'], ['员工'], ['电脑'], ['眼镜'], ['办公室']],\n",
       " 'verb': [['看着'], ['坐在'], ['听着'], ['看见'], ['用着'], ['戴着']],\n",
       " 'Adj': [['温暖的'], ['安静的'], ['温柔的'], ['细心的'], ['难过的']]}"
      ]
     },
     "execution_count": 5,
     "metadata": {},
     "output_type": "execute_result"
    }
   ],
   "source": [
    "# 根据语法生成语句\n",
    "from random import choice\n",
    "def generate(gram, target):\n",
    "    if target not in gram:\n",
    "        return target\n",
    "    expanded = [generate(gram, t) for t in choice(gram[target])]\n",
    "    return ''.join(e for e in expanded if e != 'null')\n",
    "\n",
    "example_grammar = create_grammar(simple_grammar)\n",
    "example_grammar"
   ]
  },
  {
   "cell_type": "code",
   "execution_count": 6,
   "metadata": {},
   "outputs": [
    {
     "data": {
      "text/plain": [
       "'那个教室戴着那个细心的教室'"
      ]
     },
     "execution_count": 6,
     "metadata": {},
     "output_type": "execute_result"
    }
   ],
   "source": [
    "generate(gram=example_grammar, target='sentence')"
   ]
  },
  {
   "cell_type": "code",
   "execution_count": 28,
   "metadata": {},
   "outputs": [
    {
     "name": "stdout",
     "output_type": "stream",
     "text": [
      "你好,我是135号,请问你要喝酒吗？\n",
      "我找找娱乐\n",
      "您好,我是9号,您需要喝酒吗？\n",
      "我们想找点娱乐\n",
      "你好,我是6号,请问你要赌博吗？\n",
      "我想找点乐子\n",
      "先生,您好,我是7号,您需要喝酒吗？\n",
      "我们想找点乐子\n",
      "你好,我是79号,您需要喝酒吗？\n",
      "我们想找点乐子\n"
     ]
    }
   ],
   "source": [
    "#### 1. 模拟人类和机器人对话：\n",
    "# 在西部世界里，一个\"人类\"的语言可以定义为：\n",
    "human = \"\"\"\n",
    "human = 自己 寻找 活动\n",
    "自己 = 我 | 我们 \n",
    "寻找 = 找找 | 想找点 \n",
    "活动 = 乐子 | 玩的 | 娱乐\n",
    "\"\"\"\n",
    "\n",
    "# 一个“接待员”的语言可以定义为\n",
    "host = \"\"\"\n",
    "host = 寒暄 报数 询问 业务相关 结尾 \n",
    "报数 = 我是 数字 号 ,\n",
    "数字 = 单个数字 | 数字 单个数字 \n",
    "单个数字 = 1 | 2 | 3 | 4 | 5 | 6 | 7 | 8 | 9 \n",
    "寒暄 = 称谓 打招呼 | 打招呼\n",
    "称谓 = 人称 ,\n",
    "人称 = 先生 | 女士 | 小朋友\n",
    "打招呼 = 你好, | 您好,\n",
    "询问 = 请问你要 | 您需要\n",
    "业务相关 = 玩玩 具体业务\n",
    "玩玩 = null\n",
    "具体业务 = 喝酒 | 打牌 | 打猎 | 赌博\n",
    "结尾 = 吗？\n",
    "\"\"\"\n",
    "\n",
    "for i in range(5):\n",
    "    print(generate(gram=create_grammar(host, split='='), target='host'))\n",
    "    print(generate(gram=create_grammar(human, split='='), target='human'))"
   ]
  },
  {
   "cell_type": "code",
   "execution_count": 7,
   "metadata": {},
   "outputs": [
    {
     "data": {
      "text/plain": [
       "{'ask': [['打招呼', ',', '自我介绍', ',', '询问']],\n",
       " '打招呼': [['称谓', ',', '招呼']],\n",
       " '称谓': [['亲'], ['先生'], ['女士'], ['小朋友'], ['美女'], ['帅哥']],\n",
       " '人称': [['你'], ['您']],\n",
       " '招呼': [['人称', '好']],\n",
       " '自我介绍': [['我是', '数字', '号客服'], ['我是客服', '名称']],\n",
       " '数字': [['单个数字'], ['数字', '单个数字']],\n",
       " '单个数字': [['1'], ['2'], ['3'], ['4'], ['5'], ['6'], ['7'], ['8'], ['9']],\n",
       " '名称': [['小芳'], ['小静'], ['张三'], ['王五']],\n",
       " '询问': [['人称', '动作', '结尾']],\n",
       " '动作': [['想知道', '业务+'], ['想了解', '业务+'], ['想咨询', '业务+'], ['对', '业务+', '感兴趣']],\n",
       " '业务+': [['业务'], ['业务', '和', '业务+']],\n",
       " '业务': [['产品详情'],\n",
       "  ['购买须知'],\n",
       "  ['优惠券'],\n",
       "  ['使用方法'],\n",
       "  ['订单查询'],\n",
       "  ['产品维修'],\n",
       "  ['退货流程'],\n",
       "  ['退款详情'],\n",
       "  ['人工客服']],\n",
       " '结尾': [['吗？']]}"
      ]
     },
     "execution_count": 7,
     "metadata": {},
     "output_type": "execute_result"
    }
   ],
   "source": [
    "#### 2. 模拟客服机器人\n",
    "service_robot = \"\"\"\n",
    "ask = 打招呼 , 自我介绍 , 询问 \n",
    "\n",
    "打招呼 = 称谓 , 招呼 \n",
    "称谓 = 亲 | 先生 | 女士 | 小朋友 | 美女| 帅哥\n",
    "人称 = 你 | 您 \n",
    "招呼 = 人称 好\n",
    "\n",
    "自我介绍 = 我是 数字 号客服|我是客服 名称\n",
    "数字 = 单个数字 | 数字 单个数字 \n",
    "单个数字 = 1 | 2 | 3 | 4 | 5 | 6 | 7 | 8 | 9\n",
    "名称 = 小芳 | 小静 | 张三 | 王五\n",
    "\n",
    "询问 = 人称 动作 结尾\n",
    "动作 = 想知道 业务+ | 想了解 业务+ |想咨询 业务+ | 对 业务+ 感兴趣\n",
    "业务+ = 业务 | 业务 和 业务+ \n",
    "业务 = 产品详情 | 购买须知 | 优惠券 | 使用方法 | 订单查询 | 产品维修 | 退货流程 | 退款详情 | 人工客服 \n",
    "结尾 = 吗？ \n",
    "\"\"\"\n",
    "\n",
    "def create_grammar(grammar_str, split='=', line_split='\\n'):\n",
    "    grammar = {}\n",
    "    for line in grammar_str.split(line_split):\n",
    "        if not line.strip():\n",
    "            continue\n",
    "        exp, stmt = line.split(split)\n",
    "        grammar[exp.strip()] = [s.split() for s in stmt.split('|')]\n",
    "    return grammar\n",
    "example_gram = create_grammar(service_robot)\n",
    "example_gram"
   ]
  },
  {
   "cell_type": "code",
   "execution_count": 8,
   "metadata": {},
   "outputs": [
    {
     "data": {
      "text/plain": [
       "'女士,你好,我是客服王五,你想了解退货流程吗？'"
      ]
     },
     "execution_count": 8,
     "metadata": {},
     "output_type": "execute_result"
    }
   ],
   "source": [
    "import random\n",
    "choice = random.choice\n",
    "\n",
    "def generate(gram, target):\n",
    "    if target not in gram: return target\n",
    "    expaned = [generate(gram, t) for t in choice(gram[target])]\n",
    "    return \"\".join([e if e != '/n' else '\\n' for e in expaned if e != 'null'])\n",
    "\n",
    "generate(gram=example_gram, target='ask')"
   ]
  },
  {
   "cell_type": "code",
   "execution_count": 9,
   "metadata": {},
   "outputs": [
    {
     "data": {
      "text/plain": [
       "['美女,你好,我是客服小芳,您想了解使用方法和购买须知和退款详情吗？',\n",
       " '女士,您好,我是客服小静,您想咨询退款详情和退货流程和购买须知和人工客服吗？',\n",
       " '美女,你好,我是客服王五,您对退款详情和使用方法感兴趣吗？']"
      ]
     },
     "execution_count": 9,
     "metadata": {},
     "output_type": "execute_result"
    }
   ],
   "source": [
    "# 生成多个句子\n",
    "def generate_n(n, gram, target):\n",
    "    return [generate(gram, target) for _ in range(n)]\n",
    "generate_n(3, gram=example_gram, target='ask')"
   ]
  },
  {
   "cell_type": "code",
   "execution_count": 19,
   "metadata": {},
   "outputs": [
    {
     "data": {
      "text/plain": [
       "(True, False)"
      ]
     },
     "execution_count": 19,
     "metadata": {},
     "output_type": "execute_result"
    }
   ],
   "source": [
    "# 1.2 基于模板\n",
    "\n",
    "# 判断是否为变量：变量定义为以 ？开头 的单词\n",
    "\n",
    "def is_variable(pat):\n",
    "    return pat.startswith('?') and all(s.isalpha() for s in pat[1:])\n",
    "\n",
    "is_variable('?hello'), is_variable('?hello world')"
   ]
  },
  {
   "cell_type": "code",
   "execution_count": 20,
   "metadata": {},
   "outputs": [
    {
     "name": "stdout",
     "output_type": "stream",
     "text": [
      "True\n",
      "False\n"
     ]
    }
   ],
   "source": [
    "# 判断句子与模板是否匹配，模板中包含上述的变量\n",
    "\n",
    "def pat_match_1(pattern, sent):\n",
    "    if is_variable(pattern[0]):\n",
    "        return True\n",
    "    else:\n",
    "        if pattern[0] != sent[0]:\n",
    "            return False\n",
    "        else:\n",
    "            return pat_match_1(pattern[1:], sent[1:])\n",
    "          \n",
    "print(pat_match_1(\"I want ?x\", \"I want holiday\"))\n",
    "print(pat_match_1(\"I have dreamed a ?x\", \"I dreamed about dog\"))"
   ]
  },
  {
   "cell_type": "code",
   "execution_count": 21,
   "metadata": {},
   "outputs": [
    {
     "data": {
      "text/plain": [
       "('?X', 'holiday')"
      ]
     },
     "execution_count": 21,
     "metadata": {},
     "output_type": "execute_result"
    }
   ],
   "source": [
    "# 判断句子与模板是否匹配，获得匹配的变量\n",
    "def pat_match_2(pattern, sent):\n",
    "    if is_variable(pattern[0]):\n",
    "        return pattern[0], sent[0]\n",
    "    else:\n",
    "        if pattern[0] != sent[0]: return False\n",
    "        else:\n",
    "            return pat_match_2(pattern[1:], sent[1:])\n",
    "\n",
    "pattern = 'I want ?X'.split()\n",
    "sent = \"I want holiday\".split()\n",
    "pat_match_2(pattern, sent)"
   ]
  },
  {
   "cell_type": "code",
   "execution_count": 2,
   "metadata": {},
   "outputs": [
    {
     "ename": "NameError",
     "evalue": "name 'is_variable' is not defined",
     "output_type": "error",
     "traceback": [
      "\u001b[1;31m---------------------------------------------------------------------------\u001b[0m",
      "\u001b[1;31mNameError\u001b[0m                                 Traceback (most recent call last)",
      "\u001b[1;32m<ipython-input-2-874208e756e9>\u001b[0m in \u001b[0;36m<module>\u001b[1;34m\u001b[0m\n\u001b[0;32m     16\u001b[0m \u001b[1;33m\u001b[0m\u001b[0m\n\u001b[0;32m     17\u001b[0m \u001b[1;33m\u001b[0m\u001b[0m\n\u001b[1;32m---> 18\u001b[1;33m \u001b[0mpat_match\u001b[0m\u001b[1;33m(\u001b[0m\u001b[1;34m\"?X greater than ?Y\"\u001b[0m\u001b[1;33m.\u001b[0m\u001b[0msplit\u001b[0m\u001b[1;33m(\u001b[0m\u001b[1;33m)\u001b[0m\u001b[1;33m,\u001b[0m \u001b[1;34m\"3 greater than 2\"\u001b[0m\u001b[1;33m.\u001b[0m\u001b[0msplit\u001b[0m\u001b[1;33m(\u001b[0m\u001b[1;33m)\u001b[0m\u001b[1;33m)\u001b[0m\u001b[1;33m\u001b[0m\u001b[1;33m\u001b[0m\u001b[0m\n\u001b[0m",
      "\u001b[1;32m<ipython-input-2-874208e756e9>\u001b[0m in \u001b[0;36mpat_match\u001b[1;34m(pattern, saying)\u001b[0m\n\u001b[0;32m      7\u001b[0m     \u001b[1;32mif\u001b[0m \u001b[1;32mnot\u001b[0m \u001b[0mpattern\u001b[0m \u001b[1;32mor\u001b[0m \u001b[1;32mnot\u001b[0m \u001b[0msaying\u001b[0m\u001b[1;33m:\u001b[0m\u001b[1;33m\u001b[0m\u001b[1;33m\u001b[0m\u001b[0m\n\u001b[0;32m      8\u001b[0m         \u001b[1;32mreturn\u001b[0m \u001b[1;33m[\u001b[0m\u001b[1;33m]\u001b[0m\u001b[1;33m\u001b[0m\u001b[1;33m\u001b[0m\u001b[0m\n\u001b[1;32m----> 9\u001b[1;33m     \u001b[1;32mif\u001b[0m \u001b[0mis_variable\u001b[0m\u001b[1;33m(\u001b[0m\u001b[0mpattern\u001b[0m\u001b[1;33m[\u001b[0m\u001b[1;36m0\u001b[0m\u001b[1;33m]\u001b[0m\u001b[1;33m)\u001b[0m\u001b[1;33m:\u001b[0m\u001b[1;33m\u001b[0m\u001b[1;33m\u001b[0m\u001b[0m\n\u001b[0m\u001b[0;32m     10\u001b[0m         \u001b[1;32mreturn\u001b[0m \u001b[1;33m[\u001b[0m\u001b[1;33m(\u001b[0m\u001b[0mpattern\u001b[0m\u001b[1;33m[\u001b[0m\u001b[1;36m0\u001b[0m\u001b[1;33m]\u001b[0m\u001b[1;33m,\u001b[0m \u001b[0msaying\u001b[0m\u001b[1;33m[\u001b[0m\u001b[1;36m0\u001b[0m\u001b[1;33m]\u001b[0m\u001b[1;33m)\u001b[0m\u001b[1;33m]\u001b[0m \u001b[1;33m+\u001b[0m \u001b[0mpat_match\u001b[0m\u001b[1;33m(\u001b[0m\u001b[0mpattern\u001b[0m\u001b[1;33m[\u001b[0m\u001b[1;36m1\u001b[0m\u001b[1;33m:\u001b[0m\u001b[1;33m]\u001b[0m\u001b[1;33m,\u001b[0m \u001b[0msaying\u001b[0m\u001b[1;33m[\u001b[0m\u001b[1;36m1\u001b[0m\u001b[1;33m:\u001b[0m\u001b[1;33m]\u001b[0m\u001b[1;33m)\u001b[0m\u001b[1;33m\u001b[0m\u001b[1;33m\u001b[0m\u001b[0m\n\u001b[0;32m     11\u001b[0m     \u001b[1;32melse\u001b[0m\u001b[1;33m:\u001b[0m\u001b[1;33m\u001b[0m\u001b[1;33m\u001b[0m\u001b[0m\n",
      "\u001b[1;31mNameError\u001b[0m: name 'is_variable' is not defined"
     ]
    }
   ],
   "source": [
    "# \"I need iPhone\" 和 \"I need ?X\" 可以匹配，\n",
    "# 但是\"I need an iPhone\" 和 \"I need ?X\" 就不匹配\n",
    "# 新建一个变量类型 \"?*X\", 多了一个星号(*),表示匹配多个\n",
    "# 多个部分匹配\n",
    "\n",
    "def pat_match(pattern, saying):\n",
    "    if not pattern or not saying:\n",
    "        return []\n",
    "    if is_variable(pattern[0]):\n",
    "        return [(pattern[0], saying[0])] + pat_match(pattern[1:], saying[1:])\n",
    "    else:\n",
    "        if pattern[0] != saying[0]:\n",
    "            return []\n",
    "        else:\n",
    "            return pat_match(pattern[1:], saying[1:])\n",
    "\n",
    "\n",
    "pat_match(\"?X greater than ?Y\".split(), \"3 greater than 2\".split())"
   ]
  },
  {
   "cell_type": "code",
   "execution_count": 45,
   "metadata": {},
   "outputs": [
    {
     "data": {
      "text/plain": [
       "[('?X', 'iPhone')]"
      ]
     },
     "execution_count": 45,
     "metadata": {},
     "output_type": "execute_result"
    }
   ],
   "source": [
    "# 将模板中的变量替换成单词，生成句子\n",
    "\n",
    "def pat_to_dict(patterns):\n",
    "    return {k: v for k, v in patterns}\n",
    "\n",
    "def subsitite(rule, parsed_rules):\n",
    "    if not rule:\n",
    "        return []\n",
    "    return [parsed_rules.get(rule[0], rule[0])] + subsitite(\n",
    "        rule[1:], parsed_rules)\n",
    "\n",
    "got_patterns = pat_match(\"I want ?X\".split(), \"I want iPhone\".split())\n",
    "got_patterns"
   ]
  },
  {
   "cell_type": "code",
   "execution_count": 1,
   "metadata": {},
   "outputs": [
    {
     "ename": "NameError",
     "evalue": "name 'pat_match' is not defined",
     "output_type": "error",
     "traceback": [
      "\u001b[1;31m---------------------------------------------------------------------------\u001b[0m",
      "\u001b[1;31mNameError\u001b[0m                                 Traceback (most recent call last)",
      "\u001b[1;32m<ipython-input-1-9af8e3d63ff2>\u001b[0m in \u001b[0;36m<module>\u001b[1;34m\u001b[0m\n\u001b[1;32m----> 1\u001b[1;33m \u001b[0mgot_patterns\u001b[0m \u001b[1;33m=\u001b[0m \u001b[0mpat_match\u001b[0m\u001b[1;33m(\u001b[0m\u001b[1;34m\"I want ?X\"\u001b[0m\u001b[1;33m.\u001b[0m\u001b[0msplit\u001b[0m\u001b[1;33m(\u001b[0m\u001b[1;33m)\u001b[0m\u001b[1;33m,\u001b[0m \u001b[1;34m\"I want iPhone\"\u001b[0m\u001b[1;33m.\u001b[0m\u001b[0msplit\u001b[0m\u001b[1;33m(\u001b[0m\u001b[1;33m)\u001b[0m\u001b[1;33m)\u001b[0m\u001b[1;33m\u001b[0m\u001b[1;33m\u001b[0m\u001b[0m\n\u001b[0m\u001b[0;32m      2\u001b[0m ' '.join(\n\u001b[0;32m      3\u001b[0m     subsitite(\"What if you mean if you got a ?X\".split(),\n\u001b[0;32m      4\u001b[0m               pat_to_dict(got_patterns)))\n\u001b[0;32m      5\u001b[0m \u001b[0mjohn_pat\u001b[0m \u001b[1;33m=\u001b[0m \u001b[0mpat_match\u001b[0m\u001b[1;33m(\u001b[0m\u001b[1;34m'?P needs ?X'\u001b[0m\u001b[1;33m.\u001b[0m\u001b[0msplit\u001b[0m\u001b[1;33m(\u001b[0m\u001b[1;33m)\u001b[0m\u001b[1;33m,\u001b[0m \u001b[1;34m\"John needs vacation\"\u001b[0m\u001b[1;33m.\u001b[0m\u001b[0msplit\u001b[0m\u001b[1;33m(\u001b[0m\u001b[1;33m)\u001b[0m\u001b[1;33m)\u001b[0m\u001b[1;33m\u001b[0m\u001b[1;33m\u001b[0m\u001b[0m\n",
      "\u001b[1;31mNameError\u001b[0m: name 'pat_match' is not defined"
     ]
    }
   ],
   "source": [
    "got_patterns = pat_match(\"I want ?X\".split(), \"I want iPhone\".split())\n",
    "' '.join(\n",
    "    subsitite(\"What if you mean if you got a ?X\".split(),\n",
    "              pat_to_dict(got_patterns)))\n",
    "john_pat = pat_match('?P needs ?X'.split(), \"John needs vacation\".split())\n",
    "' '.join(subsitite(\"Why does ?P need ?X ?\".split(), pat_to_dict(john_pat)))"
   ]
  },
  {
   "cell_type": "code",
   "execution_count": null,
   "metadata": {},
   "outputs": [],
   "source": []
  }
 ],
 "metadata": {
  "kernelspec": {
   "display_name": "Python 3",
   "language": "python",
   "name": "python3"
  },
  "language_info": {
   "codemirror_mode": {
    "name": "ipython",
    "version": 3
   },
   "file_extension": ".py",
   "mimetype": "text/x-python",
   "name": "python",
   "nbconvert_exporter": "python",
   "pygments_lexer": "ipython3",
   "version": "3.7.6"
  }
 },
 "nbformat": 4,
 "nbformat_minor": 4
}
