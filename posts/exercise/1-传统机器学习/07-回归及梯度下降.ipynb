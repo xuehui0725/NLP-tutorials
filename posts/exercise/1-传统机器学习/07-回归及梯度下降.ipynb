{
 "cells": [
  {
   "cell_type": "markdown",
   "metadata": {},
   "source": [
    "# 线性回归\n",
    "1. 给定数据集 $D=\\{(x_1,y_1),(x_2,y_2),...,(x_n,y_n)\\}$，其中 $x_i=(x_{i1};x_{i2};...;x_{id})$ ，线性回归模型试图预测：\n",
    "$$\\hat{y}=\\theta_0+\\theta_1x_1+\\theta_2x_2+\\cdots+\\theta_nx_n$$\n",
    "其中 $\\theta_0$:偏差;$\\theta_1,\\theta_2,\\cdots,\\theta_n$:特征权重;使得预测值 $\\hat{y}$ 与真实值 $y$ 尽可能的相近\n",
    "\n",
    "    - 其向量化形式：$$\\hat{y}=\\theta^T\\cdot{X}$$\n",
    "\n",
    "2. 线性回归模型的 MSE 损失函数:\n",
    "$$MSE(X,h_{\\theta})=\\frac{1}{m}\\sum_{i=1}^{m}(\\theta^T\\cdot{X^{(i)}}-y^{(i)})^2$$\n",
    "3. 最小化损失函数，其完全解如下，求解时间复杂度 $O(n^{2.4})-O(n^3)$：\n",
    "$$\\hat{\\theta}=(X^{T}\\cdot{X})^{-1}\\cdot{X}^{T}\\cdot{y}$$"
   ]
  },
  {
   "cell_type": "code",
   "execution_count": 1,
   "metadata": {},
   "outputs": [
    {
     "data": {
      "text/plain": [
       "<Figure size 640x480 with 1 Axes>"
      ]
     },
     "metadata": {},
     "output_type": "display_data"
    }
   ],
   "source": [
    "import numpy as np\n",
    "import matplotlib.pyplot as plt\n",
    "\n",
    "X = 2 * np.random.rand(100, 1)\n",
    "y = 4 + 3 * X + np.random.randn(100, 1)\n",
    "plt.figure()\n",
    "plt.scatter(X, y)\n",
    "plt.show()"
   ]
  },
  {
   "cell_type": "code",
   "execution_count": 2,
   "metadata": {},
   "outputs": [
    {
     "data": {
      "text/plain": [
       "array([[3.99641371],\n",
       "       [3.04206717]])"
      ]
     },
     "execution_count": 2,
     "metadata": {},
     "output_type": "execute_result"
    }
   ],
   "source": [
    "# 完全解\n",
    "x_b = np.c_[np.ones((100, 1)), X]\n",
    "theta_best = np.linalg.inv(x_b.T.dot(x_b)).dot(x_b.T).dot(y)\n",
    "\n",
    "theta_best"
   ]
  },
  {
   "cell_type": "code",
   "execution_count": 3,
   "metadata": {},
   "outputs": [
    {
     "data": {
      "text/plain": [
       "array([[ 3.99641371],\n",
       "       [10.08054806]])"
      ]
     },
     "execution_count": 3,
     "metadata": {},
     "output_type": "execute_result"
    }
   ],
   "source": [
    "x_new = np.array([[0], [2]])\n",
    "x_new_b = np.c_[np.ones((2, 1)), x_new]\n",
    "y_predict = x_new_b.dot(theta_best)\n",
    "y_predict"
   ]
  },
  {
   "cell_type": "code",
   "execution_count": 4,
   "metadata": {},
   "outputs": [
    {
     "data": {
      "image/png": "[encoded data removed]",
      "text/plain": [
       "<Figure size 432x288 with 1 Axes>"
      ]
     },
     "metadata": {
      "needs_background": "light"
     },
     "output_type": "display_data"
    }
   ],
   "source": [
    "plt.plot(x_new, y_predict, 'r-', label='Predictions')\n",
    "plt.plot(X, y, 'b.')\n",
    "plt.axis([0, 2, 0, 15])\n",
    "plt.legend()\n",
    "plt.show()"
   ]
  },
  {
   "cell_type": "code",
   "execution_count": 5,
   "metadata": {},
   "outputs": [
    {
     "data": {
      "text/plain": [
       "(array([3.99641371]), array([[3.04206717]]))"
      ]
     },
     "execution_count": 5,
     "metadata": {},
     "output_type": "execute_result"
    }
   ],
   "source": [
    "# 与完全解等价的 sklearn 的线性回归模型\n",
    "from sklearn.linear_model import LinearRegression\n",
    "lin_reg = LinearRegression()\n",
    "lin_reg.fit(X, y)\n",
    "lin_reg.intercept_, lin_reg.coef_"
   ]
  },
  {
   "cell_type": "markdown",
   "metadata": {},
   "source": [
    "```\n",
    "class sklearn.linear_model.LinearRegression(fit_intercept=True, \n",
    "                                            normalize=False, \n",
    "                                            copy_X=True, \n",
    "                                            n_jobs=None)\n",
    "```\n",
    "- 原理：最小二乘法\n",
    "- 模型初始化的参数\n",
    "    - `fit_intercept=True`：将数据中心化，每个属性的平均值都被设置为0；控制算法来包含一个回归常数，以适应反应变量的任何常数偏移。\n",
    "    - `normalize=False`：把数据的每个属性用其标准差进行标准化\n",
    "    - `copy_X=True`：设置为 False 时，X 变量会被覆盖\n",
    "    - `n_jobs=None`：使用的处理器的数量，None 表示 1，-1 表示使用所有处理器\n",
    "- 模型方法：\n",
    "    - `fit(self, X, y, sample_weight=None)`\n",
    "        - X,y 为训练样本及对应的目标值\n",
    "        - `sample_weight` 为每个样本的权重值\n",
    "    - `predict(self, X)` 进行预测\n",
    "    - `score(self, X, y, sample_weight=None)`\n",
    "        - 返回预测值的 R^2 系数\n",
    "        - R^2系数定义为$(1-u/v)$，其中 $u$ 是残差的平方和（$\\sum(y_{true}-y_{pred})^2$），$v$ 为 $\\sum(y_{true}-y_{true}.mean()))^2$\n",
    "        - 最佳的系数为 1.0， 此时 $y_{true}=y_{pred}$；系数也可能为负\n",
    "\n",
    "- 模型属性：\n",
    "    - `coef_`：系数矩阵\n",
    "    - `intercept_`：回归常数"
   ]
  },
  {
   "cell_type": "markdown",
   "metadata": {},
   "source": [
    "# 梯度下降\n",
    "- 最小化损失函数，而不是准确度等指标，是因为损失函数是关于权重的平滑函数，而后者不是\n",
    "- 梯度下降计算损失函数对参数向量的梯度，并向梯度下降的方向改变；当梯度为 0 时，到达最小值\n",
    "\n",
    "![](images/Gradient-Descent.png)\n",
    "- 梯度下降的步长是一个重要的参数，由超参数学习率(`learning_rate`)决定\n",
    "- `Batch Gradient Descent`，迭代训练时每一步使用所有训练数据\n",
    "    - 对单个参数的梯度：$$\\frac{\\partial}{\\partial \\theta_j} MSE(\\theta)=\\frac{2}{m}\\sum_{i=1}^{m}(\\theta^T\\cdot X^{(i)}-y^{(i)})x_{j}^{(i)}$$\n",
    "    - 损失函数对参数向量的梯度：$$\\bigtriangledown_{\\theta} MSE(\\theta)=\n",
    "\\begin{cases}\n",
    "\\frac{\\partial}{\\partial \\theta_0} MSE(\\theta)\\\\\n",
    "\\frac{\\partial}{\\partial \\theta_1} MSE(\\theta)\\\\\n",
    "\\ \\ \\ \\ \\vdots\\\\\n",
    "\\frac{\\partial}{\\partial \\theta_n} MSE(\\theta)\\\\\n",
    "\\end{cases} \n",
    " =\\frac{2}{m}X^T\\cdot{(X\\cdot{\\theta}-y)}$$\n",
    " 其中 $X_{m\\times n}\\qquad \\theta_{n\\times 1}\\qquad y_{m\\times 1}$\n",
    "    - 每一步参数更新为：$$\\theta^{i+1}=\\theta^i-\\eta \\bigtriangledown_\\theta MSE(\\theta)$$\n",
    "    - 将迭代次数设置非常大，但当梯度变得足够小时，终止训练\n"
   ]
  },
  {
   "cell_type": "code",
   "execution_count": null,
   "metadata": {},
   "outputs": [],
   "source": [
    "eta = 0.1\n",
    "n_iterations = 1000\n",
    "m = 100\n",
    "\n",
    "theta = np.random.randn(2, 1)\n",
    "for iteration in range(n_iterations):\n",
    "    gradients = 2 / m * x_b.T.dot(x_b.dot(theta) - y)\n",
    "    theta = theta - eta * gradients\n",
    "theta"
   ]
  },
  {
   "cell_type": "markdown",
   "metadata": {},
   "source": [
    "- `Stochastic Gradient Descent`\n",
    "    - 随机梯度下降，每一步从训练数据中随机选择一个样本，用来计算梯度；\n",
    "    - 随机梯度下降算法，损失函数值上下波动，而不是稳定逐步减小到最小值；\n",
    "    - 当损失函数非常不平整，即有多个局部最小值时，随机梯度会跳出局部最小，更可能求得全局最小\n",
    "    - `Simulated annealing` 技巧，训练时逐渐减小学习率；开始时步长比较大，可以快速训练，跳出局部最小，然后逐渐变小\n",
    "    - `Early Stopping`技巧，当模型在验证集上的误差不再变小时，停止训练"
   ]
  },
  {
   "cell_type": "code",
   "execution_count": null,
   "metadata": {},
   "outputs": [],
   "source": [
    "n_epoches = 50\n",
    "t0, t1 = 5, 50\n",
    "\n",
    "\n",
    "def learning_schedule(t):\n",
    "    return (t0 / (t + t1))\n",
    "\n",
    "\n",
    "theta = np.random.randn(2, 1)\n",
    "\n",
    "for epoch in range(n_epoches):\n",
    "    for i in range(m):\n",
    "        random_index = np.random.randint(m)\n",
    "        xi = x_b[random_index:random_index + 1]\n",
    "        yi = y[random_index:random_index + 1]\n",
    "        gradients = 2 * xi.T.dot(xi.dot(theta) - yi)\n",
    "        eta = learning_schedule(epoch * m + 1)\n",
    "        theta = theta - eta * gradients\n",
    "\n",
    "theta"
   ]
  },
  {
   "cell_type": "code",
   "execution_count": 8,
   "metadata": {},
   "outputs": [
    {
     "data": {
      "text/plain": [
       "(array([3.11578522]), array([4.00746624]))"
      ]
     },
     "execution_count": 8,
     "metadata": {},
     "output_type": "execute_result"
    }
   ],
   "source": [
    "# 随机梯度回归模型\n",
    "from sklearn.linear_model import SGDRegressor\n",
    "sgd_reg = SGDRegressor(max_iter=50, penalty=None, eta0=0.1)\n",
    "sgd_reg.fit(X, y.ravel())\n",
    "sgd_reg.coef_, sgd_reg.intercept_"
   ]
  },
  {
   "cell_type": "code",
   "execution_count": null,
   "metadata": {},
   "outputs": [],
   "source": [
    "# Early stopping 技巧\n",
    "\n",
    "from sklearn.base import clone\n",
    "from sklearn.linear_model import SGDRegressor\n",
    "sgd_reg = SGDRegressor(n_iter=1,\n",
    "                       warm_start=True,\n",
    "                       penalty=None,\n",
    "                       learning_rate='constant',\n",
    "                       eta0=0.0005)\n",
    "minimum_val_error = float('inf')\n",
    "best_epoch = None\n",
    "best_model = None\n",
    "for epoch in range(1000):\n",
    "    sgd_reg.fit(X_train_poly_scaled, y_train)\n",
    "    y_val_predict = sgd_reg.predict(X_val_poly_scaled)\n",
    "    val_error = mean_squared_error(y_val_predict, y_val)\n",
    "    if val_error < minimum_val_error:\n",
    "        minimum_val_error = val_error\n",
    "        best_epoch = epoch\n",
    "        best_model = clone(sgd_reg)"
   ]
  },
  {
   "cell_type": "markdown",
   "metadata": {},
   "source": [
    "- `Mini-batch Gradient Descent`\n",
    "    - 每次在随机选择的小批量数据上计算梯度，并更新参数\n",
    "    \n",
    "几种线性回归算法的比较如下图所示：\n",
    "![](images/ComparisonLinearRegression.JPG)"
   ]
  },
  {
   "cell_type": "markdown",
   "metadata": {},
   "source": [
    "# 模型性能评估\n",
    "- 通过交叉验证(`cross-validation`)来评估模型的泛化性能\n",
    "- 学习曲线(`learning curves`)描绘模型在训练和测试集上的性能，与训练数据量的关系"
   ]
  },
  {
   "cell_type": "code",
   "execution_count": null,
   "metadata": {},
   "outputs": [],
   "source": [
    "from sklearn.metrics import mean_squared_error\n",
    "from sklearn.model_selection import train_test_split\n",
    "\n",
    "\n",
    "def plot_learning_curves(model, X, y):\n",
    "    X_train, X_test, y_train, y_test = train_test_split(X, y, test_size=0.2)\n",
    "    train_errors, val_errors = [], []\n",
    "    for m in range(1, len(X_train)):\n",
    "        model.fit(X_train[:m], y_train[:m])\n",
    "        y_train_predict = model.predict(X_train[:m])\n",
    "        y_val_predict = model.predict(X_test)\n",
    "        train_errors.append(mean_squared_error(y_train_predict, y_train[:m]))\n",
    "        val_errors.append(mean_squared_error(y_val_predict, y_test))\n",
    "\n",
    "    plt.plot(np.sqrt(train_errors), 'r-+', linewidth=2, label='train')\n",
    "    plt.plot(np.sqrt(val_errors), 'b-', linewidth=3, label='val')"
   ]
  },
  {
   "cell_type": "code",
   "execution_count": null,
   "metadata": {},
   "outputs": [],
   "source": []
  },
  {
   "cell_type": "markdown",
   "metadata": {},
   "source": [
    "# `The Bias-Variance Tradeoff`\n",
    "一个模型预测结果和真实值之间的偏差可以表述为三种不同的错误(`error`):\n",
    "- `Bias`：由于错误的假设，如将实际上二项式模型假设成线性模型；高`bias`模型，导致**欠拟合**问题\n",
    "- `Variance`：由于模型对训练数据中微小变化过度敏感；高阶的模型，如高自由度多项式模型，更有可能有高`variance`，导致**过拟合**训练数据\n",
    "- `Irreducible error`：由数据噪声导致，清洗数据来改善，如异常点检测、检查数据源等\n",
    "\n",
    "增加模型的复杂度，将增加`variance`减小`bias`；降低模型复杂，则会增加`bias`减小`variance`；这就是需要权衡的地方"
   ]
  },
  {
   "cell_type": "code",
   "execution_count": null,
   "metadata": {},
   "outputs": [],
   "source": []
  },
  {
   "cell_type": "markdown",
   "metadata": {},
   "source": [
    "# 欠拟合和过拟合\n",
    "- 过拟和是指模型对于训练数据拟合呈现过当的情况，反映到评估指标上，就是模型在训练集上表现很好，但在测试集上表现较差。欠拟合指的是在训练和预测时，表现都不好的情况\n",
    "- 过拟合主要由于模型学习能力过于强大，以至于把训练样本自身所包含的不太一般的特性都学习到了，即模型过于复杂、训练数据偏少。导致模型的泛化能力下降\n",
    "       \n",
    "         \n",
    "- 降低过拟合风险的方法：\n",
    "    - 获取更多训练数据。可以一定的规则来扩充训练数据，如对图像数据，旋转、平移、缩放等操作；进一步，也可以使用 `GAN` 合成大量的新数据\n",
    "    - 降低模型复杂度，如神经网络减少网络层数、神经元个数；决策树中，降低树的深度、进行剪枝等\n",
    "    - 正则化方法\n",
    "    - 集成学习方法，多模型集成，降低单一模型的过拟合风险\n",
    "- 降低欠拟合风险的方法：\n",
    "    - 添加新特征。当特征不足或现有特征与样本标签的相关性不强时，容易出现欠拟合\n",
    "    - 增加模型复杂度，简单模型的学习能力较差\n",
    "    - 减小正则化系数"
   ]
  },
  {
   "cell_type": "code",
   "execution_count": null,
   "metadata": {},
   "outputs": [],
   "source": []
  },
  {
   "cell_type": "markdown",
   "metadata": {},
   "source": [
    "# 正则化\n",
    "在训练线性回归模型时，有的系数取值很大，且包含大量相关联的特征时，数据微小的变化就会导致模型很不稳定；通过加入正则化，控制与变量关联的权重，从而将不必要的变量的系数大幅惩罚降低。\n",
    "- 岭回归(`Ridge Regression`)，损失函数：\n",
    "$$J(\\theta)=MSE(\\theta)+\\alpha \\frac{1}{2}\\sum_{i=1}^m\\theta_i^2$$\n",
    "    - 其中偏差项 $\\theta_0$ 不被正则化，参数 $\\alpha$ 决定了系数缩减的幅度， $\\alpha$ 值越大，缩减幅度越大，系数的值越趋近于 0\n",
    "    - 岭回归的完全解，矩阵 $A$ 为单位矩阵，除了左上角值为 0:$$\\hat{\\theta}=(X^{T}\\cdot{X}+\\alpha A)^{-1}\\cdot{X}^{T}\\cdot{y}$$\n",
    "    "
   ]
  },
  {
   "cell_type": "markdown",
   "metadata": {},
   "source": [
    "------------------------------\n",
    "```\n",
    "class sklearn.linear_model.Ridge(alpha=1.0, \n",
    "                                 fit_intercept=True, \n",
    "                                 normalize=False, \n",
    "                                 copy_X=True, \n",
    "                                 max_iter=None, \n",
    "                                 tol=0.001, \n",
    "                                 solver=’auto’, \n",
    "                                 random_state=None)\n",
    "```\n",
    "- 原理：\n",
    "  - 在训练线性回归模型时，有的系数取值很大，导致模型不稳定。\n",
    "  - 如果数据集包含大量关联的预测器，仅仅微小的改变都可能导致模型不稳定；此外，假定两个负相关的变量，对反应变量的影响是相反的\n",
    "  - 可以将系数矩阵引入代价函数，对权重太高的系数进行惩罚，以减小系数的值，即缩减方法。\n",
    "  - 岭回归：求得系数矩阵 $W​$，最小化目标函数 $||(y-X*W)||^2+\\alpha*||W||^2​$\n",
    "  \n",
    "- 参数：\n",
    "  - `alpha`：决定了缩减的幅度，$\\alpha$ 越大，缩减幅度越大，系数的值越接近 0 \n",
    "  - `tol`：代价函数的解的精度\n",
    "  - `max_iter,solver`：求解代价函数的求解器"
   ]
  },
  {
   "cell_type": "code",
   "execution_count": null,
   "metadata": {},
   "outputs": [],
   "source": [
    "from sklearn.linear_model import Ridge\n",
    "ridge_reg = Ridge(alpha=1, solver='cholesky')\n",
    "ridge_reg.fit(X, y)\n",
    "ridge_reg.predict([[1.5]])"
   ]
  },
  {
   "cell_type": "code",
   "execution_count": null,
   "metadata": {},
   "outputs": [],
   "source": [
    "# l2 惩罚，即岭回归\n",
    "sgd_reg = SGDRegressor(penalty='l2')\n",
    "sgd_reg.fit(X, y.ravel())\n",
    "\n",
    "sgd_reg.predict([[1.5]])"
   ]
  },
  {
   "cell_type": "code",
   "execution_count": null,
   "metadata": {},
   "outputs": [],
   "source": [
    "%matplotlib inline\n",
    "# Authors: Jan Hendrik Metzen <jhm@informatik.uni-bremen.de>\n",
    "# License: BSD 3 clause\n",
    "\n",
    "import time\n",
    "\n",
    "import numpy as np\n",
    "\n",
    "from sklearn.svm import SVR\n",
    "from sklearn.model_selection import GridSearchCV\n",
    "from sklearn.model_selection import learning_curve\n",
    "from sklearn.kernel_ridge import KernelRidge\n",
    "import matplotlib.pyplot as plt\n",
    "\n",
    "rng = np.random.RandomState(0)\n",
    "\n",
    "# #############################################################################\n",
    "# Generate sample data\n",
    "X = 5 * rng.rand(10000, 1)\n",
    "y = np.sin(X).ravel()\n",
    "\n",
    "# Add noise to targets\n",
    "y[::5] += 3 * (0.5 - rng.rand(X.shape[0] // 5))\n",
    "\n",
    "X_plot = np.linspace(0, 5, 100000)[:, None]\n",
    "\n",
    "# #############################################################################\n",
    "# Fit regression model\n",
    "train_size = 100\n",
    "svr = GridSearchCV(SVR(kernel='rbf', gamma=0.1),\n",
    "                   cv=5,\n",
    "                   param_grid={\n",
    "                       \"C\": [1e0, 1e1, 1e2, 1e3],\n",
    "                       \"gamma\": np.logspace(-2, 2, 5)\n",
    "                   })\n",
    "\n",
    "kr = GridSearchCV(KernelRidge(kernel='rbf', gamma=0.1),\n",
    "                  cv=5,\n",
    "                  param_grid={\n",
    "                      \"alpha\": [1e0, 0.1, 1e-2, 1e-3],\n",
    "                      \"gamma\": np.logspace(-2, 2, 5)\n",
    "                  })\n",
    "\n",
    "t0 = time.time()\n",
    "svr.fit(X[:train_size], y[:train_size])\n",
    "svr_fit = time.time() - t0\n",
    "print(\"SVR complexity and bandwidth selected and model fitted in %.3f s\" %\n",
    "      svr_fit)\n",
    "\n",
    "t0 = time.time()\n",
    "kr.fit(X[:train_size], y[:train_size])\n",
    "kr_fit = time.time() - t0\n",
    "print(\"KRR complexity and bandwidth selected and model fitted in %.3f s\" %\n",
    "      kr_fit)\n",
    "\n",
    "sv_ratio = svr.best_estimator_.support_.shape[0] / train_size\n",
    "print(\"Support vector ratio: %.3f\" % sv_ratio)\n",
    "\n",
    "t0 = time.time()\n",
    "y_svr = svr.predict(X_plot)\n",
    "svr_predict = time.time() - t0\n",
    "print(\"SVR prediction for %d inputs in %.3f s\" %\n",
    "      (X_plot.shape[0], svr_predict))\n",
    "\n",
    "t0 = time.time()\n",
    "y_kr = kr.predict(X_plot)\n",
    "kr_predict = time.time() - t0\n",
    "print(\"KRR prediction for %d inputs in %.3f s\" % (X_plot.shape[0], kr_predict))\n",
    "\n",
    "# #############################################################################\n",
    "# Look at the results\n",
    "sv_ind = svr.best_estimator_.support_\n",
    "plt.scatter(X[sv_ind],\n",
    "            y[sv_ind],\n",
    "            c='r',\n",
    "            s=50,\n",
    "            label='SVR support vectors',\n",
    "            zorder=2,\n",
    "            edgecolors=(0, 0, 0))\n",
    "plt.scatter(X[:100],\n",
    "            y[:100],\n",
    "            c='k',\n",
    "            label='data',\n",
    "            zorder=1,\n",
    "            edgecolors=(0, 0, 0))\n",
    "plt.plot(X_plot,\n",
    "         y_svr,\n",
    "         c='r',\n",
    "         label='SVR (fit: %.3fs, predict: %.3fs)' % (svr_fit, svr_predict))\n",
    "plt.plot(X_plot,\n",
    "         y_kr,\n",
    "         c='g',\n",
    "         label='KRR (fit: %.3fs, predict: %.3fs)' % (kr_fit, kr_predict))\n",
    "plt.xlabel('data')\n",
    "plt.ylabel('target')\n",
    "plt.title('SVR versus Kernel Ridge')\n",
    "plt.legend()\n",
    "\n",
    "# Visualize training and prediction time\n",
    "plt.figure()\n",
    "\n",
    "# Generate sample data\n",
    "X = 5 * rng.rand(10000, 1)\n",
    "y = np.sin(X).ravel()\n",
    "y[::5] += 3 * (0.5 - rng.rand(X.shape[0] // 5))\n",
    "sizes = np.logspace(1, 4, 7).astype(np.int)\n",
    "for name, estimator in {\n",
    "        \"KRR\": KernelRidge(kernel='rbf', alpha=0.1, gamma=10),\n",
    "        \"SVR\": SVR(kernel='rbf', C=1e1, gamma=10)\n",
    "}.items():\n",
    "    train_time = []\n",
    "    test_time = []\n",
    "    for train_test_size in sizes:\n",
    "        t0 = time.time()\n",
    "        estimator.fit(X[:train_test_size], y[:train_test_size])\n",
    "        train_time.append(time.time() - t0)\n",
    "\n",
    "        t0 = time.time()\n",
    "        estimator.predict(X_plot[:1000])\n",
    "        test_time.append(time.time() - t0)\n",
    "\n",
    "    plt.plot(sizes,\n",
    "             train_time,\n",
    "             'o-',\n",
    "             color=\"r\" if name == \"SVR\" else \"g\",\n",
    "             label=\"%s (train)\" % name)\n",
    "    plt.plot(sizes,\n",
    "             test_time,\n",
    "             'o--',\n",
    "             color=\"r\" if name == \"SVR\" else \"g\",\n",
    "             label=\"%s (test)\" % name)\n",
    "\n",
    "plt.xscale(\"log\")\n",
    "plt.yscale(\"log\")\n",
    "plt.xlabel(\"Train size\")\n",
    "plt.ylabel(\"Time (seconds)\")\n",
    "plt.title('Execution Time')\n",
    "plt.legend(loc=\"best\")\n",
    "\n",
    "# Visualize learning curves\n",
    "plt.figure()\n",
    "\n",
    "svr = SVR(kernel='rbf', C=1e1, gamma=0.1)\n",
    "kr = KernelRidge(kernel='rbf', alpha=0.1, gamma=0.1)\n",
    "train_sizes, train_scores_svr, test_scores_svr = \\\n",
    "    learning_curve(svr, X[:100], y[:100], train_sizes=np.linspace(0.1, 1, 10),\n",
    "                   scoring=\"neg_mean_squared_error\", cv=10)\n",
    "train_sizes_abs, train_scores_kr, test_scores_kr = \\\n",
    "    learning_curve(kr, X[:100], y[:100], train_sizes=np.linspace(0.1, 1, 10),\n",
    "                   scoring=\"neg_mean_squared_error\", cv=10)\n",
    "\n",
    "plt.plot(train_sizes, -test_scores_svr.mean(1), 'o-', color=\"r\", label=\"SVR\")\n",
    "plt.plot(train_sizes, -test_scores_kr.mean(1), 'o-', color=\"g\", label=\"KRR\")\n",
    "plt.xlabel(\"Train size\")\n",
    "plt.ylabel(\"Mean Squared Error\")\n",
    "plt.title('Learning curves')\n",
    "plt.legend(loc=\"best\")\n",
    "\n",
    "plt.show()"
   ]
  },
  {
   "cell_type": "code",
   "execution_count": null,
   "metadata": {},
   "outputs": [],
   "source": []
  },
  {
   "cell_type": "code",
   "execution_count": null,
   "metadata": {},
   "outputs": [],
   "source": []
  },
  {
   "cell_type": "code",
   "execution_count": null,
   "metadata": {},
   "outputs": [],
   "source": []
  },
  {
   "cell_type": "markdown",
   "metadata": {},
   "source": [
    "- `Lasso Regression(Least Absolute Shrinkage and Selection Operator Regression)`，损失函数：\n",
    " $$J(\\theta)=MSE(\\theta)+\\alpha\\sum_{i=1}^m|\\theta_i|$$ \n",
    "     - `LASSO`回归，倾向于将不重要特征系数变为 0，因此相当于自动进行特征选择，并输出一个稀疏模型\n",
    "     - `LASSO`回归的损失函数在 $\\theta_i=0$ 处不可微，使用 `subgradient vector` $g$ 替代\n",
    "$$\\boxed{g(\\theta,J)=\\bigtriangledown_{\\theta} MSE(\\theta)+\\alpha\n",
    "\\begin{pmatrix} \n",
    "sign(\\theta_1)\\\\sign(\\theta_2)\\\\ \\vdots \\\\sign(\\theta_n)\n",
    "\\end{pmatrix}\\quad \n",
    "sign(\\theta_i)=\n",
    "\\begin{cases}\n",
    "-1 \\quad if \\quad \\theta_i<0\\\\ 0 \\quad\\ if\\quad  \\theta_i=0\\\\ +1 \\quad if \\quad \\theta_i>0\n",
    "\\end{cases}}\n",
    "$$\n",
    "\n",
    "- 原理：\n",
    "  - 与岭回归相比，结果更倾向稀疏，即大多数稀疏都为 0\n",
    "  - 对于相关联的变量。只选择保留其中一个；岭回归会给这些变量的系数分配相同的权重\n",
    "  - 求得系数矩阵 $W$，最小化目标函数 $||(y-X*W)||^2+\\alpha*||W||$"
   ]
  },
  {
   "cell_type": "code",
   "execution_count": null,
   "metadata": {},
   "outputs": [],
   "source": [
    "from sklearn.linear_model import Lasso\n",
    "lasso_reg = Lasso(alpha=0.1)\n",
    "lasso_reg.fit(X, y)\n",
    "lasso_reg.predict([[1.5]])"
   ]
  },
  {
   "cell_type": "markdown",
   "metadata": {},
   "source": [
    "- `Elastic Net`，介于岭回归和 `LASSO`回归之间，其损失函数：\n",
    "$$J(\\theta)=MSE(\\theta)+r\\alpha\\sum_{i=1}^m|\\theta_i|+\\frac{1-r}{2}\\alpha\\sum_{i=1}^m\\theta_i^2$$ \n",
    "    - `Elastic Net` 也倾向于将无用特征的权重变为 0 \n",
    "    - 当特征数多于样本数时，或多个特征强相关时，优先使用 `Elastic Net`"
   ]
  },
  {
   "cell_type": "code",
   "execution_count": null,
   "metadata": {},
   "outputs": [],
   "source": [
    "from sklearn.linear_model import ElasticNet\n",
    "elastic_net = ElasticNet(alpha=0.1, l1_ratio=0.5)\n",
    "elastic_net.fit(X, y)\n",
    "elastic_net.predict([[1.5]])"
   ]
  },
  {
   "cell_type": "code",
   "execution_count": null,
   "metadata": {},
   "outputs": [],
   "source": []
  },
  {
   "cell_type": "markdown",
   "metadata": {},
   "source": [
    "# 多项式回归"
   ]
  },
  {
   "cell_type": "code",
   "execution_count": 1,
   "metadata": {},
   "outputs": [],
   "source": [
    "%matplotlib inline\n",
    "import matplotlib.pyplot as plt\n",
    "import seaborn as sns\n",
    "sns.set()\n",
    "import numpy as np"
   ]
  },
  {
   "cell_type": "code",
   "execution_count": 2,
   "metadata": {},
   "outputs": [
    {
     "data": {
      "text/plain": [
       "array([[ 2.,  4.,  8.],\n",
       "       [ 3.,  9., 27.],\n",
       "       [ 4., 16., 64.]])"
      ]
     },
     "execution_count": 2,
     "metadata": {},
     "output_type": "execute_result"
    }
   ],
   "source": [
    "# 多项式特征\n",
    "from sklearn.preprocessing import PolynomialFeatures\n",
    "x = np.array([2, 3, 4])\n",
    "poly = PolynomialFeatures(3, include_bias=False)\n",
    "poly.fit_transform(x[:, None])"
   ]
  },
  {
   "cell_type": "code",
   "execution_count": null,
   "metadata": {},
   "outputs": [],
   "source": [
    "# 多项式回归\n",
    "from sklearn.pipeline import make_pipeline\n",
    "from sklearn.linear_model import LinearRegression\n",
    "\n",
    "poly_model = make_pipeline(PolynomialFeatures(7), LinearRegression())\n",
    "rng = np.random.RandomState(1)\n",
    "x = 10 * rng.rand(50)\n",
    "y = np.sin(x) + 0.1 * rng.randn(50)\n",
    "\n",
    "poly_model.fit(x[:, np.newaxis], y)\n",
    "yfit = poly_model.predict(xfit[:, np.newaxis])\n",
    "\n",
    "plt.scatter(x, y)\n",
    "plt.plot(x, yfit)"
   ]
  },
  {
   "cell_type": "code",
   "execution_count": null,
   "metadata": {},
   "outputs": [],
   "source": [
    "# 自定义多项式特征\n",
    "from sklearn.base import BaseEstimator, TransformerMixin\n",
    "\n",
    "\n",
    "class GaussianFeatures(BaseEstimator, TransformerMixin):\n",
    "    def __init__(self, N, width_factor=2.0):\n",
    "        self.N = N\n",
    "        self.width_factor = width_factor\n",
    "\n",
    "    @staticmethod\n",
    "    def _gauss_basis(x, y, width, axis=None):\n",
    "        arg = (x - y) / width\n",
    "        return (np.exp(-0.5 * np.sum(arg**2, axis)))\n",
    "\n",
    "    def fit(self, x, y=None):\n",
    "        self.centers_ = np.linspace(x.min(), x.max(), self.N)\n",
    "        self.width_ = self.width_factor * (self.centers_[1] - self.centers_[0])\n",
    "        return (self)\n",
    "\n",
    "    def transform(self, x):\n",
    "        return (self._gauss_basis(x[:, :, np.newaxis],\n",
    "                                  self.centers_,\n",
    "                                  self.width_,\n",
    "                                  axis=1))\n",
    "\n",
    "\n",
    "gauss_model = make_pipeline(GaussianFeatures(20), LinearRegression())\n",
    "\n",
    "gauss_model.fit(x[:, np.newaxis], y)\n",
    "yfit = gauss_model.predict(xfit[:, np.newaxis])\n",
    "\n",
    "plt.scatter(x, y)\n",
    "plt.plot(xfit, yfit)\n",
    "plt.xlim(0, 10)"
   ]
  },
  {
   "cell_type": "code",
   "execution_count": null,
   "metadata": {},
   "outputs": [],
   "source": [
    "def basis_plot(model, title=None):\n",
    "    fig, ax = plt.subplots(2, sharex=True)\n",
    "    model.fit(x[:, np.newaxis], y)\n",
    "    ax[0].scatter(x, y)\n",
    "    ax[0].plot(xfit, model.predict(xfit[:, np.newaxis]))\n",
    "    ax[0].set(xlabel='x', ylabel='y', ylim=(-1.5, 1.5))\n",
    "\n",
    "    if title:\n",
    "        ax[0].set_title(title)\n",
    "\n",
    "    ax[1].plot(model.steps[0][1].centers_, model.steps[1][1].coef_)\n",
    "    ax[1].set(xlabel='basis location', ylabel='coefficient', xlim=(0, 10))\n",
    "\n",
    "\n",
    "model = make_pipeline(GaussianFeatures(30), LinearRegression())\n",
    "basis_plot(model)"
   ]
  },
  {
   "cell_type": "code",
   "execution_count": null,
   "metadata": {},
   "outputs": [],
   "source": [
    "# 正则化-岭回归\n",
    "from sklearn.linear_model import Ridge\n",
    "model = make_pipeline(GaussianFeatures(30), Ridge(alpha=0.1))\n",
    "\n",
    "basis_plot(model, title='Ridge Regression')"
   ]
  },
  {
   "cell_type": "code",
   "execution_count": null,
   "metadata": {},
   "outputs": [],
   "source": [
    "# 正则化-Lasso回归\n",
    "from sklearn.linear_model import Lasso\n",
    "model = make_pipeline(GaussianFeatures(30), Lasso(alpha=0.001))\n",
    "basis_plot(model, title='Lasso Regression')"
   ]
  }
 ],
 "metadata": {
  "kernelspec": {
   "display_name": "Python 3",
   "language": "python",
   "name": "python3"
  },
  "language_info": {
   "codemirror_mode": {
    "name": "ipython",
    "version": 3
   },
   "file_extension": ".py",
   "mimetype": "text/x-python",
   "name": "python",
   "nbconvert_exporter": "python",
   "pygments_lexer": "ipython3",
   "version": "3.7.4"
  },
  "toc": {
   "base_numbering": 1,
   "nav_menu": {},
   "number_sections": true,
   "sideBar": true,
   "skip_h1_title": false,
   "title_cell": "Table of Contents",
   "title_sidebar": "Contents",
   "toc_cell": false,
   "toc_position": {},
   "toc_section_display": true,
   "toc_window_display": false
  },
  "varInspector": {
   "cols": {
    "lenName": 16,
    "lenType": 16,
    "lenVar": 40
   },
   "kernels_config": {
    "python": {
     "delete_cmd_postfix": "",
     "delete_cmd_prefix": "del ",
     "library": "var_list.py",
     "varRefreshCmd": "print(var_dic_list())"
    },
    "r": {
     "delete_cmd_postfix": ") ",
     "delete_cmd_prefix": "rm(",
     "library": "var_list.r",
     "varRefreshCmd": "cat(var_dic_list()) "
    }
   },
   "types_to_exclude": [
    "module",
    "function",
    "builtin_function_or_method",
    "instance",
    "_Feature"
   ],
   "window_display": false
  }
 },
 "nbformat": 4,
 "nbformat_minor": 2
}
