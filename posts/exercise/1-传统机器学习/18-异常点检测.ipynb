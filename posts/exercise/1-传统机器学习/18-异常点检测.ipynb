{
 "cells": [
  {
   "cell_type": "markdown",
   "metadata": {},
   "source": [
    "# 创建包含异常点的单变量数据集\n"
   ]
  },
  {
   "cell_type": "code",
   "execution_count": 7,
   "metadata": {},
   "outputs": [
    {
     "name": "stdout",
     "output_type": "stream",
     "text": [
      "Mean=(-0.16) and Standard Deviation (1.04)\n"
     ]
    }
   ],
   "source": [
    "import numpy as np\n",
    "import matplotlib.pyplot as plt\n",
    "\n",
    "n_samples = 100\n",
    "fraction_of_outliners = 0.1\n",
    "number_of_inliners = int((1 - fraction_of_outliners) * n_samples)\n",
    "number_of_outliners = n_samples - number_of_inliners\n",
    "\n",
    "normal_data = np.random.randn(number_of_inliners, 1)\n",
    "mean = np.mean(normal_data)\n",
    "std = np.std(normal_data)\n",
    "print('Mean=(%0.2f) and Standard Deviation (%0.2f)' % (mean, std))"
   ]
  },
  {
   "cell_type": "code",
   "execution_count": 8,
   "metadata": {},
   "outputs": [
    {
     "name": "stdout",
     "output_type": "stream",
     "text": [
      "Size of input data=(100,1)\n"
     ]
    }
   ],
   "source": [
    "outlier_data = np.random.uniform(low=-9, high=9, size=(number_of_outliners, 1))\n",
    "total_data = np.r_[normal_data, outlier_data]\n",
    "print('Size of input data=(%d,%d)' % (total_data.shape))"
   ]
  },
  {
   "cell_type": "code",
   "execution_count": 9,
   "metadata": {},
   "outputs": [
    {
     "data": {
      "text/plain": [
       "<matplotlib.collections.PathCollection at 0x16bdcfc96d8>"
      ]
     },
     "execution_count": 9,
     "metadata": {},
     "output_type": "execute_result"
    },
    {
     "data": {
      "image/png": "[encoded data removed]",
      "text/plain": [
       "<matplotlib.figure.Figure at 0x16bdbfa6eb8>"
      ]
     },
     "metadata": {},
     "output_type": "display_data"
    }
   ],
   "source": [
    "plt.cla()\n",
    "plt.figure(1)\n",
    "plt.title('Input Data')\n",
    "plt.scatter(range(len(total_data)), total_data, c='b')"
   ]
  },
  {
   "cell_type": "markdown",
   "metadata": {
    "ExecuteTime": {
     "end_time": "2020-04-11T16:06:05.105754Z",
     "start_time": "2020-04-11T16:06:05.100497Z"
    }
   },
   "source": [
    "# 绝对中位差检查异常点"
   ]
  },
  {
   "cell_type": "code",
   "execution_count": 10,
   "metadata": {},
   "outputs": [
    {
     "name": "stdout",
     "output_type": "stream",
     "text": [
      "Median absolute Deviation=1.04\n",
      "Outlier 4.69\n",
      "Outlier 5.59\n",
      "Outlier -8.27\n",
      "Outlier -4.47\n",
      "Outlier -7.04\n",
      "Outlier 3.50\n"
     ]
    },
    {
     "data": {
      "image/png": "[encoded data removed]",
      "text/plain": [
       "<matplotlib.figure.Figure at 0x16bdd018438>"
      ]
     },
     "metadata": {},
     "output_type": "display_data"
    }
   ],
   "source": [
    "median = np.median(total_data)\n",
    "b = np.sqrt(2)\n",
    "mad = b * np.median(np.abs(total_data - median))\n",
    "outliers = []\n",
    "outlier_index = []\n",
    "print('Median absolute Deviation=%0.2f' % (mad))\n",
    "lower_limit = median - (3 * mad)\n",
    "upper_limit = median + (3 * mad)\n",
    "for i in range(len(total_data)):\n",
    "    if total_data[i] < lower_limit or total_data[i] > upper_limit:\n",
    "        print('Outlier %0.2f' % (total_data[i]))\n",
    "        outliers.append(total_data[i])\n",
    "        outlier_index.append(i)\n",
    "\n",
    "plt.figure(2)\n",
    "plt.title('Outliers using mad')\n",
    "plt.scatter(range(len(total_data)), total_data, c='b')\n",
    "plt.scatter(outlier_index, outliers, c='r')\n",
    "plt.show()"
   ]
  },
  {
   "cell_type": "markdown",
   "metadata": {},
   "source": [
    "# 平均值加减3倍标准差检查异常点\n"
   ]
  },
  {
   "cell_type": "code",
   "execution_count": 11,
   "metadata": {},
   "outputs": [
    {
     "name": "stdout",
     "output_type": "stream",
     "text": [
      "Outlier 5.59\n",
      "Outlier -8.27\n",
      "Outlier -7.04\n"
     ]
    },
    {
     "data": {
      "image/png": "[encoded data removed]",
      "text/plain": [
       "<matplotlib.figure.Figure at 0x16bdd0185f8>"
      ]
     },
     "metadata": {},
     "output_type": "display_data"
    }
   ],
   "source": [
    "std = np.std(total_data)\n",
    "mean = np.mean(total_data)\n",
    "b = 3\n",
    "outliers = []\n",
    "outlier_index = []\n",
    "lower_limit = mean - b * std\n",
    "upper_limit = mean + b * std\n",
    "\n",
    "for i in range(len(total_data)):\n",
    "    if total_data[i] < lower_limit or total_data[i] > upper_limit:\n",
    "        print('Outlier %0.2f' % (total_data[i]))\n",
    "        outliers.append(total_data[i])\n",
    "        outlier_index.append(i)\n",
    "\n",
    "plt.figure(3)\n",
    "plt.title('Outliers using std')\n",
    "plt.scatter(range(len(total_data)), total_data, c='b')\n",
    "plt.scatter(outlier_index, outliers, c='r')\n",
    "plt.savefig('B04041 04 10.png')\n",
    "plt.show()"
   ]
  },
  {
   "cell_type": "markdown",
   "metadata": {},
   "source": [
    "# 局部异常因子(Local Outlier Factor,LOF）检测异常点\n"
   ]
  },
  {
   "cell_type": "code",
   "execution_count": 12,
   "metadata": {},
   "outputs": [
    {
     "data": {
      "text/plain": [
       "(5.0, 2.0)"
      ]
     },
     "execution_count": 12,
     "metadata": {},
     "output_type": "execute_result"
    }
   ],
   "source": [
    "a = [1, 2, 12]\n",
    "np.mean(a), np.median(a)"
   ]
  },
  {
   "cell_type": "code",
   "execution_count": 13,
   "metadata": {},
   "outputs": [],
   "source": [
    "from collections import defaultdict\n",
    "import numpy as np\n",
    "\n",
    "instances = np.matrix([[0, 0], [0, 1], [1, 0], [1, 1], [5, 0]])"
   ]
  },
  {
   "cell_type": "code",
   "execution_count": 14,
   "metadata": {},
   "outputs": [],
   "source": [
    "k = 2\n",
    "distance = 'manhattan'\n",
    "from sklearn.metrics import pairwise_distances\n",
    "dist = pairwise_distances(instances, metric=distance)\n",
    "\n",
    "import heapq\n",
    "k_distance = defaultdict(tuple)\n",
    "for i in range(instances.shape[0]):\n",
    "    distances = dist[i].tolist()\n",
    "    ksmallest = heapq.nsmallest(k + 1, distances)[1:][k - 1]\n",
    "    ksmallest_index = distances.index(ksmallest)\n",
    "    k_distance[i] = (ksmallest, ksmallest_index)"
   ]
  },
  {
   "cell_type": "code",
   "execution_count": 15,
   "metadata": {},
   "outputs": [
    {
     "data": {
      "text/plain": [
       "defaultdict(tuple,\n",
       "            {0: (1.0, 1), 1: (1.0, 0), 2: (1.0, 0), 3: (1.0, 1), 4: (5.0, 0)})"
      ]
     },
     "execution_count": 15,
     "metadata": {},
     "output_type": "execute_result"
    }
   ],
   "source": [
    "k_distance"
   ]
  },
  {
   "cell_type": "code",
   "execution_count": 16,
   "metadata": {},
   "outputs": [
    {
     "name": "stdout",
     "output_type": "stream",
     "text": [
      "All neighbourhood of point 0.00\n",
      "[0.0, 1.0, 1.0, 2.0, 5.0]\n",
      "K neighbourhood of point 0.00\n",
      "[1.0, 1.0]\n",
      "All neighbourhood of point 1.00\n",
      "[1.0, 0.0, 2.0, 1.0, 6.0]\n",
      "K neighbourhood of point 1.00\n",
      "[1.0, 1.0]\n",
      "All neighbourhood of point 2.00\n",
      "[1.0, 2.0, 0.0, 1.0, 4.0]\n",
      "K neighbourhood of point 2.00\n",
      "[1.0, 1.0]\n",
      "All neighbourhood of point 3.00\n",
      "[2.0, 1.0, 1.0, 0.0, 5.0]\n",
      "K neighbourhood of point 3.00\n",
      "[1.0, 1.0]\n",
      "All neighbourhood of point 4.00\n",
      "[5.0, 6.0, 4.0, 5.0, 0.0]\n",
      "K neighbourhood of point 4.00\n",
      "[4.0, 5.0]\n"
     ]
    },
    {
     "data": {
      "text/plain": [
       "defaultdict(list,\n",
       "            {0: [(1.0, 1), (1.0, 2)],\n",
       "             1: [(1.0, 0), (1.0, 3)],\n",
       "             2: [(1.0, 0), (1.0, 3)],\n",
       "             3: [(1.0, 1), (1.0, 2)],\n",
       "             4: [(4.0, 2), (5.0, 0)]})"
      ]
     },
     "execution_count": 16,
     "metadata": {},
     "output_type": "execute_result"
    }
   ],
   "source": [
    "def all_indices(value, inlist):\n",
    "    out_indices = []\n",
    "    idx = -1\n",
    "    while True:\n",
    "        try:\n",
    "            idx = inlist.index(value, idx + 1)\n",
    "            out_indices.append(idx)\n",
    "        except ValueError:\n",
    "            break\n",
    "    return (out_indices)\n",
    "\n",
    "\n",
    "import heapq\n",
    "k_neig = defaultdict(list)\n",
    "for i in range(instances.shape[0]):\n",
    "    distances = dist[i].tolist()\n",
    "    print('All neighbourhood of point %.2f' % (i))\n",
    "    print(distances)\n",
    "    ksmallest = heapq.nsmallest(k + 1, distances)[1:]\n",
    "    print('K neighbourhood of point %.2f' % (i))\n",
    "    print(ksmallest)\n",
    "    ksmallest_set = set(ksmallest)\n",
    "    ksmallest_idx = []\n",
    "    for x in ksmallest_set:\n",
    "        ksmallest_idx.append(all_indices(x, distances))\n",
    "    ksmallest_idx = [item for sublist in ksmallest_idx for item in sublist]\n",
    "    k_neig[i].extend(zip(ksmallest, ksmallest_idx))\n",
    "k_neig"
   ]
  },
  {
   "cell_type": "code",
   "execution_count": 21,
   "metadata": {},
   "outputs": [
    {
     "data": {
      "text/plain": [
       "defaultdict(float, {0: 1.0, 1: 1.0, 2: 1.0, 3: 1.0, 4: 0.2222222222222222})"
      ]
     },
     "execution_count": 21,
     "metadata": {},
     "output_type": "execute_result"
    }
   ],
   "source": [
    "local_reach_density = defaultdict(float)\n",
    "for i in range(instances.shape[0]):\n",
    "    no_neighbours = len(k_neig[i])\n",
    "    denom_sum = 0\n",
    "    for neigh in k_neig[i]:\n",
    "        denom_sum += max(neigh[0], k_distance[neigh[1]][0])\n",
    "    local_reach_density[i] = no_neighbours / (1.0 * denom_sum)\n",
    "\n",
    "local_reach_density"
   ]
  },
  {
   "cell_type": "code",
   "execution_count": 23,
   "metadata": {},
   "outputs": [],
   "source": [
    "lof_list = []\n",
    "for i in range(instances.shape[0]):\n",
    "    lrd_sum = 0\n",
    "    rdist_sum = 0\n",
    "    for neigh in k_neig[i]:\n",
    "        lrd_sum += local_reach_density[neigh[1]]\n",
    "        rdist_sum += max(neigh[0], k_distance[neigh[1]][0])\n",
    "    lof_list.append((i, lrd_sum * rdist_sum))"
   ]
  },
  {
   "cell_type": "code",
   "execution_count": 24,
   "metadata": {},
   "outputs": [
    {
     "data": {
      "text/plain": [
       "[(0, 4.0), (1, 4.0), (2, 4.0), (3, 4.0), (4, 18.0)]"
      ]
     },
     "execution_count": 24,
     "metadata": {},
     "output_type": "execute_result"
    }
   ],
   "source": [
    "lof_list"
   ]
  },
  {
   "cell_type": "code",
   "execution_count": null,
   "metadata": {},
   "outputs": [],
   "source": []
  }
 ],
 "metadata": {
  "kernelspec": {
   "display_name": "Python 3",
   "language": "python",
   "name": "python3"
  },
  "language_info": {
   "codemirror_mode": {
    "name": "ipython",
    "version": 3
   },
   "file_extension": ".py",
   "mimetype": "text/x-python",
   "name": "python",
   "nbconvert_exporter": "python",
   "pygments_lexer": "ipython3",
   "version": "3.7.4"
  },
  "toc": {
   "base_numbering": 1,
   "nav_menu": {},
   "number_sections": true,
   "sideBar": true,
   "skip_h1_title": false,
   "title_cell": "Table of Contents",
   "title_sidebar": "Contents",
   "toc_cell": false,
   "toc_position": {},
   "toc_section_display": true,
   "toc_window_display": true
  },
  "varInspector": {
   "cols": {
    "lenName": 16,
    "lenType": 16,
    "lenVar": 40
   },
   "kernels_config": {
    "python": {
     "delete_cmd_postfix": "",
     "delete_cmd_prefix": "del ",
     "library": "var_list.py",
     "varRefreshCmd": "print(var_dic_list())"
    },
    "r": {
     "delete_cmd_postfix": ") ",
     "delete_cmd_prefix": "rm(",
     "library": "var_list.r",
     "varRefreshCmd": "cat(var_dic_list()) "
    }
   },
   "types_to_exclude": [
    "module",
    "function",
    "builtin_function_or_method",
    "instance",
    "_Feature"
   ],
   "window_display": false
  }
 },
 "nbformat": 4,
 "nbformat_minor": 2
}
