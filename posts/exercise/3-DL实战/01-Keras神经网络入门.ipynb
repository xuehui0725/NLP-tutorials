{
 "cells": [
  {
   "cell_type": "markdown",
   "metadata": {
    "heading_collapsed": true
   },
   "source": [
    "# 电影评论分类：二分类问题"
   ]
  },
  {
   "cell_type": "code",
   "execution_count": 1,
   "metadata": {
    "ExecuteTime": {
     "end_time": "2020-05-12T16:09:05.300410Z",
     "start_time": "2020-05-12T16:09:02.061819Z"
    },
    "hidden": true
   },
   "outputs": [
    {
     "data": {
      "text/plain": [
       "((25000,), (25000,))"
      ]
     },
     "execution_count": 1,
     "metadata": {},
     "output_type": "execute_result"
    }
   ],
   "source": [
    "###### 1. 数据集 ###############################\n",
    "###############################################\n",
    "import tensorflow as tf\n",
    "from tensorflow.keras.datasets import imdb\n",
    "\n",
    "# 将 mnist.npz 和 imdb_word_index.json 文件下载到 ~/.keras/datasets 文件夹中\n",
    "(train_data, train_labels), (test_data,\n",
    "                             test_labels) = imdb.load_data(num_words=10000)\n",
    "\n",
    "# num_words=10000, 仅保留数据集中1000个最常出现的单词\n",
    "\n",
    "train_data.shape, test_data.shape"
   ]
  },
  {
   "cell_type": "code",
   "execution_count": 2,
   "metadata": {
    "ExecuteTime": {
     "end_time": "2020-05-12T16:09:05.303988Z",
     "start_time": "2020-05-12T16:09:05.301572Z"
    },
    "hidden": true
   },
   "outputs": [
    {
     "data": {
      "text/plain": [
       "[1, 14, 22, 16, 43, 530, 973, 1622, 1385, 65]"
      ]
     },
     "execution_count": 2,
     "metadata": {},
     "output_type": "execute_result"
    }
   ],
   "source": [
    "# 训练数据\n",
    "train_data[0][:10]"
   ]
  },
  {
   "cell_type": "code",
   "execution_count": 3,
   "metadata": {
    "ExecuteTime": {
     "end_time": "2020-05-12T16:09:05.307229Z",
     "start_time": "2020-05-12T16:09:05.304986Z"
    },
    "hidden": true
   },
   "outputs": [
    {
     "data": {
      "text/plain": [
       "1"
      ]
     },
     "execution_count": 3,
     "metadata": {},
     "output_type": "execute_result"
    }
   ],
   "source": [
    "# 训练标签\n",
    "train_labels[0]"
   ]
  },
  {
   "cell_type": "code",
   "execution_count": 4,
   "metadata": {
    "ExecuteTime": {
     "end_time": "2020-05-12T16:09:05.347609Z",
     "start_time": "2020-05-12T16:09:05.308079Z"
    },
    "hidden": true
   },
   "outputs": [
    {
     "data": {
      "text/plain": [
       "\"? this film was just brilliant casting location scenery story direction everyone's really suited the\""
      ]
     },
     "execution_count": 4,
     "metadata": {},
     "output_type": "execute_result"
    }
   ],
   "source": [
    "# 原始文本\n",
    "\n",
    "word_index = imdb.get_word_index()\n",
    "reverse_word_index = dict([(value, key)\n",
    "                           for (key, value) in word_index.items()])\n",
    "decoded_review = ' '.join(\n",
    "    reverse_word_index.get(i - 3, '?') for i in train_data[0])\n",
    "\n",
    "decoded_review[:100]"
   ]
  },
  {
   "cell_type": "code",
   "execution_count": 5,
   "metadata": {
    "ExecuteTime": {
     "end_time": "2020-05-12T16:09:06.356174Z",
     "start_time": "2020-05-12T16:09:05.348503Z"
    },
    "hidden": true
   },
   "outputs": [
    {
     "data": {
      "text/plain": [
       "(25000, 10000)"
      ]
     },
     "execution_count": 5,
     "metadata": {},
     "output_type": "execute_result"
    }
   ],
   "source": [
    "###### 2. 数据标准化 ############################\n",
    "###############################################\n",
    "import numpy as np\n",
    "\n",
    "\n",
    "# one-hot 向量，\n",
    "def vectorize_sequences(sequences, dimension=10000):\n",
    "    results = np.zeros((len(sequences), dimension))\n",
    "    for i, sequence in enumerate(sequences):\n",
    "        results[i, sequence] = 1.\n",
    "    return (results)\n",
    "\n",
    "\n",
    "x_train = vectorize_sequences(train_data)\n",
    "x_test = vectorize_sequences(test_data)\n",
    "\n",
    "y_train = np.asarray(train_labels).astype('float32')\n",
    "y_test = np.asarray(test_labels).astype('float32')\n",
    "\n",
    "x_train.shape"
   ]
  },
  {
   "cell_type": "code",
   "execution_count": 6,
   "metadata": {
    "ExecuteTime": {
     "end_time": "2020-05-12T16:09:06.929527Z",
     "start_time": "2020-05-12T16:09:06.357516Z"
    },
    "hidden": true
   },
   "outputs": [],
   "source": [
    "###### 3. 构建网络 #############################\n",
    "###############################################\n",
    "# 两个中间层，每层16个神经元，使用 relu 激活函数\n",
    "# 第三层输出标量，预测结果，使用 sigmoid 激活函数\n",
    "\n",
    "from tensorflow.keras import models\n",
    "from tensorflow.keras import layers\n",
    "\n",
    "model = models.Sequential()\n",
    "model.add(layers.Dense(16, activation='relu', input_shape=(10000, )))\n",
    "model.add(layers.Dense(16, activation='relu'))\n",
    "model.add(layers.Dense(1, activation='sigmoid'))\n",
    "\n",
    "model.compile(optimizer='rmsprop',\n",
    "              loss='binary_crossentropy',\n",
    "              metrics=['accuracy'])"
   ]
  },
  {
   "cell_type": "code",
   "execution_count": 7,
   "metadata": {
    "ExecuteTime": {
     "end_time": "2020-05-12T16:09:20.236182Z",
     "start_time": "2020-05-12T16:09:06.930686Z"
    },
    "hidden": true
   },
   "outputs": [
    {
     "name": "stdout",
     "output_type": "stream",
     "text": [
      "Train on 15000 samples, validate on 10000 samples\n",
      "Epoch 1/20\n",
      "15000/15000 - 1s - loss: 0.5171 - accuracy: 0.7896 - val_loss: 0.4010 - val_accuracy: 0.8671\n",
      "Epoch 2/20\n",
      "15000/15000 - 1s - loss: 0.3197 - accuracy: 0.9025 - val_loss: 0.3149 - val_accuracy: 0.8894\n",
      "Epoch 3/20\n",
      "15000/15000 - 1s - loss: 0.2330 - accuracy: 0.9266 - val_loss: 0.2940 - val_accuracy: 0.8842\n",
      "Epoch 4/20\n",
      "15000/15000 - 1s - loss: 0.1833 - accuracy: 0.9422 - val_loss: 0.2778 - val_accuracy: 0.8895\n",
      "Epoch 5/20\n",
      "15000/15000 - 1s - loss: 0.1476 - accuracy: 0.9550 - val_loss: 0.2780 - val_accuracy: 0.8890\n",
      "Epoch 6/20\n",
      "15000/15000 - 1s - loss: 0.1246 - accuracy: 0.9633 - val_loss: 0.2912 - val_accuracy: 0.8845\n",
      "Epoch 7/20\n",
      "15000/15000 - 1s - loss: 0.1026 - accuracy: 0.9706 - val_loss: 0.3067 - val_accuracy: 0.8852\n",
      "Epoch 8/20\n",
      "15000/15000 - 1s - loss: 0.0857 - accuracy: 0.9765 - val_loss: 0.3203 - val_accuracy: 0.8833\n",
      "Epoch 9/20\n",
      "15000/15000 - 1s - loss: 0.0706 - accuracy: 0.9819 - val_loss: 0.3427 - val_accuracy: 0.8797\n",
      "Epoch 10/20\n",
      "15000/15000 - 1s - loss: 0.0582 - accuracy: 0.9861 - val_loss: 0.3662 - val_accuracy: 0.8793\n",
      "Epoch 11/20\n",
      "15000/15000 - 1s - loss: 0.0471 - accuracy: 0.9891 - val_loss: 0.4036 - val_accuracy: 0.8742\n",
      "Epoch 12/20\n",
      "15000/15000 - 1s - loss: 0.0365 - accuracy: 0.9930 - val_loss: 0.4570 - val_accuracy: 0.8699\n",
      "Epoch 13/20\n",
      "15000/15000 - 1s - loss: 0.0321 - accuracy: 0.9937 - val_loss: 0.4515 - val_accuracy: 0.8735\n",
      "Epoch 14/20\n",
      "15000/15000 - 1s - loss: 0.0224 - accuracy: 0.9971 - val_loss: 0.4843 - val_accuracy: 0.8727\n",
      "Epoch 15/20\n",
      "15000/15000 - 1s - loss: 0.0175 - accuracy: 0.9980 - val_loss: 0.5296 - val_accuracy: 0.8702\n",
      "Epoch 16/20\n",
      "15000/15000 - 1s - loss: 0.0145 - accuracy: 0.9981 - val_loss: 0.5574 - val_accuracy: 0.8693\n",
      "Epoch 17/20\n",
      "15000/15000 - 1s - loss: 0.0130 - accuracy: 0.9979 - val_loss: 0.5895 - val_accuracy: 0.8669\n",
      "Epoch 18/20\n",
      "15000/15000 - 1s - loss: 0.0074 - accuracy: 0.9997 - val_loss: 0.6435 - val_accuracy: 0.8653\n",
      "Epoch 19/20\n",
      "15000/15000 - 1s - loss: 0.0113 - accuracy: 0.9977 - val_loss: 0.6493 - val_accuracy: 0.8670\n",
      "Epoch 20/20\n",
      "15000/15000 - 1s - loss: 0.0040 - accuracy: 0.9999 - val_loss: 0.6803 - val_accuracy: 0.8635\n"
     ]
    }
   ],
   "source": [
    "###### 4. 训练模型 #############################\n",
    "###############################################\n",
    "\n",
    "x_val = x_train[:10000]\n",
    "partial_x_train = x_train[10000:]\n",
    "\n",
    "y_val = y_train[:10000]\n",
    "partial_y_train = y_train[10000:]\n",
    "\n",
    "history = model.fit(partial_x_train,\n",
    "                    partial_y_train,\n",
    "                    epochs=20,\n",
    "                    batch_size=512,\n",
    "                    verbose=2,\n",
    "                    validation_data=(x_val, y_val))"
   ]
  },
  {
   "cell_type": "code",
   "execution_count": 8,
   "metadata": {
    "ExecuteTime": {
     "end_time": "2020-05-12T16:09:20.660914Z",
     "start_time": "2020-05-12T16:09:20.237108Z"
    },
    "hidden": true
   },
   "outputs": [
    {
     "data": {
      "image/png": "[encoded data removed]",
      "text/plain": [
       "<Figure size 720x360 with 2 Axes>"
      ]
     },
     "metadata": {
      "needs_background": "light"
     },
     "output_type": "display_data"
    }
   ],
   "source": [
    "###### 5. 检查训练过程 ##########################\n",
    "###############################################\n",
    "\n",
    "import matplotlib.pyplot as plt\n",
    "\n",
    "acc = history.history['accuracy']\n",
    "val_acc = history.history['val_accuracy']\n",
    "loss = history.history['loss']\n",
    "val_loss = history.history['val_loss']\n",
    "\n",
    "epochs = range(1, len(acc) + 1)\n",
    "f, axes = plt.subplots(1, 2, figsize=(10, 5))\n",
    "\n",
    "axes[0].plot(epochs, loss, 'bo', label='Training loss')\n",
    "axes[0].plot(epochs, val_loss, 'b', label='Validation loss')\n",
    "axes[0].set_title('Training and validation loss')\n",
    "axes[0].set_xlabel('Epochs')\n",
    "axes[0].set_ylabel('Loss')\n",
    "axes[0].legend()\n",
    "\n",
    "axes[1].plot(epochs, acc, 'bo', label='Training acc')\n",
    "axes[1].plot(epochs, val_acc, 'b', label='Validation acc')\n",
    "axes[1].set_title('Training and validation acc')\n",
    "axes[1].set_xlabel('Epochs')\n",
    "axes[1].set_ylabel('acc')\n",
    "axes[1].legend()\n",
    "\n",
    "plt.show()\n",
    "\n",
    "# 从图中可知，模型过拟合"
   ]
  },
  {
   "cell_type": "code",
   "execution_count": null,
   "metadata": {},
   "outputs": [],
   "source": []
  },
  {
   "cell_type": "code",
   "execution_count": null,
   "metadata": {
    "hidden": true
   },
   "outputs": [],
   "source": []
  },
  {
   "cell_type": "markdown",
   "metadata": {},
   "source": [
    "# 新闻分类：多分类问题"
   ]
  },
  {
   "cell_type": "code",
   "execution_count": 9,
   "metadata": {
    "ExecuteTime": {
     "end_time": "2020-05-12T16:09:20.663828Z",
     "start_time": "2020-05-12T16:09:20.661879Z"
    }
   },
   "outputs": [],
   "source": [
    "import tensorflow as tf\n",
    "import numpy as np\n",
    "import matplotlib.pyplot as plt\n",
    "from tensorflow.keras.datasets import reuters"
   ]
  },
  {
   "cell_type": "code",
   "execution_count": 10,
   "metadata": {
    "ExecuteTime": {
     "end_time": "2020-05-12T16:09:21.042494Z",
     "start_time": "2020-05-12T16:09:20.664755Z"
    }
   },
   "outputs": [
    {
     "data": {
      "text/plain": [
       "((8982,), (8982,))"
      ]
     },
     "execution_count": 10,
     "metadata": {},
     "output_type": "execute_result"
    }
   ],
   "source": [
    "###### 1. 数据集 ###############################\n",
    "###############################################\n",
    "(train_data, train_labels), (test_data,\n",
    "                             test_labels) = reuters.load_data(num_words=10000)\n",
    "\n",
    "train_data.shape, train_labels.shape"
   ]
  },
  {
   "cell_type": "code",
   "execution_count": 11,
   "metadata": {
    "ExecuteTime": {
     "end_time": "2020-05-12T16:09:21.065160Z",
     "start_time": "2020-05-12T16:09:21.043354Z"
    }
   },
   "outputs": [
    {
     "data": {
      "text/plain": [
       "'? ? ? said as a result of its december acquisition of space co it expects earnings per share in 1987 of 1 15 to 1 30 dlrs per share up from 70 cts in 1986 the company said pretax net should rise to nine to 10 mln dlrs from six mln dlrs in 1986 and rental operation revenues to 19 to 22 mln dlrs from 12 5 mln dlrs it said cash flow per share this year should be 2 50 to three dlrs reuter 3'"
      ]
     },
     "execution_count": 11,
     "metadata": {},
     "output_type": "execute_result"
    }
   ],
   "source": [
    "# 原始文本\n",
    "word_index = reuters.get_word_index()\n",
    "reversed_word_index = dict([(value, key)\n",
    "                            for (key, value) in word_index.items()])\n",
    "decoded_news = ' '.join(\n",
    "    [reversed_word_index.get(i - 3, '?') for i in train_data[0]])\n",
    "\n",
    "decoded_news"
   ]
  },
  {
   "cell_type": "code",
   "execution_count": 12,
   "metadata": {
    "ExecuteTime": {
     "end_time": "2020-05-12T16:09:21.260440Z",
     "start_time": "2020-05-12T16:09:21.066058Z"
    }
   },
   "outputs": [
    {
     "data": {
      "text/plain": [
       "((8982, 10000), (2246, 10000))"
      ]
     },
     "execution_count": 12,
     "metadata": {},
     "output_type": "execute_result"
    }
   ],
   "source": [
    "###### 2. 数据标准化 ############################\n",
    "###############################################\n",
    "\n",
    "# 每个文档转化成，词汇表大小的向量\n",
    "def vectorize_sequences(sequences, dimension=10000):\n",
    "    results = np.zeros((len(sequences), dimension))\n",
    "    for i, sequence in enumerate(sequences):\n",
    "        results[i, sequence] = 1.\n",
    "    return (results)\n",
    "\n",
    "\n",
    "x_train = vectorize_sequences(train_data)\n",
    "x_test = vectorize_sequences(test_data)\n",
    "x_train.shape, x_test.shape"
   ]
  },
  {
   "cell_type": "code",
   "execution_count": 13,
   "metadata": {
    "ExecuteTime": {
     "end_time": "2020-05-12T16:09:21.266552Z",
     "start_time": "2020-05-12T16:09:21.261390Z"
    }
   },
   "outputs": [
    {
     "data": {
      "text/plain": [
       "(8982, 46)"
      ]
     },
     "execution_count": 13,
     "metadata": {},
     "output_type": "execute_result"
    }
   ],
   "source": [
    "def to_one_hot(labels, dimension=46):\n",
    "    results = np.zeros((len(labels), dimension))\n",
    "    for i, label in enumerate(labels):\n",
    "        results[i, label] = 1.\n",
    "    return (results)\n",
    "\n",
    "\n",
    "# 标签 one-hot 向量\n",
    "one_hot_train_labels = to_one_hot(train_labels)\n",
    "one_hot_test_labels = to_one_hot(test_labels)\n",
    "\n",
    "# 46 分类问题\n",
    "one_hot_train_labels.shape"
   ]
  },
  {
   "cell_type": "code",
   "execution_count": 14,
   "metadata": {
    "ExecuteTime": {
     "end_time": "2020-05-12T16:09:21.305909Z",
     "start_time": "2020-05-12T16:09:21.267362Z"
    }
   },
   "outputs": [],
   "source": [
    "###### 3. 构建模型 #############################\n",
    "###############################################\n",
    "from tensorflow.keras import models\n",
    "from tensorflow.keras import layers\n",
    "\n",
    "model = models.Sequential()\n",
    "model.add(layers.Dense(64, activation='relu', input_shape=(10000, )))\n",
    "model.add(layers.Dense(64, activation='relu'))\n",
    "model.add(layers.Dense(46, activation='softmax'))\n",
    "\n",
    "model.compile(optimizer='rmsprop',\n",
    "              loss='categorical_crossentropy',\n",
    "              metrics=['accuracy'])"
   ]
  },
  {
   "cell_type": "code",
   "execution_count": 15,
   "metadata": {
    "ExecuteTime": {
     "end_time": "2020-05-12T16:09:27.313604Z",
     "start_time": "2020-05-12T16:09:21.306657Z"
    },
    "scrolled": true
   },
   "outputs": [
    {
     "name": "stdout",
     "output_type": "stream",
     "text": [
      "Train on 7982 samples, validate on 1000 samples\n",
      "Epoch 1/20\n",
      "7982/7982 [==============================] - 1s 82us/sample - loss: 2.6289 - accuracy: 0.4961 - val_loss: 1.7985 - val_accuracy: 0.6400\n",
      "Epoch 2/20\n",
      "7982/7982 [==============================] - 0s 33us/sample - loss: 1.4465 - accuracy: 0.6982 - val_loss: 1.3437 - val_accuracy: 0.6990\n",
      "Epoch 3/20\n",
      "7982/7982 [==============================] - 0s 33us/sample - loss: 1.0765 - accuracy: 0.7686 - val_loss: 1.1705 - val_accuracy: 0.7320\n",
      "Epoch 4/20\n",
      "7982/7982 [==============================] - 0s 33us/sample - loss: 0.8446 - accuracy: 0.8166 - val_loss: 1.0647 - val_accuracy: 0.7740\n",
      "Epoch 5/20\n",
      "7982/7982 [==============================] - 0s 32us/sample - loss: 0.6721 - accuracy: 0.8559 - val_loss: 0.9581 - val_accuracy: 0.8050\n",
      "Epoch 6/20\n",
      "7982/7982 [==============================] - 0s 33us/sample - loss: 0.5368 - accuracy: 0.8869 - val_loss: 0.9279 - val_accuracy: 0.8090\n",
      "Epoch 7/20\n",
      "7982/7982 [==============================] - 0s 33us/sample - loss: 0.4283 - accuracy: 0.9082 - val_loss: 0.8813 - val_accuracy: 0.8170\n",
      "Epoch 8/20\n",
      "7982/7982 [==============================] - 0s 33us/sample - loss: 0.3457 - accuracy: 0.9268 - val_loss: 0.8863 - val_accuracy: 0.8180\n",
      "Epoch 9/20\n",
      "7982/7982 [==============================] - 0s 33us/sample - loss: 0.2855 - accuracy: 0.9366 - val_loss: 0.8760 - val_accuracy: 0.8280\n",
      "Epoch 10/20\n",
      "7982/7982 [==============================] - 0s 33us/sample - loss: 0.2381 - accuracy: 0.9446 - val_loss: 0.8988 - val_accuracy: 0.8180\n",
      "Epoch 11/20\n",
      "7982/7982 [==============================] - 0s 32us/sample - loss: 0.2074 - accuracy: 0.9480 - val_loss: 0.9052 - val_accuracy: 0.8180\n",
      "Epoch 12/20\n",
      "7982/7982 [==============================] - 0s 34us/sample - loss: 0.1820 - accuracy: 0.9523 - val_loss: 0.9185 - val_accuracy: 0.8130\n",
      "Epoch 13/20\n",
      "7982/7982 [==============================] - 0s 33us/sample - loss: 0.1619 - accuracy: 0.9535 - val_loss: 0.9632 - val_accuracy: 0.8100\n",
      "Epoch 14/20\n",
      "7982/7982 [==============================] - 0s 34us/sample - loss: 0.1527 - accuracy: 0.9554 - val_loss: 0.9759 - val_accuracy: 0.8050\n",
      "Epoch 15/20\n",
      "7982/7982 [==============================] - 0s 33us/sample - loss: 0.1360 - accuracy: 0.9568 - val_loss: 1.0156 - val_accuracy: 0.8060\n",
      "Epoch 16/20\n",
      "7982/7982 [==============================] - 0s 33us/sample - loss: 0.1335 - accuracy: 0.9549 - val_loss: 0.9932 - val_accuracy: 0.8170\n",
      "Epoch 17/20\n",
      "7982/7982 [==============================] - 0s 33us/sample - loss: 0.1261 - accuracy: 0.9565 - val_loss: 1.0069 - val_accuracy: 0.8160\n",
      "Epoch 18/20\n",
      "7982/7982 [==============================] - 0s 33us/sample - loss: 0.1192 - accuracy: 0.9584 - val_loss: 1.0555 - val_accuracy: 0.7990\n",
      "Epoch 19/20\n",
      "7982/7982 [==============================] - 0s 33us/sample - loss: 0.1135 - accuracy: 0.9592 - val_loss: 1.0687 - val_accuracy: 0.8060\n",
      "Epoch 20/20\n",
      "7982/7982 [==============================] - 0s 33us/sample - loss: 0.1107 - accuracy: 0.9578 - val_loss: 1.0560 - val_accuracy: 0.8090\n"
     ]
    }
   ],
   "source": [
    "###### 4. 训练模型 ##############################\n",
    "###############################################\n",
    "x_val = x_train[:1000]\n",
    "partial_x_train = x_train[1000:]\n",
    "\n",
    "y_val = one_hot_train_labels[:1000]\n",
    "partial_y_train = one_hot_train_labels[1000:]\n",
    "\n",
    "history = model.fit(partial_x_train,\n",
    "                    partial_y_train,\n",
    "                    epochs=20,\n",
    "                    batch_size=512,\n",
    "                    validation_data=(x_val, y_val))"
   ]
  },
  {
   "cell_type": "code",
   "execution_count": 16,
   "metadata": {
    "ExecuteTime": {
     "end_time": "2020-05-12T16:09:27.398069Z",
     "start_time": "2020-05-12T16:09:27.314553Z"
    }
   },
   "outputs": [
    {
     "data": {
      "image/png": "[encoded data removed]",
      "text/plain": [
       "<Figure size 432x288 with 1 Axes>"
      ]
     },
     "metadata": {
      "needs_background": "light"
     },
     "output_type": "display_data"
    }
   ],
   "source": [
    "###### 5. 查看模型训练过程 #######################\n",
    "###############################################\n",
    "loss = history.history['loss']\n",
    "val_loss = history.history['val_loss']\n",
    "\n",
    "epochs = range(1, len(loss) + 1)\n",
    "\n",
    "plt.plot(epochs, loss, 'bo', label='Training loss')\n",
    "plt.plot(epochs, val_loss, 'b', label='Validation loss')\n",
    "plt.xlabel('Epochs')\n",
    "plt.ylabel('Loss')\n",
    "plt.legend()\n",
    "plt.show()"
   ]
  },
  {
   "cell_type": "code",
   "execution_count": 17,
   "metadata": {
    "ExecuteTime": {
     "end_time": "2020-05-12T16:09:27.482378Z",
     "start_time": "2020-05-12T16:09:27.398996Z"
    }
   },
   "outputs": [
    {
     "data": {
      "image/png": "[encoded data removed]",
      "text/plain": [
       "<Figure size 432x288 with 1 Axes>"
      ]
     },
     "metadata": {
      "needs_background": "light"
     },
     "output_type": "display_data"
    }
   ],
   "source": [
    "plt.clf()\n",
    "\n",
    "acc = history.history['accuracy']\n",
    "val_acc = history.history['val_accuracy']\n",
    "\n",
    "plt.plot(epochs, acc, 'bo', label='Training accuracy')\n",
    "plt.plot(epochs, val_acc, 'b', label='Validation accuracy')\n",
    "plt.xlabel('Epochs')\n",
    "plt.ylabel('Accuracy')\n",
    "\n",
    "plt.legend()\n",
    "plt.show()"
   ]
  },
  {
   "cell_type": "code",
   "execution_count": 18,
   "metadata": {
    "ExecuteTime": {
     "end_time": "2020-05-12T16:09:30.463105Z",
     "start_time": "2020-05-12T16:09:27.484256Z"
    }
   },
   "outputs": [
    {
     "name": "stdout",
     "output_type": "stream",
     "text": [
      "Train on 7982 samples, validate on 1000 samples\n",
      "Epoch 1/9\n",
      "7982/7982 [==============================] - 1s 73us/sample - loss: 2.6269 - accuracy: 0.5356 - val_loss: 1.7016 - val_accuracy: 0.6590\n",
      "Epoch 2/9\n",
      "7982/7982 [==============================] - 0s 32us/sample - loss: 1.3993 - accuracy: 0.7196 - val_loss: 1.2797 - val_accuracy: 0.7290\n",
      "Epoch 3/9\n",
      "7982/7982 [==============================] - 0s 33us/sample - loss: 1.0312 - accuracy: 0.7830 - val_loss: 1.1086 - val_accuracy: 0.7680\n",
      "Epoch 4/9\n",
      "7982/7982 [==============================] - 0s 32us/sample - loss: 0.8004 - accuracy: 0.8305 - val_loss: 1.0102 - val_accuracy: 0.7860\n",
      "Epoch 5/9\n",
      "7982/7982 [==============================] - 0s 33us/sample - loss: 0.6353 - accuracy: 0.8659 - val_loss: 0.9234 - val_accuracy: 0.8060\n",
      "Epoch 6/9\n",
      "7982/7982 [==============================] - 0s 33us/sample - loss: 0.4989 - accuracy: 0.8981 - val_loss: 0.8800 - val_accuracy: 0.8120\n",
      "Epoch 7/9\n",
      "7982/7982 [==============================] - 0s 33us/sample - loss: 0.4053 - accuracy: 0.9158 - val_loss: 0.8879 - val_accuracy: 0.8060\n",
      "Epoch 8/9\n",
      "7982/7982 [==============================] - 0s 32us/sample - loss: 0.3299 - accuracy: 0.9311 - val_loss: 0.8708 - val_accuracy: 0.8130\n",
      "Epoch 9/9\n",
      "7982/7982 [==============================] - 0s 33us/sample - loss: 0.2703 - accuracy: 0.9381 - val_loss: 0.8669 - val_accuracy: 0.8240\n"
     ]
    },
    {
     "data": {
      "text/plain": [
       "<tensorflow.python.keras.callbacks.History at 0x7fd5afd42110>"
      ]
     },
     "execution_count": 18,
     "metadata": {},
     "output_type": "execute_result"
    }
   ],
   "source": [
    "###### 6. 优化模型 #######################\n",
    "###############################################\n",
    "# 从上一步分析可知，模型在训练第9轮后开始过拟合，新模型共9个轮次\n",
    "\n",
    "model = models.Sequential()\n",
    "model.add(layers.Dense(64, activation='relu', input_shape=(10000, )))\n",
    "model.add(layers.Dense(64, activation='relu'))\n",
    "model.add(layers.Dense(46, activation='softmax'))\n",
    "\n",
    "model.compile(optimizer='rmsprop',\n",
    "              loss='categorical_crossentropy',\n",
    "              metrics=['accuracy'])\n",
    "\n",
    "model.fit(partial_x_train,\n",
    "          partial_y_train,\n",
    "          epochs=9,\n",
    "          batch_size=512,\n",
    "          validation_data=(x_val, y_val))"
   ]
  },
  {
   "cell_type": "code",
   "execution_count": 19,
   "metadata": {
    "ExecuteTime": {
     "end_time": "2020-05-12T16:09:30.684314Z",
     "start_time": "2020-05-12T16:09:30.464327Z"
    }
   },
   "outputs": [
    {
     "data": {
      "text/plain": [
       "[0.9690361220392922, 0.7907391]"
      ]
     },
     "execution_count": 19,
     "metadata": {},
     "output_type": "execute_result"
    }
   ],
   "source": [
    "###### 7. 验证模型 #######################\n",
    "###############################################\n",
    "\n",
    "results = model.evaluate(x_test, one_hot_test_labels, verbose=0)\n",
    "results"
   ]
  },
  {
   "cell_type": "code",
   "execution_count": null,
   "metadata": {},
   "outputs": [],
   "source": []
  },
  {
   "cell_type": "code",
   "execution_count": 20,
   "metadata": {
    "ExecuteTime": {
     "end_time": "2020-05-12T16:09:30.874666Z",
     "start_time": "2020-05-12T16:09:30.685113Z"
    }
   },
   "outputs": [
    {
     "data": {
      "text/plain": [
       "array([1.0336036e-03, 4.8208452e-04, 1.9767179e-04, 7.5442469e-01,\n",
       "       2.0559447e-01, 1.5529558e-04, 4.1876399e-05, 4.6892770e-04,\n",
       "       7.6320474e-03, 4.0857031e-04, 6.3446542e-04, 3.7261362e-03,\n",
       "       2.1986533e-03, 2.1254749e-04, 1.7935918e-04, 1.6657845e-04,\n",
       "       5.0199302e-03, 2.4665252e-04, 1.5899650e-04, 2.7954245e-03,\n",
       "       5.0903852e-03, 7.3358015e-04, 4.0157832e-04, 7.5854827e-05,\n",
       "       4.9616920e-04, 3.3880264e-04, 7.5204829e-05, 1.2921463e-03,\n",
       "       2.5830037e-04, 1.1150693e-03, 1.1767257e-03, 4.3231438e-04,\n",
       "       1.2131906e-04, 1.3642397e-05, 1.1687732e-04, 2.0529654e-04,\n",
       "       1.1658194e-03, 5.5969304e-05, 9.8755001e-05, 4.0920320e-04,\n",
       "       1.4301970e-04, 1.9611442e-04, 4.7746053e-05, 7.0409485e-05,\n",
       "       7.5586344e-05, 1.6051599e-05], dtype=float32)"
      ]
     },
     "execution_count": 20,
     "metadata": {},
     "output_type": "execute_result"
    }
   ],
   "source": [
    "###### 8. 模型进行预测 #######################\n",
    "###############################################\n",
    "\n",
    "predictions = model.predict(x_test)\n",
    "\n",
    "# 模型输出为概率分布，最大索引得到预测标签\n",
    "predictions[0]"
   ]
  },
  {
   "cell_type": "code",
   "execution_count": 21,
   "metadata": {
    "ExecuteTime": {
     "end_time": "2020-05-12T16:09:30.877868Z",
     "start_time": "2020-05-12T16:09:30.875535Z"
    }
   },
   "outputs": [
    {
     "data": {
      "text/plain": [
       "(3, 3)"
      ]
     },
     "execution_count": 21,
     "metadata": {},
     "output_type": "execute_result"
    }
   ],
   "source": [
    "# 模型输出为概率分布，最大概率的索引为 预测标签\n",
    "np.argmax(predictions[0]), np.argmax(one_hot_test_labels[0])"
   ]
  },
  {
   "cell_type": "code",
   "execution_count": null,
   "metadata": {},
   "outputs": [],
   "source": []
  },
  {
   "cell_type": "markdown",
   "metadata": {},
   "source": [
    "# 波士顿房价数据集：回归问题"
   ]
  },
  {
   "cell_type": "code",
   "execution_count": 22,
   "metadata": {
    "ExecuteTime": {
     "end_time": "2020-05-12T16:09:30.890577Z",
     "start_time": "2020-05-12T16:09:30.878518Z"
    }
   },
   "outputs": [],
   "source": [
    "###### 1. 数据集 ################################\n",
    "###############################################\n",
    "\n",
    "from tensorflow.keras.datasets import boston_housing\n",
    "\n",
    "(train_data, train_targets), (test_data,\n",
    "                              test_targets) = boston_housing.load_data()"
   ]
  },
  {
   "cell_type": "code",
   "execution_count": 23,
   "metadata": {
    "ExecuteTime": {
     "end_time": "2020-05-12T16:09:30.893445Z",
     "start_time": "2020-05-12T16:09:30.891300Z"
    }
   },
   "outputs": [
    {
     "data": {
      "text/plain": [
       "((404, 13), (102, 13))"
      ]
     },
     "execution_count": 23,
     "metadata": {},
     "output_type": "execute_result"
    }
   ],
   "source": [
    "train_data.shape, test_data.shape"
   ]
  },
  {
   "cell_type": "code",
   "execution_count": 24,
   "metadata": {
    "ExecuteTime": {
     "end_time": "2020-05-12T16:09:30.897039Z",
     "start_time": "2020-05-12T16:09:30.894197Z"
    }
   },
   "outputs": [
    {
     "data": {
      "text/plain": [
       "array([15.2, 42.3, 50. , 21.1, 17.7, 18.5, 11.3, 15.6, 15.6, 14.4])"
      ]
     },
     "execution_count": 24,
     "metadata": {},
     "output_type": "execute_result"
    }
   ],
   "source": [
    "train_targets[:10]"
   ]
  },
  {
   "cell_type": "code",
   "execution_count": 25,
   "metadata": {
    "ExecuteTime": {
     "end_time": "2020-05-12T16:09:30.900497Z",
     "start_time": "2020-05-12T16:09:30.897754Z"
    }
   },
   "outputs": [],
   "source": [
    "###### 2. 数据标准化 #############################\n",
    "###############################################\n",
    "\n",
    "# 数据标准化\n",
    "mean = train_data.mean(axis=0)\n",
    "train_data -= mean\n",
    "std = train_data.std(axis=0)\n",
    "train_data /= std\n",
    "\n",
    "test_data -= mean\n",
    "test_data /= std"
   ]
  },
  {
   "cell_type": "code",
   "execution_count": 26,
   "metadata": {
    "ExecuteTime": {
     "end_time": "2020-05-12T16:09:30.904236Z",
     "start_time": "2020-05-12T16:09:30.901237Z"
    }
   },
   "outputs": [
    {
     "data": {
      "text/plain": [
       "array([-0.27224633, -0.48361547, -0.43576161, -0.25683275, -0.1652266 ,\n",
       "       -0.1764426 ,  0.81306188,  0.1166983 , -0.62624905, -0.59517003,\n",
       "        1.14850044,  0.44807713,  0.8252202 ])"
      ]
     },
     "execution_count": 26,
     "metadata": {},
     "output_type": "execute_result"
    }
   ],
   "source": [
    "train_data[0]"
   ]
  },
  {
   "cell_type": "code",
   "execution_count": 27,
   "metadata": {
    "ExecuteTime": {
     "end_time": "2020-05-12T16:09:30.907757Z",
     "start_time": "2020-05-12T16:09:30.904870Z"
    }
   },
   "outputs": [],
   "source": [
    "###### 3. 构建模型 ###############################\n",
    "###############################################\n",
    "from tensorflow.keras import models\n",
    "from tensorflow.keras import layers\n",
    "\n",
    "\n",
    "def build_model():\n",
    "    model = models.Sequential()\n",
    "    model.add(\n",
    "        layers.Dense(64,\n",
    "                     activation='relu',\n",
    "                     input_shape=(train_data.shape[1], )))\n",
    "    model.add(layers.Dense(64, activation='relu'))\n",
    "    model.add(layers.Dense(1))\n",
    "    model.compile(optimizer='rmsprop', loss='mse', metrics=['mae'])\n",
    "    return (model)"
   ]
  },
  {
   "cell_type": "code",
   "execution_count": 28,
   "metadata": {
    "ExecuteTime": {
     "end_time": "2020-05-12T16:11:34.314366Z",
     "start_time": "2020-05-12T16:09:30.908453Z"
    }
   },
   "outputs": [
    {
     "name": "stdout",
     "output_type": "stream",
     "text": [
      "processing fold # 0\n",
      "processing fold # 1\n",
      "processing fold # 2\n",
      "processing fold # 3\n"
     ]
    }
   ],
   "source": [
    "###### 4. 训练模型 ###############################\n",
    "###############################################\n",
    "\n",
    "# 用K折验证法来训练模型\n",
    "\n",
    "import numpy as np\n",
    "k = 4\n",
    "num_val_samples = len(train_data) // k\n",
    "num_epochs = 100\n",
    "all_scores = []\n",
    "\n",
    "for i in range(k):\n",
    "    print('processing fold #', i)\n",
    "    val_data = train_data[i * num_val_samples:(i + 1) * num_val_samples]\n",
    "    val_targets = train_targets[i * num_val_samples:(i + 1) * num_val_samples]\n",
    "\n",
    "    partial_train_data = np.concatenate([\n",
    "        train_data[:i * num_val_samples],\n",
    "        train_data[(i + 1) * num_val_samples:]\n",
    "    ],\n",
    "                                        axis=0)\n",
    "    partial_train_targets = np.concatenate([\n",
    "        train_targets[:i * num_val_samples],\n",
    "        train_targets[(i + 1) * num_val_samples:]\n",
    "    ],\n",
    "                                           axis=0)\n",
    "    model = build_model()\n",
    "    model.fit(partial_train_data,\n",
    "              partial_train_targets,\n",
    "              epochs=num_epochs,\n",
    "              batch_size=1,\n",
    "              verbose=0)\n",
    "    val_mse, val_mae = model.evaluate(val_data, val_targets, verbose=0)\n",
    "    all_scores.append(val_mae)"
   ]
  },
  {
   "cell_type": "code",
   "execution_count": 29,
   "metadata": {
    "ExecuteTime": {
     "end_time": "2020-05-12T16:11:34.351547Z",
     "start_time": "2020-05-12T16:11:34.315205Z"
    }
   },
   "outputs": [
    {
     "data": {
      "text/plain": [
       "array([[  1.33871632, -10.26128368, -10.46128368, ..., -41.46128368,\n",
       "        -18.16128368, -16.46128368],\n",
       "       [ 12.59985619,   0.99985619,   0.79985619, ..., -30.20014381,\n",
       "         -6.90014381,  -5.20014381],\n",
       "       [ 13.49619179,   1.89619179,   1.69619179, ..., -29.30380821,\n",
       "         -6.00380821,  -4.30380821],\n",
       "       ...,\n",
       "       [ 44.98001938,  33.38001938,  33.18001938, ...,   2.18001938,\n",
       "         25.48001938,  27.18001938],\n",
       "       [ 23.71952133,  12.11952133,  11.91952133, ..., -19.08047867,\n",
       "          4.21952133,   5.91952133],\n",
       "       [ 15.86559753,   4.26559753,   4.06559753, ..., -26.93440247,\n",
       "         -3.63440247,  -1.93440247]])"
      ]
     },
     "execution_count": 29,
     "metadata": {},
     "output_type": "execute_result"
    }
   ],
   "source": [
    "###### 5. 优化模型 ###############################\n",
    "###############################################\n",
    "\n",
    "predicted = model.predict(test_data)\n",
    "predicted - test_targets\n",
    "\n",
    "# 预测值与实际值之间的差别较大"
   ]
  },
  {
   "cell_type": "code",
   "execution_count": 34,
   "metadata": {
    "ExecuteTime": {
     "end_time": "2020-05-12T16:29:30.370599Z",
     "start_time": "2020-05-12T16:16:43.087900Z"
    }
   },
   "outputs": [
    {
     "name": "stdout",
     "output_type": "stream",
     "text": [
      "processing fold # 0\n",
      "processing fold # 1\n",
      "processing fold # 2\n",
      "processing fold # 3\n"
     ]
    }
   ],
   "source": [
    "# 增加训练轮次\n",
    "# 保存每折的验证结果\n",
    "\n",
    "num_epochs = 500\n",
    "all_mae_histories = []\n",
    "\n",
    "for i in range(k):\n",
    "    print('processing fold #', i)\n",
    "    val_data = train_data[i * num_val_samples:(i + 1) * num_val_samples]\n",
    "    val_targets = train_targets[i * num_val_samples:(i + 1) * num_val_samples]\n",
    "\n",
    "    partial_train_data = np.concatenate([\n",
    "        train_data[:i * num_val_samples],\n",
    "        train_data[(i + 1) * num_val_samples:]\n",
    "    ],\n",
    "                                        axis=0)\n",
    "    partial_train_targets = np.concatenate([\n",
    "        train_targets[:i * num_val_samples],\n",
    "        train_targets[(i + 1) * num_val_samples:]\n",
    "    ],\n",
    "                                           axis=0)\n",
    "    model = build_model()\n",
    "    history = model.fit(partial_train_data,\n",
    "                        partial_train_targets,\n",
    "                        validation_data=(val_data, val_targets),\n",
    "                        epochs=num_epochs,\n",
    "                        batch_size=1,\n",
    "                        verbose=0)\n",
    "    mae_history = history.history['val_mae']\n",
    "    all_mae_histories.append(mae_history)"
   ]
  },
  {
   "cell_type": "code",
   "execution_count": 36,
   "metadata": {
    "ExecuteTime": {
     "end_time": "2020-05-12T16:40:58.079598Z",
     "start_time": "2020-05-12T16:40:58.069687Z"
    }
   },
   "outputs": [],
   "source": [
    "average_mae_history = [\n",
    "    np.mean([x[i] for x in all_mae_histories]) for i in range(num_epochs)\n",
    "]"
   ]
  },
  {
   "cell_type": "code",
   "execution_count": 37,
   "metadata": {
    "ExecuteTime": {
     "end_time": "2020-05-12T16:40:59.605115Z",
     "start_time": "2020-05-12T16:40:59.500189Z"
    }
   },
   "outputs": [
    {
     "data": {
      "image/png": "[encoded data removed]",
      "text/plain": [
       "<Figure size 432x288 with 1 Axes>"
      ]
     },
     "metadata": {
      "needs_background": "light"
     },
     "output_type": "display_data"
    }
   ],
   "source": [
    "plt.clf()\n",
    "plt.plot(range(1, len(average_mae_history) + 1), average_mae_history)\n",
    "plt.xlabel('Epochs')\n",
    "plt.ylabel('Validation MAE')\n",
    "plt.show()"
   ]
  },
  {
   "cell_type": "code",
   "execution_count": 38,
   "metadata": {
    "ExecuteTime": {
     "end_time": "2020-05-12T16:41:01.329844Z",
     "start_time": "2020-05-12T16:41:01.252181Z"
    }
   },
   "outputs": [
    {
     "data": {
      "image/png": "[encoded data removed]",
      "text/plain": [
       "<Figure size 432x288 with 1 Axes>"
      ]
     },
     "metadata": {
      "needs_background": "light"
     },
     "output_type": "display_data"
    }
   ],
   "source": [
    "def smooth_curve(points, factor=0.9):\n",
    "    smoothed_points = []\n",
    "    for point in points:\n",
    "        if smoothed_points:\n",
    "            previous = smoothed_points[-1]\n",
    "            smoothed_points.append(previous * factor + point * (1 - factor))\n",
    "        else:\n",
    "            smoothed_points.append(point)\n",
    "    return smoothed_points\n",
    "\n",
    "\n",
    "smooth_mae_history = smooth_curve(average_mae_history[10:])\n",
    "\n",
    "plt.plot(range(1, len(smooth_mae_history) + 1), smooth_mae_history)\n",
    "plt.xlabel('Epochs')\n",
    "plt.ylabel('Validation MAE')\n",
    "plt.show()"
   ]
  },
  {
   "cell_type": "code",
   "execution_count": null,
   "metadata": {
    "ExecuteTime": {
     "end_time": "2020-05-12T16:14:46.172116Z",
     "start_time": "2020-05-12T16:09:02.280Z"
    }
   },
   "outputs": [],
   "source": [
    "# Get a fresh, compiled model.\n",
    "model = build_model()\n",
    "# Train it on the entirety of the data.\n",
    "model.fit(train_data, train_targets, epochs=50, batch_size=16, verbose=0)\n",
    "test_mse_score, test_mae_score = model.evaluate(test_data, test_targets)"
   ]
  },
  {
   "cell_type": "code",
   "execution_count": null,
   "metadata": {
    "ExecuteTime": {
     "end_time": "2020-05-12T16:14:46.172487Z",
     "start_time": "2020-05-12T16:09:02.283Z"
    }
   },
   "outputs": [],
   "source": [
    "test_mae_score"
   ]
  },
  {
   "cell_type": "markdown",
   "metadata": {
    "ExecuteTime": {
     "end_time": "2020-05-12T16:29:30.549854Z",
     "start_time": "2020-05-12T16:29:30.547768Z"
    }
   },
   "source": [
    "# 小结：\n",
    "- 常见机器学习任务：二分类、多分类、标量回归\n",
    "- 处理机器学习任务的基本流程"
   ]
  },
  {
   "cell_type": "code",
   "execution_count": null,
   "metadata": {},
   "outputs": [],
   "source": []
  }
 ],
 "metadata": {
  "kernelspec": {
   "display_name": "Python 3",
   "language": "python",
   "name": "python3"
  },
  "language_info": {
   "codemirror_mode": {
    "name": "ipython",
    "version": 3
   },
   "file_extension": ".py",
   "mimetype": "text/x-python",
   "name": "python",
   "nbconvert_exporter": "python",
   "pygments_lexer": "ipython3",
   "version": "3.7.7"
  },
  "toc": {
   "base_numbering": 1,
   "nav_menu": {},
   "number_sections": true,
   "sideBar": true,
   "skip_h1_title": false,
   "title_cell": "Table of Contents",
   "title_sidebar": "Contents",
   "toc_cell": false,
   "toc_position": {},
   "toc_section_display": true,
   "toc_window_display": true
  },
  "varInspector": {
   "cols": {
    "lenName": 16,
    "lenType": 16,
    "lenVar": 40
   },
   "kernels_config": {
    "python": {
     "delete_cmd_postfix": "",
     "delete_cmd_prefix": "del ",
     "library": "var_list.py",
     "varRefreshCmd": "print(var_dic_list())"
    },
    "r": {
     "delete_cmd_postfix": ") ",
     "delete_cmd_prefix": "rm(",
     "library": "var_list.r",
     "varRefreshCmd": "cat(var_dic_list()) "
    }
   },
   "types_to_exclude": [
    "module",
    "function",
    "builtin_function_or_method",
    "instance",
    "_Feature"
   ],
   "window_display": false
  }
 },
 "nbformat": 4,
 "nbformat_minor": 2
}
