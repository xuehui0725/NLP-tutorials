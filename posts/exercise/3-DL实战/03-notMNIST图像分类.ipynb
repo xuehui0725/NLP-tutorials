{
 "cells": [
  {
   "cell_type": "code",
   "execution_count": 1,
   "metadata": {},
   "outputs": [],
   "source": [
    "from __future__ import print_function\n",
    "import imageio\n",
    "import matplotlib.pyplot as plt\n",
    "import numpy as np\n",
    "import os\n",
    "import sys\n",
    "import tarfile\n",
    "from IPython.display import display, Image\n",
    "from sklearn.linear_model import LogisticRegression\n",
    "from six.moves.urllib.request import urlretrieve\n",
    "from six.moves import cPickle as pickle\n",
    "\n",
    "%matplotlib inline"
   ]
  },
  {
   "cell_type": "code",
   "execution_count": null,
   "metadata": {},
   "outputs": [],
   "source": [
    "url = 'https://commondatastorage.googleapis.com/books1000/'\n",
    "last_percent_reported = None\n",
    "data_root = './dataset'  # Change me to store data elsewhere\n",
    "\n",
    "\n",
    "def download_progress_hook(count, blockSize, totalSize):\n",
    "    \"\"\"A hook to report the progress of a download. This is mostly intended for users with\n",
    "  slow internet connections. Reports every 5% change in download progress.\n",
    "  \"\"\"\n",
    "    global last_percent_reported\n",
    "    percent = int(count * blockSize * 100 / totalSize)\n",
    "\n",
    "    if last_percent_reported != percent:\n",
    "        if percent % 5 == 0:\n",
    "            sys.stdout.write(\"%s%%\" % percent)\n",
    "            sys.stdout.flush()\n",
    "        else:\n",
    "            sys.stdout.write(\".\")\n",
    "            sys.stdout.flush()\n",
    "\n",
    "        last_percent_reported = percent\n",
    "\n",
    "\n",
    "def maybe_download(filename, expected_bytes, force=False):\n",
    "    \"\"\"Download a file if not present, and make sure it's the right size.\"\"\"\n",
    "    dest_filename = os.path.join(data_root, filename)\n",
    "    if force or not os.path.exists(dest_filename):\n",
    "        print('Attempting to download:', filename)\n",
    "        filename, _ = urlretrieve(url + filename,\n",
    "                                  dest_filename,\n",
    "                                  reporthook=download_progress_hook)\n",
    "        print('\\nDownload Complete!')\n",
    "    statinfo = os.stat(dest_filename)\n",
    "    if statinfo.st_size == expected_bytes:\n",
    "        print('Found and verified', dest_filename)\n",
    "    else:\n",
    "        raise Exception('Failed to verify ' + dest_filename +\n",
    "                        '. Can you get to it with a browser?')\n",
    "    return dest_filename\n",
    "\n",
    "\n",
    "train_filename = maybe_download('notMNIST_large.tar.gz', 247336696)\n",
    "test_filename = maybe_download('notMNIST_small.tar.gz', 8458043)"
   ]
  },
  {
   "cell_type": "code",
   "execution_count": null,
   "metadata": {},
   "outputs": [],
   "source": [
    "num_classes = 10\n",
    "np.random.seed(133)\n",
    "\n",
    "\n",
    "def maybe_extract(filename, force=False):\n",
    "    root = os.path.splitext(os.path.splitext(filename)[0])[0]  # remove .tar.gz\n",
    "    if os.path.isdir(root) and not force:\n",
    "        # You may override by setting force=True.\n",
    "        print('%s already present - Skipping extraction of %s.' %\n",
    "              (root, filename))\n",
    "    else:\n",
    "        print('Extracting data for %s. This may take a while. Please wait.' %\n",
    "              root)\n",
    "        tar = tarfile.open(filename)\n",
    "        sys.stdout.flush()\n",
    "        tar.extractall(data_root)\n",
    "        tar.close()\n",
    "    data_folders = [\n",
    "        os.path.join(root, d) for d in sorted(os.listdir(root))\n",
    "        if os.path.isdir(os.path.join(root, d))\n",
    "    ]\n",
    "    if len(data_folders) != num_classes:\n",
    "        raise Exception(\n",
    "            'Expected %d folders, one per class. Found %d instead.' %\n",
    "            (num_classes, len(data_folders)))\n",
    "    print(data_folders)\n",
    "    return data_folders\n",
    "\n",
    "\n",
    "train_folders = maybe_extract(train_filename)\n",
    "test_folders = maybe_extract(test_filename)"
   ]
  },
  {
   "cell_type": "code",
   "execution_count": 2,
   "metadata": {
    "ExecuteTime": {
     "end_time": "2020-04-12T07:00:00.510754Z",
     "start_time": "2020-04-12T07:00:00.505210Z"
    }
   },
   "outputs": [],
   "source": [
    "import os"
   ]
  },
  {
   "cell_type": "markdown",
   "metadata": {},
   "source": [
    "# `notMNIST`数据集"
   ]
  },
  {
   "cell_type": "code",
   "execution_count": 3,
   "metadata": {
    "ExecuteTime": {
     "end_time": "2020-04-12T07:00:04.202738Z",
     "start_time": "2020-04-12T07:00:04.192391Z"
    }
   },
   "outputs": [
    {
     "data": {
      "text/plain": [
       "(['../H/datasets/notMNIST_large/A',\n",
       "  '../H/datasets/notMNIST_large/B',\n",
       "  '../H/datasets/notMNIST_large/C',\n",
       "  '../H/datasets/notMNIST_large/D',\n",
       "  '../H/datasets/notMNIST_large/E',\n",
       "  '../H/datasets/notMNIST_large/F',\n",
       "  '../H/datasets/notMNIST_large/G',\n",
       "  '../H/datasets/notMNIST_large/H',\n",
       "  '../H/datasets/notMNIST_large/I',\n",
       "  '../H/datasets/notMNIST_large/J'],\n",
       " ['../H/datasets/notMNIST_small/A',\n",
       "  '../H/datasets/notMNIST_small/B',\n",
       "  '../H/datasets/notMNIST_small/C',\n",
       "  '../H/datasets/notMNIST_small/D',\n",
       "  '../H/datasets/notMNIST_small/E',\n",
       "  '../H/datasets/notMNIST_small/F',\n",
       "  '../H/datasets/notMNIST_small/G',\n",
       "  '../H/datasets/notMNIST_small/H',\n",
       "  '../H/datasets/notMNIST_small/I',\n",
       "  '../H/datasets/notMNIST_small/J'])"
      ]
     },
     "execution_count": 3,
     "metadata": {},
     "output_type": "execute_result"
    }
   ],
   "source": [
    "# 本地文件地址\n",
    "\n",
    "train_root = '../H/datasets/notMNIST_large/'\n",
    "train_folders = [\n",
    "    os.path.join(train_root, d) for d in sorted(os.listdir(train_root))\n",
    "    if os.path.isdir(os.path.join(train_root, d))\n",
    "]\n",
    "test_root = '../H/datasets/notMNIST_small/'\n",
    "test_folders = [\n",
    "    os.path.join(test_root, d) for d in sorted(os.listdir(test_root))\n",
    "    if os.path.isdir(os.path.join(test_root, d))\n",
    "]\n",
    "\n",
    "train_folders,test_folders"
   ]
  },
  {
   "cell_type": "code",
   "execution_count": 4,
   "metadata": {
    "ExecuteTime": {
     "end_time": "2020-04-12T07:00:29.670976Z",
     "start_time": "2020-04-12T07:00:29.485874Z"
    }
   },
   "outputs": [
    {
     "name": "stdout",
     "output_type": "stream",
     "text": [
      "A:52912\n",
      "B:52912\n",
      "C:52912\n",
      "D:52912\n",
      "E:52912\n",
      "F:52912\n",
      "G:52912\n",
      "H:52912\n",
      "I:52912\n",
      "J:52911\n"
     ]
    }
   ],
   "source": [
    "# 训练集样本量\n",
    "\n",
    "for folder in train_folders:\n",
    "    label = folder[-1]\n",
    "    num = len(os.listdir(folder))\n",
    "    print('{}:{}'.format(label, num))"
   ]
  },
  {
   "cell_type": "code",
   "execution_count": 32,
   "metadata": {},
   "outputs": [
    {
     "name": "stdout",
     "output_type": "stream",
     "text": [
      "A:1873\n",
      "B:1873\n",
      "C:1873\n",
      "D:1873\n",
      "E:1873\n",
      "F:1873\n",
      "G:1872\n",
      "H:1872\n",
      "I:1872\n",
      "J:1872\n"
     ]
    }
   ],
   "source": [
    "# 测试集样本量\n",
    "\n",
    "for folder in test_folders:\n",
    "    label = folder[-1]\n",
    "    num = len(os.listdir(folder))\n",
    "    print('{}:{}'.format(label, num))"
   ]
  },
  {
   "cell_type": "code",
   "execution_count": null,
   "metadata": {},
   "outputs": [],
   "source": []
  },
  {
   "cell_type": "markdown",
   "metadata": {},
   "source": [
    "\n",
    "## 训练样本"
   ]
  },
  {
   "cell_type": "code",
   "execution_count": 5,
   "metadata": {
    "ExecuteTime": {
     "end_time": "2020-04-12T07:01:41.282149Z",
     "start_time": "2020-04-12T07:01:41.275781Z"
    }
   },
   "outputs": [],
   "source": [
    "from IPython.display import Image, HTML, display\n",
    "import random"
   ]
  },
  {
   "cell_type": "code",
   "execution_count": 7,
   "metadata": {
    "ExecuteTime": {
     "end_time": "2020-04-12T07:02:20.883530Z",
     "start_time": "2020-04-12T07:02:20.696461Z"
    }
   },
   "outputs": [
    {
     "data": {
      "text/html": [
       "<img style='width: 32px; margin: 5px; float: left; border: 1px solid black;' src='../H/datasets/notMNIST_large/A/RnJlZWRvbSA5IEJvbGQudHRm.png' /><img style='width: 32px; margin: 5px; float: left; border: 1px solid black;' src='../H/datasets/notMNIST_large/A/UGFsZXJtby1SZWd1bGFyLm90Zg==.png' /><img style='width: 32px; margin: 5px; float: left; border: 1px solid black;' src='../H/datasets/notMNIST_large/A/RWxsaW5ndG9uTVQtSXRhbGljLm90Zg==.png' /><img style='width: 32px; margin: 5px; float: left; border: 1px solid black;' src='../H/datasets/notMNIST_large/A/RlogVU5JUVVFIDEwIFdBVkVZIEVYLnR0Zg==.png' /><img style='width: 32px; margin: 5px; float: left; border: 1px solid black;' src='../H/datasets/notMNIST_large/A/U2luYWxvYSBSZWd1bGFyLnR0Zg==.png' /><img style='width: 32px; margin: 5px; float: left; border: 1px solid black;' src='../H/datasets/notMNIST_large/A/VmVyb25lc2VCb2xkVGFiLnR0Zg==.png' /><img style='width: 32px; margin: 5px; float: left; border: 1px solid black;' src='../H/datasets/notMNIST_large/A/QmVydGhvbGRTY3JpcHQtTWVkaXVtLm90Zg==.png' /><img style='width: 32px; margin: 5px; float: left; border: 1px solid black;' src='../H/datasets/notMNIST_large/A/S29yaW5uYUVGLVJlZ3VsYXIub3Rm.png' /><img style='width: 32px; margin: 5px; float: left; border: 1px solid black;' src='../H/datasets/notMNIST_large/A/WnVyaWNoIEdyZWVrIEJvbGQgSW5jbGluZWQgQlQudHRm.png' /><img style='width: 32px; margin: 5px; float: left; border: 1px solid black;' src='../H/datasets/notMNIST_large/A/U3RhclRyZWtDbGFzc2ljTW92aWVzLm90Zg==.png' /><img style='width: 32px; margin: 5px; float: left; border: 1px solid black;' src='../H/datasets/notMNIST_large/A/Um9sYW5kVEIzMDMub3Rm.png' /><img style='width: 32px; margin: 5px; float: left; border: 1px solid black;' src='../H/datasets/notMNIST_large/A/WmFwIFJheWd1biBWMi4wIEl0YWxpYy50dGY=.png' /><img style='width: 32px; margin: 5px; float: left; border: 1px solid black;' src='../H/datasets/notMNIST_large/A/QXZhbnQgSXRhbGljLnR0Zg==.png' /><img style='width: 32px; margin: 5px; float: left; border: 1px solid black;' src='../H/datasets/notMNIST_large/A/U3ltYm9sRUYtQm9va0l0YWxpYy5vdGY=.png' /><img style='width: 32px; margin: 5px; float: left; border: 1px solid black;' src='../H/datasets/notMNIST_large/A/SHVtYW5pc3QtUmVndWxhci5vdGY=.png' /><img style='width: 32px; margin: 5px; float: left; border: 1px solid black;' src='../H/datasets/notMNIST_large/A/R2FsYXh5IE1vbmtleS50dGY=.png' />"
      ],
      "text/plain": [
       "<IPython.core.display.HTML object>"
      ]
     },
     "metadata": {},
     "output_type": "display_data"
    },
    {
     "data": {
      "text/html": [
       "<img style='width: 32px; margin: 5px; float: left; border: 1px solid black;' src='../H/datasets/notMNIST_large/B/SVRDIEx1YmFsaW4gR3JhcGggRXh0cmEgTGlnaHQgT2JsaXF1ZS5wZmI=.png' /><img style='width: 32px; margin: 5px; float: left; border: 1px solid black;' src='../H/datasets/notMNIST_large/B/Qml0c3RyZWFtIENvb3BlciBCbGFjay5wZmI=.png' /><img style='width: 32px; margin: 5px; float: left; border: 1px solid black;' src='../H/datasets/notMNIST_large/B/U2NobmVpZGxlckVGLU1lZGl1bUl0YWxpYy5vdGY=.png' /><img style='width: 32px; margin: 5px; float: left; border: 1px solid black;' src='../H/datasets/notMNIST_large/B/TGlvbmhlYXJ0IFNoYWRvdy50dGY=.png' /><img style='width: 32px; margin: 5px; float: left; border: 1px solid black;' src='../H/datasets/notMNIST_large/B/QWlyIEZsb3cgQlROIEh2LnR0Zg==.png' /><img style='width: 32px; margin: 5px; float: left; border: 1px solid black;' src='../H/datasets/notMNIST_large/B/UGZfdmVyeXZlcnliYWRmb250NyBPdXRsaW5lLnR0Zg==.png' /><img style='width: 32px; margin: 5px; float: left; border: 1px solid black;' src='../H/datasets/notMNIST_large/B/UGhpbGFkZWxwaGlhLUNyYWNrZWQtQ29uZGVuc2VkIE5vcm1hbC50dGY=.png' /><img style='width: 32px; margin: 5px; float: left; border: 1px solid black;' src='../H/datasets/notMNIST_large/B/V2hpdGVOb1N1Z2FyLm90Zg==.png' /><img style='width: 32px; margin: 5px; float: left; border: 1px solid black;' src='../H/datasets/notMNIST_large/B/Sm9obiBEb2UudHRm.png' /><img style='width: 32px; margin: 5px; float: left; border: 1px solid black;' src='../H/datasets/notMNIST_large/B/Q29uY29yZGVCRS1Db25kZW5zZWQub3Rm.png' /><img style='width: 32px; margin: 5px; float: left; border: 1px solid black;' src='../H/datasets/notMNIST_large/B/TWlnaHR5V2luZHlCbGFjay50dGY=.png' /><img style='width: 32px; margin: 5px; float: left; border: 1px solid black;' src='../H/datasets/notMNIST_large/B/UGFpZ2Uub3Rm.png' /><img style='width: 32px; margin: 5px; float: left; border: 1px solid black;' src='../H/datasets/notMNIST_large/B/V2Fja3kgU3BhbmtlcnMudHRm.png' /><img style='width: 32px; margin: 5px; float: left; border: 1px solid black;' src='../H/datasets/notMNIST_large/B/SVRDQXZhbnRHYXJkZVN0ZC1EZW1pQ24ub3Rm.png' /><img style='width: 32px; margin: 5px; float: left; border: 1px solid black;' src='../H/datasets/notMNIST_large/B/S2FiZWwgQmQtTm9ybWFsLnR0Zg==.png' /><img style='width: 32px; margin: 5px; float: left; border: 1px solid black;' src='../H/datasets/notMNIST_large/B/RWxlcGhhbnQgQm9sZEl0YWxpYy50dGY=.png' />"
      ],
      "text/plain": [
       "<IPython.core.display.HTML object>"
      ]
     },
     "metadata": {},
     "output_type": "display_data"
    },
    {
     "data": {
      "text/html": [
       "<img style='width: 32px; margin: 5px; float: left; border: 1px solid black;' src='../H/datasets/notMNIST_large/C/RG9tZXN0b3M5OC1CbGFjay5vdGY=.png' /><img style='width: 32px; margin: 5px; float: left; border: 1px solid black;' src='../H/datasets/notMNIST_large/C/U2V2ZW5TYW5zSUNHLUJvbGQudHRm.png' /><img style='width: 32px; margin: 5px; float: left; border: 1px solid black;' src='../H/datasets/notMNIST_large/C/UnVuZGlnUGVuY2lsIE5vcm1hbC50dGY=.png' /><img style='width: 32px; margin: 5px; float: left; border: 1px solid black;' src='../H/datasets/notMNIST_large/C/UGVuY2lsSW4udHRm.png' /><img style='width: 32px; margin: 5px; float: left; border: 1px solid black;' src='../H/datasets/notMNIST_large/C/QWFjaGVuIEQgRUUgTWVkaXVtLnBmYg==.png' /><img style='width: 32px; margin: 5px; float: left; border: 1px solid black;' src='../H/datasets/notMNIST_large/C/R3JhaWxMaWdodCBSZWd1bGFyLnR0Zg==.png' /><img style='width: 32px; margin: 5px; float: left; border: 1px solid black;' src='../H/datasets/notMNIST_large/C/SG9tZSBTdHlsZSBGaWxsLnR0Zg==.png' /><img style='width: 32px; margin: 5px; float: left; border: 1px solid black;' src='../H/datasets/notMNIST_large/C/SHVtYW5hU2VyaWZJVENTdGQtTWVkaXVtLm90Zg==.png' /><img style='width: 32px; margin: 5px; float: left; border: 1px solid black;' src='../H/datasets/notMNIST_large/C/U291dmVuaXJHb3RoaWMtSXRsLm90Zg==.png' /><img style='width: 32px; margin: 5px; float: left; border: 1px solid black;' src='../H/datasets/notMNIST_large/C/SW50ZXJzdGF0ZS1UaGluLm90Zg==.png' /><img style='width: 32px; margin: 5px; float: left; border: 1px solid black;' src='../H/datasets/notMNIST_large/C/Wm9yb2FzdGVyLVJlZ3VsYXIub3Rm.png' /><img style='width: 32px; margin: 5px; float: left; border: 1px solid black;' src='../H/datasets/notMNIST_large/C/QmVsbE1UU3RkLVNlbWlCb2xkSXRhbGljLm90Zg==.png' /><img style='width: 32px; margin: 5px; float: left; border: 1px solid black;' src='../H/datasets/notMNIST_large/C/R3JvdGVzcXVlTVQtTGlnaHQub3Rm.png' /><img style='width: 32px; margin: 5px; float: left; border: 1px solid black;' src='../H/datasets/notMNIST_large/C/QnJvb2tzY3JpcHRXaWRlIFJlZ3VsYXIudHRm.png' /><img style='width: 32px; margin: 5px; float: left; border: 1px solid black;' src='../H/datasets/notMNIST_large/C/TmV1dHJhZmFjZUNvbmRlbnNlZC1UaXRsaW5nLm90Zg==.png' /><img style='width: 32px; margin: 5px; float: left; border: 1px solid black;' src='../H/datasets/notMNIST_large/C/U3RhbXBGb250Lm90Zg==.png' />"
      ],
      "text/plain": [
       "<IPython.core.display.HTML object>"
      ]
     },
     "metadata": {},
     "output_type": "display_data"
    },
    {
     "data": {
      "text/html": [
       "<img style='width: 32px; margin: 5px; float: left; border: 1px solid black;' src='../H/datasets/notMNIST_large/D/VmFyYmVlLnR0Zg==.png' /><img style='width: 32px; margin: 5px; float: left; border: 1px solid black;' src='../H/datasets/notMNIST_large/D/UHVja2ZvbnQudHRm.png' /><img style='width: 32px; margin: 5px; float: left; border: 1px solid black;' src='../H/datasets/notMNIST_large/D/UmlhbHRvU0NhcHNTU0sgQm9sZEl0YWxpYy50dGY=.png' /><img style='width: 32px; margin: 5px; float: left; border: 1px solid black;' src='../H/datasets/notMNIST_large/D/UmF3bGluc29uIEJvbGQgSXRhbGljLm90Zg==.png' /><img style='width: 32px; margin: 5px; float: left; border: 1px solid black;' src='../H/datasets/notMNIST_large/D/VW5pdmVyc0JRLUJvbGQub3Rm.png' /><img style='width: 32px; margin: 5px; float: left; border: 1px solid black;' src='../H/datasets/notMNIST_large/D/T2ZmaWNpbmFTZXJJVEMtRXh0cmFCb2xkT1Mub3Rm.png' /><img style='width: 32px; margin: 5px; float: left; border: 1px solid black;' src='../H/datasets/notMNIST_large/D/Um9ja2V0NzAub3Rm.png' /><img style='width: 32px; margin: 5px; float: left; border: 1px solid black;' src='../H/datasets/notMNIST_large/D/SG9ybGV5T2xkU3R5bGVNVFN0ZC1MaWdodC5vdGY=.png' /><img style='width: 32px; margin: 5px; float: left; border: 1px solid black;' src='../H/datasets/notMNIST_large/D/QWxwaW5lIDc1NThTLnR0Zg==.png' /><img style='width: 32px; margin: 5px; float: left; border: 1px solid black;' src='../H/datasets/notMNIST_large/D/RXBzeSBTYW5zIEl0YWxpYy50dGY=.png' /><img style='width: 32px; margin: 5px; float: left; border: 1px solid black;' src='../H/datasets/notMNIST_large/D/SGFtYnVyZy1MaWdodC5vdGY=.png' /><img style='width: 32px; margin: 5px; float: left; border: 1px solid black;' src='../H/datasets/notMNIST_large/D/QmVybmhhcmRNb2Rlcm5CVC1JdGFsaWMub3Rm.png' /><img style='width: 32px; margin: 5px; float: left; border: 1px solid black;' src='../H/datasets/notMNIST_large/D/V2VpZGVtYW5uU3RkLUJvbGQub3Rm.png' /><img style='width: 32px; margin: 5px; float: left; border: 1px solid black;' src='../H/datasets/notMNIST_large/D/RW5nZWJyZWNodHJlIEV4cGFuZGVkLnR0Zg==.png' /><img style='width: 32px; margin: 5px; float: left; border: 1px solid black;' src='../H/datasets/notMNIST_large/D/UXVhbnR1bS50dGY=.png' /><img style='width: 32px; margin: 5px; float: left; border: 1px solid black;' src='../H/datasets/notMNIST_large/D/QmlyY2hTdGQub3Rm.png' />"
      ],
      "text/plain": [
       "<IPython.core.display.HTML object>"
      ]
     },
     "metadata": {},
     "output_type": "display_data"
    },
    {
     "data": {
      "text/html": [
       "<img style='width: 32px; margin: 5px; float: left; border: 1px solid black;' src='../H/datasets/notMNIST_large/E/VU5EQS1BbmdsZUZpbmVJdGFsaWMub3Rm.png' /><img style='width: 32px; margin: 5px; float: left; border: 1px solid black;' src='../H/datasets/notMNIST_large/E/VG9rZW4udHRm.png' /><img style='width: 32px; margin: 5px; float: left; border: 1px solid black;' src='../H/datasets/notMNIST_large/E/RGlzdGFudCBHYWxheHkgQ29uZGVuc2VkLnR0Zg==.png' /><img style='width: 32px; margin: 5px; float: left; border: 1px solid black;' src='../H/datasets/notMNIST_large/E/UGxhaW5QZW5zbGVYQm9sZCBJdGFsaWMudHRm.png' /><img style='width: 32px; margin: 5px; float: left; border: 1px solid black;' src='../H/datasets/notMNIST_large/E/S25vY2tvdXQtSW5pdGlhbHMub3Rm.png' /><img style='width: 32px; margin: 5px; float: left; border: 1px solid black;' src='../H/datasets/notMNIST_large/E/TGVNb25kZUxpdnJlLUl0YWxpYy5vdGY=.png' /><img style='width: 32px; margin: 5px; float: left; border: 1px solid black;' src='../H/datasets/notMNIST_large/E/Q29sbGFnZSBCb2xkLnR0Zg==.png' /><img style='width: 32px; margin: 5px; float: left; border: 1px solid black;' src='../H/datasets/notMNIST_large/E/Q29udGV4dCBSZXByaXNlIExpZ2h0IFNTaSBFeHRyYSBMaWdodCBJdGFsaWMudHRm.png' /><img style='width: 32px; margin: 5px; float: left; border: 1px solid black;' src='../H/datasets/notMNIST_large/E/RGF4Q29uZGVuc2VkLnR0Zg==.png' /><img style='width: 32px; margin: 5px; float: left; border: 1px solid black;' src='../H/datasets/notMNIST_large/E/S2lkIEtvc21pYyBCb2xkLnR0Zg==.png' /><img style='width: 32px; margin: 5px; float: left; border: 1px solid black;' src='../H/datasets/notMNIST_large/E/Q3JpZmZlZS50dGY=.png' /><img style='width: 32px; margin: 5px; float: left; border: 1px solid black;' src='../H/datasets/notMNIST_large/E/TWVyaWRpZW5MVFN0ZC1NZWRpdW0ub3Rm.png' /><img style='width: 32px; margin: 5px; float: left; border: 1px solid black;' src='../H/datasets/notMNIST_large/E/Uml2ZXJzaWRlKDIpLnR0Zg==.png' /><img style='width: 32px; margin: 5px; float: left; border: 1px solid black;' src='../H/datasets/notMNIST_large/E/RmFzdCA5OS50dGY=.png' /><img style='width: 32px; margin: 5px; float: left; border: 1px solid black;' src='../H/datasets/notMNIST_large/E/SmFuaWVIbWsudHRm.png' /><img style='width: 32px; margin: 5px; float: left; border: 1px solid black;' src='../H/datasets/notMNIST_large/E/Qm9uZXJpYmJvbiBCb2xkLnR0Zg==.png' />"
      ],
      "text/plain": [
       "<IPython.core.display.HTML object>"
      ]
     },
     "metadata": {},
     "output_type": "display_data"
    },
    {
     "data": {
      "text/html": [
       "<img style='width: 32px; margin: 5px; float: left; border: 1px solid black;' src='../H/datasets/notMNIST_large/F/QnJhZ2FuemFTQ0lUQy1MaWdodC5vdGY=.png' /><img style='width: 32px; margin: 5px; float: left; border: 1px solid black;' src='../H/datasets/notMNIST_large/F/Q0NBc3Ryb0NpdHlJbnQtQm9sZEl0YWxpYy50dGY=.png' /><img style='width: 32px; margin: 5px; float: left; border: 1px solid black;' src='../H/datasets/notMNIST_large/F/VW5aaWFsaXNoLnR0Zg==.png' /><img style='width: 32px; margin: 5px; float: left; border: 1px solid black;' src='../H/datasets/notMNIST_large/F/SnVsaXVzIFByaW1hcnkgU3RkIEl0YWxpYy5vdGY=.png' /><img style='width: 32px; margin: 5px; float: left; border: 1px solid black;' src='../H/datasets/notMNIST_large/F/Tm9mcmV0QlEtUmVndWxhci5vdGY=.png' /><img style='width: 32px; margin: 5px; float: left; border: 1px solid black;' src='../H/datasets/notMNIST_large/F/Q291cmllci1PYmxpcXVlLm90Zg==.png' /><img style='width: 32px; margin: 5px; float: left; border: 1px solid black;' src='../H/datasets/notMNIST_large/F/RWd5cHRpYW4udHRm.png' /><img style='width: 32px; margin: 5px; float: left; border: 1px solid black;' src='../H/datasets/notMNIST_large/F/Q2hyaXN0aWFuYSBCb2xkLnR0Zg==.png' /><img style='width: 32px; margin: 5px; float: left; border: 1px solid black;' src='../H/datasets/notMNIST_large/F/Qm9kb25pIEV4dGVuZGVkLnR0Zg==.png' /><img style='width: 32px; margin: 5px; float: left; border: 1px solid black;' src='../H/datasets/notMNIST_large/F/Q2F4dG9uIExUIEJvbGQgSXRhbGljLnR0Zg==.png' /><img style='width: 32px; margin: 5px; float: left; border: 1px solid black;' src='../H/datasets/notMNIST_large/F/SG91c2VHb3RoaWNIRzIzRXh0LUxJR0hUNC5vdGY=.png' /><img style='width: 32px; margin: 5px; float: left; border: 1px solid black;' src='../H/datasets/notMNIST_large/F/SGVsdmV0aWNhLUxpZ2h0T2JsaXF1ZS5vdGY=.png' /><img style='width: 32px; margin: 5px; float: left; border: 1px solid black;' src='../H/datasets/notMNIST_large/F/SW5mb09mZmljZS1OdW1iZXJzT25lLm90Zg==.png' /><img style='width: 32px; margin: 5px; float: left; border: 1px solid black;' src='../H/datasets/notMNIST_large/F/RWlnaHQgVHJhY2sgcHJvZ3JhbSA0LnR0Zg==.png' /><img style='width: 32px; margin: 5px; float: left; border: 1px solid black;' src='../H/datasets/notMNIST_large/F/QXJjaGVyeSBCbGFjayBPdXRsaW5lIEl0YWxpYy50dGY=.png' /><img style='width: 32px; margin: 5px; float: left; border: 1px solid black;' src='../H/datasets/notMNIST_large/F/TGF1cmVudGlhblN0ZC1Cb2xkLm90Zg==.png' />"
      ],
      "text/plain": [
       "<IPython.core.display.HTML object>"
      ]
     },
     "metadata": {},
     "output_type": "display_data"
    },
    {
     "data": {
      "text/html": [
       "<img style='width: 32px; margin: 5px; float: left; border: 1px solid black;' src='../H/datasets/notMNIST_large/G/Qml4QW50aXF1ZVNjcmlwdEhtay50dGY=.png' /><img style='width: 32px; margin: 5px; float: left; border: 1px solid black;' src='../H/datasets/notMNIST_large/G/R2FsYW50IFdpZGUgQm9sZEl0YWxpYy50dGY=.png' /><img style='width: 32px; margin: 5px; float: left; border: 1px solid black;' src='../H/datasets/notMNIST_large/G/Q2hpdmFscnlJVENTdGQub3Rm.png' /><img style='width: 32px; margin: 5px; float: left; border: 1px solid black;' src='../H/datasets/notMNIST_large/G/RnJvemVuRG9nVHJlYXRzLm90Zg==.png' /><img style='width: 32px; margin: 5px; float: left; border: 1px solid black;' src='../H/datasets/notMNIST_large/G/VmVjdG9yYSBMSCA0NiBMaWdodCBJdGFsaWMucGZi.png' /><img style='width: 32px; margin: 5px; float: left; border: 1px solid black;' src='../H/datasets/notMNIST_large/G/Q2Fzc2FuZHJlRUYtSW5pdGlhbHMub3Rm.png' /><img style='width: 32px; margin: 5px; float: left; border: 1px solid black;' src='../H/datasets/notMNIST_large/G/VXNoZXJ3b29kU3RkLUJvb2sub3Rm.png' /><img style='width: 32px; margin: 5px; float: left; border: 1px solid black;' src='../H/datasets/notMNIST_large/G/QW1lcmljYW5VbmNJbmlELm90Zg==.png' /><img style='width: 32px; margin: 5px; float: left; border: 1px solid black;' src='../H/datasets/notMNIST_large/G/QmlnIENodW1wIEJUTiBDb25kLnR0Zg==.png' /><img style='width: 32px; margin: 5px; float: left; border: 1px solid black;' src='../H/datasets/notMNIST_large/G/U0YgRWNjZW50cmljIE9wdXMgQ29uZGVuc2VkIE9ibGlxdWUudHRm.png' /><img style='width: 32px; margin: 5px; float: left; border: 1px solid black;' src='../H/datasets/notMNIST_large/G/Q2VudHVyeU9sZHN0eWxlSUNHSXRhbGljLm90Zg==.png' /><img style='width: 32px; margin: 5px; float: left; border: 1px solid black;' src='../H/datasets/notMNIST_large/G/Q2xpZmZvcmRFaWdodGVlbi1JdGFsaWMub3Rm.png' /><img style='width: 32px; margin: 5px; float: left; border: 1px solid black;' src='../H/datasets/notMNIST_large/G/QXRtYW4gZGluZ3MudHRm.png' /><img style='width: 32px; margin: 5px; float: left; border: 1px solid black;' src='../H/datasets/notMNIST_large/G/QXZhbnRHYXJkZU1kSVRDLU9ibGlxdWUub3Rm.png' /><img style='width: 32px; margin: 5px; float: left; border: 1px solid black;' src='../H/datasets/notMNIST_large/G/Q2FudG9yaWFNVFN0ZC1Cb2xkSXRhbGljLm90Zg==.png' /><img style='width: 32px; margin: 5px; float: left; border: 1px solid black;' src='../H/datasets/notMNIST_large/G/TW9yZ2FuQmlnLUJsYWNrSXRhbGljLm90Zg==.png' />"
      ],
      "text/plain": [
       "<IPython.core.display.HTML object>"
      ]
     },
     "metadata": {},
     "output_type": "display_data"
    },
    {
     "data": {
      "text/html": [
       "<img style='width: 32px; margin: 5px; float: left; border: 1px solid black;' src='../H/datasets/notMNIST_large/H/QWJyYXpvU2NyaXB0U1NLIEJvbGQudHRm.png' /><img style='width: 32px; margin: 5px; float: left; border: 1px solid black;' src='../H/datasets/notMNIST_large/H/QWxsZW5zSGFuZCBSZWd1bGFyLnR0Zg==.png' /><img style='width: 32px; margin: 5px; float: left; border: 1px solid black;' src='../H/datasets/notMNIST_large/H/RWxsaW5ndG9uTVRTdGQtRXh0cmFCb2xkLm90Zg==.png' /><img style='width: 32px; margin: 5px; float: left; border: 1px solid black;' src='../H/datasets/notMNIST_large/H/VXB0aWdodCBMZWZ0aS50dGY=.png' /><img style='width: 32px; margin: 5px; float: left; border: 1px solid black;' src='../H/datasets/notMNIST_large/H/R2FydGhHcmFwaGljLUl0YWxpYy5vdGY=.png' /><img style='width: 32px; margin: 5px; float: left; border: 1px solid black;' src='../H/datasets/notMNIST_large/H/RGF2aWRhRC50dGY=.png' /><img style='width: 32px; margin: 5px; float: left; border: 1px solid black;' src='../H/datasets/notMNIST_large/H/Vm9ubmVzLUV4Ym9sZENvbmRlbnNlZC5vdGY=.png' /><img style='width: 32px; margin: 5px; float: left; border: 1px solid black;' src='../H/datasets/notMNIST_large/H/V2ljaGl0YS1SZWd1bGFyLm90Zg==.png' /><img style='width: 32px; margin: 5px; float: left; border: 1px solid black;' src='../H/datasets/notMNIST_large/H/VG9tYm95TGlnaHQub3Rm.png' /><img style='width: 32px; margin: 5px; float: left; border: 1px solid black;' src='../H/datasets/notMNIST_large/H/R291ZHlUaGlydHlIVy5vdGY=.png' /><img style='width: 32px; margin: 5px; float: left; border: 1px solid black;' src='../H/datasets/notMNIST_large/H/SW1wZXJhdG9yU21hbGxDYXBzLnR0Zg==.png' /><img style='width: 32px; margin: 5px; float: left; border: 1px solid black;' src='../H/datasets/notMNIST_large/H/R3Jvc3NvdXQgU2hhZG93LnR0Zg==.png' /><img style='width: 32px; margin: 5px; float: left; border: 1px solid black;' src='../H/datasets/notMNIST_large/H/QXJpc3RvbkJRLUJvbGQub3Rm.png' /><img style='width: 32px; margin: 5px; float: left; border: 1px solid black;' src='../H/datasets/notMNIST_large/H/TFRBdXRoZW50aWNTYW5zLUJsYWNrSXRhbGljLm90Zg==.png' /><img style='width: 32px; margin: 5px; float: left; border: 1px solid black;' src='../H/datasets/notMNIST_large/H/QWRhbXMgV2lkZSBCb2xkIEl0YWxpYy50dGY=.png' /><img style='width: 32px; margin: 5px; float: left; border: 1px solid black;' src='../H/datasets/notMNIST_large/H/THVjaWRhQ2FzdWFsRUYtSXRhbGljLm90Zg==.png' />"
      ],
      "text/plain": [
       "<IPython.core.display.HTML object>"
      ]
     },
     "metadata": {},
     "output_type": "display_data"
    },
    {
     "data": {
      "text/html": [
       "<img style='width: 32px; margin: 5px; float: left; border: 1px solid black;' src='../H/datasets/notMNIST_large/I/QWxwaGFiZXQ0LVNtYWxsQ2Fwcy5vdGY=.png' /><img style='width: 32px; margin: 5px; float: left; border: 1px solid black;' src='../H/datasets/notMNIST_large/I/RWFyd2F4IFdpdC50dGY=.png' /><img style='width: 32px; margin: 5px; float: left; border: 1px solid black;' src='../H/datasets/notMNIST_large/I/QXJteUNoYWxrLnR0Zg==.png' /><img style='width: 32px; margin: 5px; float: left; border: 1px solid black;' src='../H/datasets/notMNIST_large/I/Sm91cm5hbFRleHRBLm90Zg==.png' /><img style='width: 32px; margin: 5px; float: left; border: 1px solid black;' src='../H/datasets/notMNIST_large/I/UVRMYXV0cmVjVHlwZSBSZWd1bGFyLnR0Zg==.png' /><img style='width: 32px; margin: 5px; float: left; border: 1px solid black;' src='../H/datasets/notMNIST_large/I/TGVhd29vZEVGLUJsYWNrSXRhbGljLm90Zg==.png' /><img style='width: 32px; margin: 5px; float: left; border: 1px solid black;' src='../H/datasets/notMNIST_large/I/Um9yeSBXaWRlIE5vcm1hbC50dGY=.png' /><img style='width: 32px; margin: 5px; float: left; border: 1px solid black;' src='../H/datasets/notMNIST_large/I/TWVyY3VyeU51bWVyaWNHMi1Cb2xkLm90Zg==.png' /><img style='width: 32px; margin: 5px; float: left; border: 1px solid black;' src='../H/datasets/notMNIST_large/I/QWdhaW4gYW5kIEFnYWluLnR0Zg==.png' /><img style='width: 32px; margin: 5px; float: left; border: 1px solid black;' src='../H/datasets/notMNIST_large/I/SGVycmlja3NIYW5kIFJlZ3VsYXIudHRm.png' /><img style='width: 32px; margin: 5px; float: left; border: 1px solid black;' src='../H/datasets/notMNIST_large/I/RWlkZXRpY05lby1TbWFsbENhcHMub3Rm.png' /><img style='width: 32px; margin: 5px; float: left; border: 1px solid black;' src='../H/datasets/notMNIST_large/I/VHJpbml0ZU5vMS1Sb21hbldpZGVUYWIub3Rm.png' /><img style='width: 32px; margin: 5px; float: left; border: 1px solid black;' src='../H/datasets/notMNIST_large/I/QXJtYWdnZWRvbiBJbmR1c3RyaWFsLnR0Zg==.png' /><img style='width: 32px; margin: 5px; float: left; border: 1px solid black;' src='../H/datasets/notMNIST_large/I/Sm9obm55LUxpZ2h0IEhvLnR0Zg==.png' /><img style='width: 32px; margin: 5px; float: left; border: 1px solid black;' src='../H/datasets/notMNIST_large/I/R2VvcmdpYS50dGY=.png' /><img style='width: 32px; margin: 5px; float: left; border: 1px solid black;' src='../H/datasets/notMNIST_large/I/TWF4TEYtRXh0cmFCb2xkLm90Zg==.png' />"
      ],
      "text/plain": [
       "<IPython.core.display.HTML object>"
      ]
     },
     "metadata": {},
     "output_type": "display_data"
    },
    {
     "data": {
      "text/html": [
       "<img style='width: 32px; margin: 5px; float: left; border: 1px solid black;' src='../H/datasets/notMNIST_large/J/QmVtYm9Cb29rTVRTdGQtQm9sZC5vdGY=.png' /><img style='width: 32px; margin: 5px; float: left; border: 1px solid black;' src='../H/datasets/notMNIST_large/J/TmV3dGV4dEJvb2tJdGFsaWMub3Rm.png' /><img style='width: 32px; margin: 5px; float: left; border: 1px solid black;' src='../H/datasets/notMNIST_large/J/RHluYW1pYyBSZWNvbXBpbGF0aW9uLnR0Zg==.png' /><img style='width: 32px; margin: 5px; float: left; border: 1px solid black;' src='../H/datasets/notMNIST_large/J/UmVndWxhdG9yLVRoaW4ub3Rm.png' /><img style='width: 32px; margin: 5px; float: left; border: 1px solid black;' src='../H/datasets/notMNIST_large/J/SVRDR2FyYW1vbmRTdGQtQmtDb25kLm90Zg==.png' /><img style='width: 32px; margin: 5px; float: left; border: 1px solid black;' src='../H/datasets/notMNIST_large/J/TGlsaXRoLUxpZ2h0IFJlZ3VsYXIudHRm.png' /><img style='width: 32px; margin: 5px; float: left; border: 1px solid black;' src='../H/datasets/notMNIST_large/J/SmVubmVyaWtJbmZtbCBQbGFpbi50dGY=.png' /><img style='width: 32px; margin: 5px; float: left; border: 1px solid black;' src='../H/datasets/notMNIST_large/J/U3dpc3MgNzIxIExpZ2h0IEl0YWxpYyBCVC50dGY=.png' /><img style='width: 32px; margin: 5px; float: left; border: 1px solid black;' src='../H/datasets/notMNIST_large/J/TENEIE5vcm1hbC50dGY=.png' /><img style='width: 32px; margin: 5px; float: left; border: 1px solid black;' src='../H/datasets/notMNIST_large/J/RHluYW1vRHhjSXRhbGljQlhDLm90Zg==.png' /><img style='width: 32px; margin: 5px; float: left; border: 1px solid black;' src='../H/datasets/notMNIST_large/J/QS5DLk0uRS4gRXhwbG9zaXZlIEJvbGQudHRm.png' /><img style='width: 32px; margin: 5px; float: left; border: 1px solid black;' src='../H/datasets/notMNIST_large/J/UGxhbnRpbkluZmFudE1UU3RkLUJvbGRJdC5vdGY=.png' /><img style='width: 32px; margin: 5px; float: left; border: 1px solid black;' src='../H/datasets/notMNIST_large/J/U2NhbXAtRmF0Lm90Zg==.png' /><img style='width: 32px; margin: 5px; float: left; border: 1px solid black;' src='../H/datasets/notMNIST_large/J/U3ltYm9sRUYtTWVkaXVtSXRhbGljLm90Zg==.png' /><img style='width: 32px; margin: 5px; float: left; border: 1px solid black;' src='../H/datasets/notMNIST_large/J/TGVvIENvbmRlbnNlZCBOb3JtYWwudHRm.png' /><img style='width: 32px; margin: 5px; float: left; border: 1px solid black;' src='../H/datasets/notMNIST_large/J/Qm9yZGVyIEJhc2UgRnV0dXJlLnR0Zg==.png' />"
      ],
      "text/plain": [
       "<IPython.core.display.HTML object>"
      ]
     },
     "metadata": {},
     "output_type": "display_data"
    }
   ],
   "source": [
    "# 每类样本图片\n",
    "\n",
    "for folder in train_folders:\n",
    "    images = os.listdir(folder)\n",
    "    samples = random.sample(images, 16)\n",
    "    samples_path = [os.path.join(folder, name) for name in samples]\n",
    "    imagesList = ''.join([\n",
    "        \"<img style='width: 32px; margin: 5px; float: left; border: 1px solid black;' src='%s' />\"\n",
    "        % str(s) for s in samples_path\n",
    "    ])\n",
    "    display(HTML(imagesList))"
   ]
  },
  {
   "cell_type": "markdown",
   "metadata": {},
   "source": [
    "## 数据预处理\n",
    "- 将图片分批\n",
    "- 将图片集转化为 3D 数组，并正则化，并按图片类别保存"
   ]
  },
  {
   "cell_type": "markdown",
   "metadata": {
    "ExecuteTime": {
     "end_time": "2020-04-12T07:20:32.921814Z",
     "start_time": "2020-04-12T07:20:32.916478Z"
    }
   },
   "source": [
    "### 图片转换成`pickle`文件"
   ]
  },
  {
   "cell_type": "code",
   "execution_count": 12,
   "metadata": {
    "ExecuteTime": {
     "end_time": "2020-04-12T07:11:21.489010Z",
     "start_time": "2020-04-12T07:11:21.482965Z"
    }
   },
   "outputs": [],
   "source": [
    "import imageio\n",
    "from six.moves import cPickle as pickle"
   ]
  },
  {
   "cell_type": "code",
   "execution_count": 14,
   "metadata": {
    "ExecuteTime": {
     "end_time": "2020-04-12T07:13:18.542637Z",
     "start_time": "2020-04-12T07:11:48.926850Z"
    }
   },
   "outputs": [
    {
     "name": "stdout",
     "output_type": "stream",
     "text": [
      "Pickling ../H/datasets/notMNIST_large/A.pickle.\n",
      "../H/datasets/notMNIST_large/A\n",
      "Could not read: ../H/datasets/notMNIST_large/A/SG90IE11c3RhcmQgQlROIFBvc3Rlci50dGY=.png : Could not find a format to read the specified file in single-image mode - it's ok, skipping.\n",
      "Could not read: ../H/datasets/notMNIST_large/A/Um9tYW5hIEJvbGQucGZi.png : Could not find a format to read the specified file in single-image mode - it's ok, skipping.\n",
      "Could not read: ../H/datasets/notMNIST_large/A/RnJlaWdodERpc3BCb29rSXRhbGljLnR0Zg==.png : Could not find a format to read the specified file in single-image mode - it's ok, skipping.\n",
      "Full dataset tensor: (52909, 28, 28)\n",
      "Mean: -0.12825029\n",
      "Standard deviation: 0.4431206\n",
      "Pickling ../H/datasets/notMNIST_large/B.pickle.\n",
      "../H/datasets/notMNIST_large/B\n",
      "Could not read: ../H/datasets/notMNIST_large/B/TmlraXNFRi1TZW1pQm9sZEl0YWxpYy5vdGY=.png : Could not find a format to read the specified file in single-image mode - it's ok, skipping.\n",
      "Full dataset tensor: (52911, 28, 28)\n",
      "Mean: -0.007563046\n",
      "Standard deviation: 0.45449165\n",
      "Pickling ../H/datasets/notMNIST_large/C.pickle.\n",
      "../H/datasets/notMNIST_large/C\n",
      "Full dataset tensor: (52912, 28, 28)\n",
      "Mean: -0.14225793\n",
      "Standard deviation: 0.43980625\n",
      "Pickling ../H/datasets/notMNIST_large/D.pickle.\n",
      "../H/datasets/notMNIST_large/D\n",
      "Could not read: ../H/datasets/notMNIST_large/D/VHJhbnNpdCBCb2xkLnR0Zg==.png : Could not find a format to read the specified file in single-image mode - it's ok, skipping.\n",
      "Full dataset tensor: (52911, 28, 28)\n",
      "Mean: -0.05736782\n",
      "Standard deviation: 0.45564777\n",
      "Pickling ../H/datasets/notMNIST_large/E.pickle.\n",
      "../H/datasets/notMNIST_large/E\n",
      "Full dataset tensor: (52912, 28, 28)\n",
      "Mean: -0.06989898\n",
      "Standard deviation: 0.45294145\n",
      "Pickling ../H/datasets/notMNIST_large/F.pickle.\n",
      "../H/datasets/notMNIST_large/F\n",
      "Full dataset tensor: (52912, 28, 28)\n",
      "Mean: -0.12558305\n",
      "Standard deviation: 0.4470894\n",
      "Pickling ../H/datasets/notMNIST_large/G.pickle.\n",
      "../H/datasets/notMNIST_large/G\n",
      "Full dataset tensor: (52912, 28, 28)\n",
      "Mean: -0.094581515\n",
      "Standard deviation: 0.44624022\n",
      "Pickling ../H/datasets/notMNIST_large/H.pickle.\n",
      "../H/datasets/notMNIST_large/H\n",
      "Full dataset tensor: (52912, 28, 28)\n",
      "Mean: -0.068522066\n",
      "Standard deviation: 0.4542317\n",
      "Pickling ../H/datasets/notMNIST_large/I.pickle.\n",
      "../H/datasets/notMNIST_large/I\n",
      "Full dataset tensor: (52912, 28, 28)\n",
      "Mean: 0.030786246\n",
      "Standard deviation: 0.46889865\n",
      "Pickling ../H/datasets/notMNIST_large/J.pickle.\n",
      "../H/datasets/notMNIST_large/J\n",
      "Full dataset tensor: (52911, 28, 28)\n",
      "Mean: -0.15335836\n",
      "Standard deviation: 0.4436564\n",
      "Pickling ../H/datasets/notMNIST_small/A.pickle.\n",
      "../H/datasets/notMNIST_small/A\n",
      "Could not read: ../H/datasets/notMNIST_small/A/RGVtb2NyYXRpY2FCb2xkT2xkc3R5bGUgQm9sZC50dGY=.png : Could not find a format to read the specified file in single-image mode - it's ok, skipping.\n",
      "Full dataset tensor: (1872, 28, 28)\n",
      "Mean: -0.13262632\n",
      "Standard deviation: 0.445128\n",
      "Pickling ../H/datasets/notMNIST_small/B.pickle.\n",
      "../H/datasets/notMNIST_small/B\n",
      "Full dataset tensor: (1873, 28, 28)\n",
      "Mean: 0.005356082\n",
      "Standard deviation: 0.45711535\n",
      "Pickling ../H/datasets/notMNIST_small/C.pickle.\n",
      "../H/datasets/notMNIST_small/C\n",
      "Full dataset tensor: (1873, 28, 28)\n",
      "Mean: -0.14152056\n",
      "Standard deviation: 0.44269025\n",
      "Pickling ../H/datasets/notMNIST_small/D.pickle.\n",
      "../H/datasets/notMNIST_small/D\n",
      "Full dataset tensor: (1873, 28, 28)\n",
      "Mean: -0.049216665\n",
      "Standard deviation: 0.45975888\n",
      "Pickling ../H/datasets/notMNIST_small/E.pickle.\n",
      "../H/datasets/notMNIST_small/E\n",
      "Full dataset tensor: (1873, 28, 28)\n",
      "Mean: -0.05991474\n",
      "Standard deviation: 0.45734966\n",
      "Pickling ../H/datasets/notMNIST_small/F.pickle.\n",
      "../H/datasets/notMNIST_small/F\n",
      "Could not read: ../H/datasets/notMNIST_small/F/Q3Jvc3NvdmVyIEJvbGRPYmxpcXVlLnR0Zg==.png : Could not find a format to read the specified file in single-image mode - it's ok, skipping.\n",
      "Full dataset tensor: (1872, 28, 28)\n",
      "Mean: -0.11818534\n",
      "Standard deviation: 0.45227864\n",
      "Pickling ../H/datasets/notMNIST_small/G.pickle.\n",
      "../H/datasets/notMNIST_small/G\n",
      "Full dataset tensor: (1872, 28, 28)\n",
      "Mean: -0.09255034\n",
      "Standard deviation: 0.44900584\n",
      "Pickling ../H/datasets/notMNIST_small/H.pickle.\n",
      "../H/datasets/notMNIST_small/H\n",
      "Full dataset tensor: (1872, 28, 28)\n",
      "Mean: -0.05868924\n",
      "Standard deviation: 0.45875892\n",
      "Pickling ../H/datasets/notMNIST_small/I.pickle.\n",
      "../H/datasets/notMNIST_small/I\n",
      "Full dataset tensor: (1872, 28, 28)\n",
      "Mean: 0.052645046\n",
      "Standard deviation: 0.47189337\n",
      "Pickling ../H/datasets/notMNIST_small/J.pickle.\n",
      "../H/datasets/notMNIST_small/J\n",
      "Full dataset tensor: (1872, 28, 28)\n",
      "Mean: -0.15168917\n",
      "Standard deviation: 0.44801363\n"
     ]
    }
   ],
   "source": [
    "image_size = 28  # Pixel width and height.\n",
    "pixel_depth = 255.0  # Number of levels per pixel.\n",
    "\n",
    "\n",
    "# 指定文件夹，加载其中图片\n",
    "def load_letter(folder, min_num_images):\n",
    "    \"\"\"Load the data for a single letter label.\"\"\"\n",
    "    image_files = os.listdir(folder)\n",
    "    dataset = np.ndarray(\n",
    "        shape=(len(image_files), image_size, image_size),\n",
    "        dtype=np.float32,\n",
    "    )\n",
    "    print(folder)\n",
    "    \n",
    "    num_images = 0\n",
    "    for image in image_files:\n",
    "        image_file = os.path.join(folder, image)\n",
    "        try:\n",
    "            image_data = (imageio.imread(image_file).astype(float) -\n",
    "                          pixel_depth / 2) / pixel_depth\n",
    "            if image_data.shape != (image_size, image_size):\n",
    "                raise Exception('Unexpected image shape: %s' %\n",
    "                                str(image_data.shape))\n",
    "            dataset[num_images, :, :] = image_data\n",
    "            num_images = num_images + 1\n",
    "        except (IOError, ValueError) as e:\n",
    "            print('Could not read:', image_file, ':', e,\n",
    "                  '- it\\'s ok, skipping.')\n",
    "\n",
    "    dataset = dataset[0:num_images, :, :]\n",
    "    if num_images < min_num_images:\n",
    "        raise Exception('Many fewer images than expected: %d < %d' %\n",
    "                        (num_images, min_num_images))\n",
    "\n",
    "    print('Full dataset tensor:', dataset.shape)\n",
    "    print('Mean:', np.mean(dataset))\n",
    "    print('Standard deviation:', np.std(dataset))\n",
    "    return dataset\n",
    "\n",
    "\n",
    "# 加载所有图片，并将每个文件夹所有图片保存文pickle文件\n",
    "def maybe_pickle(data_folders, min_num_images_per_class, force=False):\n",
    "    dataset_names = []\n",
    "    for folder in data_folders:\n",
    "        set_filename = folder + '.pickle'\n",
    "        dataset_names.append(set_filename)\n",
    "        if os.path.exists(set_filename) and not force:\n",
    "            # You may override by setting force=True.\n",
    "            print('%s already present - Skipping pickling.' % set_filename)\n",
    "        else:\n",
    "            print('Pickling %s.' % set_filename)\n",
    "            dataset = load_letter(folder, min_num_images_per_class)\n",
    "            try:\n",
    "                with open(set_filename, 'wb') as f:\n",
    "                    pickle.dump(dataset, f, pickle.HIGHEST_PROTOCOL)\n",
    "            except Exception as e:\n",
    "                print('Unable to save data to', set_filename, ':', e)\n",
    "\n",
    "    return dataset_names\n",
    "\n",
    "\n",
    "train_datasets = maybe_pickle(train_folders, 45000)\n",
    "test_datasets = maybe_pickle(test_folders, 1800)"
   ]
  },
  {
   "cell_type": "code",
   "execution_count": 21,
   "metadata": {
    "ExecuteTime": {
     "end_time": "2020-04-12T07:19:41.004349Z",
     "start_time": "2020-04-12T07:19:40.998498Z"
    }
   },
   "outputs": [
    {
     "data": {
      "text/plain": [
       "['../H/datasets/notMNIST_large/A.pickle',\n",
       " '../H/datasets/notMNIST_large/B.pickle',\n",
       " '../H/datasets/notMNIST_large/C.pickle',\n",
       " '../H/datasets/notMNIST_large/D.pickle',\n",
       " '../H/datasets/notMNIST_large/E.pickle',\n",
       " '../H/datasets/notMNIST_large/F.pickle',\n",
       " '../H/datasets/notMNIST_large/G.pickle',\n",
       " '../H/datasets/notMNIST_large/H.pickle',\n",
       " '../H/datasets/notMNIST_large/I.pickle',\n",
       " '../H/datasets/notMNIST_large/J.pickle']"
      ]
     },
     "execution_count": 21,
     "metadata": {},
     "output_type": "execute_result"
    }
   ],
   "source": [
    "train_datasets"
   ]
  },
  {
   "cell_type": "code",
   "execution_count": null,
   "metadata": {},
   "outputs": [],
   "source": []
  },
  {
   "cell_type": "markdown",
   "metadata": {},
   "source": [
    "### 将`pickle`数据显示为图片"
   ]
  },
  {
   "cell_type": "code",
   "execution_count": 15,
   "metadata": {
    "ExecuteTime": {
     "end_time": "2020-04-12T07:14:38.079795Z",
     "start_time": "2020-04-12T07:14:37.992174Z"
    }
   },
   "outputs": [],
   "source": [
    "import matplotlib.pyplot as plt "
   ]
  },
  {
   "cell_type": "code",
   "execution_count": 16,
   "metadata": {
    "ExecuteTime": {
     "end_time": "2020-04-12T07:14:43.395895Z",
     "start_time": "2020-04-12T07:14:39.323254Z"
    }
   },
   "outputs": [
    {
     "data": {
      "image/png": "[encoded data removed]",
      "text/plain": [
       "<Figure size 1152x576 with 160 Axes>"
      ]
     },
     "metadata": {},
     "output_type": "display_data"
    }
   ],
   "source": [
    "Nr = len(train_folders)\n",
    "Nc = 16\n",
    "cmap = \"binary\"\n",
    "\n",
    "fig, axs = plt.subplots(Nr, Nc, figsize=(16, 8))\n",
    "# fig.suptitle('Multiple images')\n",
    "plt.subplots_adjust(wspace=0.2, hspace=0.2)\n",
    "plt.axis('off')\n",
    "\n",
    "# images = []\n",
    "for i in range(Nr):\n",
    "    folder = train_folders[i]\n",
    "    label = folder[-1]\n",
    "    with open(folder + '.pickle', 'rb') as f:\n",
    "        dataset = pickle.load(f)\n",
    "        np.random.shuffle(dataset)\n",
    "        samples = dataset[:Nc]\n",
    "    for j in range(Nc):\n",
    "        data = samples[j]\n",
    "        axs[i, j].imshow(data, cmap=cmap)\n",
    "        axs[i, j].set_axis_off\n",
    "        axs[i, j].set_xticks([])\n",
    "        axs[i, j].set_yticks([])\n",
    "        axs[i, j].label_outer()"
   ]
  },
  {
   "cell_type": "markdown",
   "metadata": {},
   "source": [
    "### 训练集、验证集、测试集"
   ]
  },
  {
   "cell_type": "code",
   "execution_count": 25,
   "metadata": {
    "ExecuteTime": {
     "end_time": "2020-04-12T07:31:30.447478Z",
     "start_time": "2020-04-12T07:31:28.695150Z"
    }
   },
   "outputs": [
    {
     "name": "stdout",
     "output_type": "stream",
     "text": [
      "Training: (200000, 28, 28) (200000,)\n",
      "Validation: (10000, 28, 28) (10000,)\n",
      "Testing: (10000, 28, 28) (10000,)\n",
      "{0: 'A', 1: 'B', 2: 'C', 3: 'D', 4: 'E', 5: 'F', 6: 'G', 7: 'H', 8: 'I', 9: 'J'}\n"
     ]
    }
   ],
   "source": [
    "def make_arrays(nb_rows, img_size):\n",
    "    if nb_rows:\n",
    "        dataset = np.ndarray((nb_rows, img_size, img_size), dtype=np.float32)\n",
    "        labels = np.ndarray(nb_rows, dtype=np.int32)\n",
    "    else:\n",
    "        dataset, labels = None, None\n",
    "    return dataset, labels\n",
    "\n",
    "\n",
    "def merge_datasets(pickle_files, train_size, valid_size=0):\n",
    "    num_classes = len(pickle_files)\n",
    "    valid_dataset, valid_labels = make_arrays(valid_size, image_size)\n",
    "    train_dataset, train_labels = make_arrays(train_size, image_size)\n",
    "\n",
    "    vsize_per_class = valid_size // num_classes\n",
    "    tsize_per_class = train_size // num_classes\n",
    "\n",
    "    start_v, start_t = 0, 0\n",
    "    end_v, end_t = vsize_per_class, tsize_per_class\n",
    "    end_l = vsize_per_class + tsize_per_class\n",
    "\n",
    "    label2letter = {}\n",
    "\n",
    "    for label, pickle_file in enumerate(pickle_files):\n",
    "        # pickle_file: pickle 文件的路径，如'../H/datasets/notMNIST_large/A.pickle'\n",
    "\n",
    "        try:\n",
    "            with open(pickle_file, 'rb') as f:\n",
    "                letter_set = pickle.load(f)\n",
    "                # let's shuffle the letters to have random validation and training set\n",
    "                np.random.shuffle(letter_set)\n",
    "                if valid_dataset is not None:\n",
    "                    valid_letter = letter_set[:vsize_per_class, :, :]\n",
    "                    valid_dataset[start_v:end_v, :, :] = valid_letter\n",
    "                    valid_labels[start_v:end_v] = label\n",
    "                    start_v += vsize_per_class\n",
    "                    end_v += vsize_per_class\n",
    "\n",
    "                train_letter = letter_set[vsize_per_class:end_l, :, :]\n",
    "                train_dataset[start_t:end_t, :, :] = train_letter\n",
    "                train_labels[start_t:end_t] = label\n",
    "                start_t += tsize_per_class\n",
    "                end_t += tsize_per_class\n",
    "        except Exception as e:\n",
    "            print('Unable to process data from', pickle_file, ':', e)\n",
    "            raise\n",
    "\n",
    "    return valid_dataset, valid_labels, train_dataset, train_labels\n",
    "\n",
    "\n",
    "train_size = 200000\n",
    "valid_size = 10000\n",
    "test_size = 10000\n",
    "\n",
    "valid_dataset, valid_labels, train_dataset, train_labels = merge_datasets(\n",
    "    train_datasets,\n",
    "    train_size,\n",
    "    valid_size,\n",
    ")\n",
    "_, _, test_dataset, test_labels = merge_datasets(test_datasets, test_size)\n",
    "\n",
    "\n",
    "# 标签和字母类别\n",
    "label2letter = {\n",
    "    label: pickle_file.split('/')[-1][0]\n",
    "    for label, pickle_file in enumerate(train_datasets)\n",
    "}\n",
    "\n",
    "print('Training:', train_dataset.shape, train_labels.shape)\n",
    "print('Validation:', valid_dataset.shape, valid_labels.shape)\n",
    "print('Testing:', test_dataset.shape, test_labels.shape)\n",
    "print(label2letter)"
   ]
  },
  {
   "cell_type": "code",
   "execution_count": 27,
   "metadata": {
    "ExecuteTime": {
     "end_time": "2020-04-12T07:34:29.634788Z",
     "start_time": "2020-04-12T07:34:29.629752Z"
    }
   },
   "outputs": [],
   "source": [
    "# 测试集和训练集的到的标签-字母是一致的\n",
    "assert {\n",
    "    label: pickle_file.split('/')[-1][0]\n",
    "    for label, pickle_file in enumerate(train_datasets)\n",
    "} == label2letter"
   ]
  },
  {
   "cell_type": "markdown",
   "metadata": {},
   "source": [
    "### 样本的类别分布"
   ]
  },
  {
   "cell_type": "code",
   "execution_count": 28,
   "metadata": {
    "ExecuteTime": {
     "end_time": "2020-04-12T07:35:12.849757Z",
     "start_time": "2020-04-12T07:35:12.840099Z"
    }
   },
   "outputs": [
    {
     "name": "stdout",
     "output_type": "stream",
     "text": [
      "train: A:20000;B:20000;C:20000;D:20000;E:20000;F:20000;G:20000;H:20000;I:20000;J:20000;\n",
      "valid: A:1000;B:1000;C:1000;D:1000;E:1000;F:1000;G:1000;H:1000;I:1000;J:1000;\n",
      "test: A:1000;B:1000;C:1000;D:1000;E:1000;F:1000;G:1000;H:1000;I:1000;J:1000;\n"
     ]
    }
   ],
   "source": [
    "def data_distribution(dataset, label2letter=label2letter):\n",
    "    for i in range(10):\n",
    "        num = len(dataset[dataset == i])\n",
    "        label = label2letter[i]\n",
    "        print(\"{}:{}\".format(label, num), end=';')\n",
    "\n",
    "\n",
    "for cat, dataset in zip(['train', 'valid', 'test'],\n",
    "                        [train_labels, valid_labels, test_labels]):\n",
    "    print(cat, end=': ')\n",
    "    data_distribution(dataset)\n",
    "    print()"
   ]
  },
  {
   "cell_type": "markdown",
   "metadata": {},
   "source": [
    "### 样本重排序"
   ]
  },
  {
   "cell_type": "code",
   "execution_count": 29,
   "metadata": {
    "ExecuteTime": {
     "end_time": "2020-04-12T07:36:24.224202Z",
     "start_time": "2020-04-12T07:36:24.107369Z"
    }
   },
   "outputs": [],
   "source": [
    "def randomize(dataset, labels):\n",
    "    permutation = np.random.permutation(labels.shape[0])\n",
    "    shuffled_dataset = dataset[permutation, :, :]\n",
    "    shuffled_labels = labels[permutation]\n",
    "    return shuffled_dataset, shuffled_labels\n",
    "\n",
    "\n",
    "train_dataset, train_labels = randomize(train_dataset, train_labels)\n",
    "test_dataset, test_labels = randomize(test_dataset, test_labels)\n",
    "valid_dataset, valid_labels = randomize(valid_dataset, valid_labels)"
   ]
  },
  {
   "cell_type": "markdown",
   "metadata": {},
   "source": [
    "### 验证数据与标签是否同步重排序"
   ]
  },
  {
   "cell_type": "code",
   "execution_count": 41,
   "metadata": {
    "ExecuteTime": {
     "end_time": "2020-04-12T07:39:36.922165Z",
     "start_time": "2020-04-12T07:39:36.607806Z"
    }
   },
   "outputs": [
    {
     "data": {
      "image/png": "[encoded data removed]",
      "text/plain": [
       "<Figure size 1152x288 with 20 Axes>"
      ]
     },
     "metadata": {},
     "output_type": "display_data"
    }
   ],
   "source": [
    "cmap = \"binary\"\n",
    "\n",
    "fig, axs = plt.subplots(1, 20, figsize=(16, 4))\n",
    "plt.subplots_adjust(wspace=0.2)\n",
    "plt.axis('off')\n",
    "\n",
    "for i in range(20):\n",
    "    ind = random.randint(0, 10000)\n",
    "    data = train_dataset[ind]\n",
    "    name = label2letter[train_labels[ind]]\n",
    "    axs[i].imshow(data, cmap=cmap)\n",
    "    axs[i].set_axis_off\n",
    "    axs[i].set_xticks([])\n",
    "    axs[i].set_yticks([])\n",
    "    axs[i].label_outer()\n",
    "    axs[i].set_title(name)"
   ]
  },
  {
   "cell_type": "markdown",
   "metadata": {},
   "source": [
    "### 保存最终数据"
   ]
  },
  {
   "cell_type": "code",
   "execution_count": 42,
   "metadata": {
    "ExecuteTime": {
     "end_time": "2020-04-12T07:41:57.044540Z",
     "start_time": "2020-04-12T07:41:56.584176Z"
    }
   },
   "outputs": [],
   "source": [
    "data_root = '../H/datasets/'\n",
    "pickle_file = os.path.join(data_root, 'notMNIST.pickle')\n",
    "\n",
    "try:\n",
    "    f = open(pickle_file, 'wb')\n",
    "    save = {\n",
    "        'train_dataset': train_dataset,\n",
    "        'train_labels': train_labels,\n",
    "        'valid_dataset': valid_dataset,\n",
    "        'valid_labels': valid_labels,\n",
    "        'test_dataset': test_dataset,\n",
    "        'test_labels': test_labels,\n",
    "    }\n",
    "    pickle.dump(save, f, pickle.HIGHEST_PROTOCOL)\n",
    "    f.close()\n",
    "except Exception as e:\n",
    "    print('Unable to save data to', pickle_file, ':', e)\n",
    "    raise"
   ]
  },
  {
   "cell_type": "code",
   "execution_count": 43,
   "metadata": {
    "ExecuteTime": {
     "end_time": "2020-04-12T07:42:12.563470Z",
     "start_time": "2020-04-12T07:42:12.558094Z"
    }
   },
   "outputs": [
    {
     "name": "stdout",
     "output_type": "stream",
     "text": [
      "Compressed pickle size: 690800506\n"
     ]
    }
   ],
   "source": [
    "statinfo = os.stat(pickle_file)\n",
    "print('Compressed pickle size:', statinfo.st_size)"
   ]
  },
  {
   "cell_type": "markdown",
   "metadata": {},
   "source": [
    "# 图片去重\n",
    "- 将图片数组大于0的数值变为1，小于0的数值变为0\n",
    "- 比较两张图片，计算相同位置处数值不相同的数量，小于某一阈值，即判定为相同的照片\n",
    "    - ***todo：太耗时，待优化***"
   ]
  },
  {
   "cell_type": "code",
   "execution_count": 44,
   "metadata": {
    "ExecuteTime": {
     "end_time": "2020-04-12T07:46:03.338742Z",
     "start_time": "2020-04-12T07:46:02.951713Z"
    }
   },
   "outputs": [],
   "source": [
    "data_root = '../H/datasets/'\n",
    "pickle_file = os.path.join(data_root, 'notMNIST.pickle')\n",
    "with open(pickle_file, 'rb') as f:\n",
    "    data = pickle.load(f)\n",
    "    train_dataset = data['train_dataset']\n",
    "    train_labels = data['train_labels']\n",
    "    test_dataset = data['test_dataset']\n",
    "    test_labels = data['test_labels']\n",
    "    valid_dataset = data['valid_dataset']\n",
    "    valid_labels = data['valid_labels']"
   ]
  },
  {
   "cell_type": "code",
   "execution_count": 45,
   "metadata": {
    "ExecuteTime": {
     "end_time": "2020-04-12T07:46:05.415736Z",
     "start_time": "2020-04-12T07:46:05.409853Z"
    }
   },
   "outputs": [],
   "source": [
    "# 将图片像素值转化成 1 和 0\n",
    "def aHash(img_array):\n",
    "    mask = (img_array > 0).astype(int)\n",
    "    return mask.flatten()\n",
    "\n",
    "\n",
    "# 比较转化后图片像素点相同的数量\n",
    "def diff(img1, img2):\n",
    "    hash1 = aHash(img1)\n",
    "    hash2 = aHash(img2)\n",
    "    diff = np.count_nonzero(hash1 != hash2)\n",
    "    return diff"
   ]
  },
  {
   "cell_type": "code",
   "execution_count": 46,
   "metadata": {
    "ExecuteTime": {
     "end_time": "2020-04-12T07:46:25.178529Z",
     "start_time": "2020-04-12T07:46:25.172871Z"
    }
   },
   "outputs": [
    {
     "data": {
      "text/plain": [
       "0"
      ]
     },
     "execution_count": 46,
     "metadata": {},
     "output_type": "execute_result"
    }
   ],
   "source": [
    "diff(train_dataset[0],train_dataset[0])"
   ]
  },
  {
   "cell_type": "code",
   "execution_count": 47,
   "metadata": {
    "ExecuteTime": {
     "end_time": "2020-04-12T07:46:33.472669Z",
     "start_time": "2020-04-12T07:46:33.467073Z"
    }
   },
   "outputs": [
    {
     "data": {
      "text/plain": [
       "(356, 382)"
      ]
     },
     "execution_count": 47,
     "metadata": {},
     "output_type": "execute_result"
    }
   ],
   "source": [
    "diff(train_dataset[0], train_dataset[1]), diff(train_dataset[0],\n",
    "                                               train_dataset[2])"
   ]
  },
  {
   "cell_type": "code",
   "execution_count": 48,
   "metadata": {
    "ExecuteTime": {
     "end_time": "2020-04-12T07:50:12.301766Z",
     "start_time": "2020-04-12T07:50:12.295302Z"
    }
   },
   "outputs": [],
   "source": [
    "# 给定图片，暴力遍历所有图片，找出重复的图片\n",
    "def overlapping(img, dataset, mask):\n",
    "    for i in mask:\n",
    "        if diff(img, dataset[i]) < 5:\n",
    "            return i\n",
    "\n",
    "\n",
    "# 找出训练集中和验证集中重复的图片\n",
    "def find_overlappings(valid_dataset, valid_labels, train_dataset,\n",
    "                      train_labels):\n",
    "    overlapping_index = []\n",
    "\n",
    "    for i, img in enumerate(valid_dataset):\n",
    "        label = valid_labels[i]\n",
    "        mask = np.where(train_labels == label)[0]\n",
    "\n",
    "        j = overlapping(img, train_dataset, mask)\n",
    "        if j is not None:\n",
    "            overlapping_index.append((i, j))\n",
    "    return overlapping_index"
   ]
  },
  {
   "cell_type": "code",
   "execution_count": 10,
   "metadata": {},
   "outputs": [
    {
     "name": "stdout",
     "output_type": "stream",
     "text": [
      "CPU times: user 32min 21s, sys: 300 ms, total: 32min 21s\n",
      "Wall time: 32min 21s\n"
     ]
    }
   ],
   "source": [
    "%%time\n",
    "overlapping_index = find_overlappings(valid_dataset, valid_labels,\n",
    "                                      train_dataset, train_labels)"
   ]
  },
  {
   "cell_type": "code",
   "execution_count": 11,
   "metadata": {
    "collapsed": true
   },
   "outputs": [
    {
     "data": {
      "text/plain": [
       "[(1, 183513),\n",
       " (2, 50023),\n",
       " (3, 85595),\n",
       " (8, 7778),\n",
       " (18, 115172),\n",
       " (23, 93739),\n",
       " (27, 184312),\n",
       " (32, 119397),\n",
       " (37, 17642),\n",
       " (39, 27),\n",
       " (65, 93350),\n",
       " (77, 62297),\n",
       " (81, 6216),\n",
       " (82, 41547),\n",
       " (93, 32350),\n",
       " (101, 4628),\n",
       " (105, 145752),\n",
       " (113, 15312),\n",
       " (114, 77430),\n",
       " (117, 181640),\n",
       " (123, 18427),\n",
       " (124, 134197),\n",
       " (137, 3442),\n",
       " (146, 131311),\n",
       " (158, 27),\n",
       " (159, 125142),\n",
       " (163, 27),\n",
       " (169, 166088),\n",
       " (170, 13263),\n",
       " (176, 58397),\n",
       " (179, 27),\n",
       " (189, 197128),\n",
       " (192, 254),\n",
       " (212, 13145),\n",
       " (216, 30811),\n",
       " (223, 86647),\n",
       " (225, 169198),\n",
       " (227, 16658),\n",
       " (228, 6520),\n",
       " (230, 35258),\n",
       " (235, 1759),\n",
       " (243, 132131),\n",
       " (254, 188492),\n",
       " (257, 97740),\n",
       " (259, 27),\n",
       " (263, 28637),\n",
       " (274, 115884),\n",
       " (278, 106254),\n",
       " (281, 119474),\n",
       " (285, 26782),\n",
       " (293, 5024),\n",
       " (295, 6018),\n",
       " (297, 20445),\n",
       " (301, 27),\n",
       " (309, 159528),\n",
       " (320, 62363),\n",
       " (324, 22953),\n",
       " (331, 89432),\n",
       " (334, 27),\n",
       " (335, 21068),\n",
       " (343, 54603),\n",
       " (348, 7596),\n",
       " (352, 1310),\n",
       " (361, 55901),\n",
       " (365, 2916),\n",
       " (369, 27),\n",
       " (373, 71143),\n",
       " (376, 27),\n",
       " (377, 143839),\n",
       " (378, 35076),\n",
       " (379, 140421),\n",
       " (381, 182131),\n",
       " (383, 59073),\n",
       " (386, 27),\n",
       " (391, 191539),\n",
       " (402, 198020),\n",
       " (411, 196873),\n",
       " (412, 26352),\n",
       " (417, 79882),\n",
       " (433, 4020),\n",
       " (440, 136767),\n",
       " (444, 90621),\n",
       " (445, 54729),\n",
       " (449, 25177),\n",
       " (462, 175838),\n",
       " (485, 14643),\n",
       " (491, 142282),\n",
       " (495, 154026),\n",
       " (505, 35640),\n",
       " (508, 75691),\n",
       " (513, 190845),\n",
       " (524, 187112),\n",
       " (526, 36672),\n",
       " (540, 27),\n",
       " (543, 837),\n",
       " (554, 1376),\n",
       " (556, 76098),\n",
       " (562, 26558),\n",
       " (565, 13628),\n",
       " (567, 137663),\n",
       " (568, 139985),\n",
       " (569, 50407),\n",
       " (570, 10299),\n",
       " (571, 27),\n",
       " (572, 37492),\n",
       " (574, 96244),\n",
       " (576, 118778),\n",
       " (577, 55213),\n",
       " (578, 134388),\n",
       " (579, 64465),\n",
       " (585, 15104),\n",
       " (594, 135369),\n",
       " (598, 581),\n",
       " (602, 254),\n",
       " (607, 83056),\n",
       " (609, 39116),\n",
       " (610, 53179),\n",
       " (615, 2661),\n",
       " (622, 11934),\n",
       " (640, 27),\n",
       " (651, 142912),\n",
       " (652, 9529),\n",
       " (654, 198174),\n",
       " (661, 54849),\n",
       " (662, 128713),\n",
       " (668, 128020),\n",
       " (670, 87329),\n",
       " (671, 71721),\n",
       " (675, 628),\n",
       " (677, 3582),\n",
       " (678, 52243),\n",
       " (684, 9353),\n",
       " (686, 32715),\n",
       " (693, 164009),\n",
       " (694, 141607),\n",
       " (696, 160913),\n",
       " (705, 191126),\n",
       " (707, 120242),\n",
       " (715, 124930),\n",
       " (717, 12468),\n",
       " (738, 82899),\n",
       " (743, 22894),\n",
       " (748, 93224),\n",
       " (750, 7874),\n",
       " (755, 43461),\n",
       " (758, 93643),\n",
       " (760, 25215),\n",
       " (761, 130730),\n",
       " (772, 4611),\n",
       " (773, 34416),\n",
       " (776, 27),\n",
       " (777, 83932),\n",
       " (778, 158219),\n",
       " (784, 70937),\n",
       " (787, 9050),\n",
       " (793, 29391),\n",
       " (794, 62600),\n",
       " (801, 39885),\n",
       " (802, 27),\n",
       " (811, 21724),\n",
       " (812, 92272),\n",
       " (814, 10874),\n",
       " (821, 39063),\n",
       " (824, 193466),\n",
       " (825, 122190),\n",
       " (827, 150378),\n",
       " (832, 3702),\n",
       " (840, 100367),\n",
       " (842, 5554),\n",
       " (853, 27),\n",
       " (862, 43897),\n",
       " (872, 91673),\n",
       " (873, 181752),\n",
       " (875, 684),\n",
       " (886, 130109),\n",
       " (889, 69799),\n",
       " (890, 123164),\n",
       " (894, 27),\n",
       " (907, 41405),\n",
       " (920, 27),\n",
       " (945, 178288),\n",
       " (946, 109974),\n",
       " (951, 32904),\n",
       " (953, 65360),\n",
       " (954, 102882),\n",
       " (965, 43647),\n",
       " (968, 116779),\n",
       " (974, 38051),\n",
       " (976, 60302),\n",
       " (977, 81557),\n",
       " (980, 106530),\n",
       " (983, 27),\n",
       " (988, 76716),\n",
       " (995, 32064),\n",
       " (999, 67559),\n",
       " (1001, 22584),\n",
       " (1003, 180407),\n",
       " (1008, 24135),\n",
       " (1009, 34843),\n",
       " (1012, 51910),\n",
       " (1013, 98787),\n",
       " (1017, 83885),\n",
       " (1021, 4813),\n",
       " (1023, 178447),\n",
       " (1031, 91712),\n",
       " (1036, 190191),\n",
       " (1040, 54953),\n",
       " (1043, 23960),\n",
       " (1057, 22602),\n",
       " (1065, 27),\n",
       " (1072, 71624),\n",
       " (1075, 27),\n",
       " (1076, 194372),\n",
       " (1081, 6778),\n",
       " (1082, 4988),\n",
       " (1095, 13747),\n",
       " (1098, 40436),\n",
       " (1105, 56080),\n",
       " (1116, 4020),\n",
       " (1125, 193401),\n",
       " (1128, 109493),\n",
       " (1129, 182300),\n",
       " (1136, 17871),\n",
       " (1142, 116985),\n",
       " (1145, 14349),\n",
       " (1149, 88735),\n",
       " (1155, 8298),\n",
       " (1165, 611),\n",
       " (1168, 72228),\n",
       " (1174, 32312),\n",
       " (1196, 1141),\n",
       " (1206, 196762),\n",
       " (1207, 18330),\n",
       " (1216, 27),\n",
       " (1228, 28639),\n",
       " (1229, 23677),\n",
       " (1236, 27829),\n",
       " (1239, 14075),\n",
       " (1243, 52304),\n",
       " (1245, 98812),\n",
       " (1248, 129973),\n",
       " (1262, 156322),\n",
       " (1266, 95676),\n",
       " (1267, 179384),\n",
       " (1271, 4940),\n",
       " (1282, 41837),\n",
       " (1286, 91767),\n",
       " (1289, 171820),\n",
       " (1300, 151118),\n",
       " (1302, 32218),\n",
       " (1306, 13678),\n",
       " (1314, 51211),\n",
       " (1315, 20324),\n",
       " (1323, 229),\n",
       " (1336, 27774),\n",
       " (1337, 37492),\n",
       " (1349, 62777),\n",
       " (1354, 169337),\n",
       " (1362, 79447),\n",
       " (1364, 837),\n",
       " (1369, 74970),\n",
       " (1371, 23347),\n",
       " (1378, 4398),\n",
       " (1385, 146005),\n",
       " (1388, 165236),\n",
       " (1389, 74165),\n",
       " (1393, 72581),\n",
       " (1400, 189082),\n",
       " (1404, 17863),\n",
       " (1405, 180837),\n",
       " (1418, 8872),\n",
       " (1423, 48811),\n",
       " (1425, 517),\n",
       " (1430, 9425),\n",
       " (1437, 70633),\n",
       " (1443, 8487),\n",
       " (1448, 99103),\n",
       " (1449, 8131),\n",
       " (1455, 193089),\n",
       " (1457, 77625),\n",
       " (1466, 27),\n",
       " (1477, 62306),\n",
       " (1481, 15291),\n",
       " (1482, 10354),\n",
       " (1485, 146512),\n",
       " (1488, 132657),\n",
       " (1494, 46959),\n",
       " (1498, 13161),\n",
       " (1499, 177904),\n",
       " (1509, 77178),\n",
       " (1516, 3296),\n",
       " (1519, 36191),\n",
       " (1526, 7368),\n",
       " (1531, 152673),\n",
       " (1532, 20541),\n",
       " (1533, 27),\n",
       " (1547, 39465),\n",
       " (1550, 27),\n",
       " (1551, 90368),\n",
       " (1552, 12991),\n",
       " (1554, 93046),\n",
       " (1561, 13470),\n",
       " (1562, 42327),\n",
       " (1563, 27218),\n",
       " (1571, 58668),\n",
       " (1577, 19672),\n",
       " (1582, 56454),\n",
       " (1589, 517),\n",
       " (1591, 134376),\n",
       " (1594, 64206),\n",
       " (1596, 150037),\n",
       " (1598, 69024),\n",
       " (1600, 138577),\n",
       " (1608, 15310),\n",
       " (1609, 176718),\n",
       " (1615, 128791),\n",
       " (1621, 13179),\n",
       " (1623, 8033),\n",
       " (1627, 92294),\n",
       " (1632, 6457),\n",
       " (1637, 20197),\n",
       " (1642, 176163),\n",
       " (1646, 17126),\n",
       " (1649, 95262),\n",
       " (1662, 192478),\n",
       " (1665, 3347),\n",
       " (1667, 33386),\n",
       " (1669, 159657),\n",
       " (1679, 27),\n",
       " (1680, 27),\n",
       " (1681, 50213),\n",
       " (1682, 27),\n",
       " (1687, 10091),\n",
       " (1688, 175289),\n",
       " (1703, 43907),\n",
       " (1706, 57693),\n",
       " (1707, 59382),\n",
       " (1722, 105726),\n",
       " (1726, 13353),\n",
       " (1733, 111405),\n",
       " (1739, 51587),\n",
       " (1741, 27),\n",
       " (1748, 9377),\n",
       " (1749, 111646),\n",
       " (1752, 11545),\n",
       " (1755, 112151),\n",
       " (1767, 159967),\n",
       " (1780, 5840),\n",
       " (1782, 12006),\n",
       " (1783, 69545),\n",
       " (1784, 93120),\n",
       " (1788, 837),\n",
       " (1792, 30577),\n",
       " (1794, 603),\n",
       " (1799, 174596),\n",
       " (1800, 83975),\n",
       " (1802, 36975),\n",
       " (1806, 31037),\n",
       " (1808, 16916),\n",
       " (1809, 897),\n",
       " (1814, 82069),\n",
       " (1823, 70546),\n",
       " (1828, 16916),\n",
       " (1832, 115735),\n",
       " (1838, 111984),\n",
       " (1841, 55985),\n",
       " (1856, 91491),\n",
       " (1858, 51499),\n",
       " (1860, 102716),\n",
       " (1866, 837),\n",
       " (1872, 45325),\n",
       " (1873, 140775),\n",
       " (1885, 23653),\n",
       " (1886, 60789),\n",
       " (1887, 12394),\n",
       " (1890, 33753),\n",
       " (1892, 9827),\n",
       " (1899, 66160),\n",
       " (1900, 187404),\n",
       " (1904, 23798),\n",
       " (1907, 96935),\n",
       " (1909, 87262),\n",
       " (1913, 62939),\n",
       " (1917, 154806),\n",
       " (1918, 49675),\n",
       " (1929, 46610),\n",
       " (1930, 70222),\n",
       " (1931, 167917),\n",
       " (1949, 15590),\n",
       " (1954, 12172),\n",
       " (1958, 149552),\n",
       " (1962, 3467),\n",
       " (1965, 182977),\n",
       " (1967, 29354),\n",
       " (1991, 53781),\n",
       " (1996, 27),\n",
       " (2003, 136597),\n",
       " (2004, 4256),\n",
       " (2007, 22497),\n",
       " (2016, 4297),\n",
       " (2019, 26745),\n",
       " (2022, 37914),\n",
       " (2024, 182981),\n",
       " (2027, 128413),\n",
       " (2029, 106079),\n",
       " (2035, 145590),\n",
       " (2036, 27),\n",
       " (2039, 17127),\n",
       " (2041, 88648),\n",
       " (2046, 126629),\n",
       " (2048, 25567),\n",
       " (2056, 31812),\n",
       " (2058, 50451),\n",
       " (2059, 29448),\n",
       " (2062, 150),\n",
       " (2068, 156717),\n",
       " (2072, 108887),\n",
       " (2076, 2003),\n",
       " (2079, 179581),\n",
       " (2084, 105297),\n",
       " (2087, 137253),\n",
       " (2092, 60363),\n",
       " (2094, 3060),\n",
       " (2095, 20541),\n",
       " (2102, 8),\n",
       " (2104, 99859),\n",
       " (2109, 105279),\n",
       " (2113, 51552),\n",
       " (2122, 49471),\n",
       " (2129, 170228),\n",
       " (2131, 27),\n",
       " (2136, 41216),\n",
       " (2145, 134562),\n",
       " (2147, 15291),\n",
       " (2148, 8579),\n",
       " (2153, 90111),\n",
       " (2159, 46755),\n",
       " (2163, 105551),\n",
       " (2164, 5818),\n",
       " (2176, 537),\n",
       " (2178, 36054),\n",
       " (2184, 84454),\n",
       " (2188, 63540),\n",
       " (2191, 107711),\n",
       " (2194, 11113),\n",
       " (2202, 6517),\n",
       " (2203, 9377),\n",
       " (2204, 33890),\n",
       " (2206, 157446),\n",
       " (2212, 1463),\n",
       " (2222, 27),\n",
       " (2227, 28197),\n",
       " (2237, 60315),\n",
       " (2244, 181251),\n",
       " (2245, 139219),\n",
       " (2250, 107244),\n",
       " (2254, 163734),\n",
       " (2260, 154939),\n",
       " (2271, 34866),\n",
       " (2276, 174663),\n",
       " (2277, 4858),\n",
       " (2289, 7138),\n",
       " (2298, 168393),\n",
       " (2301, 27),\n",
       " (2302, 193504),\n",
       " (2309, 192590),\n",
       " (2311, 98766),\n",
       " (2321, 76786),\n",
       " (2322, 132087),\n",
       " (2324, 12468),\n",
       " (2326, 30988),\n",
       " (2336, 44671),\n",
       " (2358, 82968),\n",
       " (2376, 104038),\n",
       " (2378, 12040),\n",
       " (2383, 123045),\n",
       " (2386, 167201),\n",
       " (2390, 55782),\n",
       " (2398, 161203),\n",
       " (2400, 26653),\n",
       " (2402, 21502),\n",
       " (2404, 611),\n",
       " (2406, 19783),\n",
       " (2416, 73507),\n",
       " (2425, 19217),\n",
       " (2426, 149),\n",
       " (2429, 27),\n",
       " (2435, 9087),\n",
       " (2444, 180537),\n",
       " (2445, 167124),\n",
       " (2447, 117260),\n",
       " (2450, 30687),\n",
       " (2463, 13431),\n",
       " (2468, 144531),\n",
       " (2474, 43101),\n",
       " (2479, 665),\n",
       " (2480, 8119),\n",
       " (2481, 32418),\n",
       " (2490, 114762),\n",
       " (2491, 48383),\n",
       " (2497, 10701),\n",
       " (2511, 27),\n",
       " (2516, 1627),\n",
       " (2518, 1613),\n",
       " (2521, 104812),\n",
       " (2531, 57155),\n",
       " (2532, 3756),\n",
       " (2539, 15291),\n",
       " (2544, 82118),\n",
       " (2545, 151847),\n",
       " (2553, 164331),\n",
       " (2560, 4989),\n",
       " (2563, 71817),\n",
       " (2567, 14076),\n",
       " (2569, 35811),\n",
       " (2572, 165222),\n",
       " (2578, 9051),\n",
       " (2580, 68295),\n",
       " (2587, 24468),\n",
       " (2593, 20532),\n",
       " (2594, 115003),\n",
       " (2595, 27109),\n",
       " (2597, 165088),\n",
       " (2602, 192542),\n",
       " (2603, 158012),\n",
       " (2607, 51121),\n",
       " (2608, 2494),\n",
       " (2615, 158357),\n",
       " (2616, 159052),\n",
       " (2618, 32228),\n",
       " (2623, 36566),\n",
       " (2624, 100197),\n",
       " (2626, 8624),\n",
       " (2628, 193982),\n",
       " (2631, 64838),\n",
       " (2637, 171773),\n",
       " (2645, 26264),\n",
       " (2647, 4840),\n",
       " (2674, 17553),\n",
       " (2677, 107528),\n",
       " (2679, 177073),\n",
       " (2681, 161885),\n",
       " (2683, 38022),\n",
       " (2693, 40543),\n",
       " (2695, 62009),\n",
       " (2700, 6562),\n",
       " (2703, 2671),\n",
       " (2706, 100068),\n",
       " (2710, 106515),\n",
       " (2715, 88553),\n",
       " (2724, 26191),\n",
       " (2725, 126285),\n",
       " (2730, 7182),\n",
       " (2734, 1376),\n",
       " (2739, 49380),\n",
       " (2741, 1835),\n",
       " (2749, 1586),\n",
       " (2755, 17463),\n",
       " (2758, 2802),\n",
       " (2763, 32740),\n",
       " (2764, 25732),\n",
       " (2768, 118320),\n",
       " (2771, 16916),\n",
       " (2779, 115697),\n",
       " (2789, 611),\n",
       " (2797, 6066),\n",
       " (2798, 40275),\n",
       " (2803, 67789),\n",
       " (2808, 28013),\n",
       " (2812, 60704),\n",
       " (2819, 77873),\n",
       " (2820, 124713),\n",
       " (2826, 7948),\n",
       " (2828, 27),\n",
       " (2840, 83066),\n",
       " (2845, 4316),\n",
       " (2847, 93671),\n",
       " (2849, 13101),\n",
       " (2854, 3296),\n",
       " (2857, 32218),\n",
       " (2859, 7787),\n",
       " (2871, 164968),\n",
       " (2874, 4883),\n",
       " (2886, 179819),\n",
       " (2887, 128459),\n",
       " (2888, 96345),\n",
       " (2892, 6371),\n",
       " (2894, 67022),\n",
       " (2900, 181994),\n",
       " (2908, 87497),\n",
       " (2910, 116117),\n",
       " (2912, 27),\n",
       " (2913, 24271),\n",
       " (2914, 183843),\n",
       " (2924, 40265),\n",
       " (2930, 11999),\n",
       " (2939, 37787),\n",
       " (2941, 159047),\n",
       " (2945, 48128),\n",
       " (2948, 24679),\n",
       " (2950, 10909),\n",
       " (2953, 104201),\n",
       " (2955, 63644),\n",
       " (2962, 2332),\n",
       " (2968, 3444),\n",
       " (2972, 35916),\n",
       " (2975, 93287),\n",
       " (2980, 50788),\n",
       " (2983, 27),\n",
       " (2985, 7774),\n",
       " (2991, 32562),\n",
       " (2994, 9163),\n",
       " (3005, 3861),\n",
       " (3014, 80959),\n",
       " (3015, 75904),\n",
       " (3018, 4133),\n",
       " (3021, 189308),\n",
       " (3022, 63761),\n",
       " (3025, 72612),\n",
       " (3028, 10312),\n",
       " (3029, 44907),\n",
       " (3033, 185666),\n",
       " (3040, 50077),\n",
       " (3043, 27),\n",
       " (3051, 113371),\n",
       " (3054, 154665),\n",
       " (3057, 40483),\n",
       " (3063, 22191),\n",
       " (3067, 118292),\n",
       " (3069, 64879),\n",
       " (3074, 27),\n",
       " (3078, 131449),\n",
       " (3081, 19765),\n",
       " (3087, 99113),\n",
       " (3092, 136650),\n",
       " (3108, 68817),\n",
       " (3111, 51076),\n",
       " (3115, 8398),\n",
       " (3116, 186023),\n",
       " (3121, 183556),\n",
       " (3123, 27),\n",
       " (3125, 135205),\n",
       " (3131, 6216),\n",
       " (3144, 7610),\n",
       " (3161, 27),\n",
       " (3167, 132572),\n",
       " (3174, 84776),\n",
       " (3184, 3485),\n",
       " (3188, 17630),\n",
       " (3193, 5926),\n",
       " (3198, 174351),\n",
       " (3199, 27),\n",
       " (3201, 189256),\n",
       " (3216, 84826),\n",
       " (3218, 9519),\n",
       " (3220, 52403),\n",
       " (3226, 177947),\n",
       " (3236, 120813),\n",
       " (3246, 85680),\n",
       " (3248, 103447),\n",
       " (3249, 22958),\n",
       " (3253, 31092),\n",
       " (3257, 10494),\n",
       " (3262, 30518),\n",
       " (3264, 27347),\n",
       " (3265, 684),\n",
       " (3273, 105250),\n",
       " (3281, 166924),\n",
       " (3290, 5440),\n",
       " (3298, 130275),\n",
       " (3312, 32463),\n",
       " (3319, 86549),\n",
       " (3328, 6180),\n",
       " (3329, 162245),\n",
       " (3347, 18739),\n",
       " (3348, 103428),\n",
       " (3349, 27),\n",
       " (3351, 20605),\n",
       " (3361, 187008),\n",
       " (3362, 10874),\n",
       " (3371, 51587),\n",
       " (3375, 254),\n",
       " (3376, 27),\n",
       " (3380, 101459),\n",
       " (3402, 94871),\n",
       " (3404, 54474),\n",
       " (3412, 4297),\n",
       " (3414, 183053),\n",
       " (3422, 134198),\n",
       " (3428, 78922),\n",
       " (3445, 39096),\n",
       " (3449, 48811),\n",
       " (3451, 32218),\n",
       " (3453, 95944),\n",
       " (3454, 55173),\n",
       " (3458, 27),\n",
       " (3464, 5627),\n",
       " (3473, 27),\n",
       " (3475, 100505),\n",
       " (3477, 94824),\n",
       " (3486, 137720),\n",
       " (3491, 7829),\n",
       " (3492, 55558),\n",
       " (3499, 142454),\n",
       " (3513, 2494),\n",
       " (3517, 15386),\n",
       " (3518, 91905),\n",
       " (3524, 107628),\n",
       " (3526, 23499),\n",
       " (3528, 185622),\n",
       " (3534, 164087),\n",
       " (3537, 59591),\n",
       " (3541, 163372),\n",
       " (3548, 143599),\n",
       " (3549, 52591),\n",
       " (3551, 10874),\n",
       " (3563, 11091),\n",
       " (3569, 97744),\n",
       " (3573, 153616),\n",
       " (3579, 105044),\n",
       " (3580, 59422),\n",
       " (3581, 57812),\n",
       " (3582, 151135),\n",
       " (3587, 103588),\n",
       " (3589, 192199),\n",
       " (3599, 4792),\n",
       " (3601, 41385),\n",
       " (3602, 27611),\n",
       " (3606, 27),\n",
       " (3610, 27),\n",
       " (3630, 5232),\n",
       " (3638, 113472),\n",
       " (3640, 12099),\n",
       " (3641, 6822),\n",
       " (3648, 16692),\n",
       " (3651, 60005),\n",
       " (3652, 11393),\n",
       " (3655, 124674),\n",
       " (3656, 27),\n",
       " (3657, 22855),\n",
       " (3658, 114911),\n",
       " (3674, 2720),\n",
       " (3676, 5015),\n",
       " (3677, 57898),\n",
       " (3679, 82178),\n",
       " (3683, 16111),\n",
       " (3684, 19902),\n",
       " (3685, 13671),\n",
       " (3689, 197717),\n",
       " (3695, 1618),\n",
       " (3700, 116167),\n",
       " (3702, 9566),\n",
       " (3707, 60385),\n",
       " (3728, 183662),\n",
       " (3731, 182142),\n",
       " (3749, 7596),\n",
       " (3751, 32864),\n",
       " (3752, 137330),\n",
       " (3754, 11786),\n",
       " (3761, 28013),\n",
       " (3764, 3826),\n",
       " (3766, 36993),\n",
       " (3767, 4940),\n",
       " (3776, 56046),\n",
       " (3777, 190998),\n",
       " (3781, 30543),\n",
       " (3782, 19254),\n",
       " (3784, 11646),\n",
       " (3800, 150923),\n",
       " (3806, 41051),\n",
       " (3818, 156308),\n",
       " (3819, 12444),\n",
       " (3821, 150438),\n",
       " (3825, 17570),\n",
       " (3826, 5811),\n",
       " (3828, 117213),\n",
       " (3836, 13747),\n",
       " (3838, 24214),\n",
       " (3839, 72297),\n",
       " (3842, 70217),\n",
       " (3845, 70747),\n",
       " (3852, 197950),\n",
       " (3854, 5843),\n",
       " (3861, 148525),\n",
       " (3862, 138493),\n",
       " (3863, 79542),\n",
       " (3872, 9570),\n",
       " (3883, 90033),\n",
       " (3894, 49311),\n",
       " (3901, 27),\n",
       " (3903, 27),\n",
       " (3910, 158307),\n",
       " (3916, 39020),\n",
       " (3919, 21357),\n",
       " (3920, 21027),\n",
       " (3934, 5939),\n",
       " (3940, 45181),\n",
       " (3941, 88197),\n",
       " (3944, 123026),\n",
       " (3948, 129035),\n",
       " (3950, 75134),\n",
       " (3952, 12991),\n",
       " (3954, 90482),\n",
       " (3962, 61311),\n",
       " (3973, 159267),\n",
       " (3978, 17395),\n",
       " (3993, 150),\n",
       " (3997, 160845),\n",
       " (4006, 39510),\n",
       " (4010, 165225),\n",
       " (4014, 479),\n",
       " (4021, 64830),\n",
       " (4024, 111219),\n",
       " (4026, 124526),\n",
       " (4033, 63547),\n",
       " (4035, 171893),\n",
       " (4037, 183180),\n",
       " (4041, 1923),\n",
       " (4045, 6882),\n",
       " (4059, 4297),\n",
       " (4061, 40504),\n",
       " (4072, 58571),\n",
       " (4073, 96915),\n",
       " (4074, 87348),\n",
       " (4076, 27),\n",
       " (4086, 68491),\n",
       " (4090, 159455),\n",
       " (4091, 27),\n",
       " (4093, 94117),\n",
       " (4095, 11782),\n",
       " (4100, 17871),\n",
       " (4101, 15507),\n",
       " (4105, 4173),\n",
       " (4109, 77746),\n",
       " (4113, 6211),\n",
       " (4115, 80203),\n",
       " (4121, 56483),\n",
       " (4124, 102151),\n",
       " (4126, 12913),\n",
       " (4130, 70342),\n",
       " (4134, 51399),\n",
       " (4135, 27),\n",
       " (4141, 27),\n",
       " (4142, 185630),\n",
       " (4145, 105013),\n",
       " (4146, 4879),\n",
       " (4151, 77314),\n",
       " (4152, 71658),\n",
       " (4155, 9195),\n",
       " (4158, 76870),\n",
       " (4167, 33708),\n",
       " (4169, 19211),\n",
       " (4178, 31072),\n",
       " (4181, 76133),\n",
       " (4182, 17453),\n",
       " (4189, 178),\n",
       " (4193, 139584),\n",
       " (4212, 27),\n",
       " (4235, 93825),\n",
       " (4236, 7138),\n",
       " (4251, 502),\n",
       " (4259, 137140),\n",
       " (4261, 93489),\n",
       " (4266, 3579),\n",
       " (4271, 27255),\n",
       " (4273, 21502),\n",
       " (4279, 82564),\n",
       " (4280, 10364),\n",
       " (4283, 16679),\n",
       " (4289, 70780),\n",
       " (4290, 34988),\n",
       " (4301, 90184),\n",
       " (4303, 4940),\n",
       " (4305, 5281),\n",
       " (4311, 4158),\n",
       " (4317, 14371),\n",
       " (4324, 127464),\n",
       " (4325, 135641),\n",
       " (4327, 93327),\n",
       " (4330, 72573),\n",
       " (4332, 120262),\n",
       " (4342, 113837),\n",
       " (4353, 27),\n",
       " (4357, 141248),\n",
       " (4358, 4991),\n",
       " (4364, 56949),\n",
       " (4384, 100415),\n",
       " (4397, 78006),\n",
       " (4400, 34112),\n",
       " (4407, 79755),\n",
       " (4410, 4110),\n",
       " (4411, 174540),\n",
       " (4412, 23954),\n",
       " (4419, 86748),\n",
       " (4428, 87200),\n",
       " (4438, 56249),\n",
       " (4439, 132024),\n",
       " (4441, 81500),\n",
       " (4444, 99303),\n",
       " (4451, 64380),\n",
       " (4452, 96343),\n",
       " (4455, 124329),\n",
       " (4456, 17902),\n",
       " (4457, 27),\n",
       " (4474, 74291),\n",
       " (4477, 66197),\n",
       " (4478, 4297),\n",
       " (4481, 9425),\n",
       " (4482, 35527),\n",
       " (4497, 135382),\n",
       " (4501, 11963),\n",
       " (4512, 116165),\n",
       " (4514, 47051),\n",
       " (4515, 133263),\n",
       " (4517, 29078),\n",
       " (4518, 229),\n",
       " (4520, 38734),\n",
       " (4527, 177168),\n",
       " (4533, 138597),\n",
       " (4538, 32307),\n",
       " (4545, 27),\n",
       " (4546, 190806),\n",
       " (4547, 66538),\n",
       " (4551, 27),\n",
       " (4557, 77451),\n",
       " (4558, 65965),\n",
       " (4568, 27),\n",
       " (4569, 23560),\n",
       " (4570, 16347),\n",
       " (4574, 58217),\n",
       " (4581, 177361),\n",
       " (4587, 38791),\n",
       " (4591, 40398),\n",
       " (4592, 183064),\n",
       " (4593, 162936),\n",
       " (4597, 84238),\n",
       " (4608, 31210),\n",
       " (4625, 1386),\n",
       " (4626, 4427),\n",
       " (4630, 65740),\n",
       " (4632, 154934),\n",
       " (4637, 28436),\n",
       " (4640, 193761),\n",
       " (4642, 56102),\n",
       " (4644, 160732),\n",
       " (4649, 134614),\n",
       " (4657, 18159),\n",
       " (4666, 58550),\n",
       " (4673, 54450),\n",
       " (4675, 33564),\n",
       " (4679, 181381),\n",
       " (4680, 117652),\n",
       " (4683, 109258),\n",
       " (4686, 5843),\n",
       " (4691, 1682),\n",
       " (4692, 36953),\n",
       " (4698, 133970),\n",
       " (4709, 194918),\n",
       " (4710, 180325),\n",
       " (4714, 185426),\n",
       " (4718, 94063),\n",
       " (4721, 164685),\n",
       " (4722, 42813),\n",
       " (4724, 1681),\n",
       " (4730, 125786),\n",
       " (4733, 40776),\n",
       " (4737, 26211),\n",
       " (4741, 19161),\n",
       " (4743, 73208),\n",
       " (4745, 120944),\n",
       " (4752, 130929),\n",
       " (4759, 126461),\n",
       " (4766, 9142),\n",
       " (4771, 43123),\n",
       " (4772, 12991),\n",
       " (4778, 40413),\n",
       " (4781, 197688),\n",
       " (4801, 180496),\n",
       " (4818, 79395),\n",
       " (4820, 1463),\n",
       " (4827, 62851),\n",
       " (4833, 57592),\n",
       " (4839, 3467),\n",
       " (4871, 36499),\n",
       " (4875, 63322),\n",
       " (4881, 1874),\n",
       " (4892, 166255),\n",
       " (4893, 8),\n",
       " (4897, 153091),\n",
       " (4899, 55447),\n",
       " (4902, 8906),\n",
       " (4904, 131963),\n",
       " (4911, 116154),\n",
       " (4913, 611),\n",
       " (4921, 107603),\n",
       " (4926, 6813),\n",
       " (4927, 41334),\n",
       " (4929, 99730),\n",
       " (4930, 118769),\n",
       " (4932, 4840),\n",
       " ...]"
      ]
     },
     "execution_count": 11,
     "metadata": {},
     "output_type": "execute_result"
    }
   ],
   "source": [
    "overlapping_index"
   ]
  },
  {
   "cell_type": "code",
   "execution_count": 24,
   "metadata": {},
   "outputs": [
    {
     "data": {
      "image/png": "[encoded data removed]",
      "text/plain": [
       "<Figure size 1152x144 with 40 Axes>"
      ]
     },
     "metadata": {},
     "output_type": "display_data"
    }
   ],
   "source": [
    "# 比较找出的重复图片\n",
    "\n",
    "def img_comparision(dataset1, name1, dataset2, name2, overlappings, num=20):\n",
    "    cmap = \"binary\"\n",
    "    fig, axs = plt.subplots(2, num, figsize=(16, 2))\n",
    "    plt.subplots_adjust(wspace=0.2)\n",
    "    plt.axis('off')\n",
    "\n",
    "    for k in range(20):\n",
    "        i, j = overlappings[k]\n",
    "        train = train_dataset[j]\n",
    "        valid = valid_dataset[i]\n",
    "\n",
    "        axs[0, k].imshow(train, cmap=cmap)\n",
    "        axs[0, k].set_axis_off\n",
    "        axs[0, k].set_title(name1)\n",
    "        axs[0, k].set_xticks([])\n",
    "        axs[0, k].set_yticks([])\n",
    "\n",
    "        axs[1, k].imshow(valid, cmap=cmap)\n",
    "        axs[1, k].set_axis_off\n",
    "        axs[1, k].set_title(name2)\n",
    "        axs[1, k].set_xticks([])\n",
    "        axs[1, k].set_yticks([])\n",
    "\n",
    "img_comparision(train_dataset, 'Train', valid_dataset, 'Valid',\n",
    "                overlapping_index)"
   ]
  },
  {
   "cell_type": "code",
   "execution_count": 20,
   "metadata": {},
   "outputs": [
    {
     "data": {
      "text/plain": [
       "7924"
      ]
     },
     "execution_count": 20,
     "metadata": {},
     "output_type": "execute_result"
    }
   ],
   "source": [
    "# 删除验证集中与训练集中重复的图片\n",
    "overlapping_mask = np.array(overlapping_index)[:,0]\n",
    "mask = np.setdiff1d(np.arange(len(valid_dataset)),overlapping_mask)\n",
    "sanitized_valid_dataset = valid_dataset[mask]\n",
    "sanitized_valid_labels = valid_labels[mask]\n",
    "\n",
    "len(sanitized_valid_dataset)"
   ]
  },
  {
   "cell_type": "code",
   "execution_count": 12,
   "metadata": {},
   "outputs": [
    {
     "name": "stdout",
     "output_type": "stream",
     "text": [
      "0:848;1:879;2:850;3:815;4:811;5:779;6:873;7:711;8:559;9:799;"
     ]
    }
   ],
   "source": [
    "# 去重后图片的类别分布\n",
    "data_distribution(sanitized_valid_labels)"
   ]
  },
  {
   "cell_type": "code",
   "execution_count": 29,
   "metadata": {},
   "outputs": [
    {
     "data": {
      "image/png": "[encoded data removed]",
      "text/plain": [
       "<Figure size 1152x144 with 40 Axes>"
      ]
     },
     "metadata": {},
     "output_type": "display_data"
    }
   ],
   "source": [
    "# 找出测试集中和训练集中重复的图片\n",
    "\n",
    "overlapping_index1 = find_overlappings(test_dataset, test_labels,\n",
    "                                       train_dataset, train_labels)\n",
    "\n",
    "img_comparision(train_dataset, 'Train', test_dataset, 'Test',\n",
    "                overlapping_index1)"
   ]
  },
  {
   "cell_type": "markdown",
   "metadata": {},
   "source": [
    "**全黑与全空白被判定为相同的图片？？？**"
   ]
  },
  {
   "cell_type": "code",
   "execution_count": 37,
   "metadata": {},
   "outputs": [
    {
     "name": "stdout",
     "output_type": "stream",
     "text": [
      "CPU times: user 1min 28s, sys: 2 ms, total: 1min 28s\n",
      "Wall time: 1min 28s\n"
     ]
    }
   ],
   "source": [
    "# 找出测试集中和验证集中重复的图片\n",
    "\n",
    "%%time\n",
    "overlapping_index2 = find_overlappings(test_dataset, test_labels,\n",
    "                                       sanitized_valid_dataset,\n",
    "                                       sanitized_valid_labels)"
   ]
  },
  {
   "cell_type": "code",
   "execution_count": 38,
   "metadata": {},
   "outputs": [],
   "source": [
    "# 删除测试集中与验证集中重复的图片\n",
    "\n",
    "overlapping_mask1 = np.array(overlapping_index1)[:, 0]\n",
    "overlapping_mask2 = np.array(overlapping_index2)[:, 0]\n",
    "mask = np.setdiff1d(np.arange(len(test_dataset)),\n",
    "                    np.union1d(overlapping_mask1, overlapping_mask2))\n",
    "\n",
    "sanitized_test_dataset = test_dataset[mask]\n",
    "sanitized_test_labels = test_labels[mask]"
   ]
  },
  {
   "cell_type": "code",
   "execution_count": 11,
   "metadata": {},
   "outputs": [
    {
     "name": "stdout",
     "output_type": "stream",
     "text": [
      "7438\n",
      "0:780;1:850;2:807;3:779;4:759;5:720;6:847;7:635;8:522;9:739;"
     ]
    }
   ],
   "source": [
    "# 去重后的类别分布\n",
    "\n",
    "print(len(sanitized_test_labels))\n",
    "data_distribution(sanitized_test_labels)"
   ]
  },
  {
   "cell_type": "code",
   "execution_count": 40,
   "metadata": {},
   "outputs": [],
   "source": [
    "# 重新保存去重后的数据\n",
    "\n",
    "data_root = '../H/datasets/'\n",
    "pickle_file = os.path.join(data_root, 'sanitized_notMNIST.pickle')\n",
    "\n",
    "try:\n",
    "    f = open(pickle_file, 'wb')\n",
    "    save = {\n",
    "        'valid_train_overlapping_index': overlapping_index,\n",
    "        'test_train_overlapping_index': overlapping_index1,\n",
    "        'test_sani_valid_overlapping_index': overlapping_index2,\n",
    "        'sanitized_test_dataset': sanitized_test_dataset,\n",
    "        'sanitized_test_labels': sanitized_test_labels,\n",
    "        'sanitized_valid_dataset': sanitized_valid_dataset,\n",
    "        'sanitized_valid_labels': sanitized_valid_labels,\n",
    "    }\n",
    "    pickle.dump(save, f, pickle.HIGHEST_PROTOCOL)\n",
    "    f.close()\n",
    "except Exception as e:\n",
    "    print('Unable to save data to', pickle_file, ':', e)\n",
    "    raise"
   ]
  },
  {
   "cell_type": "markdown",
   "metadata": {},
   "source": [
    "# 逻辑回归多分类"
   ]
  },
  {
   "cell_type": "code",
   "execution_count": 5,
   "metadata": {},
   "outputs": [],
   "source": [
    "from sklearn.metrics import accuracy_score"
   ]
  },
  {
   "cell_type": "code",
   "execution_count": 4,
   "metadata": {},
   "outputs": [],
   "source": [
    "data_root = '../H/datasets/'\n",
    "pickle_file = os.path.join(data_root, 'sanitized_notMNIST.pickle')\n",
    "with open(pickle_file, 'rb') as f:\n",
    "    data = pickle.load(f)\n",
    "    sanitized_test_dataset = data['sanitized_test_dataset']\n",
    "    sanitized_test_labels = data['sanitized_test_labels']\n",
    "    sanitized_valid_dataset = data['sanitized_valid_dataset']\n",
    "    sanitized_valid_labels = data['sanitized_valid_labels']"
   ]
  },
  {
   "cell_type": "code",
   "execution_count": 8,
   "metadata": {},
   "outputs": [],
   "source": [
    "# 将数据一维化\n",
    "\n",
    "train_dataset = train_dataset.reshape((-1,28*28))\n",
    "\n",
    "valid_dataset = valid_dataset.reshape((-1,28*28))\n",
    "test_dataset = test_dataset.reshape((-1,28*28))\n",
    "\n",
    "sanitized_test_dataset = sanitized_test_dataset.reshape((-1,28*28))\n",
    "sanitized_valid_dataset = sanitized_valid_dataset.reshape((-1,28*28))"
   ]
  },
  {
   "cell_type": "code",
   "execution_count": 20,
   "metadata": {},
   "outputs": [
    {
     "name": "stdout",
     "output_type": "stream",
     "text": [
      "First 50 samples:A:3;B:4;C:3;D:5;E:6;F:6;G:6;H:6;I:6;J:5;\n",
      "First 100 samples:A:12;B:9;C:9;D:8;E:15;F:7;G:10;H:10;I:10;J:10;\n",
      "First 1000 samples:A:99;B:89;C:87;D:86;E:110;F:100;G:98;H:108;I:112;J:111;\n",
      "First 5000 samples:A:476;B:494;C:524;D:471;E:512;F:519;G:483;H:524;I:501;J:496;\n"
     ]
    }
   ],
   "source": [
    "# 类别分布\n",
    "\n",
    "for num in [50,100,1000,5000]:\n",
    "    print('First {} samples'.format(num),end=':')\n",
    "    data_distribution(train_labels[:num])\n",
    "    print()"
   ]
  },
  {
   "cell_type": "code",
   "execution_count": 22,
   "metadata": {},
   "outputs": [
    {
     "name": "stderr",
     "output_type": "stream",
     "text": [
      "/home/student/anaconda3/envs/noam/lib/python3.6/site-packages/sklearn/linear_model/logistic.py:432: FutureWarning: Default solver will be changed to 'lbfgs' in 0.22. Specify a solver to silence this warning.\n",
      "  FutureWarning)\n",
      "/home/student/anaconda3/envs/noam/lib/python3.6/site-packages/sklearn/linear_model/logistic.py:469: FutureWarning: Default multi_class will be changed to 'auto' in 0.22. Specify the multi_class option to silence this warning.\n",
      "  \"this warning.\", FutureWarning)\n",
      "/home/student/anaconda3/envs/noam/lib/python3.6/site-packages/sklearn/linear_model/logistic.py:432: FutureWarning: Default solver will be changed to 'lbfgs' in 0.22. Specify a solver to silence this warning.\n",
      "  FutureWarning)\n",
      "/home/student/anaconda3/envs/noam/lib/python3.6/site-packages/sklearn/linear_model/logistic.py:469: FutureWarning: Default multi_class will be changed to 'auto' in 0.22. Specify the multi_class option to silence this warning.\n",
      "  \"this warning.\", FutureWarning)\n",
      "/home/student/anaconda3/envs/noam/lib/python3.6/site-packages/sklearn/linear_model/logistic.py:432: FutureWarning: Default solver will be changed to 'lbfgs' in 0.22. Specify a solver to silence this warning.\n",
      "  FutureWarning)\n",
      "/home/student/anaconda3/envs/noam/lib/python3.6/site-packages/sklearn/linear_model/logistic.py:469: FutureWarning: Default multi_class will be changed to 'auto' in 0.22. Specify the multi_class option to silence this warning.\n",
      "  \"this warning.\", FutureWarning)\n",
      "/home/student/anaconda3/envs/noam/lib/python3.6/site-packages/sklearn/linear_model/logistic.py:432: FutureWarning: Default solver will be changed to 'lbfgs' in 0.22. Specify a solver to silence this warning.\n",
      "  FutureWarning)\n",
      "/home/student/anaconda3/envs/noam/lib/python3.6/site-packages/sklearn/linear_model/logistic.py:469: FutureWarning: Default multi_class will be changed to 'auto' in 0.22. Specify the multi_class option to silence this warning.\n",
      "  \"this warning.\", FutureWarning)\n"
     ]
    },
    {
     "name": "stdout",
     "output_type": "stream",
     "text": [
      "CPU times: user 40.7 s, sys: 259 ms, total: 41 s\n",
      "Wall time: 39.1 s\n"
     ]
    }
   ],
   "source": [
    "# 训练模型\n",
    "\n",
    "%%time \n",
    "clfs = []\n",
    "accs = []\n",
    "nums = [50,100,1000,5000]\n",
    "for num in nums:\n",
    "    clf = LogisticRegression()\n",
    "    clf.fit(train_dataset[:num],train_labels[:num])\n",
    "    clfs.append(clf)\n",
    "    \n",
    "    valid_pred = clf.predict(valid_dataset)\n",
    "    acc = accuracy_score(valid_pred, valid_labels)\n",
    "    accs.append(acc)"
   ]
  },
  {
   "cell_type": "code",
   "execution_count": 32,
   "metadata": {},
   "outputs": [
    {
     "data": {
      "text/plain": [
       "[0.6084, 0.6977, 0.7677, 0.7828]"
      ]
     },
     "execution_count": 32,
     "metadata": {},
     "output_type": "execute_result"
    }
   ],
   "source": [
    "accs"
   ]
  },
  {
   "cell_type": "code",
   "execution_count": 24,
   "metadata": {},
   "outputs": [
    {
     "data": {
      "text/plain": [
       "Text(0, 0.5, 'accuracy')"
      ]
     },
     "execution_count": 24,
     "metadata": {},
     "output_type": "execute_result"
    },
    {
     "data": {
      "image/png": "[encoded data removed]",
      "text/plain": [
       "<Figure size 432x288 with 1 Axes>"
      ]
     },
     "metadata": {
      "needs_background": "light"
     },
     "output_type": "display_data"
    }
   ],
   "source": [
    "plt.scatter(nums,accs)\n",
    "plt.xlabel('no of samples')\n",
    "plt.ylabel('accuracy')"
   ]
  },
  {
   "cell_type": "code",
   "execution_count": 35,
   "metadata": {},
   "outputs": [
    {
     "data": {
      "text/plain": [
       "LogisticRegression(C=1.0, class_weight=None, dual=False, fit_intercept=True,\n",
       "                   intercept_scaling=1, l1_ratio=None, max_iter=100,\n",
       "                   multi_class='warn', n_jobs=None, penalty='l2',\n",
       "                   random_state=None, solver='warn', tol=0.0001, verbose=0,\n",
       "                   warm_start=False)"
      ]
     },
     "execution_count": 35,
     "metadata": {},
     "output_type": "execute_result"
    }
   ],
   "source": [
    "clf"
   ]
  },
  {
   "cell_type": "markdown",
   "metadata": {},
   "source": [
    "**训练样本从1000增加到5000，验证精度从 76.8% 增加到 78.3%**"
   ]
  },
  {
   "cell_type": "code",
   "execution_count": 29,
   "metadata": {},
   "outputs": [],
   "source": [
    "def confusion_matrix(y_pred, y_true):\n",
    "    cm = np.zeros((10,10))\n",
    "    t = np.arange(len(y_true))\n",
    "    for i in range(10):\n",
    "        for j in range(10):\n",
    "            cm[i,j]=len(t[(y_pred==i)&(y_true==j)])"
   ]
  },
  {
   "cell_type": "markdown",
   "metadata": {},
   "source": [
    "**原始的测试集及验证集**"
   ]
  },
  {
   "cell_type": "code",
   "execution_count": 25,
   "metadata": {},
   "outputs": [
    {
     "data": {
      "text/plain": [
       "0.78337"
      ]
     },
     "execution_count": 25,
     "metadata": {},
     "output_type": "execute_result"
    }
   ],
   "source": [
    "clf = clfs[3]\n",
    "train_pred = clf.predict(train_dataset)\n",
    "accuracy_score(train_pred, train_labels)"
   ]
  },
  {
   "cell_type": "code",
   "execution_count": 26,
   "metadata": {},
   "outputs": [
    {
     "data": {
      "text/plain": [
       "0.7828"
      ]
     },
     "execution_count": 26,
     "metadata": {},
     "output_type": "execute_result"
    }
   ],
   "source": [
    "valid_pred = clf.predict(valid_dataset)\n",
    "accuracy_score(valid_pred, valid_labels)"
   ]
  },
  {
   "cell_type": "code",
   "execution_count": 27,
   "metadata": {},
   "outputs": [
    {
     "data": {
      "text/plain": [
       "0.8576"
      ]
     },
     "execution_count": 27,
     "metadata": {},
     "output_type": "execute_result"
    }
   ],
   "source": [
    "test_pred = clf.predict(test_dataset)\n",
    "accuracy_score(test_pred, test_labels)"
   ]
  },
  {
   "cell_type": "markdown",
   "metadata": {},
   "source": [
    "**去重的测试集及验证集**"
   ]
  },
  {
   "cell_type": "code",
   "execution_count": 26,
   "metadata": {},
   "outputs": [
    {
     "data": {
      "text/plain": [
       "0.7651438667339727"
      ]
     },
     "execution_count": 26,
     "metadata": {},
     "output_type": "execute_result"
    }
   ],
   "source": [
    "sanitized_valid_pred = clf.predict(sanitized_valid_dataset)\n",
    "accuracy_score(sanitized_valid_pred, sanitized_valid_labels)"
   ]
  },
  {
   "cell_type": "code",
   "execution_count": 27,
   "metadata": {},
   "outputs": [
    {
     "data": {
      "text/plain": [
       "0.8339607421349825"
      ]
     },
     "execution_count": 27,
     "metadata": {},
     "output_type": "execute_result"
    }
   ],
   "source": [
    "sanitized_test_pred = clf.predict(sanitized_test_dataset)\n",
    "accuracy_score(sanitized_test_pred, sanitized_test_labels)"
   ]
  },
  {
   "cell_type": "markdown",
   "metadata": {},
   "source": [
    "**去重后，验证集和测试集的预测精度分别下降 1.5% 和 2.4%**"
   ]
  },
  {
   "cell_type": "markdown",
   "metadata": {},
   "source": [
    "## 逻辑回归超参的影响"
   ]
  },
  {
   "cell_type": "code",
   "execution_count": 56,
   "metadata": {},
   "outputs": [],
   "source": [
    "classifiers = []"
   ]
  },
  {
   "cell_type": "code",
   "execution_count": 57,
   "metadata": {},
   "outputs": [
    {
     "name": "stderr",
     "output_type": "stream",
     "text": [
      "/home/student/anaconda3/envs/noam/lib/python3.6/site-packages/sklearn/linear_model/logistic.py:432: FutureWarning: Default solver will be changed to 'lbfgs' in 0.22. Specify a solver to silence this warning.\n",
      "  FutureWarning)\n",
      "/home/student/anaconda3/envs/noam/lib/python3.6/site-packages/sklearn/linear_model/logistic.py:469: FutureWarning: Default multi_class will be changed to 'auto' in 0.22. Specify the multi_class option to silence this warning.\n",
      "  \"this warning.\", FutureWarning)\n",
      "/home/student/anaconda3/envs/noam/lib/python3.6/site-packages/sklearn/linear_model/logistic.py:432: FutureWarning: Default solver will be changed to 'lbfgs' in 0.22. Specify a solver to silence this warning.\n",
      "  FutureWarning)\n",
      "/home/student/anaconda3/envs/noam/lib/python3.6/site-packages/sklearn/linear_model/logistic.py:469: FutureWarning: Default multi_class will be changed to 'auto' in 0.22. Specify the multi_class option to silence this warning.\n",
      "  \"this warning.\", FutureWarning)\n",
      "/home/student/anaconda3/envs/noam/lib/python3.6/site-packages/sklearn/linear_model/logistic.py:432: FutureWarning: Default solver will be changed to 'lbfgs' in 0.22. Specify a solver to silence this warning.\n",
      "  FutureWarning)\n",
      "/home/student/anaconda3/envs/noam/lib/python3.6/site-packages/sklearn/linear_model/logistic.py:469: FutureWarning: Default multi_class will be changed to 'auto' in 0.22. Specify the multi_class option to silence this warning.\n",
      "  \"this warning.\", FutureWarning)\n",
      "/home/student/anaconda3/envs/noam/lib/python3.6/site-packages/sklearn/linear_model/logistic.py:432: FutureWarning: Default solver will be changed to 'lbfgs' in 0.22. Specify a solver to silence this warning.\n",
      "  FutureWarning)\n",
      "/home/student/anaconda3/envs/noam/lib/python3.6/site-packages/sklearn/linear_model/logistic.py:469: FutureWarning: Default multi_class will be changed to 'auto' in 0.22. Specify the multi_class option to silence this warning.\n",
      "  \"this warning.\", FutureWarning)\n"
     ]
    },
    {
     "name": "stdout",
     "output_type": "stream",
     "text": [
      "CPU times: user 15min 26s, sys: 1.85 s, total: 15min 28s\n",
      "Wall time: 15min 28s\n"
     ]
    }
   ],
   "source": [
    "%%time\n",
    "penalty = ['l1', 'l2']\n",
    "C = [1, 10]\n",
    "\n",
    "for p, c in product(penalty, C):\n",
    "    clf = LogisticRegression(penalty=p, C=c)\n",
    "    clf.fit(train_dataset[:10000], train_labels[:10000])\n",
    "    classifiers.append(clf)"
   ]
  },
  {
   "cell_type": "code",
   "execution_count": 58,
   "metadata": {},
   "outputs": [
    {
     "data": {
      "text/plain": [
       "[LogisticRegression(C=1, class_weight=None, dual=False, fit_intercept=True,\n",
       "                    intercept_scaling=1, l1_ratio=None, max_iter=100,\n",
       "                    multi_class='warn', n_jobs=None, penalty='l1',\n",
       "                    random_state=None, solver='warn', tol=0.0001, verbose=0,\n",
       "                    warm_start=False),\n",
       " LogisticRegression(C=10, class_weight=None, dual=False, fit_intercept=True,\n",
       "                    intercept_scaling=1, l1_ratio=None, max_iter=100,\n",
       "                    multi_class='warn', n_jobs=None, penalty='l1',\n",
       "                    random_state=None, solver='warn', tol=0.0001, verbose=0,\n",
       "                    warm_start=False),\n",
       " LogisticRegression(C=1, class_weight=None, dual=False, fit_intercept=True,\n",
       "                    intercept_scaling=1, l1_ratio=None, max_iter=100,\n",
       "                    multi_class='warn', n_jobs=None, penalty='l2',\n",
       "                    random_state=None, solver='warn', tol=0.0001, verbose=0,\n",
       "                    warm_start=False),\n",
       " LogisticRegression(C=10, class_weight=None, dual=False, fit_intercept=True,\n",
       "                    intercept_scaling=1, l1_ratio=None, max_iter=100,\n",
       "                    multi_class='warn', n_jobs=None, penalty='l2',\n",
       "                    random_state=None, solver='warn', tol=0.0001, verbose=0,\n",
       "                    warm_start=False)]"
      ]
     },
     "execution_count": 58,
     "metadata": {},
     "output_type": "execute_result"
    }
   ],
   "source": [
    "classifiers"
   ]
  },
  {
   "cell_type": "code",
   "execution_count": 59,
   "metadata": {},
   "outputs": [],
   "source": [
    "accs = []\n",
    "for clf in classifiers:\n",
    "    sanitized_valid_pred = clf.predict(sanitized_valid_dataset)\n",
    "    acc = accuracy_score(sanitized_valid_pred, sanitized_valid_labels)\n",
    "    accs.append(acc)"
   ]
  },
  {
   "cell_type": "code",
   "execution_count": 60,
   "metadata": {},
   "outputs": [
    {
     "data": {
      "text/plain": [
       "[0.7695608278647148,\n",
       " 0.7248864209994952,\n",
       " 0.7651438667339727,\n",
       " 0.7318273599192328]"
      ]
     },
     "execution_count": 60,
     "metadata": {},
     "output_type": "execute_result"
    }
   ],
   "source": [
    "accs"
   ]
  },
  {
   "cell_type": "code",
   "execution_count": 61,
   "metadata": {},
   "outputs": [
    {
     "data": {
      "text/plain": [
       "LogisticRegression(C=1, class_weight=None, dual=False, fit_intercept=True,\n",
       "                   intercept_scaling=1, l1_ratio=None, max_iter=100,\n",
       "                   multi_class='warn', n_jobs=None, penalty='l1',\n",
       "                   random_state=None, solver='warn', tol=0.0001, verbose=0,\n",
       "                   warm_start=False)"
      ]
     },
     "execution_count": 61,
     "metadata": {},
     "output_type": "execute_result"
    }
   ],
   "source": [
    "best_clf = classifiers[0]\n",
    "best_clf"
   ]
  },
  {
   "cell_type": "code",
   "execution_count": 63,
   "metadata": {},
   "outputs": [
    {
     "data": {
      "text/plain": [
       "0.8439096531325625"
      ]
     },
     "execution_count": 63,
     "metadata": {},
     "output_type": "execute_result"
    }
   ],
   "source": [
    "sanitized_test_pred = best_clf.predict(sanitized_test_dataset)\n",
    "accuracy_score(sanitized_test_pred, sanitized_test_labels)"
   ]
  },
  {
   "cell_type": "markdown",
   "metadata": {},
   "source": [
    "# 基于TensorFlow的逻辑回归多分类"
   ]
  },
  {
   "cell_type": "code",
   "execution_count": 1,
   "metadata": {},
   "outputs": [],
   "source": [
    "import numpy as np\n",
    "import tensorflow as tf\n",
    "from six.moves import cPickle as pickle\n",
    "from six.moves import range"
   ]
  },
  {
   "cell_type": "code",
   "execution_count": 41,
   "metadata": {},
   "outputs": [
    {
     "name": "stdout",
     "output_type": "stream",
     "text": [
      "Training set (200000, 28, 28) (200000,)\n",
      "Validation set (10000, 28, 28) (10000,)\n",
      "Test set (10000, 28, 28) (10000,)\n"
     ]
    }
   ],
   "source": [
    "pickle_file = '../H/datasets/notMNIST.pickle'\n",
    "\n",
    "with open(pickle_file, 'rb') as f:\n",
    "    save = pickle.load(f)\n",
    "    train_dataset = save['train_dataset']\n",
    "    train_labels = save['train_labels']\n",
    "    valid_dataset = save['valid_dataset']\n",
    "    valid_labels = save['valid_labels']\n",
    "    test_dataset = save['test_dataset']\n",
    "    test_labels = save['test_labels']\n",
    "    del save  # hint to help gc free up memory\n",
    "    print('Training set', train_dataset.shape, train_labels.shape)\n",
    "    print('Validation set', valid_dataset.shape, valid_labels.shape)\n",
    "    print('Test set', test_dataset.shape, test_labels.shape)"
   ]
  },
  {
   "cell_type": "markdown",
   "metadata": {},
   "source": [
    "去重的数据"
   ]
  },
  {
   "cell_type": "code",
   "execution_count": 42,
   "metadata": {},
   "outputs": [
    {
     "name": "stdout",
     "output_type": "stream",
     "text": [
      "sanitized_Validation set (7924, 28, 28) (7924,)\n",
      "sanitized_Test set (7438, 28, 28) (7438,)\n"
     ]
    }
   ],
   "source": [
    "pickle_file = '../H/datasets/sanitized_notMNIST.pickle'\n",
    "\n",
    "with open(pickle_file, 'rb') as f:\n",
    "    save = pickle.load(f)\n",
    "    sanitized_valid_dataset = save['sanitized_valid_dataset']\n",
    "    sanitized_valid_labels = save['sanitized_valid_labels']\n",
    "    sanitized_test_dataset = save['sanitized_test_dataset']\n",
    "    sanitized_test_labels = save['sanitized_test_labels']\n",
    "    del save  # hint to help gc free up memory|\n",
    "    print('sanitized_Validation set', sanitized_valid_dataset.shape,\n",
    "          sanitized_valid_labels.shape)\n",
    "    print('sanitized_Test set', sanitized_test_dataset.shape,\n",
    "          sanitized_test_labels.shape)"
   ]
  },
  {
   "cell_type": "markdown",
   "metadata": {},
   "source": [
    "## 数据处理\n",
    "- 将图片的28x28数据，转化为一维向量\n",
    "- 将每个标签转化为one-hoet向量"
   ]
  },
  {
   "cell_type": "code",
   "execution_count": 43,
   "metadata": {},
   "outputs": [
    {
     "name": "stdout",
     "output_type": "stream",
     "text": [
      "Training set (200000, 784) (200000, 10)\n",
      "Validation set (10000, 784) (10000, 10)\n",
      "Test set (10000, 784) (10000, 10)\n"
     ]
    }
   ],
   "source": [
    "image_size = 28\n",
    "num_labels = 10\n",
    "\n",
    "\n",
    "def reformat(dataset, labels):\n",
    "    dataset = dataset.reshape((-1, image_size * image_size)).astype(np.float32)\n",
    "    # Map 0 to [1.0, 0.0, 0.0 ...], 1 to [0.0, 1.0, 0.0 ...]\n",
    "    labels = (np.arange(num_labels) == labels[:, None]).astype(np.float32)\n",
    "    return dataset, labels\n",
    "\n",
    "\n",
    "train_dataset, train_labels = reformat(train_dataset, train_labels)\n",
    "valid_dataset, valid_labels = reformat(valid_dataset, valid_labels)\n",
    "test_dataset, test_labels = reformat(test_dataset, test_labels)\n",
    "print('Training set', train_dataset.shape, train_labels.shape)\n",
    "print('Validation set', valid_dataset.shape, valid_labels.shape)\n",
    "print('Test set', test_dataset.shape, test_labels.shape)"
   ]
  },
  {
   "cell_type": "code",
   "execution_count": 44,
   "metadata": {},
   "outputs": [
    {
     "name": "stdout",
     "output_type": "stream",
     "text": [
      "sanitized_Validation set (7924, 784) (7924, 10)\n",
      "sanitized_Test set (7438, 784) (7438, 10)\n"
     ]
    }
   ],
   "source": [
    "sanitized_valid_dataset, sanitized_valid_labels = reformat(\n",
    "    sanitized_valid_dataset, sanitized_valid_labels)\n",
    "sanitized_test_dataset, sanitized_test_labels = reformat(\n",
    "    sanitized_test_dataset, sanitized_test_labels)\n",
    "print('sanitized_Validation set', sanitized_valid_dataset.shape,\n",
    "      sanitized_valid_labels.shape)\n",
    "print('sanitized_Test set', sanitized_test_dataset.shape,\n",
    "      sanitized_test_labels.shape)"
   ]
  },
  {
   "cell_type": "markdown",
   "metadata": {},
   "source": [
    "## 多分类逻辑回归"
   ]
  },
  {
   "cell_type": "code",
   "execution_count": 128,
   "metadata": {},
   "outputs": [],
   "source": [
    "# With gradient descent training, even this much data is prohibitive.\n",
    "# Subset the training data for faster turnaround.\n",
    "train_subset = 10000\n",
    "\n",
    "graph = tf.Graph()\n",
    "with graph.as_default():\n",
    "\n",
    "    # Input data.\n",
    "    # Load the training, validation and test data into constants that are\n",
    "    # attached to the graph.\n",
    "    tf_train_dataset = tf.constant(train_dataset[:train_subset, :])\n",
    "    tf_train_labels = tf.constant(train_labels[:train_subset])\n",
    "    tf_valid_dataset = tf.constant(valid_dataset)\n",
    "    tf_test_dataset = tf.constant(test_dataset)\n",
    "\n",
    "    # Variables.\n",
    "    # These are the parameters that we are going to be training. The weight\n",
    "    # matrix will be initialized using random values following a (truncated)\n",
    "    # normal distribution. The biases get initialized to zero.\n",
    "    weights = tf.Variable(\n",
    "        tf.truncated_normal([image_size * image_size, num_labels]))\n",
    "    biases = tf.Variable(tf.zeros([num_labels]))\n",
    "\n",
    "    # Training computation.\n",
    "    # We multiply the inputs with the weight matrix, and add biases. We compute\n",
    "    # the softmax and cross-entropy (it's one operation in TensorFlow, because\n",
    "    # it's very common, and it can be optimized). We take the average of this\n",
    "    # cross-entropy across all training examples: that's our loss.\n",
    "    logits = tf.matmul(tf_train_dataset, weights) + biases\n",
    "    loss = tf.reduce_mean(\n",
    "        tf.nn.softmax_cross_entropy_with_logits(labels=tf_train_labels,\n",
    "                                                logits=logits))\n",
    "\n",
    "    # Optimizer.\n",
    "    # We are going to find the minimum of this loss using gradient descent.\n",
    "    optimizer = tf.train.GradientDescentOptimizer(0.5).minimize(loss)\n",
    "\n",
    "    # Predictions for the training, validation, and test data.\n",
    "    # These are not part of training, but merely here so that we can report\n",
    "    # accuracy figures as we train.\n",
    "    train_prediction = tf.nn.softmax(logits)\n",
    "    valid_prediction = tf.nn.softmax(\n",
    "        tf.matmul(tf_valid_dataset, weights) + biases)\n",
    "    test_prediction = tf.nn.softmax(\n",
    "        tf.matmul(tf_test_dataset, weights) + biases)"
   ]
  },
  {
   "cell_type": "code",
   "execution_count": 129,
   "metadata": {},
   "outputs": [],
   "source": [
    "def accuracy(predictions, labels):\n",
    "    return (100.0 * np.sum(np.argmax(predictions, 1) == np.argmax(labels, 1)) /\n",
    "            predictions.shape[0])"
   ]
  },
  {
   "cell_type": "code",
   "execution_count": 130,
   "metadata": {},
   "outputs": [
    {
     "name": "stdout",
     "output_type": "stream",
     "text": [
      "Initialized\n",
      "Loss at step 0: 21.951445\n",
      "Training accuracy: 7.6%\n",
      "Validation accuracy: 12.1%\n",
      "Loss at step 100: 2.229361\n",
      "Training accuracy: 72.8%\n",
      "Validation accuracy: 71.6%\n",
      "Loss at step 200: 1.789998\n",
      "Training accuracy: 75.5%\n",
      "Validation accuracy: 74.1%\n",
      "Loss at step 300: 1.558776\n",
      "Training accuracy: 76.9%\n",
      "Validation accuracy: 74.6%\n",
      "Loss at step 400: 1.404579\n",
      "Training accuracy: 77.8%\n",
      "Validation accuracy: 74.9%\n",
      "Loss at step 500: 1.290256\n",
      "Training accuracy: 78.6%\n",
      "Validation accuracy: 75.3%\n",
      "Loss at step 600: 1.200214\n",
      "Training accuracy: 79.2%\n",
      "Validation accuracy: 75.6%\n",
      "Loss at step 700: 1.126540\n",
      "Training accuracy: 79.6%\n",
      "Validation accuracy: 75.8%\n",
      "Loss at step 800: 1.064710\n",
      "Training accuracy: 79.9%\n",
      "Validation accuracy: 76.0%\n",
      "Test accuracy: 83.1%\n"
     ]
    }
   ],
   "source": [
    "num_steps = 801\n",
    "\n",
    "with tf.Session(graph=graph) as session:\n",
    "    # This is a one-time operation which ensures the parameters get initialized as\n",
    "    # we described in the graph: random weights for the matrix, zeros for the\n",
    "    # biases.\n",
    "    tf.global_variables_initializer().run()\n",
    "    print('Initialized')\n",
    "    for step in range(num_steps):\n",
    "        # Run the computations. We tell .run() that we want to run the optimizer,\n",
    "        # and get the loss value and the training predictions returned as numpy\n",
    "        # arrays.\n",
    "        _, l, predictions = session.run([optimizer, loss, train_prediction])\n",
    "        if (step % 100 == 0):\n",
    "            print('Loss at step %d: %f' % (step, l))\n",
    "            print('Training accuracy: %.1f%%' %\n",
    "                  accuracy(predictions, train_labels[:train_subset, :]))\n",
    "            # Calling .eval() on valid_prediction is basically like calling run(), but\n",
    "            # just to get that one numpy array. Note that it recomputes all its graph\n",
    "            # dependencies.\n",
    "            print('Validation accuracy: %.1f%%' %\n",
    "                  accuracy(valid_prediction.eval(), valid_labels))\n",
    "    print('Test accuracy: %.1f%%' %\n",
    "          accuracy(test_prediction.eval(), test_labels))"
   ]
  },
  {
   "cell_type": "markdown",
   "metadata": {},
   "source": [
    "## 随机梯度下降训练模型"
   ]
  },
  {
   "cell_type": "code",
   "execution_count": 131,
   "metadata": {},
   "outputs": [],
   "source": [
    "batch_size = 128\n",
    "\n",
    "graph = tf.Graph()\n",
    "with graph.as_default():\n",
    "\n",
    "    # Input data. For the training data, we use a placeholder that will be fed\n",
    "    # at run time with a training minibatch.\n",
    "    tf_train_dataset = tf.placeholder(tf.float32,\n",
    "                                      shape=(batch_size,\n",
    "                                             image_size * image_size))\n",
    "    tf_train_labels = tf.placeholder(tf.float32,\n",
    "                                     shape=(batch_size, num_labels))\n",
    "    tf_valid_dataset = tf.constant(valid_dataset)\n",
    "    tf_test_dataset = tf.constant(test_dataset)\n",
    "\n",
    "    # Variables.\n",
    "    weights = tf.Variable(\n",
    "        tf.truncated_normal([image_size * image_size, num_labels]))\n",
    "    biases = tf.Variable(tf.zeros([num_labels]))\n",
    "\n",
    "    # Training computation.\n",
    "    logits = tf.matmul(tf_train_dataset, weights) + biases\n",
    "    loss = tf.reduce_mean(\n",
    "        tf.nn.softmax_cross_entropy_with_logits(labels=tf_train_labels,\n",
    "                                                logits=logits))\n",
    "\n",
    "    # Optimizer.\n",
    "    optimizer = tf.train.GradientDescentOptimizer(0.5).minimize(loss)\n",
    "\n",
    "    # Predictions for the training, validation, and test data.\n",
    "    train_prediction = tf.nn.softmax(logits)\n",
    "    valid_prediction = tf.nn.softmax(\n",
    "        tf.matmul(tf_valid_dataset, weights) + biases)\n",
    "    test_prediction = tf.nn.softmax(\n",
    "        tf.matmul(tf_test_dataset, weights) + biases)"
   ]
  },
  {
   "cell_type": "code",
   "execution_count": 132,
   "metadata": {},
   "outputs": [
    {
     "name": "stdout",
     "output_type": "stream",
     "text": [
      "Initialized\n",
      "Minibatch loss at step 0: 20.930994\n",
      "Minibatch accuracy: 6.2%\n",
      "Validation accuracy: 8.8%\n",
      "Minibatch loss at step 500: 1.645523\n",
      "Minibatch accuracy: 78.1%\n",
      "Validation accuracy: 76.7%\n",
      "Minibatch loss at step 1000: 1.300367\n",
      "Minibatch accuracy: 79.7%\n",
      "Validation accuracy: 77.3%\n",
      "Minibatch loss at step 1500: 1.049319\n",
      "Minibatch accuracy: 80.5%\n",
      "Validation accuracy: 78.0%\n",
      "Minibatch loss at step 2000: 1.111283\n",
      "Minibatch accuracy: 82.8%\n",
      "Validation accuracy: 78.9%\n",
      "Minibatch loss at step 2500: 0.775358\n",
      "Minibatch accuracy: 79.7%\n",
      "Validation accuracy: 79.5%\n",
      "Minibatch loss at step 3000: 0.956375\n",
      "Minibatch accuracy: 78.1%\n",
      "Validation accuracy: 78.8%\n",
      "Test accuracy: 85.4%\n"
     ]
    }
   ],
   "source": [
    "num_steps = 3001\n",
    "\n",
    "with tf.Session(graph=graph) as session:\n",
    "    tf.global_variables_initializer().run()\n",
    "    print(\"Initialized\")\n",
    "    for step in range(num_steps):\n",
    "        # Pick an offset within the training data, which has been randomized.\n",
    "        # Note: we could use better randomization across epochs.\n",
    "        offset = (step * batch_size) % (train_labels.shape[0] - batch_size)\n",
    "        # Generate a minibatch.\n",
    "        batch_data = train_dataset[offset:(offset + batch_size), :]\n",
    "        batch_labels = train_labels[offset:(offset + batch_size), :]\n",
    "        # Prepare a dictionary telling the session where to feed the minibatch.\n",
    "        # The key of the dictionary is the placeholder node of the graph to be fed,\n",
    "        # and the value is the numpy array to feed to it.\n",
    "        feed_dict = {\n",
    "            tf_train_dataset: batch_data,\n",
    "            tf_train_labels: batch_labels\n",
    "        }\n",
    "        _, l, predictions = session.run([optimizer, loss, train_prediction],\n",
    "                                        feed_dict=feed_dict)\n",
    "        if (step % 500 == 0):\n",
    "            print(\"Minibatch loss at step %d: %f\" % (step, l))\n",
    "            print(\"Minibatch accuracy: %.1f%%\" %\n",
    "                  accuracy(predictions, batch_labels))\n",
    "            print(\"Validation accuracy: %.1f%%\" %\n",
    "                  accuracy(valid_prediction.eval(), valid_labels))\n",
    "    print(\"Test accuracy: %.1f%%\" %\n",
    "          accuracy(test_prediction.eval(), test_labels))"
   ]
  },
  {
   "cell_type": "markdown",
   "metadata": {},
   "source": [
    "# 神经网络分类器\n",
    "创建2层神经网络模型，1024隐藏神经元，relu 激活函数，"
   ]
  },
  {
   "cell_type": "code",
   "execution_count": 109,
   "metadata": {},
   "outputs": [],
   "source": [
    "batch_size = 128\n",
    "hidden_layer_size = 1024\n",
    "num_labels = 10\n",
    "graph = tf.Graph()\n",
    "\n",
    "with graph.as_default():\n",
    "    x = tf.placeholder(tf.float32, shape=(None, image_size * image_size))\n",
    "    y_ = tf.placeholder(tf.float32, shape=(None, num_labels))\n",
    "\n",
    "    w1 = tf.Variable(\n",
    "        tf.truncated_normal([image_size * image_size, hidden_layer_size]))\n",
    "    b1 = tf.Variable(tf.zeros([hidden_layer_size]))\n",
    "    y1 = tf.matmul(x, w1) + b1\n",
    "    y1_relu = tf.nn.relu(y1)\n",
    "\n",
    "    w2 = tf.Variable(tf.truncated_normal([hidden_layer_size, num_labels]))\n",
    "    b2 = tf.Variable(tf.zeros([num_labels]))\n",
    "    y_pred = tf.matmul(y1_relu, w2) + b2\n",
    "\n",
    "    cross_entropy = tf.reduce_mean(\n",
    "        tf.nn.softmax_cross_entropy_with_logits(labels=y_, logits=y_pred))\n",
    "\n",
    "    train_step = tf.train.GradientDescentOptimizer(0.5).minimize(cross_entropy)\n",
    "\n",
    "    correct_predicetion = tf.equal(tf.argmax(y_, 1), tf.argmax(y_pred, 1))\n",
    "    accuracy = tf.reduce_mean(tf.cast(correct_predicetion, tf.float32))"
   ]
  },
  {
   "cell_type": "code",
   "execution_count": 110,
   "metadata": {},
   "outputs": [
    {
     "name": "stdout",
     "output_type": "stream",
     "text": [
      "Initialized\n",
      "step 0:\n",
      "Minibatch loss: 960.6638793945312, accuracy: 0.5546875\n",
      "Validation accuracy: 0.37630000710487366\n",
      "--------------------------------------------------------------------------------\n",
      "step 500:\n",
      "Minibatch loss: 15.633955001831055, accuracy: 0.8984375\n",
      "Validation accuracy: 0.7930999994277954\n",
      "--------------------------------------------------------------------------------\n",
      "step 1000:\n",
      "Minibatch loss: 2.486438512802124, accuracy: 0.9140625\n",
      "Validation accuracy: 0.8104000091552734\n",
      "--------------------------------------------------------------------------------\n",
      "step 1500:\n",
      "Minibatch loss: 1.3642990589141846, accuracy: 0.9140625\n",
      "Validation accuracy: 0.8201000094413757\n",
      "--------------------------------------------------------------------------------\n",
      "step 2000:\n",
      "Minibatch loss: 1.4904862642288208, accuracy: 0.9140625\n",
      "Validation accuracy: 0.8079000115394592\n",
      "--------------------------------------------------------------------------------\n",
      "step 2500:\n",
      "Minibatch loss: 2.2373385429382324, accuracy: 0.9140625\n",
      "Validation accuracy: 0.829800009727478\n",
      "--------------------------------------------------------------------------------\n",
      "step 3000:\n",
      "Minibatch loss: 0.4583434462547302, accuracy: 0.9453125\n",
      "Validation accuracy: 0.8248000144958496\n",
      "--------------------------------------------------------------------------------\n",
      "Test accuracy: 0.8916000127792358\n",
      "sanitized_Test accuracy: 0.8635385632514954\n"
     ]
    }
   ],
   "source": [
    "num_steps = 3001\n",
    "\n",
    "with tf.Session(graph=graph) as sess:\n",
    "    sess.run(tf.global_variables_initializer())\n",
    "    print(\"Initialized\")\n",
    "    for step in range(num_steps):\n",
    "        offset = (step * batch_size) % (train_labels.shape[0] - batch_size)\n",
    "\n",
    "        batch_data = train_dataset[offset:(offset + batch_size), :]\n",
    "        batch_labels = train_labels[offset:(offset + batch_size), :]\n",
    "\n",
    "        sess.run(train_step, feed_dict={x: batch_data, y_: batch_labels})\n",
    "\n",
    "        if (step % 500 == 0):\n",
    "            loss, train_acc = sess.run([cross_entropy, accuracy],\n",
    "                                       feed_dict={\n",
    "                                           x: batch_data,\n",
    "                                           y_: batch_labels\n",
    "                                       })\n",
    "            print(\"step {}:\".format(step))\n",
    "            print(\"Minibatch loss: {}, accuracy: {}\".format(loss, train_acc))\n",
    "            val_acc = sess.run(accuracy,\n",
    "                               feed_dict={\n",
    "                                   x: valid_dataset,\n",
    "                                   y_: valid_labels\n",
    "                               })\n",
    "            print(\"Validation accuracy: {}\".format(val_acc))\n",
    "            print('-' * 80)\n",
    "\n",
    "    test_acc = sess.run(accuracy, feed_dict={x: test_dataset, y_: test_labels})\n",
    "    print(\"Test accuracy: {}\".format(test_acc))\n",
    "\n",
    "    sanitized_test_acc = sess.run(accuracy,\n",
    "                                  feed_dict={\n",
    "                                      x: sanitized_test_dataset,\n",
    "                                      y_: sanitized_test_labels\n",
    "                                  })\n",
    "    print(\"sanitized_Test accuracy: {}\".format(sanitized_test_acc))"
   ]
  },
  {
   "cell_type": "code",
   "execution_count": null,
   "metadata": {},
   "outputs": [],
   "source": []
  },
  {
   "cell_type": "markdown",
   "metadata": {},
   "source": [
    "# 提升模型性能"
   ]
  },
  {
   "cell_type": "markdown",
   "metadata": {},
   "source": [
    "## l2正则化的逻辑回归"
   ]
  },
  {
   "cell_type": "code",
   "execution_count": 135,
   "metadata": {},
   "outputs": [],
   "source": [
    "batch_size = 128\n",
    "\n",
    "graph = tf.Graph()\n",
    "with graph.as_default():\n",
    "\n",
    "    tf_train_dataset = tf.placeholder(tf.float32,\n",
    "                                      shape=(batch_size,\n",
    "                                             image_size * image_size))\n",
    "    tf_train_labels = tf.placeholder(tf.float32,\n",
    "                                     shape=(batch_size, num_labels))\n",
    "    tf_valid_dataset = tf.constant(valid_dataset)\n",
    "    tf_test_dataset = tf.constant(test_dataset)\n",
    "\n",
    "    # Variables.\n",
    "    weights = tf.Variable(\n",
    "        tf.truncated_normal([image_size * image_size, num_labels]))\n",
    "    biases = tf.Variable(tf.zeros([num_labels]))\n",
    "\n",
    "    # Training computation.\n",
    "    logits = tf.matmul(tf_train_dataset, weights) + biases\n",
    "    loss = tf.reduce_mean(\n",
    "        tf.nn.softmax_cross_entropy_with_logits(labels=tf_train_labels,\n",
    "                                                logits=logits))\n",
    "\n",
    "    # 加入 l2 正则化\n",
    "    l2_param = 0.001\n",
    "    loss += l2_param * tf.nn.l2_loss(weights)\n",
    "\n",
    "    # Optimizer.\n",
    "    optimizer = tf.train.GradientDescentOptimizer(0.5).minimize(loss)\n",
    "\n",
    "    # Predictions for the training, validation, and test data.\n",
    "    train_prediction = tf.nn.softmax(logits)\n",
    "    valid_prediction = tf.nn.softmax(\n",
    "        tf.matmul(tf_valid_dataset, weights) + biases)\n",
    "    test_prediction = tf.nn.softmax(\n",
    "        tf.matmul(tf_test_dataset, weights) + biases)"
   ]
  },
  {
   "cell_type": "code",
   "execution_count": 136,
   "metadata": {},
   "outputs": [
    {
     "name": "stdout",
     "output_type": "stream",
     "text": [
      "Initialized\n",
      "Minibatch loss at step 0: 20.827627\n",
      "Minibatch accuracy: 10.2%\n",
      "Validation accuracy: 15.2%\n",
      "Minibatch loss at step 500: 2.655389\n",
      "Minibatch accuracy: 78.9%\n",
      "Validation accuracy: 76.6%\n",
      "Minibatch loss at step 1000: 1.799305\n",
      "Minibatch accuracy: 82.0%\n",
      "Validation accuracy: 79.2%\n",
      "Minibatch loss at step 1500: 1.163723\n",
      "Minibatch accuracy: 82.8%\n",
      "Validation accuracy: 80.1%\n",
      "Minibatch loss at step 2000: 0.965932\n",
      "Minibatch accuracy: 82.8%\n",
      "Validation accuracy: 81.2%\n",
      "Minibatch loss at step 2500: 0.746682\n",
      "Minibatch accuracy: 85.9%\n",
      "Validation accuracy: 82.0%\n",
      "Minibatch loss at step 3000: 0.848776\n",
      "Minibatch accuracy: 78.9%\n",
      "Validation accuracy: 82.0%\n",
      "Test accuracy: 88.6%\n"
     ]
    }
   ],
   "source": [
    "num_steps = 3001\n",
    "\n",
    "with tf.Session(graph=graph) as session:\n",
    "    tf.global_variables_initializer().run()\n",
    "    print(\"Initialized\")\n",
    "    for step in range(num_steps):\n",
    "        # Pick an offset within the training data, which has been randomized.\n",
    "        # Note: we could use better randomization across epochs.\n",
    "        offset = (step * batch_size) % (train_labels.shape[0] - batch_size)\n",
    "        # Generate a minibatch.\n",
    "        batch_data = train_dataset[offset:(offset + batch_size), :]\n",
    "        batch_labels = train_labels[offset:(offset + batch_size), :]\n",
    "        # Prepare a dictionary telling the session where to feed the minibatch.\n",
    "        # The key of the dictionary is the placeholder node of the graph to be fed,\n",
    "        # and the value is the numpy array to feed to it.\n",
    "        feed_dict = {tf_train_dataset : batch_data, tf_train_labels : batch_labels}\n",
    "        _, l, predictions = session.run([optimizer, loss, train_prediction], feed_dict=feed_dict)\n",
    "        if (step % 500 == 0):\n",
    "            print(\"Minibatch loss at step %d: %f\" % (step, l))\n",
    "            print(\"Minibatch accuracy: %.1f%%\" % accuracy(predictions, batch_labels))\n",
    "            print(\"Validation accuracy: %.1f%%\" % accuracy(valid_prediction.eval(), valid_labels))\n",
    "    print(\"Test accuracy: %.1f%%\" % accuracy(test_prediction.eval(), test_labels))"
   ]
  },
  {
   "cell_type": "markdown",
   "metadata": {},
   "source": [
    "**加入l2正则化，逻辑回归精度从 85.4% 提升到 88.6%**"
   ]
  },
  {
   "cell_type": "markdown",
   "metadata": {},
   "source": [
    "## l2正则化的神经网络"
   ]
  },
  {
   "cell_type": "code",
   "execution_count": 145,
   "metadata": {},
   "outputs": [],
   "source": [
    "batch_size = 128\n",
    "hidden_layer_size = 1024\n",
    "num_labels = 10\n",
    "graph = tf.Graph()\n",
    "\n",
    "with graph.as_default():\n",
    "    x = tf.placeholder(tf.float32, shape=(None, image_size * image_size))\n",
    "    y_ = tf.placeholder(tf.float32, shape=(None, num_labels))\n",
    "\n",
    "    w1 = tf.Variable(\n",
    "        tf.truncated_normal([image_size * image_size, hidden_layer_size]))\n",
    "    b1 = tf.Variable(tf.zeros([hidden_layer_size]))\n",
    "    y1 = tf.matmul(x, w1) + b1\n",
    "    y1_relu = tf.nn.relu(y1)\n",
    "\n",
    "    w2 = tf.Variable(tf.truncated_normal([hidden_layer_size, num_labels]))\n",
    "    b2 = tf.Variable(tf.zeros([num_labels]))\n",
    "    y_pred = tf.matmul(y1_relu, w2) + b2\n",
    "\n",
    "    cross_entropy = tf.reduce_mean(\n",
    "        tf.nn.softmax_cross_entropy_with_logits(labels=y_, logits=y_pred))\n",
    "\n",
    "    l2_param = 0.001\n",
    "    cross_entropy += l2_param * (tf.nn.l2_loss(w1) + tf.nn.l2_loss(w2))\n",
    "\n",
    "    train_step = tf.train.GradientDescentOptimizer(0.5).minimize(cross_entropy)\n",
    "\n",
    "    correct_predicetion = tf.equal(tf.argmax(y_, 1), tf.argmax(y_pred, 1))\n",
    "    accuracy = tf.reduce_mean(tf.cast(correct_predicetion, tf.float32))"
   ]
  },
  {
   "cell_type": "code",
   "execution_count": 146,
   "metadata": {},
   "outputs": [
    {
     "name": "stdout",
     "output_type": "stream",
     "text": [
      "Initialized\n",
      "step 0:\n",
      "Minibatch loss: 1366.8778076171875, accuracy: 0.53125\n",
      "Validation accuracy: 0.4366999864578247\n",
      "--------------------------------------------------------------------------------\n",
      "step 500:\n",
      "Minibatch loss: 197.82177734375, accuracy: 0.8671875\n",
      "Validation accuracy: 0.7842000126838684\n",
      "--------------------------------------------------------------------------------\n",
      "step 1000:\n",
      "Minibatch loss: 113.80962371826172, accuracy: 0.90625\n",
      "Validation accuracy: 0.8123999834060669\n",
      "--------------------------------------------------------------------------------\n",
      "step 1500:\n",
      "Minibatch loss: 67.86046600341797, accuracy: 0.9140625\n",
      "Validation accuracy: 0.8345000147819519\n",
      "--------------------------------------------------------------------------------\n",
      "step 2000:\n",
      "Minibatch loss: 41.037872314453125, accuracy: 0.953125\n",
      "Validation accuracy: 0.8529000282287598\n",
      "--------------------------------------------------------------------------------\n",
      "step 2500:\n",
      "Minibatch loss: 25.001123428344727, accuracy: 0.9140625\n",
      "Validation accuracy: 0.8712999820709229\n",
      "--------------------------------------------------------------------------------\n",
      "step 3000:\n",
      "Minibatch loss: 15.305781364440918, accuracy: 0.921875\n",
      "Validation accuracy: 0.8738999962806702\n",
      "--------------------------------------------------------------------------------\n",
      "Test accuracy: 0.9308000206947327\n",
      "sanitized_Test accuracy: 0.9119386672973633\n"
     ]
    }
   ],
   "source": [
    "num_steps = 3001\n",
    "\n",
    "with tf.Session(graph=graph) as sess:\n",
    "    sess.run(tf.global_variables_initializer())\n",
    "    print(\"Initialized\")\n",
    "    for step in range(num_steps):\n",
    "        offset = (step * batch_size) % (train_labels.shape[0] - batch_size)\n",
    "\n",
    "        batch_data = train_dataset[offset:(offset + batch_size), :]\n",
    "        batch_labels = train_labels[offset:(offset + batch_size), :]\n",
    "\n",
    "        sess.run(train_step,feed_dict={x: batch_data, y_ :batch_labels})\n",
    "        \n",
    "        if (step % 500 == 0):\n",
    "            loss, train_acc = sess.run([cross_entropy,accuracy],\n",
    "                                       feed_dict={x: batch_data, y_ :batch_labels})\n",
    "            print(\"step {}:\".format(step))\n",
    "            print(\"Minibatch loss: {}, accuracy: {}\".format(loss,train_acc))\n",
    "            val_acc = sess.run(accuracy,feed_dict={x: valid_dataset,\n",
    "                                                   y_: valid_labels})\n",
    "            print(\"Validation accuracy: {}\".format(val_acc))\n",
    "            print('-'*80)\n",
    "\n",
    "\n",
    "    test_acc = sess.run(accuracy,feed_dict={x: test_dataset, \n",
    "                                            y_: test_labels})\n",
    "    print(\"Test accuracy: {}\".format(test_acc))\n",
    "    \n",
    "    sanitized_test_acc = sess.run(accuracy,feed_dict={x: sanitized_test_dataset, \n",
    "                                            y_: sanitized_test_labels})\n",
    "    print(\"sanitized_Test accuracy: {}\".format(sanitized_test_acc))"
   ]
  },
  {
   "cell_type": "markdown",
   "metadata": {},
   "source": [
    "**加入l2正则化，神经网络精度从 86.4% 提升到 91.2%**"
   ]
  },
  {
   "cell_type": "markdown",
   "metadata": {},
   "source": [
    "## 过拟合"
   ]
  },
  {
   "cell_type": "code",
   "execution_count": 13,
   "metadata": {},
   "outputs": [
    {
     "name": "stdout",
     "output_type": "stream",
     "text": [
      "Initialized\n",
      "step 0:\n",
      "Minibatch loss: 956.3731689453125, accuracy: 0.4375\n",
      "Validation accuracy: 0.3133000135421753\n",
      "--------------------------------------------------------------------------------\n",
      "step 500:\n",
      "Minibatch loss: 190.64984130859375, accuracy: 1.0\n",
      "Validation accuracy: 0.6866999864578247\n",
      "--------------------------------------------------------------------------------\n",
      "step 1000:\n",
      "Minibatch loss: 115.62052154541016, accuracy: 1.0\n",
      "Validation accuracy: 0.6858999729156494\n",
      "--------------------------------------------------------------------------------\n",
      "step 1500:\n",
      "Minibatch loss: 70.1186294555664, accuracy: 1.0\n",
      "Validation accuracy: 0.6861000061035156\n",
      "--------------------------------------------------------------------------------\n",
      "step 2000:\n",
      "Minibatch loss: 42.52379608154297, accuracy: 1.0\n",
      "Validation accuracy: 0.6869000196456909\n",
      "--------------------------------------------------------------------------------\n",
      "step 2500:\n",
      "Minibatch loss: 25.788822174072266, accuracy: 1.0\n",
      "Validation accuracy: 0.6887000203132629\n",
      "--------------------------------------------------------------------------------\n",
      "step 3000:\n",
      "Minibatch loss: 15.63992977142334, accuracy: 1.0\n",
      "Validation accuracy: 0.6926000118255615\n",
      "--------------------------------------------------------------------------------\n",
      "Test accuracy: 0.7700999975204468\n",
      "sanitized_Test accuracy: 0.7311105132102966\n"
     ]
    }
   ],
   "source": [
    "num_steps = 3001\n",
    "\n",
    "with tf.Session(graph=graph) as sess:\n",
    "    sess.run(tf.global_variables_initializer())\n",
    "    print(\"Initialized\")\n",
    "    for step in range(num_steps):\n",
    "\n",
    "        # 限制训练样本的数量，1000\n",
    "        offset = (step * batch_size) % (200 - batch_size)\n",
    "\n",
    "        batch_data = train_dataset[offset:(offset + batch_size), :]\n",
    "        batch_labels = train_labels[offset:(offset + batch_size), :]\n",
    "\n",
    "        sess.run(train_step, feed_dict={x: batch_data, y_: batch_labels})\n",
    "\n",
    "        if (step % 500 == 0):\n",
    "            loss, train_acc = sess.run([cross_entropy, accuracy],\n",
    "                                       feed_dict={\n",
    "                                           x: batch_data,\n",
    "                                           y_: batch_labels\n",
    "                                       })\n",
    "            print(\"step {}:\".format(step))\n",
    "            print(\"Minibatch loss: {}, accuracy: {}\".format(loss, train_acc))\n",
    "            val_acc = sess.run(accuracy,\n",
    "                               feed_dict={\n",
    "                                   x: valid_dataset,\n",
    "                                   y_: valid_labels\n",
    "                               })\n",
    "            print(\"Validation accuracy: {}\".format(val_acc))\n",
    "            print('-' * 80)\n",
    "\n",
    "    test_acc = sess.run(accuracy, feed_dict={x: test_dataset, y_: test_labels})\n",
    "    print(\"Test accuracy: {}\".format(test_acc))\n",
    "\n",
    "    sanitized_test_acc = sess.run(accuracy,\n",
    "                                  feed_dict={\n",
    "                                      x: sanitized_test_dataset,\n",
    "                                      y_: sanitized_test_labels\n",
    "                                  })\n",
    "    print(\"sanitized_Test accuracy: {}\".format(sanitized_test_acc))"
   ]
  },
  {
   "cell_type": "markdown",
   "metadata": {},
   "source": [
    "**限制训练样本的数量1000，训练精度很快达到1.0，但是最终模型测试精度较低 0.73**"
   ]
  },
  {
   "cell_type": "markdown",
   "metadata": {},
   "source": [
    "## Dropout"
   ]
  },
  {
   "cell_type": "code",
   "execution_count": 20,
   "metadata": {},
   "outputs": [],
   "source": [
    "batch_size = 128\n",
    "hidden_layer_size = 1024\n",
    "num_labels = 10\n",
    "graph = tf.Graph()\n",
    "\n",
    "with graph.as_default():\n",
    "    x = tf.placeholder(tf.float32, shape=(None, image_size * image_size))\n",
    "    y_ = tf.placeholder(tf.float32, shape=(None, num_labels))\n",
    "\n",
    "    w1 = tf.Variable(\n",
    "        tf.truncated_normal([image_size * image_size, hidden_layer_size]))\n",
    "    b1 = tf.Variable(tf.zeros([hidden_layer_size]))\n",
    "    y1 = tf.matmul(x, w1) + b1\n",
    "    y1_relu = tf.nn.relu(y1)\n",
    "\n",
    "    # Dropout层\n",
    "    keep_prob = tf.placeholder(tf.float32)\n",
    "    y1_drop = tf.nn.dropout(y1_relu, keep_prob=keep_prob)\n",
    "\n",
    "    w2 = tf.Variable(tf.truncated_normal([hidden_layer_size, num_labels]))\n",
    "    b2 = tf.Variable(tf.zeros([num_labels]))\n",
    "    y_pred = tf.matmul(y1_drop, w2) + b2\n",
    "\n",
    "    cross_entropy = tf.reduce_mean(\n",
    "        tf.nn.softmax_cross_entropy_with_logits(labels=y_, logits=y_pred))\n",
    "\n",
    "    l2_param = 0.001\n",
    "    cross_entropy += l2_param * (tf.nn.l2_loss(w1) + tf.nn.l2_loss(w2))\n",
    "\n",
    "    train_step = tf.train.GradientDescentOptimizer(0.5).minimize(cross_entropy)\n",
    "\n",
    "    correct_predicetion = tf.equal(tf.argmax(y_, 1), tf.argmax(y_pred, 1))\n",
    "    accuracy = tf.reduce_mean(tf.cast(correct_predicetion, tf.float32))"
   ]
  },
  {
   "cell_type": "code",
   "execution_count": 22,
   "metadata": {},
   "outputs": [
    {
     "name": "stdout",
     "output_type": "stream",
     "text": [
      "Initialized\n",
      "step 0:\n",
      "Minibatch loss: 1139.7457275390625, accuracy: 0.3671875\n",
      "Validation accuracy: 0.2703999876976013\n",
      "--------------------------------------------------------------------------------\n",
      "step 500:\n",
      "Minibatch loss: 205.05593872070312, accuracy: 0.8671875\n",
      "Validation accuracy: 0.7411999702453613\n",
      "--------------------------------------------------------------------------------\n",
      "step 1000:\n",
      "Minibatch loss: 114.98190307617188, accuracy: 0.796875\n",
      "Validation accuracy: 0.7461000084877014\n",
      "--------------------------------------------------------------------------------\n",
      "step 1500:\n",
      "Minibatch loss: 68.18247985839844, accuracy: 0.8515625\n",
      "Validation accuracy: 0.7749000191688538\n",
      "--------------------------------------------------------------------------------\n",
      "step 2000:\n",
      "Minibatch loss: 41.27105712890625, accuracy: 0.8515625\n",
      "Validation accuracy: 0.7915999889373779\n",
      "--------------------------------------------------------------------------------\n",
      "step 2500:\n",
      "Minibatch loss: 25.101829528808594, accuracy: 0.8359375\n",
      "Validation accuracy: 0.8205000162124634\n",
      "--------------------------------------------------------------------------------\n",
      "step 3000:\n",
      "Minibatch loss: 15.393074989318848, accuracy: 0.8359375\n",
      "Validation accuracy: 0.8274999856948853\n",
      "--------------------------------------------------------------------------------\n",
      "Test accuracy: 0.9161999821662903\n",
      "sanitized_Test accuracy: 0.89405757188797\n"
     ]
    }
   ],
   "source": [
    "num_steps = 3001\n",
    "\n",
    "with tf.Session(graph=graph) as sess:\n",
    "    sess.run(tf.global_variables_initializer())\n",
    "    print(\"Initialized\")\n",
    "    for step in range(num_steps):\n",
    "        offset = (step * batch_size) % (train_labels.shape[0] - batch_size)\n",
    "\n",
    "        batch_data = train_dataset[offset:(offset + batch_size), :]\n",
    "        batch_labels = train_labels[offset:(offset + batch_size), :]\n",
    "\n",
    "        sess.run(train_step,\n",
    "                 feed_dict={\n",
    "                     x: batch_data,\n",
    "                     y_: batch_labels,\n",
    "                     keep_prob: 0.5\n",
    "                 })\n",
    "\n",
    "        if (step % 500 == 0):\n",
    "            loss, train_acc = sess.run([cross_entropy, accuracy],\n",
    "                                       feed_dict={\n",
    "                                           x: batch_data,\n",
    "                                           y_: batch_labels,\n",
    "                                           keep_prob: 0.5\n",
    "                                       })\n",
    "            print(\"step {}:\".format(step))\n",
    "            print(\"Minibatch loss: {}, accuracy: {}\".format(loss, train_acc))\n",
    "            val_acc = sess.run(accuracy,\n",
    "                               feed_dict={\n",
    "                                   x: valid_dataset,\n",
    "                                   y_: valid_labels,\n",
    "                                   keep_prob: 0.5\n",
    "                               })\n",
    "            print(\"Validation accuracy: {}\".format(val_acc))\n",
    "            print('-' * 80)\n",
    "\n",
    "    test_acc = sess.run(accuracy,\n",
    "                        feed_dict={\n",
    "                            x: test_dataset,\n",
    "                            y_: test_labels,\n",
    "                            keep_prob: 1.0\n",
    "                        })\n",
    "    print(\"Test accuracy: {}\".format(test_acc))\n",
    "\n",
    "    sanitized_test_acc = sess.run(accuracy,\n",
    "                                  feed_dict={\n",
    "                                      x: sanitized_test_dataset,\n",
    "                                      y_: sanitized_test_labels,\n",
    "                                      keep_prob: 1.0\n",
    "                                  })\n",
    "    print(\"sanitized_Test accuracy: {}\".format(sanitized_test_acc))"
   ]
  },
  {
   "cell_type": "markdown",
   "metadata": {},
   "source": [
    "**少样本+`Dropout`**"
   ]
  },
  {
   "cell_type": "code",
   "execution_count": 23,
   "metadata": {},
   "outputs": [
    {
     "name": "stdout",
     "output_type": "stream",
     "text": [
      "Initialized\n",
      "step 0:\n",
      "Minibatch loss: 849.27978515625, accuracy: 0.4921875\n",
      "Validation accuracy: 0.3375999927520752\n",
      "--------------------------------------------------------------------------------\n",
      "step 500:\n",
      "Minibatch loss: 191.95286560058594, accuracy: 0.9921875\n",
      "Validation accuracy: 0.7770000100135803\n",
      "--------------------------------------------------------------------------------\n",
      "step 1000:\n",
      "Minibatch loss: 116.4712142944336, accuracy: 1.0\n",
      "Validation accuracy: 0.7786999940872192\n",
      "--------------------------------------------------------------------------------\n",
      "step 1500:\n",
      "Minibatch loss: 70.63917541503906, accuracy: 1.0\n",
      "Validation accuracy: 0.7768999934196472\n",
      "--------------------------------------------------------------------------------\n",
      "step 2000:\n",
      "Minibatch loss: 42.8465690612793, accuracy: 1.0\n",
      "Validation accuracy: 0.7849000096321106\n",
      "--------------------------------------------------------------------------------\n",
      "step 2500:\n",
      "Minibatch loss: 25.988243103027344, accuracy: 1.0\n",
      "Validation accuracy: 0.7906000018119812\n",
      "--------------------------------------------------------------------------------\n",
      "step 3000:\n",
      "Minibatch loss: 15.761417388916016, accuracy: 1.0\n",
      "Validation accuracy: 0.7900000214576721\n",
      "--------------------------------------------------------------------------------\n",
      "Test accuracy: 0.8788999915122986\n",
      "sanitized_Test accuracy: 0.8509007692337036\n"
     ]
    }
   ],
   "source": [
    "num_steps = 3001\n",
    "\n",
    "with tf.Session(graph=graph) as sess:\n",
    "    sess.run(tf.global_variables_initializer())\n",
    "    print(\"Initialized\")\n",
    "    for step in range(num_steps):\n",
    "        # 限制训练样本的数量，1000\n",
    "        offset = (step * batch_size) % (1000 - batch_size)\n",
    "\n",
    "        batch_data = train_dataset[offset:(offset + batch_size), :]\n",
    "        batch_labels = train_labels[offset:(offset + batch_size), :]\n",
    "\n",
    "        sess.run(train_step,feed_dict={x: batch_data, \n",
    "                                       y_ :batch_labels,\n",
    "                                       keep_prob:0.5})\n",
    "        \n",
    "        if (step % 500 == 0):\n",
    "            loss, train_acc = sess.run([cross_entropy,accuracy],\n",
    "                                       feed_dict={x: batch_data, \n",
    "                                                  y_ :batch_labels,\n",
    "                                                  keep_prob:0.5})\n",
    "            print(\"step {}:\".format(step))\n",
    "            print(\"Minibatch loss: {}, accuracy: {}\".format(loss,train_acc))\n",
    "            val_acc = sess.run(accuracy,feed_dict={x: valid_dataset,\n",
    "                                                   y_: valid_labels,\n",
    "                                                   keep_prob:0.5})\n",
    "            print(\"Validation accuracy: {}\".format(val_acc))\n",
    "            print('-'*80)\n",
    "\n",
    "\n",
    "    test_acc = sess.run(accuracy,feed_dict={x: test_dataset, \n",
    "                                            y_: test_labels,\n",
    "                                            keep_prob:1.0})\n",
    "    print(\"Test accuracy: {}\".format(test_acc))\n",
    "    \n",
    "    sanitized_test_acc = sess.run(accuracy,feed_dict={x: sanitized_test_dataset, \n",
    "                                            y_: sanitized_test_labels,\n",
    "                                            keep_prob:1.0})\n",
    "    print(\"sanitized_Test accuracy: {}\".format(sanitized_test_acc))"
   ]
  },
  {
   "cell_type": "markdown",
   "metadata": {},
   "source": [
    "**1000样本，相对无Dropout层，模型测试精度从 0.73 增加到 0.85**"
   ]
  },
  {
   "cell_type": "markdown",
   "metadata": {},
   "source": [
    "## 组合上述技巧\n"
   ]
  },
  {
   "cell_type": "markdown",
   "metadata": {},
   "source": [
    "进一步提高模型精度，加深神经网络为4层，隐藏层神经元1024、640、256，使用l2正则化，Dropout，及学习速率衰减"
   ]
  },
  {
   "cell_type": "code",
   "execution_count": 49,
   "metadata": {},
   "outputs": [],
   "source": [
    "batch_size = 128\n",
    "hidden1 = 1024\n",
    "hidden2 = 640\n",
    "hidden3 = 256\n",
    "num_labels = 10\n",
    "graph = tf.Graph()\n",
    "\n",
    "with graph.as_default():\n",
    "    global_step = tf.Variable(0)\n",
    "    learning_rate = tf.train.exponential_decay(0.08, global_step, 200, 0.98)\n",
    "\n",
    "    x = tf.placeholder(tf.float32, shape=(None, image_size * image_size))\n",
    "    y_ = tf.placeholder(tf.float32, shape=(None, num_labels))\n",
    "\n",
    "    w1 = tf.Variable(\n",
    "        tf.truncated_normal([image_size * image_size, hidden1],\n",
    "                            stddev=np.sqrt(2.0 / hidden1)))\n",
    "    b1 = tf.Variable(tf.zeros([hidden1]))\n",
    "    y1 = tf.matmul(x, w1) + b1\n",
    "    y1_relu = tf.nn.relu(y1)\n",
    "\n",
    "    # Dropout层\n",
    "    keep_prob1 = tf.placeholder(tf.float32)\n",
    "    y1_drop = tf.nn.dropout(y1_relu, keep_prob=keep_prob1)\n",
    "\n",
    "    w2 = tf.Variable(\n",
    "        tf.truncated_normal([hidden1, hidden2], stddev=np.sqrt(2.0 / hidden2)))\n",
    "    b2 = tf.Variable(tf.zeros([hidden2]))\n",
    "    y2 = tf.matmul(y1_drop, w2) + b2\n",
    "    y2_relu = tf.nn.relu(y2)\n",
    "\n",
    "    keep_prob2 = tf.placeholder(tf.float32)\n",
    "    y2_drop = tf.nn.dropout(y2_relu, keep_prob=keep_prob2)\n",
    "\n",
    "    w3 = tf.Variable(\n",
    "        tf.truncated_normal([hidden2, hidden3], stddev=np.sqrt(2.0 / hidden3)))\n",
    "    b3 = tf.Variable(tf.zeros([hidden3]))\n",
    "    y3 = tf.matmul(y2_drop, w3) + b3\n",
    "    y3_relu = tf.nn.relu(y3)\n",
    "\n",
    "    keep_prob3 = tf.placeholder(tf.float32)\n",
    "    y3_drop = tf.nn.dropout(y3_relu, keep_prob=keep_prob3)\n",
    "\n",
    "    w4 = tf.Variable(\n",
    "        tf.truncated_normal([hidden3, num_labels],\n",
    "                            stddev=np.sqrt(2.0 / num_labels)))\n",
    "    b4 = tf.Variable(tf.zeros([num_labels]))\n",
    "\n",
    "    y_pred = tf.matmul(y3_drop, w4) + b4\n",
    "\n",
    "    cross_entropy = tf.reduce_mean(\n",
    "        tf.nn.softmax_cross_entropy_with_logits(labels=y_, logits=y_pred))\n",
    "\n",
    "    l2_param = 0.001\n",
    "    cross_entropy += l2_param * (tf.nn.l2_loss(w1) + tf.nn.l2_loss(w2))\n",
    "\n",
    "    train_step = tf.train.GradientDescentOptimizer(learning_rate).minimize(\n",
    "        cross_entropy)\n",
    "\n",
    "    correct_predicetion = tf.equal(tf.argmax(y_, 1), tf.argmax(y_pred, 1))\n",
    "    accuracy = tf.reduce_mean(tf.cast(correct_predicetion, tf.float32))"
   ]
  },
  {
   "cell_type": "code",
   "execution_count": 51,
   "metadata": {},
   "outputs": [
    {
     "name": "stdout",
     "output_type": "stream",
     "text": [
      "Initialized\n",
      "step 0:\n",
      "Minibatch loss: 8.287750244140625, accuracy: 0.3359375\n",
      "Validation accuracy: 0.23819999396800995\n",
      "--------------------------------------------------------------------------------\n",
      "step 500:\n",
      "Minibatch loss: 1.7458031177520752, accuracy: 0.8671875\n",
      "Validation accuracy: 0.8224999904632568\n",
      "--------------------------------------------------------------------------------\n",
      "step 1000:\n",
      "Minibatch loss: 1.7253170013427734, accuracy: 0.8671875\n",
      "Validation accuracy: 0.842199981212616\n",
      "--------------------------------------------------------------------------------\n",
      "step 1500:\n",
      "Minibatch loss: 1.4736144542694092, accuracy: 0.875\n",
      "Validation accuracy: 0.8499000072479248\n",
      "--------------------------------------------------------------------------------\n",
      "step 2000:\n",
      "Minibatch loss: 1.3699597120285034, accuracy: 0.9140625\n",
      "Validation accuracy: 0.8593999743461609\n",
      "--------------------------------------------------------------------------------\n",
      "step 2500:\n",
      "Minibatch loss: 1.2833248376846313, accuracy: 0.890625\n",
      "Validation accuracy: 0.8659999966621399\n",
      "--------------------------------------------------------------------------------\n",
      "step 3000:\n",
      "Minibatch loss: 1.2800345420837402, accuracy: 0.875\n",
      "Validation accuracy: 0.8673999905586243\n",
      "--------------------------------------------------------------------------------\n",
      "Test accuracy: 0.9340000152587891\n",
      "sanitized_Test accuracy: 0.9159720540046692\n"
     ]
    }
   ],
   "source": [
    "num_steps = 3001\n",
    "\n",
    "with tf.Session(graph=graph) as sess:\n",
    "    sess.run(tf.global_variables_initializer())\n",
    "    print(\"Initialized\")\n",
    "    for step in range(num_steps):\n",
    "        offset = (step * batch_size) % (train_labels.shape[0] - batch_size)\n",
    "\n",
    "        batch_data = train_dataset[offset:(offset + batch_size), :]\n",
    "        batch_labels = train_labels[offset:(offset + batch_size), :]\n",
    "\n",
    "        sess.run(train_step,\n",
    "                 feed_dict={\n",
    "                     x: batch_data,\n",
    "                     y_: batch_labels,\n",
    "                     keep_prob1: 0.9,\n",
    "                     keep_prob2: 0.8,\n",
    "                     keep_prob3: 0.5\n",
    "                 })\n",
    "\n",
    "        if (step % 500 == 0):\n",
    "            loss, train_acc = sess.run(\n",
    "                [cross_entropy, accuracy],\n",
    "                feed_dict={\n",
    "                    x: batch_data,\n",
    "                    y_: batch_labels,\n",
    "                    keep_prob1: 0.9,\n",
    "                    keep_prob2: 0.8,\n",
    "                    keep_prob3: 0.5\n",
    "                })\n",
    "            print(\"step {}:\".format(step))\n",
    "            print(\"Minibatch loss: {}, accuracy: {}\".format(loss, train_acc))\n",
    "            val_acc = sess.run(accuracy,\n",
    "                               feed_dict={\n",
    "                                   x: valid_dataset,\n",
    "                                   y_: valid_labels,\n",
    "                                   keep_prob1: 0.9,\n",
    "                                   keep_prob2: 0.8,\n",
    "                                   keep_prob3: 0.5\n",
    "                               })\n",
    "            print(\"Validation accuracy: {}\".format(val_acc))\n",
    "            print('-' * 80)\n",
    "\n",
    "    test_acc = sess.run(accuracy,\n",
    "                        feed_dict={\n",
    "                            x: test_dataset,\n",
    "                            y_: test_labels,\n",
    "                            keep_prob1: 1.0,\n",
    "                            keep_prob2: 1.0,\n",
    "                            keep_prob3: 1.0\n",
    "                        })\n",
    "    print(\"Test accuracy: {}\".format(test_acc))\n",
    "\n",
    "    sanitized_test_acc = sess.run(accuracy,\n",
    "                                  feed_dict={\n",
    "                                      x: sanitized_test_dataset,\n",
    "                                      y_: sanitized_test_labels,\n",
    "                                      keep_prob1: 1.0,\n",
    "                                      keep_prob2: 1.0,\n",
    "                                      keep_prob3: 1.0\n",
    "                                  })\n",
    "    print(\"sanitized_Test accuracy: {}\".format(sanitized_test_acc))"
   ]
  },
  {
   "cell_type": "markdown",
   "metadata": {},
   "source": [
    "## CNN"
   ]
  },
  {
   "cell_type": "code",
   "execution_count": 2,
   "metadata": {},
   "outputs": [
    {
     "name": "stdout",
     "output_type": "stream",
     "text": [
      "Training set (200000, 28, 28) (200000,)\n",
      "Validation set (10000, 28, 28) (10000,)\n",
      "Test set (10000, 28, 28) (10000,)\n"
     ]
    }
   ],
   "source": [
    "pickle_file = '../H/datasets/notMNIST.pickle'\n",
    "\n",
    "with open(pickle_file, 'rb') as f:\n",
    "    save = pickle.load(f)\n",
    "    train_dataset = save['train_dataset']\n",
    "    train_labels = save['train_labels']\n",
    "    valid_dataset = save['valid_dataset']\n",
    "    valid_labels = save['valid_labels']\n",
    "    test_dataset = save['test_dataset']\n",
    "    test_labels = save['test_labels']\n",
    "    del save  # hint to help gc free up memory\n",
    "    print('Training set', train_dataset.shape, train_labels.shape)\n",
    "    print('Validation set', valid_dataset.shape, valid_labels.shape)\n",
    "    print('Test set', test_dataset.shape, test_labels.shape)"
   ]
  },
  {
   "cell_type": "code",
   "execution_count": 3,
   "metadata": {},
   "outputs": [
    {
     "name": "stdout",
     "output_type": "stream",
     "text": [
      "sanitized_Validation set (7924, 28, 28) (7924,)\n",
      "sanitized_Test set (7438, 28, 28) (7438,)\n"
     ]
    }
   ],
   "source": [
    "pickle_file = '../H/datasets/sanitized_notMNIST.pickle'\n",
    "\n",
    "with open(pickle_file, 'rb') as f:\n",
    "    save = pickle.load(f)\n",
    "    sanitized_valid_dataset = save['sanitized_valid_dataset']\n",
    "    sanitized_valid_labels = save['sanitized_valid_labels']\n",
    "    sanitized_test_dataset = save['sanitized_test_dataset']\n",
    "    sanitized_test_labels = save['sanitized_test_labels']\n",
    "    del save  # hint to help gc free up memory|\n",
    "    print('sanitized_Validation set', sanitized_valid_dataset.shape,\n",
    "          sanitized_valid_labels.shape)\n",
    "    print('sanitized_Test set', sanitized_test_dataset.shape,\n",
    "          sanitized_test_labels.shape)"
   ]
  },
  {
   "cell_type": "code",
   "execution_count": 4,
   "metadata": {},
   "outputs": [],
   "source": [
    "def weight_variable(shape):\n",
    "    initial = tf.truncated_normal(shape, stddev=0.1)\n",
    "    return tf.Variable(initial)\n",
    "\n",
    "\n",
    "def bias_variable(shape):\n",
    "    initial = tf.constant(0.1, shape=shape)\n",
    "    return tf.Variable(initial)\n",
    "\n",
    "\n",
    "def conv2d(x, w):\n",
    "    return tf.nn.conv2d(x, w, strides=[1, 1, 1, 1], padding='SAME')\n",
    "\n",
    "\n",
    "def max_pool_2x2(x):\n",
    "    return tf.nn.max_pool(x,\n",
    "                          ksize=[1, 2, 2, 1],\n",
    "                          strides=[1, 2, 2, 1],\n",
    "                          padding='SAME')\n",
    "\n",
    "\n",
    "def conv_layer(input_, shape):\n",
    "    w = weight_variable(shape)\n",
    "    b = bias_variable([shape[3]])\n",
    "    return tf.nn.relu(conv2d(input_, w) + b)\n",
    "\n",
    "\n",
    "def full_layer(input_, size):\n",
    "    insize = int(input_.get_shape()[1])\n",
    "    w = weight_variable([insize, size])\n",
    "    b = bias_variable([size])\n",
    "    return tf.matmul(input_, w) + b"
   ]
  },
  {
   "cell_type": "code",
   "execution_count": 5,
   "metadata": {},
   "outputs": [
    {
     "name": "stderr",
     "output_type": "stream",
     "text": [
      "WARNING: Logging before flag parsing goes to stderr.\n",
      "W0906 21:02:40.095162 140675052750656 deprecation.py:506] From <ipython-input-5-548515ad18a4>:25: calling dropout (from tensorflow.python.ops.nn_ops) with keep_prob is deprecated and will be removed in a future version.\n",
      "Instructions for updating:\n",
      "Please use `rate` instead of `keep_prob`. Rate should be set to `rate = 1 - keep_prob`.\n",
      "W0906 21:02:40.147999 140675052750656 deprecation.py:323] From <ipython-input-5-548515ad18a4>:33: softmax_cross_entropy_with_logits (from tensorflow.python.ops.nn_ops) is deprecated and will be removed in a future version.\n",
      "Instructions for updating:\n",
      "\n",
      "Future major versions of TensorFlow will allow gradients to flow\n",
      "into the labels input on backprop by default.\n",
      "\n",
      "See `tf.nn.softmax_cross_entropy_with_logits_v2`.\n",
      "\n"
     ]
    }
   ],
   "source": [
    "image_size = 28\n",
    "batch_size = 128\n",
    "num_labels = 10\n",
    "graph = tf.Graph()\n",
    "\n",
    "with graph.as_default():\n",
    "\n",
    "    #     global_step = tf.Variable(0)\n",
    "    #     learning_rate = tf.train.exponential_decay(0.08, global_step, 200, 0.98)\n",
    "\n",
    "    x = tf.placeholder(tf.float32, shape=[None, 28, 28, 1])\n",
    "    y = tf.placeholder(tf.float32, shape=[None, 10])\n",
    "    keep_prob = tf.placeholder(tf.float32)\n",
    "\n",
    "    conv1 = conv_layer(x, shape=[5, 5, 1, 16])\n",
    "    conv1_pool = max_pool_2x2(conv1)\n",
    "\n",
    "    conv2 = conv_layer(conv1_pool, shape=[5, 5, 16, 32])\n",
    "    conv2_pool = max_pool_2x2(conv2)\n",
    "\n",
    "    conv3 = conv_layer(conv2_pool, shape=[5, 5, 32, 64])\n",
    "    conv3_pool = max_pool_2x2(conv3)\n",
    "\n",
    "    conv3_flat = tf.reshape(conv3_pool, [-1, 4 * 4 * 64])\n",
    "    conv3_drop = tf.nn.dropout(conv3_flat, keep_prob=keep_prob)\n",
    "\n",
    "    full_1 = tf.nn.relu(full_layer(conv3_drop, 256))\n",
    "    full1_drop = tf.nn.dropout(full_1, keep_prob=keep_prob)\n",
    "\n",
    "    y_pred = full_layer(full1_drop, 10)\n",
    "\n",
    "    cross_entropy = tf.reduce_mean(\n",
    "        tf.nn.softmax_cross_entropy_with_logits(labels=y, logits=y_pred))\n",
    "\n",
    "    train_step = tf.train.AdamOptimizer(1e-3).minimize(cross_entropy)\n",
    "\n",
    "    correct_predicetion = tf.equal(tf.argmax(y, 1), tf.argmax(y_pred, 1))\n",
    "    accuracy = tf.reduce_mean(tf.cast(correct_predicetion, tf.float32))"
   ]
  },
  {
   "cell_type": "code",
   "execution_count": 6,
   "metadata": {},
   "outputs": [],
   "source": [
    "train_labels = (np.arange(num_labels) == train_labels[:, None]).astype(\n",
    "    np.float32)\n",
    "valid_labels = (np.arange(num_labels) == valid_labels[:, None]).astype(\n",
    "    np.float32)\n",
    "test_labels = (np.arange(num_labels) == test_labels[:, None]).astype(\n",
    "    np.float32)\n",
    "sanitized_test_labels = (\n",
    "    np.arange(num_labels) == sanitized_test_labels[:, None]).astype(np.float32)\n",
    "\n",
    "train_dataset = train_dataset.reshape([-1, 28, 28, 1]).astype(np.float32)\n",
    "valid_dataset = valid_dataset.reshape([-1, 28, 28, 1]).astype(np.float32)\n",
    "test_dataset = test_dataset.reshape([-1, 28, 28, 1]).astype(np.float32)\n",
    "sanitized_test_dataset = sanitized_test_dataset.reshape([-1, 28, 28,\n",
    "                                                         1]).astype(np.float32)"
   ]
  },
  {
   "cell_type": "code",
   "execution_count": 7,
   "metadata": {},
   "outputs": [
    {
     "data": {
      "text/plain": [
       "(200000, 28, 28, 1)"
      ]
     },
     "execution_count": 7,
     "metadata": {},
     "output_type": "execute_result"
    }
   ],
   "source": [
    "train_dataset.shape"
   ]
  },
  {
   "cell_type": "code",
   "execution_count": 8,
   "metadata": {},
   "outputs": [
    {
     "name": "stdout",
     "output_type": "stream",
     "text": [
      "Initialized\n",
      "step 0:\n",
      "Minibatch loss: 4.723496437072754, accuracy: 0.15625\n",
      "Validation accuracy: 0.09640000015497208\n",
      "--------------------------------------------------------------------------------\n",
      "step 500:\n",
      "Minibatch loss: 0.3868594169616699, accuracy: 0.8828125\n",
      "Validation accuracy: 0.8464999794960022\n",
      "--------------------------------------------------------------------------------\n",
      "step 1000:\n",
      "Minibatch loss: 0.4229097366333008, accuracy: 0.8984375\n",
      "Validation accuracy: 0.8705000281333923\n",
      "--------------------------------------------------------------------------------\n",
      "step 1500:\n",
      "Minibatch loss: 0.34943389892578125, accuracy: 0.890625\n",
      "Validation accuracy: 0.8756999969482422\n",
      "--------------------------------------------------------------------------------\n",
      "step 2000:\n",
      "Minibatch loss: 0.3830106854438782, accuracy: 0.875\n",
      "Validation accuracy: 0.8823000192642212\n",
      "--------------------------------------------------------------------------------\n",
      "step 2500:\n",
      "Minibatch loss: 0.28562355041503906, accuracy: 0.890625\n",
      "Validation accuracy: 0.8888999819755554\n",
      "--------------------------------------------------------------------------------\n",
      "step 3000:\n",
      "Minibatch loss: 0.4291870594024658, accuracy: 0.8828125\n",
      "Validation accuracy: 0.892300009727478\n",
      "--------------------------------------------------------------------------------\n",
      "Test accuracy: 0.955299973487854\n",
      "sanitized_Test accuracy: 0.943533182144165\n"
     ]
    }
   ],
   "source": [
    "num_steps = 3001\n",
    "\n",
    "with tf.Session(graph=graph) as sess:\n",
    "    sess.run(tf.global_variables_initializer())\n",
    "    print(\"Initialized\")\n",
    "    for step in range(num_steps):\n",
    "        offset = (step * batch_size) % (train_labels.shape[0] - batch_size)\n",
    "\n",
    "        batch_data = train_dataset[offset:(offset + batch_size)]\n",
    "        batch_labels = train_labels[offset:(offset + batch_size)]\n",
    "\n",
    "        sess.run(train_step,\n",
    "                 feed_dict={\n",
    "                     x: batch_data,\n",
    "                     y: batch_labels,\n",
    "                     keep_prob: 0.5\n",
    "                 })\n",
    "\n",
    "        if (step % 500 == 0):\n",
    "            loss, train_acc = sess.run([cross_entropy, accuracy],\n",
    "                                       feed_dict={\n",
    "                                           x: batch_data,\n",
    "                                           y: batch_labels,\n",
    "                                           keep_prob: 0.5\n",
    "                                       })\n",
    "            print(\"step {}:\".format(step))\n",
    "            print(\"Minibatch loss: {}, accuracy: {}\".format(loss, train_acc))\n",
    "            val_acc = sess.run(accuracy,\n",
    "                               feed_dict={\n",
    "                                   x: valid_dataset,\n",
    "                                   y: valid_labels,\n",
    "                                   keep_prob: 0.5\n",
    "                               })\n",
    "            print(\"Validation accuracy: {}\".format(val_acc))\n",
    "            print('-' * 80)\n",
    "\n",
    "    test_acc = sess.run(accuracy,\n",
    "                        feed_dict={\n",
    "                            x: test_dataset,\n",
    "                            y: test_labels,\n",
    "                            keep_prob: 1.0\n",
    "                        })\n",
    "    print(\"Test accuracy: {}\".format(test_acc))\n",
    "\n",
    "    sanitized_test_acc = sess.run(accuracy,\n",
    "                                  feed_dict={\n",
    "                                      x: sanitized_test_dataset,\n",
    "                                      y: sanitized_test_labels,\n",
    "                                      keep_prob: 1.0\n",
    "                                  })\n",
    "    print(\"sanitized_Test accuracy: {}\".format(sanitized_test_acc))"
   ]
  },
  {
   "cell_type": "markdown",
   "metadata": {},
   "source": [
    "**CNN模型，测试精度达到 94.35%**"
   ]
  },
  {
   "cell_type": "code",
   "execution_count": null,
   "metadata": {},
   "outputs": [],
   "source": []
  }
 ],
 "metadata": {
  "kernelspec": {
   "display_name": "Python 3",
   "language": "python",
   "name": "python3"
  },
  "language_info": {
   "codemirror_mode": {
    "name": "ipython",
    "version": 3
   },
   "file_extension": ".py",
   "mimetype": "text/x-python",
   "name": "python",
   "nbconvert_exporter": "python",
   "pygments_lexer": "ipython3",
   "version": "3.7.7"
  },
  "toc": {
   "base_numbering": 1,
   "nav_menu": {},
   "number_sections": true,
   "sideBar": true,
   "skip_h1_title": false,
   "title_cell": "Table of Contents",
   "title_sidebar": "Contents",
   "toc_cell": false,
   "toc_position": {
    "height": "calc(100% - 180px)",
    "left": "10px",
    "top": "150px",
    "width": "260px"
   },
   "toc_section_display": true,
   "toc_window_display": true
  },
  "varInspector": {
   "cols": {
    "lenName": 16,
    "lenType": 16,
    "lenVar": 40
   },
   "kernels_config": {
    "python": {
     "delete_cmd_postfix": "",
     "delete_cmd_prefix": "del ",
     "library": "var_list.py",
     "varRefreshCmd": "print(var_dic_list())"
    },
    "r": {
     "delete_cmd_postfix": ") ",
     "delete_cmd_prefix": "rm(",
     "library": "var_list.r",
     "varRefreshCmd": "cat(var_dic_list()) "
    }
   },
   "types_to_exclude": [
    "module",
    "function",
    "builtin_function_or_method",
    "instance",
    "_Feature"
   ],
   "window_display": false
  }
 },
 "nbformat": 4,
 "nbformat_minor": 2
}
