{
 "cells": [
  {
   "cell_type": "code",
   "execution_count": 15,
   "metadata": {},
   "outputs": [],
   "source": [
    "import pickle\n",
    "import numpy as np\n",
    "import tensorflow as tf \n"
   ]
  },
  {
   "cell_type": "code",
   "execution_count": 2,
   "metadata": {},
   "outputs": [],
   "source": [
    "import matplotlib.pyplot as plt"
   ]
  },
  {
   "cell_type": "markdown",
   "metadata": {},
   "source": [
    "# 原始数据"
   ]
  },
  {
   "cell_type": "code",
   "execution_count": 3,
   "metadata": {},
   "outputs": [
    {
     "name": "stdout",
     "output_type": "stream",
     "text": [
      "Training set (200000, 28, 28) (200000,)\n",
      "Validation set (10000, 28, 28) (10000,)\n",
      "Test set (10000, 28, 28) (10000,)\n"
     ]
    }
   ],
   "source": [
    "pickle_file = r'datasets/notMNIST.pickle'\n",
    "\n",
    "with open(pickle_file, 'rb') as f:\n",
    "    save = pickle.load(f)\n",
    "    train_dataset = save['train_dataset']\n",
    "    train_labels = save['train_labels']\n",
    "    valid_dataset = save['valid_dataset']\n",
    "    valid_labels = save['valid_labels']\n",
    "    test_dataset = save['test_dataset']\n",
    "    test_labels = save['test_labels']\n",
    "    del save  # hint to help gc free up memory\n",
    "    print('Training set', train_dataset.shape, train_labels.shape)\n",
    "    print('Validation set', valid_dataset.shape, valid_labels.shape)\n",
    "    print('Test set', test_dataset.shape, test_labels.shape)"
   ]
  },
  {
   "cell_type": "code",
   "execution_count": 4,
   "metadata": {},
   "outputs": [
    {
     "data": {
      "text/plain": [
       "array([6, 6, 9, ..., 8, 4, 8], dtype=int32)"
      ]
     },
     "execution_count": 4,
     "metadata": {},
     "output_type": "execute_result"
    }
   ],
   "source": [
    "train_labels"
   ]
  },
  {
   "cell_type": "markdown",
   "metadata": {},
   "source": [
    "# 数据预处理\n",
    "将原始数据处理成模型可接受的形式"
   ]
  },
  {
   "cell_type": "code",
   "execution_count": 5,
   "metadata": {},
   "outputs": [
    {
     "name": "stdout",
     "output_type": "stream",
     "text": [
      "Training set (200000, 28, 28, 1) (200000, 10)\n",
      "Validation set (10000, 28, 28, 1) (10000, 10)\n",
      "Test set (10000, 28, 28, 1) (10000, 10)\n"
     ]
    }
   ],
   "source": [
    "image_size = 28\n",
    "num_labels = 10\n",
    "num_channels = 1 \n",
    "\n",
    "def reformat(dataset, labels):\n",
    "    dataset = dataset.reshape((-1, image_size, image_size, num_channels\n",
    "                              )).astype(np.float32)\n",
    "    labels = (np.arange(num_labels) == labels[:,None]).astype(np.float32)\n",
    "    return dataset, labels\n",
    "\n",
    "train_dataset, train_labels = reformat(train_dataset, train_labels)\n",
    "valid_dataset, valid_labels = reformat(valid_dataset, valid_labels)\n",
    "test_dataset, test_labels = reformat(test_dataset, test_labels)\n",
    "print('Training set', train_dataset.shape, train_labels.shape)\n",
    "print('Validation set', valid_dataset.shape, valid_labels.shape)\n",
    "print('Test set', test_dataset.shape, test_labels.shape)"
   ]
  },
  {
   "cell_type": "markdown",
   "metadata": {},
   "source": [
    "# 创建CNN模型\n",
    "包含两个卷积层及一个全连接层"
   ]
  },
  {
   "cell_type": "code",
   "execution_count": 6,
   "metadata": {},
   "outputs": [],
   "source": [
    "learning_rate = 0.05\n",
    "batch_size = 16\n",
    "num_labels = 10\n",
    "img_size = 28\n",
    "img_channel = 1\n",
    "num_steps = 1001"
   ]
  },
  {
   "cell_type": "code",
   "execution_count": 7,
   "metadata": {},
   "outputs": [],
   "source": [
    "X = tf.placeholder(tf.float32,\n",
    "                   shape=(None, img_size, img_size, img_channel))\n",
    "y = tf.placeholder(tf.float32, shape=(None, num_labels))"
   ]
  },
  {
   "cell_type": "code",
   "execution_count": 8,
   "metadata": {},
   "outputs": [],
   "source": [
    "weights = {\n",
    "    'conv1': tf.Variable(tf.truncated_normal([5, 5, 1, 16], stddev=0.1)),\n",
    "    'conv2': tf.Variable(tf.truncated_normal([5, 5, 16, 16], stddev=0.1)),\n",
    "    'full1': tf.Variable(tf.truncated_normal([7 * 7 * 16, 64], stddev=0.1)),\n",
    "    'out': tf.Variable(tf.truncated_normal([64, num_labels], stddev=0.1))\n",
    "}\n",
    "\n",
    "biases = {\n",
    "    'conv1': tf.Variable(tf.zeros([16])),\n",
    "    'conv2': tf.Variable(tf.constant(1.0, shape=[16])),\n",
    "    'full1': tf.Variable(tf.constant(1.0, shape=[64])),\n",
    "    'out': tf.Variable(tf.constant(1.0, shape=[num_labels]))\n",
    "}"
   ]
  },
  {
   "cell_type": "code",
   "execution_count": 9,
   "metadata": {},
   "outputs": [],
   "source": [
    "def build_nets(X):\n",
    "    conv1 = tf.nn.conv2d(X, weights['conv1'], strides=[1, 2, 2, 1],\n",
    "                         padding='SAME')\n",
    "    conv1 = tf.nn.relu(tf.add(conv1, biases['conv1']))\n",
    "\n",
    "    conv2 = tf.nn.conv2d(conv1, weights['conv2'], strides=[1, 2, 2, 1],\n",
    "                         padding='SAME')\n",
    "    conv2 = tf.nn.relu(tf.add(conv2, biases['conv2']))\n",
    "\n",
    "    shape = weights['full1'].get_shape().as_list()[0]\n",
    "    full1 = tf.reshape(conv2, [-1, shape])\n",
    "    full1 = tf.matmul(full1, weights['full1'])\n",
    "    full1 = tf.nn.relu(tf.add(full1, biases['full1']))\n",
    "\n",
    "    out = tf.add(tf.matmul(full1, weights['out']), biases['out'])\n",
    "    return out"
   ]
  },
  {
   "cell_type": "code",
   "execution_count": 10,
   "metadata": {},
   "outputs": [
    {
     "name": "stderr",
     "output_type": "stream",
     "text": [
      "WARNING: Logging before flag parsing goes to stderr.\n",
      "W0925 11:07:18.697465 140286728304448 deprecation.py:323] From <ipython-input-10-536041b00ef1>:3: softmax_cross_entropy_with_logits (from tensorflow.python.ops.nn_ops) is deprecated and will be removed in a future version.\n",
      "Instructions for updating:\n",
      "\n",
      "Future major versions of TensorFlow will allow gradients to flow\n",
      "into the labels input on backprop by default.\n",
      "\n",
      "See `tf.nn.softmax_cross_entropy_with_logits_v2`.\n",
      "\n"
     ]
    }
   ],
   "source": [
    "logits = build_nets(X)\n",
    "loss = tf.reduce_mean(\n",
    "    tf.nn.softmax_cross_entropy_with_logits(logits=logits, labels=y))\n",
    "\n",
    "\n",
    "optimizer = tf.train.GradientDescentOptimizer(\n",
    "    learning_rate=learning_rate).minimize(loss)\n",
    "\n",
    "y_pred = tf.nn.softmax(logits)\n",
    "y_pred_correct = tf.equal(tf.argmax(y_pred, 1), tf.argmax(y, 1))\n",
    "acc = tf.reduce_mean(tf.cast(y_pred_correct, tf.float32))\n",
    "\n",
    "init = tf.global_variables_initializer()"
   ]
  },
  {
   "cell_type": "code",
   "execution_count": 11,
   "metadata": {},
   "outputs": [
    {
     "name": "stdout",
     "output_type": "stream",
     "text": [
      "Initialized...\n",
      "--------------------------------------------------------------------------------\n",
      "Step 0: Minibatch Loss=3.00974440574646, Training Accuracy=0.125\n",
      "Validation Accuracy=0.10000000149011612\n",
      "--------------------------------------------------------------------------------\n",
      "Step 50: Minibatch Loss=1.8500714302062988, Training Accuracy=0.25\n",
      "Validation Accuracy=0.5400000214576721\n",
      "--------------------------------------------------------------------------------\n",
      "Step 100: Minibatch Loss=0.7997140884399414, Training Accuracy=0.6875\n",
      "Validation Accuracy=0.6937999725341797\n",
      "--------------------------------------------------------------------------------\n",
      "Step 150: Minibatch Loss=0.918752908706665, Training Accuracy=0.625\n",
      "Validation Accuracy=0.7712000012397766\n",
      "--------------------------------------------------------------------------------\n",
      "Step 200: Minibatch Loss=0.4610944986343384, Training Accuracy=0.875\n",
      "Validation Accuracy=0.7864000201225281\n",
      "--------------------------------------------------------------------------------\n",
      "Step 250: Minibatch Loss=0.4813616871833801, Training Accuracy=0.9375\n",
      "Validation Accuracy=0.7889000177383423\n",
      "--------------------------------------------------------------------------------\n",
      "Step 300: Minibatch Loss=0.5399004817008972, Training Accuracy=0.875\n",
      "Validation Accuracy=0.8090000152587891\n",
      "--------------------------------------------------------------------------------\n",
      "Step 350: Minibatch Loss=0.8405994176864624, Training Accuracy=0.625\n",
      "Validation Accuracy=0.7950999736785889\n",
      "--------------------------------------------------------------------------------\n",
      "Step 400: Minibatch Loss=1.462505578994751, Training Accuracy=0.625\n",
      "Validation Accuracy=0.8065999746322632\n",
      "--------------------------------------------------------------------------------\n",
      "Step 450: Minibatch Loss=0.3812478184700012, Training Accuracy=0.9375\n",
      "Validation Accuracy=0.807200014591217\n",
      "--------------------------------------------------------------------------------\n",
      "Step 500: Minibatch Loss=0.9929307103157043, Training Accuracy=0.625\n",
      "Validation Accuracy=0.8126999735832214\n",
      "--------------------------------------------------------------------------------\n",
      "Step 550: Minibatch Loss=0.20051538944244385, Training Accuracy=0.9375\n",
      "Validation Accuracy=0.814300000667572\n",
      "--------------------------------------------------------------------------------\n",
      "Step 600: Minibatch Loss=0.36569294333457947, Training Accuracy=0.875\n",
      "Validation Accuracy=0.8159999847412109\n",
      "--------------------------------------------------------------------------------\n",
      "Step 650: Minibatch Loss=0.5052797198295593, Training Accuracy=0.8125\n",
      "Validation Accuracy=0.8266000151634216\n",
      "--------------------------------------------------------------------------------\n",
      "Step 700: Minibatch Loss=0.5826887488365173, Training Accuracy=0.8125\n",
      "Validation Accuracy=0.828000009059906\n",
      "--------------------------------------------------------------------------------\n",
      "Step 750: Minibatch Loss=0.24919602274894714, Training Accuracy=0.9375\n",
      "Validation Accuracy=0.8270000219345093\n",
      "--------------------------------------------------------------------------------\n",
      "Step 800: Minibatch Loss=0.4901612401008606, Training Accuracy=0.8125\n",
      "Validation Accuracy=0.8302000164985657\n",
      "--------------------------------------------------------------------------------\n",
      "Step 850: Minibatch Loss=0.7361021041870117, Training Accuracy=0.8125\n",
      "Validation Accuracy=0.8313000202178955\n",
      "--------------------------------------------------------------------------------\n",
      "Step 900: Minibatch Loss=0.5017877817153931, Training Accuracy=0.875\n",
      "Validation Accuracy=0.8296999931335449\n",
      "--------------------------------------------------------------------------------\n",
      "Step 950: Minibatch Loss=0.3384958505630493, Training Accuracy=0.875\n",
      "Validation Accuracy=0.8349999785423279\n",
      "--------------------------------------------------------------------------------\n",
      "Step 1000: Minibatch Loss=0.6342083215713501, Training Accuracy=0.8125\n",
      "Validation Accuracy=0.8248999714851379\n",
      "--------------------------------------------------------------------------------\n",
      "Optimization Finished!\n",
      "Test accuracy: 0.8928999900817871\n"
     ]
    }
   ],
   "source": [
    "with tf.Session() as sess:\n",
    "    sess.run(init)\n",
    "    print('Initialized...')\n",
    "    print('-'*80)\n",
    "    for i in range(num_steps):\n",
    "        offset = (i * batch_size) % (train_labels.shape[0] - batch_size)\n",
    "        batch_x = train_dataset[offset:offset + batch_size, :, :, :]\n",
    "        batch_y = train_labels[offset:offset + batch_size, :]\n",
    "        feed_dict = {X: batch_x, y: batch_y}\n",
    "        _, loss_val, train_acc = sess.run([optimizer, loss, acc],\n",
    "                                          feed_dict=feed_dict)\n",
    "\n",
    "        if i % 50 == 0:\n",
    "            print('Step {}: Minibatch Loss={}, Training Accuracy={}'.format(i, loss_val, train_acc))\n",
    "            val_acc = sess.run(acc,\n",
    "                               feed_dict={X: valid_dataset, y: valid_labels})\n",
    "            print('Validation Accuracy={}'.format(val_acc))\n",
    "            print('-'*80)\n",
    "    print('Optimization Finished!')\n",
    "    test_acc = sess.run(acc, feed_dict={X: test_dataset, y: test_labels})\n",
    "    print('Test accuracy: {}'.format(test_acc))"
   ]
  },
  {
   "cell_type": "markdown",
   "metadata": {
    "ExecuteTime": {
     "end_time": "2020-04-17T14:20:32.628025Z",
     "start_time": "2020-04-17T14:20:32.622945Z"
    }
   },
   "source": [
    "# 优化模型"
   ]
  },
  {
   "cell_type": "code",
   "execution_count": null,
   "metadata": {},
   "outputs": [],
   "source": []
  },
  {
   "cell_type": "markdown",
   "metadata": {},
   "source": [
    "## 池化层+小步长\n",
    "将上述模型的步长减为 1，增加池化层\n",
    "- 模型测试精度增加 1%"
   ]
  },
  {
   "cell_type": "code",
   "execution_count": 12,
   "metadata": {},
   "outputs": [],
   "source": [
    "def build_nets(X):\n",
    "    conv1 = tf.nn.conv2d(X, weights['conv1'], strides=[1, 1, 1, 1],\n",
    "                         padding='SAME')\n",
    "    conv1 = tf.nn.relu(tf.add(conv1, biases['conv1']))\n",
    "    conv1 = tf.nn.max_pool(conv1, ksize=[1, 2, 2, 1], strides=[1, 2, 2, 1],\n",
    "                          padding='SAME')\n",
    "\n",
    "    conv2 = tf.nn.conv2d(conv1, weights['conv2'], strides=[1, 1, 1, 1],\n",
    "                         padding='SAME')\n",
    "    conv2 = tf.nn.relu(tf.add(conv2, biases['conv2']))\n",
    "    conv2 = tf.nn.max_pool(conv2, ksize=[1, 2, 2, 1], strides=[1, 2, 2, 1],\n",
    "                          padding='SAME')\n",
    "\n",
    "    shape = weights['full1'].get_shape().as_list()[0]\n",
    "    full1 = tf.reshape(conv2, [-1, shape])\n",
    "    full1 = tf.matmul(full1, weights['full1'])\n",
    "    full1 = tf.nn.relu(tf.add(full1, biases['full1']))\n",
    "\n",
    "    out = tf.add(tf.matmul(full1, weights['out']), biases['out'])\n",
    "    return out"
   ]
  },
  {
   "cell_type": "code",
   "execution_count": 13,
   "metadata": {},
   "outputs": [],
   "source": [
    "logits = build_nets(X)\n",
    "loss = tf.reduce_mean(\n",
    "    tf.nn.softmax_cross_entropy_with_logits(logits=logits, labels=y))\n",
    "\n",
    "\n",
    "optimizer = tf.train.GradientDescentOptimizer(\n",
    "    learning_rate=learning_rate).minimize(loss)\n",
    "\n",
    "y_pred = tf.nn.softmax(logits)\n",
    "y_pred_correct = tf.equal(tf.argmax(y_pred, 1), tf.argmax(y, 1))\n",
    "acc = tf.reduce_mean(tf.cast(y_pred_correct, tf.float32))\n",
    "\n",
    "init = tf.global_variables_initializer()"
   ]
  },
  {
   "cell_type": "code",
   "execution_count": 14,
   "metadata": {},
   "outputs": [
    {
     "name": "stdout",
     "output_type": "stream",
     "text": [
      "Initialized...\n",
      "--------------------------------------------------------------------------------\n",
      "Step 0: Minibatch Loss=3.4627625942230225, Training Accuracy=0.0625\n",
      "Validation Accuracy=0.10000000149011612\n",
      "--------------------------------------------------------------------------------\n",
      "Step 50: Minibatch Loss=2.2258143424987793, Training Accuracy=0.125\n",
      "Validation Accuracy=0.3012999892234802\n",
      "--------------------------------------------------------------------------------\n",
      "Step 100: Minibatch Loss=1.1995855569839478, Training Accuracy=0.375\n",
      "Validation Accuracy=0.6039999723434448\n",
      "--------------------------------------------------------------------------------\n",
      "Step 150: Minibatch Loss=0.8889767527580261, Training Accuracy=0.75\n",
      "Validation Accuracy=0.767300009727478\n",
      "--------------------------------------------------------------------------------\n",
      "Step 200: Minibatch Loss=0.48465919494628906, Training Accuracy=0.875\n",
      "Validation Accuracy=0.7727000117301941\n",
      "--------------------------------------------------------------------------------\n",
      "Step 250: Minibatch Loss=0.6685712337493896, Training Accuracy=0.875\n",
      "Validation Accuracy=0.7967000007629395\n",
      "--------------------------------------------------------------------------------\n",
      "Step 300: Minibatch Loss=0.2359408438205719, Training Accuracy=0.9375\n",
      "Validation Accuracy=0.805899977684021\n",
      "--------------------------------------------------------------------------------\n",
      "Step 350: Minibatch Loss=1.1302568912506104, Training Accuracy=0.6875\n",
      "Validation Accuracy=0.7961999773979187\n",
      "--------------------------------------------------------------------------------\n",
      "Step 400: Minibatch Loss=1.3927161693572998, Training Accuracy=0.5625\n",
      "Validation Accuracy=0.7802000045776367\n",
      "--------------------------------------------------------------------------------\n",
      "Step 450: Minibatch Loss=0.4781637489795685, Training Accuracy=0.8125\n",
      "Validation Accuracy=0.8219000101089478\n",
      "--------------------------------------------------------------------------------\n",
      "Step 500: Minibatch Loss=1.1723272800445557, Training Accuracy=0.625\n",
      "Validation Accuracy=0.8220999836921692\n",
      "--------------------------------------------------------------------------------\n",
      "Step 550: Minibatch Loss=0.22145673632621765, Training Accuracy=0.9375\n",
      "Validation Accuracy=0.8163999915122986\n",
      "--------------------------------------------------------------------------------\n",
      "Step 600: Minibatch Loss=0.36087271571159363, Training Accuracy=0.875\n",
      "Validation Accuracy=0.8256000280380249\n",
      "--------------------------------------------------------------------------------\n",
      "Step 650: Minibatch Loss=0.41324716806411743, Training Accuracy=0.8125\n",
      "Validation Accuracy=0.8359000086784363\n",
      "--------------------------------------------------------------------------------\n",
      "Step 700: Minibatch Loss=0.40102532505989075, Training Accuracy=0.875\n",
      "Validation Accuracy=0.8384000062942505\n",
      "--------------------------------------------------------------------------------\n",
      "Step 750: Minibatch Loss=0.42055973410606384, Training Accuracy=0.8125\n",
      "Validation Accuracy=0.8385999798774719\n",
      "--------------------------------------------------------------------------------\n",
      "Step 800: Minibatch Loss=0.3077162206172943, Training Accuracy=0.9375\n",
      "Validation Accuracy=0.8406000137329102\n",
      "--------------------------------------------------------------------------------\n",
      "Step 850: Minibatch Loss=0.6074279546737671, Training Accuracy=0.8125\n",
      "Validation Accuracy=0.8393999934196472\n",
      "--------------------------------------------------------------------------------\n",
      "Step 900: Minibatch Loss=0.35880741477012634, Training Accuracy=0.875\n",
      "Validation Accuracy=0.8274000287055969\n",
      "--------------------------------------------------------------------------------\n",
      "Step 950: Minibatch Loss=0.5243210792541504, Training Accuracy=0.875\n",
      "Validation Accuracy=0.839900016784668\n",
      "--------------------------------------------------------------------------------\n",
      "Step 1000: Minibatch Loss=0.45970839262008667, Training Accuracy=0.875\n",
      "Validation Accuracy=0.845300018787384\n",
      "--------------------------------------------------------------------------------\n",
      "Optimization Finished!\n",
      "Test accuracy: 0.902400016784668\n"
     ]
    }
   ],
   "source": [
    "with tf.Session() as sess:\n",
    "    sess.run(init)\n",
    "    print('Initialized...')\n",
    "    print('-'*80)\n",
    "    for i in range(num_steps):\n",
    "        offset = (i * batch_size) % (train_labels.shape[0] - batch_size)\n",
    "        batch_x = train_dataset[offset:offset + batch_size, :, :, :]\n",
    "        batch_y = train_labels[offset:offset + batch_size, :]\n",
    "        feed_dict = {X: batch_x, y: batch_y}\n",
    "        _, loss_val, train_acc = sess.run([optimizer, loss, acc],\n",
    "                                          feed_dict=feed_dict)\n",
    "\n",
    "        if i % 50 == 0:\n",
    "            print('Step {}: Minibatch Loss={}, Training Accuracy={}'.format(i, loss_val, train_acc))\n",
    "            val_acc = sess.run(acc,\n",
    "                               feed_dict={X: valid_dataset, y: valid_labels})\n",
    "            print('Validation Accuracy={}'.format(val_acc))\n",
    "            print('-'*80)\n",
    "    print('Optimization Finished!')\n",
    "    test_acc = sess.run(acc, feed_dict={X: test_dataset, y: test_labels})\n",
    "    print('Test accuracy: {}'.format(test_acc))"
   ]
  },
  {
   "cell_type": "markdown",
   "metadata": {},
   "source": [
    "## 增加模型层数+`dropout`\n",
    "提升模型精度\n",
    "- 增加模型复杂度\n",
    "- 全连接层添加 dropout"
   ]
  },
  {
   "cell_type": "code",
   "execution_count": 52,
   "metadata": {},
   "outputs": [],
   "source": [
    "def weight_variable(shape):\n",
    "    initial = tf.truncated_normal(shape, stddev=0.1)\n",
    "    return tf.Variable(initial)\n",
    "\n",
    "def bias_variable(shape):\n",
    "    initial = tf.constant(0.1, shape=shape)\n",
    "    return tf.Variable(initial)\n",
    "\n",
    "def conv2d(x, w):\n",
    "    return tf.nn.conv2d(x, w, strides=[1,1,1,1], padding='SAME')\n",
    "\n",
    "def max_pool_2x2(x):\n",
    "    return tf.nn.max_pool(x, ksize=[1,2,2,1], strides=[1, 2, 2, 1], padding='SAME')\n",
    "\n",
    "def conv_layer(input_, shape):\n",
    "    w = weight_variable(shape)\n",
    "    b = bias_variable([shape[3]])\n",
    "    return tf.nn.relu(conv2d(input_, w) + b)\n",
    "\n",
    "def full_layer(input_, size):\n",
    "    insize = int(input_.get_shape()[1])\n",
    "    w = weight_variable([insize, size])\n",
    "    b = bias_variable([size])\n",
    "    return tf.matmul(input_, w) + b"
   ]
  },
  {
   "cell_type": "code",
   "execution_count": 53,
   "metadata": {},
   "outputs": [],
   "source": [
    "image_size = 28\n",
    "batch_size = 128\n",
    "num_labels = 10\n",
    "graph = tf.Graph()\n",
    "\n",
    "with graph.as_default():    \n",
    "    x = tf.placeholder(tf.float32, shape=[None,28,28,1])\n",
    "    y = tf.placeholder(tf.float32, shape=[None, 10])\n",
    "    keep_prob = tf.placeholder(tf.float32)\n",
    "    \n",
    "    conv1 = conv_layer(x, shape=[5, 5, 1, 16])\n",
    "    conv1_pool = max_pool_2x2(conv1)\n",
    "    \n",
    "    conv2 = conv_layer(conv1_pool, shape=[5,5,16,32])\n",
    "    conv2_pool = max_pool_2x2(conv2)\n",
    "    \n",
    "    conv3 = conv_layer(conv2_pool, shape=[5,5,32,64])\n",
    "    conv3_pool = max_pool_2x2(conv3)\n",
    "    \n",
    "    conv3_flat = tf.reshape(conv3_pool, [-1, 4*4*64])\n",
    "    conv3_drop = tf.nn.dropout(conv3_flat, keep_prob=keep_prob)\n",
    "    \n",
    "    full_1 = tf.nn.relu(full_layer(conv3_drop, 256))\n",
    "    full1_drop = tf.nn.dropout(full_1, keep_prob=keep_prob)\n",
    "    \n",
    "    y_pred = full_layer(full1_drop, 10)\n",
    "    \n",
    "    cross_entropy = tf.reduce_mean(\n",
    "        tf.nn.softmax_cross_entropy_with_logits(labels=y, logits=y_pred))\n",
    "    \n",
    "    train_step = tf.train.AdamOptimizer(1e-3).minimize(cross_entropy)\n",
    "    \n",
    "    correct_predicetion = tf.equal(tf.argmax(y,1), tf.argmax(y_pred, 1))\n",
    "    accuracy = tf.reduce_mean(tf.cast(correct_predicetion, tf.float32))"
   ]
  },
  {
   "cell_type": "code",
   "execution_count": 54,
   "metadata": {},
   "outputs": [
    {
     "name": "stdout",
     "output_type": "stream",
     "text": [
      "Initialized\n",
      "--------------------------------------------------------------------------------\n",
      "step 0:\n",
      "Minibatch loss: 4.313622951507568, accuracy: 0.125\n",
      "Validation accuracy: 0.10050000250339508\n",
      "--------------------------------------------------------------------------------\n",
      "step 500:\n",
      "Minibatch loss: 0.4675438106060028, accuracy: 0.8671875\n",
      "Validation accuracy: 0.8490999937057495\n",
      "--------------------------------------------------------------------------------\n",
      "step 1000:\n",
      "Minibatch loss: 0.5774704217910767, accuracy: 0.8671875\n",
      "Validation accuracy: 0.8683000206947327\n",
      "--------------------------------------------------------------------------------\n",
      "step 1500:\n",
      "Minibatch loss: 0.3340117633342743, accuracy: 0.9140625\n",
      "Validation accuracy: 0.8784000277519226\n",
      "--------------------------------------------------------------------------------\n",
      "step 2000:\n",
      "Minibatch loss: 0.32236236333847046, accuracy: 0.9140625\n",
      "Validation accuracy: 0.879800021648407\n",
      "--------------------------------------------------------------------------------\n",
      "step 2500:\n",
      "Minibatch loss: 0.29851555824279785, accuracy: 0.90625\n",
      "Validation accuracy: 0.8867999911308289\n",
      "--------------------------------------------------------------------------------\n",
      "step 3000:\n",
      "Minibatch loss: 0.4584856629371643, accuracy: 0.875\n",
      "Validation accuracy: 0.890500009059906\n",
      "--------------------------------------------------------------------------------\n",
      "Optimization Finished!\n",
      "Test accuracy: 0.9559000134468079\n"
     ]
    }
   ],
   "source": [
    "num_steps = 3001\n",
    "\n",
    "with tf.Session(graph=graph) as sess:\n",
    "    sess.run(tf.global_variables_initializer())\n",
    "    print(\"Initialized\")\n",
    "    print('-'*80)\n",
    "    for step in range(num_steps):\n",
    "        offset = (step * batch_size) % (train_labels.shape[0] - batch_size)\n",
    "\n",
    "        batch_data = train_dataset[offset:(offset + batch_size)]\n",
    "        batch_labels = train_labels[offset:(offset + batch_size)]\n",
    "\n",
    "        sess.run(train_step,feed_dict={x: batch_data, \n",
    "                                       y: batch_labels,\n",
    "                                       keep_prob:0.5})\n",
    "        \n",
    "        if (step % 500 == 0):\n",
    "            loss, train_acc = sess.run([cross_entropy,accuracy],\n",
    "                                       feed_dict={x: batch_data, \n",
    "                                                  y :batch_labels,\n",
    "                                                  keep_prob:0.5})\n",
    "            print(\"step {}:\".format(step))\n",
    "            print(\"Minibatch loss: {}, accuracy: {}\".format(loss,train_acc))\n",
    "            val_acc = sess.run(accuracy,feed_dict={x: valid_dataset,\n",
    "                                                   y: valid_labels,\n",
    "                                                   keep_prob:0.5})\n",
    "            print(\"Validation accuracy: {}\".format(val_acc))\n",
    "            print('-'*80)\n",
    "\n",
    "    print('Optimization Finished!')\n",
    "    test_acc = sess.run(accuracy,feed_dict={x: test_dataset, \n",
    "                                            y: test_labels,\n",
    "                                            keep_prob:1.0})\n",
    "    print(\"Test accuracy: {}\".format(test_acc))"
   ]
  },
  {
   "cell_type": "markdown",
   "metadata": {},
   "source": [
    "## `LeNet5`+优化方法\n",
    "- 参数更新方法：AdamOptimizer 比 GradientDescentOptimizer 精度提升 3%"
   ]
  },
  {
   "cell_type": "code",
   "execution_count": 104,
   "metadata": {},
   "outputs": [],
   "source": [
    "X = tf.placeholder(tf.float32, shape=[None, 28, 28, 1])\n",
    "y = tf.placeholder(tf.float32, shape=[None, 10])"
   ]
  },
  {
   "cell_type": "code",
   "execution_count": 105,
   "metadata": {},
   "outputs": [],
   "source": [
    "weights = {\n",
    "    'conv1': tf.Variable(tf.truncated_normal([5, 5, 1, 6], stddev=0.1)),\n",
    "    'conv2': tf.Variable(tf.truncated_normal([5, 5, 6, 16], stddev=0.1)),\n",
    "    'fc3': tf.Variable(tf.truncated_normal([5 * 5 * 16, 120], stddev=0.1)),\n",
    "    'fc4': tf.Variable(tf.truncated_normal([120, 84], stddev=0.1)),\n",
    "    'out': tf.Variable(tf.truncated_normal([84, 10], stddev=0.1))\n",
    "}\n",
    "\n",
    "biases = {\n",
    "    'conv1': tf.Variable(tf.constant(0.1, shape=[6])),\n",
    "    'conv2': tf.Variable(tf.constant(0.1, shape=[16])),\n",
    "    'fc3': tf.Variable(tf.constant(0.1, shape=[120])),\n",
    "    'fc4': tf.Variable(tf.constant(0.1, shape=[84])),\n",
    "    'out': tf.Variable(tf.constant(0.1, shape=[10]))\n",
    "}\n",
    "\n",
    "def build_nets(X, weights, biases):\n",
    "    z1 = tf.nn.conv2d(X, weights['conv1'], strides=[1, 1, 1, 1], padding='SAME')\n",
    "    y1 = tf.nn.relu(tf.add(z1, biases['conv1']))\n",
    "    y1 = tf.nn.max_pool2d(y1, ksize=[1, 2, 2, 1], strides=[1, 2, 2, 1], padding='VALID')\n",
    "\n",
    "    z2 = tf.nn.conv2d(y1, weights['conv2'], strides=[1, 1, 1, 1], padding='VALID')\n",
    "    y2 = tf.nn.relu(tf.add(z2, biases['conv2']))\n",
    "    y2 = tf.nn.max_pool2d(y2, ksize=[1, 2, 2, 1], strides=[1, 2, 2, 1], padding='VALID')\n",
    "\n",
    "    y2 = tf.reshape(y2, [-1, weights['fc3'].get_shape().as_list()[0]])\n",
    "    z3 = tf.matmul(y2, weights['fc3'])\n",
    "    y3 = tf.nn.relu(tf.add(z3, biases['fc3']))\n",
    "\n",
    "    z4 = tf.matmul(y3, weights['fc4'])\n",
    "    y4 = tf.nn.relu(tf.add(z4, biases['fc4']))\n",
    "\n",
    "    out = tf.add(tf.matmul(y4, weights['out']), biases['out'])\n",
    "    return out"
   ]
  },
  {
   "cell_type": "code",
   "execution_count": 106,
   "metadata": {},
   "outputs": [],
   "source": [
    "logits = build_nets(X, weights, biases)\n",
    "y_pred = tf.nn.softmax(logits)\n",
    "\n",
    "loss = tf.reduce_mean(\n",
    "    tf.nn.softmax_cross_entropy_with_logits(logits=logits, labels=y))\n",
    "\n",
    "y_pred_correct = tf.equal(tf.argmax(y_pred, 1), tf.argmax(y, 1))\n",
    "acc = tf.reduce_mean(tf.cast(y_pred_correct, tf.float32))\n",
    "\n",
    "optimizer = tf.train.AdamOptimizer(1e-3).minimize(loss)\n",
    "\n",
    "init = tf.global_variables_initializer()"
   ]
  },
  {
   "cell_type": "code",
   "execution_count": 107,
   "metadata": {},
   "outputs": [
    {
     "name": "stdout",
     "output_type": "stream",
     "text": [
      "Initialized\n",
      "--------------------------------------------------------------------------------\n",
      "step 0:\n",
      "Minibatch loss: 2.2333452701568604, accuracy: 0.203125\n",
      "Validation accuracy: 0.14190000295639038\n",
      "--------------------------------------------------------------------------------\n",
      "step 200:\n",
      "Minibatch loss: 0.5003485679626465, accuracy: 0.84375\n",
      "Validation accuracy: 0.8303999900817871\n",
      "--------------------------------------------------------------------------------\n",
      "step 400:\n",
      "Minibatch loss: 0.45962750911712646, accuracy: 0.8359375\n",
      "Validation accuracy: 0.8550999760627747\n",
      "--------------------------------------------------------------------------------\n",
      "step 600:\n",
      "Minibatch loss: 0.40207576751708984, accuracy: 0.8671875\n",
      "Validation accuracy: 0.8690999746322632\n",
      "--------------------------------------------------------------------------------\n",
      "step 800:\n",
      "Minibatch loss: 0.6581531763076782, accuracy: 0.8203125\n",
      "Validation accuracy: 0.8799999952316284\n",
      "--------------------------------------------------------------------------------\n",
      "step 1000:\n",
      "Minibatch loss: 0.4802801311016083, accuracy: 0.8515625\n",
      "Validation accuracy: 0.8827999830245972\n",
      "--------------------------------------------------------------------------------\n",
      "step 1200:\n",
      "Minibatch loss: 0.5162304639816284, accuracy: 0.828125\n",
      "Validation accuracy: 0.8833000063896179\n",
      "--------------------------------------------------------------------------------\n",
      "step 1400:\n",
      "Minibatch loss: 0.3630096912384033, accuracy: 0.8828125\n",
      "Validation accuracy: 0.8844000101089478\n",
      "--------------------------------------------------------------------------------\n",
      "step 1600:\n",
      "Minibatch loss: 0.3749620020389557, accuracy: 0.8828125\n",
      "Validation accuracy: 0.8866000175476074\n",
      "--------------------------------------------------------------------------------\n",
      "step 1800:\n",
      "Minibatch loss: 0.46838340163230896, accuracy: 0.8671875\n",
      "Validation accuracy: 0.890999972820282\n",
      "--------------------------------------------------------------------------------\n",
      "step 2000:\n",
      "Minibatch loss: 0.2849087119102478, accuracy: 0.8984375\n",
      "Validation accuracy: 0.895799994468689\n",
      "--------------------------------------------------------------------------------\n",
      "Optimization Finished!\n",
      "Test accuracy: 0.9452999830245972\n"
     ]
    }
   ],
   "source": [
    "num_steps = 2001\n",
    "\n",
    "with tf.Session() as sess:\n",
    "    sess.run(init)\n",
    "    print(\"Initialized\")\n",
    "    print('-'*80)\n",
    "    for step in range(num_steps):\n",
    "        offset = (step * batch_size) % (train_labels.shape[0] - batch_size)\n",
    "\n",
    "        batch_data = train_dataset[offset:(offset + batch_size)]\n",
    "        batch_labels = train_labels[offset:(offset + batch_size)]\n",
    "\n",
    "        sess.run(optimizer,feed_dict={X: batch_data, y: batch_labels})\n",
    "        \n",
    "        if (step % 200 == 0):\n",
    "            loss_val, train_acc = sess.run([loss,acc],\n",
    "                                       feed_dict={X: batch_data, \n",
    "                                                  y :batch_labels})\n",
    "            print(\"step {}:\".format(step))\n",
    "            print(\"Minibatch loss: {}, accuracy: {}\".format(loss_val,train_acc))\n",
    "            val_acc = sess.run(acc,feed_dict={X: valid_dataset,\n",
    "                                                   y: valid_labels})\n",
    "            print(\"Validation accuracy: {}\".format(val_acc))\n",
    "            print('-'*80)\n",
    "\n",
    "    print('Optimization Finished!')\n",
    "    test_acc = sess.run(acc,feed_dict={X: test_dataset,y: test_labels})\n",
    "    print(\"Test accuracy: {}\".format(test_acc))"
   ]
  },
  {
   "cell_type": "markdown",
   "metadata": {},
   "source": [
    "## `Keras Callbacks`"
   ]
  },
  {
   "cell_type": "code",
   "execution_count": null,
   "metadata": {},
   "outputs": [],
   "source": []
  },
  {
   "cell_type": "markdown",
   "metadata": {},
   "source": [
    "CNN 结构如下：\n",
    "            \n",
    "`In -> [[Conv2D->relu]*2 -> MaxPool2D -> Dropout]*2 -> Flatten -> Dense -> Dropout -> Out`"
   ]
  },
  {
   "cell_type": "code",
   "execution_count": 93,
   "metadata": {},
   "outputs": [],
   "source": [
    "import pandas as pd\n",
    "import numpy as np\n",
    "import matplotlib.pyplot as plt\n",
    "import matplotlib.image as mpimg\n",
    "import seaborn as sns\n",
    "%matplotlib inline\n",
    "\n",
    "np.random.seed(2)\n",
    "\n",
    "from sklearn.metrics import confusion_matrix\n",
    "import itertools\n",
    "\n",
    "from keras.models import Sequential\n",
    "from keras.layers import Dense, Dropout, Flatten, Conv2D, MaxPool2D\n",
    "from keras.optimizers import RMSprop\n",
    "from keras.preprocessing.image import ImageDataGenerator\n",
    "from keras.callbacks import ReduceLROnPlateau\n",
    "\n",
    "sns.set(style='white', context='notebook', palette='deep')"
   ]
  },
  {
   "cell_type": "code",
   "execution_count": 90,
   "metadata": {},
   "outputs": [
    {
     "data": {
      "image/png": "[encoded data removed]",
      "text/plain": [
       "<Figure size 432x288 with 1 Axes>"
      ]
     },
     "metadata": {
      "needs_background": "light"
     },
     "output_type": "display_data"
    }
   ],
   "source": [
    "g = plt.imshow(train_dataset[11][:,:,0])"
   ]
  },
  {
   "cell_type": "code",
   "execution_count": 91,
   "metadata": {},
   "outputs": [],
   "source": [
    "model = Sequential()\n",
    "\n",
    "model.add(Conv2D(filters = 32, kernel_size = (5,5),padding = 'Same', \n",
    "                 activation ='relu', input_shape = (28,28,1)))\n",
    "model.add(Conv2D(filters = 32, kernel_size = (5,5),padding = 'Same', \n",
    "                 activation ='relu'))\n",
    "model.add(MaxPool2D(pool_size=(2,2)))\n",
    "model.add(Dropout(0.25))\n",
    "\n",
    "\n",
    "model.add(Conv2D(filters = 64, kernel_size = (3,3),padding = 'Same', \n",
    "                 activation ='relu'))\n",
    "model.add(Conv2D(filters = 64, kernel_size = (3,3),padding = 'Same', \n",
    "                 activation ='relu'))\n",
    "model.add(MaxPool2D(pool_size=(2,2), strides=(2,2)))\n",
    "model.add(Dropout(0.25))\n",
    "\n",
    "\n",
    "model.add(Flatten())\n",
    "model.add(Dense(256, activation = \"relu\"))\n",
    "model.add(Dropout(0.5))\n",
    "model.add(Dense(10, activation = \"softmax\"))"
   ]
  },
  {
   "cell_type": "code",
   "execution_count": 94,
   "metadata": {},
   "outputs": [],
   "source": [
    "optimizer = RMSprop(lr=0.001, rho=0.9, epsilon=1e-08, decay=0.0)"
   ]
  },
  {
   "cell_type": "code",
   "execution_count": 99,
   "metadata": {},
   "outputs": [],
   "source": [
    "model.compile(optimizer = optimizer , loss = \"categorical_crossentropy\", metrics=[\"accuracy\"])"
   ]
  },
  {
   "cell_type": "code",
   "execution_count": 95,
   "metadata": {},
   "outputs": [],
   "source": [
    "learning_rate_reduction = ReduceLROnPlateau(monitor='val_acc', \n",
    "                                            patience=3, \n",
    "                                            verbose=1, \n",
    "                                            factor=0.5, \n",
    "                                            min_lr=0.00001)"
   ]
  },
  {
   "cell_type": "code",
   "execution_count": 96,
   "metadata": {},
   "outputs": [],
   "source": [
    "epochs = 5\n",
    "batch_size = 128"
   ]
  },
  {
   "cell_type": "code",
   "execution_count": 100,
   "metadata": {},
   "outputs": [
    {
     "name": "stdout",
     "output_type": "stream",
     "text": [
      "Train on 200000 samples, validate on 10000 samples\n",
      "Epoch 1/5\n",
      " - 694s - loss: 0.4321 - acc: 0.8719 - val_loss: 0.3204 - val_acc: 0.9082\n",
      "Epoch 2/5\n",
      " - 693s - loss: 0.3372 - acc: 0.9005 - val_loss: 0.3156 - val_acc: 0.9137\n",
      "Epoch 3/5\n",
      " - 692s - loss: 0.3289 - acc: 0.9040 - val_loss: 0.3031 - val_acc: 0.9134\n",
      "Epoch 4/5\n",
      " - 689s - loss: 0.3292 - acc: 0.9036 - val_loss: 0.3039 - val_acc: 0.9145\n",
      "Epoch 5/5\n",
      " - 693s - loss: 0.3332 - acc: 0.9035 - val_loss: 0.3109 - val_acc: 0.9126\n"
     ]
    }
   ],
   "source": [
    "history = model.fit(train_dataset, train_labels, batch_size = batch_size, epochs = epochs,\n",
    "                    validation_data = (valid_dataset, valid_labels), verbose = 2)"
   ]
  },
  {
   "cell_type": "code",
   "execution_count": 101,
   "metadata": {},
   "outputs": [
    {
     "data": {
      "image/png": "[encoded data removed]",
      "text/plain": [
       "<Figure size 432x288 with 2 Axes>"
      ]
     },
     "metadata": {},
     "output_type": "display_data"
    }
   ],
   "source": [
    "fig, ax = plt.subplots(2,1)\n",
    "ax[0].plot(history.history['loss'], color='b', label=\"Training loss\")\n",
    "ax[0].plot(history.history['val_loss'], color='r', label=\"validation loss\",axes =ax[0])\n",
    "legend = ax[0].legend(loc='best', shadow=True)\n",
    "\n",
    "ax[1].plot(history.history['acc'], color='b', label=\"Training accuracy\")\n",
    "ax[1].plot(history.history['val_acc'], color='r',label=\"Validation accuracy\")\n",
    "legend = ax[1].legend(loc='best', shadow=True)"
   ]
  },
  {
   "cell_type": "code",
   "execution_count": 102,
   "metadata": {},
   "outputs": [
    {
     "data": {
      "image/png": "[encoded data removed]",
      "text/plain": [
       "<Figure size 432x288 with 2 Axes>"
      ]
     },
     "metadata": {},
     "output_type": "display_data"
    }
   ],
   "source": [
    "def plot_confusion_matrix(cm, classes,\n",
    "                          normalize=False,\n",
    "                          title='Confusion matrix',\n",
    "                          cmap=plt.cm.Blues):\n",
    "    plt.imshow(cm, interpolation='nearest', cmap=cmap)\n",
    "    plt.title(title)\n",
    "    plt.colorbar()\n",
    "    tick_marks = np.arange(len(classes))\n",
    "    plt.xticks(tick_marks, classes, rotation=45)\n",
    "    plt.yticks(tick_marks, classes)\n",
    "\n",
    "    if normalize:\n",
    "        cm = cm.astype('float') / cm.sum(axis=1)[:, np.newaxis]\n",
    "\n",
    "    thresh = cm.max() / 2.\n",
    "    for i, j in itertools.product(range(cm.shape[0]), range(cm.shape[1])):\n",
    "        plt.text(j, i, cm[i, j],\n",
    "                 horizontalalignment=\"center\",\n",
    "                 color=\"white\" if cm[i, j] > thresh else \"black\")\n",
    "\n",
    "    plt.tight_layout()\n",
    "    plt.ylabel('True label')\n",
    "    plt.xlabel('Predicted label')\n",
    "    \n",
    "Y_pred = model.predict(test_dataset)\n",
    "Y_pred_classes = np.argmax(Y_pred,axis = 1) \n",
    "Y_true = np.argmax(test_labels,axis = 1) \n",
    "confusion_mtx = confusion_matrix(Y_true, Y_pred_classes) \n",
    "plot_confusion_matrix(confusion_mtx, classes = range(10))     "
   ]
  },
  {
   "cell_type": "code",
   "execution_count": 103,
   "metadata": {},
   "outputs": [
    {
     "name": "stdout",
     "output_type": "stream",
     "text": [
      "Test accuracy: 0.911899983882904\n"
     ]
    }
   ],
   "source": [
    "y_pred_correct = tf.equal(tf.argmax(y_pred, 1), tf.argmax(test_labels, 1))\n",
    "acc = tf.reduce_mean(tf.cast(y_pred_correct, tf.float32))\n",
    "print(\"Test accuracy: {}\".format(test_acc))"
   ]
  },
  {
   "cell_type": "code",
   "execution_count": null,
   "metadata": {},
   "outputs": [],
   "source": []
  },
  {
   "cell_type": "code",
   "execution_count": null,
   "metadata": {},
   "outputs": [],
   "source": []
  },
  {
   "cell_type": "code",
   "execution_count": null,
   "metadata": {},
   "outputs": [],
   "source": []
  }
 ],
 "metadata": {
  "kernelspec": {
   "display_name": "Python 3",
   "language": "python",
   "name": "python3"
  },
  "language_info": {
   "codemirror_mode": {
    "name": "ipython",
    "version": 3
   },
   "file_extension": ".py",
   "mimetype": "text/x-python",
   "name": "python",
   "nbconvert_exporter": "python",
   "pygments_lexer": "ipython3",
   "version": "3.7.7"
  },
  "toc": {
   "base_numbering": 1,
   "nav_menu": {},
   "number_sections": true,
   "sideBar": true,
   "skip_h1_title": false,
   "title_cell": "Table of Contents",
   "title_sidebar": "Contents",
   "toc_cell": false,
   "toc_position": {
    "height": "calc(100% - 180px)",
    "left": "10px",
    "top": "150px",
    "width": "198.667px"
   },
   "toc_section_display": true,
   "toc_window_display": true
  },
  "varInspector": {
   "cols": {
    "lenName": 16,
    "lenType": 16,
    "lenVar": 40
   },
   "kernels_config": {
    "python": {
     "delete_cmd_postfix": "",
     "delete_cmd_prefix": "del ",
     "library": "var_list.py",
     "varRefreshCmd": "print(var_dic_list())"
    },
    "r": {
     "delete_cmd_postfix": ") ",
     "delete_cmd_prefix": "rm(",
     "library": "var_list.r",
     "varRefreshCmd": "cat(var_dic_list()) "
    }
   },
   "types_to_exclude": [
    "module",
    "function",
    "builtin_function_or_method",
    "instance",
    "_Feature"
   ],
   "window_display": false
  }
 },
 "nbformat": 4,
 "nbformat_minor": 2
}
