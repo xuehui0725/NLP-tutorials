{
 "cells": [
  {
   "cell_type": "markdown",
   "metadata": {
    "toc": true
   },
   "source": [
    "<h1>Table of Contents<span class=\"tocSkip\"></span></h1>\n",
    "<div class=\"toc\"><ul class=\"toc-item\"><li><span><a href=\"#RNN原理\" data-toc-modified-id=\"RNN原理-1\"><span class=\"toc-item-num\">1&nbsp;&nbsp;</span><code>RNN</code>原理</a></span><ul class=\"toc-item\"><li><span><a href=\"#SimpleRNN\" data-toc-modified-id=\"SimpleRNN-1.1\"><span class=\"toc-item-num\">1.1&nbsp;&nbsp;</span><code>SimpleRNN</code></a></span></li><li><span><a href=\"#LSTM\" data-toc-modified-id=\"LSTM-1.2\"><span class=\"toc-item-num\">1.2&nbsp;&nbsp;</span><code>LSTM</code></a></span><ul class=\"toc-item\"><li><span><a href=\"#LSTM原理\" data-toc-modified-id=\"LSTM原理-1.2.1\"><span class=\"toc-item-num\">1.2.1&nbsp;&nbsp;</span><code>LSTM</code>原理</a></span></li><li><span><a href=\"#LSTM结构\" data-toc-modified-id=\"LSTM结构-1.2.2\"><span class=\"toc-item-num\">1.2.2&nbsp;&nbsp;</span><code>LSTM</code>结构</a></span></li><li><span><a href=\"#peephole机制\" data-toc-modified-id=\"peephole机制-1.2.3\"><span class=\"toc-item-num\">1.2.3&nbsp;&nbsp;</span><code>peephole</code>机制</a></span></li></ul></li><li><span><a href=\"#GRU\" data-toc-modified-id=\"GRU-1.3\"><span class=\"toc-item-num\">1.3&nbsp;&nbsp;</span><code>GRU</code></a></span></li></ul></li><li><span><a href=\"#RNN实现\" data-toc-modified-id=\"RNN实现-2\"><span class=\"toc-item-num\">2&nbsp;&nbsp;</span><code>RNN</code>实现</a></span><ul class=\"toc-item\"><li><span><a href=\"#SimpleRNN层\" data-toc-modified-id=\"SimpleRNN层-2.1\"><span class=\"toc-item-num\">2.1&nbsp;&nbsp;</span><code>SimpleRNN</code>层</a></span></li><li><span><a href=\"#LSTM层\" data-toc-modified-id=\"LSTM层-2.2\"><span class=\"toc-item-num\">2.2&nbsp;&nbsp;</span><code>LSTM</code>层</a></span></li><li><span><a href=\"#GRU层\" data-toc-modified-id=\"GRU层-2.3\"><span class=\"toc-item-num\">2.3&nbsp;&nbsp;</span><code>GRU</code>层</a></span></li><li><span><a href=\"#RNN训练流程\" data-toc-modified-id=\"RNN训练流程-2.4\"><span class=\"toc-item-num\">2.4&nbsp;&nbsp;</span><code>RNN</code>训练流程</a></span><ul class=\"toc-item\"><li><span><a href=\"#训练数据\" data-toc-modified-id=\"训练数据-2.4.1\"><span class=\"toc-item-num\">2.4.1&nbsp;&nbsp;</span>训练数据</a></span></li><li><span><a href=\"#定义模型\" data-toc-modified-id=\"定义模型-2.4.2\"><span class=\"toc-item-num\">2.4.2&nbsp;&nbsp;</span>定义模型</a></span></li><li><span><a href=\"#训练模型\" data-toc-modified-id=\"训练模型-2.4.3\"><span class=\"toc-item-num\">2.4.3&nbsp;&nbsp;</span>训练模型</a></span></li></ul></li></ul></li><li><span><a href=\"#RNN示例：字符级文本生成\" data-toc-modified-id=\"RNN示例：字符级文本生成-3\"><span class=\"toc-item-num\">3&nbsp;&nbsp;</span><code>RNN</code>示例：字符级文本生成</a></span><ul class=\"toc-item\"><li><span><a href=\"#数据集\" data-toc-modified-id=\"数据集-3.1\"><span class=\"toc-item-num\">3.1&nbsp;&nbsp;</span>数据集</a></span></li><li><span><a href=\"#数据预处理\" data-toc-modified-id=\"数据预处理-3.2\"><span class=\"toc-item-num\">3.2&nbsp;&nbsp;</span>数据预处理</a></span></li><li><span><a href=\"#创建模型\" data-toc-modified-id=\"创建模型-3.3\"><span class=\"toc-item-num\">3.3&nbsp;&nbsp;</span>创建模型</a></span></li><li><span><a href=\"#训练模型\" data-toc-modified-id=\"训练模型-3.4\"><span class=\"toc-item-num\">3.4&nbsp;&nbsp;</span>训练模型</a></span></li><li><span><a href=\"#获取最优模型\" data-toc-modified-id=\"获取最优模型-3.5\"><span class=\"toc-item-num\">3.5&nbsp;&nbsp;</span>获取最优模型</a></span></li><li><span><a href=\"#保存模型\" data-toc-modified-id=\"保存模型-3.6\"><span class=\"toc-item-num\">3.6&nbsp;&nbsp;</span>保存模型</a></span></li><li><span><a href=\"#文本生成\" data-toc-modified-id=\"文本生成-3.7\"><span class=\"toc-item-num\">3.7&nbsp;&nbsp;</span>文本生成</a></span></li></ul></li></ul></div>"
   ]
  },
  {
   "cell_type": "markdown",
   "metadata": {},
   "source": [
    "# `RNN`原理\n",
    "- `Recurrent Neural Network`，循环神经网络"
   ]
  },
  {
   "cell_type": "markdown",
   "metadata": {
    "ExecuteTime": {
     "end_time": "2020-04-16T10:57:49.560775Z",
     "start_time": "2020-04-16T10:57:49.555762Z"
    }
   },
   "source": [
    "## `SimpleRNN`\n"
   ]
  },
  {
   "cell_type": "markdown",
   "metadata": {},
   "source": [
    "\n",
    "- `SimpleRNN`其结构如下图所示：\n",
    "![](../images/RNN.png)\n",
    "    - 输入为一个向量序列$\\{x_0,x_1,x_2...x_n\\}$ ；\n",
    "    - 在时间步 $t$，序列的元素 $x_t$ 和上一时间步的输出 $h_{t-1} $一起，经过`RNN`单元处理，产生输出 $h_t$;\n",
    "   $$h_t=ϕ(Wx_t+Uh_{t−1})$$\n",
    "   $$y_t=Vh_t$$\n",
    "    - $h_t$ 为隐藏层状态，携带了序列截止时间步 $t$ 的信息；$y_t$ 为时间步 $t$ 的输出；$h_t$ 继续作为下一时间步的输入\n",
    "    - 整个序列被处理完，最终的输出 $y_n$ 即为`RNN`的输出；根据情况，也可返回所有的输出序列 $\\{y_0,y_1,y_2...y_n\\}$\n",
    "    - 序列的每个元素是经过***同一个***`RNN`处理，因此待学习的参数只有一组：$W,U,V$\n",
    "        \n",
    "           \n",
    "- 序列元素依次经过`RNN`的激活`(sigmoid/tanh)`函数的处理，存在信息丢失；并且在训练时反向传播会导致梯度消失，因此只能储存**短期记忆**\n",
    "    - 例如训练单词`it`对应的向量时，只能利用`time`和`is`对应的信息，而`what`对应的信息丢失"
   ]
  },
  {
   "cell_type": "code",
   "execution_count": null,
   "metadata": {},
   "outputs": [],
   "source": []
  },
  {
   "cell_type": "code",
   "execution_count": null,
   "metadata": {},
   "outputs": [],
   "source": []
  },
  {
   "cell_type": "markdown",
   "metadata": {},
   "source": [
    "## `LSTM`"
   ]
  },
  {
   "cell_type": "markdown",
   "metadata": {
    "ExecuteTime": {
     "end_time": "2020-04-16T15:37:04.172834Z",
     "start_time": "2020-04-16T15:37:04.163707Z"
    }
   },
   "source": [
    "### `LSTM`原理\n",
    "- `Long Short-Term Memory`，其框架如下所示，`LSTM`单元利用当前输入、短期记忆和长期记忆，更新长期和短期记忆，并产生输出\n",
    "![](../images/lstm.png)"
   ]
  },
  {
   "cell_type": "markdown",
   "metadata": {},
   "source": [
    "### `LSTM`结构\n",
    "- `LSTM`的结构如下图所示，包含四个门：`forget gate`,`learn gate`,`remember gate`,`ouput(use) gate`\n",
    "![](../images/lstm结构.png)\n",
    "    - `forget gate`：决定**长期记忆**$c_t$中哪些信息该保留，哪些该忘记\n",
    "        - 首先整合当前输入$x_t$和短期记忆$h_{t-1}$，输出一个向量$f_t$；\n",
    "        - $f_t$的值介于$0-1$之间，每一位对应于**长期记忆**的一个数字，$1$表示完全保留，$0$表示完全丢弃\n",
    "            $$f_t=\\sigma(W_f[h_{t-1},x_t]+b_f)$$\n",
    "            $$Out_f = c_{t-1}\\cdot f_t$$\n",
    "        \n",
    "    - `learn gate`：决定短期记忆和当前输入中学到的信息\n",
    "        - 首先整合 $x_t$ 和短期记忆 $h_{t-1}$ 的信息 $\\hat c_t$\n",
    "        - 然后通过  $x_t$ 和 $h_{t-1}$ 获得一个遗忘因子 $i_t$，其值位于$0-1$之间\n",
    "        - 再将上两步的结果结合\n",
    "            $$\\hat c_t=tanh(W_n[h_{t-1},x_t]+b_n)$$  \n",
    "            $$i_t=\\sigma(W_i[h_{t-1},x_t]+b_i)$$\n",
    "            $$Out_n = i_t\\cdot \\hat c_t$$\n",
    "\n",
    "    - `remember gate`：整合上一步的长短期记忆，更新长期记忆\n",
    "$$c_t = Out_f+Out_n$$\n",
    "            \n",
    "    - `output(use) gate`：整合上一步的长短期记忆，更新短期记忆\n",
    "$$o_t=\\sigma(W_o[h_{t-1},x_t]+b_o)$$\n",
    "$$h_t=o_t\\cdot tanh(c_t)$$\n",
    "    \n",
    "- 短期记忆$h_t$，即为`LSTM`当前时间步$t$的输出\n",
    "\n",
    "  \n",
    "- 综上`LSTM`单元的训练参数有四组：`forget gate`参数$\\{W_f,b_f\\}$，`learn gate`参数$\\{W_n,b_n\\}$和$\\{W_i,b_i\\}$，`output gate`参数$\\{W_o,b_o\\}$\n",
    "     \n",
    "     \n",
    "- `LSTM`中不同位置处`sigmoid`和`tanh`激活函数的选择，向量相加加或相乘的确定，具有一定的随意性。之所以选择现结构，是因为在实践中有效"
   ]
  },
  {
   "cell_type": "markdown",
   "metadata": {},
   "source": [
    "### `peephole`机制\n",
    "- 门机制中的`sigmoid`激活函数，将输入转化成$0-1$数值；`sigmoid`乘以另一向量，即可决定保留该向量的哪些信息；\n",
    "- 上述`LSTM`结构中三个`sigmoid`函数的输入都是当前输入和短期记忆$[h_{t_1},x_t]$，即决定`LSTM`单元保留哪些信息的都是短期记忆；\n",
    "- `peephole connections`：将长期记忆也加入到`sigmoid`激活函数的输入中，其在`LSTM`中的决策参与度提高了，即长期和短期记忆共同决定保留哪些信息、丢弃哪些信息\n",
    "![](../images/peephole.png)\n",
    "$$f_t=\\sigma(W_f[c_{t-1},h_{t-1},x_t]+b_f)$$\n",
    "$$i_t=\\sigma(W_i[c_{t-1},h_{t-1},x_t]+b_i)$$\n",
    "$$o_t=\\sigma(W_o[c_{t-1},h_{t-1},x_t]+b_o)$$"
   ]
  },
  {
   "cell_type": "code",
   "execution_count": null,
   "metadata": {},
   "outputs": [],
   "source": []
  },
  {
   "cell_type": "code",
   "execution_count": null,
   "metadata": {},
   "outputs": [],
   "source": []
  },
  {
   "cell_type": "markdown",
   "metadata": {
    "ExecuteTime": {
     "end_time": "2020-04-17T08:26:55.692353Z",
     "start_time": "2020-04-17T08:26:55.688024Z"
    }
   },
   "source": [
    "## `GRU`\n",
    "- `Gated Recurrent Unit`，将`forget gate`和`learn gate`整合成单个的`update gate`，单元状态(长期记忆)$c_{t}$与隐藏状态(短期记忆)$h_t$合并\n",
    "![](../images/gru.png)"
   ]
  },
  {
   "cell_type": "code",
   "execution_count": null,
   "metadata": {},
   "outputs": [],
   "source": []
  },
  {
   "cell_type": "markdown",
   "metadata": {},
   "source": [
    "# `RNN`实现"
   ]
  },
  {
   "cell_type": "code",
   "execution_count": 1,
   "metadata": {
    "ExecuteTime": {
     "end_time": "2020-04-23T07:04:28.602899Z",
     "start_time": "2020-04-23T07:04:28.311358Z"
    }
   },
   "outputs": [],
   "source": [
    "import torch\n",
    "import torch.nn as nn\n",
    "import numpy as np\n",
    "import matplotlib.pyplot as plt\n",
    "\n",
    "%matplotlib inline"
   ]
  },
  {
   "cell_type": "markdown",
   "metadata": {
    "ExecuteTime": {
     "end_time": "2020-04-22T10:54:53.694183Z",
     "start_time": "2020-04-22T10:54:53.688821Z"
    }
   },
   "source": [
    "## `SimpleRNN`层\n",
    "对输入序列的每个向量$x_t$，进行如下计算：\n",
    "$h_t=tanh(W_{ih}x_t+b_{ih}+W_{hh}h_{(t−1)}+b_{hh})$"
   ]
  },
  {
   "cell_type": "code",
   "execution_count": 12,
   "metadata": {
    "ExecuteTime": {
     "end_time": "2020-04-23T07:17:31.480404Z",
     "start_time": "2020-04-23T07:17:31.473169Z"
    }
   },
   "outputs": [
    {
     "name": "stdout",
     "output_type": "stream",
     "text": [
      "输入形状： torch.Size([5, 3, 6])\n",
      "输出形状： torch.Size([5, 3, 10])  隐藏层状态形状： torch.Size([2, 5, 10])\n"
     ]
    }
   ],
   "source": [
    "# 指定输入的特征量，隐藏状态的长度，rnn的层数\n",
    "rnn = nn.RNN(\n",
    "    input_size=6,\n",
    "    hidden_size=10,\n",
    "    num_layers=2,\n",
    "    batch_first=True,  # 输入和输出张量形状：batch,seq,feature\n",
    "    bidirectional=False,  # 双向RNN\n",
    ")\n",
    "\n",
    "# 输入张量：\n",
    "input = torch.randn(5, 3, 6)  # batch,seq,feature\n",
    "h0 = torch.randn(2, 5, 10)  # num_layers,batch,hidden_size\n",
    "print(\"输入形状：\", input.shape)\n",
    "\n",
    "output, hn = rnn(input, h0)\n",
    "print(\"输出形状：\", output.shape, \" 隐藏层状态形状：\", hn.shape)"
   ]
  },
  {
   "cell_type": "code",
   "execution_count": 13,
   "metadata": {
    "ExecuteTime": {
     "end_time": "2020-04-23T07:17:37.735587Z",
     "start_time": "2020-04-23T07:17:37.730022Z"
    }
   },
   "outputs": [
    {
     "name": "stdout",
     "output_type": "stream",
     "text": [
      "输入向量对应的权重 W_ih： torch.Size([10, 6])\n",
      "隐藏状态对应的权重 W_hh： torch.Size([10, 10])\n"
     ]
    }
   ],
   "source": [
    "print(\"输入向量对应的权重 W_ih：\",rnn.weight_ih_l0.shape)\n",
    "print(\"隐藏状态对应的权重 W_hh：\",rnn.weight_hh_l0.shape)"
   ]
  },
  {
   "cell_type": "markdown",
   "metadata": {
    "ExecuteTime": {
     "end_time": "2020-04-22T12:06:12.539402Z",
     "start_time": "2020-04-22T12:06:12.533463Z"
    }
   },
   "source": [
    "## `LSTM`层"
   ]
  },
  {
   "cell_type": "code",
   "execution_count": 25,
   "metadata": {
    "ExecuteTime": {
     "end_time": "2020-04-23T07:36:27.978002Z",
     "start_time": "2020-04-23T07:36:27.970245Z"
    }
   },
   "outputs": [
    {
     "name": "stdout",
     "output_type": "stream",
     "text": [
      "输出形状： torch.Size([5, 3, 10])\n",
      "hidden state： torch.Size([2, 5, 10])\n",
      "cell state： torch.Size([2, 5, 10])\n"
     ]
    }
   ],
   "source": [
    "rnn = nn.LSTM(\n",
    "    input_size=6,\n",
    "    hidden_size=10,\n",
    "    num_layers=2,\n",
    "    batch_first=True,  # 输入和输出张量形状：batch,seq,feature\n",
    "    bidirectional=False,\n",
    ")\n",
    "input = torch.randn(5, 3, 6)\n",
    "h0 = torch.randn(2, 5, 10) # num_layer,batch,hidden\n",
    "c0 = torch.randn(2, 5, 10)\n",
    "\n",
    "output, (hn, cn) = rnn(input, (h0, c0))\n",
    "print(\"输出形状：\", output.shape)\n",
    "print(\"hidden state：\", hn.shape)\n",
    "print(\"cell state：\", cn.shape)"
   ]
  },
  {
   "cell_type": "code",
   "execution_count": null,
   "metadata": {},
   "outputs": [],
   "source": []
  },
  {
   "cell_type": "markdown",
   "metadata": {},
   "source": [
    "## `GRU`层"
   ]
  },
  {
   "cell_type": "code",
   "execution_count": 19,
   "metadata": {
    "ExecuteTime": {
     "end_time": "2020-04-22T12:08:42.939263Z",
     "start_time": "2020-04-22T12:08:42.931554Z"
    }
   },
   "outputs": [],
   "source": [
    "rnn = nn.GRU(10, 20, 2)\n",
    "input = torch.randn(5, 3, 10)\n",
    "h0 = torch.randn(2, 3, 20)\n",
    "output, hn = rnn(input, h0)"
   ]
  },
  {
   "cell_type": "code",
   "execution_count": 12,
   "metadata": {
    "ExecuteTime": {
     "end_time": "2020-04-22T12:02:42.716623Z",
     "start_time": "2020-04-22T12:02:42.707845Z"
    }
   },
   "outputs": [
    {
     "data": {
      "text/plain": [
       "torch.Size([2, 3, 15])"
      ]
     },
     "execution_count": 12,
     "metadata": {},
     "output_type": "execute_result"
    }
   ],
   "source": [
    "h0.shape"
   ]
  },
  {
   "cell_type": "code",
   "execution_count": null,
   "metadata": {},
   "outputs": [],
   "source": []
  },
  {
   "cell_type": "markdown",
   "metadata": {},
   "source": [
    "## `RNN`训练流程"
   ]
  },
  {
   "cell_type": "markdown",
   "metadata": {},
   "source": [
    "### 训练数据"
   ]
  },
  {
   "cell_type": "code",
   "execution_count": 6,
   "metadata": {
    "ExecuteTime": {
     "end_time": "2020-04-17T12:04:03.699786Z",
     "start_time": "2020-04-17T12:04:03.614319Z"
    }
   },
   "outputs": [
    {
     "data": {
      "image/png": "[encoded data removed]",
      "text/plain": [
       "<Figure size 576x360 with 1 Axes>"
      ]
     },
     "metadata": {
      "needs_background": "light"
     },
     "output_type": "display_data"
    }
   ],
   "source": [
    "plt.figure(figsize=(8, 5))\n",
    "\n",
    "# 序列数据\n",
    "seq_length = 20\n",
    "time_steps = np.linspace(0, np.pi, seq_length + 1)\n",
    "data = np.sin(time_steps)\n",
    "data.resize((seq_length + 1, 1))\n",
    "\n",
    "x = data[:-1]  # 数据\n",
    "y = data[1:]  # 标签\n",
    "\n",
    "# 图示数据\n",
    "plt.plot(time_steps[1:], x, 'r.', label='input,  x')\n",
    "plt.plot(time_steps[1:], y, 'b.', label='target, y')\n",
    "\n",
    "plt.legend(loc='best')\n",
    "plt.show()"
   ]
  },
  {
   "cell_type": "markdown",
   "metadata": {},
   "source": [
    "### 定义模型"
   ]
  },
  {
   "cell_type": "code",
   "execution_count": 7,
   "metadata": {
    "ExecuteTime": {
     "end_time": "2020-04-17T12:04:09.147419Z",
     "start_time": "2020-04-17T12:04:09.141076Z"
    }
   },
   "outputs": [],
   "source": [
    "class RNN(nn.Module):\n",
    "    def __init__(self, input_size, output_size, hidden_dim, n_layers):\n",
    "        super(RNN, self).__init__()\n",
    "        self.hidden_dim = hidden_dim\n",
    "        self.rnn = nn.RNN(input_size, hidden_dim, n_layers, batch_first=True)\n",
    "        self.fc = nn.Linear(hidden_dim, output_size)\n",
    "\n",
    "    def forward(self, x, hidden):\n",
    "        batch_size = x.size(0)\n",
    "        r_out, hidden = self.rnn(x, hidden)\n",
    "        r_out = r_out.view(-1, self.hidden_dim)\n",
    "        output = self.fc(r_out)\n",
    "        return output, hidden"
   ]
  },
  {
   "cell_type": "code",
   "execution_count": 8,
   "metadata": {
    "ExecuteTime": {
     "end_time": "2020-04-17T12:08:52.736633Z",
     "start_time": "2020-04-17T12:08:52.688121Z"
    }
   },
   "outputs": [
    {
     "name": "stdout",
     "output_type": "stream",
     "text": [
      "Input size: torch.Size([1, 21, 1])\n",
      "Output size: torch.Size([21, 1])\n",
      "Hidden state size: torch.Size([2, 1, 10])\n"
     ]
    }
   ],
   "source": [
    "# 检测正确建模\n",
    "test_rnn = RNN(input_size=1, output_size=1, hidden_dim=10, n_layers=2)\n",
    "\n",
    "test_input = torch.Tensor(data).unsqueeze(0)\n",
    "print('Input size:', test_input.size())\n",
    "\n",
    "test_out, test_h = test_rnn(test_input, None)\n",
    "print('Output size:', test_out.size())\n",
    "print('Hidden state size:', test_h.size())"
   ]
  },
  {
   "cell_type": "markdown",
   "metadata": {},
   "source": [
    "### 训练模型"
   ]
  },
  {
   "cell_type": "code",
   "execution_count": 9,
   "metadata": {
    "ExecuteTime": {
     "end_time": "2020-04-17T12:13:25.002653Z",
     "start_time": "2020-04-17T12:13:24.997361Z"
    }
   },
   "outputs": [],
   "source": [
    "# 参数\n",
    "input_size = 1\n",
    "output_size = 1\n",
    "hidden_dim = 32\n",
    "n_layers = 1"
   ]
  },
  {
   "cell_type": "code",
   "execution_count": 10,
   "metadata": {
    "ExecuteTime": {
     "end_time": "2020-04-17T12:14:23.447781Z",
     "start_time": "2020-04-17T12:14:23.442151Z"
    }
   },
   "outputs": [
    {
     "name": "stdout",
     "output_type": "stream",
     "text": [
      "RNN(\n",
      "  (rnn): RNN(1, 32, batch_first=True)\n",
      "  (fc): Linear(in_features=32, out_features=1, bias=True)\n",
      ")\n"
     ]
    }
   ],
   "source": [
    "# 初始化模型\n",
    "rnn = RNN(input_size, output_size, hidden_dim, n_layers)\n",
    "print(rnn)"
   ]
  },
  {
   "cell_type": "code",
   "execution_count": 11,
   "metadata": {
    "ExecuteTime": {
     "end_time": "2020-04-17T12:16:40.255210Z",
     "start_time": "2020-04-17T12:16:40.249909Z"
    }
   },
   "outputs": [],
   "source": [
    "# 损失函数和优化器\n",
    "criterion = nn.MSELoss()\n",
    "optimizer = torch.optim.Adam(rnn.parameters(), lr=0.01)"
   ]
  },
  {
   "cell_type": "code",
   "execution_count": 15,
   "metadata": {
    "ExecuteTime": {
     "end_time": "2020-04-17T12:26:43.074801Z",
     "start_time": "2020-04-17T12:26:43.067730Z"
    }
   },
   "outputs": [],
   "source": [
    "# 训练模型\n",
    "def train(rnn, n_steps, print_every):\n",
    "    hidden = None\n",
    "    for batch_i, step in enumerate(range(n_steps)):\n",
    "        x_tensor = torch.Tensor(x).unsqueeze(0)\n",
    "        y_tensor = torch.Tensor(y)\n",
    "\n",
    "        # 前向推理\n",
    "        prediction, hidden = rnn(x_tensor, hidden)\n",
    "        hidden = hidden.data\n",
    "\n",
    "        # 损失函数\n",
    "        loss = criterion(prediction, y_tensor)\n",
    "\n",
    "        # 梯度归零\n",
    "        optimizer.zero_grad()\n",
    "\n",
    "        # 反向传播\n",
    "        loss.backward()\n",
    "\n",
    "        # 更新梯度\n",
    "        optimizer.step()\n",
    "\n",
    "        if batch_i % print_every == 0:\n",
    "            print('Loss: ', loss.item())\n",
    "            plt.plot(time_steps[1:], x, 'r.')\n",
    "            plt.plot(time_steps[1:], prediction.data.numpy().flatten(), 'b.')\n",
    "            plt.show()\n",
    "    return rnn"
   ]
  },
  {
   "cell_type": "code",
   "execution_count": 16,
   "metadata": {
    "ExecuteTime": {
     "end_time": "2020-04-17T12:26:49.348691Z",
     "start_time": "2020-04-17T12:26:48.906766Z"
    }
   },
   "outputs": [
    {
     "name": "stdout",
     "output_type": "stream",
     "text": [
      "Loss:  0.40589970350265503\n"
     ]
    },
    {
     "data": {
      "image/png": "[encoded data removed]",
      "text/plain": [
       "<Figure size 432x288 with 1 Axes>"
      ]
     },
     "metadata": {
      "needs_background": "light"
     },
     "output_type": "display_data"
    },
    {
     "name": "stdout",
     "output_type": "stream",
     "text": [
      "Loss:  0.035483404994010925\n"
     ]
    },
    {
     "data": {
      "image/png": "[encoded data removed]",
      "text/plain": [
       "<Figure size 432x288 with 1 Axes>"
      ]
     },
     "metadata": {
      "needs_background": "light"
     },
     "output_type": "display_data"
    },
    {
     "name": "stdout",
     "output_type": "stream",
     "text": [
      "Loss:  0.012853428721427917\n"
     ]
    },
    {
     "data": {
      "image/png": "[encoded data removed]",
      "text/plain": [
       "<Figure size 432x288 with 1 Axes>"
      ]
     },
     "metadata": {
      "needs_background": "light"
     },
     "output_type": "display_data"
    },
    {
     "name": "stdout",
     "output_type": "stream",
     "text": [
      "Loss:  0.00824706070125103\n"
     ]
    },
    {
     "data": {
      "image/png": "[encoded data removed]",
      "text/plain": [
       "<Figure size 432x288 with 1 Axes>"
      ]
     },
     "metadata": {
      "needs_background": "light"
     },
     "output_type": "display_data"
    },
    {
     "name": "stdout",
     "output_type": "stream",
     "text": [
      "Loss:  0.010340889915823936\n"
     ]
    },
    {
     "data": {
      "image/png": "[encoded data removed]",
      "text/plain": [
       "<Figure size 432x288 with 1 Axes>"
      ]
     },
     "metadata": {
      "needs_background": "light"
     },
     "output_type": "display_data"
    }
   ],
   "source": [
    "n_steps = 75\n",
    "print_every = 15\n",
    "\n",
    "# 训练\n",
    "trained_rnn = train(rnn, n_steps, print_every)"
   ]
  },
  {
   "cell_type": "code",
   "execution_count": null,
   "metadata": {},
   "outputs": [],
   "source": []
  },
  {
   "cell_type": "markdown",
   "metadata": {},
   "source": [
    "# `RNN`示例：字符级文本生成\n",
    "\n",
    "![](images/charseq.jpeg)"
   ]
  },
  {
   "cell_type": "code",
   "execution_count": 17,
   "metadata": {
    "ExecuteTime": {
     "end_time": "2020-04-17T12:34:31.959282Z",
     "start_time": "2020-04-17T12:34:31.954276Z"
    }
   },
   "outputs": [],
   "source": [
    "import numpy as np\n",
    "import torch\n",
    "import torch.nn as nn\n",
    "import torch.nn.functional as F"
   ]
  },
  {
   "cell_type": "markdown",
   "metadata": {},
   "source": [
    "## 数据集"
   ]
  },
  {
   "cell_type": "code",
   "execution_count": 20,
   "metadata": {
    "ExecuteTime": {
     "end_time": "2020-04-17T12:35:46.815654Z",
     "start_time": "2020-04-17T12:35:46.808118Z"
    }
   },
   "outputs": [
    {
     "data": {
      "text/plain": [
       "'Chapter 1\\n\\n\\nHappy families are all alike; every unhappy family is unhappy in its own\\nway.\\n\\nEverythin'"
      ]
     },
     "execution_count": 20,
     "metadata": {},
     "output_type": "execute_result"
    }
   ],
   "source": [
    "with open('datasets/anna.txt', 'r') as f:\n",
    "    text = f.read()\n",
    "    \n",
    "text[:100]    "
   ]
  },
  {
   "cell_type": "code",
   "execution_count": 22,
   "metadata": {
    "ExecuteTime": {
     "end_time": "2020-04-17T12:38:12.157786Z",
     "start_time": "2020-04-17T12:38:12.012561Z"
    }
   },
   "outputs": [
    {
     "data": {
      "text/plain": [
       "array([77, 41, 28, 66,  7, 21, 47, 58,  4, 35, 35, 35, 23, 28, 66, 66, 31,\n",
       "       58,  9, 28])"
      ]
     },
     "execution_count": 22,
     "metadata": {},
     "output_type": "execute_result"
    }
   ],
   "source": [
    "# 文本向量化\n",
    "\n",
    "chars = tuple(set(text))\n",
    "int2char = dict(enumerate(chars))\n",
    "char2int = {ch: ii for ii, ch in int2char.items()}\n",
    "\n",
    "encoded = np.array([char2int[ch] for ch in text])\n",
    "encoded[:20]"
   ]
  },
  {
   "cell_type": "markdown",
   "metadata": {},
   "source": [
    "## 数据预处理"
   ]
  },
  {
   "cell_type": "code",
   "execution_count": 26,
   "metadata": {
    "ExecuteTime": {
     "end_time": "2020-04-17T12:45:43.290190Z",
     "start_time": "2020-04-17T12:45:43.284573Z"
    }
   },
   "outputs": [],
   "source": [
    "def one_hot_encode(arr, n_labels):\n",
    "    one_hot = np.zeros((arr.size, n_labels), dtype=np.float32)\n",
    "    one_hot[np.arange(one_hot.shape[0]), arr.flatten()] = 1.\n",
    "    one_hot = one_hot.reshape((*arr.shape, n_labels))\n",
    "    return one_hot"
   ]
  },
  {
   "cell_type": "code",
   "execution_count": 27,
   "metadata": {
    "ExecuteTime": {
     "end_time": "2020-04-17T12:45:44.312299Z",
     "start_time": "2020-04-17T12:45:44.306700Z"
    }
   },
   "outputs": [
    {
     "name": "stdout",
     "output_type": "stream",
     "text": [
      "[[[0. 0. 0. 1. 0. 0. 0. 0.]\n",
      "  [0. 0. 0. 0. 0. 1. 0. 0.]\n",
      "  [0. 1. 0. 0. 0. 0. 0. 0.]]]\n"
     ]
    }
   ],
   "source": [
    "test_seq = np.array([[3, 5, 1]])\n",
    "one_hot = one_hot_encode(test_seq, 8)\n",
    "print(one_hot)"
   ]
  },
  {
   "cell_type": "code",
   "execution_count": 33,
   "metadata": {
    "ExecuteTime": {
     "end_time": "2020-04-17T13:04:38.354611Z",
     "start_time": "2020-04-17T13:04:38.346329Z"
    }
   },
   "outputs": [
    {
     "name": "stdout",
     "output_type": "stream",
     "text": [
      "x\n",
      " [[77 41 28 66  7 21 47 58  4 35]\n",
      " [39 81 37 58  7 41 28  7 58 28]\n",
      " [21 37 67 58 81 47 58 28 58  9]\n",
      " [39 58  7 41 21 58 11 41 12 21]]\n",
      "\n",
      "y\n",
      " [[41 28 66  7 21 47 58  4 35 35]\n",
      " [81 37 58  7 41 28  7 58 28  7]\n",
      " [37 67 58 81 47 58 28 58  9 81]\n",
      " [58  7 41 21 58 11 41 12 21  9]]\n"
     ]
    }
   ],
   "source": [
    "# 创建批量数据\n",
    "def get_batches(arr, batch_size, seq_length):\n",
    "\n",
    "    batch_size_total = batch_size * seq_length\n",
    "    n_batches = len(arr) // batch_size_total\n",
    "    arr = arr[:n_batches * batch_size_total]\n",
    "\n",
    "    arr = arr.reshape((batch_size, -1))\n",
    "    for n in range(0, arr.shape[1], seq_length):\n",
    "        x = arr[:, n:n + seq_length]\n",
    "        y = np.zeros_like(x)\n",
    "        try:\n",
    "            y[:, :-1], y[:, -1] = x[:, 1:], arr[:, n + seq_length]\n",
    "        except IndexError:\n",
    "            y[:, :-1], y[:, -1] = x[:, 1:], arr[:, 0]\n",
    "        yield x, y\n",
    "\n",
    "\n",
    "batches = get_batches(encoded, 8, 50)\n",
    "x, y = next(batches)\n",
    "print('x\\n', x[:4, :10])\n",
    "print('\\ny\\n', y[:4, :10])"
   ]
  },
  {
   "cell_type": "markdown",
   "metadata": {},
   "source": [
    "## 创建模型"
   ]
  },
  {
   "cell_type": "code",
   "execution_count": 34,
   "metadata": {
    "ExecuteTime": {
     "end_time": "2020-04-17T13:07:14.972822Z",
     "start_time": "2020-04-17T13:07:14.967024Z"
    }
   },
   "outputs": [
    {
     "name": "stdout",
     "output_type": "stream",
     "text": [
      "Training on GPU!\n"
     ]
    }
   ],
   "source": [
    "# gpu 可用\n",
    "train_on_gpu = torch.cuda.is_available()\n",
    "if (train_on_gpu):\n",
    "    print('Training on GPU!')\n",
    "else:\n",
    "    print(\n",
    "        'No GPU available, training on CPU; consider making n_epochs very small.'\n",
    "    )"
   ]
  },
  {
   "cell_type": "code",
   "execution_count": 38,
   "metadata": {
    "ExecuteTime": {
     "end_time": "2020-04-17T13:32:57.432232Z",
     "start_time": "2020-04-17T13:32:57.422982Z"
    }
   },
   "outputs": [],
   "source": [
    "# 创建模型\n",
    "class CharRNN(nn.Module):\n",
    "    def __init__(self,\n",
    "                 tokens,\n",
    "                 n_hidden=256,\n",
    "                 n_layers=2,\n",
    "                 drop_prob=0.5,\n",
    "                 lr=0.001):\n",
    "        super(CharRNN, self).__init__()\n",
    "        self.drop_prob = drop_prob\n",
    "        self.n_layers = n_layers\n",
    "        self.n_hidden = n_hidden\n",
    "        self.lr = lr\n",
    "\n",
    "        self.chars = tokens\n",
    "        self.int2char = dict(enumerate(self.chars))\n",
    "        self.char2int = {ch: ii for ii, ch in self.int2char.items()}\n",
    "\n",
    "        self.lstm = nn.LSTM(len(self.chars),\n",
    "                            n_hidden,\n",
    "                            n_layers,\n",
    "                            dropout=drop_prob,\n",
    "                            batch_first=True)\n",
    "\n",
    "        self.dropout = nn.Dropout(drop_prob)\n",
    "        self.fc = nn.Linear(n_hidden, len(self.chars))\n",
    "\n",
    "    def forward(self, x, hidden):\n",
    "        r_output, hidden = self.lstm(x, hidden)\n",
    "        out = self.dropout(r_output)\n",
    "        out = out.contiguous().view(-1, self.n_hidden)\n",
    "        out = self.fc(out)\n",
    "        return out, hidden\n",
    "\n",
    "    def init_hidden(self, batch_size):\n",
    "        weight = next(self.parameters()).data\n",
    "\n",
    "        if train_on_gpu:\n",
    "            hidden = (weight.new(self.n_layers, batch_size,\n",
    "                                 self.n_hidden).zero_().cuda(),\n",
    "                      weight.new(self.n_layers, batch_size,\n",
    "                                 self.n_hidden).zero_().cuda())\n",
    "        else:\n",
    "            hidden = (weight.new(self.n_layers, batch_size,\n",
    "                                 self.n_hidden).zero_(),\n",
    "                      weight.new(self.n_layers, batch_size,\n",
    "                                 self.n_hidden).zero_())\n",
    "        return hidden"
   ]
  },
  {
   "cell_type": "markdown",
   "metadata": {},
   "source": [
    "## 训练模型"
   ]
  },
  {
   "cell_type": "code",
   "execution_count": 39,
   "metadata": {
    "ExecuteTime": {
     "end_time": "2020-04-17T13:33:03.695018Z",
     "start_time": "2020-04-17T13:33:03.683918Z"
    }
   },
   "outputs": [],
   "source": [
    "def train(net,\n",
    "          data,\n",
    "          epochs=10,\n",
    "          batch_size=10,\n",
    "          seq_length=10,\n",
    "          lr=0.001,\n",
    "          clip=5,\n",
    "          val_frac=0.1,\n",
    "          print_every=10):\n",
    "    net.train()\n",
    "\n",
    "    opt = torch.optim.Adam(net.parameters(), lr=lr)\n",
    "    criterion = nn.CrossEntropyLoss()\n",
    "\n",
    "    val_idx = int(len(data) * (1 - val_frac))\n",
    "    data, val_data = data[:val_idx], data[val_idx:]\n",
    "\n",
    "    if train_on_gpu:\n",
    "        net.cuda()\n",
    "\n",
    "    counter = 0\n",
    "    n_chars = len(net.chars)\n",
    "\n",
    "    for e in range(epochs):\n",
    "        h = net.init_hidden(batch_size)\n",
    "\n",
    "        for x, y in get_batches(data, batch_size, seq_length):\n",
    "            counter += 1\n",
    "\n",
    "            x = one_hot_encode(x, n_chars)\n",
    "            inputs, targets = torch.from_numpy(x), torch.from_numpy(y)\n",
    "\n",
    "            if train_on_gpu:\n",
    "                inputs, targets = inputs.cuda(), targets.cuda()\n",
    "\n",
    "            h = tuple([each.data for each in h])\n",
    "\n",
    "            net.zero_grad()\n",
    "\n",
    "            output, h = net(inputs, h)\n",
    "\n",
    "            loss = criterion(output,\n",
    "                             targets.view(batch_size * seq_length).long())\n",
    "            loss.backward()\n",
    "            nn.utils.clip_grad_norm_(net.parameters(), clip)\n",
    "            opt.step()\n",
    "\n",
    "            if counter % print_every == 0:\n",
    "                val_h = net.init_hidden(batch_size)\n",
    "                val_losses = []\n",
    "                net.eval()\n",
    "                for x, y in get_batches(val_data, batch_size, seq_length):\n",
    "                    x = one_hot_encode(x, n_chars)\n",
    "                    x, y = torch.from_numpy(x), torch.from_numpy(y)\n",
    "\n",
    "                    val_h = tuple([each.data for each in val_h])\n",
    "\n",
    "                    inputs, targets = x, y\n",
    "                    if (train_on_gpu):\n",
    "                        inputs, targets = inputs.cuda(), targets.cuda()\n",
    "\n",
    "                    output, val_h = net(inputs, val_h)\n",
    "                    val_loss = criterion(\n",
    "                        output,\n",
    "                        targets.view(batch_size * seq_length).long())\n",
    "\n",
    "                    val_losses.append(val_loss.item())\n",
    "\n",
    "                net.train()\n",
    "\n",
    "                print(\"Epoch: {}/{}...\".format(e + 1, epochs),\n",
    "                      \"Step: {}...\".format(counter),\n",
    "                      \"Loss: {:.4f}...\".format(loss.item()),\n",
    "                      \"Val Loss: {:.4f}\".format(np.mean(val_losses)))"
   ]
  },
  {
   "cell_type": "code",
   "execution_count": 40,
   "metadata": {
    "ExecuteTime": {
     "end_time": "2020-04-17T13:33:05.189087Z",
     "start_time": "2020-04-17T13:33:05.174433Z"
    }
   },
   "outputs": [
    {
     "name": "stdout",
     "output_type": "stream",
     "text": [
      "CharRNN(\n",
      "  (lstm): LSTM(83, 512, num_layers=2, batch_first=True, dropout=0.5)\n",
      "  (dropout): Dropout(p=0.5, inplace=False)\n",
      "  (fc): Linear(in_features=512, out_features=83, bias=True)\n",
      ")\n"
     ]
    }
   ],
   "source": [
    "n_hidden = 512\n",
    "n_layers = 2\n",
    "\n",
    "net = CharRNN(chars, n_hidden, n_layers)\n",
    "print(net)"
   ]
  },
  {
   "cell_type": "code",
   "execution_count": 41,
   "metadata": {
    "ExecuteTime": {
     "end_time": "2020-04-17T13:36:52.267597Z",
     "start_time": "2020-04-17T13:34:33.695859Z"
    }
   },
   "outputs": [
    {
     "name": "stdout",
     "output_type": "stream",
     "text": [
      "Epoch: 1/20... Step: 10... Loss: 3.2684... Val Loss: 3.2099\n",
      "Epoch: 1/20... Step: 20... Loss: 3.1553... Val Loss: 3.1399\n",
      "Epoch: 1/20... Step: 30... Loss: 3.1438... Val Loss: 3.1250\n",
      "Epoch: 1/20... Step: 40... Loss: 3.1109... Val Loss: 3.1204\n",
      "Epoch: 1/20... Step: 50... Loss: 3.1416... Val Loss: 3.1175\n",
      "Epoch: 1/20... Step: 60... Loss: 3.1164... Val Loss: 3.1145\n",
      "Epoch: 1/20... Step: 70... Loss: 3.1047... Val Loss: 3.1109\n",
      "Epoch: 1/20... Step: 80... Loss: 3.1169... Val Loss: 3.1029\n",
      "Epoch: 1/20... Step: 90... Loss: 3.1012... Val Loss: 3.0809\n",
      "Epoch: 1/20... Step: 100... Loss: 3.0419... Val Loss: 3.0239\n",
      "Epoch: 1/20... Step: 110... Loss: 2.9835... Val Loss: 2.9680\n",
      "Epoch: 1/20... Step: 120... Loss: 2.8329... Val Loss: 2.8223\n",
      "Epoch: 1/20... Step: 130... Loss: 2.8383... Val Loss: 2.8556\n",
      "Epoch: 2/20... Step: 140... Loss: 2.7164... Val Loss: 2.6663\n",
      "Epoch: 2/20... Step: 150... Loss: 2.6229... Val Loss: 2.5753\n",
      "Epoch: 2/20... Step: 160... Loss: 2.5504... Val Loss: 2.5114\n",
      "Epoch: 2/20... Step: 170... Loss: 2.4817... Val Loss: 2.4664\n",
      "Epoch: 2/20... Step: 180... Loss: 2.4539... Val Loss: 2.4292\n",
      "Epoch: 2/20... Step: 190... Loss: 2.4003... Val Loss: 2.3941\n",
      "Epoch: 2/20... Step: 200... Loss: 2.4008... Val Loss: 2.3660\n",
      "Epoch: 2/20... Step: 210... Loss: 2.3633... Val Loss: 2.3358\n",
      "Epoch: 2/20... Step: 220... Loss: 2.3302... Val Loss: 2.3069\n",
      "Epoch: 2/20... Step: 230... Loss: 2.3156... Val Loss: 2.2811\n",
      "Epoch: 2/20... Step: 240... Loss: 2.2904... Val Loss: 2.2567\n",
      "Epoch: 2/20... Step: 250... Loss: 2.2315... Val Loss: 2.2277\n",
      "Epoch: 2/20... Step: 260... Loss: 2.1987... Val Loss: 2.1988\n",
      "Epoch: 2/20... Step: 270... Loss: 2.2062... Val Loss: 2.1753\n",
      "Epoch: 3/20... Step: 280... Loss: 2.2010... Val Loss: 2.1486\n",
      "Epoch: 3/20... Step: 290... Loss: 2.1719... Val Loss: 2.1246\n",
      "Epoch: 3/20... Step: 300... Loss: 2.1350... Val Loss: 2.1097\n",
      "Epoch: 3/20... Step: 310... Loss: 2.1090... Val Loss: 2.0875\n",
      "Epoch: 3/20... Step: 320... Loss: 2.0769... Val Loss: 2.0644\n",
      "Epoch: 3/20... Step: 330... Loss: 2.0504... Val Loss: 2.0463\n",
      "Epoch: 3/20... Step: 340... Loss: 2.0679... Val Loss: 2.0248\n",
      "Epoch: 3/20... Step: 350... Loss: 2.0545... Val Loss: 2.0122\n",
      "Epoch: 3/20... Step: 360... Loss: 1.9831... Val Loss: 1.9931\n",
      "Epoch: 3/20... Step: 370... Loss: 2.0144... Val Loss: 1.9765\n",
      "Epoch: 3/20... Step: 380... Loss: 1.9839... Val Loss: 1.9569\n",
      "Epoch: 3/20... Step: 390... Loss: 1.9620... Val Loss: 1.9429\n",
      "Epoch: 3/20... Step: 400... Loss: 1.9336... Val Loss: 1.9274\n",
      "Epoch: 3/20... Step: 410... Loss: 1.9439... Val Loss: 1.9143\n",
      "Epoch: 4/20... Step: 420... Loss: 1.9417... Val Loss: 1.8957\n",
      "Epoch: 4/20... Step: 430... Loss: 1.9184... Val Loss: 1.8853\n",
      "Epoch: 4/20... Step: 440... Loss: 1.9016... Val Loss: 1.8775\n",
      "Epoch: 4/20... Step: 450... Loss: 1.8396... Val Loss: 1.8572\n",
      "Epoch: 4/20... Step: 460... Loss: 1.8320... Val Loss: 1.8479\n",
      "Epoch: 4/20... Step: 470... Loss: 1.8746... Val Loss: 1.8396\n",
      "Epoch: 4/20... Step: 480... Loss: 1.8527... Val Loss: 1.8245\n",
      "Epoch: 4/20... Step: 490... Loss: 1.8512... Val Loss: 1.8171\n",
      "Epoch: 4/20... Step: 500... Loss: 1.8388... Val Loss: 1.8028\n",
      "Epoch: 4/20... Step: 510... Loss: 1.8212... Val Loss: 1.7942\n",
      "Epoch: 4/20... Step: 520... Loss: 1.8299... Val Loss: 1.7832\n",
      "Epoch: 4/20... Step: 530... Loss: 1.7957... Val Loss: 1.7752\n",
      "Epoch: 4/20... Step: 540... Loss: 1.7593... Val Loss: 1.7640\n",
      "Epoch: 4/20... Step: 550... Loss: 1.8066... Val Loss: 1.7529\n",
      "Epoch: 5/20... Step: 560... Loss: 1.7772... Val Loss: 1.7441\n",
      "Epoch: 5/20... Step: 570... Loss: 1.7592... Val Loss: 1.7396\n",
      "Epoch: 5/20... Step: 580... Loss: 1.7381... Val Loss: 1.7289\n",
      "Epoch: 5/20... Step: 590... Loss: 1.7341... Val Loss: 1.7203\n",
      "Epoch: 5/20... Step: 600... Loss: 1.7233... Val Loss: 1.7146\n",
      "Epoch: 5/20... Step: 610... Loss: 1.7124... Val Loss: 1.7046\n",
      "Epoch: 5/20... Step: 620... Loss: 1.7138... Val Loss: 1.7029\n",
      "Epoch: 5/20... Step: 630... Loss: 1.7224... Val Loss: 1.6903\n",
      "Epoch: 5/20... Step: 640... Loss: 1.6983... Val Loss: 1.6863\n",
      "Epoch: 5/20... Step: 650... Loss: 1.6905... Val Loss: 1.6752\n",
      "Epoch: 5/20... Step: 660... Loss: 1.6594... Val Loss: 1.6704\n",
      "Epoch: 5/20... Step: 670... Loss: 1.6819... Val Loss: 1.6640\n",
      "Epoch: 5/20... Step: 680... Loss: 1.6872... Val Loss: 1.6568\n",
      "Epoch: 5/20... Step: 690... Loss: 1.6595... Val Loss: 1.6552\n",
      "Epoch: 6/20... Step: 700... Loss: 1.6551... Val Loss: 1.6462\n",
      "Epoch: 6/20... Step: 710... Loss: 1.6496... Val Loss: 1.6408\n",
      "Epoch: 6/20... Step: 720... Loss: 1.6318... Val Loss: 1.6312\n",
      "Epoch: 6/20... Step: 730... Loss: 1.6589... Val Loss: 1.6292\n",
      "Epoch: 6/20... Step: 740... Loss: 1.6186... Val Loss: 1.6267\n",
      "Epoch: 6/20... Step: 750... Loss: 1.6037... Val Loss: 1.6149\n",
      "Epoch: 6/20... Step: 760... Loss: 1.6439... Val Loss: 1.6133\n",
      "Epoch: 6/20... Step: 770... Loss: 1.6214... Val Loss: 1.6056\n",
      "Epoch: 6/20... Step: 780... Loss: 1.6137... Val Loss: 1.6016\n",
      "Epoch: 6/20... Step: 790... Loss: 1.5932... Val Loss: 1.5931\n",
      "Epoch: 6/20... Step: 800... Loss: 1.6040... Val Loss: 1.5969\n",
      "Epoch: 6/20... Step: 810... Loss: 1.5964... Val Loss: 1.5870\n",
      "Epoch: 6/20... Step: 820... Loss: 1.5575... Val Loss: 1.5828\n",
      "Epoch: 6/20... Step: 830... Loss: 1.6043... Val Loss: 1.5756\n",
      "Epoch: 7/20... Step: 840... Loss: 1.5554... Val Loss: 1.5712\n",
      "Epoch: 7/20... Step: 850... Loss: 1.5727... Val Loss: 1.5696\n",
      "Epoch: 7/20... Step: 860... Loss: 1.5676... Val Loss: 1.5616\n",
      "Epoch: 7/20... Step: 870... Loss: 1.5734... Val Loss: 1.5599\n",
      "Epoch: 7/20... Step: 880... Loss: 1.5708... Val Loss: 1.5537\n",
      "Epoch: 7/20... Step: 890... Loss: 1.5672... Val Loss: 1.5536\n",
      "Epoch: 7/20... Step: 900... Loss: 1.5418... Val Loss: 1.5477\n",
      "Epoch: 7/20... Step: 910... Loss: 1.5274... Val Loss: 1.5427\n",
      "Epoch: 7/20... Step: 920... Loss: 1.5348... Val Loss: 1.5420\n",
      "Epoch: 7/20... Step: 930... Loss: 1.5371... Val Loss: 1.5350\n",
      "Epoch: 7/20... Step: 940... Loss: 1.5318... Val Loss: 1.5341\n",
      "Epoch: 7/20... Step: 950... Loss: 1.5469... Val Loss: 1.5285\n",
      "Epoch: 7/20... Step: 960... Loss: 1.5396... Val Loss: 1.5269\n",
      "Epoch: 7/20... Step: 970... Loss: 1.5491... Val Loss: 1.5230\n",
      "Epoch: 8/20... Step: 980... Loss: 1.5196... Val Loss: 1.5151\n",
      "Epoch: 8/20... Step: 990... Loss: 1.5156... Val Loss: 1.5145\n",
      "Epoch: 8/20... Step: 1000... Loss: 1.5137... Val Loss: 1.5077\n",
      "Epoch: 8/20... Step: 1010... Loss: 1.5480... Val Loss: 1.5094\n",
      "Epoch: 8/20... Step: 1020... Loss: 1.5163... Val Loss: 1.5056\n",
      "Epoch: 8/20... Step: 1030... Loss: 1.4934... Val Loss: 1.5022\n",
      "Epoch: 8/20... Step: 1040... Loss: 1.5129... Val Loss: 1.5031\n",
      "Epoch: 8/20... Step: 1050... Loss: 1.4812... Val Loss: 1.4964\n",
      "Epoch: 8/20... Step: 1060... Loss: 1.4982... Val Loss: 1.4925\n",
      "Epoch: 8/20... Step: 1070... Loss: 1.4994... Val Loss: 1.4875\n",
      "Epoch: 8/20... Step: 1080... Loss: 1.4974... Val Loss: 1.4881\n",
      "Epoch: 8/20... Step: 1090... Loss: 1.4706... Val Loss: 1.4843\n",
      "Epoch: 8/20... Step: 1100... Loss: 1.4743... Val Loss: 1.4796\n",
      "Epoch: 8/20... Step: 1110... Loss: 1.4622... Val Loss: 1.4781\n",
      "Epoch: 9/20... Step: 1120... Loss: 1.4796... Val Loss: 1.4796\n",
      "Epoch: 9/20... Step: 1130... Loss: 1.4893... Val Loss: 1.4764\n",
      "Epoch: 9/20... Step: 1140... Loss: 1.4759... Val Loss: 1.4679\n",
      "Epoch: 9/20... Step: 1150... Loss: 1.4925... Val Loss: 1.4718\n",
      "Epoch: 9/20... Step: 1160... Loss: 1.4514... Val Loss: 1.4657\n",
      "Epoch: 9/20... Step: 1170... Loss: 1.4605... Val Loss: 1.4629\n",
      "Epoch: 9/20... Step: 1180... Loss: 1.4495... Val Loss: 1.4687\n",
      "Epoch: 9/20... Step: 1190... Loss: 1.4862... Val Loss: 1.4622\n",
      "Epoch: 9/20... Step: 1200... Loss: 1.4313... Val Loss: 1.4548\n",
      "Epoch: 9/20... Step: 1210... Loss: 1.4401... Val Loss: 1.4512\n",
      "Epoch: 9/20... Step: 1220... Loss: 1.4504... Val Loss: 1.4553\n",
      "Epoch: 9/20... Step: 1230... Loss: 1.4249... Val Loss: 1.4508\n",
      "Epoch: 9/20... Step: 1240... Loss: 1.4332... Val Loss: 1.4452\n",
      "Epoch: 9/20... Step: 1250... Loss: 1.4445... Val Loss: 1.4436\n",
      "Epoch: 10/20... Step: 1260... Loss: 1.4480... Val Loss: 1.4434\n",
      "Epoch: 10/20... Step: 1270... Loss: 1.4383... Val Loss: 1.4392\n",
      "Epoch: 10/20... Step: 1280... Loss: 1.4405... Val Loss: 1.4332\n",
      "Epoch: 10/20... Step: 1290... Loss: 1.4421... Val Loss: 1.4338\n",
      "Epoch: 10/20... Step: 1300... Loss: 1.4320... Val Loss: 1.4349\n",
      "Epoch: 10/20... Step: 1310... Loss: 1.4420... Val Loss: 1.4338\n",
      "Epoch: 10/20... Step: 1320... Loss: 1.4085... Val Loss: 1.4336\n",
      "Epoch: 10/20... Step: 1330... Loss: 1.4142... Val Loss: 1.4289\n",
      "Epoch: 10/20... Step: 1340... Loss: 1.3981... Val Loss: 1.4257\n"
     ]
    },
    {
     "name": "stdout",
     "output_type": "stream",
     "text": [
      "Epoch: 10/20... Step: 1350... Loss: 1.3931... Val Loss: 1.4213\n",
      "Epoch: 10/20... Step: 1360... Loss: 1.3841... Val Loss: 1.4259\n",
      "Epoch: 10/20... Step: 1370... Loss: 1.3755... Val Loss: 1.4218\n",
      "Epoch: 10/20... Step: 1380... Loss: 1.4250... Val Loss: 1.4148\n",
      "Epoch: 10/20... Step: 1390... Loss: 1.4314... Val Loss: 1.4170\n",
      "Epoch: 11/20... Step: 1400... Loss: 1.4284... Val Loss: 1.4185\n",
      "Epoch: 11/20... Step: 1410... Loss: 1.4427... Val Loss: 1.4147\n",
      "Epoch: 11/20... Step: 1420... Loss: 1.4309... Val Loss: 1.4073\n",
      "Epoch: 11/20... Step: 1430... Loss: 1.3992... Val Loss: 1.4105\n",
      "Epoch: 11/20... Step: 1440... Loss: 1.4362... Val Loss: 1.4060\n",
      "Epoch: 11/20... Step: 1450... Loss: 1.3561... Val Loss: 1.4054\n",
      "Epoch: 11/20... Step: 1460... Loss: 1.3756... Val Loss: 1.4073\n",
      "Epoch: 11/20... Step: 1470... Loss: 1.3766... Val Loss: 1.4047\n",
      "Epoch: 11/20... Step: 1480... Loss: 1.3972... Val Loss: 1.3992\n",
      "Epoch: 11/20... Step: 1490... Loss: 1.3747... Val Loss: 1.3967\n",
      "Epoch: 11/20... Step: 1500... Loss: 1.3645... Val Loss: 1.3986\n",
      "Epoch: 11/20... Step: 1510... Loss: 1.3538... Val Loss: 1.3992\n",
      "Epoch: 11/20... Step: 1520... Loss: 1.3887... Val Loss: 1.3923\n",
      "Epoch: 12/20... Step: 1530... Loss: 1.4452... Val Loss: 1.3915\n",
      "Epoch: 12/20... Step: 1540... Loss: 1.3953... Val Loss: 1.3887\n",
      "Epoch: 12/20... Step: 1550... Loss: 1.3962... Val Loss: 1.3859\n",
      "Epoch: 12/20... Step: 1560... Loss: 1.4023... Val Loss: 1.3845\n",
      "Epoch: 12/20... Step: 1570... Loss: 1.3618... Val Loss: 1.3864\n",
      "Epoch: 12/20... Step: 1580... Loss: 1.3288... Val Loss: 1.3844\n",
      "Epoch: 12/20... Step: 1590... Loss: 1.3300... Val Loss: 1.3844\n",
      "Epoch: 12/20... Step: 1600... Loss: 1.3490... Val Loss: 1.3835\n",
      "Epoch: 12/20... Step: 1610... Loss: 1.3478... Val Loss: 1.3864\n",
      "Epoch: 12/20... Step: 1620... Loss: 1.3535... Val Loss: 1.3791\n",
      "Epoch: 12/20... Step: 1630... Loss: 1.3670... Val Loss: 1.3753\n",
      "Epoch: 12/20... Step: 1640... Loss: 1.3440... Val Loss: 1.3791\n",
      "Epoch: 12/20... Step: 1650... Loss: 1.3304... Val Loss: 1.3763\n",
      "Epoch: 12/20... Step: 1660... Loss: 1.3709... Val Loss: 1.3695\n",
      "Epoch: 13/20... Step: 1670... Loss: 1.3404... Val Loss: 1.3753\n",
      "Epoch: 13/20... Step: 1680... Loss: 1.3551... Val Loss: 1.3698\n",
      "Epoch: 13/20... Step: 1690... Loss: 1.3301... Val Loss: 1.3665\n",
      "Epoch: 13/20... Step: 1700... Loss: 1.3306... Val Loss: 1.3616\n",
      "Epoch: 13/20... Step: 1710... Loss: 1.3086... Val Loss: 1.3666\n",
      "Epoch: 13/20... Step: 1720... Loss: 1.3270... Val Loss: 1.3703\n",
      "Epoch: 13/20... Step: 1730... Loss: 1.3601... Val Loss: 1.3625\n",
      "Epoch: 13/20... Step: 1740... Loss: 1.3294... Val Loss: 1.3621\n",
      "Epoch: 13/20... Step: 1750... Loss: 1.2962... Val Loss: 1.3605\n",
      "Epoch: 13/20... Step: 1760... Loss: 1.3291... Val Loss: 1.3585\n",
      "Epoch: 13/20... Step: 1770... Loss: 1.3347... Val Loss: 1.3585\n",
      "Epoch: 13/20... Step: 1780... Loss: 1.3094... Val Loss: 1.3519\n",
      "Epoch: 13/20... Step: 1790... Loss: 1.3037... Val Loss: 1.3556\n",
      "Epoch: 13/20... Step: 1800... Loss: 1.3259... Val Loss: 1.3502\n",
      "Epoch: 14/20... Step: 1810... Loss: 1.3300... Val Loss: 1.3498\n",
      "Epoch: 14/20... Step: 1820... Loss: 1.3115... Val Loss: 1.3474\n",
      "Epoch: 14/20... Step: 1830... Loss: 1.3319... Val Loss: 1.3431\n",
      "Epoch: 14/20... Step: 1840... Loss: 1.2688... Val Loss: 1.3421\n",
      "Epoch: 14/20... Step: 1850... Loss: 1.2637... Val Loss: 1.3406\n",
      "Epoch: 14/20... Step: 1860... Loss: 1.3170... Val Loss: 1.3437\n",
      "Epoch: 14/20... Step: 1870... Loss: 1.3217... Val Loss: 1.3407\n",
      "Epoch: 14/20... Step: 1880... Loss: 1.3195... Val Loss: 1.3401\n",
      "Epoch: 14/20... Step: 1890... Loss: 1.3369... Val Loss: 1.3401\n",
      "Epoch: 14/20... Step: 1900... Loss: 1.2999... Val Loss: 1.3382\n",
      "Epoch: 14/20... Step: 1910... Loss: 1.3153... Val Loss: 1.3349\n",
      "Epoch: 14/20... Step: 1920... Loss: 1.3041... Val Loss: 1.3391\n",
      "Epoch: 14/20... Step: 1930... Loss: 1.2676... Val Loss: 1.3367\n",
      "Epoch: 14/20... Step: 1940... Loss: 1.3331... Val Loss: 1.3396\n",
      "Epoch: 15/20... Step: 1950... Loss: 1.3017... Val Loss: 1.3355\n",
      "Epoch: 15/20... Step: 1960... Loss: 1.3021... Val Loss: 1.3367\n",
      "Epoch: 15/20... Step: 1970... Loss: 1.2851... Val Loss: 1.3269\n",
      "Epoch: 15/20... Step: 1980... Loss: 1.2824... Val Loss: 1.3319\n",
      "Epoch: 15/20... Step: 1990... Loss: 1.2737... Val Loss: 1.3260\n",
      "Epoch: 15/20... Step: 2000... Loss: 1.2606... Val Loss: 1.3242\n",
      "Epoch: 15/20... Step: 2010... Loss: 1.2767... Val Loss: 1.3311\n",
      "Epoch: 15/20... Step: 2020... Loss: 1.3080... Val Loss: 1.3249\n",
      "Epoch: 15/20... Step: 2030... Loss: 1.2721... Val Loss: 1.3248\n",
      "Epoch: 15/20... Step: 2040... Loss: 1.2891... Val Loss: 1.3206\n",
      "Epoch: 15/20... Step: 2050... Loss: 1.2806... Val Loss: 1.3202\n",
      "Epoch: 15/20... Step: 2060... Loss: 1.2827... Val Loss: 1.3219\n",
      "Epoch: 15/20... Step: 2070... Loss: 1.2918... Val Loss: 1.3219\n",
      "Epoch: 15/20... Step: 2080... Loss: 1.2858... Val Loss: 1.3213\n",
      "Epoch: 16/20... Step: 2090... Loss: 1.2936... Val Loss: 1.3203\n",
      "Epoch: 16/20... Step: 2100... Loss: 1.2737... Val Loss: 1.3163\n",
      "Epoch: 16/20... Step: 2110... Loss: 1.2669... Val Loss: 1.3130\n",
      "Epoch: 16/20... Step: 2120... Loss: 1.2843... Val Loss: 1.3172\n",
      "Epoch: 16/20... Step: 2130... Loss: 1.2545... Val Loss: 1.3134\n",
      "Epoch: 16/20... Step: 2140... Loss: 1.2673... Val Loss: 1.3119\n",
      "Epoch: 16/20... Step: 2150... Loss: 1.2944... Val Loss: 1.3089\n",
      "Epoch: 16/20... Step: 2160... Loss: 1.2658... Val Loss: 1.3128\n",
      "Epoch: 16/20... Step: 2170... Loss: 1.2693... Val Loss: 1.3130\n",
      "Epoch: 16/20... Step: 2180... Loss: 1.2581... Val Loss: 1.3123\n",
      "Epoch: 16/20... Step: 2190... Loss: 1.2856... Val Loss: 1.3108\n",
      "Epoch: 16/20... Step: 2200... Loss: 1.2443... Val Loss: 1.3063\n",
      "Epoch: 16/20... Step: 2210... Loss: 1.2143... Val Loss: 1.3135\n",
      "Epoch: 16/20... Step: 2220... Loss: 1.2763... Val Loss: 1.3081\n",
      "Epoch: 17/20... Step: 2230... Loss: 1.2509... Val Loss: 1.3117\n",
      "Epoch: 17/20... Step: 2240... Loss: 1.2526... Val Loss: 1.3090\n",
      "Epoch: 17/20... Step: 2250... Loss: 1.2455... Val Loss: 1.3028\n",
      "Epoch: 17/20... Step: 2260... Loss: 1.2519... Val Loss: 1.3079\n",
      "Epoch: 17/20... Step: 2270... Loss: 1.2622... Val Loss: 1.3007\n",
      "Epoch: 17/20... Step: 2280... Loss: 1.2646... Val Loss: 1.2985\n",
      "Epoch: 17/20... Step: 2290... Loss: 1.2591... Val Loss: 1.3006\n",
      "Epoch: 17/20... Step: 2300... Loss: 1.2187... Val Loss: 1.3061\n",
      "Epoch: 17/20... Step: 2310... Loss: 1.2488... Val Loss: 1.3003\n",
      "Epoch: 17/20... Step: 2320... Loss: 1.2377... Val Loss: 1.3023\n",
      "Epoch: 17/20... Step: 2330... Loss: 1.2464... Val Loss: 1.3072\n",
      "Epoch: 17/20... Step: 2340... Loss: 1.2496... Val Loss: 1.2971\n",
      "Epoch: 17/20... Step: 2350... Loss: 1.2634... Val Loss: 1.2999\n",
      "Epoch: 17/20... Step: 2360... Loss: 1.2586... Val Loss: 1.2965\n",
      "Epoch: 18/20... Step: 2370... Loss: 1.2422... Val Loss: 1.2945\n",
      "Epoch: 18/20... Step: 2380... Loss: 1.2481... Val Loss: 1.2942\n",
      "Epoch: 18/20... Step: 2390... Loss: 1.2385... Val Loss: 1.3051\n",
      "Epoch: 18/20... Step: 2400... Loss: 1.2693... Val Loss: 1.2974\n",
      "Epoch: 18/20... Step: 2410... Loss: 1.2627... Val Loss: 1.2962\n",
      "Epoch: 18/20... Step: 2420... Loss: 1.2337... Val Loss: 1.2883\n",
      "Epoch: 18/20... Step: 2430... Loss: 1.2447... Val Loss: 1.2922\n",
      "Epoch: 18/20... Step: 2440... Loss: 1.2341... Val Loss: 1.2936\n",
      "Epoch: 18/20... Step: 2450... Loss: 1.2323... Val Loss: 1.2899\n",
      "Epoch: 18/20... Step: 2460... Loss: 1.2457... Val Loss: 1.2914\n",
      "Epoch: 18/20... Step: 2470... Loss: 1.2332... Val Loss: 1.2993\n",
      "Epoch: 18/20... Step: 2480... Loss: 1.2231... Val Loss: 1.2909\n",
      "Epoch: 18/20... Step: 2490... Loss: 1.2181... Val Loss: 1.2913\n",
      "Epoch: 18/20... Step: 2500... Loss: 1.2346... Val Loss: 1.2918\n",
      "Epoch: 19/20... Step: 2510... Loss: 1.2335... Val Loss: 1.2922\n",
      "Epoch: 19/20... Step: 2520... Loss: 1.2471... Val Loss: 1.2908\n",
      "Epoch: 19/20... Step: 2530... Loss: 1.2490... Val Loss: 1.2854\n",
      "Epoch: 19/20... Step: 2540... Loss: 1.2635... Val Loss: 1.2854\n",
      "Epoch: 19/20... Step: 2550... Loss: 1.2124... Val Loss: 1.2876\n",
      "Epoch: 19/20... Step: 2560... Loss: 1.2234... Val Loss: 1.2851\n",
      "Epoch: 19/20... Step: 2570... Loss: 1.2193... Val Loss: 1.2875\n",
      "Epoch: 19/20... Step: 2580... Loss: 1.2569... Val Loss: 1.2992\n",
      "Epoch: 19/20... Step: 2590... Loss: 1.2133... Val Loss: 1.2876\n",
      "Epoch: 19/20... Step: 2600... Loss: 1.2198... Val Loss: 1.2921\n",
      "Epoch: 19/20... Step: 2610... Loss: 1.2273... Val Loss: 1.2813\n",
      "Epoch: 19/20... Step: 2620... Loss: 1.2029... Val Loss: 1.2822\n",
      "Epoch: 19/20... Step: 2630... Loss: 1.2044... Val Loss: 1.2786\n",
      "Epoch: 19/20... Step: 2640... Loss: 1.2234... Val Loss: 1.2819\n",
      "Epoch: 20/20... Step: 2650... Loss: 1.2344... Val Loss: 1.2802\n"
     ]
    },
    {
     "name": "stdout",
     "output_type": "stream",
     "text": [
      "Epoch: 20/20... Step: 2660... Loss: 1.2336... Val Loss: 1.2819\n",
      "Epoch: 20/20... Step: 2670... Loss: 1.2329... Val Loss: 1.2765\n",
      "Epoch: 20/20... Step: 2680... Loss: 1.2183... Val Loss: 1.2775\n",
      "Epoch: 20/20... Step: 2690... Loss: 1.2269... Val Loss: 1.2758\n",
      "Epoch: 20/20... Step: 2700... Loss: 1.2301... Val Loss: 1.2785\n",
      "Epoch: 20/20... Step: 2710... Loss: 1.1988... Val Loss: 1.2817\n",
      "Epoch: 20/20... Step: 2720... Loss: 1.2052... Val Loss: 1.2792\n",
      "Epoch: 20/20... Step: 2730... Loss: 1.1917... Val Loss: 1.2770\n",
      "Epoch: 20/20... Step: 2740... Loss: 1.1990... Val Loss: 1.2773\n",
      "Epoch: 20/20... Step: 2750... Loss: 1.1967... Val Loss: 1.2780\n",
      "Epoch: 20/20... Step: 2760... Loss: 1.1961... Val Loss: 1.2748\n",
      "Epoch: 20/20... Step: 2770... Loss: 1.2353... Val Loss: 1.2739\n",
      "Epoch: 20/20... Step: 2780... Loss: 1.2497... Val Loss: 1.2741\n"
     ]
    }
   ],
   "source": [
    "batch_size = 128\n",
    "seq_length = 100\n",
    "n_epochs = 20\n",
    "\n",
    "train(net,\n",
    "      encoded,\n",
    "      epochs=n_epochs,\n",
    "      batch_size=batch_size,\n",
    "      seq_length=seq_length,\n",
    "      lr=0.001,\n",
    "      print_every=10)"
   ]
  },
  {
   "cell_type": "code",
   "execution_count": null,
   "metadata": {},
   "outputs": [],
   "source": []
  },
  {
   "cell_type": "markdown",
   "metadata": {},
   "source": [
    "## 获取最优模型"
   ]
  },
  {
   "cell_type": "markdown",
   "metadata": {},
   "source": [
    "- 过拟合与欠拟合\n",
    "    - 实时监控训练和验证损失，如果训练损失远远低于验证损失，则模型过拟合；添加正则化、`dropout`，或使用更小的模型；\n",
    "    - 如果训练和验证损失相近，则过拟合，可以增加模型的尺寸\n",
    "       \n",
    "    \n",
    "- 超参数    \n",
    "    - 模型定义时：隐藏层神经元数量`n_hidden`，`LSTM`的层数`n_layers`\n",
    "        - `n_layers`建议设置值2或3，模型的总参数量与训练数据量处于同样的量级；如100MB的数据，当模型150K参数，模型会严重欠拟合，而10MB数量模型10M参数，模型会欠拟合，增大`dropout`参数\n",
    "        - **总是训练较大的模型，然后尝试不同的`dropout`**\n",
    "    - 模型训练时：`batch_size`,`seq_length`,`lr`,及数据拆分为训练集及验证集的拆分比列\n",
    "        - 尝试不同的超参数组合，选择性能最佳模型"
   ]
  },
  {
   "cell_type": "code",
   "execution_count": null,
   "metadata": {},
   "outputs": [],
   "source": []
  },
  {
   "cell_type": "markdown",
   "metadata": {},
   "source": [
    "## 保存模型"
   ]
  },
  {
   "cell_type": "code",
   "execution_count": null,
   "metadata": {},
   "outputs": [],
   "source": [
    "model_name = 'rnn_20_epoch.net'\n",
    "\n",
    "checkpoint = {'n_hidden': net.n_hidden,\n",
    "              'n_layers': net.n_layers,\n",
    "              'state_dict': net.state_dict(),\n",
    "              'tokens': net.chars}\n",
    "\n",
    "with open(model_name, 'wb') as f:\n",
    "    torch.save(checkpoint, f)"
   ]
  },
  {
   "cell_type": "code",
   "execution_count": null,
   "metadata": {},
   "outputs": [],
   "source": []
  },
  {
   "cell_type": "markdown",
   "metadata": {},
   "source": [
    "## 文本生成"
   ]
  },
  {
   "cell_type": "code",
   "execution_count": 42,
   "metadata": {
    "ExecuteTime": {
     "end_time": "2020-04-17T14:16:45.296088Z",
     "start_time": "2020-04-17T14:16:45.288854Z"
    }
   },
   "outputs": [],
   "source": [
    "def predict(net, char, h=None, top_k=None):\n",
    "        # tensor inputs\n",
    "        x = np.array([[net.char2int[char]]])\n",
    "        x = one_hot_encode(x, len(net.chars))\n",
    "        inputs = torch.from_numpy(x)\n",
    "        \n",
    "        if(train_on_gpu):\n",
    "            inputs = inputs.cuda()\n",
    "        \n",
    "        # detach hidden state from history\n",
    "        h = tuple([each.data for each in h])\n",
    "        # get the output of the model\n",
    "        out, h = net(inputs, h)\n",
    "\n",
    "        # get the character probabilities\n",
    "        p = F.softmax(out, dim=1).data\n",
    "        if(train_on_gpu):\n",
    "            p = p.cpu() # move to cpu\n",
    "        \n",
    "        # topK采样\n",
    "        if top_k is None:\n",
    "            top_ch = np.arange(len(net.chars))\n",
    "        else:\n",
    "            p, top_ch = p.topk(top_k)\n",
    "            top_ch = top_ch.numpy().squeeze()\n",
    "        \n",
    "        # select the likely next character with some element of randomness\n",
    "        p = p.numpy().squeeze()\n",
    "        char = np.random.choice(top_ch, p=p/p.sum())\n",
    "        \n",
    "        # return the encoded value of the predicted char and the hidden state\n",
    "        return net.int2char[char], h"
   ]
  },
  {
   "cell_type": "code",
   "execution_count": 44,
   "metadata": {
    "ExecuteTime": {
     "end_time": "2020-04-17T14:17:53.211901Z",
     "start_time": "2020-04-17T14:17:52.876013Z"
    },
    "scrolled": true
   },
   "outputs": [
    {
     "name": "stdout",
     "output_type": "stream",
     "text": [
      "Anna\n",
      "with a smile to holding a person was, and a line white sheel, who\n",
      "did not know. His father was a long while, and her friend, and the\n",
      "secundes, time and some of or that some made a dress so as happy, and\n",
      "to see it. To her that he was not finished, he went into the same\n",
      "time, the princess had always taken up to the corridor, was in which\n",
      "the prevent position he was an expression to the table, and she could\n",
      "do to triem to herself what they seemed to the cletched of the\n",
      "coup of the sick man are a sinting state of charming head, was not to\n",
      "such her for his brother's woman that when they were since he was sitting to\n",
      "the soft might have been seening that her family and with the proviss,\n",
      "which she had been set off the same thing, who had been disagreeable\n",
      "and had sore of the propersy of always. And he set her. He spoke tran\n",
      "out of the stranger and her husband who had no supported\n",
      "that he had not heard the face of her starts, began to say, the pissons were\n",
      "far in shame, and her heart, their sho\n"
     ]
    }
   ],
   "source": [
    "# 文本生成\n",
    "def sample(net, size, prime='The', top_k=None):\n",
    "\n",
    "    if (train_on_gpu):\n",
    "        net.cuda()\n",
    "    else:\n",
    "        net.cpu()\n",
    "\n",
    "    net.eval()  # eval mode\n",
    "\n",
    "    # First off, run through the prime characters\n",
    "    chars = [ch for ch in prime]\n",
    "    h = net.init_hidden(1)\n",
    "    for ch in prime:\n",
    "        char, h = predict(net, ch, h, top_k=top_k)\n",
    "\n",
    "    chars.append(char)\n",
    "\n",
    "    # Now pass in the previous character and get a new one\n",
    "    for ii in range(size):\n",
    "        char, h = predict(net, chars[-1], h, top_k=top_k)\n",
    "        chars.append(char)\n",
    "\n",
    "    return ''.join(chars)\n",
    "\n",
    "print(sample(net, 1000, prime='Anna', top_k=5))"
   ]
  },
  {
   "cell_type": "code",
   "execution_count": null,
   "metadata": {},
   "outputs": [],
   "source": []
  },
  {
   "cell_type": "code",
   "execution_count": null,
   "metadata": {},
   "outputs": [],
   "source": []
  }
 ],
 "metadata": {
  "kernelspec": {
   "display_name": "Python 3",
   "language": "python",
   "name": "python3"
  },
  "language_info": {
   "codemirror_mode": {
    "name": "ipython",
    "version": 3
   },
   "file_extension": ".py",
   "mimetype": "text/x-python",
   "name": "python",
   "nbconvert_exporter": "python",
   "pygments_lexer": "ipython3",
   "version": "3.7.4"
  },
  "toc": {
   "base_numbering": 1,
   "nav_menu": {},
   "number_sections": true,
   "sideBar": true,
   "skip_h1_title": false,
   "title_cell": "Table of Contents",
   "title_sidebar": "Contents",
   "toc_cell": true,
   "toc_position": {
    "height": "calc(100% - 180px)",
    "left": "10px",
    "top": "150px",
    "width": "256.8px"
   },
   "toc_section_display": true,
   "toc_window_display": true
  },
  "varInspector": {
   "cols": {
    "lenName": 16,
    "lenType": 16,
    "lenVar": 40
   },
   "kernels_config": {
    "python": {
     "delete_cmd_postfix": "",
     "delete_cmd_prefix": "del ",
     "library": "var_list.py",
     "varRefreshCmd": "print(var_dic_list())"
    },
    "r": {
     "delete_cmd_postfix": ") ",
     "delete_cmd_prefix": "rm(",
     "library": "var_list.r",
     "varRefreshCmd": "cat(var_dic_list()) "
    }
   },
   "types_to_exclude": [
    "module",
    "function",
    "builtin_function_or_method",
    "instance",
    "_Feature"
   ],
   "window_display": false
  }
 },
 "nbformat": 4,
 "nbformat_minor": 4
}
