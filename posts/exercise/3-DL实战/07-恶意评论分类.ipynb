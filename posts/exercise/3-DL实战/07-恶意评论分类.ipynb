{
 "cells": [
  {
   "cell_type": "code",
   "execution_count": 1,
   "metadata": {},
   "outputs": [
    {
     "name": "stderr",
     "output_type": "stream",
     "text": [
      "Using TensorFlow backend.\n"
     ]
    }
   ],
   "source": [
    "import numpy as np, pandas as pd\n",
    "from keras.preprocessing.text import Tokenizer\n",
    "from keras.preprocessing.sequence import pad_sequences\n",
    "from keras.layers import Dense, Input, LSTM, Embedding, Dropout, Activation\n",
    "from keras.layers import Bidirectional, GlobalMaxPool1D\n",
    "from keras.models import Model"
   ]
  },
  {
   "cell_type": "code",
   "execution_count": 7,
   "metadata": {},
   "outputs": [],
   "source": [
    "import matplotlib.pyplot as plt"
   ]
  },
  {
   "cell_type": "markdown",
   "metadata": {},
   "source": [
    "## 1.语料"
   ]
  },
  {
   "cell_type": "code",
   "execution_count": 2,
   "metadata": {},
   "outputs": [],
   "source": [
    "path = r'datasets/'\n",
    "comp = r'jigsaw-toxic-comment-classification-challenge/'\n",
    "EMBEDDING_FILE = r'models/glove.6B/glove.6B.50d.txt'\n",
    "TRAIN_DATA_DIR = f'{path}{comp}train.csv'\n",
    "TEST_DATA_DIR = f'{path}{comp}test.csv'"
   ]
  },
  {
   "cell_type": "code",
   "execution_count": 3,
   "metadata": {},
   "outputs": [],
   "source": [
    "embed_size = 50\n",
    "max_features = 20000\n",
    "maxlen = 100  # 使用评论的前100个单词\n",
    "\n",
    "train = pd.read_csv(TRAIN_DATA_DIR)\n",
    "test = pd.read_csv(TEST_DATA_DIR)"
   ]
  },
  {
   "cell_type": "markdown",
   "metadata": {},
   "source": [
    "查看语料数据"
   ]
  },
  {
   "cell_type": "code",
   "execution_count": 4,
   "metadata": {},
   "outputs": [
    {
     "data": {
      "text/html": [
       "<div>\n",
       "<style scoped>\n",
       "    .dataframe tbody tr th:only-of-type {\n",
       "        vertical-align: middle;\n",
       "    }\n",
       "\n",
       "    .dataframe tbody tr th {\n",
       "        vertical-align: top;\n",
       "    }\n",
       "\n",
       "    .dataframe thead th {\n",
       "        text-align: right;\n",
       "    }\n",
       "</style>\n",
       "<table border=\"1\" class=\"dataframe\">\n",
       "  <thead>\n",
       "    <tr style=\"text-align: right;\">\n",
       "      <th></th>\n",
       "      <th>id</th>\n",
       "      <th>comment_text</th>\n",
       "      <th>toxic</th>\n",
       "      <th>severe_toxic</th>\n",
       "      <th>obscene</th>\n",
       "      <th>threat</th>\n",
       "      <th>insult</th>\n",
       "      <th>identity_hate</th>\n",
       "    </tr>\n",
       "  </thead>\n",
       "  <tbody>\n",
       "    <tr>\n",
       "      <th>0</th>\n",
       "      <td>0000997932d777bf</td>\n",
       "      <td>Explanation\\nWhy the edits made under my usern...</td>\n",
       "      <td>0</td>\n",
       "      <td>0</td>\n",
       "      <td>0</td>\n",
       "      <td>0</td>\n",
       "      <td>0</td>\n",
       "      <td>0</td>\n",
       "    </tr>\n",
       "    <tr>\n",
       "      <th>1</th>\n",
       "      <td>000103f0d9cfb60f</td>\n",
       "      <td>D'aww! He matches this background colour I'm s...</td>\n",
       "      <td>0</td>\n",
       "      <td>0</td>\n",
       "      <td>0</td>\n",
       "      <td>0</td>\n",
       "      <td>0</td>\n",
       "      <td>0</td>\n",
       "    </tr>\n",
       "    <tr>\n",
       "      <th>2</th>\n",
       "      <td>000113f07ec002fd</td>\n",
       "      <td>Hey man, I'm really not trying to edit war. It...</td>\n",
       "      <td>0</td>\n",
       "      <td>0</td>\n",
       "      <td>0</td>\n",
       "      <td>0</td>\n",
       "      <td>0</td>\n",
       "      <td>0</td>\n",
       "    </tr>\n",
       "    <tr>\n",
       "      <th>3</th>\n",
       "      <td>0001b41b1c6bb37e</td>\n",
       "      <td>\"\\nMore\\nI can't make any real suggestions on ...</td>\n",
       "      <td>0</td>\n",
       "      <td>0</td>\n",
       "      <td>0</td>\n",
       "      <td>0</td>\n",
       "      <td>0</td>\n",
       "      <td>0</td>\n",
       "    </tr>\n",
       "    <tr>\n",
       "      <th>4</th>\n",
       "      <td>0001d958c54c6e35</td>\n",
       "      <td>You, sir, are my hero. Any chance you remember...</td>\n",
       "      <td>0</td>\n",
       "      <td>0</td>\n",
       "      <td>0</td>\n",
       "      <td>0</td>\n",
       "      <td>0</td>\n",
       "      <td>0</td>\n",
       "    </tr>\n",
       "  </tbody>\n",
       "</table>\n",
       "</div>"
      ],
      "text/plain": [
       "                 id                                       comment_text  toxic  \\\n",
       "0  0000997932d777bf  Explanation\\nWhy the edits made under my usern...      0   \n",
       "1  000103f0d9cfb60f  D'aww! He matches this background colour I'm s...      0   \n",
       "2  000113f07ec002fd  Hey man, I'm really not trying to edit war. It...      0   \n",
       "3  0001b41b1c6bb37e  \"\\nMore\\nI can't make any real suggestions on ...      0   \n",
       "4  0001d958c54c6e35  You, sir, are my hero. Any chance you remember...      0   \n",
       "\n",
       "   severe_toxic  obscene  threat  insult  identity_hate  \n",
       "0             0        0       0       0              0  \n",
       "1             0        0       0       0              0  \n",
       "2             0        0       0       0              0  \n",
       "3             0        0       0       0              0  \n",
       "4             0        0       0       0              0  "
      ]
     },
     "execution_count": 4,
     "metadata": {},
     "output_type": "execute_result"
    }
   ],
   "source": [
    "train.head()"
   ]
  },
  {
   "cell_type": "code",
   "execution_count": 5,
   "metadata": {},
   "outputs": [
    {
     "name": "stdout",
     "output_type": "stream",
     "text": [
      "<class 'pandas.core.frame.DataFrame'>\n",
      "RangeIndex: 159571 entries, 0 to 159570\n",
      "Data columns (total 8 columns):\n",
      "id               159571 non-null object\n",
      "comment_text     159571 non-null object\n",
      "toxic            159571 non-null int64\n",
      "severe_toxic     159571 non-null int64\n",
      "obscene          159571 non-null int64\n",
      "threat           159571 non-null int64\n",
      "insult           159571 non-null int64\n",
      "identity_hate    159571 non-null int64\n",
      "dtypes: int64(6), object(2)\n",
      "memory usage: 9.7+ MB\n"
     ]
    }
   ],
   "source": [
    "train.info()"
   ]
  },
  {
   "cell_type": "markdown",
   "metadata": {},
   "source": [
    "语料按类别的分布\n",
    "- 评论中，恶意评论占比非常较少"
   ]
  },
  {
   "cell_type": "code",
   "execution_count": 11,
   "metadata": {},
   "outputs": [
    {
     "data": {
      "image/png": "[encoded data removed]",
      "text/plain": [
       "<Figure size 432x288 with 1 Axes>"
      ]
     },
     "metadata": {
      "needs_background": "light"
     },
     "output_type": "display_data"
    }
   ],
   "source": [
    "cats = train.columns[2:]\n",
    "\n",
    "w = 0.4\n",
    "x = np.arange(len(cats))\n",
    "y1 = [len(train[train[cat]==0]) for cat in cats]\n",
    "lab1 = 'No'\n",
    "\n",
    "y2 = [len(train[train[cat]==1]) for cat in cats]\n",
    "lab2 = 'Yes'\n",
    "\n",
    "p1 = plt.bar(x, y1, w)\n",
    "p2 = plt.bar(x, y2, w, bottom=y1)\n",
    "\n",
    "plt.ylabel('评论数')\n",
    "plt.title('不同类别评论数')\n",
    "plt.xticks(x, cats)\n",
    "plt.legend((p1[0], p2[0]),(lab1,lab2))\n",
    "plt.show()"
   ]
  },
  {
   "cell_type": "code",
   "execution_count": 22,
   "metadata": {},
   "outputs": [
    {
     "data": {
      "text/plain": [
       "1017      WOULDN'T BE THE FIRST TIME BITCH. FUCK YOU I'L...\n",
       "1312      SHUT UP, YOU FAT POOP, OR I WILL KICK YOUR ASS!!!\n",
       "7299      You're a stupid cunt \\n\\nFuck you dumb arse, y...\n",
       "13648     Bitch \\n\\nYou are a little bitch. I fuckin spe...\n",
       "13964     I am going to murder ZimZalaBim ST47 for being...\n",
       "22158     FUCK YOU!!!!!!!!!!!! YOU FUCKING NIGGER BAG OF...\n",
       "29968     u motherfukkin bitch i want to rape you smelly...\n",
       "32098     Fuck All Asyriac Nation \\n\\nQamishli belong to...\n",
       "33951     GO FUCK YOURSELF BITCH.  I HATE YOUR SOULD.  M...\n",
       "38513     AM GOING TO RAPE YOU IN THE ASS YOU FAT BITCH ...\n",
       "38578     fuck you honkey, why you hatin' on blacks? You...\n",
       "46155           So fuck off and die, rape fantasising sluts\n",
       "55160     ANYONE WHO SUPPORTS THIS IS FUCKING SICK. MEN ...\n",
       "59279     JEW \\n\\nGet the fuck out of here you jewish so...\n",
       "65075     FAGGOTS!  YO FUCKER IT WAS FUCKING HAYES YOU F...\n",
       "67247     YOURE A FRREAKING JEW, AND PLEAZE COMMIT SUICIDE.\n",
       "73821     Shut up you asswipe, we don't care. I'll decap...\n",
       "77139     Eat shit you fucking arse rapping jew fucking ...\n",
       "80612     I hit a jack off all day, after the rape my mo...\n",
       "82141     Help! \\n\\nIf you become an admin, I will fucki...\n",
       "99819     Glenn Beck is a faggot. He likes dick in his a...\n",
       "100222    Urgent!!!! \\n\\nMind yo own fucken buisiness st...\n",
       "106617    , I hope your retarded kids get anal raped and...\n",
       "116767    Go fuck yourself!!! you fucking delteted it an...\n",
       "118928    You god damn son of a bitch you fucking blocke...\n",
       "123794    She is a Motherfucker \\n\\nI will block you Mot...\n",
       "133551    and your little faggot boy Propol, pray, pray ...\n",
       "142513    faggot \\n\\nYou lil piece of shit I haven’t van...\n",
       "151131    LGBT \\n\\nyou little fuck , are you a fag , tha...\n",
       "157428    Ok.... \\n\\nBitch i swear to God i will fuckin ...\n",
       "159400    Shalom \\n\\nSemite, get the fuck out of here. I...\n",
       "Name: comment_text, dtype: object"
      ]
     },
     "execution_count": 22,
     "metadata": {},
     "output_type": "execute_result"
    }
   ],
   "source": [
    "from functools import reduce\n",
    "mask = reduce(lambda x, y: x & y, [(train[cat]==1) for cat in cats])\n",
    "train[mask]['comment_text']"
   ]
  },
  {
   "cell_type": "markdown",
   "metadata": {},
   "source": [
    "语料单词数分布\n",
    "- 不同评论间单词个数差别很大，最少小于5个单词，最多超过200个单词"
   ]
  },
  {
   "cell_type": "code",
   "execution_count": 32,
   "metadata": {},
   "outputs": [],
   "source": [
    "import seaborn as sn"
   ]
  },
  {
   "cell_type": "code",
   "execution_count": 26,
   "metadata": {},
   "outputs": [],
   "source": [
    "train['length']=train['comment_text'].apply(lambda x:len(x.split()))"
   ]
  },
  {
   "cell_type": "code",
   "execution_count": 30,
   "metadata": {},
   "outputs": [],
   "source": [
    "median = train['length'].median()\n",
    "mean = train['length'].mean()\n",
    "mode = train['length'].mode()[0]"
   ]
  },
  {
   "cell_type": "code",
   "execution_count": 31,
   "metadata": {},
   "outputs": [
    {
     "name": "stdout",
     "output_type": "stream",
     "text": [
      "36.0 67.27352714465661 5\n"
     ]
    }
   ],
   "source": [
    "print(median, mean, mode)"
   ]
  },
  {
   "cell_type": "code",
   "execution_count": 34,
   "metadata": {},
   "outputs": [
    {
     "data": {
      "image/png": "[encoded data removed]",
      "text/plain": [
       "<Figure size 720x576 with 1 Axes>"
      ]
     },
     "metadata": {
      "needs_background": "light"
     },
     "output_type": "display_data"
    }
   ],
   "source": [
    "fig, ax = plt.subplots(figsize=(10,8))\n",
    "sn.distplot(train['length'], bins=train['length'].max(),\n",
    "            hist_kws={\"alpha\": 0.5, \"color\": \"blue\"}, ax=ax)\n",
    "ax.set_xlim(left=0, right=np.percentile(train['length'], 95))\n",
    "ax.set_xlabel('评论单词数')\n",
    "ymax = 0.025\n",
    "plt.ylim(0, ymax)\n",
    "ax.plot([mode, mode], [0, ymax], '--', label=f'mode = {mode:.2f}', linewidth=2)\n",
    "ax.plot([mean, mean], [0, ymax], '--', label=f'mean = {mean:.2f}', linewidth=2)\n",
    "ax.plot([median, median], [0, ymax], '--',\n",
    "        label=f'median = {median:.2f}', linewidth=2)\n",
    "ax.set_title('评论的单词个数分布', fontsize=16)\n",
    "plt.legend()\n",
    "plt.show()"
   ]
  },
  {
   "cell_type": "code",
   "execution_count": 82,
   "metadata": {},
   "outputs": [
    {
     "data": {
      "text/html": [
       "<div>\n",
       "<style scoped>\n",
       "    .dataframe tbody tr th:only-of-type {\n",
       "        vertical-align: middle;\n",
       "    }\n",
       "\n",
       "    .dataframe tbody tr th {\n",
       "        vertical-align: top;\n",
       "    }\n",
       "\n",
       "    .dataframe thead th {\n",
       "        text-align: right;\n",
       "    }\n",
       "</style>\n",
       "<table border=\"1\" class=\"dataframe\">\n",
       "  <thead>\n",
       "    <tr style=\"text-align: right;\">\n",
       "      <th></th>\n",
       "      <th>id</th>\n",
       "      <th>comment_text</th>\n",
       "    </tr>\n",
       "  </thead>\n",
       "  <tbody>\n",
       "    <tr>\n",
       "      <th>0</th>\n",
       "      <td>00001cee341fdb12</td>\n",
       "      <td>Yo bitch Ja Rule is more succesful then you'll...</td>\n",
       "    </tr>\n",
       "    <tr>\n",
       "      <th>1</th>\n",
       "      <td>0000247867823ef7</td>\n",
       "      <td>== From RfC == \\n\\n The title is fine as it is...</td>\n",
       "    </tr>\n",
       "    <tr>\n",
       "      <th>2</th>\n",
       "      <td>00013b17ad220c46</td>\n",
       "      <td>\" \\n\\n == Sources == \\n\\n * Zawe Ashton on Lap...</td>\n",
       "    </tr>\n",
       "    <tr>\n",
       "      <th>3</th>\n",
       "      <td>00017563c3f7919a</td>\n",
       "      <td>:If you have a look back at the source, the in...</td>\n",
       "    </tr>\n",
       "    <tr>\n",
       "      <th>4</th>\n",
       "      <td>00017695ad8997eb</td>\n",
       "      <td>I don't anonymously edit articles at all.</td>\n",
       "    </tr>\n",
       "  </tbody>\n",
       "</table>\n",
       "</div>"
      ],
      "text/plain": [
       "                 id                                       comment_text\n",
       "0  00001cee341fdb12  Yo bitch Ja Rule is more succesful then you'll...\n",
       "1  0000247867823ef7  == From RfC == \\n\\n The title is fine as it is...\n",
       "2  00013b17ad220c46  \" \\n\\n == Sources == \\n\\n * Zawe Ashton on Lap...\n",
       "3  00017563c3f7919a  :If you have a look back at the source, the in...\n",
       "4  00017695ad8997eb          I don't anonymously edit articles at all."
      ]
     },
     "execution_count": 82,
     "metadata": {},
     "output_type": "execute_result"
    }
   ],
   "source": [
    "test.head()"
   ]
  },
  {
   "cell_type": "markdown",
   "metadata": {},
   "source": [
    "## 2.数据处理"
   ]
  },
  {
   "cell_type": "code",
   "execution_count": 139,
   "metadata": {},
   "outputs": [],
   "source": [
    "list_sentences_train = train[\"comment_text\"].fillna(\"_na_\").values\n",
    "list_sentences_test = test[\"comment_text\"].fillna(\"_na_\").values\n",
    "list_classes = ['toxic', 'severe_toxic', 'obscene', 'threat', 'insult',\n",
    "                'identity_hate']\n",
    "\n",
    "y_train = train[list_classes].values"
   ]
  },
  {
   "cell_type": "code",
   "execution_count": 36,
   "metadata": {},
   "outputs": [],
   "source": [
    "embed_size = 50\n",
    "max_features = 20000\n",
    "maxlen = 100  # 使用每个评论的前100个单词"
   ]
  },
  {
   "cell_type": "markdown",
   "metadata": {},
   "source": [
    "将评论分词并向量化"
   ]
  },
  {
   "cell_type": "code",
   "execution_count": 37,
   "metadata": {},
   "outputs": [],
   "source": [
    "tokenizer = Tokenizer(num_words=max_features)\n",
    "tokenizer.fit_on_texts(list(list_sentences_train))\n",
    "list_tokenized_train = tokenizer.texts_to_sequences(list_sentences_train)\n",
    "list_tokenized_test = tokenizer.texts_to_sequences(list_sentences_test)"
   ]
  },
  {
   "cell_type": "code",
   "execution_count": 38,
   "metadata": {},
   "outputs": [],
   "source": [
    "X_train = pad_sequences(list_tokenized_train, maxlen=maxlen)\n",
    "X_test = pad_sequences(list_tokenized_test, maxlen=maxlen)"
   ]
  },
  {
   "cell_type": "code",
   "execution_count": 44,
   "metadata": {},
   "outputs": [],
   "source": [
    "word_index = tokenizer.word_index"
   ]
  },
  {
   "cell_type": "code",
   "execution_count": 39,
   "metadata": {},
   "outputs": [
    {
     "data": {
      "text/plain": [
       "array([   0,    0,    0,    0,    0,    0,    0,    0,    0,    0,    0,\n",
       "          0,    0,    0,    0,    0,    0,    0,    0,    0,    0,    0,\n",
       "          0,    0,    0,    0,    0,    0,    0,    0,    0,    0,    0,\n",
       "          0,    0,    0,    0,    0,    0,    0,    0,    0,    0,    0,\n",
       "          0,    0,    0,    0,    0,    0,    0,    0,    0,    0,    0,\n",
       "          0,    0,    0,    0,    0,    0,    0,    0,    0,    0,    0,\n",
       "          0,    0,    0,    0,    0,    0,    0,    0,    0,    0,    0,\n",
       "          0,    0,    0,    0,    0,    0,   52, 2635,   13,  555, 3809,\n",
       "         73, 4556, 2706,   21,   94,   38,  803, 2679,  992,  589, 8377,\n",
       "        182])"
      ]
     },
     "execution_count": 39,
     "metadata": {},
     "output_type": "execute_result"
    }
   ],
   "source": [
    "X_train[1]"
   ]
  },
  {
   "cell_type": "code",
   "execution_count": 43,
   "metadata": {},
   "outputs": [
    {
     "data": {
      "text/plain": [
       "\"D'aww! He matches this background colour I'm seemingly stuck with. Thanks.  (talk) 21:51, January 11, 2016 (UTC)\""
      ]
     },
     "execution_count": 43,
     "metadata": {},
     "output_type": "execute_result"
    }
   ],
   "source": [
    "train['comment_text'][1]"
   ]
  },
  {
   "cell_type": "code",
   "execution_count": 42,
   "metadata": {},
   "outputs": [
    {
     "data": {
      "text/plain": [
       "array([   9,    6,   40,   81,   22,    6,   18,  689,   61, 1401,  391,\n",
       "       1347,    9,    6,   18, 1972,   92,  119,    4,  870,   88,  162,\n",
       "          6,   40,  139,    5,  163,    3, 1401,    6,   18,  689,   32,\n",
       "        423,   13,  164, 1219,    4, 4417,  340,   85,   16,  136,   48,\n",
       "        714,  148,   51,   18,   55,  870,   17,  948,   15,  398,   12,\n",
       "        254,  106,   22,    1,  118,    8, 1544,  177,    5,  280,  191,\n",
       "       1087,  500,   28,  269,   81,   83,    1,  118,   44,   16,  136,\n",
       "       1784,  773,  148,   22,    6,   18,   54,  235,   45,  209,   88,\n",
       "         34,    1,  369,  246,  235,   27,  127,    6,   38,  248,  490,\n",
       "        248])"
      ]
     },
     "execution_count": 42,
     "metadata": {},
     "output_type": "execute_result"
    }
   ],
   "source": [
    "X_train[10]"
   ]
  },
  {
   "cell_type": "code",
   "execution_count": 50,
   "metadata": {},
   "outputs": [
    {
     "data": {
      "text/plain": [
       "'\"\\nFair use rationale for Image:Wonju.jpg\\n\\nThanks for uploading Image:Wonju.jpg. I notice the image page specifies that the image is being used under fair use but there is no explanation or rationale as to why its use in Wikipedia articles constitutes fair use. In addition to the boilerplate fair use template, you must also write out on the image description page a specific explanation or rationale for why using this image in each article is consistent with fair use.\\n\\nPlease go to the image description page and edit it to include a fair use rationale.\\n\\nIf you have uploaded other fair use media, consider checking that you have specified the fair use rationale on those pages too. You can find a list of \\'image\\' pages you have edited by clicking on the \"\"my contributions\"\" link (it is located at the very top of any Wikipedia page when you are logged in), and then selecting \"\"Image\"\" from the dropdown box. Note that any fair use images uploaded after 4 May, 2006, and lacking such an explanation will be deleted one week after they have been uploaded, as described on criteria for speedy deletion. If you have any questions please ask them at the Media copyright questions page. Thank you. (talk • contribs • ) \\nUnspecified source for Image:Wonju.jpg\\n\\nThanks for uploading Image:Wonju.jpg. I noticed that the file\\'s description page currently doesn\\'t specify who created the content, so the copyright status is unclear. If you did not create this file yourself, then you will need to specify the owner of the copyright. If you obtained it from a website, then a link to the website from which it was taken, together with a restatement of that website\\'s terms of use of its content, is usually sufficient information. However, if the copyright holder is different from the website\\'s publisher, then their copyright should also be acknowledged.\\n\\nAs well as adding the source, please add a proper copyright licensing tag if the file doesn\\'t have one already. If you created/took the picture, audio, or video then the  tag can be used to release it under the GFDL. If you believe the media meets the criteria at Wikipedia:Fair use, use a tag such as  or one of the other tags listed at Wikipedia:Image copyright tags#Fair use. See Wikipedia:Image copyright tags for the full list of copyright tags that you can use.\\n\\nIf you have uploaded other files, consider checking that you have specified their source and tagged them, too. You can find a list of files you have uploaded by following [ this link]. Unsourced and untagged images may be deleted one week after they have been tagged, as described on criteria for speedy deletion. If the image is copyrighted under a non-free license (per Wikipedia:Fair use) then the image will be deleted 48 hours after . If you have any questions please ask them at the Media copyright questions page. Thank you. (talk • contribs • ) \"'"
      ]
     },
     "execution_count": 50,
     "metadata": {},
     "output_type": "execute_result"
    }
   ],
   "source": [
    "train['comment_text'][10]"
   ]
  },
  {
   "cell_type": "markdown",
   "metadata": {},
   "source": [
    "## 3.使用 Glove 词向量"
   ]
  },
  {
   "cell_type": "code",
   "execution_count": 51,
   "metadata": {},
   "outputs": [],
   "source": [
    "def get_coefs(word, *arr):\n",
    "    return word, np.asarray(arr, dtype='float32')"
   ]
  },
  {
   "cell_type": "code",
   "execution_count": 52,
   "metadata": {},
   "outputs": [],
   "source": [
    "embedding_index = dict(get_coefs(*o.strip().split()) for o in\n",
    "                       open(EMBEDDING_FILE, encoding='utf-8'))                                                                                                                                                                                                                                                  "
   ]
  },
  {
   "cell_type": "code",
   "execution_count": 53,
   "metadata": {},
   "outputs": [
    {
     "name": "stderr",
     "output_type": "stream",
     "text": [
      "D:\\Program\\Anaconda3\\envs\\nlp\\lib\\site-packages\\ipykernel_launcher.py:1: FutureWarning: arrays to stack must be passed as a \"sequence\" type such as list or tuple. Support for non-sequence iterables such as generators is deprecated as of NumPy 1.16 and will raise an error in the future.\n",
      "  \"\"\"Entry point for launching an IPython kernel.\n"
     ]
    },
    {
     "name": "stdout",
     "output_type": "stream",
     "text": [
      "0.020940498 0.6441043\n"
     ]
    }
   ],
   "source": [
    "all_embs = np.stack(embedding_index.values())\n",
    "emb_mean, emb_std = all_embs.mean(), all_embs.std()\n",
    "print(emb_mean, emb_std)"
   ]
  },
  {
   "cell_type": "code",
   "execution_count": 54,
   "metadata": {},
   "outputs": [],
   "source": [
    "word_index = tokenizer.word_index\n",
    "nb_words = min(max_features, len(word_index))"
   ]
  },
  {
   "cell_type": "code",
   "execution_count": 55,
   "metadata": {},
   "outputs": [
    {
     "data": {
      "text/plain": [
       "{'the': 1,\n",
       " 'to': 2,\n",
       " 'of': 3,\n",
       " 'and': 4,\n",
       " 'a': 5,\n",
       " 'you': 6,\n",
       " 'i': 7,\n",
       " 'is': 8,\n",
       " 'that': 9,\n",
       " 'in': 10,\n",
       " 'it': 11,\n",
       " 'for': 12,\n",
       " 'this': 13,\n",
       " 'not': 14,\n",
       " 'on': 15,\n",
       " 'be': 16,\n",
       " 'as': 17,\n",
       " 'have': 18,\n",
       " 'are': 19,\n",
       " 'your': 20,\n",
       " 'with': 21,\n",
       " 'if': 22,\n",
       " 'article': 23,\n",
       " 'was': 24,\n",
       " 'or': 25,\n",
       " 'but': 26,\n",
       " 'page': 27,\n",
       " 'wikipedia': 28,\n",
       " 'my': 29,\n",
       " 'an': 30,\n",
       " 'from': 31,\n",
       " 'by': 32,\n",
       " 'do': 33,\n",
       " 'at': 34,\n",
       " 'me': 35,\n",
       " 'about': 36,\n",
       " 'so': 37,\n",
       " 'talk': 38,\n",
       " 'what': 39,\n",
       " 'can': 40,\n",
       " 'there': 41,\n",
       " 'all': 42,\n",
       " 'has': 43,\n",
       " 'will': 44,\n",
       " 'please': 45,\n",
       " 'no': 46,\n",
       " 'would': 47,\n",
       " 'one': 48,\n",
       " 'like': 49,\n",
       " 'just': 50,\n",
       " 'they': 51,\n",
       " 'he': 52,\n",
       " 'which': 53,\n",
       " 'any': 54,\n",
       " 'been': 55,\n",
       " 'should': 56,\n",
       " 'more': 57,\n",
       " 'we': 58,\n",
       " \"don't\": 59,\n",
       " 'some': 60,\n",
       " 'other': 61,\n",
       " 'who': 62,\n",
       " 'here': 63,\n",
       " 'see': 64,\n",
       " 'also': 65,\n",
       " 'his': 66,\n",
       " 'think': 67,\n",
       " 'because': 68,\n",
       " 'know': 69,\n",
       " 'how': 70,\n",
       " 'edit': 71,\n",
       " 'am': 72,\n",
       " \"i'm\": 73,\n",
       " 'people': 74,\n",
       " 'why': 75,\n",
       " 'up': 76,\n",
       " 'only': 77,\n",
       " \"it's\": 78,\n",
       " 'out': 79,\n",
       " 'articles': 80,\n",
       " 'use': 81,\n",
       " 'when': 82,\n",
       " 'then': 83,\n",
       " 'time': 84,\n",
       " 'may': 85,\n",
       " 'were': 86,\n",
       " 'did': 87,\n",
       " 'them': 88,\n",
       " 'now': 89,\n",
       " 'being': 90,\n",
       " 'user': 91,\n",
       " 'their': 92,\n",
       " 'than': 93,\n",
       " 'thanks': 94,\n",
       " 'even': 95,\n",
       " 'get': 96,\n",
       " 'make': 97,\n",
       " 'good': 98,\n",
       " 'had': 99,\n",
       " 'well': 100,\n",
       " 'very': 101,\n",
       " 'information': 102,\n",
       " 'does': 103,\n",
       " 'could': 104,\n",
       " 'want': 105,\n",
       " 'deletion': 106,\n",
       " 'its': 107,\n",
       " 'such': 108,\n",
       " 'sources': 109,\n",
       " 'way': 110,\n",
       " 'name': 111,\n",
       " 'these': 112,\n",
       " 'first': 113,\n",
       " 'wp': 114,\n",
       " 'help': 115,\n",
       " 'pages': 116,\n",
       " 'new': 117,\n",
       " 'image': 118,\n",
       " 'source': 119,\n",
       " 'editing': 120,\n",
       " 'go': 121,\n",
       " 'need': 122,\n",
       " 'section': 123,\n",
       " 'say': 124,\n",
       " 'again': 125,\n",
       " 'edits': 126,\n",
       " 'thank': 127,\n",
       " 'where': 128,\n",
       " 'fuck': 129,\n",
       " 'made': 130,\n",
       " 'many': 131,\n",
       " 'much': 132,\n",
       " 'used': 133,\n",
       " 'really': 134,\n",
       " 'most': 135,\n",
       " 'deleted': 136,\n",
       " 'discussion': 137,\n",
       " 'same': 138,\n",
       " 'find': 139,\n",
       " 'into': 140,\n",
       " 'work': 141,\n",
       " 'those': 142,\n",
       " 'since': 143,\n",
       " \"i've\": 144,\n",
       " 'right': 145,\n",
       " 'point': 146,\n",
       " 'before': 147,\n",
       " 'after': 148,\n",
       " 'add': 149,\n",
       " 'read': 150,\n",
       " 'look': 151,\n",
       " 'over': 152,\n",
       " 'him': 153,\n",
       " 'take': 154,\n",
       " 'two': 155,\n",
       " 'still': 156,\n",
       " 'back': 157,\n",
       " 'wiki': 158,\n",
       " 'someone': 159,\n",
       " 'fact': 160,\n",
       " 'hi': 161,\n",
       " 'too': 162,\n",
       " 'list': 163,\n",
       " 'link': 164,\n",
       " 'own': 165,\n",
       " 'said': 166,\n",
       " 'something': 167,\n",
       " 'going': 168,\n",
       " 'blocked': 169,\n",
       " '1': 170,\n",
       " '2': 171,\n",
       " 'stop': 172,\n",
       " \"you're\": 173,\n",
       " 'content': 174,\n",
       " 'without': 175,\n",
       " 'block': 176,\n",
       " 'under': 177,\n",
       " 'history': 178,\n",
       " 'http': 179,\n",
       " 'our': 180,\n",
       " 'added': 181,\n",
       " 'utc': 182,\n",
       " 'editors': 183,\n",
       " 'another': 184,\n",
       " 'removed': 185,\n",
       " 'her': 186,\n",
       " 'might': 187,\n",
       " 'welcome': 188,\n",
       " 'note': 189,\n",
       " 'however': 190,\n",
       " 'free': 191,\n",
       " 'place': 192,\n",
       " 'sure': 193,\n",
       " 'case': 194,\n",
       " 'never': 195,\n",
       " \"doesn't\": 196,\n",
       " 'done': 197,\n",
       " 'us': 198,\n",
       " 'vandalism': 199,\n",
       " 'reason': 200,\n",
       " 'put': 201,\n",
       " 'comment': 202,\n",
       " 'personal': 203,\n",
       " 'better': 204,\n",
       " \"that's\": 205,\n",
       " 'yourself': 206,\n",
       " 'using': 207,\n",
       " 'seems': 208,\n",
       " 'ask': 209,\n",
       " 'actually': 210,\n",
       " 'question': 211,\n",
       " 'off': 212,\n",
       " 'while': 213,\n",
       " 'feel': 214,\n",
       " 'anything': 215,\n",
       " 'believe': 216,\n",
       " 'links': 217,\n",
       " 'person': 218,\n",
       " 'things': 219,\n",
       " 'both': 220,\n",
       " 'she': 221,\n",
       " 'best': 222,\n",
       " 'comments': 223,\n",
       " 'policy': 224,\n",
       " 'part': 225,\n",
       " 'hope': 226,\n",
       " 'against': 227,\n",
       " \"can't\": 228,\n",
       " 'already': 229,\n",
       " 'keep': 230,\n",
       " 'thing': 231,\n",
       " '3': 232,\n",
       " 'u': 233,\n",
       " \"didn't\": 234,\n",
       " 'questions': 235,\n",
       " \"i'll\": 236,\n",
       " 'com': 237,\n",
       " 'nothing': 238,\n",
       " 'change': 239,\n",
       " 'wrong': 240,\n",
       " 'though': 241,\n",
       " 'subject': 242,\n",
       " 'problem': 243,\n",
       " 'remove': 244,\n",
       " 'little': 245,\n",
       " 'copyright': 246,\n",
       " 'tag': 247,\n",
       " '•': 248,\n",
       " 'trying': 249,\n",
       " 'long': 250,\n",
       " 'must': 251,\n",
       " 'understand': 252,\n",
       " 'above': 253,\n",
       " 'speedy': 254,\n",
       " 'anyone': 255,\n",
       " 'few': 256,\n",
       " 'world': 257,\n",
       " 'issue': 258,\n",
       " 'last': 259,\n",
       " 'others': 260,\n",
       " 'give': 261,\n",
       " 'editor': 262,\n",
       " 'sorry': 263,\n",
       " 'agree': 264,\n",
       " 'reliable': 265,\n",
       " 'rather': 266,\n",
       " 'let': 267,\n",
       " 'years': 268,\n",
       " 'fair': 269,\n",
       " 'english': 270,\n",
       " 'different': 271,\n",
       " 'making': 272,\n",
       " 'reference': 273,\n",
       " 'come': 274,\n",
       " 'style': 275,\n",
       " 'text': 276,\n",
       " 'references': 277,\n",
       " 'mean': 278,\n",
       " 'try': 279,\n",
       " 'non': 280,\n",
       " 'continue': 281,\n",
       " 'doing': 282,\n",
       " 'great': 283,\n",
       " 'found': 284,\n",
       " 'leave': 285,\n",
       " 'word': 286,\n",
       " 'says': 287,\n",
       " 'got': 288,\n",
       " 'state': 289,\n",
       " 'original': 290,\n",
       " \"isn't\": 291,\n",
       " 'probably': 292,\n",
       " 'site': 293,\n",
       " 'adding': 294,\n",
       " 'every': 295,\n",
       " 'check': 296,\n",
       " 'day': 297,\n",
       " 'simply': 298,\n",
       " 'created': 299,\n",
       " 'life': 300,\n",
       " 'top': 301,\n",
       " 'hello': 302,\n",
       " 'show': 303,\n",
       " 'post': 304,\n",
       " 'either': 305,\n",
       " 'consensus': 306,\n",
       " 'ip': 307,\n",
       " 'least': 308,\n",
       " 'delete': 309,\n",
       " 'else': 310,\n",
       " 'e': 311,\n",
       " 'yes': 312,\n",
       " 'view': 313,\n",
       " 'war': 314,\n",
       " 'far': 315,\n",
       " 'notable': 316,\n",
       " 'enough': 317,\n",
       " 'request': 318,\n",
       " 'etc': 319,\n",
       " 'example': 320,\n",
       " 'opinion': 321,\n",
       " 'contributions': 322,\n",
       " 'called': 323,\n",
       " 'around': 324,\n",
       " 'through': 325,\n",
       " 'www': 326,\n",
       " 'between': 327,\n",
       " 'real': 328,\n",
       " 'yet': 329,\n",
       " 'write': 330,\n",
       " 'reverted': 331,\n",
       " 'book': 332,\n",
       " 'shit': 333,\n",
       " 'down': 334,\n",
       " 'matter': 335,\n",
       " 'admin': 336,\n",
       " 're': 337,\n",
       " 'thought': 338,\n",
       " 'given': 339,\n",
       " 'images': 340,\n",
       " 'account': 341,\n",
       " 'material': 342,\n",
       " 'users': 343,\n",
       " 'bad': 344,\n",
       " 'encyclopedia': 345,\n",
       " 'having': 346,\n",
       " 'clearly': 347,\n",
       " 'title': 348,\n",
       " 'message': 349,\n",
       " 'support': 350,\n",
       " 'needs': 351,\n",
       " 'lot': 352,\n",
       " 'old': 353,\n",
       " 'evidence': 354,\n",
       " '—': 355,\n",
       " 'ever': 356,\n",
       " 'maybe': 357,\n",
       " 's': 358,\n",
       " 'tell': 359,\n",
       " 'revert': 360,\n",
       " 'seem': 361,\n",
       " 'language': 362,\n",
       " 'instead': 363,\n",
       " 'correct': 364,\n",
       " 'template': 365,\n",
       " 'org': 366,\n",
       " 'number': 367,\n",
       " 'clear': 368,\n",
       " 'media': 369,\n",
       " 'important': 370,\n",
       " 'saying': 371,\n",
       " 'pov': 372,\n",
       " '5': 373,\n",
       " '4': 374,\n",
       " 'always': 375,\n",
       " 'written': 376,\n",
       " 'true': 377,\n",
       " 'oh': 378,\n",
       " 'term': 379,\n",
       " 'further': 380,\n",
       " 'states': 381,\n",
       " 'hate': 382,\n",
       " 'quite': 383,\n",
       " 'perhaps': 384,\n",
       " 'review': 385,\n",
       " 'until': 386,\n",
       " 'bit': 387,\n",
       " 'whether': 388,\n",
       " \"i'd\": 389,\n",
       " 'research': 390,\n",
       " 'consider': 391,\n",
       " 'claim': 392,\n",
       " 'guidelines': 393,\n",
       " 'fucking': 394,\n",
       " 'version': 395,\n",
       " 'once': 396,\n",
       " 'based': 397,\n",
       " 'criteria': 398,\n",
       " 'times': 399,\n",
       " 'nigger': 400,\n",
       " 'website': 401,\n",
       " 'getting': 402,\n",
       " 'suck': 403,\n",
       " 'mention': 404,\n",
       " 'three': 405,\n",
       " 'several': 406,\n",
       " 'makes': 407,\n",
       " 'considered': 408,\n",
       " 'words': 409,\n",
       " 'c': 410,\n",
       " 'year': 411,\n",
       " 'hey': 412,\n",
       " 'changes': 413,\n",
       " 'idea': 414,\n",
       " \"there's\": 415,\n",
       " 'cannot': 416,\n",
       " 'ass': 417,\n",
       " 'address': 418,\n",
       " 'notice': 419,\n",
       " 'current': 420,\n",
       " 'group': 421,\n",
       " 'left': 422,\n",
       " 'following': 423,\n",
       " 'listed': 424,\n",
       " 'each': 425,\n",
       " 'date': 426,\n",
       " 'second': 427,\n",
       " 'means': 428,\n",
       " 'facts': 429,\n",
       " 'rules': 430,\n",
       " 'general': 431,\n",
       " 'possible': 432,\n",
       " 'main': 433,\n",
       " 'care': 434,\n",
       " 'regarding': 435,\n",
       " 'american': 436,\n",
       " 'man': 437,\n",
       " 'start': 438,\n",
       " '10': 439,\n",
       " 'topic': 440,\n",
       " 'mentioned': 441,\n",
       " 'course': 442,\n",
       " 'attack': 443,\n",
       " 'kind': 444,\n",
       " 'whole': 445,\n",
       " 'statement': 446,\n",
       " 'known': 447,\n",
       " 'end': 448,\n",
       " 'include': 449,\n",
       " 'issues': 450,\n",
       " 'seen': 451,\n",
       " 'create': 452,\n",
       " 'jpg': 453,\n",
       " 'dont': 454,\n",
       " 'en': 455,\n",
       " 'gay': 456,\n",
       " 'less': 457,\n",
       " 'related': 458,\n",
       " 'call': 459,\n",
       " 'ok': 460,\n",
       " 'sense': 461,\n",
       " 'big': 462,\n",
       " 'suggest': 463,\n",
       " 'happy': 464,\n",
       " 'category': 465,\n",
       " 'including': 466,\n",
       " 'notability': 467,\n",
       " 'info': 468,\n",
       " '2005': 469,\n",
       " 'provide': 470,\n",
       " 'redirect': 471,\n",
       " 'days': 472,\n",
       " 'move': 473,\n",
       " 'myself': 474,\n",
       " 'sentence': 475,\n",
       " \"wikipedia's\": 476,\n",
       " 'love': 477,\n",
       " 'four': 478,\n",
       " 'appropriate': 479,\n",
       " 'school': 480,\n",
       " 'news': 481,\n",
       " 'project': 482,\n",
       " 'changed': 483,\n",
       " 'explain': 484,\n",
       " 'started': 485,\n",
       " 'neutral': 486,\n",
       " 'line': 487,\n",
       " 'mind': 488,\n",
       " 'anyway': 489,\n",
       " 'contribs': 490,\n",
       " 'included': 491,\n",
       " 'removing': 492,\n",
       " 'next': 493,\n",
       " 't': 494,\n",
       " 'looking': 495,\n",
       " 'picture': 496,\n",
       " 'specific': 497,\n",
       " 'community': 498,\n",
       " 'although': 499,\n",
       " 'per': 500,\n",
       " 'order': 501,\n",
       " 'relevant': 502,\n",
       " 'sign': 503,\n",
       " 'die': 504,\n",
       " 'answer': 505,\n",
       " 'away': 506,\n",
       " 'interest': 507,\n",
       " 'full': 508,\n",
       " 'warning': 509,\n",
       " 'lol': 510,\n",
       " 'summary': 511,\n",
       " 'recent': 512,\n",
       " 'later': 513,\n",
       " 'file': 514,\n",
       " 'policies': 515,\n",
       " \"you've\": 516,\n",
       " 'faith': 517,\n",
       " 'claims': 518,\n",
       " 'discuss': 519,\n",
       " 'attacks': 520,\n",
       " 'public': 521,\n",
       " '0': 522,\n",
       " 'currently': 523,\n",
       " 'wrote': 524,\n",
       " 'writing': 525,\n",
       " 'especially': 526,\n",
       " 'interested': 527,\n",
       " 'able': 528,\n",
       " 'wish': 529,\n",
       " 'taken': 530,\n",
       " '6': 531,\n",
       " 'names': 532,\n",
       " 'position': 533,\n",
       " 'single': 534,\n",
       " 'within': 535,\n",
       " 'stuff': 536,\n",
       " 'below': 537,\n",
       " '2006': 538,\n",
       " 'during': 539,\n",
       " 'wanted': 540,\n",
       " 'web': 541,\n",
       " 'appears': 542,\n",
       " 'official': 543,\n",
       " '20': 544,\n",
       " 'live': 545,\n",
       " 'certainly': 546,\n",
       " 'nice': 547,\n",
       " 'color': 548,\n",
       " 'self': 549,\n",
       " 'itself': 550,\n",
       " 'country': 551,\n",
       " 'everyone': 552,\n",
       " 'report': 553,\n",
       " 'anti': 554,\n",
       " 'background': 555,\n",
       " 'lead': 556,\n",
       " 'high': 557,\n",
       " 'common': 558,\n",
       " 'god': 559,\n",
       " 'unless': 560,\n",
       " 'according': 561,\n",
       " 'completely': 562,\n",
       " 'hard': 563,\n",
       " 'books': 564,\n",
       " 'pretty': 565,\n",
       " '7': 566,\n",
       " 'everything': 567,\n",
       " 'p': 568,\n",
       " 'published': 569,\n",
       " 'due': 570,\n",
       " '24': 571,\n",
       " 'process': 572,\n",
       " 'edited': 573,\n",
       " 'looks': 574,\n",
       " 'involved': 575,\n",
       " 'fat': 576,\n",
       " 'therefore': 577,\n",
       " \"won't\": 578,\n",
       " 'remember': 579,\n",
       " 'obviously': 580,\n",
       " 'power': 581,\n",
       " 'd': 582,\n",
       " 'future': 583,\n",
       " 'nor': 584,\n",
       " '100': 585,\n",
       " 'truth': 586,\n",
       " 'came': 587,\n",
       " 'sandbox': 588,\n",
       " '11': 589,\n",
       " 'response': 590,\n",
       " 'party': 591,\n",
       " 'reading': 592,\n",
       " 'stay': 593,\n",
       " 'past': 594,\n",
       " 'game': 595,\n",
       " 'learn': 596,\n",
       " 'admins': 597,\n",
       " 'quote': 598,\n",
       " 'asked': 599,\n",
       " \"wasn't\": 600,\n",
       " 'b': 601,\n",
       " 'city': 602,\n",
       " 'entry': 603,\n",
       " 'stupid': 604,\n",
       " \"he's\": 605,\n",
       " 'posted': 606,\n",
       " 'false': 607,\n",
       " 'faggot': 608,\n",
       " 'whatever': 609,\n",
       " 'google': 610,\n",
       " 'talking': 611,\n",
       " 'ago': 612,\n",
       " '8': 613,\n",
       " 'placed': 614,\n",
       " 'political': 615,\n",
       " 'similar': 616,\n",
       " 'today': 617,\n",
       " 'system': 618,\n",
       " 'administrator': 619,\n",
       " 'united': 620,\n",
       " 'argument': 621,\n",
       " 'paragraph': 622,\n",
       " 'working': 623,\n",
       " 'exactly': 624,\n",
       " '2007': 625,\n",
       " 'guy': 626,\n",
       " '12': 627,\n",
       " 'british': 628,\n",
       " 'took': 629,\n",
       " 'useful': 630,\n",
       " 'government': 631,\n",
       " 'search': 632,\n",
       " 'noticed': 633,\n",
       " 'moron': 634,\n",
       " 'regards': 635,\n",
       " 'small': 636,\n",
       " 'reasons': 637,\n",
       " 'side': 638,\n",
       " '2008': 639,\n",
       " 'form': 640,\n",
       " 'national': 641,\n",
       " 'dispute': 642,\n",
       " 'deleting': 643,\n",
       " 'five': 644,\n",
       " 'guess': 645,\n",
       " 'appreciate': 646,\n",
       " 'particular': 647,\n",
       " 'reverting': 648,\n",
       " 'major': 649,\n",
       " 'problems': 650,\n",
       " 'law': 651,\n",
       " '000': 652,\n",
       " '15': 653,\n",
       " 'npov': 654,\n",
       " 'bitch': 655,\n",
       " 'rule': 656,\n",
       " 'banned': 657,\n",
       " 'often': 658,\n",
       " 'provided': 659,\n",
       " 'music': 660,\n",
       " 'become': 661,\n",
       " 'wikiproject': 662,\n",
       " 'needed': 663,\n",
       " 'status': 664,\n",
       " 'reply': 665,\n",
       " 'knowledge': 666,\n",
       " 'tried': 667,\n",
       " 'along': 668,\n",
       " 'almost': 669,\n",
       " 'cheers': 670,\n",
       " 'stated': 671,\n",
       " 'username': 672,\n",
       " 'film': 673,\n",
       " '9': 674,\n",
       " 'taking': 675,\n",
       " 'fine': 676,\n",
       " '–': 677,\n",
       " 'company': 678,\n",
       " 'vandalize': 679,\n",
       " 'present': 680,\n",
       " 'certain': 681,\n",
       " 'white': 682,\n",
       " 'follow': 683,\n",
       " 'sort': 684,\n",
       " 'otherwise': 685,\n",
       " 'terms': 686,\n",
       " 'points': 687,\n",
       " 'explanation': 688,\n",
       " 'uploaded': 689,\n",
       " \"haven't\": 690,\n",
       " 'description': 691,\n",
       " 'generally': 692,\n",
       " 'recently': 693,\n",
       " 'entire': 694,\n",
       " 'open': 695,\n",
       " 'story': 696,\n",
       " 'tags': 697,\n",
       " 'shows': 698,\n",
       " 'alone': 699,\n",
       " 'ban': 700,\n",
       " 'citation': 701,\n",
       " 'short': 702,\n",
       " 'definition': 703,\n",
       " '14': 704,\n",
       " 'cited': 705,\n",
       " 'likely': 706,\n",
       " 'aware': 707,\n",
       " 'g': 708,\n",
       " 'saw': 709,\n",
       " 'class': 710,\n",
       " 'type': 711,\n",
       " 'soon': 712,\n",
       " 'set': 713,\n",
       " 'week': 714,\n",
       " 'indeed': 715,\n",
       " 'band': 716,\n",
       " 'cite': 717,\n",
       " 'decide': 718,\n",
       " 'mr': 719,\n",
       " 'views': 720,\n",
       " '2004': 721,\n",
       " 'appear': 722,\n",
       " 'family': 723,\n",
       " 'simple': 724,\n",
       " 'area': 725,\n",
       " 'guys': 726,\n",
       " 'theory': 727,\n",
       " 'piece': 728,\n",
       " 'contributing': 729,\n",
       " 'contact': 730,\n",
       " 'external': 731,\n",
       " 'result': 732,\n",
       " 'test': 733,\n",
       " 'internet': 734,\n",
       " 'interesting': 735,\n",
       " 'unblock': 736,\n",
       " 'actual': 737,\n",
       " 'improve': 738,\n",
       " 'copy': 739,\n",
       " '16': 740,\n",
       " 'sourced': 741,\n",
       " 'jew': 742,\n",
       " 'told': 743,\n",
       " 'attention': 744,\n",
       " 'proposed': 745,\n",
       " 'obvious': 746,\n",
       " 'moved': 747,\n",
       " 'email': 748,\n",
       " 'uk': 749,\n",
       " 'members': 750,\n",
       " 'various': 751,\n",
       " 'allowed': 752,\n",
       " 'themselves': 753,\n",
       " 'conflict': 754,\n",
       " 'context': 755,\n",
       " \"article's\": 756,\n",
       " 'black': 757,\n",
       " 'university': 758,\n",
       " 'author': 759,\n",
       " 'thus': 760,\n",
       " 'disagree': 761,\n",
       " 'cunt': 762,\n",
       " 'john': 763,\n",
       " 'went': 764,\n",
       " 'citations': 765,\n",
       " 'sites': 766,\n",
       " 'jews': 767,\n",
       " 'actions': 768,\n",
       " 'hand': 769,\n",
       " 'bias': 770,\n",
       " 'previous': 771,\n",
       " 'third': 772,\n",
       " 'hours': 773,\n",
       " 'human': 774,\n",
       " '18': 775,\n",
       " 'works': 776,\n",
       " 'nonsense': 777,\n",
       " 'science': 778,\n",
       " 'ones': 779,\n",
       " 'death': 780,\n",
       " 'action': 781,\n",
       " '17': 782,\n",
       " 'enjoy': 783,\n",
       " \"aren't\": 784,\n",
       " 'job': 785,\n",
       " 'proper': 786,\n",
       " 'longer': 787,\n",
       " 'large': 788,\n",
       " 'together': 789,\n",
       " 'sucks': 790,\n",
       " '\\xa0': 791,\n",
       " '13': 792,\n",
       " 'addition': 793,\n",
       " \"wouldn't\": 794,\n",
       " 'avoid': 795,\n",
       " 'creating': 796,\n",
       " 'happened': 797,\n",
       " '19': 798,\n",
       " 'valid': 799,\n",
       " 'jewish': 800,\n",
       " 'german': 801,\n",
       " 'deal': 802,\n",
       " '21': 803,\n",
       " 'automatically': 804,\n",
       " 'biased': 805,\n",
       " 'proof': 806,\n",
       " 'worked': 807,\n",
       " 'im': 808,\n",
       " 'series': 809,\n",
       " 'dick': 810,\n",
       " 'goes': 811,\n",
       " 'himself': 812,\n",
       " 'seriously': 813,\n",
       " \"what's\": 814,\n",
       " '23': 815,\n",
       " 'level': 816,\n",
       " 'standard': 817,\n",
       " 'f': 818,\n",
       " '2009': 819,\n",
       " 'accepted': 820,\n",
       " 'respect': 821,\n",
       " 'exist': 822,\n",
       " 'available': 823,\n",
       " 'de': 824,\n",
       " 'helpful': 825,\n",
       " 'video': 826,\n",
       " 'comes': 827,\n",
       " '22': 828,\n",
       " 'meaning': 829,\n",
       " \"shouldn't\": 830,\n",
       " 'manual': 831,\n",
       " 'living': 832,\n",
       " 'opinions': 833,\n",
       " 'sex': 834,\n",
       " 'rights': 835,\n",
       " 'act': 836,\n",
       " 'tildes': 837,\n",
       " 'criticism': 838,\n",
       " 'play': 839,\n",
       " '2010': 840,\n",
       " 'necessary': 841,\n",
       " 'calling': 842,\n",
       " 'accept': 843,\n",
       " 'sections': 844,\n",
       " 'indicate': 845,\n",
       " 'personally': 846,\n",
       " 'yeah': 847,\n",
       " '30': 848,\n",
       " 'july': 849,\n",
       " 'hell': 850,\n",
       " 'accurate': 851,\n",
       " 'violation': 852,\n",
       " 'statements': 853,\n",
       " 'pig': 854,\n",
       " 'attempt': 855,\n",
       " 'months': 856,\n",
       " 'assume': 857,\n",
       " 'afd': 858,\n",
       " 'upon': 859,\n",
       " 'historical': 860,\n",
       " 'usually': 861,\n",
       " 'debate': 862,\n",
       " \"let's\": 863,\n",
       " 'pro': 864,\n",
       " 'details': 865,\n",
       " 'multiple': 866,\n",
       " 'blocking': 867,\n",
       " 'south': 868,\n",
       " 'rest': 869,\n",
       " 'tagged': 870,\n",
       " 'width': 871,\n",
       " 'serious': 872,\n",
       " 'doubt': 873,\n",
       " 'record': 874,\n",
       " 'greek': 875,\n",
       " 'm': 876,\n",
       " 'r': 877,\n",
       " \"they're\": 878,\n",
       " 'separate': 879,\n",
       " 'v': 880,\n",
       " 'space': 881,\n",
       " 'situation': 882,\n",
       " 'cause': 883,\n",
       " \"you'll\": 884,\n",
       " 'speak': 885,\n",
       " 'heard': 886,\n",
       " 'explaining': 887,\n",
       " 'okay': 888,\n",
       " 'refer': 889,\n",
       " 'fix': 890,\n",
       " 'run': 891,\n",
       " 'quality': 892,\n",
       " 'data': 893,\n",
       " 'complete': 894,\n",
       " 'penis': 895,\n",
       " 'sock': 896,\n",
       " 'church': 897,\n",
       " 'w': 898,\n",
       " 'messages': 899,\n",
       " 'none': 900,\n",
       " 'india': 901,\n",
       " 'asking': 902,\n",
       " 'august': 903,\n",
       " 'online': 904,\n",
       " 'lack': 905,\n",
       " 'legal': 906,\n",
       " 'period': 907,\n",
       " 'freedom': 908,\n",
       " 'team': 909,\n",
       " 'military': 910,\n",
       " 'rationale': 911,\n",
       " 'behavior': 912,\n",
       " 'prove': 913,\n",
       " 'apparently': 914,\n",
       " 'access': 915,\n",
       " 'special': 916,\n",
       " 'close': 917,\n",
       " 'changing': 918,\n",
       " 'bullshit': 919,\n",
       " 'directly': 920,\n",
       " 'watch': 921,\n",
       " 'culture': 922,\n",
       " 'difference': 923,\n",
       " 'march': 924,\n",
       " 'early': 925,\n",
       " 'box': 926,\n",
       " 'contribute': 927,\n",
       " 'wikipedian': 928,\n",
       " 'existing': 929,\n",
       " 'huge': 930,\n",
       " 'gets': 931,\n",
       " 'html': 932,\n",
       " 'couple': 933,\n",
       " '25': 934,\n",
       " 'among': 935,\n",
       " 'civil': 936,\n",
       " 'warring': 937,\n",
       " 'supposed': 938,\n",
       " 'primary': 939,\n",
       " 'except': 940,\n",
       " 'head': 941,\n",
       " 'countries': 942,\n",
       " 'born': 943,\n",
       " 'meant': 944,\n",
       " 'modern': 945,\n",
       " '50': 946,\n",
       " 'photo': 947,\n",
       " 'described': 948,\n",
       " 'incorrect': 949,\n",
       " 'fish': 950,\n",
       " 'uses': 951,\n",
       " 'disruptive': 952,\n",
       " 'significant': 953,\n",
       " 'field': 954,\n",
       " 'specifically': 955,\n",
       " 'red': 956,\n",
       " 'purpose': 957,\n",
       " 'pillars': 958,\n",
       " 'friend': 959,\n",
       " 'release': 960,\n",
       " 'archive': 961,\n",
       " 'million': 962,\n",
       " 'produce': 963,\n",
       " 'tv': 964,\n",
       " 'error': 965,\n",
       " 'force': 966,\n",
       " 'table': 967,\n",
       " 'earlier': 968,\n",
       " 'business': 969,\n",
       " 'computer': 970,\n",
       " 'june': 971,\n",
       " 'sometimes': 972,\n",
       " 'half': 973,\n",
       " 'cases': 974,\n",
       " 'outside': 975,\n",
       " 'vote': 976,\n",
       " 'x': 977,\n",
       " 'inclusion': 978,\n",
       " 'particularly': 979,\n",
       " 'character': 980,\n",
       " 'pictures': 981,\n",
       " 'gave': 982,\n",
       " 'linked': 983,\n",
       " 'abuse': 984,\n",
       " '27': 985,\n",
       " 'control': 986,\n",
       " 'possibly': 987,\n",
       " 'numbers': 988,\n",
       " 'home': 989,\n",
       " 'anonymous': 990,\n",
       " 'member': 991,\n",
       " 'january': 992,\n",
       " 'christian': 993,\n",
       " 'scientific': 994,\n",
       " 'arguments': 995,\n",
       " 'tutorial': 996,\n",
       " '2012': 997,\n",
       " 'n': 998,\n",
       " 'reported': 999,\n",
       " 'border': 1000,\n",
       " ...}"
      ]
     },
     "execution_count": 55,
     "metadata": {},
     "output_type": "execute_result"
    }
   ],
   "source": [
    "word_index"
   ]
  },
  {
   "cell_type": "code",
   "execution_count": 60,
   "metadata": {},
   "outputs": [
    {
     "name": "stdout",
     "output_type": "stream",
     "text": [
      "评论单词210337，没有词向量1401\n"
     ]
    }
   ],
   "source": [
    "embedding_matrix = np.random.normal(emb_mean, emb_std, (nb_words, embed_size))\n",
    "words_without_wv = 0\n",
    "for word, i in word_index.items():\n",
    "    if i >= max_features: \n",
    "        continue\n",
    "    embedding_vector = embedding_index.get(word)\n",
    "    if embedding_vector is not None:\n",
    "        embedding_matrix[i] = embedding_vector\n",
    "    else:\n",
    "        words_without_wv += 1\n",
    "print(\"评论单词{}，没有词向量{:2.%}\".format(len(word_index), words_without_wv))"
   ]
  },
  {
   "cell_type": "code",
   "execution_count": 63,
   "metadata": {},
   "outputs": [
    {
     "name": "stdout",
     "output_type": "stream",
     "text": [
      "词汇表中0.67%单词没有词向量\n"
     ]
    }
   ],
   "source": [
    "print(\"词汇表中{:.2%}单词没有词向量\".format(words_without_wv/len(word_index)))"
   ]
  },
  {
   "cell_type": "code",
   "execution_count": 61,
   "metadata": {},
   "outputs": [
    {
     "data": {
      "text/plain": [
       "array([[ 1.02822436,  0.16354269,  0.36796174, ..., -0.23140568,\n",
       "        -0.75071671, -0.2013963 ],\n",
       "       [ 0.41800001,  0.24968   , -0.41242   , ..., -0.18411   ,\n",
       "        -0.11514   , -0.78580999],\n",
       "       [ 0.68046999, -0.039263  ,  0.30186   , ..., -0.073297  ,\n",
       "        -0.064699  , -0.26043999],\n",
       "       ...,\n",
       "       [-0.13491   , -0.8635    , -0.033898  , ...,  0.29484999,\n",
       "        -0.24315999,  0.81682003],\n",
       "       [ 0.1178    ,  0.14624   , -0.28240001, ..., -0.19529   ,\n",
       "        -0.13610999,  1.04270005],\n",
       "       [-0.64388001, -0.54152   ,  0.10305   , ..., -0.06732   ,\n",
       "        -0.73308003,  0.88625002]])"
      ]
     },
     "execution_count": 61,
     "metadata": {},
     "output_type": "execute_result"
    }
   ],
   "source": [
    "embedding_matrix"
   ]
  },
  {
   "cell_type": "markdown",
   "metadata": {},
   "source": [
    "## 4.训练模型"
   ]
  },
  {
   "cell_type": "code",
   "execution_count": 64,
   "metadata": {},
   "outputs": [
    {
     "name": "stdout",
     "output_type": "stream",
     "text": [
      "WARNING:tensorflow:From D:\\Program\\Anaconda3\\envs\\nlp\\lib\\site-packages\\tensorflow\\python\\framework\\op_def_library.py:263: colocate_with (from tensorflow.python.framework.ops) is deprecated and will be removed in a future version.\n",
      "Instructions for updating:\n",
      "Colocations handled automatically by placer.\n",
      "WARNING:tensorflow:From D:\\Program\\Anaconda3\\envs\\nlp\\lib\\site-packages\\keras\\backend\\tensorflow_backend.py:3445: calling dropout (from tensorflow.python.ops.nn_ops) with keep_prob is deprecated and will be removed in a future version.\n",
      "Instructions for updating:\n",
      "Please use `rate` instead of `keep_prob`. Rate should be set to `rate = 1 - keep_prob`.\n"
     ]
    }
   ],
   "source": [
    "inp = Input(shape=(maxlen, ))\n",
    "x = Embedding(max_features, embed_size, weights=[embedding_matrix])(inp)\n",
    "x = Bidirectional(\n",
    "    LSTM(50, return_sequences=True, dropout=0.1, recurrent_dropout=0.1))(x)\n",
    "x = GlobalMaxPool1D()(x)\n",
    "x = Dense(50, activation='relu')(x)\n",
    "x = Dropout(0.1)(x)\n",
    "x = Dense(6, activation='sigmoid')(x)\n",
    "model = Model(inputs=inp, outputs=x)"
   ]
  },
  {
   "cell_type": "code",
   "execution_count": 65,
   "metadata": {},
   "outputs": [],
   "source": [
    "model.compile(loss='binary_crossentropy', optimizer='adam',\n",
    "              metrics=['accuracy'])"
   ]
  },
  {
   "cell_type": "code",
   "execution_count": 66,
   "metadata": {},
   "outputs": [
    {
     "name": "stdout",
     "output_type": "stream",
     "text": [
      "WARNING:tensorflow:From D:\\Program\\Anaconda3\\envs\\nlp\\lib\\site-packages\\tensorflow\\python\\ops\\math_ops.py:3066: to_int32 (from tensorflow.python.ops.math_ops) is deprecated and will be removed in a future version.\n",
      "Instructions for updating:\n",
      "Use tf.cast instead.\n",
      "WARNING:tensorflow:From D:\\Program\\Anaconda3\\envs\\nlp\\lib\\site-packages\\tensorflow\\python\\ops\\math_grad.py:102: div (from tensorflow.python.ops.math_ops) is deprecated and will be removed in a future version.\n",
      "Instructions for updating:\n",
      "Deprecated in favor of operator or tf.math.divide.\n",
      "Train on 143613 samples, validate on 15958 samples\n",
      "Epoch 1/2\n",
      "143613/143613 [==============================] - 712s 5ms/step - loss: 0.0596 - acc: 0.9793 - val_loss: 0.0484 - val_acc: 0.9822\n",
      "Epoch 2/2\n",
      "143613/143613 [==============================] - 685s 5ms/step - loss: 0.0444 - acc: 0.9832 - val_loss: 0.0462 - val_acc: 0.9832\n"
     ]
    },
    {
     "data": {
      "text/plain": [
       "<keras.callbacks.History at 0x198a452d0c8>"
      ]
     },
     "execution_count": 66,
     "metadata": {},
     "output_type": "execute_result"
    }
   ],
   "source": [
    "history = model.fit(X_train, y_train, batch_size=32, epochs=2, validation_split=0.1)"
   ]
  },
  {
   "cell_type": "markdown",
   "metadata": {},
   "source": [
    "预测"
   ]
  },
  {
   "cell_type": "code",
   "execution_count": 83,
   "metadata": {},
   "outputs": [
    {
     "name": "stdout",
     "output_type": "stream",
     "text": [
      "153164/153164 [==============================] - 42s 275us/step\n"
     ]
    }
   ],
   "source": [
    "y_test_pred = model.predict([X_test], batch_size=1024, verbose=1)"
   ]
  },
  {
   "cell_type": "code",
   "execution_count": 85,
   "metadata": {},
   "outputs": [
    {
     "data": {
      "text/plain": [
       "array([0.99395025, 0.22166064, 0.9438987 , 0.01606953, 0.8902844 ,\n",
       "       0.04045072], dtype=float32)"
      ]
     },
     "execution_count": 85,
     "metadata": {},
     "output_type": "execute_result"
    }
   ],
   "source": [
    "y_test_pred[0]"
   ]
  },
  {
   "cell_type": "code",
   "execution_count": 88,
   "metadata": {},
   "outputs": [
    {
     "data": {
      "text/plain": [
       "\"Yo bitch Ja Rule is more succesful then you'll ever be whats up with you and hating you sad mofuckas...i should bitch slap ur pethedic white faces and get you to kiss my ass you guys sicken me. Ja rule is about pride in da music man. dont diss that shit on him. and nothin is wrong bein like tupac he was a brother too...fuckin white boys get things right next time.,\""
      ]
     },
     "execution_count": 88,
     "metadata": {},
     "output_type": "execute_result"
    }
   ],
   "source": [
    "test.iloc[0]['comment_text']"
   ]
  },
  {
   "cell_type": "markdown",
   "metadata": {},
   "source": [
    "## 5.TextCNN"
   ]
  },
  {
   "cell_type": "code",
   "execution_count": 133,
   "metadata": {},
   "outputs": [],
   "source": [
    "from keras.layers import Conv2D, MaxPooling2D, Concatenate, Reshape, Flatten"
   ]
  },
  {
   "cell_type": "code",
   "execution_count": 142,
   "metadata": {},
   "outputs": [],
   "source": [
    "inp = Input(shape=(maxlen, ))\n",
    "x = Embedding(max_features, embed_size, weights=[embedding_matrix])(inp)\n",
    "x = Reshape((maxlen, embed_size, 1))(x)\n",
    "x = Dropout(0.2)(x)\n",
    "\n",
    "x_pooled = []\n",
    "filters = 32\n",
    "kernel_sizes = np.arange(1, 6)\n",
    "\n",
    "for s in kernel_sizes:\n",
    "    y = Conv2D(filters,\n",
    "               kernel_size=(s, embed_size),\n",
    "               padding='valid',\n",
    "               activation='relu',\n",
    "               strides=1)(x)\n",
    "    y = MaxPooling2D(pool_size=(maxlen - s + 1, 1))(y)\n",
    "    x_pooled.append(y)\n",
    "\n",
    "x = Concatenate(axis=1)(x_pooled)\n",
    "x = Flatten()(x)\n",
    "x = Dropout(0.1)(x)\n",
    "x = Dense(50, activation='relu')(x)\n",
    "x = Dropout(0.1)(x)\n",
    "x = Dense(6, activation='sigmoid')(x)\n",
    "model = Model(inputs=inp, outputs=x)"
   ]
  },
  {
   "cell_type": "code",
   "execution_count": 143,
   "metadata": {},
   "outputs": [],
   "source": [
    "model.compile(loss='binary_crossentropy', optimizer='adam',\n",
    "              metrics=['accuracy'])"
   ]
  },
  {
   "cell_type": "code",
   "execution_count": 144,
   "metadata": {},
   "outputs": [
    {
     "name": "stdout",
     "output_type": "stream",
     "text": [
      "Train on 143613 samples, validate on 15958 samples\n",
      "Epoch 1/4\n",
      "143613/143613 [==============================] - 267s 2ms/step - loss: 0.0614 - acc: 0.9786 - val_loss: 0.0549 - val_acc: 0.9800\n",
      "Epoch 2/4\n",
      "143613/143613 [==============================] - 247s 2ms/step - loss: 0.0487 - acc: 0.9817 - val_loss: 0.0497 - val_acc: 0.9818\n",
      "Epoch 3/4\n",
      "143613/143613 [==============================] - 252s 2ms/step - loss: 0.0441 - acc: 0.9829 - val_loss: 0.0476 - val_acc: 0.9824\n",
      "Epoch 4/4\n",
      "143613/143613 [==============================] - 255s 2ms/step - loss: 0.0413 - acc: 0.9838 - val_loss: 0.0481 - val_acc: 0.9828\n"
     ]
    }
   ],
   "source": [
    "history = model.fit(X_train, y_train, batch_size=32, epochs=4, validation_split=0.1)"
   ]
  },
  {
   "cell_type": "code",
   "execution_count": null,
   "metadata": {},
   "outputs": [],
   "source": []
  },
  {
   "cell_type": "markdown",
   "metadata": {},
   "source": [
    "## 6.BiGRU+Pool"
   ]
  },
  {
   "cell_type": "code",
   "execution_count": 151,
   "metadata": {},
   "outputs": [],
   "source": [
    "from keras.layers import SpatialDropout1D, GlobalAveragePooling1D, GlobalMaxPooling1D, GRU"
   ]
  },
  {
   "cell_type": "code",
   "execution_count": 152,
   "metadata": {},
   "outputs": [],
   "source": [
    "inp = Input(shape=(maxlen, ))\n",
    "x = Embedding(max_features, embed_size, weights=[embedding_matrix])(inp)\n",
    "x = SpatialDropout1D(0.2)(x)\n",
    "x = Bidirectional(GRU(80, return_sequences=True))(x)\n",
    "avg_pool = GlobalAveragePooling1D()(x)\n",
    "max_pool = GlobalMaxPooling1D()(x)\n",
    "conc = concatenate([avg_pool, max_pool])\n",
    "outp = Dense(6, activation=\"sigmoid\")(conc)\n",
    "\n",
    "model = Model(inputs=inp, outputs=outp)\n",
    "model.compile(loss='binary_crossentropy',\n",
    "              optimizer='adam',\n",
    "              metrics=['accuracy'])"
   ]
  },
  {
   "cell_type": "code",
   "execution_count": 153,
   "metadata": {},
   "outputs": [
    {
     "name": "stdout",
     "output_type": "stream",
     "text": [
      "Train on 143613 samples, validate on 15958 samples\n",
      "Epoch 1/2\n",
      "143613/143613 [==============================] - 766s 5ms/step - loss: 0.0587 - acc: 0.9795 - val_loss: 0.0486 - val_acc: 0.9820\n",
      "Epoch 2/2\n",
      "143613/143613 [==============================] - 652s 5ms/step - loss: 0.0446 - acc: 0.9831 - val_loss: 0.0458 - val_acc: 0.9830\n"
     ]
    }
   ],
   "source": [
    "history = model.fit(X_train, y_train, batch_size=32, epochs=2, validation_split=0.1)"
   ]
  },
  {
   "cell_type": "code",
   "execution_count": null,
   "metadata": {},
   "outputs": [],
   "source": []
  }
 ],
 "metadata": {
  "kernelspec": {
   "display_name": "Python 3",
   "language": "python",
   "name": "python3"
  },
  "language_info": {
   "codemirror_mode": {
    "name": "ipython",
    "version": 3
   },
   "file_extension": ".py",
   "mimetype": "text/x-python",
   "name": "python",
   "nbconvert_exporter": "python",
   "pygments_lexer": "ipython3",
   "version": "3.7.7"
  },
  "toc": {
   "base_numbering": 1,
   "nav_menu": {},
   "number_sections": true,
   "sideBar": true,
   "skip_h1_title": false,
   "title_cell": "Table of Contents",
   "title_sidebar": "Contents",
   "toc_cell": false,
   "toc_position": {},
   "toc_section_display": true,
   "toc_window_display": true
  },
  "varInspector": {
   "cols": {
    "lenName": 16,
    "lenType": 16,
    "lenVar": 40
   },
   "kernels_config": {
    "python": {
     "delete_cmd_postfix": "",
     "delete_cmd_prefix": "del ",
     "library": "var_list.py",
     "varRefreshCmd": "print(var_dic_list())"
    },
    "r": {
     "delete_cmd_postfix": ") ",
     "delete_cmd_prefix": "rm(",
     "library": "var_list.r",
     "varRefreshCmd": "cat(var_dic_list()) "
    }
   },
   "types_to_exclude": [
    "module",
    "function",
    "builtin_function_or_method",
    "instance",
    "_Feature"
   ],
   "window_display": false
  }
 },
 "nbformat": 4,
 "nbformat_minor": 2
}
