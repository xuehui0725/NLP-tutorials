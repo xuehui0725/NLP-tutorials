{
 "cells": [
  {
   "cell_type": "markdown",
   "metadata": {
    "toc": true
   },
   "source": [
    "<h1>Table of Contents<span class=\"tocSkip\"></span></h1>\n",
    "<div class=\"toc\"><ul class=\"toc-item\"><li><span><a href=\"#原始语料\" data-toc-modified-id=\"原始语料-1\"><span class=\"toc-item-num\">1&nbsp;&nbsp;</span>原始语料</a></span><ul class=\"toc-item\"><li><span><a href=\"#文本预处理\" data-toc-modified-id=\"文本预处理-1.1\"><span class=\"toc-item-num\">1.1&nbsp;&nbsp;</span>文本预处理</a></span></li><li><span><a href=\"#创建词汇表\" data-toc-modified-id=\"创建词汇表-1.2\"><span class=\"toc-item-num\">1.2&nbsp;&nbsp;</span>创建词汇表</a></span></li><li><span><a href=\"#文本转换成数值\" data-toc-modified-id=\"文本转换成数值-1.3\"><span class=\"toc-item-num\">1.3&nbsp;&nbsp;</span>文本转换成数值</a></span></li><li><span><a href=\"#标签转换为数值\" data-toc-modified-id=\"标签转换为数值-1.4\"><span class=\"toc-item-num\">1.4&nbsp;&nbsp;</span>标签转换为数值</a></span></li><li><span><a href=\"#删除空文本\" data-toc-modified-id=\"删除空文本-1.5\"><span class=\"toc-item-num\">1.5&nbsp;&nbsp;</span>删除空文本</a></span></li></ul></li><li><span><a href=\"#输入数据\" data-toc-modified-id=\"输入数据-2\"><span class=\"toc-item-num\">2&nbsp;&nbsp;</span>输入数据</a></span><ul class=\"toc-item\"><li><span><a href=\"#输入向量等长处理\" data-toc-modified-id=\"输入向量等长处理-2.1\"><span class=\"toc-item-num\">2.1&nbsp;&nbsp;</span>输入向量等长处理</a></span></li><li><span><a href=\"#拆分数据集\" data-toc-modified-id=\"拆分数据集-2.2\"><span class=\"toc-item-num\">2.2&nbsp;&nbsp;</span>拆分数据集</a></span></li><li><span><a href=\"#创建数据管道\" data-toc-modified-id=\"创建数据管道-2.3\"><span class=\"toc-item-num\">2.3&nbsp;&nbsp;</span>创建数据管道</a></span></li></ul></li><li><span><a href=\"#创建分类模型\" data-toc-modified-id=\"创建分类模型-3\"><span class=\"toc-item-num\">3&nbsp;&nbsp;</span>创建分类模型</a></span><ul class=\"toc-item\"><li><span><a href=\"#定义模型\" data-toc-modified-id=\"定义模型-3.1\"><span class=\"toc-item-num\">3.1&nbsp;&nbsp;</span>定义模型</a></span></li><li><span><a href=\"#训练模型\" data-toc-modified-id=\"训练模型-3.2\"><span class=\"toc-item-num\">3.2&nbsp;&nbsp;</span>训练模型</a></span></li><li><span><a href=\"#评估模型性能\" data-toc-modified-id=\"评估模型性能-3.3\"><span class=\"toc-item-num\">3.3&nbsp;&nbsp;</span>评估模型性能</a></span></li></ul></li><li><span><a href=\"#利用模型进行预测\" data-toc-modified-id=\"利用模型进行预测-4\"><span class=\"toc-item-num\">4&nbsp;&nbsp;</span>利用模型进行预测</a></span></li></ul></div>"
   ]
  },
  {
   "cell_type": "code",
   "execution_count": 2,
   "metadata": {
    "ExecuteTime": {
     "end_time": "2020-04-23T06:56:50.990717Z",
     "start_time": "2020-04-23T06:56:50.988605Z"
    }
   },
   "outputs": [],
   "source": [
    "import string\n",
    "from collections import Counter\n",
    "import numpy as np\n"
   ]
  },
  {
   "cell_type": "markdown",
   "metadata": {},
   "source": [
    "# 原始语料"
   ]
  },
  {
   "cell_type": "code",
   "execution_count": 3,
   "metadata": {
    "ExecuteTime": {
     "end_time": "2020-04-23T06:56:51.029139Z",
     "start_time": "2020-04-23T06:56:50.991586Z"
    }
   },
   "outputs": [
    {
     "name": "stdout",
     "output_type": "stream",
     "text": [
      "Example of reviews:\n",
      "bromwell high is a cartoon comedy . it ran at the same time as some other programs about school life  such as  teachers  . my   years in the teaching profession lead me to believe that bromwell high  s satire is much closer to reality than is  teachers  . the scramble to survive financially  the insightful students who can see right through their pathetic teachers  pomp  the pettiness of the whole situation  all remind me of the schools i knew and their students . when i saw the episode in which a student repeatedly tried to burn down the school  i immediately recalled . . . . . . . . . at . . . . . . . . . . high . a classic line inspector i  m here to sack one of your teachers . student welcome to bromwell high . i expect that many adults of my age think that bromwell high is far fetched . what a pity that it isn  t   \n",
      "story of a man who has unnatural feelings for a pig . starts out with a opening scene that is a terrific example of absurd comedy . a formal orchestra audience is turn\n",
      "================================================================================\n",
      "Labels:\n",
      "positive\n",
      "negative\n",
      "po\n"
     ]
    }
   ],
   "source": [
    "with open('datasets/reviews.txt', 'r') as f:\n",
    "    reviews = f.read()\n",
    "with open('datasets/labels.txt', 'r') as f:\n",
    "    labels = f.read()\n",
    "\n",
    "print(\"Example of reviews:\")\n",
    "print(reviews[:1000])\n",
    "print(\"=\" * 80)\n",
    "print(\"Labels:\")\n",
    "print(labels[:20])"
   ]
  },
  {
   "cell_type": "markdown",
   "metadata": {},
   "source": [
    "## 文本预处理"
   ]
  },
  {
   "cell_type": "code",
   "execution_count": 4,
   "metadata": {
    "ExecuteTime": {
     "end_time": "2020-04-23T06:56:52.669451Z",
     "start_time": "2020-04-23T06:56:51.030456Z"
    }
   },
   "outputs": [
    {
     "name": "stdout",
     "output_type": "stream",
     "text": [
      "No. of reviews: 25001\n"
     ]
    },
    {
     "data": {
      "text/plain": [
       "('bromwell high is a cartoon comedy  it ran at the same time as some other programs about school life  such as  teachers   my   years in the teaching profession lead me to believe that bromwell high  s satire is much closer to reality than is  teachers   the scramble to survive financially  the insightful students who can see right through their pathetic teachers  pomp  the pettiness of the whole situation  all remind me of the schools i knew and their students  when i saw the episode in which a student repeatedly tried to burn down the school  i immediately recalled          at           high  a classic line inspector i  m here to sack one of your teachers  student welcome to bromwell high  i expect that many adults of my age think that bromwell high is far fetched  what a pity that it isn  t   ',\n",
       " '')"
      ]
     },
     "execution_count": 4,
     "metadata": {},
     "output_type": "execute_result"
    }
   ],
   "source": [
    "# 大写转小写\n",
    "reviews = reviews.lower()\n",
    "\n",
    "# 删除标点符号\n",
    "all_text = ''.join([char for char in reviews if char not in string.punctuation]) \n",
    "\n",
    "# 句子列表\n",
    "reviews_split = all_text.split('\\n')\n",
    "print(\"No. of reviews:\", len(reviews_split))\n",
    "\n",
    "\n",
    "reviews_split[0], reviews_split[-1]"
   ]
  },
  {
   "cell_type": "markdown",
   "metadata": {},
   "source": [
    "## 创建词汇表"
   ]
  },
  {
   "cell_type": "code",
   "execution_count": 5,
   "metadata": {
    "ExecuteTime": {
     "end_time": "2020-04-23T06:56:52.898284Z",
     "start_time": "2020-04-23T06:56:52.670479Z"
    }
   },
   "outputs": [
    {
     "name": "stdout",
     "output_type": "stream",
     "text": [
      "['bromwell', 'high', 'is', 'a', 'cartoon', 'comedy', 'it', 'ran', 'at', 'the', 'same', 'time', 'as', 'some', 'other', 'programs', 'about', 'school', 'life', 'such']\n"
     ]
    }
   ],
   "source": [
    "# 单词列表\n",
    "all_text = ' '.join(reviews_split)\n",
    "words = all_text.split()  \n",
    "print(words[:20])"
   ]
  },
  {
   "cell_type": "code",
   "execution_count": 6,
   "metadata": {
    "ExecuteTime": {
     "end_time": "2020-04-23T06:56:53.336376Z",
     "start_time": "2020-04-23T06:56:52.899273Z"
    }
   },
   "outputs": [],
   "source": [
    "# 创建词汇表，及单词-索引字典\n",
    "\n",
    "counts = Counter(words)\n",
    "vocab = sorted(counts, key=counts.get, reverse=True)  # 按词频排序\n",
    "vocab_to_int = {word: ii for ii, word in enumerate(vocab, 1)}\n"
   ]
  },
  {
   "cell_type": "markdown",
   "metadata": {
    "ExecuteTime": {
     "end_time": "2020-04-23T06:51:36.000775Z",
     "start_time": "2020-04-23T06:51:35.995611Z"
    }
   },
   "source": [
    "## 文本转换成数值"
   ]
  },
  {
   "cell_type": "code",
   "execution_count": 7,
   "metadata": {
    "ExecuteTime": {
     "end_time": "2020-04-23T06:56:54.067492Z",
     "start_time": "2020-04-23T06:56:53.337486Z"
    }
   },
   "outputs": [],
   "source": [
    "# 文本向量化，每个句子转化成单词索引列表\n",
    "reviews_ints = []\n",
    "for review in reviews_split:\n",
    "    reviews_ints.append([vocab_to_int[word] for word in review.split()])"
   ]
  },
  {
   "cell_type": "markdown",
   "metadata": {},
   "source": [
    "## 标签转换为数值"
   ]
  },
  {
   "cell_type": "code",
   "execution_count": 8,
   "metadata": {
    "ExecuteTime": {
     "end_time": "2020-04-23T06:56:54.074104Z",
     "start_time": "2020-04-23T06:56:54.068415Z"
    }
   },
   "outputs": [
    {
     "data": {
      "text/plain": [
       "''"
      ]
     },
     "execution_count": 8,
     "metadata": {},
     "output_type": "execute_result"
    }
   ],
   "source": [
    "# 标签转化成类别\n",
    "labels_split = labels.split('\\n')\n",
    "encoded_labels = np.array(\n",
    "    [1 if label == 'positive' else 0 for label in labels_split])\n",
    "\n",
    "labels_split[-1]  # 预处理不彻底"
   ]
  },
  {
   "cell_type": "markdown",
   "metadata": {},
   "source": [
    "## 删除空文本 "
   ]
  },
  {
   "cell_type": "code",
   "execution_count": 9,
   "metadata": {
    "ExecuteTime": {
     "end_time": "2020-04-23T06:56:54.079251Z",
     "start_time": "2020-04-23T06:56:54.074920Z"
    }
   },
   "outputs": [
    {
     "name": "stdout",
     "output_type": "stream",
     "text": [
      "Zero-length reviews: 1\n",
      "Maximum review length: 2514\n"
     ]
    }
   ],
   "source": [
    "# 文本中的句子长度\n",
    "review_lens = Counter([len(x) for x in reviews_ints])\n",
    "print(\"Zero-length reviews: {}\".format(review_lens[0]))\n",
    "print(\"Maximum review length: {}\".format(max(review_lens)))"
   ]
  },
  {
   "cell_type": "code",
   "execution_count": 10,
   "metadata": {
    "ExecuteTime": {
     "end_time": "2020-04-23T06:56:54.089426Z",
     "start_time": "2020-04-23T06:56:54.080856Z"
    }
   },
   "outputs": [
    {
     "name": "stdout",
     "output_type": "stream",
     "text": [
      "Number of reviews before removing outliers:  25001\n",
      "Number of reviews after removing outliers:  25000\n"
     ]
    }
   ],
   "source": [
    "# 删除长度为 0 的句子\n",
    "\n",
    "print(\"Number of reviews before removing outliers: \", len(reviews_ints))\n",
    "non_zero_idx = [\n",
    "    ii for ii, review in enumerate(reviews_ints) if len(review) != 0\n",
    "]\n",
    "\n",
    "reviews_ints = [reviews_ints[ii] for ii in non_zero_idx]\n",
    "encoded_labels = np.array([encoded_labels[ii] for ii in non_zero_idx])\n",
    "\n",
    "print(\"Number of reviews after removing outliers: \", len(reviews_ints))"
   ]
  },
  {
   "cell_type": "markdown",
   "metadata": {},
   "source": [
    "#  输入数据"
   ]
  },
  {
   "cell_type": "markdown",
   "metadata": {},
   "source": [
    "##  输入向量等长处理"
   ]
  },
  {
   "cell_type": "code",
   "execution_count": 11,
   "metadata": {
    "ExecuteTime": {
     "end_time": "2020-04-23T06:56:54.346591Z",
     "start_time": "2020-04-23T06:56:54.090714Z"
    }
   },
   "outputs": [
    {
     "name": "stdout",
     "output_type": "stream",
     "text": [
      "[[    0     0     0     0     0     0     0     0     0     0]\n",
      " [    0     0     0     0     0     0     0     0     0     0]\n",
      " [22382    42 46418    15   706 17139  3389    47    77    35]\n",
      " [ 4505   505    15     3  3342   162  8312  1652     6  4819]\n",
      " [    0     0     0     0     0     0     0     0     0     0]\n",
      " [    0     0     0     0     0     0     0     0     0     0]\n",
      " [    0     0     0     0     0     0     0     0     0     0]\n",
      " [    0     0     0     0     0     0     0     0     0     0]\n",
      " [    0     0     0     0     0     0     0     0     0     0]\n",
      " [   54    10    14   116    60   798   552    71   364     5]]\n"
     ]
    }
   ],
   "source": [
    "# 将所有句子处理成相同长度\n",
    "# 过长则截短，过短则在句首填充 0 \n",
    "\n",
    "def pad_features(reviews_ints, seq_length):\n",
    "    features = np.zeros((len(reviews_ints), seq_length), dtype=int)\n",
    "    for i, row in enumerate(reviews_ints):\n",
    "        features[i, -len(row):] = np.array(row)[:seq_length]\n",
    "    return features\n",
    "\n",
    "\n",
    "seq_length = 200\n",
    "features = pad_features(reviews_ints, seq_length=seq_length)\n",
    "\n",
    "assert len(features) == len(reviews_ints)\n",
    "assert len(features[0]) == seq_length\n",
    "\n",
    "print(features[:10, :10])"
   ]
  },
  {
   "cell_type": "markdown",
   "metadata": {},
   "source": [
    "## 拆分数据集"
   ]
  },
  {
   "cell_type": "code",
   "execution_count": 12,
   "metadata": {
    "ExecuteTime": {
     "end_time": "2020-04-23T06:56:54.350984Z",
     "start_time": "2020-04-23T06:56:54.347420Z"
    }
   },
   "outputs": [
    {
     "name": "stdout",
     "output_type": "stream",
     "text": [
      "Feature Shapes:\n",
      "Train set:        \t(20000, 200) \n",
      "Validation set: \t(2500, 200) \n",
      "Test set:       \t(2500, 200)\n"
     ]
    }
   ],
   "source": [
    "# 拆分数据集，(train:val:test)--(0.8:0.1:0.1)\n",
    "\n",
    "split_frac = 0.8\n",
    "split_idx = int(len(features) * 0.8)\n",
    "\n",
    "train_x, remaining_x = features[:split_idx], features[split_idx:]\n",
    "train_y, remaining_y = encoded_labels[:split_idx], encoded_labels[split_idx:]\n",
    "\n",
    "test_idx = int(len(remaining_x) * 0.5)\n",
    "val_x, test_x = remaining_x[:test_idx], remaining_x[test_idx:]\n",
    "val_y, test_y = remaining_y[:test_idx], remaining_y[test_idx:]\n",
    "\n",
    "print(\"Feature Shapes:\")\n",
    "print(\"Train set:        \\t{}\".format(train_x.shape),\n",
    "      \"\\nValidation set: \\t{}\".format(val_x.shape),\n",
    "      \"\\nTest set:       \\t{}\".format(test_x.shape))"
   ]
  },
  {
   "cell_type": "markdown",
   "metadata": {},
   "source": [
    "## 创建数据管道"
   ]
  },
  {
   "cell_type": "code",
   "execution_count": 13,
   "metadata": {
    "ExecuteTime": {
     "end_time": "2020-04-23T06:56:54.880726Z",
     "start_time": "2020-04-23T06:56:54.351746Z"
    }
   },
   "outputs": [],
   "source": [
    "import torch\n",
    "from torch.utils.data import TensorDataset, DataLoader"
   ]
  },
  {
   "cell_type": "code",
   "execution_count": 14,
   "metadata": {
    "ExecuteTime": {
     "end_time": "2020-04-23T06:56:54.886200Z",
     "start_time": "2020-04-23T06:56:54.881810Z"
    }
   },
   "outputs": [],
   "source": [
    "# 创建数据管道\n",
    "train_data = TensorDataset(torch.from_numpy(train_x),\n",
    "                           torch.from_numpy(train_y))\n",
    "valid_data = TensorDataset(torch.from_numpy(val_x), torch.from_numpy(val_y))\n",
    "test_data = TensorDataset(torch.from_numpy(test_x), torch.from_numpy(test_y))\n",
    "\n",
    "batch_size = 50\n",
    "\n",
    "train_loader = DataLoader(train_data, shuffle=True, batch_size=batch_size)\n",
    "valid_loader = DataLoader(valid_data, shuffle=True, batch_size=batch_size)\n",
    "test_loader = DataLoader(test_data, shuffle=True, batch_size=batch_size)"
   ]
  },
  {
   "cell_type": "code",
   "execution_count": 15,
   "metadata": {
    "ExecuteTime": {
     "end_time": "2020-04-23T06:56:54.897696Z",
     "start_time": "2020-04-23T06:56:54.886927Z"
    }
   },
   "outputs": [
    {
     "name": "stdout",
     "output_type": "stream",
     "text": [
      "Sample input size:  torch.Size([50, 200])\n",
      "Sample input: \n",
      " tensor([[    1,   104,     4,  ...,  6934,    22, 35707],\n",
      "        [    0,     0,     0,  ...,    71,  4592, 27094],\n",
      "        [    0,     0,     0,  ...,     5,    29,   499],\n",
      "        ...,\n",
      "        [  101,   869,    49,  ...,    15,     3,   492],\n",
      "        [   72,    72,    72,  ...,     5,   550,    22],\n",
      "        [    1,  1006,   368,  ...,   325,   625,  1915]])\n",
      "\n",
      "Sample label size:  torch.Size([50])\n",
      "Sample label: \n",
      " tensor([0, 1, 1, 0, 1, 0, 1, 0, 0, 1, 1, 1, 1, 1, 0, 1, 1, 0, 1, 0, 1, 0, 0, 1,\n",
      "        1, 1, 1, 0, 1, 1, 1, 0, 1, 1, 1, 0, 1, 0, 0, 0, 1, 1, 1, 1, 1, 1, 0, 1,\n",
      "        0, 1])\n"
     ]
    }
   ],
   "source": [
    "dataiter = iter(train_loader)\n",
    "sample_x, sample_y = dataiter.next()\n",
    "\n",
    "print(\"Sample input size: \", sample_x.size())\n",
    "print(\"Sample input: \\n\", sample_x)\n",
    "print()\n",
    "print(\"Sample label size: \", sample_y.size())\n",
    "print(\"Sample label: \\n\", sample_y)"
   ]
  },
  {
   "cell_type": "code",
   "execution_count": null,
   "metadata": {},
   "outputs": [],
   "source": []
  },
  {
   "cell_type": "markdown",
   "metadata": {},
   "source": [
    "# 创建分类模型\n",
    "![](images/network_diagram.png)"
   ]
  },
  {
   "cell_type": "code",
   "execution_count": 16,
   "metadata": {
    "ExecuteTime": {
     "end_time": "2020-04-23T06:57:36.985136Z",
     "start_time": "2020-04-23T06:57:36.961622Z"
    }
   },
   "outputs": [
    {
     "name": "stdout",
     "output_type": "stream",
     "text": [
      "Training on GPU.\n"
     ]
    }
   ],
   "source": [
    "# 指定 gpu\n",
    "train_on_gpu = torch.cuda.is_available()\n",
    "if train_on_gpu:\n",
    "    print(\"Training on GPU.\")\n",
    "else:\n",
    "    print(\"No GPU avaliable, training on CPU.\")"
   ]
  },
  {
   "cell_type": "markdown",
   "metadata": {},
   "source": [
    "## 定义模型"
   ]
  },
  {
   "cell_type": "code",
   "execution_count": 20,
   "metadata": {
    "ExecuteTime": {
     "end_time": "2020-04-23T07:37:32.891315Z",
     "start_time": "2020-04-23T07:37:32.881508Z"
    }
   },
   "outputs": [],
   "source": [
    "import torch.nn as nn\n",
    "\n",
    "\n",
    "class SentimentRNN(nn.Module):\n",
    "    def __init__(self,\n",
    "                 vocab_size,\n",
    "                 output_size,\n",
    "                 embedding_dim,\n",
    "                 hidden_dim,\n",
    "                 n_layers,\n",
    "                 drop_prob=0.5):\n",
    "        super(SentimentRNN, self).__init__()\n",
    "        self.output_size = output_size\n",
    "        self.n_layers = n_layers\n",
    "        self.hidden_dim = hidden_dim\n",
    "\n",
    "        self.embedding = nn.Embedding(vocab_size, embedding_dim)\n",
    "        self.lstm = nn.LSTM(\n",
    "            embedding_dim,\n",
    "            hidden_dim,\n",
    "            n_layers,\n",
    "            dropout=drop_prob,\n",
    "            batch_first=True,  # 输入:batch,seq,feature\n",
    "        )\n",
    "        self.dropout = nn.Dropout(0.3)\n",
    "        self.fc = nn.Linear(hidden_dim, output_size)\n",
    "        self.sig = nn.Sigmoid()\n",
    "\n",
    "    def forward(self, x, hidden):\n",
    "        batch_size = x.size(0)\n",
    "\n",
    "        x = x.long()  # batch,seq\n",
    "        embeds = self.embedding(x)  # batch,seq,feature\n",
    "        lstm_out, hidden = self.lstm(embeds,\n",
    "                                     hidden)  # lstm_out：batch,seq,hidden\n",
    "\n",
    "        # .contiguous() 将tensor变成在内存中连续分布的形式\n",
    "        # .view() 操作的对象，内存中连续的\n",
    "        lstm_out = lstm_out.contiguous().view(-1, self.hidden_dim)\n",
    "        # batch*seq, hidden\n",
    "\n",
    "        out = self.dropout(lstm_out)  # batch*seq, hidden\n",
    "        out = self.fc(out)  # batch*seq, 1\n",
    "\n",
    "        sig_out = self.sig(out)  # batch*seq, 1\n",
    "\n",
    "        # reshape to be batch_size first\n",
    "        sig_out = sig_out.view(batch_size, -1)  # batch,seq\n",
    "        sig_out = sig_out[:, -1]  # 选择最后一个输出\n",
    "        return sig_out, hidden\n",
    "\n",
    "    def init_hidden(self, batch_size):\n",
    "        weight = next(self.parameters()).data\n",
    "        if train_on_gpu:\n",
    "            hidden = (weight.new(self.n_layers, batch_size,\n",
    "                                 self.hidden_dim).zero_().cuda(),\n",
    "                      weight.new(self.n_layers, batch_size,\n",
    "                                 self.hidden_dim).zero_().cuda())\n",
    "        else:\n",
    "            hidden = (weight.new(self.n_layers, batch_size,\n",
    "                                 self.hidden_dim).zero_(),\n",
    "                      weight.new(self.n_layers, batch_size,\n",
    "                                 self.hidden_dim).zero_())\n",
    "        return hidden"
   ]
  },
  {
   "cell_type": "code",
   "execution_count": null,
   "metadata": {},
   "outputs": [],
   "source": []
  },
  {
   "cell_type": "code",
   "execution_count": 21,
   "metadata": {
    "ExecuteTime": {
     "end_time": "2020-04-23T07:37:37.160359Z",
     "start_time": "2020-04-23T07:37:36.974605Z"
    }
   },
   "outputs": [
    {
     "name": "stdout",
     "output_type": "stream",
     "text": [
      "SentimentRNN(\n",
      "  (embedding): Embedding(74073, 400)\n",
      "  (lstm): LSTM(400, 256, num_layers=2, batch_first=True, dropout=0.5)\n",
      "  (dropout): Dropout(p=0.3, inplace=False)\n",
      "  (fc): Linear(in_features=256, out_features=1, bias=True)\n",
      "  (sig): Sigmoid()\n",
      ")\n"
     ]
    }
   ],
   "source": [
    "# 模型参数\n",
    "vocab_size = len(vocab_to_int) + 1\n",
    "output_size = 1\n",
    "embedding_dim = 400\n",
    "hidden_dim = 256\n",
    "n_layers = 2\n",
    "\n",
    "# 创建模型\n",
    "net = SentimentRNN(\n",
    "    vocab_size,\n",
    "    output_size,\n",
    "    embedding_dim,\n",
    "    hidden_dim,\n",
    "    n_layers,\n",
    ")\n",
    "print(net)"
   ]
  },
  {
   "cell_type": "markdown",
   "metadata": {},
   "source": [
    "## 训练模型\n"
   ]
  },
  {
   "cell_type": "code",
   "execution_count": 22,
   "metadata": {
    "ExecuteTime": {
     "end_time": "2020-04-23T07:38:34.630212Z",
     "start_time": "2020-04-23T07:38:34.625167Z"
    }
   },
   "outputs": [],
   "source": [
    "# 损失函数和优化器\n",
    "lr = 0.001\n",
    "\n",
    "criterion = nn.BCELoss()\n",
    "optimzer = torch.optim.Adam(net.parameters(), lr=lr)"
   ]
  },
  {
   "cell_type": "code",
   "execution_count": 27,
   "metadata": {
    "ExecuteTime": {
     "end_time": "2020-04-23T07:52:47.097614Z",
     "start_time": "2020-04-23T07:52:03.468852Z"
    }
   },
   "outputs": [
    {
     "name": "stdout",
     "output_type": "stream",
     "text": [
      "Epoch: 1/4... Step: 400... Loss: 0.148913... Val Loss: 0.549996\n",
      "Epoch: 2/4... Step: 800... Loss: 0.138612... Val Loss: 0.693075\n",
      "Epoch: 3/4... Step: 1200... Loss: 0.018518... Val Loss: 0.752316\n",
      "Epoch: 4/4... Step: 1600... Loss: 0.042832... Val Loss: 0.832552\n"
     ]
    }
   ],
   "source": [
    "epochs = 4\n",
    "\n",
    "counter = 0\n",
    "print_every = 400\n",
    "clip = 5\n",
    "\n",
    "if train_on_gpu:\n",
    "    net.cuda()\n",
    "\n",
    "net.train()\n",
    "\n",
    "for e in range(epochs):\n",
    "    h = net.init_hidden(batch_size)  # 初始化 cell state + hidden state\n",
    "\n",
    "    for inputs, labels in train_loader:\n",
    "        counter += 1\n",
    "        if train_on_gpu:\n",
    "            inputs, labels = inputs.cuda(), labels.cuda()\n",
    "\n",
    "        net.zero_grad()  # 梯度归零\n",
    "\n",
    "        h = tuple([each.data for each in h])  # (h0,c0)\n",
    "\n",
    "        output, h = net(inputs, h)  # 计算输出\n",
    "\n",
    "        loss = criterion(output.squeeze(), labels.float())  # 计算损失\n",
    "\n",
    "        loss.backward()  # 反向传播，计算梯度\n",
    "\n",
    "        nn.utils.clip_grad_norm_(net.parameters(), clip)  # 梯度裁剪，防止梯度保证\n",
    "\n",
    "        optimzer.step()  # 更新梯度\n",
    "\n",
    "        if counter % print_every == 0:\n",
    "\n",
    "            val_h = net.init_hidden(batch_size)\n",
    "            val_losses = []\n",
    "\n",
    "            net.eval()  # 评估模式\n",
    "\n",
    "            for inputs, labels in valid_loader:\n",
    "\n",
    "                # Creating new variables for the hidden state, otherwise\n",
    "                # we'd backprop through the entire training history\n",
    "                val_h = tuple([each.data for each in val_h])\n",
    "\n",
    "                if (train_on_gpu):\n",
    "                    inputs, labels = inputs.cuda(), labels.cuda()\n",
    "\n",
    "                output, val_h = net(inputs, val_h)\n",
    "\n",
    "                val_loss = criterion(output.squeeze(), labels.float())\n",
    "\n",
    "                val_losses.append(val_loss.item())\n",
    "\n",
    "            print(\"Epoch: {}/{}...\".format(e + 1, epochs),\n",
    "                  \"Step: {}...\".format(counter),\n",
    "                  \"Loss: {:.6f}...\".format(loss.item()),\n",
    "                  \"Val Loss: {:.6f}\".format(np.mean(val_losses)))\n",
    "            \n",
    "\n",
    "            net.train()  # 切换回训练模式\n",
    "            "
   ]
  },
  {
   "cell_type": "markdown",
   "metadata": {},
   "source": [
    "## 评估模型性能"
   ]
  },
  {
   "cell_type": "code",
   "execution_count": 29,
   "metadata": {
    "ExecuteTime": {
     "end_time": "2020-04-23T07:57:24.029389Z",
     "start_time": "2020-04-23T07:57:23.567744Z"
    }
   },
   "outputs": [
    {
     "name": "stdout",
     "output_type": "stream",
     "text": [
      "Test loss: 0.868\n",
      "Test accuracy: 0.792\n"
     ]
    }
   ],
   "source": [
    "\n",
    "test_losses = []  # 测试损失\n",
    "num_correct = 0  # 准确度\n",
    "\n",
    "# init hidden state\n",
    "h = net.init_hidden(batch_size)\n",
    "\n",
    "net.eval()  # 评估模式\n",
    "\n",
    "for inputs, labels in test_loader:\n",
    "\n",
    "    # 每次调用模型时都重新初始化单元状态，否者：单元状态保留上一次调用的值\n",
    "    h = tuple([each.data for each in h])\n",
    "\n",
    "    if (train_on_gpu):\n",
    "        inputs, labels = inputs.cuda(), labels.cuda()\n",
    "\n",
    "    # 预测\n",
    "    output, h = net(inputs, h)\n",
    "\n",
    "    # 计算损失\n",
    "    test_loss = criterion(output.squeeze(), labels.float())\n",
    "    test_losses.append(test_loss.item())\n",
    "\n",
    "    # 将概率转换成标签\n",
    "    pred = torch.round(output.squeeze())  # rounds to the nearest integer\n",
    "\n",
    "    # 正确率\n",
    "    correct_tensor = pred.eq(labels.float().view_as(pred))\n",
    "    correct = np.squeeze(\n",
    "        correct_tensor.numpy()) if not train_on_gpu else np.squeeze(\n",
    "            correct_tensor.cpu().numpy())\n",
    "    num_correct += np.sum(correct)\n",
    "\n",
    "# 测试集上的损失\n",
    "print(\"Test loss: {:.3f}\".format(np.mean(test_losses)))\n",
    "\n",
    "# 测试集上的精度\n",
    "test_acc = num_correct / len(test_loader.dataset)\n",
    "print(\"Test accuracy: {:.3f}\".format(test_acc))"
   ]
  },
  {
   "cell_type": "code",
   "execution_count": null,
   "metadata": {},
   "outputs": [],
   "source": []
  },
  {
   "cell_type": "markdown",
   "metadata": {},
   "source": [
    "# 利用模型进行预测"
   ]
  },
  {
   "cell_type": "code",
   "execution_count": 34,
   "metadata": {
    "ExecuteTime": {
     "end_time": "2020-04-23T08:04:12.280002Z",
     "start_time": "2020-04-23T08:04:12.274233Z"
    }
   },
   "outputs": [],
   "source": [
    "test_review_neg = 'The worst movie I have seen; acting was terrible and I want my money back. This movie had bad acting and the dialogue was slow.'"
   ]
  },
  {
   "cell_type": "code",
   "execution_count": 35,
   "metadata": {
    "ExecuteTime": {
     "end_time": "2020-04-23T08:04:13.509410Z",
     "start_time": "2020-04-23T08:04:13.506477Z"
    }
   },
   "outputs": [],
   "source": [
    "from string import punctuation\n",
    "\n",
    "# 输入文本预处理\n",
    "def tokenize_review(test_review):\n",
    "    test_review = test_review.lower()  # 转小写\n",
    "    \n",
    "    test_text = ''.join([c for c in test_review\n",
    "                         if c not in punctuation])  # 删除标点\n",
    "\n",
    "    test_words = test_text.split() # 分词\n",
    "\n",
    "    test_ints = [] # 文本数值化\n",
    "    test_ints.append([vocab_to_int[word] for word in test_words])\n",
    "\n",
    "    return test_ints"
   ]
  },
  {
   "cell_type": "code",
   "execution_count": 36,
   "metadata": {
    "ExecuteTime": {
     "end_time": "2020-04-23T08:04:18.015565Z",
     "start_time": "2020-04-23T08:04:18.009040Z"
    }
   },
   "outputs": [],
   "source": [
    "# 进行预测\n",
    "\n",
    "def predict(net, test_review, sequence_length=200):\n",
    "\n",
    "    net.eval()  # 模型进入评估模式\n",
    "\n",
    "    # 文本处理为向量\n",
    "    test_ints = tokenize_review(test_review)\n",
    "    seq_length = sequence_length\n",
    "    features = pad_features(test_ints, seq_length)\n",
    "\n",
    "    # 转换成张量\n",
    "    feature_tensor = torch.from_numpy(features)\n",
    "\n",
    "    batch_size = feature_tensor.size(0)\n",
    "\n",
    "    # 初始化 hidden state\n",
    "    h = net.init_hidden(batch_size)\n",
    "\n",
    "    if (train_on_gpu):\n",
    "        feature_tensor = feature_tensor.cuda()\n",
    "\n",
    "    # 获取输出\n",
    "    output, h = net(feature_tensor, h)\n",
    "    print('Prediction value, pre-rounding: {:.6f}'.format(output.item()))    \n",
    "\n",
    "    # 预测概率转为类别\n",
    "    pred = torch.round(output.squeeze())\n",
    "\n",
    "    if (pred.item() == 1):\n",
    "        print(\"Positive review detected!\")\n",
    "    else:\n",
    "        print(\"Negative review detected.\")"
   ]
  },
  {
   "cell_type": "code",
   "execution_count": 37,
   "metadata": {
    "ExecuteTime": {
     "end_time": "2020-04-23T08:04:19.247475Z",
     "start_time": "2020-04-23T08:04:19.241601Z"
    }
   },
   "outputs": [
    {
     "name": "stdout",
     "output_type": "stream",
     "text": [
      "Prediction value, pre-rounding: 0.000148\n",
      "Negative review detected.\n"
     ]
    }
   ],
   "source": [
    "predict(net, test_review_neg, seq_length)"
   ]
  }
 ],
 "metadata": {
  "kernelspec": {
   "display_name": "Python 3",
   "language": "python",
   "name": "python3"
  },
  "language_info": {
   "codemirror_mode": {
    "name": "ipython",
    "version": 3
   },
   "file_extension": ".py",
   "mimetype": "text/x-python",
   "name": "python",
   "nbconvert_exporter": "python",
   "pygments_lexer": "ipython3",
   "version": "3.7.7"
  },
  "toc": {
   "base_numbering": 1,
   "nav_menu": {},
   "number_sections": true,
   "sideBar": true,
   "skip_h1_title": false,
   "title_cell": "Table of Contents",
   "title_sidebar": "Contents",
   "toc_cell": true,
   "toc_position": {
    "height": "calc(100% - 180px)",
    "left": "10px",
    "top": "150px",
    "width": "165px"
   },
   "toc_section_display": true,
   "toc_window_display": true
  },
  "varInspector": {
   "cols": {
    "lenName": 16,
    "lenType": 16,
    "lenVar": 40
   },
   "kernels_config": {
    "python": {
     "delete_cmd_postfix": "",
     "delete_cmd_prefix": "del ",
     "library": "var_list.py",
     "varRefreshCmd": "print(var_dic_list())"
    },
    "r": {
     "delete_cmd_postfix": ") ",
     "delete_cmd_prefix": "rm(",
     "library": "var_list.r",
     "varRefreshCmd": "cat(var_dic_list()) "
    }
   },
   "types_to_exclude": [
    "module",
    "function",
    "builtin_function_or_method",
    "instance",
    "_Feature"
   ],
   "window_display": false
  }
 },
 "nbformat": 4,
 "nbformat_minor": 4
}
