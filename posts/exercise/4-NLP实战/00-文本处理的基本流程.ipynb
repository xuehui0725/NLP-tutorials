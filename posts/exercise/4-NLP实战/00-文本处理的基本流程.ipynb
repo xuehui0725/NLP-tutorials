{
 "cells": [
  {
   "cell_type": "markdown",
   "metadata": {},
   "source": [
    "# 文本处理的基本流程：\n",
    "1. 获取原始文本(Raw data)，如\n",
    "    - 网页文本\n",
    "    - 新闻\n",
    "    - 报告等\n",
    "2. 分词(Segmentation)\n",
    "    - 中英文处理方式不同\n",
    "    - 单词级分词，及更细粒度分词(WordPiece)\n",
    "3. 清洗(Cleaning)\n",
    "    - 删除无用的字符，如 HTML 标签等\n",
    "    - 删除特殊符号，如 `！@#￥&` 等\n",
    "    - 删除停用词，但要根据使用场景；如通常停用词，“啊”、“太好”等，在情感分析时不能删除\n",
    "    - 英语大写转小写，繁体中文转简体等等\n",
    "4. 标准化(Normalization):\n",
    "    - 英文单词的词干还原(Stemming, Lemmazation)\n",
    "5. 特征提取(Feature Extraction)\n",
    "    - tf-idf\n",
    "    - word2vec\n",
    "    - ...\n",
    "6. 建模(Modeling)\n",
    "    - 相似度算法\n",
    "    - 分类算法\n",
    "    - 情感分析算法\n",
    "    - ...\n",
    "7. 评估(Evaluation)"
   ]
  },
  {
   "cell_type": "code",
   "execution_count": null,
   "metadata": {},
   "outputs": [],
   "source": []
  }
 ],
 "metadata": {
  "kernelspec": {
   "display_name": "Python 3",
   "language": "python",
   "name": "python3"
  },
  "language_info": {
   "codemirror_mode": {
    "name": "ipython",
    "version": 3
   },
   "file_extension": ".py",
   "mimetype": "text/x-python",
   "name": "python",
   "nbconvert_exporter": "python",
   "pygments_lexer": "ipython3",
   "version": "3.7.4"
  },
  "toc": {
   "base_numbering": 1,
   "nav_menu": {},
   "number_sections": true,
   "sideBar": true,
   "skip_h1_title": false,
   "title_cell": "Table of Contents",
   "title_sidebar": "Contents",
   "toc_cell": false,
   "toc_position": {},
   "toc_section_display": true,
   "toc_window_display": false
  },
  "varInspector": {
   "cols": {
    "lenName": 16,
    "lenType": 16,
    "lenVar": 40
   },
   "kernels_config": {
    "python": {
     "delete_cmd_postfix": "",
     "delete_cmd_prefix": "del ",
     "library": "var_list.py",
     "varRefreshCmd": "print(var_dic_list())"
    },
    "r": {
     "delete_cmd_postfix": ") ",
     "delete_cmd_prefix": "rm(",
     "library": "var_list.r",
     "varRefreshCmd": "cat(var_dic_list()) "
    }
   },
   "types_to_exclude": [
    "module",
    "function",
    "builtin_function_or_method",
    "instance",
    "_Feature"
   ],
   "window_display": false
  }
 },
 "nbformat": 4,
 "nbformat_minor": 4
}
