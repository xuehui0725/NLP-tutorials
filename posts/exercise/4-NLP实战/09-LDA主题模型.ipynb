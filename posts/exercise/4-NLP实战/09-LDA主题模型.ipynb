{
 "cells": [
  {
   "cell_type": "markdown",
   "metadata": {},
   "source": [
    "# 什么是主题模型"
   ]
  },
  {
   "cell_type": "markdown",
   "metadata": {},
   "source": [
    "- 文本分类，如新闻属于科技类、体育类、还是经济类等等，基于词袋模型\n",
    "- LDA(Latent Dirichlet Allocation)，无监督的贝叶斯模型；\n",
    "    - 基于词袋模型，文档由一组词构成的一个集合，词与词之间没有顺序及先后的关系。\n",
    "    - 一篇文档可以包含多个主题，文档中每一个词都由其中的一个主题生成\n",
    "    \n",
    "    - 一种主题模型，将文档集中每篇文档的主题按照概率分布的形式给出；\n",
    "    - 无监督算法，在训练时不需要手工标注的训练集，需要的仅仅是文档集以及指定主题的数量k即可；\n",
    "    - 训练得到的模型，对于每一个主题都可找出一些词语描述它。\n",
    "    "
   ]
  },
  {
   "cell_type": "markdown",
   "metadata": {},
   "source": [
    "- 用概率作为可信度\n",
    "- 每次看见新数据，都更新可信度\n",
    "- 需要一个模型来解释数据的生成\n",
    "\n",
    "P(主题|文档) = P(主题)*P(文档|主题)\n",
    "后验概率，先验概率，似然概率(生成模型)\n",
    "\n",
    "一篇文章的每个词都是以一定概率选择了某个主题，并从这个主题中以一定概率选择某个词语而组成\n",
    "P(单词|文档)=P(单词|主题)*P(主题|文档)\n",
    "\n",
    "对于语库中的每篇文档，LDA 定义了如下生成过程(generative process)：\n",
    "- 对每一篇文档，从主题分布中抽取一个主题\n",
    "- 从上述被抽到的主题所对应的单词分布中抽取一个单词\n",
    "- 重复上述过程直至遍历⽂文档中的每一个单词\n",
    "\n",
    "具体来说：w代表单词；d代表文档；t代表主题；大写代表总集合，小写代表个体。\n",
    "- D 中每个文档 d 都可看作一个单词序列 $<w_1,w_2,...,w_n>$，$w_i$表示第 i 个单词\n",
    "- D 中涉及的所有不同单词组成一个词汇表V，LDA以文档集合D作为输入，希望训练出两个结果向量（假设形成 k 个主题，V中一共m个单词）\n",
    "    - 对D中的每个文档d，对应到不同主题的概率 $<p_{t_1},p_{t_2},...,p_{t_k}>$，其中，$p_{t_i}$ 表示d对应T中第i个主题的概率。$p_{t_i}=n_{t_i}/n$，其中 $n_{t_i}$ 表示 d 中对应第 i 个主题的词的数目，n 表示 d 中所有词的总数\n",
    "    - 对每个T中的主题，生成不同单词的概率$<p_{w_1},p_{w_2},...,p_{w_m}>$，其中，pwi 表示t生成V中第i个单词的概率。$p_{w_i} = N_{w_i}/N$，其中 $Nwi$ 表示对应到第 t 个主题的单词 wi 的数量，N表示对应到主题 t 的单词的总数\n",
    "    \n",
    "    \n",
    "$P(w|d)=P(w|t)*P(t|d)  $  "
   ]
  },
  {
   "cell_type": "markdown",
   "metadata": {},
   "source": [
    "### 给定以下句子：\n",
    "- `I like to eat broccoli and bananas.`\n",
    "- `I ate a banana and spinach smoothie for breakfast.`\n",
    "- `Chinchillas and kittens are cute.`\n",
    "- `My sister adopted a kitten yesterday.`\n",
    "- `Look at this cute hamster munching on a piece of broccoli.`\n",
    "    \n",
    "### LDA用来自动发现句子或文档包含的主题；\n",
    "例如，给定上述句子，已知主题数目为 2，`LDA`产生下述结果：\n",
    "- 句子 1 和 2：100% 属于主题 `A`\n",
    "- 句子 3 和 4：100% 属于主题 `B`\n",
    "- 句子 5：60% 主题 `A`，40% 主题 `B`\n",
    "- 主题 A：`30% broccoli, 15% bananas, 10% breakfast, 10% munching...`，可以认为主题 `A` 表示**食物**\n",
    "- 主题 B：`20% chinchillas, 20% kittens, 20% cute, 15% hamster...`，可以认为主题 `B` 表示**动物**\n",
    "\n",
    "### LDA模型假设每个文档按下列方式生成：\n",
    "- 每个文档可以描述成 `k` 个主题的概率分布，每个主题可以描述成单词集的概率分布\n",
    "- 决定每个文档的单词数 N，例如：**泊松分布**生成 N 的值\n",
    "- 为文档选择一个概率分布，例如：k 个主题，**Dirichlet分布**确定属于每个主题的概率，上例中的 1/3 的食物主题 + 2/3 的动物主题\n",
    "- 按以下方法，生成文档中的每个单词：\n",
    "    - 选择一个主题，1/3 的概率选择到食物主题，2/3 的概率选择到动物主题\n",
    "    - 使用上一步选择的主题，生成单词；例如，选择到食物主题，则 30% 概率生成 `broccoli`, 15% 概率生成 `bananas`\n",
    "    - 重复，直至生成所有 N 个单词\n",
    "- 生成句子过程如下：\n",
    "    - 选择文档单词数为 5\n",
    "    - 1/2 食物主题 + 1/2 动物主题\n",
    "    - 从食物主题中选择第1个单词，`broccoli`\n",
    "    - 从动物主题中选择第2个单词，`panda`\n",
    "    - 从动物主题中选择第3个单词，`adorable`\n",
    "    - 从食物主题中选择第4个单词，`cherries`\n",
    "    - 从动物主题中选择第5个单词，`eating`\n",
    "    - 生成的句子为：`broccoli panda adorable cherries eating`\n",
    "    \n",
    "\n",
    "### LDA的学习过程\n",
    "- 给定文档集合，已知有 `K` 个主题，LDA需要学习到每个文档的主题和与该主题相关的单词。\n",
    "- 一种方法，`Gibbs sampling`如下：\n",
    "    - 遍历每个文档，给每个单词随机分配一个主题；该随机初始化的过程，已经给出了每个文档的主题，和每个主题相关的单词分布\n",
    "    - 遍历每个文档 `d` 中的单词 `w`\n",
    "        - 对于每个主题 `t`，计算：1)$P(t|d)=\\frac{N_t}{N}$，$N_t$ 为文档 `d` 中分配给主题 `t` 的单词个数，$N$ 为文档 `d` 的总单词数；2)$P(w|t)=\\frac{N_w}{N}$，$N_w$ 为**所有文档**中所有的单词 `w` 中被分配给主题 `t` 的数量，$N$ 表示分配给主题 `t` 的单词总数\n",
    "        - 给单词 `w` 重新分配一个主题，选择任一主题 `t` 的概率为 $P(t|d)*P(w|t)$\n",
    "        - 在上一步中，是在假设所有的主题分配都是正确的，除了当前单词\n",
    "    - 重复上述步骤，直至稳定，即可获得每个文档的主题和每个主题对应的单词\n",
    "    \n",
    "### LDA的用途\n",
    "- 如上所述的文本分类，无监督学习\n",
    "- 降维，将词袋模型表征的文档向量`{Word_i: count(Word_i, T) for Word_i in Vocabulary}`，降维为`{Topic_i: Weight(Topic_i, T) for Topic_i in Topics}`"
   ]
  },
  {
   "cell_type": "markdown",
   "metadata": {},
   "source": [
    "# 希拉里邮件分类:gensim"
   ]
  },
  {
   "cell_type": "code",
   "execution_count": 1,
   "metadata": {
    "ExecuteTime": {
     "end_time": "2020-06-05T08:49:42.762805Z",
     "start_time": "2020-06-05T08:49:42.677153Z"
    }
   },
   "outputs": [],
   "source": [
    "import numpy as np\n",
    "import pandas as pd\n",
    "import re"
   ]
  },
  {
   "cell_type": "markdown",
   "metadata": {},
   "source": [
    "## 文本预处理"
   ]
  },
  {
   "cell_type": "code",
   "execution_count": 2,
   "metadata": {
    "ExecuteTime": {
     "end_time": "2020-06-05T08:49:44.556455Z",
     "start_time": "2020-06-05T08:49:44.414380Z"
    }
   },
   "outputs": [
    {
     "data": {
      "text/html": [
       "<div>\n",
       "<style scoped>\n",
       "    .dataframe tbody tr th:only-of-type {\n",
       "        vertical-align: middle;\n",
       "    }\n",
       "\n",
       "    .dataframe tbody tr th {\n",
       "        vertical-align: top;\n",
       "    }\n",
       "\n",
       "    .dataframe thead th {\n",
       "        text-align: right;\n",
       "    }\n",
       "</style>\n",
       "<table border=\"1\" class=\"dataframe\">\n",
       "  <thead>\n",
       "    <tr style=\"text-align: right;\">\n",
       "      <th></th>\n",
       "      <th>Id</th>\n",
       "      <th>ExtractedBodyText</th>\n",
       "    </tr>\n",
       "  </thead>\n",
       "  <tbody>\n",
       "    <tr>\n",
       "      <th>1</th>\n",
       "      <td>2</td>\n",
       "      <td>B6\\nThursday, March 3, 2011 9:45 PM\\nH: Latest...</td>\n",
       "    </tr>\n",
       "    <tr>\n",
       "      <th>2</th>\n",
       "      <td>3</td>\n",
       "      <td>Thx</td>\n",
       "    </tr>\n",
       "    <tr>\n",
       "      <th>4</th>\n",
       "      <td>5</td>\n",
       "      <td>H &lt;hrod17@clintonemail.com&gt;\\nFriday, March 11,...</td>\n",
       "    </tr>\n",
       "    <tr>\n",
       "      <th>5</th>\n",
       "      <td>6</td>\n",
       "      <td>Pis print.\\n-•-...-^\\nH &lt; hrod17@clintonernail...</td>\n",
       "    </tr>\n",
       "    <tr>\n",
       "      <th>7</th>\n",
       "      <td>8</td>\n",
       "      <td>H &lt;hrod17@clintonemail.corn&gt;\\nFriday, March 11...</td>\n",
       "    </tr>\n",
       "  </tbody>\n",
       "</table>\n",
       "</div>"
      ],
      "text/plain": [
       "   Id                                  ExtractedBodyText\n",
       "1   2  B6\\nThursday, March 3, 2011 9:45 PM\\nH: Latest...\n",
       "2   3                                                Thx\n",
       "4   5  H <hrod17@clintonemail.com>\\nFriday, March 11,...\n",
       "5   6  Pis print.\\n-•-...-^\\nH < hrod17@clintonernail...\n",
       "7   8  H <hrod17@clintonemail.corn>\\nFriday, March 11..."
      ]
     },
     "execution_count": 2,
     "metadata": {},
     "output_type": "execute_result"
    }
   ],
   "source": [
    "df = pd.read_csv(\"../datasets/HillaryEmails.csv\")\n",
    "df = df[['Id', 'ExtractedBodyText']].dropna()\n",
    "df.head()"
   ]
  },
  {
   "cell_type": "code",
   "execution_count": 3,
   "metadata": {
    "ExecuteTime": {
     "end_time": "2020-06-05T08:49:46.470010Z",
     "start_time": "2020-06-05T08:49:46.463496Z"
    }
   },
   "outputs": [],
   "source": [
    "def clean_email_text(text):\n",
    "    text = text.replace('\\n', \" \")  # 替换换行符\n",
    "    text = re.sub(r\"-\", \" \", text)  # 把 \"-\" 的两个单词，分开。（比如：july-edu ==> july edu）\n",
    "    text = re.sub(r\"\\d+/\\d+/\\d+\", \"\", text)  # 日期，对主体模型没什么意义\n",
    "    text = re.sub(r\"[0-2]?[0-9]:[0-6][0-9]\", \"\", text)  # 时间，没意义\n",
    "    text = re.sub(r\"[\\w]+@[\\.\\w]+\", \"\", text)  # 邮件地址，没意义\n",
    "    text = re.sub(\n",
    "        r\"/[a-zA-Z]*[:\\//\\]*[A-Za-z0-9\\-_]+\\.+[A-Za-z0-9\\.\\/%&=\\?\\-_]+/i\", \"\",\n",
    "        text)  # 网址，没意义\n",
    "    pure_text = ''\n",
    "    # 以防还有其他特殊字符（数字）等等，我们直接把他们loop一遍，过滤掉\n",
    "    for letter in text:\n",
    "        # 只留下字母和空格\n",
    "        if letter.isalpha() or letter == ' ':\n",
    "            pure_text += letter\n",
    "    # 再把那些去除特殊字符后落单的单词，直接排除。\n",
    "    # 我们就只剩下有意义的单词了。\n",
    "    text = ' '.join(word for word in pure_text.split() if len(word) > 1)\n",
    "    return text"
   ]
  },
  {
   "cell_type": "code",
   "execution_count": 4,
   "metadata": {
    "ExecuteTime": {
     "end_time": "2020-06-05T08:49:47.750785Z",
     "start_time": "2020-06-05T08:49:47.179972Z"
    }
   },
   "outputs": [
    {
     "data": {
      "text/plain": [
       "array(['Thursday March PM Latest How Syria is aiding Qaddafi and more Sid hrc memo syria aiding libya docx hrc memo syria aiding libya docx March For Hillary',\n",
       "       'Thx',\n",
       "       'Friday March PM Huma Abedin Fw Latest How Syria is aiding Qaddafi and more Sid hrc memo syria aiding libya docx Pis print',\n",
       "       'Pis print Wednesday September PM Fw Meet The Right Wing Extremist Behind Anti fvluslim Film That Sparked Deadly Riots From meat Sent Wednesday September PM To Subject Meet The Right Wing Extremist Behind Anti Muslim Film That Sparked Deadly Riots httemaxbiumenthalcommeet the right wing extremist behind anti musiim tihn that sparked deadly riots Sent from my Verizon Wireless LTE DROID US Department of State Case No Doc No Date STATE DEPT PRODUCED TO HOUSE SELECT BENGHAZI COMM SUBJECT TO AGREEMENT ON SENSITIVE INFORMATION REDACTIONS NO FOIA WAIVER STATE CB',\n",
       "       'Friday March PM Huma Abedin Fw Latest How Syria is aiding Qaddafi and more Sid hrc memo Syria aiding libya docx Pis print'],\n",
       "      dtype=object)"
      ]
     },
     "execution_count": 4,
     "metadata": {},
     "output_type": "execute_result"
    }
   ],
   "source": [
    "docs = df['ExtractedBodyText']\n",
    "docs = docs.apply(lambda s: clean_email_text(s))\n",
    "docs.head(5).values"
   ]
  },
  {
   "cell_type": "code",
   "execution_count": 5,
   "metadata": {
    "ExecuteTime": {
     "end_time": "2020-06-05T08:49:53.943890Z",
     "start_time": "2020-06-05T08:49:53.938274Z"
    }
   },
   "outputs": [
    {
     "data": {
      "text/plain": [
       "6742"
      ]
     },
     "execution_count": 5,
     "metadata": {},
     "output_type": "execute_result"
    }
   ],
   "source": [
    "doclist = docs.values\n",
    "len(doclist)"
   ]
  },
  {
   "cell_type": "markdown",
   "metadata": {},
   "source": [
    "## LDA模型"
   ]
  },
  {
   "cell_type": "code",
   "execution_count": 6,
   "metadata": {
    "ExecuteTime": {
     "end_time": "2020-06-05T08:49:56.388983Z",
     "start_time": "2020-06-05T08:49:56.089168Z"
    }
   },
   "outputs": [],
   "source": [
    "from gensim import corpora, models, similarities\n",
    "import gensim"
   ]
  },
  {
   "cell_type": "markdown",
   "metadata": {},
   "source": [
    "### 文本预处理"
   ]
  },
  {
   "cell_type": "code",
   "execution_count": 7,
   "metadata": {
    "ExecuteTime": {
     "end_time": "2020-06-05T08:49:58.661390Z",
     "start_time": "2020-06-05T08:49:58.652949Z"
    }
   },
   "outputs": [],
   "source": [
    "stoplist = [\n",
    "    'very', 'ourselves', 'am', 'doesn', 'through', 'me', 'against', 'up',\n",
    "    'just', 'her', 'ours', 'couldn', 'because', 'is', 'isn', 'it', 'only',\n",
    "    'in', 'such', 'too', 'mustn', 'under', 'their', 'if', 'to', 'my',\n",
    "    'himself', 'after', 'why', 'while', 'can', 'each', 'itself', 'his', 'all',\n",
    "    'once', 'herself', 'more', 'our', 'they', 'hasn', 'on', 'ma', 'them',\n",
    "    'its', 'where', 'did', 'll', 'you', 'didn', 'nor', 'as', 'now', 'before',\n",
    "    'those', 'yours', 'from', 'who', 'was', 'm', 'been', 'will', 'into',\n",
    "    'same', 'how', 'some', 'of', 'out', 'with', 's', 'being', 't', 'mightn',\n",
    "    'she', 'again', 'be', 'by', 'shan', 'have', 'yourselves', 'needn', 'and',\n",
    "    'are', 'o', 'these', 'further', 'most', 'yourself', 'having', 'aren',\n",
    "    'here', 'he', 'were', 'but', 'this', 'myself', 'own', 'we', 'so', 'i',\n",
    "    'does', 'both', 'when', 'between', 'd', 'had', 'the', 'y', 'has', 'down',\n",
    "    'off', 'than', 'haven', 'whom', 'wouldn', 'should', 've', 'over',\n",
    "    'themselves', 'few', 'then', 'hadn', 'what', 'until', 'won', 'no', 'about',\n",
    "    'any', 'that', 'for', 'shouldn', 'don', 'do', 'there', 'doing', 'an', 'or',\n",
    "    'ain', 'hers', 'wasn', 'weren', 'above', 'a', 'at', 'your', 'theirs',\n",
    "    'below', 'other', 'not', 're', 'him', 'during', 'which'\n",
    "]"
   ]
  },
  {
   "cell_type": "code",
   "execution_count": 8,
   "metadata": {
    "ExecuteTime": {
     "end_time": "2020-06-05T08:50:01.563142Z",
     "start_time": "2020-06-05T08:50:01.004192Z"
    }
   },
   "outputs": [],
   "source": [
    "# 将句子转化成单词列表\n",
    "texts = [[word for word in doc.lower().split() if word not in stoplist]\n",
    "         for doc in doclist]"
   ]
  },
  {
   "cell_type": "code",
   "execution_count": 9,
   "metadata": {
    "ExecuteTime": {
     "end_time": "2020-06-05T08:54:10.048179Z",
     "start_time": "2020-06-05T08:54:10.043137Z"
    }
   },
   "outputs": [
    {
     "name": "stdout",
     "output_type": "stream",
     "text": [
      "['thursday', 'march', 'pm', 'latest', 'syria', 'aiding', 'qaddafi', 'sid', 'hrc', 'memo', 'syria', 'aiding', 'libya', 'docx', 'hrc', 'memo', 'syria', 'aiding', 'libya', 'docx', 'march', 'hillary']\n"
     ]
    }
   ],
   "source": [
    "print(texts[0])"
   ]
  },
  {
   "cell_type": "code",
   "execution_count": 12,
   "metadata": {
    "ExecuteTime": {
     "end_time": "2020-06-05T08:55:31.915349Z",
     "start_time": "2020-06-05T08:55:31.552068Z"
    }
   },
   "outputs": [
    {
     "name": "stdout",
     "output_type": "stream",
     "text": [
      "[(508, 1), (1105, 1), (1240, 1), (1366, 1), (12077, 1), (14707, 1), (15952, 1), (23389, 1)]\n"
     ]
    }
   ],
   "source": [
    "# 词典\n",
    "dictionary = corpora.Dictionary(texts)\n",
    "\n",
    "# 将单词列表转换成向量\n",
    "corpus = [dictionary.doc2bow(text) for text in texts]\n",
    "\n",
    "# 返回每个 doc 对应的单词及词频\n",
    "print(corpus[5000])"
   ]
  },
  {
   "cell_type": "markdown",
   "metadata": {},
   "source": [
    "### 模型"
   ]
  },
  {
   "cell_type": "code",
   "execution_count": 13,
   "metadata": {
    "ExecuteTime": {
     "end_time": "2020-06-05T08:55:42.382080Z",
     "start_time": "2020-06-05T08:55:40.356804Z"
    }
   },
   "outputs": [],
   "source": [
    "# 训练模型\n",
    "lda = gensim.models.ldamodel.LdaModel(\n",
    "    corpus=corpus,\n",
    "    id2word=dictionary,\n",
    "    num_topics=20,\n",
    ")"
   ]
  },
  {
   "cell_type": "code",
   "execution_count": 14,
   "metadata": {
    "ExecuteTime": {
     "end_time": "2020-06-05T08:55:43.745101Z",
     "start_time": "2020-06-05T08:55:43.738845Z"
    }
   },
   "outputs": [
    {
     "data": {
      "text/plain": [
       "'0.059*\"ok\" + 0.022*\"israeli\" + 0.021*\"israel\" + 0.012*\"jerusalem\" + 0.011*\"israels\"'"
      ]
     },
     "execution_count": 14,
     "metadata": {},
     "output_type": "execute_result"
    }
   ],
   "source": [
    "# 打印第 i 个主题\n",
    "lda.print_topic(10, topn=5)"
   ]
  },
  {
   "cell_type": "code",
   "execution_count": 15,
   "metadata": {
    "ExecuteTime": {
     "end_time": "2020-06-05T08:55:46.100731Z",
     "start_time": "2020-06-05T08:55:46.092745Z"
    }
   },
   "outputs": [
    {
     "data": {
      "text/plain": [
       "[(19,\n",
       "  '0.012*\"labour\" + 0.008*\"pm\" + 0.008*\"would\" + 0.008*\"well\" + 0.007*\"best\"'),\n",
       " (3,\n",
       "  '0.078*\"pm\" + 0.040*\"office\" + 0.031*\"secretarys\" + 0.023*\"meeting\" + 0.022*\"room\"'),\n",
       " (7,\n",
       "  '0.018*\"pls\" + 0.015*\"discuss\" + 0.007*\"forgot\" + 0.007*\"hair\" + 0.006*\"call\"'),\n",
       " (4,\n",
       "  '0.015*\"im\" + 0.013*\"tomorrow\" + 0.012*\"call\" + 0.012*\"talk\" + 0.010*\"also\"'),\n",
       " (16,\n",
       "  '0.038*\"pm\" + 0.024*\"huma\" + 0.020*\"fw\" + 0.019*\"release\" + 0.019*\"part\"'),\n",
       " (17,\n",
       "  '0.041*\"yes\" + 0.015*\"add\" + 0.014*\"call\" + 0.012*\"website\" + 0.011*\"arizona\"'),\n",
       " (12,\n",
       "  '0.009*\"new\" + 0.007*\"would\" + 0.006*\"obama\" + 0.006*\"mr\" + 0.006*\"right\"'),\n",
       " (9,\n",
       "  '0.017*\"bloomberg\" + 0.008*\"state\" + 0.008*\"language\" + 0.005*\"us\" + 0.005*\"could\"'),\n",
       " (8,\n",
       "  '0.065*\"fyi\" + 0.015*\"cheryl\" + 0.011*\"mills\" + 0.010*\"see\" + 0.009*\"kurdistan\"'),\n",
       " (0,\n",
       "  '0.014*\"call\" + 0.012*\"negotiating\" + 0.011*\"sent\" + 0.010*\"message\" + 0.009*\"blackberry\"')]"
      ]
     },
     "execution_count": 15,
     "metadata": {},
     "output_type": "execute_result"
    }
   ],
   "source": [
    "# 打印最显著的主题\n",
    "lda.print_topics(num_topics=10, num_words=5)"
   ]
  },
  {
   "cell_type": "markdown",
   "metadata": {},
   "source": [
    "### 使用模型"
   ]
  },
  {
   "cell_type": "code",
   "execution_count": 16,
   "metadata": {
    "ExecuteTime": {
     "end_time": "2020-06-05T08:55:53.880449Z",
     "start_time": "2020-06-05T08:55:53.874842Z"
    }
   },
   "outputs": [
    {
     "data": {
      "text/plain": [
       "[(3, 0.023184743)]"
      ]
     },
     "execution_count": 16,
     "metadata": {},
     "output_type": "execute_result"
    }
   ],
   "source": [
    "# 单词所属的主题\n",
    "lda.get_term_topics(dictionary.token2id[\"meeting\"])"
   ]
  },
  {
   "cell_type": "code",
   "execution_count": 17,
   "metadata": {
    "ExecuteTime": {
     "end_time": "2020-06-05T08:56:00.943962Z",
     "start_time": "2020-06-05T08:56:00.937841Z"
    }
   },
   "outputs": [
    {
     "data": {
      "text/plain": [
       "'0.015*\"im\" + 0.013*\"tomorrow\" + 0.012*\"call\" + 0.012*\"talk\" + 0.010*\"also\" + 0.009*\"get\" + 0.009*\"know\" + 0.008*\"see\" + 0.007*\"want\" + 0.007*\"need\"'"
      ]
     },
     "execution_count": 17,
     "metadata": {},
     "output_type": "execute_result"
    }
   ],
   "source": [
    "lda.print_topic(4)"
   ]
  },
  {
   "cell_type": "code",
   "execution_count": 18,
   "metadata": {
    "ExecuteTime": {
     "end_time": "2020-06-05T08:56:06.474971Z",
     "start_time": "2020-06-05T08:56:06.468455Z"
    }
   },
   "outputs": [
    {
     "data": {
      "text/plain": [
       "'0.017*\"bloomberg\" + 0.008*\"state\" + 0.008*\"language\" + 0.005*\"us\" + 0.005*\"could\" + 0.004*\"organizing\" + 0.004*\"worse\" + 0.004*\"see\" + 0.004*\"mike\" + 0.004*\"polls\"'"
      ]
     },
     "execution_count": 18,
     "metadata": {},
     "output_type": "execute_result"
    }
   ],
   "source": [
    "lda.print_topic(9)"
   ]
  },
  {
   "cell_type": "code",
   "execution_count": null,
   "metadata": {},
   "outputs": [],
   "source": []
  },
  {
   "cell_type": "code",
   "execution_count": 19,
   "metadata": {
    "ExecuteTime": {
     "end_time": "2020-06-05T08:56:27.261909Z",
     "start_time": "2020-06-05T08:56:27.257102Z"
    }
   },
   "outputs": [],
   "source": [
    "# 预测文本所属的主题\n",
    "test_texts = \"\"\"\n",
    "To all the little girls watching...never doubt that you are valuable and powerful & deserving of every chance & opportunity in the world.\n",
    "\n",
    "I was greeted by this heartwarming display on the corner of my street today. Thank you to all of you who did this. Happy Thanksgiving. -H\n",
    "\n",
    "Hoping everyone has a safe & Happy Thanksgiving today, & quality time with family & friends. -H\n",
    "\n",
    "Scripture tells us: Let us not grow weary in doing good, for in due season, we shall reap, if we do not lose heart.\n",
    "\n",
    "Let us have faith in each other. Let us not grow weary. Let us not lose heart. For there are more seasons to come and...more work to do\n",
    "\n",
    "We have still have not shattered that highest and hardest glass ceiling. But some day, someone will\n",
    "\n",
    "To Barack and Michelle Obama, our country owes you an enormous debt of gratitude. We thank you for your graceful, determined leadership\n",
    "\n",
    "Our constitutional democracy demands our participation, not just every four years, but all the time\n",
    "\n",
    "You represent the best of America, and being your candidate has been one of the greatest honors of my life\n",
    "\n",
    "Last night I congratulated Donald Trump and offered to work with him on behalf of our country\n",
    "\n",
    "Already voted? That's great! Now help Hillary win by signing up to make calls now\n",
    "\n",
    "It's Election Day! Millions of Americans have cast their votes for Hillary—join them and confirm where you vote\n",
    "\n",
    "We don’t want to shrink the vision of this country. We want to keep expanding it\n",
    "\n",
    "We have a chance to elect a 45th president who will build on our progress, who will finish the job\n",
    "\n",
    "\"\"\""
   ]
  },
  {
   "cell_type": "code",
   "execution_count": 26,
   "metadata": {
    "ExecuteTime": {
     "end_time": "2020-06-05T09:00:23.080851Z",
     "start_time": "2020-06-05T09:00:23.078214Z"
    }
   },
   "outputs": [],
   "source": [
    "test_doc_list = [[\n",
    "    word for word in clean_email_text(doc).lower().split()\n",
    "    if word not in stoplist\n",
    "] for doc in test_texts.split('\\n') if doc.strip()]"
   ]
  },
  {
   "cell_type": "code",
   "execution_count": 27,
   "metadata": {
    "ExecuteTime": {
     "end_time": "2020-06-05T09:00:24.015864Z",
     "start_time": "2020-06-05T09:00:24.004298Z"
    }
   },
   "outputs": [
    {
     "name": "stdout",
     "output_type": "stream",
     "text": [
      "Thursday March PM Latest How Syria is aiding Qaddafi and more Sid hrc memo syria aiding libya docx hrc memo syria aiding libya docx March For Hillary\n",
      "________________________________________________________________________________\n",
      "Best Topic : 13 :  0.010*\"us\" + 0.006*\"would\" + 0.006*\"said\" + 0.005*\"people\" + 0.005*\"new\" + 0.005*\"one\" + 0.004*\"american\" + 0.004*\"un\" + 0.004*\"government\" + 0.004*\"security\"\n",
      "\n",
      "Thx\n",
      "________________________________________________________________________________\n",
      "Best Topic : 7 :  0.018*\"pls\" + 0.015*\"discuss\" + 0.007*\"forgot\" + 0.007*\"hair\" + 0.006*\"call\" + 0.006*\"remind\" + 0.006*\"emailed\" + 0.005*\"missing\" + 0.005*\"tell\" + 0.005*\"nd\"\n",
      "\n",
      "Friday March PM Huma Abedin Fw Latest How Syria is aiding Qaddafi and more Sid hrc memo syria aiding libya docx Pis print\n",
      "________________________________________________________________________________\n",
      "Best Topic : 4 :  0.015*\"im\" + 0.013*\"tomorrow\" + 0.012*\"call\" + 0.012*\"talk\" + 0.010*\"also\" + 0.009*\"get\" + 0.009*\"know\" + 0.008*\"see\" + 0.007*\"want\" + 0.007*\"need\"\n",
      "\n",
      "Pis print Wednesday September PM Fw Meet The Right Wing Extremist Behind Anti fvluslim Film That Sparked Deadly Riots From meat Sent Wednesday September PM To Subject Meet The Right Wing Extremist Behind Anti Muslim Film That Sparked Deadly Riots httemaxbiumenthalcommeet the right wing extremist behind anti musiim tihn that sparked deadly riots Sent from my Verizon Wireless LTE DROID US Department of State Case No Doc No Date STATE DEPT PRODUCED TO HOUSE SELECT BENGHAZI COMM SUBJECT TO AGREEMENT ON SENSITIVE INFORMATION REDACTIONS NO FOIA WAIVER STATE CB\n",
      "________________________________________________________________________________\n",
      "Best Topic : 5 :  0.013*\"pls\" + 0.011*\"copy\" + 0.009*\"pm\" + 0.008*\"call\" + 0.008*\"bill\" + 0.008*\"send\" + 0.007*\"give\" + 0.007*\"ill\" + 0.007*\"back\" + 0.007*\"also\"\n",
      "\n",
      "Friday March PM Huma Abedin Fw Latest How Syria is aiding Qaddafi and more Sid hrc memo Syria aiding libya docx Pis print\n",
      "________________________________________________________________________________\n",
      "Best Topic : 4 :  0.015*\"im\" + 0.013*\"tomorrow\" + 0.012*\"call\" + 0.012*\"talk\" + 0.010*\"also\" + 0.009*\"get\" + 0.009*\"know\" + 0.008*\"see\" + 0.007*\"want\" + 0.007*\"need\"\n",
      "\n"
     ]
    }
   ],
   "source": [
    "# 进行主题预测\n",
    "doc_vec = [dictionary.doc2bow(doc) for doc in test_doc_list][:5]\n",
    "for i, doc in enumerate(doc_vec):\n",
    "    topics = lda[doc]\n",
    "    print(doclist[i])\n",
    "    print('_' * 80)    \n",
    "    print(f\"Best Topic : {topics[0][0]} : \", lda.print_topic(topics[0][0]))\n",
    "    print()"
   ]
  },
  {
   "cell_type": "code",
   "execution_count": 28,
   "metadata": {
    "ExecuteTime": {
     "end_time": "2020-06-05T09:00:25.341581Z",
     "start_time": "2020-06-05T09:00:25.336351Z"
    }
   },
   "outputs": [],
   "source": [
    "# stop_list, dictionary, lda"
   ]
  },
  {
   "cell_type": "code",
   "execution_count": 38,
   "metadata": {
    "ExecuteTime": {
     "end_time": "2020-06-05T09:11:42.933254Z",
     "start_time": "2020-06-05T09:11:42.926416Z"
    }
   },
   "outputs": [
    {
     "data": {
      "text/plain": [
       "[['little',\n",
       "  'girls',\n",
       "  'watchingnever',\n",
       "  'doubt',\n",
       "  'valuable',\n",
       "  'powerful',\n",
       "  'deserving',\n",
       "  'every',\n",
       "  'chance',\n",
       "  'opportunity',\n",
       "  'world'],\n",
       " ['greeted',\n",
       "  'heartwarming',\n",
       "  'display',\n",
       "  'corner',\n",
       "  'street',\n",
       "  'today',\n",
       "  'thank',\n",
       "  'happy',\n",
       "  'thanksgiving'],\n",
       " ['hoping',\n",
       "  'everyone',\n",
       "  'safe',\n",
       "  'happy',\n",
       "  'thanksgiving',\n",
       "  'today',\n",
       "  'quality',\n",
       "  'time',\n",
       "  'family',\n",
       "  'friends'],\n",
       " ['scripture',\n",
       "  'tells',\n",
       "  'us',\n",
       "  'let',\n",
       "  'us',\n",
       "  'grow',\n",
       "  'weary',\n",
       "  'good',\n",
       "  'due',\n",
       "  'season',\n",
       "  'shall',\n",
       "  'reap',\n",
       "  'lose',\n",
       "  'heart'],\n",
       " ['let',\n",
       "  'us',\n",
       "  'faith',\n",
       "  'let',\n",
       "  'us',\n",
       "  'grow',\n",
       "  'weary',\n",
       "  'let',\n",
       "  'us',\n",
       "  'lose',\n",
       "  'heart',\n",
       "  'seasons',\n",
       "  'come',\n",
       "  'andmore',\n",
       "  'work'],\n",
       " ['still',\n",
       "  'shattered',\n",
       "  'highest',\n",
       "  'hardest',\n",
       "  'glass',\n",
       "  'ceiling',\n",
       "  'day',\n",
       "  'someone'],\n",
       " ['barack',\n",
       "  'michelle',\n",
       "  'obama',\n",
       "  'country',\n",
       "  'owes',\n",
       "  'enormous',\n",
       "  'debt',\n",
       "  'gratitude',\n",
       "  'thank',\n",
       "  'graceful',\n",
       "  'determined',\n",
       "  'leadership'],\n",
       " ['constitutional',\n",
       "  'democracy',\n",
       "  'demands',\n",
       "  'participation',\n",
       "  'every',\n",
       "  'four',\n",
       "  'years',\n",
       "  'time'],\n",
       " ['represent',\n",
       "  'best',\n",
       "  'america',\n",
       "  'candidate',\n",
       "  'one',\n",
       "  'greatest',\n",
       "  'honors',\n",
       "  'life'],\n",
       " ['last',\n",
       "  'night',\n",
       "  'congratulated',\n",
       "  'donald',\n",
       "  'trump',\n",
       "  'offered',\n",
       "  'work',\n",
       "  'behalf',\n",
       "  'country'],\n",
       " ['already',\n",
       "  'voted',\n",
       "  'thats',\n",
       "  'great',\n",
       "  'help',\n",
       "  'hillary',\n",
       "  'win',\n",
       "  'signing',\n",
       "  'make',\n",
       "  'calls'],\n",
       " ['election',\n",
       "  'day',\n",
       "  'millions',\n",
       "  'americans',\n",
       "  'cast',\n",
       "  'votes',\n",
       "  'hillaryjoin',\n",
       "  'confirm',\n",
       "  'vote'],\n",
       " ['dont', 'want', 'shrink', 'vision', 'country', 'want', 'keep', 'expanding'],\n",
       " ['chance', 'elect', 'th', 'president', 'build', 'progress', 'finish', 'job']]"
      ]
     },
     "execution_count": 38,
     "metadata": {},
     "output_type": "execute_result"
    }
   ],
   "source": [
    "test_doc_list"
   ]
  },
  {
   "cell_type": "code",
   "execution_count": null,
   "metadata": {},
   "outputs": [],
   "source": []
  },
  {
   "cell_type": "code",
   "execution_count": 40,
   "metadata": {
    "ExecuteTime": {
     "end_time": "2020-06-05T09:11:50.206676Z",
     "start_time": "2020-06-05T09:11:50.194989Z"
    }
   },
   "outputs": [
    {
     "data": {
      "text/plain": [
       "(array([[0.05    , 0.05    , 0.05    , 0.05    , 0.05    , 0.05    ,\n",
       "         0.05    , 0.05    , 0.05    , 0.05    , 0.05    , 0.05    ,\n",
       "         0.05    , 9.046117, 0.05    , 0.05    , 0.05    , 0.05    ,\n",
       "         0.05    , 0.05    ]], dtype=float32),\n",
       " None)"
      ]
     },
     "execution_count": 40,
     "metadata": {},
     "output_type": "execute_result"
    }
   ],
   "source": [
    "# 返回句子对应的主题的权重分布，可以用作该句子的句向量\n",
    "\n",
    "bow = dictionary.doc2bow(test_doc_list[0])\n",
    "print(bow)\n",
    "\n",
    "lda.inference([bow])"
   ]
  },
  {
   "cell_type": "code",
   "execution_count": null,
   "metadata": {},
   "outputs": [],
   "source": []
  },
  {
   "cell_type": "code",
   "execution_count": 53,
   "metadata": {
    "ExecuteTime": {
     "end_time": "2020-06-05T09:16:15.420003Z",
     "start_time": "2020-06-05T09:16:15.413632Z"
    }
   },
   "outputs": [
    {
     "data": {
      "text/plain": [
       "(array([[5.0000001e-02, 5.0000001e-02, 5.0000001e-02, 1.4875929e+00,\n",
       "         1.9909754e+01, 2.5722785e+00, 5.0000001e-02, 5.0000001e-02,\n",
       "         5.0000001e-02, 5.0000001e-02, 5.0000001e-02, 5.0000001e-02,\n",
       "         5.0000001e-02, 7.8837059e+01, 1.1592243e+01, 1.1613413e+00,\n",
       "         5.0000001e-02, 5.0000001e-02, 4.1515293e+00, 5.0000001e-02]],\n",
       "       dtype=float32),\n",
       " None)"
      ]
     },
     "execution_count": 53,
     "metadata": {},
     "output_type": "execute_result"
    }
   ],
   "source": [
    "# 返回段落对应的权重分布，可以用作段落向量\n",
    "bow = dictionary.doc2bow([w for doc in test_doc_list for w in doc])\n",
    "bow\n",
    "\n",
    "# 段落对应的权重分布\n",
    "lda.inference([bow])"
   ]
  },
  {
   "cell_type": "code",
   "execution_count": null,
   "metadata": {},
   "outputs": [],
   "source": []
  },
  {
   "cell_type": "code",
   "execution_count": null,
   "metadata": {},
   "outputs": [],
   "source": []
  },
  {
   "cell_type": "code",
   "execution_count": null,
   "metadata": {},
   "outputs": [],
   "source": []
  },
  {
   "cell_type": "markdown",
   "metadata": {},
   "source": [
    "# NIPS论文分类:sklearn"
   ]
  },
  {
   "cell_type": "code",
   "execution_count": 43,
   "metadata": {
    "ExecuteTime": {
     "end_time": "2020-06-05T05:46:05.432491Z",
     "start_time": "2020-06-05T05:46:04.622668Z"
    }
   },
   "outputs": [
    {
     "data": {
      "text/html": [
       "<div>\n",
       "<style scoped>\n",
       "    .dataframe tbody tr th:only-of-type {\n",
       "        vertical-align: middle;\n",
       "    }\n",
       "\n",
       "    .dataframe tbody tr th {\n",
       "        vertical-align: top;\n",
       "    }\n",
       "\n",
       "    .dataframe thead th {\n",
       "        text-align: right;\n",
       "    }\n",
       "</style>\n",
       "<table border=\"1\" class=\"dataframe\">\n",
       "  <thead>\n",
       "    <tr style=\"text-align: right;\">\n",
       "      <th></th>\n",
       "      <th>id</th>\n",
       "      <th>year</th>\n",
       "      <th>title</th>\n",
       "      <th>event_type</th>\n",
       "      <th>pdf_name</th>\n",
       "      <th>abstract</th>\n",
       "      <th>paper_text</th>\n",
       "    </tr>\n",
       "  </thead>\n",
       "  <tbody>\n",
       "    <tr>\n",
       "      <th>0</th>\n",
       "      <td>1</td>\n",
       "      <td>1987</td>\n",
       "      <td>Self-Organization of Associative Database and ...</td>\n",
       "      <td>NaN</td>\n",
       "      <td>1-self-organization-of-associative-database-an...</td>\n",
       "      <td>Abstract Missing</td>\n",
       "      <td>767\\n\\nSELF-ORGANIZATION OF ASSOCIATIVE DATABA...</td>\n",
       "    </tr>\n",
       "    <tr>\n",
       "      <th>1</th>\n",
       "      <td>10</td>\n",
       "      <td>1987</td>\n",
       "      <td>A Mean Field Theory of Layer IV of Visual Cort...</td>\n",
       "      <td>NaN</td>\n",
       "      <td>10-a-mean-field-theory-of-layer-iv-of-visual-c...</td>\n",
       "      <td>Abstract Missing</td>\n",
       "      <td>683\\n\\nA MEAN FIELD THEORY OF LAYER IV OF VISU...</td>\n",
       "    </tr>\n",
       "    <tr>\n",
       "      <th>2</th>\n",
       "      <td>100</td>\n",
       "      <td>1988</td>\n",
       "      <td>Storing Covariance by the Associative Long-Ter...</td>\n",
       "      <td>NaN</td>\n",
       "      <td>100-storing-covariance-by-the-associative-long...</td>\n",
       "      <td>Abstract Missing</td>\n",
       "      <td>394\\n\\nSTORING COVARIANCE BY THE ASSOCIATIVE\\n...</td>\n",
       "    </tr>\n",
       "    <tr>\n",
       "      <th>3</th>\n",
       "      <td>1000</td>\n",
       "      <td>1994</td>\n",
       "      <td>Bayesian Query Construction for Neural Network...</td>\n",
       "      <td>NaN</td>\n",
       "      <td>1000-bayesian-query-construction-for-neural-ne...</td>\n",
       "      <td>Abstract Missing</td>\n",
       "      <td>Bayesian Query Construction for Neural\\nNetwor...</td>\n",
       "    </tr>\n",
       "    <tr>\n",
       "      <th>4</th>\n",
       "      <td>1001</td>\n",
       "      <td>1994</td>\n",
       "      <td>Neural Network Ensembles, Cross Validation, an...</td>\n",
       "      <td>NaN</td>\n",
       "      <td>1001-neural-network-ensembles-cross-validation...</td>\n",
       "      <td>Abstract Missing</td>\n",
       "      <td>Neural Network Ensembles, Cross\\nValidation, a...</td>\n",
       "    </tr>\n",
       "  </tbody>\n",
       "</table>\n",
       "</div>"
      ],
      "text/plain": [
       "     id  year                                              title event_type  \\\n",
       "0     1  1987  Self-Organization of Associative Database and ...        NaN   \n",
       "1    10  1987  A Mean Field Theory of Layer IV of Visual Cort...        NaN   \n",
       "2   100  1988  Storing Covariance by the Associative Long-Ter...        NaN   \n",
       "3  1000  1994  Bayesian Query Construction for Neural Network...        NaN   \n",
       "4  1001  1994  Neural Network Ensembles, Cross Validation, an...        NaN   \n",
       "\n",
       "                                            pdf_name          abstract  \\\n",
       "0  1-self-organization-of-associative-database-an...  Abstract Missing   \n",
       "1  10-a-mean-field-theory-of-layer-iv-of-visual-c...  Abstract Missing   \n",
       "2  100-storing-covariance-by-the-associative-long...  Abstract Missing   \n",
       "3  1000-bayesian-query-construction-for-neural-ne...  Abstract Missing   \n",
       "4  1001-neural-network-ensembles-cross-validation...  Abstract Missing   \n",
       "\n",
       "                                          paper_text  \n",
       "0  767\\n\\nSELF-ORGANIZATION OF ASSOCIATIVE DATABA...  \n",
       "1  683\\n\\nA MEAN FIELD THEORY OF LAYER IV OF VISU...  \n",
       "2  394\\n\\nSTORING COVARIANCE BY THE ASSOCIATIVE\\n...  \n",
       "3  Bayesian Query Construction for Neural\\nNetwor...  \n",
       "4  Neural Network Ensembles, Cross\\nValidation, a...  "
      ]
     },
     "execution_count": 43,
     "metadata": {},
     "output_type": "execute_result"
    }
   ],
   "source": [
    "import pandas as pd\n",
    "import os\n",
    "\n",
    "papers = pd.read_csv(\"../datasets/papers.csv\")\n",
    "papers.head(5)"
   ]
  },
  {
   "cell_type": "code",
   "execution_count": 44,
   "metadata": {
    "ExecuteTime": {
     "end_time": "2020-06-05T05:46:07.296814Z",
     "start_time": "2020-06-05T05:46:07.287335Z"
    }
   },
   "outputs": [
    {
     "data": {
      "text/html": [
       "<div>\n",
       "<style scoped>\n",
       "    .dataframe tbody tr th:only-of-type {\n",
       "        vertical-align: middle;\n",
       "    }\n",
       "\n",
       "    .dataframe tbody tr th {\n",
       "        vertical-align: top;\n",
       "    }\n",
       "\n",
       "    .dataframe thead th {\n",
       "        text-align: right;\n",
       "    }\n",
       "</style>\n",
       "<table border=\"1\" class=\"dataframe\">\n",
       "  <thead>\n",
       "    <tr style=\"text-align: right;\">\n",
       "      <th></th>\n",
       "      <th>year</th>\n",
       "      <th>title</th>\n",
       "      <th>abstract</th>\n",
       "      <th>paper_text</th>\n",
       "    </tr>\n",
       "  </thead>\n",
       "  <tbody>\n",
       "    <tr>\n",
       "      <th>0</th>\n",
       "      <td>1987</td>\n",
       "      <td>Self-Organization of Associative Database and ...</td>\n",
       "      <td>Abstract Missing</td>\n",
       "      <td>767\\n\\nSELF-ORGANIZATION OF ASSOCIATIVE DATABA...</td>\n",
       "    </tr>\n",
       "    <tr>\n",
       "      <th>1</th>\n",
       "      <td>1987</td>\n",
       "      <td>A Mean Field Theory of Layer IV of Visual Cort...</td>\n",
       "      <td>Abstract Missing</td>\n",
       "      <td>683\\n\\nA MEAN FIELD THEORY OF LAYER IV OF VISU...</td>\n",
       "    </tr>\n",
       "    <tr>\n",
       "      <th>2</th>\n",
       "      <td>1988</td>\n",
       "      <td>Storing Covariance by the Associative Long-Ter...</td>\n",
       "      <td>Abstract Missing</td>\n",
       "      <td>394\\n\\nSTORING COVARIANCE BY THE ASSOCIATIVE\\n...</td>\n",
       "    </tr>\n",
       "    <tr>\n",
       "      <th>3</th>\n",
       "      <td>1994</td>\n",
       "      <td>Bayesian Query Construction for Neural Network...</td>\n",
       "      <td>Abstract Missing</td>\n",
       "      <td>Bayesian Query Construction for Neural\\nNetwor...</td>\n",
       "    </tr>\n",
       "    <tr>\n",
       "      <th>4</th>\n",
       "      <td>1994</td>\n",
       "      <td>Neural Network Ensembles, Cross Validation, an...</td>\n",
       "      <td>Abstract Missing</td>\n",
       "      <td>Neural Network Ensembles, Cross\\nValidation, a...</td>\n",
       "    </tr>\n",
       "  </tbody>\n",
       "</table>\n",
       "</div>"
      ],
      "text/plain": [
       "   year                                              title          abstract  \\\n",
       "0  1987  Self-Organization of Associative Database and ...  Abstract Missing   \n",
       "1  1987  A Mean Field Theory of Layer IV of Visual Cort...  Abstract Missing   \n",
       "2  1988  Storing Covariance by the Associative Long-Ter...  Abstract Missing   \n",
       "3  1994  Bayesian Query Construction for Neural Network...  Abstract Missing   \n",
       "4  1994  Neural Network Ensembles, Cross Validation, an...  Abstract Missing   \n",
       "\n",
       "                                          paper_text  \n",
       "0  767\\n\\nSELF-ORGANIZATION OF ASSOCIATIVE DATABA...  \n",
       "1  683\\n\\nA MEAN FIELD THEORY OF LAYER IV OF VISU...  \n",
       "2  394\\n\\nSTORING COVARIANCE BY THE ASSOCIATIVE\\n...  \n",
       "3  Bayesian Query Construction for Neural\\nNetwor...  \n",
       "4  Neural Network Ensembles, Cross\\nValidation, a...  "
      ]
     },
     "execution_count": 44,
     "metadata": {},
     "output_type": "execute_result"
    }
   ],
   "source": [
    "papers = papers.drop(columns=['id', 'event_type', 'pdf_name'], axis=-1)\n",
    "papers.head(5)"
   ]
  },
  {
   "cell_type": "code",
   "execution_count": 45,
   "metadata": {
    "ExecuteTime": {
     "end_time": "2020-06-05T05:46:10.575211Z",
     "start_time": "2020-06-05T05:46:09.129060Z"
    }
   },
   "outputs": [
    {
     "data": {
      "text/plain": [
       "0    767\\n\\nself-organization of associative databa...\n",
       "1    683\\n\\na mean field theory of layer iv of visu...\n",
       "2    394\\n\\nstoring covariance by the associative\\n...\n",
       "3    bayesian query construction for neural\\nnetwor...\n",
       "4    neural network ensembles cross\\nvalidation and...\n",
       "Name: paper_text_processed, dtype: object"
      ]
     },
     "execution_count": 45,
     "metadata": {},
     "output_type": "execute_result"
    }
   ],
   "source": [
    "# 数据清洗\n",
    "import re\n",
    "papers['paper_text_processed'] = papers['paper_text'].map(\n",
    "    lambda x: re.sub('[,\\.!?]', '', x))\n",
    "papers['paper_text_processed'] = papers['paper_text_processed'].map(\n",
    "    lambda x: x.lower())\n",
    "papers['paper_text_processed'].head(5)"
   ]
  },
  {
   "cell_type": "code",
   "execution_count": 46,
   "metadata": {
    "ExecuteTime": {
     "end_time": "2020-06-05T05:46:55.483128Z",
     "start_time": "2020-06-05T05:46:10.673943Z"
    }
   },
   "outputs": [
    {
     "data": {
      "image/png": "[encoded data removed]",
      "text/plain": [
       "<PIL.Image.Image image mode=RGB size=400x200 at 0x7FCDEC6C8A10>"
      ]
     },
     "execution_count": 46,
     "metadata": {},
     "output_type": "execute_result"
    }
   ],
   "source": [
    "# 词云\n",
    "from wordcloud import WordCloud\n",
    "long_string = ','.join(list(papers['paper_text_processed'].values))\n",
    "wordcloud = WordCloud(background_color='white',\n",
    "                      max_words=1000,\n",
    "                      contour_width=3,\n",
    "                      contour_color='steelblue')\n",
    "wordcloud.generate(long_string)\n",
    "wordcloud.to_image()"
   ]
  },
  {
   "cell_type": "code",
   "execution_count": 47,
   "metadata": {
    "ExecuteTime": {
     "end_time": "2020-06-05T05:47:19.323805Z",
     "start_time": "2020-06-05T05:47:07.714202Z"
    }
   },
   "outputs": [
    {
     "data": {
      "image/png": "[encoded data removed]",
      "text/plain": [
       "<Figure size 1080x667.491 with 1 Axes>"
      ]
     },
     "metadata": {
      "needs_background": "light"
     },
     "output_type": "display_data"
    }
   ],
   "source": [
    "# 文本处理，词频统计\n",
    "from sklearn.feature_extraction.text import CountVectorizer\n",
    "import numpy as np\n",
    "import matplotlib.pyplot as plt\n",
    "import seaborn as sns\n",
    "sns.set_style('whitegrid')\n",
    "%matplotlib inline\n",
    "\n",
    "\n",
    "def plot_10_most_common_words(count_data, count_vectorizer):\n",
    "    words = count_vectorizer.get_feature_names()\n",
    "    total_counts = np.zeros(len(words))\n",
    "    for t in count_data:\n",
    "        total_counts += t.toarray()[0]\n",
    "    count_dict = zip(words, total_counts)\n",
    "    count_dict = sorted(count_dict, key=lambda x: x[1], reverse=True)[:10]\n",
    "    words = [w[0] for w in count_dict]\n",
    "    counts = [w[1] for w in count_dict]\n",
    "    x_pos = np.arange(len(words))\n",
    "\n",
    "    plt.figure(2, figsize=(15, 15 / 1.6180))\n",
    "    plt.subplot(title='10 most common words')\n",
    "    sns.set_context(\"notebook\", font_scale=1.25, rc={\"lines.linewidth\": 2.5})\n",
    "    sns.barplot(x_pos, counts, palette='husl')\n",
    "    plt.xticks(x_pos, words, rotation=90)\n",
    "    plt.xlabel('words')\n",
    "    plt.ylabel('counts')\n",
    "    plt.show()\n",
    "\n",
    "\n",
    "count_vectorizer = CountVectorizer(stop_words='english')\n",
    "count_data = count_vectorizer.fit_transform(papers['paper_text_processed'])\n",
    "plot_10_most_common_words(count_data, count_vectorizer)"
   ]
  },
  {
   "cell_type": "code",
   "execution_count": 48,
   "metadata": {
    "ExecuteTime": {
     "end_time": "2020-06-05T06:07:23.548657Z",
     "start_time": "2020-06-05T06:05:32.317072Z"
    }
   },
   "outputs": [
    {
     "name": "stdout",
     "output_type": "stream",
     "text": [
      "Topics found via LDA:\n",
      "\n",
      "Topic #0:\n",
      "algorithm data matrix log 10 learning distribution problem function set\n",
      "\n",
      "Topic #1:\n",
      "model data learning network models training neural using networks time\n",
      "\n",
      "Topic #2:\n",
      "algorithm function set learning problem 10 xi data optimization algorithms\n",
      "\n",
      "Topic #3:\n",
      "model image figure time images neurons data network object input\n",
      "\n",
      "Topic #4:\n",
      "learning set state algorithm action time policy model using number\n"
     ]
    }
   ],
   "source": [
    "# 训练LDA模型\n",
    "import warnings\n",
    "warnings.simplefilter('ignore', DeprecationWarning)\n",
    "\n",
    "from sklearn.decomposition import LatentDirichletAllocation as LDA\n",
    "\n",
    "\n",
    "def print_topics(model, count_vectorizer, n_top_words):\n",
    "    words = count_vectorizer.get_feature_names()\n",
    "    for topic_idx, topic in enumerate(model.components_):\n",
    "        print(\"\\nTopic #%d:\" % topic_idx)\n",
    "        print(\" \".join(\n",
    "            [words[i] for i in topic.argsort()[:-n_top_words - 1:-1]]))\n",
    "\n",
    "\n",
    "num_topics = 5\n",
    "num_words = 10\n",
    "lda = LDA(n_components=num_topics)\n",
    "lda.fit(count_data)\n",
    "\n",
    "print(\"Topics found via LDA:\")\n",
    "print_topics(lda, count_vectorizer, num_words)"
   ]
  },
  {
   "cell_type": "code",
   "execution_count": null,
   "metadata": {},
   "outputs": [],
   "source": []
  },
  {
   "cell_type": "code",
   "execution_count": null,
   "metadata": {},
   "outputs": [],
   "source": []
  },
  {
   "cell_type": "code",
   "execution_count": null,
   "metadata": {},
   "outputs": [],
   "source": []
  },
  {
   "cell_type": "code",
   "execution_count": null,
   "metadata": {},
   "outputs": [],
   "source": []
  },
  {
   "cell_type": "code",
   "execution_count": null,
   "metadata": {},
   "outputs": [],
   "source": []
  }
 ],
 "metadata": {
  "kernelspec": {
   "display_name": "Python 3",
   "language": "python",
   "name": "python3"
  },
  "language_info": {
   "codemirror_mode": {
    "name": "ipython",
    "version": 3
   },
   "file_extension": ".py",
   "mimetype": "text/x-python",
   "name": "python",
   "nbconvert_exporter": "python",
   "pygments_lexer": "ipython3",
   "version": "3.7.7"
  },
  "toc": {
   "base_numbering": 1,
   "nav_menu": {},
   "number_sections": true,
   "sideBar": true,
   "skip_h1_title": false,
   "title_cell": "Table of Contents",
   "title_sidebar": "Contents",
   "toc_cell": false,
   "toc_position": {},
   "toc_section_display": true,
   "toc_window_display": false
  },
  "varInspector": {
   "cols": {
    "lenName": 16,
    "lenType": 16,
    "lenVar": 40
   },
   "kernels_config": {
    "python": {
     "delete_cmd_postfix": "",
     "delete_cmd_prefix": "del ",
     "library": "var_list.py",
     "varRefreshCmd": "print(var_dic_list())"
    },
    "r": {
     "delete_cmd_postfix": ") ",
     "delete_cmd_prefix": "rm(",
     "library": "var_list.r",
     "varRefreshCmd": "cat(var_dic_list()) "
    }
   },
   "types_to_exclude": [
    "module",
    "function",
    "builtin_function_or_method",
    "instance",
    "_Feature"
   ],
   "window_display": false
  }
 },
 "nbformat": 4,
 "nbformat_minor": 2
}
