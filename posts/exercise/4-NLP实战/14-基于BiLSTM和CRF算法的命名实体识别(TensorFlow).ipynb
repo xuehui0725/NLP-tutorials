{
 "cells": [
  {
   "cell_type": "markdown",
   "metadata": {
    "toc": true
   },
   "source": [
    "<h1>Table of Contents<span class=\"tocSkip\"></span></h1>\n",
    "<div class=\"toc\"><ul class=\"toc-item\"><li><span><a href=\"#CRF相关函数\" data-toc-modified-id=\"CRF相关函数-1\"><span class=\"toc-item-num\">1&nbsp;&nbsp;</span>CRF相关函数</a></span><ul class=\"toc-item\"><li><span><a href=\"#维特比解码最优序列:\" data-toc-modified-id=\"维特比解码最优序列:-1.1\"><span class=\"toc-item-num\">1.1&nbsp;&nbsp;</span>维特比解码最优序列:</a></span></li><li><span><a href=\"#计算真实序列的分数\" data-toc-modified-id=\"计算真实序列的分数-1.2\"><span class=\"toc-item-num\">1.2&nbsp;&nbsp;</span>计算真实序列的分数</a></span></li><li><span><a href=\"#计算所有可能路径的分数\" data-toc-modified-id=\"计算所有可能路径的分数-1.3\"><span class=\"toc-item-num\">1.3&nbsp;&nbsp;</span>计算所有可能路径的分数</a></span></li><li><span><a href=\"#计算损失函数：真实序列分数---所有可能路径分数\" data-toc-modified-id=\"计算损失函数：真实序列分数---所有可能路径分数-1.4\"><span class=\"toc-item-num\">1.4&nbsp;&nbsp;</span>计算损失函数：真实序列分数 - 所有可能路径分数</a></span></li></ul></li><li><span><a href=\"#数据\" data-toc-modified-id=\"数据-2\"><span class=\"toc-item-num\">2&nbsp;&nbsp;</span>数据</a></span><ul class=\"toc-item\"><li><span><a href=\"#数据预处理\" data-toc-modified-id=\"数据预处理-2.1\"><span class=\"toc-item-num\">2.1&nbsp;&nbsp;</span>数据预处理</a></span></li><li><span><a href=\"#数据管道\" data-toc-modified-id=\"数据管道-2.2\"><span class=\"toc-item-num\">2.2&nbsp;&nbsp;</span>数据管道</a></span></li></ul></li><li><span><a href=\"#BiLSTM-CRF模型\" data-toc-modified-id=\"BiLSTM-CRF模型-3\"><span class=\"toc-item-num\">3&nbsp;&nbsp;</span>BiLSTM-CRF模型</a></span><ul class=\"toc-item\"><li><span><a href=\"#CRF-层\" data-toc-modified-id=\"CRF-层-3.1\"><span class=\"toc-item-num\">3.1&nbsp;&nbsp;</span>CRF 层</a></span></li><li><span><a href=\"#BiLSTM-CRF\" data-toc-modified-id=\"BiLSTM-CRF-3.2\"><span class=\"toc-item-num\">3.2&nbsp;&nbsp;</span>BiLSTM-CRF</a></span></li></ul></li><li><span><a href=\"#训练模型\" data-toc-modified-id=\"训练模型-4\"><span class=\"toc-item-num\">4&nbsp;&nbsp;</span>训练模型</a></span></li></ul></div>"
   ]
  },
  {
   "cell_type": "code",
   "execution_count": 4,
   "metadata": {
    "ExecuteTime": {
     "end_time": "2020-05-23T07:40:02.631663Z",
     "start_time": "2020-05-23T07:40:01.709356Z"
    }
   },
   "outputs": [],
   "source": [
    "import tensorflow as tf\n",
    "import numpy as np"
   ]
  },
  {
   "cell_type": "markdown",
   "metadata": {},
   "source": [
    "# CRF相关函数\n",
    "https://github.com/tensorflow/addons/blob/master/tensorflow_addons/text/crf.py"
   ]
  },
  {
   "cell_type": "markdown",
   "metadata": {},
   "source": [
    ">***需要注意的是***：\n",
    "* 如果标签中是添加了 `<start>` 和 `<end>` 标签的：\n",
    "* 转移矩阵维度应该是 真实标签数量+2\n",
    "* 且初始序列输入模型前要：在序列首部添加了`<start>`，尾部添加了`<end>`"
   ]
  },
  {
   "cell_type": "markdown",
   "metadata": {
    "ExecuteTime": {
     "end_time": "2020-05-20T01:14:19.978069Z",
     "start_time": "2020-05-20T01:14:19.969299Z"
    }
   },
   "source": [
    "## 维特比解码最优序列:"
   ]
  },
  {
   "cell_type": "code",
   "execution_count": 5,
   "metadata": {
    "ExecuteTime": {
     "end_time": "2020-05-23T07:40:02.637449Z",
     "start_time": "2020-05-23T07:40:02.632886Z"
    }
   },
   "outputs": [],
   "source": [
    "# 解码过程，获取最佳预测标签序列；只在测试阶段使用\n",
    "def viterbi_decode(score, transition_params):\n",
    "    \"\"\"Decode the highest scoring sequence of tags outside of TensorFlow.\n",
    "    This should only be used at test time.\n",
    "    Args:\n",
    "      score: A [seq_len, num_tags] matrix of unary potentials.\n",
    "      transition_params: A [num_tags, num_tags] matrix of binary potentials.\n",
    "    Returns:\n",
    "      viterbi: A [seq_len] list of integers containing the highest scoring tag\n",
    "          indices.\n",
    "      viterbi_score: A float containing the score for the Viterbi sequence.\n",
    "    \"\"\"\n",
    "    trellis = np.zeros_like(score)\n",
    "    backpointers = np.zeros_like(score, dtype=np.int32)\n",
    "    \n",
    "    trellis[0] = score[0]\n",
    "\n",
    "    for t in range(1, score.shape[0]):\n",
    "        v = np.expand_dims(trellis[t - 1], 1) + transition_params\n",
    "        trellis[t] = score[t] + np.max(v, 0)\n",
    "        backpointers[t] = np.argmax(v, 0)\n",
    "\n",
    "    viterbi = [np.argmax(trellis[-1])]\n",
    "    for bp in reversed(backpointers[1:]):\n",
    "        viterbi.append(bp[viterbi[-1]])\n",
    "    viterbi.reverse()\n",
    "\n",
    "    viterbi_score = np.max(trellis[-1])\n",
    "    return viterbi, viterbi_score\n",
    "\n",
    "# 如果标签中是添加了 <start> 和 <end> 标签的：\n",
    "# 转移矩阵维度应该是 真实标签数量+2\n",
    "# 且初始序列输入模型前要：在序列首部添加了<start>，尾部添加了<end>"
   ]
  },
  {
   "cell_type": "code",
   "execution_count": 6,
   "metadata": {
    "ExecuteTime": {
     "end_time": "2020-05-23T07:40:03.181986Z",
     "start_time": "2020-05-23T07:40:02.639064Z"
    }
   },
   "outputs": [
    {
     "name": "stdout",
     "output_type": "stream",
     "text": [
      "[[-0.0927515 -6.01208925 -3.81539488 -1.89488077 1.32547951]\n",
      " [-5.96362209 1.49758339 -7.21282959 -2.30758834 -1.50181127]\n",
      " [-1.82406688 0.679782867 -6.83573961 -2.94501209 -5.43150282]]\n"
     ]
    },
    {
     "data": {
      "text/plain": [
       "([4, 1, 1], 3.6936946)"
      ]
     },
     "execution_count": 6,
     "metadata": {},
     "output_type": "execute_result"
    }
   ],
   "source": [
    "score = tf.random.normal([3, 5], -3, 3, tf.float32)\n",
    "tf.print(score)\n",
    "transition_params = tf.random.normal([5, 5], 0, 1, tf.float32)\n",
    "\n",
    "viterbi_decode(score, transition_params)"
   ]
  },
  {
   "cell_type": "markdown",
   "metadata": {},
   "source": [
    "## 计算真实序列的分数"
   ]
  },
  {
   "cell_type": "markdown",
   "metadata": {},
   "source": [
    "**第一部分：标签本身的发射分数**\n",
    "\n",
    "<img src=\"../images/seq_emission.png\" width=\"40%\" align=\"\">\n",
    "  \n",
    "- 如上图所示，批序列的发射矩阵`Emission Matrix: (batch_size,seq_len,num_tags)`，表示序列每个元素对应的标签分布\n",
    "- **红色部分对应序列每个元素的真实标签** 的索引，需要提取出该处的发射分数；首先获取所有索引：\n",
    "\n",
    "```python\n",
    ">>> offsets = tf.expand_dims(tf.range(batch_size) * max_seq_len * num_tags, 1)\n",
    ">>> offsets += tf.expand_dims(tf.range(max_seq_len) * num_tags, 0)\n",
    ">>> flattened_tag_indices = tf.reshape(offsets + tag_indices, [-1])\n",
    "<tf.Tensor: shape=(10,),numpy=array([ 1,  5, 14, 16, 22, 27, 34, 36, 41, 47])>\n",
    "```"
   ]
  },
  {
   "cell_type": "code",
   "execution_count": 7,
   "metadata": {
    "ExecuteTime": {
     "end_time": "2020-05-23T07:40:03.187654Z",
     "start_time": "2020-05-23T07:40:03.183045Z"
    }
   },
   "outputs": [],
   "source": [
    "def crf_unary_score(tag_indices, sequence_lengths, inputs):\n",
    "    \"\"\"Computes the unary scores of tag sequences.\n",
    "    Args:\n",
    "      tag_indices: A [batch_size, max_seq_len] matrix of tag indices.\n",
    "      sequence_lengths: A [batch_size] vector of true sequence lengths.\n",
    "      inputs: A [batch_size, max_seq_len, num_tags] tensor of unary potentials.\n",
    "    Returns:\n",
    "      unary_scores: A [batch_size] vector of unary scores.\n",
    "    \"\"\"\n",
    "    tag_indices = tf.cast(tag_indices, dtype=tf.int32)\n",
    "    sequence_lengths = tf.cast(sequence_lengths, dtype=tf.int32)\n",
    "\n",
    "    batch_size = tf.shape(inputs)[0]\n",
    "    max_seq_len = tf.shape(inputs)[1]\n",
    "    num_tags = tf.shape(inputs)[2]\n",
    "\n",
    "    flattened_inputs = tf.reshape(inputs,\n",
    "                                  [-1])  # batch_size * max_seq_len * num_tags\n",
    "\n",
    "    # inputs 输入批数据的 预测 标签分布 [batch_size, max_seq_len, num_tags] 展平之后，\n",
    "    # 用来标记每个元素的标签分布的起点索引\n",
    "    offsets = tf.expand_dims(tf.range(batch_size) * max_seq_len * num_tags, 1)\n",
    "    offsets += tf.expand_dims(tf.range(max_seq_len) * num_tags, 0)\n",
    "\n",
    "    # Use int32 or int64 based on tag_indices' dtype.\n",
    "    if tag_indices.dtype == tf.int64:\n",
    "        offsets = tf.cast(offsets, tf.int64)\n",
    "\n",
    "    # 批数据对应的每个元素的真实标签 tag_indices 对应的索引\n",
    "    flattened_tag_indices = tf.reshape(offsets + tag_indices, [-1])\n",
    "\n",
    "    # 搜集真实标签对应的所有发射分数\n",
    "    unary_scores = tf.reshape(\n",
    "        tf.gather(flattened_inputs, flattened_tag_indices),\n",
    "        [batch_size, max_seq_len])\n",
    "\n",
    "    masks = tf.sequence_mask(sequence_lengths,\n",
    "                             maxlen=tf.shape(tag_indices)[1],\n",
    "                             dtype=tf.float32)\n",
    "\n",
    "    unary_scores = tf.reduce_sum(unary_scores * masks, 1)\n",
    "    return unary_scores"
   ]
  },
  {
   "cell_type": "code",
   "execution_count": 8,
   "metadata": {
    "ExecuteTime": {
     "end_time": "2020-05-23T07:40:03.194211Z",
     "start_time": "2020-05-23T07:40:03.188332Z"
    }
   },
   "outputs": [
    {
     "data": {
      "text/plain": [
       "<tf.Tensor: shape=(2,), dtype=float32, numpy=array([-0.01192498,  1.4510444 ], dtype=float32)>"
      ]
     },
     "execution_count": 8,
     "metadata": {},
     "output_type": "execute_result"
    }
   ],
   "source": [
    "tag_indices = tf.constant(np.random.randint(0, 5, size=(2, 5), dtype=np.int32))\n",
    "sequence_lengths = tf.constant([4, 3])\n",
    "inputs = tf.random.normal([2, 5, 5], 0, 1, dtype=tf.float32)\n",
    "crf_unary_score(tag_indices, sequence_lengths, inputs)"
   ]
  },
  {
   "cell_type": "markdown",
   "metadata": {},
   "source": [
    "**第二部分：相邻标签间的转移分数**\n",
    "   \n",
    "<img src=\"../images/seq_transition.png\" width=\"30%\">\n",
    "  \n",
    "- 如上图中，与输入数据无关的转移矩阵，表征标签之间的关系，每一行表示 **当前标签指向其他标签** 的转移分数\n",
    "- 标签序列，`<start> -> tag3 -> tag2 -> tag1 -> <end>`，对应的转移分数如图中 **红色部分** 所示；\n",
    "    - 需要间批量标签序列对应的转移分数提取出来，首先获取所有索引\n",
    "\n",
    "```python\n",
    ">>> tag_indices = tf.constant([[0, 3, 2, 1, 4]])\n",
    ">>> start_tag_indices = tf.slice(tag_indices, [0, 0],[-1, 4])  \n",
    "<tf.Tensor: shape=(1, 4), dtype=int32, numpy=array([[0, 3, 2, 1]], dtype=int32)>\n",
    "    \n",
    ">>> end_tag_indices = tf.slice(tag_indices, [0, 1],[-1, 4])\n",
    "<tf.Tensor: shape=(1, 4), dtype=int32, numpy=array([[3, 2, 1, 4]], dtype=int32)>\n",
    "    \n",
    ">>> flattened_transition_indices = start_tag_indices * num_tags + end_tag_indices\n",
    "<tf.Tensor: shape=(1, 4), dtype=int32, numpy=array([[ 3, 17, 11,  9]], dtype=int32)>\n",
    "```    "
   ]
  },
  {
   "cell_type": "code",
   "execution_count": 9,
   "metadata": {
    "ExecuteTime": {
     "end_time": "2020-05-23T07:40:03.199188Z",
     "start_time": "2020-05-23T07:40:03.195025Z"
    }
   },
   "outputs": [],
   "source": [
    "def crf_binary_score(tag_indices, sequence_lengths, transition_params):\n",
    "    \"\"\"Computes the binary scores of tag sequences.\n",
    "    Args:\n",
    "      tag_indices: A [batch_size, max_seq_len] matrix of tag indices.\n",
    "      sequence_lengths: A [batch_size] vector of true sequence lengths.\n",
    "      transition_params: A [num_tags, num_tags] matrix of binary potentials.\n",
    "    Returns:\n",
    "      binary_scores: A [batch_size] vector of binary scores.\n",
    "    \"\"\"\n",
    "    tag_indices = tf.cast(tag_indices, dtype=tf.int32)\n",
    "    sequence_lengths = tf.cast(sequence_lengths, dtype=tf.int32)\n",
    "\n",
    "    num_tags = tf.shape(transition_params)[0]\n",
    "    num_transitions = tf.shape(tag_indices)[1] - 1  # 10 个标签只有 9 个转移分数\n",
    "\n",
    "    # tag_indices[:,:-1]，表示 行索引\n",
    "    start_tag_indices = tf.slice(tag_indices, [0, 0], [-1, num_transitions])\n",
    "\n",
    "    # tag_indices[:,1:]，表示 列索引\n",
    "    end_tag_indices = tf.slice(tag_indices, [0, 1], [-1, num_transitions])\n",
    "\n",
    "    # 展平后的索引\n",
    "    flattened_transition_indices = start_tag_indices * num_tags + end_tag_indices\n",
    "    flattened_transition_params = tf.reshape(transition_params, [-1])\n",
    "\n",
    "    # 根据索引获得转移分数\n",
    "    binary_scores = tf.gather(flattened_transition_params,\n",
    "                              flattened_transition_indices)\n",
    "\n",
    "    masks = tf.sequence_mask(sequence_lengths,\n",
    "                             maxlen=tf.shape(tag_indices)[1],\n",
    "                             dtype=tf.float32)\n",
    "    truncated_masks = tf.slice(masks, [0, 1], [-1, -1])\n",
    "    binary_scores = tf.reduce_sum(binary_scores * truncated_masks, 1)\n",
    "    return binary_scores"
   ]
  },
  {
   "cell_type": "code",
   "execution_count": 10,
   "metadata": {
    "ExecuteTime": {
     "end_time": "2020-05-23T07:40:03.205219Z",
     "start_time": "2020-05-23T07:40:03.200098Z"
    }
   },
   "outputs": [
    {
     "data": {
      "text/plain": [
       "<tf.Tensor: shape=(1,), dtype=float32, numpy=array([0.45172417], dtype=float32)>"
      ]
     },
     "execution_count": 10,
     "metadata": {},
     "output_type": "execute_result"
    }
   ],
   "source": [
    "tag_indices = tf.constant([[0, 3, 2, 1, 4]])\n",
    "sequence_lengths = tf.constant([4])\n",
    "transition_params = tf.random.normal([5, 5], 0, 1, dtype=tf.float32)\n",
    "crf_binary_score(tag_indices, sequence_lengths, transition_params)"
   ]
  },
  {
   "cell_type": "markdown",
   "metadata": {},
   "source": [
    "**发射分数+转移分数**"
   ]
  },
  {
   "cell_type": "code",
   "execution_count": 11,
   "metadata": {
    "ExecuteTime": {
     "end_time": "2020-05-23T07:40:03.211251Z",
     "start_time": "2020-05-23T07:40:03.205950Z"
    }
   },
   "outputs": [],
   "source": [
    "def crf_sequence_score(\n",
    "        inputs,\n",
    "        tag_indices,\n",
    "        sequence_lengths,\n",
    "        transition_params,\n",
    "):\n",
    "    \"\"\"Computes the unnormalized score for a tag sequence.\n",
    "    Args:\n",
    "      inputs: A [batch_size, max_seq_len, num_tags] tensor of unary potentials\n",
    "          to use as input to the CRF layer.\n",
    "      tag_indices: A [batch_size, max_seq_len] matrix of tag indices for which\n",
    "          we compute the unnormalized score.\n",
    "      sequence_lengths: A [batch_size] vector of true sequence lengths.\n",
    "      transition_params: A [num_tags, num_tags] transition matrix.\n",
    "    Returns:\n",
    "      sequence_scores: A [batch_size] vector of unnormalized sequence scores.\n",
    "    \"\"\"\n",
    "    tag_indices = tf.cast(tag_indices, dtype=tf.int32)\n",
    "    sequence_lengths = tf.cast(sequence_lengths, dtype=tf.int32)\n",
    "\n",
    "    # If max_seq_len is 1, we skip the score calculation and simply gather the\n",
    "    # unary potentials of the single tag.\n",
    "    def _single_seq_fn():\n",
    "        batch_size = tf.shape(inputs, out_type=tf.int32)[0]\n",
    "        batch_inds = tf.reshape(tf.range(batch_size), [-1, 1])\n",
    "        indices = tf.concat([batch_inds, tf.zeros_like(batch_inds)], axis=1)\n",
    "\n",
    "        tag_inds = tf.gather_nd(tag_indices, indices)\n",
    "        tag_inds = tf.reshape(tag_inds, [-1, 1])\n",
    "        indices = tf.concat([indices, tag_inds], axis=1)\n",
    "\n",
    "        sequence_scores = tf.gather_nd(inputs, indices)\n",
    "\n",
    "        sequence_scores = tf.where(\n",
    "            tf.less_equal(sequence_lengths, 0),\n",
    "            tf.zeros_like(sequence_scores),\n",
    "            sequence_scores,\n",
    "        )\n",
    "        return sequence_scores\n",
    "\n",
    "    def _multi_seq_fn():\n",
    "        # Compute the scores of the given tag sequence.\n",
    "        unary_scores = crf_unary_score(tag_indices, sequence_lengths, inputs)\n",
    "        binary_scores = crf_binary_score(tag_indices, sequence_lengths,\n",
    "                                         transition_params)\n",
    "        sequence_scores = unary_scores + binary_scores\n",
    "        return sequence_scores\n",
    "\n",
    "    return tf.cond(tf.equal(tf.shape(inputs)[1], 1), _single_seq_fn,\n",
    "                   _multi_seq_fn)"
   ]
  },
  {
   "cell_type": "code",
   "execution_count": 12,
   "metadata": {
    "ExecuteTime": {
     "end_time": "2020-05-23T07:40:03.219637Z",
     "start_time": "2020-05-23T07:40:03.213094Z"
    }
   },
   "outputs": [
    {
     "data": {
      "text/plain": [
       "<tf.Tensor: shape=(2,), dtype=float32, numpy=array([-2.972989 ,  1.9951336], dtype=float32)>"
      ]
     },
     "execution_count": 12,
     "metadata": {},
     "output_type": "execute_result"
    }
   ],
   "source": [
    "inputs = tf.random.normal([2, 5, 5], 0, 1, dtype=tf.float32)\n",
    "tag_indices = tf.constant([[0, 3, 2, 1, 4], [1, 2, 3, 4, 2]])\n",
    "sequence_lengths = tf.constant([4, 5])\n",
    "transition_params = tf.random.normal([5, 5], 0, 1, dtype=tf.float32)\n",
    "crf_sequence_score(inputs, tag_indices, sequence_lengths, transition_params)"
   ]
  },
  {
   "cell_type": "code",
   "execution_count": null,
   "metadata": {},
   "outputs": [],
   "source": []
  },
  {
   "cell_type": "markdown",
   "metadata": {},
   "source": [
    "## 计算所有可能路径的分数\n",
    "<img src=\"../images/crf_forward2.png\" width=\"100%\">\n",
    "\n",
    "- 如上图所示：`all_alpha` 记录序列到当前标签时的所有路径的分数，其形状与 发射矩阵(`Emsission Matrix`)的相同\n",
    "    - `(i,j,k)`表示，数据批次 j 中，长为 i 的序列，以标签 k 结尾的所有路径的分数\n",
    "- 序列位置1、数据批位置0 处的状态 `_state`，与 `transmition_scores[:,0]` 按位求和，然后 `log_sum_exp`操作，再加上位置 0 处的发射分数，可得到 （2，1，1）处的所有路径的分数。具体的实现如下所示:\n",
    "\n",
    "```python\n",
    "\n",
    ">>> state = tf.constant([[0.3, 0.5, 0.2], [0.8, 0.1, 0.1]])\n",
    ">>> _state = tf.expand_dims(_state, 2)\n",
    "<tf.Tensor: shape=(2, 3, 1), dtype=float32, numpy=\n",
    "array([[[0.3],\n",
    "        [0.5],\n",
    "        [0.2]],\n",
    "\n",
    "       [[0.8],\n",
    "        [0.1],\n",
    "        [0.1]]], dtype=float32)>\n",
    "\n",
    ">>> transition_params = tf.expand_dims(transition_params, 0)\n",
    "<tf.Tensor: shape=(1, 3, 3), dtype=float32, numpy=\n",
    "array([[[ 0.33 ,  0.81 , -0.96 ],\n",
    "        [ 0.85 , -0.37 , -0.37 ],\n",
    "        [ 0.74 ,  0.67 ,  0.36]]], dtype=float32)>\n",
    "\n",
    ">>> transition_scores = _state + transition_params\n",
    ">>> new_alphas = _inputs + tf.reduce_logsumexp(transition_scores, [1])\n",
    "\n",
    "```\n",
    "\n",
    "- 上述为状态更新，整个批序列的计算利用 `tf.scan(_scan_fn, inputs, state)` 函数扫描 批数据 来实现\n"
   ]
  },
  {
   "cell_type": "markdown",
   "metadata": {},
   "source": [
    "**动态规划依次计算序列每个元素选择不同标签时的分数分布**"
   ]
  },
  {
   "cell_type": "code",
   "execution_count": 13,
   "metadata": {
    "ExecuteTime": {
     "end_time": "2020-05-23T07:40:03.224751Z",
     "start_time": "2020-05-23T07:40:03.220671Z"
    }
   },
   "outputs": [],
   "source": [
    "def crf_forward(inputs, state, transition_params, sequence_lengths):\n",
    "    \"\"\"Computes the alpha values in a linear-chain CRF.\n",
    "    See http://www.cs.columbia.edu/~mcollins/fb.pdf for reference.\n",
    "    Args:\n",
    "      inputs: A [batch_size, seq_len, num_tags] matrix of unary potentials.\n",
    "      state: A [batch_size, num_tags] matrix containing the previous alpha\n",
    "         values.\n",
    "      transition_params: A [num_tags, num_tags] matrix of binary potentials.\n",
    "          This matrix is expanded into a [1, num_tags, num_tags] in preparation\n",
    "          for the broadcast summation occurring within the cell.\n",
    "      sequence_lengths: A [batch_size] vector of true sequence lengths.\n",
    "    Returns:\n",
    "      new_alphas: A [batch_size, num_tags] matrix containing the\n",
    "          new alpha values.\n",
    "    \"\"\"\n",
    "    sequence_lengths = tf.cast(sequence_lengths, dtype=tf.int32)\n",
    "\n",
    "    last_index = tf.maximum(tf.constant(0, dtype=sequence_lengths.dtype),\n",
    "                            sequence_lengths - 1)\n",
    "\n",
    "    # (seq, batch, num_tags)\n",
    "    inputs = tf.transpose(inputs, [1, 0, 2])\n",
    "\n",
    "    # (0, num_tags, num_tags)\n",
    "    transition_params = tf.expand_dims(transition_params, 0)\n",
    "\n",
    "    # 跟定前一状态 _state 和当前的输入 _inputs 计算下一状态\n",
    "    def _scan_fn(_state, _inputs):\n",
    "        _state = tf.expand_dims(_state, 2)\n",
    "        transition_scores = _state + transition_params\n",
    "        new_alphas = _inputs + tf.reduce_logsumexp(transition_scores, [1])\n",
    "        return new_alphas\n",
    "\n",
    "    # batch, seq_len,num_tags\n",
    "    all_alphas = tf.transpose(tf.scan(_scan_fn, inputs, state), [1, 0, 2])\n",
    "    # add first state for sequences of length 1\n",
    "    all_alphas = tf.concat([tf.expand_dims(state, 1), all_alphas], 1)\n",
    "\n",
    "    print(all_alphas)\n",
    "    idxs = tf.stack([tf.range(tf.shape(last_index)[0]), last_index], axis=1)\n",
    "\n",
    "    # 提取序列最后一个元素对应的标签分布\n",
    "    return tf.gather_nd(all_alphas, idxs)\n",
    "\n"
   ]
  },
  {
   "cell_type": "code",
   "execution_count": null,
   "metadata": {},
   "outputs": [],
   "source": []
  },
  {
   "cell_type": "code",
   "execution_count": 14,
   "metadata": {
    "ExecuteTime": {
     "end_time": "2020-05-23T07:40:03.235422Z",
     "start_time": "2020-05-23T07:40:03.225789Z"
    }
   },
   "outputs": [
    {
     "name": "stdout",
     "output_type": "stream",
     "text": [
      "tf.Tensor(\n",
      "[[[0.3        0.5        0.2       ]\n",
      "  [0.02976155 2.7336693  1.878243  ]\n",
      "  [4.8469076  5.0028214  4.556198  ]\n",
      "  [4.85318    6.11074    5.758291  ]\n",
      "  [6.537819   7.1076956  6.1912208 ]]\n",
      "\n",
      " [[0.3        0.5        0.2       ]\n",
      "  [0.6584582  1.780944   0.88176346]\n",
      "  [0.76113594 2.8900719  0.10402226]\n",
      "  [3.973981   4.6565375  3.080339  ]\n",
      "  [5.333847   6.0549397  3.6676145 ]]], shape=(2, 5, 3), dtype=float32)\n"
     ]
    },
    {
     "data": {
      "text/plain": [
       "<tf.Tensor: shape=(2, 3), dtype=float32, numpy=\n",
       "array([[4.8469076, 5.0028214, 4.556198 ],\n",
       "       [3.973981 , 4.6565375, 3.080339 ]], dtype=float32)>"
      ]
     },
     "execution_count": 14,
     "metadata": {},
     "output_type": "execute_result"
    }
   ],
   "source": [
    "inputs = tf.cast(tf.constant(np.random.randn(2, 4, 3)), dtype=tf.float32)\n",
    "state = tf.constant([[0.3, 0.5, 0.2], [0.3, 0.5, 0.2]])\n",
    "transition_params = tf.random.normal([3, 3], 0, 1, dtype=tf.float32)\n",
    "sequence_lengths = tf.constant([3, 4])\n",
    "crf_forward(inputs, state, transition_params, sequence_lengths)"
   ]
  },
  {
   "cell_type": "code",
   "execution_count": null,
   "metadata": {},
   "outputs": [],
   "source": []
  },
  {
   "cell_type": "markdown",
   "metadata": {
    "ExecuteTime": {
     "end_time": "2020-05-20T10:09:27.413715Z",
     "start_time": "2020-05-20T10:09:27.405399Z"
    }
   },
   "source": [
    "**计算所有路径的分数**"
   ]
  },
  {
   "cell_type": "code",
   "execution_count": 15,
   "metadata": {
    "ExecuteTime": {
     "end_time": "2020-05-23T07:40:03.240608Z",
     "start_time": "2020-05-23T07:40:03.236246Z"
    }
   },
   "outputs": [],
   "source": [
    "def crf_log_norm(inputs, sequence_lengths, transition_params):\n",
    "    \"\"\"Computes the normalization for a CRF.\n",
    "    Args:\n",
    "      inputs: A [batch_size, max_seq_len, num_tags] tensor of unary potentials\n",
    "          to use as input to the CRF layer.\n",
    "      sequence_lengths: A [batch_size] vector of true sequence lengths.\n",
    "      transition_params: A [num_tags, num_tags] transition matrix.\n",
    "    Returns:\n",
    "      log_norm: A [batch_size] vector of normalizers for a CRF.\n",
    "    \"\"\"\n",
    "    sequence_lengths = tf.cast(sequence_lengths, dtype=tf.int32)\n",
    "    # Split up the first and rest of the inputs in preparation for the forward\n",
    "    # algorithm.\n",
    "    first_input = tf.slice(inputs, [0, 0, 0], [-1, 1, -1])\n",
    "    first_input = tf.squeeze(first_input, [1])\n",
    "\n",
    "    # If max_seq_len is 1, we skip the algorithm and simply reduce_logsumexp\n",
    "    # over the \"initial state\" (the unary potentials).\n",
    "    def _single_seq_fn():\n",
    "        log_norm = tf.reduce_logsumexp(first_input, [1])\n",
    "        # Mask `log_norm` of the sequences with length <= zero.\n",
    "        log_norm = tf.where(tf.less_equal(sequence_lengths, 0),\n",
    "                            tf.zeros_like(log_norm), log_norm)\n",
    "        return log_norm\n",
    "\n",
    "    def _multi_seq_fn():\n",
    "        \"\"\"Forward computation of alpha values.\"\"\"\n",
    "        rest_of_input = tf.slice(inputs, [0, 1, 0], [-1, -1, -1])\n",
    "        # Compute the alpha values in the forward algorithm in order to get the\n",
    "        # partition function.\n",
    "\n",
    "        alphas = crf_forward(rest_of_input, first_input, transition_params,\n",
    "                             sequence_lengths)\n",
    "        # logsum_exp 求得最终的分数，（batch,)\n",
    "        log_norm = tf.reduce_logsumexp(alphas, [1])\n",
    "        # Mask `log_norm` of the sequences with length <= zero.\n",
    "        log_norm = tf.where(tf.less_equal(sequence_lengths, 0),\n",
    "                            tf.zeros_like(log_norm), log_norm)\n",
    "        return log_norm\n",
    "\n",
    "    return tf.cond(tf.equal(tf.shape(inputs)[1], 1), _single_seq_fn,\n",
    "                   _multi_seq_fn)\n",
    "\n",
    "\n",
    "# 如果标签中是添加了 <start> 和 <end> 标签的：\n",
    "# 转移矩阵维度应该是 真实标签数量+2\n",
    "# 且初始序列输入模型前要：在序列首部添加了<start>，尾部添加了<end>"
   ]
  },
  {
   "cell_type": "markdown",
   "metadata": {},
   "source": [
    "## 计算损失函数：真实序列分数 - 所有可能路径分数"
   ]
  },
  {
   "cell_type": "code",
   "execution_count": 16,
   "metadata": {
    "ExecuteTime": {
     "end_time": "2020-05-23T07:40:03.244863Z",
     "start_time": "2020-05-23T07:40:03.241471Z"
    }
   },
   "outputs": [],
   "source": [
    "def crf_log_likelihood(\n",
    "        inputs,\n",
    "        tag_indices,\n",
    "        sequence_lengths,\n",
    "        transition_params,\n",
    "):\n",
    "    \"\"\"Computes the log-likelihood of tag sequences in a CRF.\n",
    "    Args:\n",
    "      inputs: A [batch_size, max_seq_len, num_tags] tensor of unary potentials\n",
    "          to use as input to the CRF layer.\n",
    "      tag_indices: A [batch_size, max_seq_len] matrix of tag indices for which\n",
    "          we compute the log-likelihood.\n",
    "      sequence_lengths: A [batch_size] vector of true sequence lengths.\n",
    "      transition_params: A [num_tags, num_tags] transition matrix,\n",
    "          if available.\n",
    "    Returns:\n",
    "      log_likelihood: A [batch_size] `Tensor` containing the log-likelihood of\n",
    "        each example, given the sequence of tag indices.\n",
    "      transition_params: A [num_tags, num_tags] transition matrix. This is\n",
    "          either provided by the caller or created in this function.\n",
    "    \"\"\"\n",
    "    num_tags = inputs.shape[2]\n",
    "\n",
    "    # cast type to handle different types\n",
    "    tag_indices = tf.cast(tag_indices, dtype=tf.int32)\n",
    "    sequence_lengths = tf.cast(sequence_lengths, dtype=tf.int32)\n",
    "\n",
    "    if transition_params is None:\n",
    "        initializer = tf.keras.initializers.GlorotUniform()\n",
    "        transition_params = tf.Variable(initializer([num_tags, num_tags]),\n",
    "                                        \"transitions\")\n",
    "\n",
    "    sequence_scores = crf_sequence_score(inputs, tag_indices, sequence_lengths,\n",
    "                                         transition_params)\n",
    "    log_norm = crf_log_norm(inputs, sequence_lengths, transition_params)\n",
    "\n",
    "    # Normalize the scores to get the log-likelihood per example.\n",
    "    log_likelihood = sequence_scores - log_norm\n",
    "    return log_likelihood, transition_params"
   ]
  },
  {
   "cell_type": "code",
   "execution_count": 17,
   "metadata": {
    "ExecuteTime": {
     "end_time": "2020-05-23T07:40:03.257095Z",
     "start_time": "2020-05-23T07:40:03.245775Z"
    }
   },
   "outputs": [
    {
     "name": "stdout",
     "output_type": "stream",
     "text": [
      "tf.Tensor(\n",
      "[[[ 0.67091817  1.3500911  -0.05830282 -0.55953085  0.96454406]\n",
      "  [ 0.9391037   1.8904927   3.880562    0.6520457   3.2143364 ]\n",
      "  [ 4.7860045   3.7422829   5.580221    3.3637254   6.6998377 ]\n",
      "  [ 7.682144    7.129279    9.459488    9.789771    7.2067914 ]\n",
      "  [12.109924    9.423332    8.724604   11.826677   11.594567  ]]\n",
      "\n",
      " [[ 1.3308488   1.0649064   0.35129532  1.2887689   0.9186205 ]\n",
      "  [ 2.587325    2.6766222   3.085214    3.4704711   1.3921077 ]\n",
      "  [ 4.096512    4.5041537   4.273087    5.0115013   3.7085311 ]\n",
      "  [ 7.044131    7.0319843   6.3996954   6.170608    5.2368846 ]\n",
      "  [ 8.303185    8.757935    8.244911    7.3645124  10.207128  ]]], shape=(2, 5, 5), dtype=float32)\n"
     ]
    },
    {
     "data": {
      "text/plain": [
       "(<tf.Tensor: shape=(2,), dtype=float32, numpy=array([-11.006062, -10.432172], dtype=float32)>,\n",
       " <tf.Tensor: shape=(5, 5), dtype=float32, numpy=\n",
       " array([[ 0.88722306, -0.32255268, -0.28513208,  1.0004143 , -0.27743426],\n",
       "        [-0.37235793,  0.6622775 ,  1.8824829 , -1.51814   , -0.57653904],\n",
       "        [-0.34418008, -0.8495117 ,  0.9781507 ,  0.14777964,  2.644441  ],\n",
       "        [ 1.2366235 , -0.60001117, -0.70971197,  0.6309414 , -0.01937208],\n",
       "        [ 0.6109317 , -1.0831752 ,  0.24548076, -0.35030913, -1.1763878 ]],\n",
       "       dtype=float32)>)"
      ]
     },
     "execution_count": 17,
     "metadata": {},
     "output_type": "execute_result"
    }
   ],
   "source": [
    "inputs = tf.cast(tf.constant(np.random.randn(2, 5, 5)), dtype=tf.float32)\n",
    "tag_indices = tf.constant([[0, 3, 2, 1, 4], [1, 2, 3, 4, 2]])\n",
    "sequence_lengths = tf.constant([4, 5])\n",
    "transition_params = tf.random.normal([5, 5], 0, 1, dtype=tf.float32)\n",
    "\n",
    "crf_log_likelihood(inputs, tag_indices, sequence_lengths, transition_params)"
   ]
  },
  {
   "cell_type": "code",
   "execution_count": null,
   "metadata": {},
   "outputs": [],
   "source": []
  },
  {
   "cell_type": "code",
   "execution_count": null,
   "metadata": {},
   "outputs": [],
   "source": []
  },
  {
   "cell_type": "markdown",
   "metadata": {},
   "source": [
    "# 数据\n",
    "数据需要处理成 输入序列+标签序列+序列长度 的形式   \n",
    "```\n",
    "inputs:\n",
    "    [[6, 3, 2, 4, 0], \n",
    "     [5, 9, 3, 6, 2]]\n",
    "targets:\n",
    "    [[0, 3, 2, 1, 4], \n",
    "     [1, 2, 3, 4, 2]]\n",
    "seq_lens:\n",
    "    [4, 5]\n",
    "```"
   ]
  },
  {
   "cell_type": "markdown",
   "metadata": {},
   "source": [
    "## 数据预处理"
   ]
  },
  {
   "cell_type": "code",
   "execution_count": 18,
   "metadata": {
    "ExecuteTime": {
     "end_time": "2020-05-23T07:40:03.268505Z",
     "start_time": "2020-05-23T07:40:03.257873Z"
    }
   },
   "outputs": [],
   "source": [
    "# https://github.com/buppt/ChineseNER/blob/master/data/renMinRiBao/data_renmin_word.py\n",
    "import os\n",
    "import codecs\n",
    "import re\n",
    "import pdb\n",
    "import pandas as pd\n",
    "import numpy as np\n",
    "import collections\n",
    "import pickle\n",
    "from tensorflow.keras.preprocessing.sequence import pad_sequences\n",
    "\n",
    "\n",
    "def data2pkl():\n",
    "    datas = list()\n",
    "    labels = list()\n",
    "    seq_lens = list()\n",
    "\n",
    "    all_words = []\n",
    "    tags = set()\n",
    "\n",
    "    input_data = codecs.open('../datasets/ner/renmin/renmin4.txt', 'r',\n",
    "                             'utf-8')\n",
    "\n",
    "    # 1. 将标注子句 拆分成 字列表 和 对应的标注列表 #############\n",
    "    #####################################################\n",
    "    for line in input_data.readlines():\n",
    "        linedata = list()\n",
    "        linelabel = list()\n",
    "\n",
    "        line = line.split()\n",
    "\n",
    "        numNotO = 0\n",
    "        for word in line:\n",
    "            word = word.split('/')\n",
    "            linedata.append(word[0])\n",
    "            linelabel.append(word[1])\n",
    "\n",
    "            all_words.append(word[0])\n",
    "            tags.add(word[1])\n",
    "\n",
    "            if word[1] != 'O':  # 标注全为 O 的子句\n",
    "                numNotO += 1\n",
    "\n",
    "        if numNotO != 0:  # 只保存 标注不全为 O 的子句\n",
    "            #             print(linedata)\n",
    "            datas.append(linedata)\n",
    "            labels.append(linelabel)\n",
    "            seq_lens.append(len(linedata))\n",
    "\n",
    "    input_data.close()\n",
    "    print(\"文本序列的数量：\", len(datas))  # 字列表 组成的列表\n",
    "    assert (len(labels) == len(datas))  # 对应的 标注列表 组成的列表\n",
    "    print(\"文本所有单词数：\", len(all_words))\n",
    "\n",
    "    # 2. 创建词汇表和标签表 ################################\n",
    "    #####################################################\n",
    "\n",
    "    words_count = collections.Counter(all_words).most_common()\n",
    "    word2id = {word: i for i, (word, _) in enumerate(words_count, 1)}\n",
    "    word2id[\"unknow\"] = len(word2id) + 1\n",
    "\n",
    "    id2word = {i: word for word, i in word2id.items()}\n",
    "    print(\"词汇表的大小：\", len(id2word))\n",
    "\n",
    "    print(\"所有标签：\", tags)\n",
    "    tag2id = {tag: i for i, tag in enumerate(tags)}\n",
    "    print(tag2id)\n",
    "\n",
    "    id2tag = {i: tag for tag, i in tag2id.items()}\n",
    "    print(id2tag)\n",
    "\n",
    "    print(\"-\" * 100)\n",
    "    print(\"Buiding vocab Done!!!\")\n",
    "\n",
    "    # 3. 数据向量化，并处理成相同长度 ########################\n",
    "    #####################################################\n",
    "    max_len = 60\n",
    "\n",
    "    data_ids = [[word2id[w] for w in line] for line in datas]\n",
    "    label_ids = [[tag2id[t] for t in line] for line in labels]\n",
    "\n",
    "    x = pad_sequences(data_ids, maxlen=max_len, padding='post')\n",
    "    y = pad_sequences(label_ids, maxlen=max_len, padding='post')\n",
    "    seq_lens = np.array(seq_lens)\n",
    "\n",
    "    print(\"-\" * 100)\n",
    "    print(\"Vectorizing data Done!!!\")\n",
    "\n",
    "    # 4. 向量化后数据拆分成训练集、验证集、测试集 ##############\n",
    "    #####################################################\n",
    "    from sklearn.model_selection import train_test_split\n",
    "    x_train, x_test, y_train, y_test, train_lens, test_lens = train_test_split(\n",
    "        x,\n",
    "        y,\n",
    "        seq_lens,\n",
    "        test_size=0.2,\n",
    "        random_state=43,\n",
    "    )\n",
    "    x_train, x_valid, y_train, y_valid, train_lens, valid_lens = train_test_split(\n",
    "        x_train,\n",
    "        y_train,\n",
    "        train_lens,\n",
    "        test_size=0.2,\n",
    "        random_state=43,\n",
    "    )\n",
    "\n",
    "    print(\"-\" * 100)\n",
    "    print(\"Splitting data Done!!!\")\n",
    "\n",
    "    # 5. 保存数据 ########################\n",
    "    #####################################################\n",
    "\n",
    "    import pickle\n",
    "    import os\n",
    "    with open('../datasets/ner/renmin/renmindata_TF.pkl', 'wb') as outp:\n",
    "        pickle.dump(word2id, outp)\n",
    "        pickle.dump(id2word, outp)\n",
    "        pickle.dump(tag2id, outp)\n",
    "        pickle.dump(id2tag, outp)\n",
    "\n",
    "        pickle.dump(x_train, outp)\n",
    "        pickle.dump(y_train, outp)\n",
    "        pickle.dump(train_lens, outp)\n",
    "\n",
    "        pickle.dump(x_test, outp)\n",
    "        pickle.dump(y_test, outp)\n",
    "        pickle.dump(test_lens, outp)\n",
    "\n",
    "        pickle.dump(x_valid, outp)\n",
    "        pickle.dump(y_valid, outp)\n",
    "        pickle.dump(valid_lens, outp)\n",
    "\n",
    "    print(\"-\" * 100)\n",
    "    print('** Finished saving the data.')\n",
    "    return lens\n",
    "\n",
    "\n",
    "# lens = data2pkl()"
   ]
  },
  {
   "cell_type": "code",
   "execution_count": null,
   "metadata": {},
   "outputs": [],
   "source": []
  },
  {
   "cell_type": "code",
   "execution_count": 19,
   "metadata": {
    "ExecuteTime": {
     "end_time": "2020-05-23T07:40:03.280912Z",
     "start_time": "2020-05-23T07:40:03.269369Z"
    }
   },
   "outputs": [
    {
     "name": "stdout",
     "output_type": "stream",
     "text": [
      "train len: 24271\n",
      "test len: 7585\n",
      "valid len: 6068\n"
     ]
    }
   ],
   "source": [
    "# 加载数据\n",
    "\n",
    "import pickle\n",
    "\n",
    "pickle_path = '../datasets/ner/renmin/renmindata_TF.pkl'\n",
    "with open(pickle_path, 'rb') as inp:\n",
    "    word2id = pickle.load(inp)\n",
    "    id2word = pickle.load(inp)\n",
    "    tag2id = pickle.load(inp)\n",
    "    id2tag = pickle.load(inp)\n",
    "    \n",
    "    x_train = pickle.load(inp)\n",
    "    y_train = pickle.load(inp)\n",
    "    train_lens = pickle.load(inp)\n",
    "    \n",
    "    x_test = pickle.load(inp)\n",
    "    y_test = pickle.load(inp)\n",
    "    test_lens = pickle.load(inp)\n",
    "\n",
    "    x_valid = pickle.load(inp)\n",
    "    y_valid = pickle.load(inp)\n",
    "    valid_lens = pickle.load(inp)\n",
    "    \n",
    "print(\"train len:\", len(x_train))\n",
    "print(\"test len:\", len(x_test))\n",
    "print(\"valid len:\", len(x_valid))"
   ]
  },
  {
   "cell_type": "code",
   "execution_count": 20,
   "metadata": {
    "ExecuteTime": {
     "end_time": "2020-05-23T07:40:03.283920Z",
     "start_time": "2020-05-23T07:40:03.281736Z"
    }
   },
   "outputs": [
    {
     "data": {
      "text/plain": [
       "((24271, 60), (24271, 60), (24271,))"
      ]
     },
     "execution_count": 20,
     "metadata": {},
     "output_type": "execute_result"
    }
   ],
   "source": [
    "x_train.shape, y_train.shape, train_lens.shape"
   ]
  },
  {
   "cell_type": "code",
   "execution_count": 21,
   "metadata": {
    "ExecuteTime": {
     "end_time": "2020-05-23T07:40:03.288182Z",
     "start_time": "2020-05-23T07:40:03.284611Z"
    }
   },
   "outputs": [
    {
     "name": "stdout",
     "output_type": "stream",
     "text": [
      "word:这 --> label:O\n",
      "word:种 --> label:O\n",
      "word:信 --> label:O\n",
      "word:念 --> label:O\n",
      "word:深 --> label:O\n",
      "word:深 --> label:O\n",
      "word:地 --> label:O\n",
      "word:刻 --> label:O\n",
      "word:在 --> label:O\n",
      "word:了 --> label:O\n",
      "word:小 --> label:O\n",
      "word:王 --> label:B_nr\n",
      "word:磊 --> label:E_nr\n",
      "word:和 --> label:O\n",
      "word:他 --> label:O\n",
      "word:的 --> label:O\n",
      "word:同 --> label:O\n",
      "word:学 --> label:O\n",
      "word:们 --> label:O\n",
      "word:心 --> label:O\n",
      "word:中 --> label:O\n"
     ]
    }
   ],
   "source": [
    "import random\n",
    "\n",
    "\n",
    "def test_data(i):\n",
    "    k = 0\n",
    "    for word_id, label_id in zip(x_train[i], y_train[i]):\n",
    "        if k < train_lens[i]:\n",
    "            print(f\"word:{id2word[word_id]} --> label:{id2tag[label_id]}\")\n",
    "            k += 1\n",
    "\n",
    "\n",
    "test_data(random.randint(0, 24271))"
   ]
  },
  {
   "cell_type": "code",
   "execution_count": null,
   "metadata": {},
   "outputs": [],
   "source": []
  },
  {
   "cell_type": "markdown",
   "metadata": {},
   "source": [
    "## 数据管道"
   ]
  },
  {
   "cell_type": "code",
   "execution_count": 22,
   "metadata": {
    "ExecuteTime": {
     "end_time": "2020-05-23T07:40:03.294331Z",
     "start_time": "2020-05-23T07:40:03.288848Z"
    }
   },
   "outputs": [],
   "source": [
    "batch_size = 32\n",
    "\n",
    "train_dataset = tf.data.Dataset.from_tensor_slices(\n",
    "    (x_train, y_train, train_lens))\n",
    "train_dataset = train_dataset.batch(batch_size).prefetch(\n",
    "    buffer_size=tf.data.experimental.AUTOTUNE)\n",
    "\n",
    "valid_dataset = tf.data.Dataset.from_tensor_slices(\n",
    "    (x_valid, y_valid, valid_lens))\n",
    "valid_dataset = valid_dataset.batch(batch_size).prefetch(\n",
    "    buffer_size=tf.data.experimental.AUTOTUNE)\n",
    "\n",
    "test_dataset = tf.data.Dataset.from_tensor_slices((x_test, y_test, test_lens))\n",
    "test_dataset = test_dataset.batch(batch_size).prefetch(\n",
    "    buffer_size=tf.data.experimental.AUTOTUNE)"
   ]
  },
  {
   "cell_type": "code",
   "execution_count": null,
   "metadata": {
    "ExecuteTime": {
     "end_time": "2020-05-23T05:17:59.700982Z",
     "start_time": "2020-05-23T05:17:59.675762Z"
    }
   },
   "outputs": [],
   "source": []
  },
  {
   "cell_type": "code",
   "execution_count": null,
   "metadata": {},
   "outputs": [],
   "source": []
  },
  {
   "cell_type": "code",
   "execution_count": null,
   "metadata": {},
   "outputs": [],
   "source": []
  },
  {
   "cell_type": "code",
   "execution_count": null,
   "metadata": {},
   "outputs": [],
   "source": []
  },
  {
   "cell_type": "markdown",
   "metadata": {},
   "source": [
    "# BiLSTM-CRF模型"
   ]
  },
  {
   "cell_type": "markdown",
   "metadata": {},
   "source": [
    "## CRF 层"
   ]
  },
  {
   "cell_type": "code",
   "execution_count": 23,
   "metadata": {
    "ExecuteTime": {
     "end_time": "2020-05-23T07:40:03.296500Z",
     "start_time": "2020-05-23T07:40:03.295029Z"
    }
   },
   "outputs": [],
   "source": [
    "# from tensorflow.python.framework import dtypes\n",
    "\n",
    "\n",
    "# # 用来初始化转移矩阵\n",
    "# class TransitionInit:\n",
    "#     def __call__(self, shape, dtype=dtypes.float32):\n",
    "#         \"\"\"Returns a tensor object initialized as specified by the initializer.\n",
    "#     Args:\n",
    "#       shape: Shape of the tensor.\n",
    "#       dtype: Optional dtype of the tensor. Only numeric or boolean dtypes are\n",
    "#        supported.\n",
    "#     Raises:\n",
    "#       ValuesError: If the dtype is not numeric or boolean.\n",
    "#     \"\"\"\n",
    "#         dtype = dtypes.as_dtype(dtype)\n",
    "#         if not dtype.is_numpy_compatible or dtype == dtypes.string:\n",
    "#             raise ValueError(\"Expected numeric or boolean dtype, got %s.\" %\n",
    "#                              dtype)\n",
    "\n",
    "#         transitions = np.random.uniform(-0.1, 0.1, shape)\n",
    "\n",
    "#         # 任意标签 --> <start> 标签的转移分数\n",
    "#         transitions[:, 0] = -1000.0\n",
    "\n",
    "#         # <end> --> 任意标签的 转移分数\n",
    "#         transitions[-1, :] = -1000.0\n",
    "#         return tf.cast(transitions, dtype=dtype)"
   ]
  },
  {
   "cell_type": "code",
   "execution_count": 24,
   "metadata": {
    "ExecuteTime": {
     "end_time": "2020-05-23T07:40:03.300473Z",
     "start_time": "2020-05-23T07:40:03.297276Z"
    },
    "code_folding": []
   },
   "outputs": [],
   "source": [
    "# class CRF(tf.keras.layers.Layer):\n",
    "#     def __init__(self, num_tags):\n",
    "#         super(CRF, self).__init__()\n",
    "#         self.num_tags = num_tags\n",
    "\n",
    "#     def build(self, input_shape):\n",
    "#         self.transitions = self.add_weight(\n",
    "#             name=\"transition_matrix\",\n",
    "#             shape=[self.num_tags, self.num_tags],\n",
    "#             initializer=tf.keras.initializers.glorot_uniform())\n",
    "\n",
    "#     def call(self, inputs, tag_indices, sequence_lengths):\n",
    "#         sequence_scores = self.crf_sequence_score(\n",
    "#             inputs,\n",
    "#             tag_indices,\n",
    "#             sequence_lengths,\n",
    "#             self.transitions,\n",
    "#         )\n",
    "#         log_norm = self.crf_log_norm(\n",
    "#             inputs,\n",
    "#             sequence_lengths,\n",
    "#             self.transitions,\n",
    "#         )\n",
    "#         return sequence_scores - log_norm\n",
    "\n",
    "#     def crf_sequence_score(\n",
    "#             self,\n",
    "#             inputs,\n",
    "#             tag_indices,\n",
    "#             sequence_lengths,\n",
    "#             transition_params,\n",
    "#     ):\n",
    "#         unary_scores = self.crf_unary_score(tag_indices, sequence_lengths,\n",
    "#                                             inputs)\n",
    "#         binary_scores = self.crf_binary_score(tag_indices, sequence_lengths,\n",
    "#                                               transition_params)\n",
    "#         sequence_scores = unary_scores + binary_scores\n",
    "#         return sequence_scores\n",
    "\n",
    "#     def crf_unary_score(self, tag_indices, sequence_lengths, inputs):\n",
    "#         tag_indices = tf.cast(tag_indices, dtype=tf.int32)\n",
    "#         sequence_lengths = tf.cast(sequence_lengths, dtype=tf.int32)\n",
    "\n",
    "#         batch_size = tf.shape(inputs)[0]\n",
    "#         max_seq_len = tf.shape(inputs)[1]\n",
    "#         num_tags = tf.shape(inputs)[2]\n",
    "\n",
    "#         # batch_size * max_seq_len * num_tags\n",
    "#         flattened_inputs = tf.reshape(inputs, [-1])\n",
    "\n",
    "#         # inputs 输入批数据的 预测 标签分布 [batch_size, max_seq_len, num_tags] 展平之后，\n",
    "#         # 用来标记每个元素的标签分布的起点索引\n",
    "#         offsets = tf.expand_dims(\n",
    "#             tf.range(batch_size) * max_seq_len * num_tags, 1)\n",
    "#         offsets += tf.expand_dims(tf.range(max_seq_len) * num_tags, 0)\n",
    "\n",
    "#         # Use int32 or int64 based on tag_indices' dtype.\n",
    "#         if tag_indices.dtype == tf.int64:\n",
    "#             offsets = tf.cast(offsets, tf.int64)\n",
    "\n",
    "#         # 批数据对应的每个元素的真实标签 tag_indices 对应的索引\n",
    "#         flattened_tag_indices = tf.reshape(offsets + tag_indices, [-1])\n",
    "\n",
    "#         # 搜集真实标签对应的所有发射分数\n",
    "#         unary_scores = tf.reshape(\n",
    "#             tf.gather(flattened_inputs, flattened_tag_indices),\n",
    "#             [batch_size, max_seq_len])\n",
    "\n",
    "#         masks = tf.sequence_mask(sequence_lengths,\n",
    "#                                  maxlen=tf.shape(tag_indices)[1],\n",
    "#                                  dtype=tf.float32)\n",
    "\n",
    "#         unary_scores = tf.reduce_sum(unary_scores * masks, 1)\n",
    "#         return unary_scores\n",
    "\n",
    "#     def crf_binary_score(self, tag_indices, sequence_lengths,\n",
    "#                          transition_params):\n",
    "#         tag_indices = tf.cast(tag_indices, dtype=tf.int32)\n",
    "#         sequence_lengths = tf.cast(sequence_lengths, dtype=tf.int32)\n",
    "\n",
    "#         num_tags = tf.shape(transition_params)[0]\n",
    "#         num_transitions = tf.shape(tag_indices)[1] - 1  # 10 个标签只有 9 个转移分数\n",
    "\n",
    "#         # tag_indices[:,:-1]，表示 行索引\n",
    "#         start_tag_indices = tf.slice(tag_indices, [0, 0],\n",
    "#                                      [-1, num_transitions])\n",
    "\n",
    "#         # tag_indices[:,1:]，表示 列索引\n",
    "#         end_tag_indices = tf.slice(tag_indices, [0, 1], [-1, num_transitions])\n",
    "\n",
    "#         # 展平后的索引\n",
    "#         flattened_transition_indices = start_tag_indices * num_tags + end_tag_indices\n",
    "#         flattened_transition_params = tf.reshape(transition_params, [-1])\n",
    "\n",
    "#         # 根据索引获得转移分数\n",
    "#         binary_scores = tf.gather(flattened_transition_params,\n",
    "#                                   flattened_transition_indices)\n",
    "\n",
    "#         masks = tf.sequence_mask(sequence_lengths,\n",
    "#                                  maxlen=tf.shape(tag_indices)[1],\n",
    "#                                  dtype=tf.float32)\n",
    "#         truncated_masks = tf.slice(masks, [0, 1], [-1, -1])\n",
    "#         binary_scores = tf.reduce_sum(binary_scores * truncated_masks, 1)\n",
    "#         return binary_scores\n",
    "\n",
    "#     def crf_log_norm(\n",
    "#             self,\n",
    "#             inputs,\n",
    "#             sequence_lengths,\n",
    "#             transition_params,\n",
    "#     ):\n",
    "#         sequence_lengths = tf.cast(sequence_lengths, dtype=tf.int32)\n",
    "#         # Split up the first and rest of the inputs in preparation for the forward\n",
    "#         # algorithm.\n",
    "#         first_input = tf.slice(inputs, [0, 0, 0], [-1, 1, -1])\n",
    "#         first_input = tf.squeeze(first_input, [1])\n",
    "\n",
    "#         rest_of_input = tf.slice(inputs, [0, 1, 0], [-1, -1, -1])\n",
    "#         # Compute the alpha values in the forward algorithm in order to get the\n",
    "#         # partition function.\n",
    "\n",
    "#         alphas = self.crf_forward(rest_of_input, first_input,\n",
    "#                                   transition_params, sequence_lengths)\n",
    "#         # logsum_exp 求得最终的分数，（batch,)\n",
    "#         log_norm = tf.reduce_logsumexp(alphas, [1])\n",
    "#         # Mask `log_norm` of the sequences with length <= zero.\n",
    "#         log_norm = tf.where(tf.less_equal(sequence_lengths, 0),\n",
    "#                             tf.zeros_like(log_norm), log_norm)\n",
    "#         return log_norm\n",
    "\n",
    "#     def crf_forward(self, inputs, state, transition_params, sequence_lengths):\n",
    "#         sequence_lengths = tf.cast(sequence_lengths, dtype=tf.int32)\n",
    "\n",
    "#         last_index = tf.maximum(tf.constant(0, dtype=sequence_lengths.dtype),\n",
    "#                                 sequence_lengths - 1)\n",
    "\n",
    "#         # (seq, batch, num_tags)\n",
    "#         inputs = tf.transpose(inputs, [1, 0, 2])\n",
    "\n",
    "#         # (0, num_tags, num_tags)\n",
    "#         transition_params = tf.expand_dims(transition_params, 0)\n",
    "\n",
    "#         # 跟定前一状态 _state 和当前的输入 _inputs 计算下一状态\n",
    "#         def _scan_fn(_state, _inputs):\n",
    "#             _state = tf.expand_dims(_state, 2)\n",
    "#             transition_scores = _state + transition_params\n",
    "#             new_alphas = _inputs + tf.reduce_logsumexp(transition_scores, [1])\n",
    "#             return new_alphas\n",
    "\n",
    "#         # batch, seq_len,num_tags\n",
    "#         all_alphas = tf.transpose(tf.scan(_scan_fn, inputs, state), [1, 0, 2])\n",
    "#         # add first state for sequences of length 1\n",
    "#         all_alphas = tf.concat([tf.expand_dims(state, 1), all_alphas], 1)\n",
    "\n",
    "#         idxs = tf.stack([tf.range(tf.shape(last_index)[0]), last_index],\n",
    "#                         axis=1)\n",
    "\n",
    "#         # 提取序列最后一个元素对应的标签分布\n",
    "#         return tf.gather_nd(all_alphas, idxs)\n",
    "\n",
    "#     def viterbi_decode(self, score):\n",
    "#         \"\"\"Decode the highest scoring sequence of tags outside of TensorFlow.\n",
    "#         This should only be used at test time.\n",
    "#         Args:\n",
    "#           score: A [seq_len, num_tags] matrix of unary potentials.\n",
    "#         Returns:\n",
    "#           viterbi: A [seq_len] list of integers containing the highest scoring tag\n",
    "#               indices.\n",
    "#           viterbi_score: A float containing the score for the Viterbi sequence.\n",
    "#         \"\"\"\n",
    "#         trellis = np.zeros_like(score)\n",
    "#         backpointers = np.zeros_like(score, dtype=np.int32)\n",
    "#         trellis[0] = score[0]\n",
    "\n",
    "#         for t in range(1, score.shape[0]):\n",
    "#             v = np.expand_dims(trellis[t - 1], 1) + self.transitions\n",
    "#             trellis[t] = score[t] + np.max(v, 0)\n",
    "#             backpointers[t] = np.argmax(v, 0)\n",
    "\n",
    "#         viterbi = [np.argmax(trellis[-1])]\n",
    "#         for bp in reversed(backpointers[1:]):\n",
    "#             viterbi.append(bp[viterbi[-1]])\n",
    "#         viterbi.reverse()\n",
    "\n",
    "#         viterbi_score = np.max(trellis[-1])\n",
    "#         return viterbi, viterbi_score"
   ]
  },
  {
   "cell_type": "code",
   "execution_count": 25,
   "metadata": {
    "ExecuteTime": {
     "end_time": "2020-05-23T07:40:03.302741Z",
     "start_time": "2020-05-23T07:40:03.301164Z"
    }
   },
   "outputs": [],
   "source": [
    "# crf = CRF(5)"
   ]
  },
  {
   "cell_type": "code",
   "execution_count": 26,
   "metadata": {
    "ExecuteTime": {
     "end_time": "2020-05-23T07:40:03.304822Z",
     "start_time": "2020-05-23T07:40:03.303460Z"
    }
   },
   "outputs": [],
   "source": [
    "# inputs = tf.cast(tf.constant(np.random.randn(2, 5, 5)), dtype=tf.float32)\n",
    "# tag_indices = tf.constant([[0, 3, 2, 1, 4], [1, 2, 3, 4, 2]])\n",
    "# sequence_lengths = tf.constant([4, 5])"
   ]
  },
  {
   "cell_type": "code",
   "execution_count": 27,
   "metadata": {
    "ExecuteTime": {
     "end_time": "2020-05-23T07:40:03.307029Z",
     "start_time": "2020-05-23T07:40:03.305616Z"
    }
   },
   "outputs": [],
   "source": [
    "# crf(inputs, tag_indices, sequence_lengths)"
   ]
  },
  {
   "cell_type": "code",
   "execution_count": 28,
   "metadata": {
    "ExecuteTime": {
     "end_time": "2020-05-23T07:40:03.308912Z",
     "start_time": "2020-05-23T07:40:03.307722Z"
    }
   },
   "outputs": [],
   "source": [
    "# score = tf.random.normal([3, 5], -3, 3, tf.float32)\n",
    "\n",
    "# crf.viterbi_decode(score)"
   ]
  },
  {
   "cell_type": "code",
   "execution_count": null,
   "metadata": {},
   "outputs": [],
   "source": []
  },
  {
   "cell_type": "code",
   "execution_count": null,
   "metadata": {},
   "outputs": [],
   "source": []
  },
  {
   "cell_type": "markdown",
   "metadata": {},
   "source": [
    "## BiLSTM-CRF"
   ]
  },
  {
   "cell_type": "code",
   "execution_count": 29,
   "metadata": {
    "ExecuteTime": {
     "end_time": "2020-05-23T07:40:03.332605Z",
     "start_time": "2020-05-23T07:40:03.309783Z"
    }
   },
   "outputs": [],
   "source": [
    "from tensorflow_addons.text import crf_log_likelihood, viterbi_decode\n",
    "\n",
    "\n",
    "class BiLSTM_CRF(tf.keras.Model):\n",
    "    def __init__(self, vocab_size, embedding_size, hidden_size, num_tags):\n",
    "        super(BiLSTM_CRF, self).__init__()\n",
    "        self.vocab_size = vocab_size\n",
    "        self.embedding_size = embedding_size\n",
    "        self.hidden_size = hidden_size\n",
    "        self.num_tags = num_tags\n",
    "\n",
    "        # 词嵌入\n",
    "        self.embeds = tf.keras.layers.Embedding(\n",
    "            vocab_size,\n",
    "            embedding_size,\n",
    "        )\n",
    "\n",
    "        # 双向LSTM\n",
    "        self.lstm = tf.keras.layers.Bidirectional(\n",
    "            tf.keras.layers.LSTM(\n",
    "                hidden_size // 2,\n",
    "                return_sequences=True,\n",
    "                dropout=0.1,\n",
    "                recurrent_dropout=0.1,\n",
    "            ), )\n",
    "\n",
    "        # Dropout\n",
    "        self.dropout = tf.keras.layers.Dropout(0.5)\n",
    "\n",
    "        # 线性层\n",
    "        self.hidden2tag = tf.keras.layers.Dense(num_tags, activation='relu')\n",
    "\n",
    "        # 转移矩阵\n",
    "        self.transition_params = tf.Variable(\n",
    "            tf.random.uniform(shape=(num_tags, num_tags)), trainable=True)\n",
    "\n",
    "    def call(self, texts, seq_lens, labels=None, training=True):\n",
    "        \"\"\"\n",
    "        texts: (batch,seq_len)\n",
    "        seq_lens: (batch,)\n",
    "        labels: (batch,seq_len)        \n",
    "        \"\"\"\n",
    "        feats = self._get_feats(texts, training)\n",
    "\n",
    "        # 给定标签数据就计算损失，否则就返回 lstm 后的结果\n",
    "        if labels is not None:\n",
    "            loss, transition_params = crf_log_likelihood(\n",
    "                feats, labels, seq_lens, self.transition_params)\n",
    "            return loss, feats  # (batch,) , (batch,seq_len,num_tags)\n",
    "        else:\n",
    "            return feats  # (batch,seq_len,num_tags)\n",
    "\n",
    "    def _get_feats(self, texts, training):\n",
    "        \"\"\"\n",
    "        texts: (batch,seq_len)\n",
    "        \"\"\"\n",
    "        x = self.embeds(texts)\n",
    "        x = self.lstm(x)\n",
    "        x = self.dropout(x, training)\n",
    "        feats = self.hidden2tag(x)\n",
    "        return feats  # (batch,seq_len,num_tags)\n",
    "\n",
    "    def predict(self, texts, seq_lens, return_score=False):\n",
    "        texts = tf.cast(texts, dtype=tf.int32)\n",
    "\n",
    "        # (seq_len,) --> (batch, seq_len), batch=1\n",
    "        if texts.ndim == 1:\n",
    "            texts = tf.expand_dims(texts, 0)\n",
    "\n",
    "        feats = self._get_feats(texts, training=False)\n",
    "        output, scores = self.decode(feats, seq_lens)\n",
    "        if return_score:\n",
    "            return output, scores\n",
    "        return output\n",
    "\n",
    "    def decode(self, feats, seq_lens):\n",
    "        output = []\n",
    "        scores = []\n",
    "        for idx, feat in enumerate(feats):\n",
    "            seq_len = seq_lens[idx]\n",
    "            feat = feat[:seq_len]\n",
    "            viterbi, viterbi_score = viterbi_decode(feat,\n",
    "                                                    self.transition_params)\n",
    "            output.append(viterbi)\n",
    "            scores.append(viterbi_score)\n",
    "        return output, scores"
   ]
  },
  {
   "cell_type": "code",
   "execution_count": 30,
   "metadata": {
    "ExecuteTime": {
     "end_time": "2020-05-23T07:40:03.351708Z",
     "start_time": "2020-05-23T07:40:03.334874Z"
    },
    "code_folding": []
   },
   "outputs": [
    {
     "name": "stdout",
     "output_type": "stream",
     "text": [
      "WARNING:tensorflow:Layer lstm will not use cuDNN kernel since it doesn't meet the cuDNN kernel criteria. It will use generic GPU kernel as fallback when running on GPU\n",
      "WARNING:tensorflow:Layer lstm will not use cuDNN kernel since it doesn't meet the cuDNN kernel criteria. It will use generic GPU kernel as fallback when running on GPU\n",
      "WARNING:tensorflow:Layer lstm will not use cuDNN kernel since it doesn't meet the cuDNN kernel criteria. It will use generic GPU kernel as fallback when running on GPU\n"
     ]
    }
   ],
   "source": [
    "# 模型初始化\n",
    "model = BiLSTM_CRF(vocab_size=10, embedding_size=6, hidden_size=12, num_tags=5)\n",
    "\n",
    "# 实验数据\n",
    "inputs = tf.constant([[6, 3, 2, 4, 0], [5, 9, 3, 6, 2]])\n",
    "targets = tf.constant([[0, 3, 2, 1, 4], [1, 2, 3, 4, 2]])\n",
    "sequence_lengths = tf.constant([4, 5])"
   ]
  },
  {
   "cell_type": "code",
   "execution_count": 31,
   "metadata": {
    "ExecuteTime": {
     "end_time": "2020-05-23T07:40:03.525821Z",
     "start_time": "2020-05-23T07:40:03.352957Z"
    },
    "code_folding": []
   },
   "outputs": [
    {
     "name": "stdout",
     "output_type": "stream",
     "text": [
      "[-6.19701862 -8.29329681]\n"
     ]
    }
   ],
   "source": [
    "# 计算损失\n",
    "loss, feats = model(inputs, sequence_lengths, targets)\n",
    "tf.print(loss)"
   ]
  },
  {
   "cell_type": "code",
   "execution_count": 32,
   "metadata": {
    "ExecuteTime": {
     "end_time": "2020-05-23T07:40:03.548273Z",
     "start_time": "2020-05-23T07:40:03.526680Z"
    },
    "code_folding": []
   },
   "outputs": [
    {
     "name": "stdout",
     "output_type": "stream",
     "text": [
      "TensorShape([2, 5, 5])\n"
     ]
    }
   ],
   "source": [
    "# 获得 lstm 及 dense 后的输出\n",
    "feats = model(inputs, sequence_lengths)\n",
    "tf.print(feats.shape)"
   ]
  },
  {
   "cell_type": "code",
   "execution_count": 33,
   "metadata": {
    "ExecuteTime": {
     "end_time": "2020-05-23T07:40:03.556781Z",
     "start_time": "2020-05-23T07:40:03.549078Z"
    },
    "code_folding": []
   },
   "outputs": [
    {
     "data": {
      "text/plain": [
       "([[0, 0, 0, 0], [0, 0, 0, 0, 0]], [2.9811132, 3.9704278])"
      ]
     },
     "execution_count": 33,
     "metadata": {},
     "output_type": "execute_result"
    }
   ],
   "source": [
    "# 解码 lstm 及 dense 后的输出\n",
    "model.decode(feats, sequence_lengths)"
   ]
  },
  {
   "cell_type": "code",
   "execution_count": 34,
   "metadata": {
    "ExecuteTime": {
     "end_time": "2020-05-23T07:40:03.583473Z",
     "start_time": "2020-05-23T07:40:03.557578Z"
    },
    "code_folding": []
   },
   "outputs": [
    {
     "data": {
      "text/plain": [
       "[[0, 0, 0, 0], [0, 0, 0, 0, 0]]"
      ]
     },
     "execution_count": 34,
     "metadata": {},
     "output_type": "execute_result"
    }
   ],
   "source": [
    "# 预测\n",
    "model.predict(inputs, sequence_lengths)"
   ]
  },
  {
   "cell_type": "code",
   "execution_count": null,
   "metadata": {},
   "outputs": [],
   "source": []
  },
  {
   "cell_type": "code",
   "execution_count": null,
   "metadata": {},
   "outputs": [],
   "source": []
  },
  {
   "cell_type": "markdown",
   "metadata": {},
   "source": [
    "# 训练模型"
   ]
  },
  {
   "cell_type": "code",
   "execution_count": 35,
   "metadata": {
    "ExecuteTime": {
     "end_time": "2020-05-23T07:40:03.596759Z",
     "start_time": "2020-05-23T07:40:03.584224Z"
    }
   },
   "outputs": [
    {
     "name": "stdout",
     "output_type": "stream",
     "text": [
      "WARNING:tensorflow:Layer lstm_1 will not use cuDNN kernel since it doesn't meet the cuDNN kernel criteria. It will use generic GPU kernel as fallback when running on GPU\n",
      "WARNING:tensorflow:Layer lstm_1 will not use cuDNN kernel since it doesn't meet the cuDNN kernel criteria. It will use generic GPU kernel as fallback when running on GPU\n",
      "WARNING:tensorflow:Layer lstm_1 will not use cuDNN kernel since it doesn't meet the cuDNN kernel criteria. It will use generic GPU kernel as fallback when running on GPU\n"
     ]
    }
   ],
   "source": [
    "# 创建模型\n",
    "model = BiLSTM_CRF(vocab_size=len(word2id),\n",
    "                   embedding_size=100,\n",
    "                   hidden_size=200,\n",
    "                   num_tags=len(tag2id))"
   ]
  },
  {
   "cell_type": "code",
   "execution_count": 36,
   "metadata": {
    "ExecuteTime": {
     "end_time": "2020-05-23T07:40:03.599335Z",
     "start_time": "2020-05-23T07:40:03.597469Z"
    }
   },
   "outputs": [],
   "source": [
    "# 优化器\n",
    "optimizer = tf.keras.optimizers.Adam(learning_rate=0.001,\n",
    "                                     beta_1=0.9,\n",
    "                                     beta_2=0.999,\n",
    "                                     epsilon=1e-07,\n",
    "                                     amsgrad=False,\n",
    "                                     name='Adam')"
   ]
  },
  {
   "cell_type": "code",
   "execution_count": 37,
   "metadata": {
    "ExecuteTime": {
     "end_time": "2020-05-23T07:40:03.609061Z",
     "start_time": "2020-05-23T07:40:03.600164Z"
    }
   },
   "outputs": [],
   "source": [
    "# 模型保存点\n",
    "ckpt = tf.train.Checkpoint(optimizer=optimizer, model=model)\n",
    "ckpt.restore(tf.train.latest_checkpoint(\"../models/ner/\"))\n",
    "ckpt_manager = tf.train.CheckpointManager(ckpt,\n",
    "                                          \"../models/ner/\",\n",
    "                                          checkpoint_name='tf_model.ckpt',\n",
    "                                          max_to_keep=3)"
   ]
  },
  {
   "cell_type": "code",
   "execution_count": 38,
   "metadata": {
    "ExecuteTime": {
     "end_time": "2020-05-23T07:40:03.612432Z",
     "start_time": "2020-05-23T07:40:03.609802Z"
    }
   },
   "outputs": [],
   "source": [
    "# 训练的一步\n",
    "@tf.function\n",
    "def train_one_step(text_batch, labels_batch, seq_lens_batch):\n",
    "    with tf.GradientTape() as tape:\n",
    "        loss, feats = model(text_batch,\n",
    "                            seq_lens_batch,\n",
    "                            labels_batch,\n",
    "                            training=True)\n",
    "        loss = -tf.reduce_mean(loss)\n",
    "    grads = tape.gradient(loss, model.trainable_variables)\n",
    "    optimizer.apply_gradients(zip(grads, model.trainable_variables))\n",
    "    return loss, feats"
   ]
  },
  {
   "cell_type": "code",
   "execution_count": 39,
   "metadata": {
    "ExecuteTime": {
     "end_time": "2020-05-23T07:40:03.614588Z",
     "start_time": "2020-05-23T07:40:03.613243Z"
    }
   },
   "outputs": [],
   "source": [
    "# for data in train_dataset:\n",
    "#     text_batch, labels_batch, seq_lens_batch = data\n",
    "#     loss, feats = train_one_step(text_batch, labels_batch, seq_lens_batch)\n",
    "#     print(loss)\n",
    "#     break"
   ]
  },
  {
   "cell_type": "code",
   "execution_count": null,
   "metadata": {},
   "outputs": [],
   "source": []
  },
  {
   "cell_type": "code",
   "execution_count": 40,
   "metadata": {
    "ExecuteTime": {
     "end_time": "2020-05-23T07:40:03.617813Z",
     "start_time": "2020-05-23T07:40:03.615428Z"
    }
   },
   "outputs": [],
   "source": [
    "# 训练时评估\n",
    "# @tf.function\n",
    "def get_acc_on_training(feats, seq_lens_batch, labels_batch):\n",
    "    output, scores = model.decode(feats, seq_lens_batch)\n",
    "    accuracy = 0\n",
    "    for idx, pred in enumerate(output):\n",
    "        text_len = seq_lens_batch[idx]\n",
    "        correct_prediction = pred == labels_batch[idx][:text_len]\n",
    "        accuracy = accuracy + tf.reduce_mean(\n",
    "            tf.cast(correct_prediction, tf.float32))\n",
    "    accuracy = accuracy / len(output)\n",
    "    return accuracy"
   ]
  },
  {
   "cell_type": "code",
   "execution_count": null,
   "metadata": {},
   "outputs": [],
   "source": []
  },
  {
   "cell_type": "code",
   "execution_count": 41,
   "metadata": {
    "ExecuteTime": {
     "end_time": "2020-05-23T07:40:03.621297Z",
     "start_time": "2020-05-23T07:40:03.618502Z"
    }
   },
   "outputs": [],
   "source": [
    "# 在验证集上进行评估\n",
    "def validate(valid_dataset):\n",
    "    accuracy_list = []\n",
    "    loss_list = []\n",
    "    for text_batch, labels_batch, seq_lens_batch in valid_dataset:\n",
    "        loss, feats = model(text_batch,\n",
    "                            seq_lens_batch,\n",
    "                            labels_batch,\n",
    "                            training=False)\n",
    "        loss = -tf.reduce_mean(loss)\n",
    "        loss_list.append(loss)\n",
    "\n",
    "        accuracy = get_acc_on_training(feats, seq_lens_batch, labels_batch)\n",
    "        accuracy_list.append(accuracy)\n",
    "\n",
    "        print(\n",
    "            f\"Epoch {epoch}, Step {idx} on training_data: loss {loss:.4f} accuracy {acc:.4f}\"\n",
    "        )\n",
    "\n",
    "    return tf.reduce_mean(accuracy_list), tf.reduce_mean(loss_list)"
   ]
  },
  {
   "cell_type": "code",
   "execution_count": 42,
   "metadata": {
    "ExecuteTime": {
     "end_time": "2020-05-23T07:40:03.623630Z",
     "start_time": "2020-05-23T07:40:03.622082Z"
    }
   },
   "outputs": [],
   "source": [
    "# # 训练模型\n",
    "\n",
    "# num_epochs = 10\n",
    "# best_acc = 0\n",
    "# step = 0\n",
    "\n",
    "# print(\"Starting Training----------------------\")\n",
    "# for epoch in range(num_epochs):\n",
    "#     print(\"Epoch {epoch}: -----------------------------\")\n",
    "#     for idx, data in enumerate(train_dataset):\n",
    "#         text_batch, labels_batch, seq_lens_batch = data\n",
    "#         loss, feats = train_one_step(text_batch, labels_batch, seq_lens_batch)\n",
    "\n",
    "#         if idx % 100 == 0:\n",
    "#             acc = get_acc_on_training(feats, seq_lens_batch, labels_batch)\n",
    "#             print(\n",
    "#                 f\"Epoch {epoch}, Step {idx} on training_data: loss {loss:.4f} accuracy {acc:.4f}\"\n",
    "#             )\n",
    "\n",
    "#             if acc > best_acc:\n",
    "#                 best_acc = acc\n",
    "#                 ckpt_manager.save()\n",
    "#                 print(\"model saved\")\n",
    "\n",
    "#     print(\"Starting validation----------------------\")\n",
    "#     acc, loss = validate(valid_dataset)\n",
    "#     print(\n",
    "#         f\"Epoch {epoch} on valid_dataset: loss {loss:.4f} accuracy {acc:.4f}\")"
   ]
  },
  {
   "cell_type": "code",
   "execution_count": null,
   "metadata": {},
   "outputs": [],
   "source": []
  },
  {
   "cell_type": "code",
   "execution_count": null,
   "metadata": {},
   "outputs": [],
   "source": []
  },
  {
   "cell_type": "code",
   "execution_count": 47,
   "metadata": {
    "ExecuteTime": {
     "end_time": "2020-05-23T07:42:59.983112Z",
     "start_time": "2020-05-23T07:42:59.975642Z"
    }
   },
   "outputs": [],
   "source": [
    "from sklearn.metrics import precision_score, recall_score, f1_score,\\\n",
    "classification_report, confusion_matrix\n",
    "\n",
    "\n",
    "# 在测试集上进行评估\n",
    "def test(test_dataset):\n",
    "    preds = []\n",
    "    labels = []\n",
    "    for text_batch, labels_batch, seq_lens_batch in valid_dataset:\n",
    "        output = model.predict(text_batch, seq_lens_batch, return_score=False)\n",
    "\n",
    "        for idx, pred in enumerate(output):\n",
    "            preds.append(pred)\n",
    "\n",
    "        for idx, length in enumerate(seq_lens_batch):\n",
    "            label = labels_batch[idx]\n",
    "            labels.append(label[:length])\n",
    "    preds = tf.concat(preds, 0)\n",
    "    labels = tf.concat(labels, 0)\n",
    "\n",
    "    # 损失值与评测指标\n",
    "    accuracy = precision_score(labels, preds, average='macro')\n",
    "    recall = recall_score(labels, preds, average='macro')\n",
    "    f1 = f1_score(labels, preds, average='macro')\n",
    "    report = classification_report(labels, preds)\n",
    "    confusion = confusion_matrix(labels, preds)\n",
    "    print(report)\n",
    "    return report, confusion"
   ]
  },
  {
   "cell_type": "code",
   "execution_count": 48,
   "metadata": {
    "ExecuteTime": {
     "end_time": "2020-05-23T07:44:13.944538Z",
     "start_time": "2020-05-23T07:43:04.376138Z"
    }
   },
   "outputs": [
    {
     "name": "stdout",
     "output_type": "stream",
     "text": [
      "              precision    recall  f1-score   support\n",
      "\n",
      "           0       0.93      0.87      0.90      3122\n",
      "           1       0.88      0.84      0.86      3589\n",
      "           2       0.93      0.88      0.90      2808\n",
      "           3       0.80      0.68      0.74      2165\n",
      "           4       0.88      0.82      0.85      1763\n",
      "           5       0.95      0.98      0.96     62994\n",
      "           6       0.86      0.80      0.83      1766\n",
      "           7       0.86      0.82      0.84      3590\n",
      "           8       0.95      0.88      0.91      3122\n",
      "           9       0.87      0.82      0.84      6495\n",
      "\n",
      "    accuracy                           0.93     91414\n",
      "   macro avg       0.89      0.84      0.86     91414\n",
      "weighted avg       0.93      0.93      0.93     91414\n",
      "\n"
     ]
    }
   ],
   "source": [
    "report, confusion = test(test_dataset)"
   ]
  },
  {
   "cell_type": "code",
   "execution_count": 61,
   "metadata": {
    "ExecuteTime": {
     "end_time": "2020-05-23T07:49:29.509370Z",
     "start_time": "2020-05-23T07:49:29.076211Z"
    }
   },
   "outputs": [
    {
     "data": {
      "image/png": "[encoded data removed]",
      "text/plain": [
       "<Figure size 1080x720 with 2 Axes>"
      ]
     },
     "metadata": {},
     "output_type": "display_data"
    }
   ],
   "source": [
    "import seaborn as sn\n",
    "import pandas as pd\n",
    "import matplotlib.pyplot as plt\n",
    "\n",
    "df_cm = pd.DataFrame(confusion, index=id2tag.values(), columns=id2tag.values())\n",
    "plt.figure(figsize=(15, 10))\n",
    "sn.set(font_scale=1.6)  # for label size\n",
    "sn.heatmap(df_cm, annot=True, annot_kws={\"size\": 16})  # font size\n",
    "\n",
    "plt.show()"
   ]
  },
  {
   "cell_type": "code",
   "execution_count": null,
   "metadata": {},
   "outputs": [],
   "source": []
  },
  {
   "cell_type": "code",
   "execution_count": 66,
   "metadata": {
    "ExecuteTime": {
     "end_time": "2020-05-23T07:52:47.678814Z",
     "start_time": "2020-05-23T07:52:47.519009Z"
    }
   },
   "outputs": [
    {
     "data": {
      "text/plain": [
       "['O', 'O', 'O', 'O', 'O', 'O', 'O', 'O', 'O', 'O', 'O', 'O', 'M_nr']"
      ]
     },
     "execution_count": 66,
     "metadata": {},
     "output_type": "execute_result"
    }
   ],
   "source": [
    "texts = \"张三被人称做武汉市的潘长江\"\n",
    "texts = [word2id[char] for char in texts]\n",
    "[id2tag[idx] for idx in model.predict([texts],[len(texts)])[0]]"
   ]
  },
  {
   "cell_type": "code",
   "execution_count": null,
   "metadata": {},
   "outputs": [],
   "source": []
  },
  {
   "cell_type": "code",
   "execution_count": 63,
   "metadata": {
    "ExecuteTime": {
     "end_time": "2020-05-23T07:51:41.482095Z",
     "start_time": "2020-05-23T07:51:41.476473Z"
    }
   },
   "outputs": [
    {
     "data": {
      "text/plain": [
       "[243, 169, 388, 6, 720, 391, 505, 776, 40, 1, 1283, 56, 263]"
      ]
     },
     "execution_count": 63,
     "metadata": {},
     "output_type": "execute_result"
    }
   ],
   "source": [
    "texts"
   ]
  },
  {
   "cell_type": "code",
   "execution_count": 64,
   "metadata": {
    "ExecuteTime": {
     "end_time": "2020-05-23T07:51:58.793854Z",
     "start_time": "2020-05-23T07:51:58.783230Z"
    }
   },
   "outputs": [
    {
     "name": "stdout",
     "output_type": "stream",
     "text": [
      "张\n",
      "三\n",
      "被\n",
      "人\n",
      "称\n",
      "做\n",
      "武\n",
      "汉\n",
      "市\n",
      "的\n",
      "潘\n",
      "长\n",
      "江\n"
     ]
    }
   ],
   "source": [
    "for char in texts:\n",
    "    print(id2word[char])"
   ]
  },
  {
   "cell_type": "code",
   "execution_count": 67,
   "metadata": {
    "ExecuteTime": {
     "end_time": "2020-05-23T07:53:41.595314Z",
     "start_time": "2020-05-23T07:53:41.484847Z"
    }
   },
   "outputs": [
    {
     "data": {
      "text/plain": [
       "<tf.Variable 'Variable:0' shape=(10, 10) dtype=float32, numpy=\n",
       "array([[-1.4565768 , -0.2668708 , -1.4588898 , -0.96626824,  0.7774348 ,\n",
       "         1.3503712 , -0.42583653, -0.670542  ,  1.013316  , -1.2852898 ],\n",
       "       [-1.6923217 , -1.8564918 , -2.0272608 ,  2.5345836 , -0.53357553,\n",
       "        -1.5543331 , -0.75915736,  2.535033  , -0.84643745, -1.6576437 ],\n",
       "       [ 2.6982732 , -1.1180472 ,  1.580841  , -1.1378007 ,  0.02719036,\n",
       "        -1.4680803 , -0.8082865 , -1.1196982 , -1.247668  , -1.1725149 ],\n",
       "       [-1.3088363 , -1.6260566 , -0.8690887 ,  2.3284018 , -0.19171521,\n",
       "        -1.4200029 , -1.7348543 ,  2.4578133 , -0.69194967, -1.426078  ],\n",
       "       [-1.1099789 , -1.3653592 , -1.2233981 , -1.7706767 , -1.6521014 ,\n",
       "        -1.3060299 , -0.5044783 , -1.5118856 ,  0.03823521,  2.347221  ],\n",
       "       [-1.4294145 ,  1.3479629 , -1.0984501 , -0.8855818 ,  1.4003327 ,\n",
       "         1.846974  , -2.1977484 , -1.0670334 ,  1.50594   , -1.6302812 ],\n",
       "       [-0.42180887,  1.4681315 , -0.15112583, -0.67110956,  0.28797987,\n",
       "         1.2220994 , -1.5260357 ,  0.24302065,  0.5234591 , -1.3364195 ],\n",
       "       [-0.9884885 ,  1.6716403 , -0.6477013 , -1.180912  ,  0.5357406 ,\n",
       "         1.9982591 , -0.2342102 , -1.066995  ,  0.95836693, -2.0337667 ],\n",
       "       [ 1.954069  , -0.70438814,  1.9781734 , -1.074977  , -0.44699046,\n",
       "        -1.4960674 ,  0.05146991, -1.7689792 , -2.0360427 , -0.85294247],\n",
       "       [-0.9183206 , -1.3838243 , -0.864366  , -1.5194589 , -1.9551535 ,\n",
       "        -1.7132007 ,  2.427616  , -1.6193479 , -0.5131948 ,  1.8051652 ]],\n",
       "      dtype=float32)>"
      ]
     },
     "execution_count": 67,
     "metadata": {},
     "output_type": "execute_result"
    }
   ],
   "source": [
    "model.transition_params"
   ]
  },
  {
   "cell_type": "code",
   "execution_count": 68,
   "metadata": {
    "ExecuteTime": {
     "end_time": "2020-05-23T07:54:47.338475Z",
     "start_time": "2020-05-23T07:54:47.221701Z"
    }
   },
   "outputs": [
    {
     "data": {
      "text/html": [
       "<div>\n",
       "<style scoped>\n",
       "    .dataframe tbody tr th:only-of-type {\n",
       "        vertical-align: middle;\n",
       "    }\n",
       "\n",
       "    .dataframe tbody tr th {\n",
       "        vertical-align: top;\n",
       "    }\n",
       "\n",
       "    .dataframe thead th {\n",
       "        text-align: right;\n",
       "    }\n",
       "</style>\n",
       "<table border=\"1\" class=\"dataframe\">\n",
       "  <thead>\n",
       "    <tr style=\"text-align: right;\">\n",
       "      <th></th>\n",
       "      <th>E_nr</th>\n",
       "      <th>B_ns</th>\n",
       "      <th>M_nr</th>\n",
       "      <th>M_ns</th>\n",
       "      <th>B_nt</th>\n",
       "      <th>O</th>\n",
       "      <th>E_nt</th>\n",
       "      <th>E_ns</th>\n",
       "      <th>B_nr</th>\n",
       "      <th>M_nt</th>\n",
       "    </tr>\n",
       "  </thead>\n",
       "  <tbody>\n",
       "    <tr>\n",
       "      <th>E_nr</th>\n",
       "      <td>-1.456577</td>\n",
       "      <td>-0.266871</td>\n",
       "      <td>-1.458890</td>\n",
       "      <td>-0.966268</td>\n",
       "      <td>0.777435</td>\n",
       "      <td>1.350371</td>\n",
       "      <td>-0.425837</td>\n",
       "      <td>-0.670542</td>\n",
       "      <td>1.013316</td>\n",
       "      <td>-1.285290</td>\n",
       "    </tr>\n",
       "    <tr>\n",
       "      <th>B_ns</th>\n",
       "      <td>-1.692322</td>\n",
       "      <td>-1.856492</td>\n",
       "      <td>-2.027261</td>\n",
       "      <td>2.534584</td>\n",
       "      <td>-0.533576</td>\n",
       "      <td>-1.554333</td>\n",
       "      <td>-0.759157</td>\n",
       "      <td>2.535033</td>\n",
       "      <td>-0.846437</td>\n",
       "      <td>-1.657644</td>\n",
       "    </tr>\n",
       "    <tr>\n",
       "      <th>M_nr</th>\n",
       "      <td>2.698273</td>\n",
       "      <td>-1.118047</td>\n",
       "      <td>1.580841</td>\n",
       "      <td>-1.137801</td>\n",
       "      <td>0.027190</td>\n",
       "      <td>-1.468080</td>\n",
       "      <td>-0.808286</td>\n",
       "      <td>-1.119698</td>\n",
       "      <td>-1.247668</td>\n",
       "      <td>-1.172515</td>\n",
       "    </tr>\n",
       "    <tr>\n",
       "      <th>M_ns</th>\n",
       "      <td>-1.308836</td>\n",
       "      <td>-1.626057</td>\n",
       "      <td>-0.869089</td>\n",
       "      <td>2.328402</td>\n",
       "      <td>-0.191715</td>\n",
       "      <td>-1.420003</td>\n",
       "      <td>-1.734854</td>\n",
       "      <td>2.457813</td>\n",
       "      <td>-0.691950</td>\n",
       "      <td>-1.426078</td>\n",
       "    </tr>\n",
       "    <tr>\n",
       "      <th>B_nt</th>\n",
       "      <td>-1.109979</td>\n",
       "      <td>-1.365359</td>\n",
       "      <td>-1.223398</td>\n",
       "      <td>-1.770677</td>\n",
       "      <td>-1.652101</td>\n",
       "      <td>-1.306030</td>\n",
       "      <td>-0.504478</td>\n",
       "      <td>-1.511886</td>\n",
       "      <td>0.038235</td>\n",
       "      <td>2.347221</td>\n",
       "    </tr>\n",
       "    <tr>\n",
       "      <th>O</th>\n",
       "      <td>-1.429415</td>\n",
       "      <td>1.347963</td>\n",
       "      <td>-1.098450</td>\n",
       "      <td>-0.885582</td>\n",
       "      <td>1.400333</td>\n",
       "      <td>1.846974</td>\n",
       "      <td>-2.197748</td>\n",
       "      <td>-1.067033</td>\n",
       "      <td>1.505940</td>\n",
       "      <td>-1.630281</td>\n",
       "    </tr>\n",
       "    <tr>\n",
       "      <th>E_nt</th>\n",
       "      <td>-0.421809</td>\n",
       "      <td>1.468132</td>\n",
       "      <td>-0.151126</td>\n",
       "      <td>-0.671110</td>\n",
       "      <td>0.287980</td>\n",
       "      <td>1.222099</td>\n",
       "      <td>-1.526036</td>\n",
       "      <td>0.243021</td>\n",
       "      <td>0.523459</td>\n",
       "      <td>-1.336419</td>\n",
       "    </tr>\n",
       "    <tr>\n",
       "      <th>E_ns</th>\n",
       "      <td>-0.988488</td>\n",
       "      <td>1.671640</td>\n",
       "      <td>-0.647701</td>\n",
       "      <td>-1.180912</td>\n",
       "      <td>0.535741</td>\n",
       "      <td>1.998259</td>\n",
       "      <td>-0.234210</td>\n",
       "      <td>-1.066995</td>\n",
       "      <td>0.958367</td>\n",
       "      <td>-2.033767</td>\n",
       "    </tr>\n",
       "    <tr>\n",
       "      <th>B_nr</th>\n",
       "      <td>1.954069</td>\n",
       "      <td>-0.704388</td>\n",
       "      <td>1.978173</td>\n",
       "      <td>-1.074977</td>\n",
       "      <td>-0.446990</td>\n",
       "      <td>-1.496067</td>\n",
       "      <td>0.051470</td>\n",
       "      <td>-1.768979</td>\n",
       "      <td>-2.036043</td>\n",
       "      <td>-0.852942</td>\n",
       "    </tr>\n",
       "    <tr>\n",
       "      <th>M_nt</th>\n",
       "      <td>-0.918321</td>\n",
       "      <td>-1.383824</td>\n",
       "      <td>-0.864366</td>\n",
       "      <td>-1.519459</td>\n",
       "      <td>-1.955153</td>\n",
       "      <td>-1.713201</td>\n",
       "      <td>2.427616</td>\n",
       "      <td>-1.619348</td>\n",
       "      <td>-0.513195</td>\n",
       "      <td>1.805165</td>\n",
       "    </tr>\n",
       "  </tbody>\n",
       "</table>\n",
       "</div>"
      ],
      "text/plain": [
       "          E_nr      B_ns      M_nr      M_ns      B_nt         O      E_nt  \\\n",
       "E_nr -1.456577 -0.266871 -1.458890 -0.966268  0.777435  1.350371 -0.425837   \n",
       "B_ns -1.692322 -1.856492 -2.027261  2.534584 -0.533576 -1.554333 -0.759157   \n",
       "M_nr  2.698273 -1.118047  1.580841 -1.137801  0.027190 -1.468080 -0.808286   \n",
       "M_ns -1.308836 -1.626057 -0.869089  2.328402 -0.191715 -1.420003 -1.734854   \n",
       "B_nt -1.109979 -1.365359 -1.223398 -1.770677 -1.652101 -1.306030 -0.504478   \n",
       "O    -1.429415  1.347963 -1.098450 -0.885582  1.400333  1.846974 -2.197748   \n",
       "E_nt -0.421809  1.468132 -0.151126 -0.671110  0.287980  1.222099 -1.526036   \n",
       "E_ns -0.988488  1.671640 -0.647701 -1.180912  0.535741  1.998259 -0.234210   \n",
       "B_nr  1.954069 -0.704388  1.978173 -1.074977 -0.446990 -1.496067  0.051470   \n",
       "M_nt -0.918321 -1.383824 -0.864366 -1.519459 -1.955153 -1.713201  2.427616   \n",
       "\n",
       "          E_ns      B_nr      M_nt  \n",
       "E_nr -0.670542  1.013316 -1.285290  \n",
       "B_ns  2.535033 -0.846437 -1.657644  \n",
       "M_nr -1.119698 -1.247668 -1.172515  \n",
       "M_ns  2.457813 -0.691950 -1.426078  \n",
       "B_nt -1.511886  0.038235  2.347221  \n",
       "O    -1.067033  1.505940 -1.630281  \n",
       "E_nt  0.243021  0.523459 -1.336419  \n",
       "E_ns -1.066995  0.958367 -2.033767  \n",
       "B_nr -1.768979 -2.036043 -0.852942  \n",
       "M_nt -1.619348 -0.513195  1.805165  "
      ]
     },
     "execution_count": 68,
     "metadata": {},
     "output_type": "execute_result"
    }
   ],
   "source": [
    "transitons = pd.DataFrame(model.transition_params.numpy(),\n",
    "                          index=id2tag.values(),\n",
    "                          columns=id2tag.values())\n",
    "transitons"
   ]
  },
  {
   "cell_type": "code",
   "execution_count": null,
   "metadata": {},
   "outputs": [],
   "source": []
  },
  {
   "cell_type": "code",
   "execution_count": null,
   "metadata": {},
   "outputs": [],
   "source": []
  },
  {
   "cell_type": "code",
   "execution_count": null,
   "metadata": {},
   "outputs": [],
   "source": []
  },
  {
   "cell_type": "code",
   "execution_count": null,
   "metadata": {},
   "outputs": [],
   "source": []
  },
  {
   "cell_type": "code",
   "execution_count": null,
   "metadata": {},
   "outputs": [],
   "source": []
  },
  {
   "cell_type": "code",
   "execution_count": null,
   "metadata": {},
   "outputs": [],
   "source": []
  },
  {
   "cell_type": "code",
   "execution_count": null,
   "metadata": {},
   "outputs": [],
   "source": []
  },
  {
   "cell_type": "code",
   "execution_count": null,
   "metadata": {},
   "outputs": [],
   "source": []
  },
  {
   "cell_type": "code",
   "execution_count": null,
   "metadata": {},
   "outputs": [],
   "source": []
  }
 ],
 "metadata": {
  "kernelspec": {
   "display_name": "Python 3",
   "language": "python",
   "name": "python3"
  },
  "language_info": {
   "codemirror_mode": {
    "name": "ipython",
    "version": 3
   },
   "file_extension": ".py",
   "mimetype": "text/x-python",
   "name": "python",
   "nbconvert_exporter": "python",
   "pygments_lexer": "ipython3",
   "version": "3.7.7"
  },
  "toc": {
   "base_numbering": 1,
   "nav_menu": {
    "height": "213px",
    "width": "278px"
   },
   "number_sections": true,
   "sideBar": true,
   "skip_h1_title": false,
   "title_cell": "Table of Contents",
   "title_sidebar": "Contents",
   "toc_cell": true,
   "toc_position": {
    "height": "calc(100% - 180px)",
    "left": "10px",
    "top": "150px",
    "width": "165px"
   },
   "toc_section_display": true,
   "toc_window_display": true
  },
  "varInspector": {
   "cols": {
    "lenName": 16,
    "lenType": 16,
    "lenVar": 40
   },
   "kernels_config": {
    "python": {
     "delete_cmd_postfix": "",
     "delete_cmd_prefix": "del ",
     "library": "var_list.py",
     "varRefreshCmd": "print(var_dic_list())"
    },
    "r": {
     "delete_cmd_postfix": ") ",
     "delete_cmd_prefix": "rm(",
     "library": "var_list.r",
     "varRefreshCmd": "cat(var_dic_list()) "
    }
   },
   "position": {
    "height": "731.719px",
    "left": "154.273px",
    "right": "20px",
    "top": "213px",
    "width": "800px"
   },
   "types_to_exclude": [
    "module",
    "function",
    "builtin_function_or_method",
    "instance",
    "_Feature"
   ],
   "window_display": false
  }
 },
 "nbformat": 4,
 "nbformat_minor": 4
}
