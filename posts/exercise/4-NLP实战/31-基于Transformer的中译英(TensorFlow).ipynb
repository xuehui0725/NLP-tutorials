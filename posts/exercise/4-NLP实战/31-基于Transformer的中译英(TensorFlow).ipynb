{
 "cells": [
  {
   "cell_type": "markdown",
   "metadata": {},
   "source": [
    "# 基于`transformer`的中译英模型\n",
    "[原始Google链接](https://tensorflow.google.cn/tutorials/text/transformer#%E4%BC%98%E5%8C%96%E5%99%A8%EF%BC%88optimizer%EF%BC%89)\n",
    "  \n",
    "目录：\n"
   ]
  },
  {
   "cell_type": "code",
   "execution_count": 22,
   "metadata": {},
   "outputs": [],
   "source": [
    "import io\n",
    "import re\n",
    "import jieba\n",
    "import tensorflow as tf\n",
    "import time\n",
    "import numpy as np\n",
    "import matplotlib.pyplot as plt\n",
    "import zhconv\n",
    "from sklearn.model_selection import train_test_split"
   ]
  },
  {
   "cell_type": "code",
   "execution_count": 23,
   "metadata": {},
   "outputs": [
    {
     "data": {
      "text/plain": [
       "'2.0.0'"
      ]
     },
     "execution_count": 23,
     "metadata": {},
     "output_type": "execute_result"
    }
   ],
   "source": [
    "plt.rcParams['font.sans-serif']=['SimHei']\n",
    "tf.__version__"
   ]
  },
  {
   "cell_type": "markdown",
   "metadata": {},
   "source": [
    "## 一、语料数据处理及向量化\n",
    "原始语料每一行为一条中文短句及对应的英文翻译，两者通过 `\\t` 隔开"
   ]
  },
  {
   "cell_type": "code",
   "execution_count": 24,
   "metadata": {},
   "outputs": [],
   "source": [
    "data_dir = '../H/datasets/cmn-eng/cmn.txt'"
   ]
  },
  {
   "cell_type": "code",
   "execution_count": 25,
   "metadata": {},
   "outputs": [
    {
     "data": {
      "text/plain": [
       "['Hi.\\t嗨。\\tCC-BY 2.0 (France) Attribution: tatoeba.org #538123 (CM) & #891077 (Martha)\\n',\n",
       " 'Hi.\\t你好。\\tCC-BY 2.0 (France) Attribution: tatoeba.org #538123 (CM) & #4857568 (musclegirlxyp)\\n',\n",
       " 'Run.\\t你用跑的。\\tCC-BY 2.0 (France) Attribution: tatoeba.org #4008918 (JSakuragi) & #3748344 (egg0073)\\n',\n",
       " 'Wait!\\t等等！\\tCC-BY 2.0 (France) Attribution: tatoeba.org #1744314 (belgavox) & #4970122 (wzhd)\\n',\n",
       " 'Wait!\\t等一下！\\tCC-BY 2.0 (France) Attribution: tatoeba.org #1744314 (belgavox) & #5092613 (mirrorvan)\\n']"
      ]
     },
     "execution_count": 25,
     "metadata": {},
     "output_type": "execute_result"
    }
   ],
   "source": [
    "io.open(data_dir, encoding='utf-8').readlines()[:5]"
   ]
  },
  {
   "cell_type": "code",
   "execution_count": 26,
   "metadata": {},
   "outputs": [],
   "source": [
    "# 英文处理\n",
    "def preprocess_eng(w):\n",
    "    w = w.lower().strip()\n",
    "\n",
    "    # 在单词与跟在其后的标点符号之间插入一个空格\n",
    "    # 例如： \"he is a boy.\" => \"he is a boy .\"\n",
    "    w = re.sub(r\"([?.!,¿])\", r\"\\1 \", w)\n",
    "    w = re.sub(r\"[' ']+\", \" \", w)\n",
    "\n",
    "    # 除了 (a-z, A-Z, \".\", \"?\", \"!\", \",\")，将所有字符替换为空格\n",
    "    w = re.sub(r\"[^a-zA-Z?.!,¿]+\", \" \", w)\n",
    "\n",
    "    w = w.rstrip().strip()\n",
    "\n",
    "    # 给句子加上开始和结束标记，以便模型知道何时开始和结束预测\n",
    "    w = '<start> ' + w + ' <end>'\n",
    "    return w"
   ]
  },
  {
   "cell_type": "code",
   "execution_count": 27,
   "metadata": {},
   "outputs": [],
   "source": [
    "# 中文处理\n",
    "def preprocess_zh(w):\n",
    "    w = zhconv.convert(w, \"zh-cn\")\n",
    "    w = ' '.join(jieba.cut(w))\n",
    "    w = w.rstrip().strip()\n",
    "    w = \"<start> \" + w + \" <end>\"\n",
    "    return w"
   ]
  },
  {
   "cell_type": "code",
   "execution_count": 28,
   "metadata": {},
   "outputs": [],
   "source": [
    "# 原始语料预处理\n",
    "def create_dataset(data_dir, num_examples):\n",
    "    lines = io.open(data_dir, encoding='utf-8').read().strip().split('\\n')\n",
    "    eng, zh = [], []\n",
    "    for line in lines[:num_examples]:\n",
    "        word_pairs = line.split(\"\\t\")\n",
    "        eng.append(preprocess_eng(word_pairs[0]))\n",
    "        zh.append(preprocess_zh(word_pairs[1]))\n",
    "    return [eng, zh]"
   ]
  },
  {
   "cell_type": "code",
   "execution_count": 29,
   "metadata": {},
   "outputs": [
    {
     "name": "stdout",
     "output_type": "stream",
     "text": [
      "<start> if a person has not had a chance to acquire his target language by the time he s an adult, he s unlikely to be able to reach native speaker level in that language. <end>\n",
      "<start> 如果 一个 人 在 成人 前 没有 机会 习得 目标语言 ， 他 对 该 语言 的 认识 达到 母语 者 程度 的 机会 是 相当 小 的 。 <end>\n"
     ]
    }
   ],
   "source": [
    "eng, zh = create_dataset(data_dir, None)\n",
    "print(eng[-1])\n",
    "print(zh[-1])"
   ]
  },
  {
   "cell_type": "code",
   "execution_count": 30,
   "metadata": {},
   "outputs": [],
   "source": [
    "# 文本向量化\n",
    "def tokenize(lang):\n",
    "    lang_tokenizer = tf.keras.preprocessing.text.Tokenizer(filters=' ')\n",
    "    lang_tokenizer.fit_on_texts(lang)\n",
    "    tensor = lang_tokenizer.texts_to_sequences(lang)\n",
    "    tensor = tf.keras.preprocessing.sequence.pad_sequences(tensor,\n",
    "                                                           padding=\"post\")\n",
    "    return tensor, lang_tokenizer"
   ]
  },
  {
   "cell_type": "code",
   "execution_count": 31,
   "metadata": {},
   "outputs": [],
   "source": [
    "def load_dataset(data_dir, num_examples=None):\n",
    "    eng, zh = create_dataset(data_dir, num_examples)\n",
    "    zh_tensor, zh_tokenizer = tokenize(zh)\n",
    "    eng_tensor, eng_tokenizer = tokenize(eng)\n",
    "    return zh_tensor, zh_tokenizer, eng_tensor, eng_tokenizer"
   ]
  },
  {
   "cell_type": "code",
   "execution_count": 32,
   "metadata": {},
   "outputs": [],
   "source": [
    "num_examples = None\n",
    "zh_tensor, zh_tokenizer, eng_tensor, eng_tokenizer = load_dataset(data_dir, num_examples)"
   ]
  },
  {
   "cell_type": "code",
   "execution_count": 33,
   "metadata": {},
   "outputs": [],
   "source": [
    "# KEY：将分词器保存，方便后续使用\n",
    "\n",
    "tokenizer_dir = '../H/save/zh2eng_transformer_tokenizer/'\n",
    "zh_tokenizer_dir = tokenizer_dir + 'zh_tokenizer.json'\n",
    "eng_tokenizer_dir = tokenizer_dir + 'eng_tokenizer.json'\n",
    "\n",
    "tokenizer_json = zh_tokenizer.to_json()\n",
    "with io.open(zh_tokenizer_dir, 'w', encoding='utf-8') as f:\n",
    "    f.write(json.dumps(tokenizer_json, ensure_ascii=False))\n",
    "\n",
    "tokenizer_json = eng_tokenizer.to_json()\n",
    "with io.open(eng_tokenizer_dir, 'w', encoding='utf-8') as f:\n",
    "    f.write(json.dumps(tokenizer_json, ensure_ascii=False))"
   ]
  },
  {
   "cell_type": "code",
   "execution_count": 34,
   "metadata": {},
   "outputs": [],
   "source": [
    "# # 载入分词器\n",
    "# # from tensorflow.keras.preprocessing.text import tokenizer_from_json\n",
    "# # 2.0.0 版本没有这个函数\n",
    "\n",
    "# from tensorflow.keras.preprocessing.text import Tokenizer\n",
    "# import json\n",
    "# def tokenizer_from_json(json_string):\n",
    "#     \"\"\"Parses a JSON tokenizer configuration file and returns a\n",
    "#     tokenizer instance.\n",
    "\n",
    "#     # Arguments\n",
    "#         json_string: JSON string encoding a tokenizer configuration.\n",
    "\n",
    "#     # Returns\n",
    "#         A Keras Tokenizer instance\n",
    "#     \"\"\"\n",
    "#     tokenizer_config = json.loads(json_string)\n",
    "#     config = tokenizer_config.get('config')\n",
    "\n",
    "#     word_counts = json.loads(config.pop('word_counts'))\n",
    "#     word_docs = json.loads(config.pop('word_docs'))\n",
    "#     index_docs = json.loads(config.pop('index_docs'))\n",
    "#     # Integer indexing gets converted to strings with json.dumps()\n",
    "#     index_docs = {int(k): v for k, v in index_docs.items()}\n",
    "#     index_word = json.loads(config.pop('index_word'))\n",
    "#     index_word = {int(k): v for k, v in index_word.items()}\n",
    "#     word_index = json.loads(config.pop('word_index'))\n",
    "\n",
    "#     tokenizer = Tokenizer(**config)\n",
    "#     tokenizer.word_counts = word_counts\n",
    "#     tokenizer.word_docs = word_docs\n",
    "#     tokenizer.index_docs = index_docs\n",
    "#     tokenizer.word_index = word_index\n",
    "#     tokenizer.index_word = index_word\n",
    "\n",
    "#     return tokenizer\n",
    "\n",
    "\n",
    "# tokenizer_dir = '../H/save/zh2eng_transformer_tokenizer/'\n",
    "# zh_tokenizer_dir = tokenizer_dir + 'zh_tokenizer.json'\n",
    "# eng_tokenizer_dir = tokenizer_dir + 'eng_tokenizer.json'\n",
    "\n",
    "# with open(zh_tokenizer_dir) as f:\n",
    "#     data = json.load(f)\n",
    "#     zh_tokenizer = tokenizer_from_json(data)\n",
    "\n",
    "# with open(eng_tokenizer_dir) as f:\n",
    "#     data = json.load(f)\n",
    "#     zh_tokenizer = tokenizer_from_json(data)"
   ]
  },
  {
   "cell_type": "code",
   "execution_count": 35,
   "metadata": {},
   "outputs": [
    {
     "name": "stdout",
     "output_type": "stream",
     "text": [
      "(21621, 30) (21621, 36)\n"
     ]
    }
   ],
   "source": [
    "print(zh_tensor.shape, eng_tensor.shape)"
   ]
  },
  {
   "cell_type": "code",
   "execution_count": 36,
   "metadata": {},
   "outputs": [],
   "source": [
    "# 拆分训练集与测试集\n",
    "zh_tensor_train, zh_tensor_val, eng_tensor_train, eng_tensor_val = train_test_split(\n",
    "    zh_tensor, eng_tensor, test_size=0.2)"
   ]
  },
  {
   "cell_type": "code",
   "execution_count": 37,
   "metadata": {},
   "outputs": [
    {
     "name": "stdout",
     "output_type": "stream",
     "text": [
      "17296 4325\n"
     ]
    }
   ],
   "source": [
    "print(len(zh_tensor_train), len(zh_tensor_val))"
   ]
  },
  {
   "cell_type": "code",
   "execution_count": 38,
   "metadata": {},
   "outputs": [
    {
     "name": "stdout",
     "output_type": "stream",
     "text": [
      "Input Language; index to word mapping\n",
      "1 ---> <start>\n",
      "4 ---> 我\n",
      "12 ---> 是\n",
      "7 ---> 你\n",
      "5 ---> 的\n",
      "2381 ---> 伙伴\n",
      "3 ---> 。\n",
      "2 ---> <end>\n",
      "\n",
      "Target Language; index to word mapping\n",
      "1 ---> <start>\n",
      "3 ---> i\n",
      "36 ---> m\n",
      "27 ---> your\n",
      "3917 ---> partner.\n",
      "2 ---> <end>\n"
     ]
    }
   ],
   "source": [
    "def convert(tokenizer, tensor):\n",
    "    for t in tensor:\n",
    "        if t != 0:\n",
    "            print(\"%d ---> %s\" % (t, tokenizer.index_word[t]))\n",
    "\n",
    "\n",
    "print(\"Input Language; index to word mapping\")\n",
    "convert(zh_tokenizer, zh_tensor_train[0])\n",
    "print()\n",
    "print(\"Target Language; index to word mapping\")\n",
    "convert(eng_tokenizer, eng_tensor_train[0])"
   ]
  },
  {
   "cell_type": "code",
   "execution_count": 39,
   "metadata": {},
   "outputs": [
    {
     "data": {
      "text/plain": [
       "(10696, 9756)"
      ]
     },
     "execution_count": 39,
     "metadata": {},
     "output_type": "execute_result"
    }
   ],
   "source": [
    "BUFFER_SIZE = len(zh_tensor_train)\n",
    "BATCH_SIZE = 64\n",
    "steps_per_epoch = len(zh_tensor_train) // BATCH_SIZE\n",
    "\n",
    "embedding_size = 256\n",
    "# units = 1024\n",
    "zh_vocab_size = len(zh_tokenizer.word_index) + 1\n",
    "eng_vocab_size = len(eng_tokenizer.word_index) + 1\n",
    "\n",
    "zh_vocab_size, eng_vocab_size"
   ]
  },
  {
   "cell_type": "code",
   "execution_count": 40,
   "metadata": {},
   "outputs": [],
   "source": [
    "# 创建 tf.dataset 数据集\n",
    "dataset = tf.data.Dataset.from_tensor_slices(\n",
    "    (zh_tensor_train, eng_tensor_train)).shuffle(BUFFER_SIZE)\n",
    "dataset = dataset.batch(BATCH_SIZE, drop_remainder=True).prefetch(\n",
    "    tf.data.experimental.AUTOTUNE)"
   ]
  },
  {
   "cell_type": "code",
   "execution_count": 41,
   "metadata": {},
   "outputs": [
    {
     "name": "stdout",
     "output_type": "stream",
     "text": [
      "(64, 30) (64, 36)\n"
     ]
    }
   ],
   "source": [
    "example_zh_batch, example_eng_batch = next(iter(dataset))\n",
    "print(example_zh_batch.shape, example_eng_batch.shape)"
   ]
  },
  {
   "cell_type": "markdown",
   "metadata": {},
   "source": [
    "## 二、位置编码(Positional encoding)\n",
    "对 token 序列中，每个 token 所处的位置信息进行编码，每个位置编码成一个维度为 d_model 的向量\n",
    "      \n",
    "$PE_{(pos, 2i)} = sin(pos/10000^{2i/d\\_model})$\n",
    "     \n",
    "$PE_{(pos, 2i+1)} = sin(pos/10000^{2i/d\\_model})$\n"
   ]
  },
  {
   "cell_type": "code",
   "execution_count": 42,
   "metadata": {},
   "outputs": [],
   "source": [
    "def get_angles(pos, i, d_model):\n",
    "    \"\"\"\n",
    "    pos:     [seq_len, 1]\n",
    "    i:       [1, d_model]\n",
    "    d_model: int \n",
    "    return:  [seq_len, d_model]\n",
    "    \"\"\"\n",
    "    angle_rates = 1 / np.power(10000, (2 * (i // 2)) / np.float32(d_model))\n",
    "    return pos * angle_rates"
   ]
  },
  {
   "cell_type": "code",
   "execution_count": 43,
   "metadata": {},
   "outputs": [],
   "source": [
    "def positional_encoding(position, d_model):\n",
    "    # 位置总数 position 个，每个位置编码成 d_model 维向量\n",
    "    angle_rads = get_angles(\n",
    "        np.arange(position)[:, np.newaxis],\n",
    "        np.arange(d_model)[np.newaxis, :], d_model)\n",
    "\n",
    "    # 将 sin 应用于 d_model 维中的偶数索引\n",
    "    angle_rads[:, 0::2] = np.sin(angle_rads[:, 0::2])\n",
    "\n",
    "    # 将 cos 应用于 d_model 维中的偶数索引\n",
    "    angle_rads[:, 1::2] = np.cos(angle_rads[:, 1::2])\n",
    "\n",
    "    # 返回：[1, position, d_model]\n",
    "    pos_encoding = angle_rads[np.newaxis, ...]\n",
    "    return tf.cast(pos_encoding, dtype=tf.float32)"
   ]
  },
  {
   "cell_type": "code",
   "execution_count": 44,
   "metadata": {},
   "outputs": [
    {
     "name": "stdout",
     "output_type": "stream",
     "text": [
      "(1, 30, 512)\n"
     ]
    }
   ],
   "source": [
    "pos_encoding = positional_encoding(30, 512)\n",
    "print(pos_encoding.shape)"
   ]
  },
  {
   "cell_type": "code",
   "execution_count": 45,
   "metadata": {},
   "outputs": [
    {
     "name": "stderr",
     "output_type": "stream",
     "text": [
      "/home/yangbin7/anaconda3/lib/python3.7/site-packages/matplotlib/backends/backend_agg.py:211: RuntimeWarning: Glyph 8722 missing from current font.\n",
      "  font.set_text(s, 0.0, flags=flags)\n",
      "/home/yangbin7/anaconda3/lib/python3.7/site-packages/matplotlib/backends/backend_agg.py:180: RuntimeWarning: Glyph 8722 missing from current font.\n",
      "  font.set_text(s, 0, flags=flags)\n"
     ]
    },
    {
     "data": {
      "image/png": "[encoded data removed]",
      "text/plain": [
       "<Figure size 432x288 with 2 Axes>"
      ]
     },
     "metadata": {
      "needs_background": "light"
     },
     "output_type": "display_data"
    }
   ],
   "source": [
    "plt.pcolormesh(pos_encoding[0], cmap='RdBu')\n",
    "plt.xlabel('Depth')\n",
    "plt.xlim((0, 512))\n",
    "plt.ylabel('Position')\n",
    "plt.colorbar()\n",
    "plt.show()"
   ]
  },
  {
   "cell_type": "markdown",
   "metadata": {},
   "source": [
    "## 三、遮挡（Masking）：遮挡序列中满足特定条件的标记\n",
    "1. 遮挡值为 0 的标记\n",
    "2. 前瞻遮挡（look-ahead mask）用于遮挡一个序列中的后续标记（future tokens）。\n",
    "   \n",
    ">例如序列生成中：   \n",
    "当要预测第三个词时，将仅使用第一个和第二个词，后续所有词被遮挡；     \n",
    "与此类似，预测第四个词，仅使用第一个，第二个和第三个词，依此类推。"
   ]
  },
  {
   "cell_type": "code",
   "execution_count": 46,
   "metadata": {},
   "outputs": [
    {
     "data": {
      "text/plain": [
       "<tf.Tensor: id=56, shape=(3, 1, 1, 5), dtype=float32, numpy=\n",
       "array([[[[0., 0., 1., 1., 0.]]],\n",
       "\n",
       "\n",
       "       [[[0., 0., 0., 1., 1.]]],\n",
       "\n",
       "\n",
       "       [[[1., 1., 1., 0., 0.]]]], dtype=float32)>"
      ]
     },
     "execution_count": 46,
     "metadata": {},
     "output_type": "execute_result"
    }
   ],
   "source": [
    "def create_padding_mask(seq):\n",
    "    # 将 seq 序列中为 0 的位置标记为 1，其它的位置标记为 0\n",
    "    seq = tf.cast(tf.math.equal(seq, 0), tf.float32)\n",
    "    return seq[:, tf.newaxis, tf.newaxis, :]  # (batch_size, 1, 1, seq_len)\n",
    "\n",
    "# 增加到 4 维，是因为注意力权重形状为 [batch_size, num_heads, seq_len, seq_len]\n",
    "\n",
    "x = tf.constant([[7, 6, 0, 0, 1], [1, 2, 3, 0, 0], [0, 0, 0, 4, 5]])\n",
    "create_padding_mask(x)"
   ]
  },
  {
   "cell_type": "code",
   "execution_count": 47,
   "metadata": {},
   "outputs": [
    {
     "name": "stdout",
     "output_type": "stream",
     "text": [
      "tf.Tensor(\n",
      "[[0. 1. 1.]\n",
      " [0. 0. 1.]\n",
      " [0. 0. 0.]], shape=(3, 3), dtype=float32)\n"
     ]
    }
   ],
   "source": [
    "def create_look_ahead_mask(size):\n",
    "    # tf.linalg.band_part: 以对角线为中心，取指定带宽的上三角和下三角，其它数据 0 填充\n",
    "    mask = 1 - tf.linalg.band_part(tf.ones((size, size)), -1, 0)\n",
    "    return mask\n",
    "\n",
    "\n",
    "x = tf.random.uniform((1, 3))\n",
    "print(create_look_ahead_mask(x.shape[1]))"
   ]
  },
  {
   "cell_type": "code",
   "execution_count": null,
   "metadata": {},
   "outputs": [],
   "source": []
  },
  {
   "cell_type": "markdown",
   "metadata": {},
   "source": [
    "## 四、按比例缩放的点积注意力(Scaled dot product attention)\n",
    "- 原理如下图所示：\n",
    "![](images/scaled_attention.png)\n",
    "注意力函数有三个输入：Q（请求（query））、K（主键（key））、V（数值（value））.用于计算注意力权重的等式为：\n",
    "   \n",
    "$$Attention(Q,K,V)=softmax(\\frac{QK^T}{\\sqrt{d_k}})V $$\n",
    "    \n",
    "> 点积注意力被缩小了深度的平方根倍 $\\sqrt{d_k}$。这样做是因为对于较大的深度值，点积的大小会增大，从而推动 softmax 函数往仅有很小的梯度的方向靠拢，导致了一种很硬的（hard）softmax。\n",
    "\n",
    "- 在机器翻译中，点积注意力的用法如下所示\n",
    "\n",
    "\n",
    "![](images/scaled-dot-product-attention.png)\n",
    "\n",
    "> 图中向量 $q_t$ 与 $K=[k_1, k_2, k_3, k_4]$ 每个向量做点积，然后转换为权重，权重值越大可以认为越“关注”该处的信息，然后每个位置的 $v$ 与该处的权重相乘，然后求和得到 $q_t$ 对 $K$ 做注意力的输出向量"
   ]
  },
  {
   "cell_type": "code",
   "execution_count": 97,
   "metadata": {},
   "outputs": [],
   "source": [
    "def scaled_dot_product_attention(q, k, v, mask):\n",
    "    \"\"\"\n",
    "    :param q: (batch_size, seq_len_q, depth)\n",
    "    :param k: (batch_size, seq_len_k, depth)\n",
    "    :param v: (batch_size, seq_len_v, depth_v)\n",
    "    :param mask: (batch_size, seq_len_q, deq_len_k)\n",
    "    :return:\n",
    "    \"\"\"\n",
    "    matmul_qk = tf.matmul(q, k, transpose_b=True)\n",
    "    # (..., seq_len_q, seq_len_k)\n",
    "\n",
    "    dk = tf.cast(tf.shape(k)[-1], tf.float32)\n",
    "    scaled_attention_logits = matmul_qk / tf.math.sqrt(dk)\n",
    "    \n",
    "    print(\"shape of mask:\", mask.shape)\n",
    "    print(\"shape of atten:\", scaled_attention_logits.shape)\n",
    "    if mask is not None:\n",
    "        scaled_attention_logits += (mask * -1e9)\n",
    "        # 在待遮挡处减去一个较大值，softmax 即可忽略该位置\n",
    "\n",
    "    attention_weights = tf.nn.softmax(scaled_attention_logits, axis=-1)\n",
    "    # (..., seq_len_q, seq_len_k)\n",
    "\n",
    "    output = tf.matmul(attention_weights, v)\n",
    "    # (..., seq_len_q, depth_v)\n",
    "\n",
    "    return output, attention_weights"
   ]
  },
  {
   "cell_type": "code",
   "execution_count": 49,
   "metadata": {},
   "outputs": [],
   "source": [
    "def print_out(q, k, v):\n",
    "    temp_out, temp_attn = scaled_dot_product_attention(q, k, v, None)\n",
    "    print('Attention weights are:')\n",
    "    print(temp_attn)\n",
    "    print('Output is:')\n",
    "    print(temp_out)"
   ]
  },
  {
   "cell_type": "code",
   "execution_count": 50,
   "metadata": {},
   "outputs": [
    {
     "name": "stdout",
     "output_type": "stream",
     "text": [
      "Attention weights are:\n",
      "tf.Tensor([[0. 1. 0. 0.]], shape=(1, 4), dtype=float32)\n",
      "Output is:\n",
      "tf.Tensor([[10.  0.]], shape=(1, 2), dtype=float32)\n"
     ]
    }
   ],
   "source": [
    "np.set_printoptions(suppress=True)\n",
    "\n",
    "temp_k = tf.constant([[10, 0, 0], [0, 10, 0], [0, 0, 10], [0, 0, 10]],\n",
    "                     dtype=tf.float32)  # (4, 3)\n",
    "\n",
    "temp_v = tf.constant([[1, 0], [10, 0], [100, 5], [1000, 6]],\n",
    "                     dtype=tf.float32)  # (4, 2)\n",
    "\n",
    "# 这条 `请求（query）符合第二个`主键（key）`，\n",
    "# 因此返回了第二个`数值（value）`。\n",
    "temp_q = tf.constant([[0, 10, 0]], dtype=tf.float32)  # (1, 3)\n",
    "print_out(temp_q, temp_k, temp_v)"
   ]
  },
  {
   "cell_type": "markdown",
   "metadata": {},
   "source": [
    "## 五、多头注意力层（Multi-head attention）\n",
    "- 多头注意力如下图所示：\n",
    "![多头注意力](../images/multi_head_attention.png)\n",
    "> Q、K、和 V 被拆分到了多个头，允许模型共同注意来自不同表示空间的不同位置的信息"
   ]
  },
  {
   "cell_type": "code",
   "execution_count": 51,
   "metadata": {},
   "outputs": [],
   "source": [
    "class MultiHeadAttention(tf.keras.layers.Layer):\n",
    "    def __init__(self, d_model, num_heads):\n",
    "        super(MultiHeadAttention, self).__init__()\n",
    "        self.num_heads = num_heads\n",
    "        self.d_model = d_model\n",
    "\n",
    "        assert self.d_model % self.num_heads == 0\n",
    "\n",
    "        self.depth = d_model // self.num_heads\n",
    "\n",
    "        self.wq = tf.keras.layers.Dense(self.d_model)\n",
    "        self.wk = tf.keras.layers.Dense(self.d_model)\n",
    "        self.wv = tf.keras.layers.Dense(self.d_model)\n",
    "\n",
    "        self.dense = tf.keras.layers.Dense(d_model)\n",
    "\n",
    "    def split_heads(self, x, batch_size):\n",
    "        x = tf.reshape(x, (batch_size, -1, self.num_heads, self.depth))\n",
    "        return tf.transpose(x, perm=(0, 2, 1, 3)) \n",
    "        #  (batch_size, num_heads, seq_len, depth)，便于计算\n",
    "\n",
    "    def call(self, v, k, q, mask):\n",
    "        batch_size = tf.shape(q)[0]\n",
    "\n",
    "        q = self.wq(q)  # (batch_size, seq_len, d_model)\n",
    "        k = self.wk(k)  # (batch_size, seq_len, d_model)\n",
    "        v = self.wv(v)\n",
    "\n",
    "        q = self.split_heads(\n",
    "            q, batch_size)  # (batch_size, num_heads, seq_len_q, depth)\n",
    "        k = self.split_heads(k, batch_size)\n",
    "        v = self.split_heads(v, batch_size)\n",
    "\n",
    "        # scaled_attention.shape == (batch_size, num_heads, seq_len_q, depth)\n",
    "        # attention_weights.shape == (batch_size, num_heads, seq_len_q, seq_len_k)\n",
    "        scaled_attention, attention_weights = scaled_dot_product_attention(\n",
    "            q, k, v, mask)\n",
    "\n",
    "        scaled_attention = tf.transpose(\n",
    "            scaled_attention,\n",
    "            perm=[0, 2, 1, 3])  # (batch_size, seq_len_q, num_heads, depth)\n",
    "        concat_attention = tf.reshape(scaled_attention,\n",
    "                                      (batch_size, -1, self.d_model))\n",
    "\n",
    "        output = self.dense(\n",
    "            concat_attention)  # (batch_size, seq_len_q, d_model)\n",
    "        return output, attention_weights"
   ]
  },
  {
   "cell_type": "code",
   "execution_count": 52,
   "metadata": {},
   "outputs": [],
   "source": [
    "temp_mha = MultiHeadAttention(d_model=512, num_heads=8)\n",
    "y = tf.random.uniform((1, 60, 512))  # (batch_size, encoder_sequence, d_model)\n",
    "out, attn = temp_mha(y, k=y, q=y, mask=None)"
   ]
  },
  {
   "cell_type": "code",
   "execution_count": 53,
   "metadata": {},
   "outputs": [
    {
     "data": {
      "text/plain": [
       "(TensorShape([1, 60, 512]), TensorShape([1, 8, 60, 60]))"
      ]
     },
     "execution_count": 53,
     "metadata": {},
     "output_type": "execute_result"
    }
   ],
   "source": [
    "out.shape, attn.shape"
   ]
  },
  {
   "cell_type": "markdown",
   "metadata": {},
   "source": [
    "## 六、点式前馈网络（Point wise feed forward network）\n",
    "由两层全联接层组成，两层之间有一个 ReLU 激活函数"
   ]
  },
  {
   "cell_type": "code",
   "execution_count": 54,
   "metadata": {},
   "outputs": [
    {
     "name": "stdout",
     "output_type": "stream",
     "text": [
      "(64, 50, 512)\n"
     ]
    }
   ],
   "source": [
    "def point_wise_feed_forward_network(d_model, dff):\n",
    "    return tf.keras.Sequential([\n",
    "        tf.keras.layers.Dense(dff, activation='relu'),\n",
    "        # (batch_size, seq_len, dff)\n",
    "        tf.keras.layers.Dense(d_model)\n",
    "        # (batch_size, seq_len, d_model)\n",
    "    ])\n",
    "\n",
    "\n",
    "sample_ffn = point_wise_feed_forward_network(512, 2048)\n",
    "print(sample_ffn(tf.random.uniform((64, 50, 512))).shape)"
   ]
  },
  {
   "cell_type": "markdown",
   "metadata": {},
   "source": [
    "## 七、编码与解码（Encoder and decoder）\n",
    "Transformer 模型与标准的具有注意力机制的序列到序列模型（sequence to sequence with attention model），遵循相同的一般模式。其结构如下所示：\n",
    "![transformer](images/transformer.png)"
   ]
  },
  {
   "cell_type": "markdown",
   "metadata": {},
   "source": [
    "#### 1. 编码器层（Encoder layer）"
   ]
  },
  {
   "cell_type": "code",
   "execution_count": 55,
   "metadata": {},
   "outputs": [],
   "source": [
    "class EncoderLayer(tf.keras.layers.Layer):\n",
    "    def __init__(self, d_model, num_heads, dff, rate=0.1):\n",
    "        super(EncoderLayer, self).__init__()\n",
    "\n",
    "        self.mha = MultiHeadAttention(d_model, num_heads)\n",
    "        self.ffn = point_wise_feed_forward_network(d_model, dff)\n",
    "\n",
    "        self.layernorm1 = tf.keras.layers.LayerNormalization(epsilon=1e-6)\n",
    "        self.layernorm2 = tf.keras.layers.LayerNormalization(epsilon=1e-6)\n",
    "\n",
    "        self.dropout1 = tf.keras.layers.Dropout(rate)\n",
    "        self.dropout2 = tf.keras.layers.Dropout(rate)\n",
    "\n",
    "    def call(self, x, training, mask):\n",
    "        attn_output, _ = self.mha(x, x, x,mask)  # (batch_size, input_seq_len, d_model)\n",
    "        attn_output = self.dropout1(attn_output, training=training)\n",
    "        out1 = self.layernorm1(x + attn_output)  # (batch_size, input_seq_len, d_model)\n",
    "\n",
    "        ffn_output = self.ffn(out1)  # (batch_size, input_seq_len, d_model)\n",
    "        ffn_output = self.dropout2(ffn_output, training=training)\n",
    "        out2 = self.layernorm2(out1 + ffn_output)  # (batch_size, input_seq_len, d_model)\n",
    "\n",
    "        return out2"
   ]
  },
  {
   "cell_type": "code",
   "execution_count": 56,
   "metadata": {},
   "outputs": [
    {
     "name": "stdout",
     "output_type": "stream",
     "text": [
      "(64, 43, 512)\n"
     ]
    }
   ],
   "source": [
    "sample_encoder_layer = EncoderLayer(512, 8, 2048)\n",
    "\n",
    "sample_encoder_layer_output = sample_encoder_layer(\n",
    "    tf.random.uniform((64, 43, 512)), False, None)\n",
    "\n",
    "print(sample_encoder_layer_output.shape)"
   ]
  },
  {
   "cell_type": "markdown",
   "metadata": {},
   "source": [
    "#### 2. 解码器层（Decoder layer）"
   ]
  },
  {
   "cell_type": "code",
   "execution_count": 57,
   "metadata": {},
   "outputs": [],
   "source": [
    "class DecoderLayer(tf.keras.layers.Layer):\n",
    "    def __init__(self, d_model, num_heads, dff, rate=0.1):\n",
    "        super(DecoderLayer, self).__init__()\n",
    "        \n",
    "        self.mha1 = MultiHeadAttention(d_model, num_heads)\n",
    "        self.mha2 = MultiHeadAttention(d_model, num_heads)\n",
    "        \n",
    "        self.ffn = point_wise_feed_forward_network(d_model, dff)\n",
    "        \n",
    "        self.layernorm1 = tf.keras.layers.LayerNormalization(epsilon=1e-6)\n",
    "        self.layernorm2 = tf.keras.layers.LayerNormalization(epsilon=1e-6)\n",
    "        self.layernorm3 = tf.keras.layers.LayerNormalization(epsilon=1e-6)\n",
    "        \n",
    "        self.dropout1 = tf.keras.layers.Dropout(rate)\n",
    "        self.dropout2 = tf.keras.layers.Dropout(rate)\n",
    "        self.dropout3 = tf.keras.layers.Dropout(rate)\n",
    "    \n",
    "    def call(self, x, enc_output, training, look_ahead_mask, padding_mask):\n",
    "        # enc_output.shape == (batch_size, input_seq_len, d_model)\n",
    "\n",
    "        attn1, attn_weights_block1 = self.mha1(x, x, x, look_ahead_mask)  # (batch_size, target_seq_len, d_model)\n",
    "        attn1 = self.dropout1(attn1, training=training)\n",
    "        out1 = self.layernorm1(attn1 + x)\n",
    "\n",
    "        attn2, attn_weights_block2 = self.mha2(\n",
    "            enc_output, enc_output, out1, padding_mask)  # (batch_size, target_seq_len, d_model)\n",
    "        attn2 = self.dropout2(attn2, training=training)\n",
    "        out2 = self.layernorm2(attn2 + out1)  # (batch_size, target_seq_len, d_model)\n",
    "\n",
    "        ffn_output = self.ffn(out2)  # (batch_size, target_seq_len, d_model)\n",
    "        ffn_output = self.dropout3(ffn_output, training=training)\n",
    "        out3 = self.layernorm3(ffn_output + out2)  # (batch_size, target_seq_len, d_model)\n",
    "\n",
    "        return out3, attn_weights_block1, attn_weights_block2"
   ]
  },
  {
   "cell_type": "code",
   "execution_count": 58,
   "metadata": {},
   "outputs": [
    {
     "name": "stdout",
     "output_type": "stream",
     "text": [
      "(64, 50, 512)\n"
     ]
    }
   ],
   "source": [
    "sample_decoder_layer = DecoderLayer(512, 8, 2048)\n",
    "\n",
    "sample_decoder_layer_output, _, _ = sample_decoder_layer(\n",
    "    tf.random.uniform((64, 50, 512)), sample_encoder_layer_output, False, None,\n",
    "    None)\n",
    "\n",
    "print(sample_decoder_layer_output.shape)  # (batch_size, target_seq_len, d_model)"
   ]
  },
  {
   "cell_type": "markdown",
   "metadata": {},
   "source": [
    "#### 3. 编码器\n",
    "\n",
    "- 输入嵌入（Input Embedding）\n",
    "- 位置编码（Positional Encoding）\n",
    "- N 个编码器层（encoder layers）\n"
   ]
  },
  {
   "cell_type": "code",
   "execution_count": 59,
   "metadata": {},
   "outputs": [],
   "source": [
    "class Encoder(tf.keras.layers.Layer):\n",
    "    def __init__(self,\n",
    "                 num_layers,\n",
    "                 d_model,\n",
    "                 num_heads,\n",
    "                 dff,\n",
    "                 input_vocab_size,\n",
    "                 maximum_position_encoding,\n",
    "                 rate=0.1):\n",
    "        super(Encoder, self).__init__()\n",
    "\n",
    "        self.d_model = d_model\n",
    "        self.num_layers = num_layers\n",
    "\n",
    "        self.embedding = tf.keras.layers.Embedding(input_vocab_size, d_model)\n",
    "        self.pos_encoding = positional_encoding(maximum_position_encoding,\n",
    "                                                self.d_model)\n",
    "\n",
    "        self.enc_layers = [\n",
    "            EncoderLayer(d_model, num_heads, dff, rate)\n",
    "            for _ in range(num_layers)\n",
    "        ]\n",
    "        self.dropout = tf.keras.layers.Dropout(rate)\n",
    "\n",
    "    def call(self, x, training, mask):\n",
    "        seq_len = tf.shape(x)[1]\n",
    "\n",
    "        x = self.embedding(x)\n",
    "        x *= tf.math.sqrt(tf.cast(self.d_model, tf.float32))\n",
    "        x += self.pos_encoding[:, :seq_len, :]\n",
    "\n",
    "        x = self.dropout(x, training=training)\n",
    "\n",
    "        for i in range(self.num_layers):\n",
    "            x = self.enc_layers[i](x, training, mask)\n",
    "\n",
    "        return x"
   ]
  },
  {
   "cell_type": "code",
   "execution_count": 60,
   "metadata": {},
   "outputs": [
    {
     "name": "stdout",
     "output_type": "stream",
     "text": [
      "(64, 62, 512)\n"
     ]
    }
   ],
   "source": [
    "sample_encoder = Encoder(num_layers=2,\n",
    "                         d_model=512,\n",
    "                         num_heads=8,\n",
    "                         dff=2048,\n",
    "                         input_vocab_size=8500,\n",
    "                         maximum_position_encoding=10000)\n",
    "\n",
    "sample_encoder_output = sample_encoder(tf.random.uniform((64, 62)),\n",
    "                                       training=False,\n",
    "                                       mask=None)\n",
    "\n",
    "print(sample_encoder_output.shape)  # (batch_size, input_seq_len, d_model)"
   ]
  },
  {
   "cell_type": "markdown",
   "metadata": {},
   "source": [
    "#### 4. 解码器（Decoder）\n",
    "- 输出嵌入（Output Embedding）\n",
    "- 位置编码（Positional Encoding）\n",
    "- N 个解码器层（decoder layers）\n"
   ]
  },
  {
   "cell_type": "code",
   "execution_count": 61,
   "metadata": {},
   "outputs": [],
   "source": [
    "class Decoder(tf.keras.layers.Layer):\n",
    "    def __init__(self,\n",
    "                 num_layers,\n",
    "                 d_model,\n",
    "                 num_heads,\n",
    "                 dff,\n",
    "                 target_vocab_size,\n",
    "                 maximum_position_encoding,\n",
    "                 rate=0.1):\n",
    "        super(Decoder, self).__init__()\n",
    "\n",
    "        self.d_model = d_model\n",
    "        self.num_layers = num_layers\n",
    "\n",
    "        self.embedding = tf.keras.layers.Embedding(target_vocab_size, d_model)\n",
    "        self.pos_encoding = positional_encoding(maximum_position_encoding,\n",
    "                                                d_model)\n",
    "\n",
    "        self.dec_layers = [\n",
    "            DecoderLayer(d_model, num_heads, dff, rate)\n",
    "            for _ in range(num_layers)\n",
    "        ]\n",
    "        self.dropout = tf.keras.layers.Dropout(rate)\n",
    "\n",
    "    def call(self, x, enc_output, training, look_ahead_mask, padding_mask):\n",
    "        seq_len = tf.shape(x)[1]\n",
    "        attention_weights = {}\n",
    "        x = self.embedding(x)\n",
    "        x *= tf.math.sqrt(tf.cast(self.d_model, tf.float32))\n",
    "        x += self.pos_encoding[:, :seq_len, :]\n",
    "\n",
    "        x = self.dropout(x, training=training)\n",
    "\n",
    "        for i in range(self.num_layers):\n",
    "            x, block1, block2 = self.dec_layers[i](x, enc_output, training,\n",
    "                                                   look_ahead_mask,\n",
    "                                                   padding_mask)\n",
    "            attention_weights['decoder_layer{}_block1'.format(i + 1)] = block1\n",
    "            attention_weights['decoder_layer{}_block2'.format(i + 1)] = block2\n",
    "\n",
    "        return x, attention_weights"
   ]
  },
  {
   "cell_type": "code",
   "execution_count": 62,
   "metadata": {},
   "outputs": [
    {
     "name": "stdout",
     "output_type": "stream",
     "text": [
      "(64, 26, 512) (64, 8, 26, 62)\n"
     ]
    }
   ],
   "source": [
    "sample_decoder = Decoder(num_layers=2, d_model=512, num_heads=8, dff=2048,\n",
    "                         target_vocab_size=8000, maximum_position_encoding=5000)\n",
    "\n",
    "output, attn = sample_decoder(tf.random.uniform((64, 26)),\n",
    "                              enc_output=sample_encoder_output, training=False,\n",
    "                              look_ahead_mask=None, padding_mask=None)\n",
    "\n",
    "print(output.shape, attn['decoder_layer2_block2'].shape)"
   ]
  },
  {
   "cell_type": "markdown",
   "metadata": {},
   "source": [
    "## 八、Transformer\n"
   ]
  },
  {
   "cell_type": "code",
   "execution_count": 63,
   "metadata": {},
   "outputs": [],
   "source": [
    "class Transformer(tf.keras.Model):\n",
    "    def __init__(self,\n",
    "                 num_layers,\n",
    "                 d_model,\n",
    "                 num_heads,\n",
    "                 dff,\n",
    "                 input_vocab_size,\n",
    "                 target_vocab_size,\n",
    "                 pe_input,\n",
    "                 pe_target,\n",
    "                 rate=0.1):\n",
    "        super(Transformer, self).__init__()\n",
    "        self.encoder = Encoder(num_layers, d_model, num_heads, dff,\n",
    "                               input_vocab_size, pe_input, rate)\n",
    "        self.decoder = Decoder(num_layers, d_model, num_heads, dff,\n",
    "                               target_vocab_size, pe_target, rate)\n",
    "        self.final_layer = tf.keras.layers.Dense(target_vocab_size)\n",
    "\n",
    "    def call(self, inp, tar, training, enc_padding_mask, look_ahead_mask,\n",
    "             dec_padding_mask):\n",
    "        enc_output = self.encoder(inp, training, enc_padding_mask)\n",
    "        dec_ouput, attention_weights = self.decoder(tar, enc_output, training,\n",
    "                                                    look_ahead_mask,\n",
    "                                                    dec_padding_mask)\n",
    "        final_output = self.final_layer(dec_ouput)\n",
    "        return final_output, attention_weights"
   ]
  },
  {
   "cell_type": "code",
   "execution_count": 64,
   "metadata": {},
   "outputs": [
    {
     "name": "stdout",
     "output_type": "stream",
     "text": [
      "(64, 26, 8000)\n"
     ]
    }
   ],
   "source": [
    "sample_transformer = Transformer(num_layers=2,\n",
    "                                 d_model=512,\n",
    "                                 num_heads=8,\n",
    "                                 dff=2048,\n",
    "                                 input_vocab_size=8500,\n",
    "                                 target_vocab_size=8000,\n",
    "                                 pe_input=10000,\n",
    "                                 pe_target=6000)\n",
    "\n",
    "temp_input = tf.random.uniform((64, 62))\n",
    "temp_target = tf.random.uniform((64, 26))\n",
    "\n",
    "fn_out, _ = sample_transformer(temp_input,\n",
    "                               temp_target,\n",
    "                               training=False,\n",
    "                               enc_padding_mask=None,\n",
    "                               look_ahead_mask=None,\n",
    "                               dec_padding_mask=None)\n",
    "\n",
    "print(fn_out.shape)"
   ]
  },
  {
   "cell_type": "markdown",
   "metadata": {},
   "source": [
    "## 九、配置超参数"
   ]
  },
  {
   "cell_type": "code",
   "execution_count": 65,
   "metadata": {},
   "outputs": [],
   "source": [
    "num_layers = 4  \n",
    "d_model = 128\n",
    "dff = 512\n",
    "num_heads = 8\n",
    "\n",
    "input_vocab_size = len(zh_tokenizer.word_index) + 1\n",
    "target_vocab_size = len(eng_tokenizer.word_index) + 1\n",
    "dropout_rate = 0.1"
   ]
  },
  {
   "cell_type": "markdown",
   "metadata": {},
   "source": [
    "## 十、优化器（Optimizer）\n",
    "将 Adam 优化器与自定义的学习速率调度程序（scheduler）配合使用: "
   ]
  },
  {
   "cell_type": "code",
   "execution_count": 66,
   "metadata": {},
   "outputs": [],
   "source": [
    "class CustomSchedule(tf.keras.optimizers.schedules.LearningRateSchedule):\n",
    "    def __init__(self, d_model, warmup_steps=4000):\n",
    "        super(CustomSchedule, self).__init__()\n",
    "\n",
    "        self.d_model = d_model\n",
    "        self.d_model = tf.cast(self.d_model, tf.float32)\n",
    "        self.warmup_steps = warmup_steps\n",
    "\n",
    "    def __call__(self, step):\n",
    "        arg1 = tf.math.rsqrt(step)\n",
    "        arg2 = step * (self.warmup_steps**-1.5)\n",
    "\n",
    "        return tf.math.rsqrt(self.d_model) * tf.math.minimum(arg1, arg2)"
   ]
  },
  {
   "cell_type": "code",
   "execution_count": 67,
   "metadata": {},
   "outputs": [],
   "source": [
    "learning_rate = CustomSchedule(d_model)\n",
    "\n",
    "optimizer = tf.keras.optimizers.Adam(learning_rate,\n",
    "                                     beta_1=0.9,\n",
    "                                     beta_2=0.98,\n",
    "                                     epsilon=1e-9)"
   ]
  },
  {
   "cell_type": "code",
   "execution_count": 68,
   "metadata": {},
   "outputs": [
    {
     "data": {
      "image/png": "[encoded data removed]",
      "text/plain": [
       "<Figure size 432x288 with 1 Axes>"
      ]
     },
     "metadata": {
      "needs_background": "light"
     },
     "output_type": "display_data"
    }
   ],
   "source": [
    "temp_learning_rate_schedule = CustomSchedule(d_model)\n",
    "\n",
    "plt.plot(temp_learning_rate_schedule(tf.range(40000, dtype=tf.float32)))\n",
    "plt.ylabel(\"Learning Rate\")\n",
    "plt.xlabel(\"Train Step\")\n",
    "plt.show()"
   ]
  },
  {
   "cell_type": "markdown",
   "metadata": {},
   "source": [
    "## 十一、损失函数与指标（Loss and metrics）\n",
    "由于目标序列是填充（padded）过的，因此在计算损失函数时，应用填充遮挡非常重要。"
   ]
  },
  {
   "cell_type": "code",
   "execution_count": 69,
   "metadata": {},
   "outputs": [],
   "source": [
    "loss_object = tf.keras.losses.SparseCategoricalCrossentropy(from_logits=True,\n",
    "                                                            reduction='none')\n",
    "\n",
    "\n",
    "def loss_function(real, pred):\n",
    "    mask = tf.math.logical_not(tf.math.equal(real, 0))\n",
    "    loss_ = loss_object(real, pred)\n",
    "\n",
    "    mask = tf.cast(mask, dtype=loss_.dtype)\n",
    "    loss_ *= mask\n",
    "\n",
    "    return tf.reduce_mean(loss_)\n",
    "\n",
    "\n",
    "train_loss = tf.keras.metrics.Mean(name='train_loss')\n",
    "train_accuracy = tf.keras.metrics.SparseCategoricalAccuracy(\n",
    "    name='train_accuracy')"
   ]
  },
  {
   "cell_type": "markdown",
   "metadata": {},
   "source": [
    "## 十一、训练与检查点(Training and checkpointing)"
   ]
  },
  {
   "cell_type": "code",
   "execution_count": 70,
   "metadata": {},
   "outputs": [],
   "source": [
    "transformer = Transformer(num_layers,\n",
    "                          d_model,\n",
    "                          num_heads,\n",
    "                          dff,\n",
    "                          input_vocab_size,\n",
    "                          target_vocab_size,\n",
    "                          pe_input=input_vocab_size,\n",
    "                          pe_target=target_vocab_size,\n",
    "                          rate=dropout_rate)\n",
    "\n",
    "\n",
    "# TODO：各有什么作用？？\n",
    "def create_masks(inp, tar):\n",
    "    # inp:(batch_size, seq_len_inp)\n",
    "    # tar:(batch_size, seq_len_tar - 1)\n",
    "    \n",
    "    # 1,编码器填充遮挡，将输入序列 pad 的部分填充掉:\n",
    "    # (batch_size, 1, 1, seq_len_inp)\n",
    "    enc_padding_mask = create_padding_mask(inp)\n",
    "    \n",
    "    # 2,用于解码器对编码器的输入进行注意力做 mask，因此维度为 seq_len_inp\n",
    "    # (batch_size, 1, 1, seq_len_inp)，    \n",
    "    dec_padding_mask = create_padding_mask(inp)\n",
    "\n",
    "    # 3. 不仅遮挡输入末尾填充（pad）的 0，还要遮挡输入的后续标记（future tokens）：\n",
    "    # (seq_len_tar - 1, seq_len_tar - 1)\n",
    "    look_ahead_mask = create_look_ahead_mask(tf.shape(tar)[1])\n",
    "    \n",
    "    # (batch_size, 1, 1, seq_len_tar - 1)\n",
    "    dec_target_padding_mask = create_padding_mask(tar)\n",
    "    \n",
    "    combined_mask = tf.maximum(dec_target_padding_mask, look_ahead_mask)\n",
    "    return enc_padding_mask, combined_mask, dec_padding_mask\n",
    "\n",
    "\n",
    "checkpoint_path = \"../H/save/zh2eng_transformer\"\n",
    "\n",
    "ckpt = tf.train.Checkpoint(transformer=transformer, optimizer=optimizer)\n",
    "\n",
    "ckpt_manager = tf.train.CheckpointManager(ckpt, checkpoint_path, max_to_keep=5)\n",
    "\n",
    "# 如果检查点存在，则恢复最新的检查点。\n",
    "if ckpt_manager.latest_checkpoint:\n",
    "    ckpt.restore(ckpt_manager.latest_checkpoint)\n",
    "    print('Latest checkpoint restored!!')"
   ]
  },
  {
   "cell_type": "markdown",
   "metadata": {},
   "source": [
    "序列长度为 5 的 `look_ahead_mask`:\n",
    "$$\n",
    "[0, 1, 1, 1, 1] \\\\\n",
    "[0, 0, 1, 1, 1] \\\\\n",
    "[0, 0, 0, 1, 1] \\\\ \n",
    "[0, 0, 0, 0, 1] \\\\\n",
    "[0, 0, 0, 0, 0] \\\\\n",
    "$$\n",
    "    \n",
    "对应的代表填充后 3 位得到的序列，`dec_target_padding_mask[x,:,:,:]`:\n",
    "$$[0, 0, 1, 1, 1] $$\n",
    "    \n",
    "最终得到的 `combined_mask` 为：\n",
    "$$\n",
    "[0, 1, 1, 1, 1] \\\\\n",
    "[0, 0, 1, 1, 1] \\\\\n",
    "[0, 0, 1, 1, 1] \\\\ \n",
    "[0, 0, 1, 1, 1] \\\\\n",
    "[0, 0, 1, 1, 1] \\\\\n",
    "$$\n"
   ]
  },
  {
   "cell_type": "code",
   "execution_count": 87,
   "metadata": {},
   "outputs": [],
   "source": [
    "enc_padding_mask, combined_mask, dec_padding_mask = create_masks(\n",
    "    example_zh_batch, tar_inp)"
   ]
  },
  {
   "cell_type": "code",
   "execution_count": 98,
   "metadata": {
    "scrolled": false
   },
   "outputs": [
    {
     "name": "stdout",
     "output_type": "stream",
     "text": [
      "shape of mask: (64, 1, 1, 30)\n",
      "shape of atten: (64, 8, 30, 30)\n",
      "shape of mask: (64, 1, 1, 30)\n",
      "shape of atten: (64, 8, 30, 30)\n",
      "shape of mask: (64, 1, 1, 30)\n",
      "shape of atten: (64, 8, 30, 30)\n",
      "shape of mask: (64, 1, 1, 30)\n",
      "shape of atten: (64, 8, 30, 30)\n",
      "shape of mask: (64, 1, 35, 35)\n",
      "shape of atten: (64, 8, 35, 35)\n",
      "shape of mask: (64, 1, 1, 30)\n",
      "shape of atten: (64, 8, 35, 30)\n",
      "shape of mask: (64, 1, 35, 35)\n",
      "shape of atten: (64, 8, 35, 35)\n",
      "shape of mask: (64, 1, 1, 30)\n",
      "shape of atten: (64, 8, 35, 30)\n",
      "shape of mask: (64, 1, 35, 35)\n",
      "shape of atten: (64, 8, 35, 35)\n",
      "shape of mask: (64, 1, 1, 30)\n",
      "shape of atten: (64, 8, 35, 30)\n",
      "shape of mask: (64, 1, 35, 35)\n",
      "shape of atten: (64, 8, 35, 35)\n",
      "shape of mask: (64, 1, 1, 30)\n",
      "shape of atten: (64, 8, 35, 30)\n"
     ]
    }
   ],
   "source": [
    "predictions, _ = transformer(example_zh_batch, tar_inp, True, enc_padding_mask,\n",
    "                                 combined_mask, dec_padding_mask)"
   ]
  },
  {
   "cell_type": "code",
   "execution_count": 96,
   "metadata": {},
   "outputs": [
    {
     "data": {
      "text/plain": [
       "<tf.Tensor: id=9139, shape=(64, 35, 9756), dtype=float32, numpy=\n",
       "array([[[-0.1282706 ,  0.10864322, -0.24248649, ...,  0.16296358,\n",
       "          0.1459565 , -0.34566465],\n",
       "        [-0.0717675 ,  0.18643032, -0.08001041, ...,  0.09116092,\n",
       "          0.11926436, -0.34716186],\n",
       "        [-0.02932605,  0.0366094 , -0.21726583, ...,  0.1092973 ,\n",
       "          0.21624133, -0.35436305],\n",
       "        ...,\n",
       "        [-0.1644766 ,  0.13415962, -0.15722702, ...,  0.13606192,\n",
       "          0.1721753 , -0.3274525 ],\n",
       "        [-0.2355859 ,  0.09242162, -0.1662194 , ...,  0.09706165,\n",
       "          0.0351093 , -0.30270767],\n",
       "        [-0.16192722,  0.10823155, -0.15517114, ...,  0.11812331,\n",
       "          0.18167779, -0.40581176]],\n",
       "\n",
       "       [[-0.32617697,  0.22187786, -0.09803833, ...,  0.08348731,\n",
       "          0.04196617, -0.2595157 ],\n",
       "        [-0.12240703,  0.2136595 , -0.12586969, ...,  0.05328099,\n",
       "          0.05000972, -0.2488268 ],\n",
       "        [-0.12685798,  0.09253548, -0.05003348, ...,  0.01079748,\n",
       "          0.13053499, -0.31164265],\n",
       "        ...,\n",
       "        [-0.23358443,  0.23125868, -0.17388429, ...,  0.09450406,\n",
       "          0.02134542, -0.35398316],\n",
       "        [-0.25675273,  0.17063819, -0.20740515, ...,  0.12528966,\n",
       "          0.07416631, -0.25018227],\n",
       "        [-0.28282622,  0.13860644, -0.17433897, ...,  0.11155581,\n",
       "         -0.01655334, -0.3270413 ]],\n",
       "\n",
       "       [[-0.21840023,  0.06015635, -0.04322842, ...,  0.06896798,\n",
       "          0.02794765, -0.22268985],\n",
       "        [-0.17766161, -0.04175738, -0.04316607, ...,  0.22023344,\n",
       "          0.10613605, -0.31021938],\n",
       "        [-0.17850605,  0.06827846, -0.10122703, ...,  0.06556543,\n",
       "          0.06886267, -0.20053634],\n",
       "        ...,\n",
       "        [-0.22859651,  0.08425389, -0.08617701, ...,  0.10340382,\n",
       "          0.01203229, -0.16140257],\n",
       "        [-0.16902383,  0.08090241, -0.04938472, ...,  0.18718097,\n",
       "          0.16317068, -0.2359052 ],\n",
       "        [-0.17250344,  0.01791168, -0.10564379, ...,  0.17990048,\n",
       "          0.13179553, -0.367264  ]],\n",
       "\n",
       "       ...,\n",
       "\n",
       "       [[-0.10422491, -0.02271232, -0.1643712 , ...,  0.09678642,\n",
       "          0.07728803, -0.4102392 ],\n",
       "        [-0.21040101,  0.12451793, -0.15451105, ...,  0.04963348,\n",
       "          0.21309398, -0.3020317 ],\n",
       "        [-0.29859206,  0.07001271, -0.0927428 , ...,  0.15649518,\n",
       "          0.19731031, -0.2828086 ],\n",
       "        ...,\n",
       "        [-0.3092833 ,  0.03744534, -0.07875454, ...,  0.15936223,\n",
       "          0.12852998, -0.21115161],\n",
       "        [-0.19534431,  0.0048671 , -0.06850849, ...,  0.09544557,\n",
       "          0.10667858, -0.25607175],\n",
       "        [-0.09220203,  0.09771182, -0.17135058, ...,  0.08397103,\n",
       "          0.18899764, -0.31485498]],\n",
       "\n",
       "       [[-0.2607268 ,  0.02192224, -0.08926166, ...,  0.05996825,\n",
       "          0.09215534, -0.3057335 ],\n",
       "        [-0.24648269,  0.08431543, -0.24813487, ...,  0.00661636,\n",
       "          0.26635742, -0.40189534],\n",
       "        [-0.2595802 ,  0.02175296, -0.2056845 , ..., -0.02899096,\n",
       "          0.16077825, -0.36374655],\n",
       "        ...,\n",
       "        [-0.26787338,  0.16958177, -0.21922566, ...,  0.09383419,\n",
       "          0.10387039, -0.41843277],\n",
       "        [-0.3175898 ,  0.09149323, -0.2579514 , ...,  0.11508129,\n",
       "          0.20097505, -0.40567046],\n",
       "        [-0.20694615,  0.12027481, -0.16593759, ...,  0.05556691,\n",
       "          0.30633566, -0.41706493]],\n",
       "\n",
       "       [[ 0.01923838,  0.21714151, -0.19829923, ...,  0.14570265,\n",
       "          0.16789883, -0.27872226],\n",
       "        [-0.18276507,  0.19583578, -0.20111662, ...,  0.10464481,\n",
       "          0.050662  , -0.12767582],\n",
       "        [-0.15539445,  0.19552206, -0.13164912, ...,  0.21786754,\n",
       "          0.08099304, -0.24668398],\n",
       "        ...,\n",
       "        [-0.26000267,  0.17794685, -0.22024378, ...,  0.09811572,\n",
       "          0.14509456, -0.07260724],\n",
       "        [-0.1970233 ,  0.24301168, -0.27220955, ...,  0.10705914,\n",
       "          0.15928268, -0.28742662],\n",
       "        [-0.18685852,  0.13866998, -0.15299535, ...,  0.22941297,\n",
       "          0.13347127, -0.31046546]]], dtype=float32)>"
      ]
     },
     "execution_count": 96,
     "metadata": {},
     "output_type": "execute_result"
    }
   ],
   "source": [
    "predictions"
   ]
  },
  {
   "cell_type": "code",
   "execution_count": null,
   "metadata": {},
   "outputs": [],
   "source": []
  },
  {
   "cell_type": "code",
   "execution_count": null,
   "metadata": {},
   "outputs": [],
   "source": []
  },
  {
   "cell_type": "code",
   "execution_count": null,
   "metadata": {},
   "outputs": [],
   "source": []
  },
  {
   "cell_type": "code",
   "execution_count": null,
   "metadata": {},
   "outputs": [],
   "source": []
  },
  {
   "cell_type": "code",
   "execution_count": null,
   "metadata": {},
   "outputs": [],
   "source": []
  },
  {
   "cell_type": "code",
   "execution_count": 71,
   "metadata": {},
   "outputs": [],
   "source": [
    "EPOCHS = 20"
   ]
  },
  {
   "cell_type": "code",
   "execution_count": 52,
   "metadata": {},
   "outputs": [],
   "source": [
    "# 该 @tf.function 将追踪-编译 train_step 到 TF 图中，以便更快地\n",
    "# 执行。该函数专用于参数张量的精确形状。为了避免由于可变序列长度或可变\n",
    "# 批次大小（最后一批次较小）导致的再追踪，使用 input_signature 指定\n",
    "# 更多的通用形状。\n",
    "\n",
    "\n",
    "@tf.function()\n",
    "def train_step(inp, tar):\n",
    "    tar_inp = tar[:, :-1]\n",
    "    tar_real = tar[:, 1:]   # 给定前面的词，预测下一个词\n",
    "\n",
    "    enc_padding_mask, combined_mask, dec_padding_mask = create_masks(\n",
    "        inp, tar_inp)\n",
    "\n",
    "    with tf.GradientTape() as tape:\n",
    "        predictions, _ = transformer(inp, tar_inp, True, enc_padding_mask,\n",
    "                                     combined_mask, dec_padding_mask)\n",
    "        loss = loss_function(tar_real, predictions)\n",
    "\n",
    "    gradients = tape.gradient(loss, transformer.trainable_variables)\n",
    "    optimizer.apply_gradients(zip(gradients, transformer.trainable_variables))\n",
    "\n",
    "    train_loss(loss)\n",
    "    train_accuracy(tar_real, predictions)"
   ]
  },
  {
   "cell_type": "code",
   "execution_count": 53,
   "metadata": {},
   "outputs": [
    {
     "name": "stdout",
     "output_type": "stream",
     "text": [
      "Epoch 1 Batch 0 Loss 2.0904 Accuracy 0.0000\n",
      "Epoch 1 Batch 50 Loss 1.9386 Accuracy 0.0105\n",
      "Epoch 1 Batch 100 Loss 1.9165 Accuracy 0.0194\n",
      "Epoch 1 Batch 150 Loss 1.8870 Accuracy 0.0225\n",
      "Epoch 1 Batch 200 Loss 1.8540 Accuracy 0.0240\n",
      "Epoch 1 Batch 250 Loss 1.8171 Accuracy 0.0249\n",
      "Epoch 1 Loss 1.7999 Accuracy 0.0252\n",
      "Time taken for 1 epoch: 15.697981119155884 secs\n",
      "\n",
      "Epoch 2 Batch 0 Loss 1.5492 Accuracy 0.0286\n",
      "Epoch 2 Batch 50 Loss 1.5150 Accuracy 0.0286\n",
      "Epoch 2 Batch 100 Loss 1.4675 Accuracy 0.0286\n",
      "Epoch 2 Batch 150 Loss 1.4216 Accuracy 0.0286\n",
      "Epoch 2 Batch 200 Loss 1.3878 Accuracy 0.0286\n",
      "Epoch 2 Batch 250 Loss 1.3627 Accuracy 0.0295\n",
      "Epoch 2 Loss 1.3537 Accuracy 0.0300\n",
      "Time taken for 1 epoch: 8.945199728012085 secs\n",
      "\n",
      "Epoch 3 Batch 0 Loss 1.1658 Accuracy 0.0375\n",
      "Epoch 3 Batch 50 Loss 1.1896 Accuracy 0.0433\n",
      "Epoch 3 Batch 100 Loss 1.1671 Accuracy 0.0470\n",
      "Epoch 3 Batch 150 Loss 1.1501 Accuracy 0.0492\n",
      "Epoch 3 Batch 200 Loss 1.1343 Accuracy 0.0512\n",
      "Epoch 3 Batch 250 Loss 1.1194 Accuracy 0.0529\n",
      "Epoch 3 Loss 1.1122 Accuracy 0.0535\n",
      "Time taken for 1 epoch: 8.95915150642395 secs\n",
      "\n",
      "Epoch 4 Batch 0 Loss 0.9786 Accuracy 0.0607\n",
      "Epoch 4 Batch 50 Loss 1.0140 Accuracy 0.0636\n",
      "Epoch 4 Batch 100 Loss 0.9922 Accuracy 0.0643\n",
      "Epoch 4 Batch 150 Loss 0.9829 Accuracy 0.0655\n",
      "Epoch 4 Batch 200 Loss 0.9748 Accuracy 0.0661\n",
      "Epoch 4 Batch 250 Loss 0.9659 Accuracy 0.0669\n",
      "Epoch 4 Loss 0.9622 Accuracy 0.0670\n",
      "Time taken for 1 epoch: 8.963302373886108 secs\n",
      "\n",
      "Epoch 5 Batch 0 Loss 0.8791 Accuracy 0.0683\n",
      "Epoch 5 Batch 50 Loss 0.8899 Accuracy 0.0726\n",
      "Epoch 5 Batch 100 Loss 0.8847 Accuracy 0.0727\n",
      "Epoch 5 Batch 150 Loss 0.8818 Accuracy 0.0731\n",
      "Epoch 5 Batch 200 Loss 0.8770 Accuracy 0.0734\n",
      "Epoch 5 Batch 250 Loss 0.8745 Accuracy 0.0738\n",
      "Saving checkpoint for epoch 5 at ../H/save/zh2eng_transformer/ckpt-1\n",
      "Epoch 5 Loss 0.8740 Accuracy 0.0742\n",
      "Time taken for 1 epoch: 9.066415548324585 secs\n",
      "\n",
      "Epoch 6 Batch 0 Loss 0.7689 Accuracy 0.0799\n",
      "Epoch 6 Batch 50 Loss 0.8208 Accuracy 0.0787\n",
      "Epoch 6 Batch 100 Loss 0.8177 Accuracy 0.0794\n",
      "Epoch 6 Batch 150 Loss 0.8143 Accuracy 0.0796\n",
      "Epoch 6 Batch 200 Loss 0.8126 Accuracy 0.0800\n",
      "Epoch 6 Batch 250 Loss 0.8086 Accuracy 0.0800\n",
      "Epoch 6 Loss 0.8089 Accuracy 0.0803\n",
      "Time taken for 1 epoch: 8.942633152008057 secs\n",
      "\n",
      "Epoch 7 Batch 0 Loss 0.8576 Accuracy 0.0799\n",
      "Epoch 7 Batch 50 Loss 0.7621 Accuracy 0.0851\n",
      "Epoch 7 Batch 100 Loss 0.7603 Accuracy 0.0849\n",
      "Epoch 7 Batch 150 Loss 0.7567 Accuracy 0.0854\n",
      "Epoch 7 Batch 200 Loss 0.7540 Accuracy 0.0856\n",
      "Epoch 7 Batch 250 Loss 0.7512 Accuracy 0.0859\n",
      "Epoch 7 Loss 0.7503 Accuracy 0.0860\n",
      "Time taken for 1 epoch: 8.969208240509033 secs\n",
      "\n",
      "Epoch 8 Batch 0 Loss 0.6805 Accuracy 0.0942\n",
      "Epoch 8 Batch 50 Loss 0.7008 Accuracy 0.0906\n",
      "Epoch 8 Batch 100 Loss 0.6971 Accuracy 0.0904\n",
      "Epoch 8 Batch 150 Loss 0.6978 Accuracy 0.0909\n",
      "Epoch 8 Batch 200 Loss 0.6987 Accuracy 0.0912\n",
      "Epoch 8 Batch 250 Loss 0.6977 Accuracy 0.0912\n",
      "Epoch 8 Loss 0.6968 Accuracy 0.0912\n",
      "Time taken for 1 epoch: 8.950708627700806 secs\n",
      "\n",
      "Epoch 9 Batch 0 Loss 0.6195 Accuracy 0.0942\n",
      "Epoch 9 Batch 50 Loss 0.6450 Accuracy 0.0968\n",
      "Epoch 9 Batch 100 Loss 0.6401 Accuracy 0.0968\n",
      "Epoch 9 Batch 150 Loss 0.6432 Accuracy 0.0967\n",
      "Epoch 9 Batch 200 Loss 0.6415 Accuracy 0.0969\n",
      "Epoch 9 Batch 250 Loss 0.6428 Accuracy 0.0970\n",
      "Epoch 9 Loss 0.6436 Accuracy 0.0971\n",
      "Time taken for 1 epoch: 8.951661825180054 secs\n",
      "\n",
      "Epoch 10 Batch 0 Loss 0.5692 Accuracy 0.1036\n",
      "Epoch 10 Batch 50 Loss 0.5847 Accuracy 0.1031\n",
      "Epoch 10 Batch 100 Loss 0.5865 Accuracy 0.1036\n",
      "Epoch 10 Batch 150 Loss 0.5857 Accuracy 0.1033\n",
      "Epoch 10 Batch 200 Loss 0.5863 Accuracy 0.1035\n",
      "Epoch 10 Batch 250 Loss 0.5886 Accuracy 0.1037\n",
      "Saving checkpoint for epoch 10 at ../H/save/zh2eng_transformer/ckpt-2\n",
      "Epoch 10 Loss 0.5897 Accuracy 0.1036\n",
      "Time taken for 1 epoch: 9.093379497528076 secs\n",
      "\n",
      "Epoch 11 Batch 0 Loss 0.4876 Accuracy 0.1143\n",
      "Epoch 11 Batch 50 Loss 0.5258 Accuracy 0.1113\n",
      "Epoch 11 Batch 100 Loss 0.5216 Accuracy 0.1110\n",
      "Epoch 11 Batch 150 Loss 0.5331 Accuracy 0.1101\n",
      "Epoch 11 Batch 200 Loss 0.5353 Accuracy 0.1102\n",
      "Epoch 11 Batch 250 Loss 0.5368 Accuracy 0.1102\n",
      "Epoch 11 Loss 0.5375 Accuracy 0.1102\n",
      "Time taken for 1 epoch: 8.97883677482605 secs\n",
      "\n",
      "Epoch 12 Batch 0 Loss 0.4288 Accuracy 0.1237\n",
      "Epoch 12 Batch 50 Loss 0.4670 Accuracy 0.1185\n",
      "Epoch 12 Batch 100 Loss 0.4754 Accuracy 0.1179\n",
      "Epoch 12 Batch 150 Loss 0.4809 Accuracy 0.1170\n",
      "Epoch 12 Batch 200 Loss 0.4861 Accuracy 0.1172\n",
      "Epoch 12 Batch 250 Loss 0.4889 Accuracy 0.1167\n",
      "Epoch 12 Loss 0.4894 Accuracy 0.1167\n",
      "Time taken for 1 epoch: 8.94973349571228 secs\n",
      "\n",
      "Epoch 13 Batch 0 Loss 0.3634 Accuracy 0.1268\n",
      "Epoch 13 Batch 50 Loss 0.4260 Accuracy 0.1249\n",
      "Epoch 13 Batch 100 Loss 0.4308 Accuracy 0.1245\n",
      "Epoch 13 Batch 150 Loss 0.4346 Accuracy 0.1235\n",
      "Epoch 13 Batch 200 Loss 0.4388 Accuracy 0.1228\n",
      "Epoch 13 Batch 250 Loss 0.4430 Accuracy 0.1226\n",
      "Epoch 13 Loss 0.4448 Accuracy 0.1225\n",
      "Time taken for 1 epoch: 8.998482942581177 secs\n",
      "\n",
      "Epoch 14 Batch 0 Loss 0.4024 Accuracy 0.1384\n",
      "Epoch 14 Batch 50 Loss 0.3744 Accuracy 0.1324\n",
      "Epoch 14 Batch 100 Loss 0.3830 Accuracy 0.1304\n",
      "Epoch 14 Batch 150 Loss 0.3882 Accuracy 0.1292\n",
      "Epoch 14 Batch 200 Loss 0.3968 Accuracy 0.1287\n",
      "Epoch 14 Batch 250 Loss 0.4027 Accuracy 0.1284\n",
      "Epoch 14 Loss 0.4057 Accuracy 0.1282\n",
      "Time taken for 1 epoch: 8.97952389717102 secs\n",
      "\n",
      "Epoch 15 Batch 0 Loss 0.3361 Accuracy 0.1496\n",
      "Epoch 15 Batch 50 Loss 0.3336 Accuracy 0.1386\n",
      "Epoch 15 Batch 100 Loss 0.3441 Accuracy 0.1368\n",
      "Epoch 15 Batch 150 Loss 0.3556 Accuracy 0.1350\n",
      "Epoch 15 Batch 200 Loss 0.3626 Accuracy 0.1336\n",
      "Epoch 15 Batch 250 Loss 0.3691 Accuracy 0.1331\n",
      "Saving checkpoint for epoch 15 at ../H/save/zh2eng_transformer/ckpt-3\n",
      "Epoch 15 Loss 0.3720 Accuracy 0.1329\n",
      "Time taken for 1 epoch: 9.101390600204468 secs\n",
      "\n",
      "Epoch 16 Batch 0 Loss 0.3165 Accuracy 0.1362\n",
      "Epoch 16 Batch 50 Loss 0.3003 Accuracy 0.1412\n",
      "Epoch 16 Batch 100 Loss 0.3087 Accuracy 0.1409\n",
      "Epoch 16 Batch 150 Loss 0.3182 Accuracy 0.1406\n",
      "Epoch 16 Batch 200 Loss 0.3261 Accuracy 0.1395\n",
      "Epoch 16 Batch 250 Loss 0.3326 Accuracy 0.1388\n",
      "Epoch 16 Loss 0.3353 Accuracy 0.1384\n",
      "Time taken for 1 epoch: 8.975188255310059 secs\n",
      "\n",
      "Epoch 17 Batch 0 Loss 0.3117 Accuracy 0.1567\n",
      "Epoch 17 Batch 50 Loss 0.2679 Accuracy 0.1512\n",
      "Epoch 17 Batch 100 Loss 0.2702 Accuracy 0.1489\n",
      "Epoch 17 Batch 150 Loss 0.2812 Accuracy 0.1473\n",
      "Epoch 17 Batch 200 Loss 0.2883 Accuracy 0.1461\n",
      "Epoch 17 Batch 250 Loss 0.2948 Accuracy 0.1450\n",
      "Epoch 17 Loss 0.2972 Accuracy 0.1448\n",
      "Time taken for 1 epoch: 8.990416765213013 secs\n",
      "\n",
      "Epoch 18 Batch 0 Loss 0.2540 Accuracy 0.1625\n",
      "Epoch 18 Batch 50 Loss 0.2280 Accuracy 0.1585\n",
      "Epoch 18 Batch 100 Loss 0.2371 Accuracy 0.1568\n",
      "Epoch 18 Batch 150 Loss 0.2444 Accuracy 0.1548\n",
      "Epoch 18 Batch 200 Loss 0.2507 Accuracy 0.1530\n",
      "Epoch 18 Batch 250 Loss 0.2584 Accuracy 0.1516\n",
      "Epoch 18 Loss 0.2613 Accuracy 0.1510\n",
      "Time taken for 1 epoch: 8.969774961471558 secs\n",
      "\n",
      "Epoch 19 Batch 0 Loss 0.2235 Accuracy 0.1634\n",
      "Epoch 19 Batch 50 Loss 0.2022 Accuracy 0.1613\n",
      "Epoch 19 Batch 100 Loss 0.2103 Accuracy 0.1608\n",
      "Epoch 19 Batch 150 Loss 0.2188 Accuracy 0.1591\n",
      "Epoch 19 Batch 200 Loss 0.2255 Accuracy 0.1572\n",
      "Epoch 19 Batch 250 Loss 0.2311 Accuracy 0.1562\n",
      "Epoch 19 Loss 0.2334 Accuracy 0.1558\n",
      "Time taken for 1 epoch: 8.98022985458374 secs\n",
      "\n",
      "Epoch 20 Batch 0 Loss 0.1704 Accuracy 0.1710\n",
      "Epoch 20 Batch 50 Loss 0.1777 Accuracy 0.1687\n",
      "Epoch 20 Batch 100 Loss 0.1814 Accuracy 0.1664\n",
      "Epoch 20 Batch 150 Loss 0.1895 Accuracy 0.1647\n",
      "Epoch 20 Batch 200 Loss 0.1978 Accuracy 0.1626\n",
      "Epoch 20 Batch 250 Loss 0.2039 Accuracy 0.1615\n",
      "Saving checkpoint for epoch 20 at ../H/save/zh2eng_transformer/ckpt-4\n",
      "Epoch 20 Loss 0.2067 Accuracy 0.1611\n",
      "Time taken for 1 epoch: 9.083451271057129 secs\n",
      "\n"
     ]
    }
   ],
   "source": [
    "for epoch in range(EPOCHS):\n",
    "    start = time.time()\n",
    "\n",
    "    train_loss.reset_states()\n",
    "    train_accuracy.reset_states()\n",
    "\n",
    "    # inp -> zh, tar -> english\n",
    "    for (batch, (inp, tar)) in enumerate(dataset):\n",
    "        train_step(inp, tar)\n",
    "\n",
    "        if batch % 50 == 0:\n",
    "            print('Epoch {} Batch {} Loss {:.4f} Accuracy {:.4f}'.format(\n",
    "                epoch + 1, batch, train_loss.result(),\n",
    "                train_accuracy.result()))\n",
    "\n",
    "    if (epoch + 1) % 5 == 0:\n",
    "        ckpt_save_path = ckpt_manager.save()\n",
    "        print('Saving checkpoint for epoch {} at {}'.format(\n",
    "            epoch + 1, ckpt_save_path))\n",
    "\n",
    "    print('Epoch {} Loss {:.4f} Accuracy {:.4f}'.format(\n",
    "        epoch + 1, train_loss.result(), train_accuracy.result()))\n",
    "\n",
    "    print('Time taken for 1 epoch: {} secs\\n'.format(time.time() - start))"
   ]
  },
  {
   "cell_type": "code",
   "execution_count": null,
   "metadata": {},
   "outputs": [],
   "source": []
  },
  {
   "cell_type": "markdown",
   "metadata": {},
   "source": [
    "## 十二、评估"
   ]
  },
  {
   "cell_type": "code",
   "execution_count": 66,
   "metadata": {},
   "outputs": [],
   "source": [
    "max_length_ch = zh_tensor.shape[-1]\n",
    "max_length_eng = eng_tensor.shape[-1]\n",
    "\n",
    "\n",
    "def evaluate(inp_sentence):\n",
    "    sentence = preprocess_zh(inp_sentence)\n",
    "    inputs = [zh_tokenizer.word_index[i] for i in sentence.split(' ')]\n",
    "    inputs = tf.keras.preprocessing.sequence.pad_sequences(\n",
    "        [inputs], maxlen=max_length_ch, padding='post')\n",
    "    encoder_input = tf.convert_to_tensor(inputs)\n",
    "\n",
    "    # encoder_input = tf.expand_dims(inp_sentence, 0)\n",
    "\n",
    "    # 因为目标是英语，输入 transformer 的第一个词应该是\n",
    "    # 英语的开始标记。\n",
    "    decoder_input = [eng_tokenizer.word_index['<start>']]\n",
    "    output = tf.expand_dims(decoder_input, 0)\n",
    "\n",
    "    for i in range(max_length_eng):\n",
    "        enc_padding_mask, combined_mask, dec_padding_mask = create_masks(\n",
    "            encoder_input, output)\n",
    "\n",
    "        # predictions.shape == (batch_size, seq_len, vocab_size)\n",
    "        predictions, attention_weights = transformer(encoder_input, output,\n",
    "                                                     False, enc_padding_mask,\n",
    "                                                     combined_mask,\n",
    "                                                     dec_padding_mask)\n",
    "\n",
    "        # 从 seq_len 维度选择最后一个词\n",
    "        predictions = predictions[:, -1:, :]  # (batch_size, 1, vocab_size)\n",
    "\n",
    "        predicted_id = tf.cast(tf.argmax(predictions, axis=-1), tf.int32)\n",
    "\n",
    "        # 如果 predicted_id 等于结束标记，就返回结果\n",
    "        if predicted_id == eng_tokenizer.word_index['<end>']:\n",
    "            return tf.squeeze(output, axis=0), attention_weights\n",
    "\n",
    "        # 连接 predicted_id 与输出，作为解码器的输入传递到解码器。\n",
    "        output = tf.concat([output, predicted_id], axis=-1)\n",
    "\n",
    "    return tf.squeeze(output, axis=0), attention_weights"
   ]
  },
  {
   "cell_type": "code",
   "execution_count": 67,
   "metadata": {},
   "outputs": [],
   "source": [
    "def plot_attention_weights(attention, sentence, result, layer):\n",
    "    print(result)\n",
    "\n",
    "    fig = plt.figure(figsize=(16, 8))\n",
    "\n",
    "    sentence = preprocess_zh(sentence)\n",
    "    sentence = [zh_tokenizer.word_index[i] for i in sentence.split(' ')]\n",
    "\n",
    "    attention = tf.squeeze(attention[layer], axis=0)\n",
    "\n",
    "    for head in range(attention.shape[0]):\n",
    "        ax = fig.add_subplot(2, 4, head + 1)\n",
    "\n",
    "        # 画出注意力权重\n",
    "        ax.matshow(attention[head][:-1, :], cmap='viridis')\n",
    "\n",
    "        fontdict = {'fontsize': 10}\n",
    "\n",
    "        ax.set_xticks(range(len(sentence) + 2))\n",
    "        ax.set_yticks(range(len(result)))\n",
    "\n",
    "        ax.set_ylim(len(result) - 1.5, -0.5)\n",
    "        ax.set_xlim(-0.5, len(sentence))\n",
    "\n",
    "        ax.set_xticklabels([zh_tokenizer.index_word[i] for i in sentence],\n",
    "                           fontdict=fontdict)\n",
    "\n",
    "        ax.set_yticklabels(\n",
    "            [eng_tokenizer.index_word[i] for i in result.numpy()] + ['<end>'],\n",
    "            fontdict=fontdict)\n",
    "\n",
    "        ax.set_xlabel('Head {}'.format(head + 1))\n",
    "\n",
    "    plt.tight_layout()\n",
    "    plt.show()"
   ]
  },
  {
   "cell_type": "code",
   "execution_count": 72,
   "metadata": {},
   "outputs": [],
   "source": [
    "def translate(sentence, plot=''):\n",
    "    result, attention_weights = evaluate(sentence)\n",
    "\n",
    "    predicted_sentence = ' '.join(\n",
    "        [eng_tokenizer.index_word[i] for i in result.numpy()[1:]])\n",
    "\n",
    "    print('Input: {}'.format(sentence))\n",
    "    print('Predicted translation: {}'.format(predicted_sentence))\n",
    "\n",
    "    if plot:\n",
    "        plot_attention_weights(attention_weights, sentence, result, plot)"
   ]
  },
  {
   "cell_type": "code",
   "execution_count": 76,
   "metadata": {},
   "outputs": [
    {
     "name": "stdout",
     "output_type": "stream",
     "text": [
      "Input: 你应该立即开始。\n",
      "Predicted translation: port port port port port port port port port port port port port port port port port port port port port port port port port port port port port port port port port port port port\n",
      "tf.Tensor(\n",
      "[   1 6771 6771 6771 6771 6771 6771 6771 6771 6771 6771 6771 6771 6771\n",
      " 6771 6771 6771 6771 6771 6771 6771 6771 6771 6771 6771 6771 6771 6771\n",
      " 6771 6771 6771 6771 6771 6771 6771 6771 6771], shape=(37,), dtype=int32)\n"
     ]
    },
    {
     "data": {
      "image/png": "[encoded data removed]",
      "text/plain": [
       "<Figure size 1152x576 with 8 Axes>"
      ]
     },
     "metadata": {
      "needs_background": "light"
     },
     "output_type": "display_data"
    },
    {
     "name": "stdout",
     "output_type": "stream",
     "text": [
      "Real translation: you should begin right away.\n"
     ]
    }
   ],
   "source": [
    "translate(\"你应该立即开始。\", plot='decoder_layer4_block2')\n",
    "print(\"Real translation: you should begin right away.\")"
   ]
  },
  {
   "cell_type": "markdown",
   "metadata": {},
   "source": [
    "## 十三、重用保存的模型"
   ]
  },
  {
   "cell_type": "code",
   "execution_count": 19,
   "metadata": {},
   "outputs": [],
   "source": [
    "# 不需要再训练时，不用提供优化器？？？？\n",
    "num_layers = 4  \n",
    "d_model = 128\n",
    "dff = 512\n",
    "num_heads = 8\n",
    "\n",
    "input_vocab_size = len(zh_tokenizer.word_index) + 1\n",
    "target_vocab_size = len(eng_tokenizer.word_index) + 1\n",
    "dropout_rate = 0.1\n",
    "\n",
    "\n",
    "\n",
    "\n",
    "class CustomSchedule(tf.keras.optimizers.schedules.LearningRateSchedule):\n",
    "    def __init__(self, d_model, warmup_steps=4000):\n",
    "        super(CustomSchedule, self).__init__()\n",
    "\n",
    "        self.d_model = d_model\n",
    "        self.d_model = tf.cast(self.d_model, tf.float32)\n",
    "        self.warmup_steps = warmup_steps\n",
    "\n",
    "    def __call__(self, step):\n",
    "        arg1 = tf.math.rsqrt(step)\n",
    "        arg2 = step * (self.warmup_steps**-1.5)\n",
    "\n",
    "        return tf.math.rsqrt(self.d_model) * tf.math.minimum(arg1, arg2)\n",
    "\n",
    "\n",
    "learning_rate = CustomSchedule(d_model)\n",
    "optimizer = tf.keras.optimizers.Adam(learning_rate,\n",
    "                                     beta_1=0.9,\n",
    "                                     beta_2=0.98,\n",
    "                                     epsilon=1e-9)"
   ]
  },
  {
   "cell_type": "code",
   "execution_count": 63,
   "metadata": {},
   "outputs": [
    {
     "name": "stdout",
     "output_type": "stream",
     "text": [
      "Latest checkpoint restored!!\n"
     ]
    }
   ],
   "source": [
    "# 创建 transformer 并加载模型\n",
    "transformer = Transformer(num_layers,\n",
    "                          d_model,\n",
    "                          num_heads,\n",
    "                          dff,\n",
    "                          input_vocab_size,\n",
    "                          target_vocab_size,\n",
    "                          pe_input=input_vocab_size,\n",
    "                          pe_target=target_vocab_size,\n",
    "                          rate=dropout_rate)\n",
    "\n",
    "checkpoint_path = \"../H/save/zh2eng_transformer\"\n",
    "\n",
    "ckpt = tf.train.Checkpoint(transformer=transformer, optimizer=optimizer)\n",
    "ckpt_manager = tf.train.CheckpointManager(ckpt, checkpoint_path, max_to_keep=5)\n",
    "\n",
    "# 如果检查点存在，则恢复最新的检查点。\n",
    "if ckpt_manager.latest_checkpoint:\n",
    "    ckpt.restore(ckpt_manager.latest_checkpoint)\n",
    "    print('Latest checkpoint restored!!')"
   ]
  },
  {
   "cell_type": "code",
   "execution_count": 71,
   "metadata": {},
   "outputs": [],
   "source": [
    "# 加载分词器\n",
    "# from tensorflow.keras.preprocessing.text import tokenizer_from_json # tf.2.0没有这个函数\n",
    "\n",
    "tokenizer_dir = '../H/save/zh2eng_transformer_tokenizer/'\n",
    "zh_tokenizer_dir = tokenizer_dir + 'zh_tokenizer.json'\n",
    "eng_tokenizer_dir = tokenizer_dir + 'eng_tokenizer.json'\n",
    "\n",
    "with open(zh_tokenizer_dir) as f:\n",
    "    data = json.load(f)\n",
    "    zh_tokenizer = tokenizer_from_json(data)\n",
    "\n",
    "with open(eng_tokenizer_dir) as f:\n",
    "    data = json.load(f)\n",
    "    eng_tokenizer = tokenizer_from_json(data)"
   ]
  },
  {
   "cell_type": "code",
   "execution_count": null,
   "metadata": {},
   "outputs": [],
   "source": []
  },
  {
   "cell_type": "code",
   "execution_count": null,
   "metadata": {},
   "outputs": [],
   "source": []
  },
  {
   "cell_type": "code",
   "execution_count": null,
   "metadata": {},
   "outputs": [],
   "source": []
  },
  {
   "cell_type": "code",
   "execution_count": 1,
   "metadata": {},
   "outputs": [
    {
     "data": {
      "text/plain": [
       "'/home/yangbin7/anaconda3/lib/python3.7/site-packages/matplotlib/mpl-data/matplotlibrc'"
      ]
     },
     "execution_count": 1,
     "metadata": {},
     "output_type": "execute_result"
    }
   ],
   "source": [
    "import matplotlib\n",
    "matplotlib.matplotlib_fname()"
   ]
  },
  {
   "cell_type": "code",
   "execution_count": 2,
   "metadata": {},
   "outputs": [
    {
     "name": "stdout",
     "output_type": "stream",
     "text": [
      "{'Kalimati', 'cmex10', 'DejaVu Serif Display', 'STIXGeneral', 'padmaa', 'Keraleeyam', 'Abyssinica SIL', 'Noto Serif CJK JP', 'DejaVu Serif', 'DejaVu Sans Display', 'LKLUG', 'STIXNonUnicode', 'Loma', 'Nakula', 'Kalapi', 'Sahadeva', 'Garuda', 'FreeSans', 'Tlwg Typewriter', 'KacstFarsi', 'Vemana2000', 'Lohit Malayalam', 'Umpush', 'AR PL UKai CN', 'OpenSymbol', 'AR PL UMing CN', 'Laksaman', 'Rachana', 'mry_KacstQurn', 'KacstOffice', 'Samanata', 'STIXSizeThreeSym', 'Microsoft YaHei', 'cmss10', 'DejaVu Sans Mono', 'Sarai', 'FreeMono', 'Liberation Sans', 'KacstScreen', 'Lohit Tamil', 'Samyak Tamil', 'cmsy10', 'Liberation Serif', 'aakar', 'Sawasdee', 'KacstOne', 'Waree', 'Droid Sans Fallback', 'Ani', 'FreeSerif', 'Tlwg Typist', 'KacstPen', 'Padauk', 'AnjaliOldLipi', 'Meera', 'Phetsarath OT', 'ori1Uni', 'Noto Mono', 'KacstLetter', 'Navilu', 'Likhan', 'Mukti Narrow', 'KacstArt', 'Saab', 'Noto Sans CJK JP', 'Purisa', 'Karumbi', 'Suruma', 'KacstTitleL', 'KacstDecorative', 'Pothana2000', 'Lohit Kannada', 'Chandas', 'Padauk Book', 'Tlwg Mono', 'Uroob', 'cmmi10', 'Pagul', 'Lohit Telugu', 'Gubbi', 'KacstNaskh', 'Manjari', 'Jamrul', 'KacstQurn', 'Dyuthi', 'Lohit Bengali', 'Gargi', 'KacstBook', 'Mitra Mono', 'Khmer OS', 'Norasi', 'Lohit Assamese', 'KacstPoster', 'Ubuntu Mono', 'cmb10', 'Lohit Gurmukhi', 'KacstTitle', 'Samyak Devanagari', 'cmr10', 'Khmer OS System', 'Lohit Devanagari', 'RaghuMalayalam', 'Liberation Mono', 'Lohit Gujarati', 'Samyak Gujarati', 'STIXSizeFiveSym', 'KacstDigital', 'STIXSizeTwoSym', 'Lohit Odia', 'Ubuntu', 'Tibetan Machine Uni', 'padmaa-Bold.1.1', 'DejaVu Sans', 'Liberation Sans Narrow', 'Chilanka', 'SimHei', 'Kinnari', 'Rekha', 'Lohit Tamil Classical', 'Ubuntu Condensed', 'cmtt10', 'STIXSizeFourSym', 'Tlwg Typo', 'Samyak Malayalam', 'STIXSizeOneSym'}\n",
      "********** 系统可用的中文字体 **********\n",
      "Noto Serif CJK TC\n",
      "Noto Serif CJK SC\n",
      "Noto Serif CJK TC\n",
      "Noto Serif CJK KR\n",
      "Noto Serif CJK JP\n",
      "Noto Serif CJK SC\n",
      "AR PL UKai CN\n",
      "微软雅黑,Microsoft YaHei\n",
      "Noto Sans Mono CJK TC\n",
      "Noto Sans CJK JP\n",
      "AR PL UKai TW\n",
      "Noto Sans CJK HK\n",
      "Noto Sans CJK KR\n",
      "Noto Sans CJK SC\n",
      "Noto Sans Mono CJK SC\n",
      "Noto Sans Mono CJK KR\n",
      "Noto Sans Mono CJK JP\n",
      "Noto Sans Mono CJK HK\n",
      "Fixed\n",
      "Noto Sans Mono CJK JP\n",
      "Noto Sans Mono CJK HK\n",
      "Noto Sans Mono CJK KR\n",
      "AR PL UMing CN\n",
      "Noto Sans CJK KR\n",
      "AR PL UMing TW\n",
      "Noto Sans CJK HK\n",
      "Noto Serif CJK KR\n",
      "Noto Sans CJK JP\n",
      "AR PL UMing HK\n",
      "Noto Serif CJK JP\n",
      "Noto Sans CJK TC\n",
      "Droid Sans Fallback\n",
      "Noto Sans Mono CJK TC\n",
      "Noto Sans Mono CJK SC\n",
      "AR PL UMing TW MBE\n",
      "Noto Sans CJK TC\n",
      "AR PL UKai HK\n",
      "AR PL UKai TW MBE\n",
      "Noto Sans CJK SC\n",
      "Fixed\n",
      "\n",
      "********** 可用的字体 **********\n",
      "Droid Sans Fallback\n",
      "Noto Sans CJK JP\n",
      "AR PL UMing CN\n",
      "Noto Serif CJK JP\n",
      "AR PL UKai CN\n"
     ]
    }
   ],
   "source": [
    "from matplotlib.font_manager import FontManager\n",
    "import subprocess\n",
    "fm = FontManager()\n",
    "mat_fonts = set(f.name for f in fm.ttflist)\n",
    "print(mat_fonts)\n",
    "output = subprocess.check_output('fc-list :lang=zh -f \"%{family}\\n\"',\n",
    "                                 shell=True)\n",
    "print('*' * 10, '系统可用的中文字体', '*' * 10)\n",
    "print(output.decode('utf-8'))\n",
    "zh_fonts = set(f.split(',', 1)[0] for f in output.decode('utf-8').split('\\n'))\n",
    "available = mat_fonts & zh_fonts\n",
    "print('*' * 10, '可用的字体', '*' * 10)\n",
    "for f in available:\n",
    "    print(f)"
   ]
  },
  {
   "cell_type": "code",
   "execution_count": null,
   "metadata": {},
   "outputs": [],
   "source": []
  },
  {
   "cell_type": "code",
   "execution_count": 5,
   "metadata": {},
   "outputs": [
    {
     "data": {
      "image/png": "[encoded data removed]",
      "text/plain": [
       "<Figure size 432x288 with 1 Axes>"
      ]
     },
     "metadata": {
      "needs_background": "light"
     },
     "output_type": "display_data"
    }
   ],
   "source": [
    "import matplotlib\n",
    "import matplotlib.pyplot as plt\n",
    "import numpy as np\n",
    "\n",
    "# Data for plotting\n",
    "t = np.arange(0.0, 2.0, 0.01)\n",
    "s = 1 + np.sin(2 * np.pi * t)\n",
    "\n",
    "fig, ax = plt.subplots()\n",
    "ax.plot(t, s)\n",
    "\n",
    "ax.set(xlabel='你大爷的中文字体', ylabel='voltage (mV)',\n",
    "       title='About as simple as it gets, folks')\n",
    "ax.grid()\n",
    "\n",
    "plt.show()"
   ]
  },
  {
   "cell_type": "code",
   "execution_count": null,
   "metadata": {},
   "outputs": [],
   "source": []
  },
  {
   "cell_type": "code",
   "execution_count": null,
   "metadata": {},
   "outputs": [],
   "source": []
  },
  {
   "cell_type": "code",
   "execution_count": null,
   "metadata": {},
   "outputs": [],
   "source": []
  },
  {
   "cell_type": "code",
   "execution_count": null,
   "metadata": {},
   "outputs": [],
   "source": []
  }
 ],
 "metadata": {
  "kernelspec": {
   "display_name": "Python 3",
   "language": "python",
   "name": "python3"
  },
  "language_info": {
   "codemirror_mode": {
    "name": "ipython",
    "version": 3
   },
   "file_extension": ".py",
   "mimetype": "text/x-python",
   "name": "python",
   "nbconvert_exporter": "python",
   "pygments_lexer": "ipython3",
   "version": "3.7.7"
  },
  "toc": {
   "base_numbering": 1,
   "nav_menu": {},
   "number_sections": true,
   "sideBar": true,
   "skip_h1_title": false,
   "title_cell": "Table of Contents",
   "title_sidebar": "Contents",
   "toc_cell": false,
   "toc_position": {
    "height": "calc(100% - 180px)",
    "left": "10px",
    "top": "150px",
    "width": "453px"
   },
   "toc_section_display": true,
   "toc_window_display": true
  },
  "varInspector": {
   "cols": {
    "lenName": 16,
    "lenType": 16,
    "lenVar": 40
   },
   "kernels_config": {
    "python": {
     "delete_cmd_postfix": "",
     "delete_cmd_prefix": "del ",
     "library": "var_list.py",
     "varRefreshCmd": "print(var_dic_list())"
    },
    "r": {
     "delete_cmd_postfix": ") ",
     "delete_cmd_prefix": "rm(",
     "library": "var_list.r",
     "varRefreshCmd": "cat(var_dic_list()) "
    }
   },
   "types_to_exclude": [
    "module",
    "function",
    "builtin_function_or_method",
    "instance",
    "_Feature"
   ],
   "window_display": false
  }
 },
 "nbformat": 4,
 "nbformat_minor": 2
}
