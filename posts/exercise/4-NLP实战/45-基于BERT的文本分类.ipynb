{
 "cells": [
  {
   "cell_type": "code",
   "execution_count": 1,
   "metadata": {
    "ExecuteTime": {
     "end_time": "2020-05-15T10:35:47.286327Z",
     "start_time": "2020-05-15T10:35:46.157452Z"
    }
   },
   "outputs": [],
   "source": [
    "import random, time, os\n",
    "import torch\n",
    "import torch.nn as nn\n",
    "from transformers import BertTokenizer, BertForSequenceClassification, AdamW, BertConfig\n",
    "from tensorflow.keras.preprocessing.sequence import pad_sequences\n",
    "from torch.utils.data import TensorDataset, DataLoader, RandomSampler, SequentialSampler\n",
    "\n",
    "from tqdm import tqdm"
   ]
  },
  {
   "cell_type": "markdown",
   "metadata": {},
   "source": [
    "# BERT模型分类"
   ]
  },
  {
   "cell_type": "markdown",
   "metadata": {},
   "source": [
    "## 创建数据集"
   ]
  },
  {
   "cell_type": "code",
   "execution_count": 3,
   "metadata": {
    "ExecuteTime": {
     "end_time": "2020-05-15T10:36:08.176961Z",
     "start_time": "2020-05-15T10:36:08.172013Z"
    }
   },
   "outputs": [],
   "source": [
    "corpus_path = \"../../H/datasets/THUCNews/\"\n",
    "train_path = corpus_path + \"train.txt\"\n",
    "dev_path = corpus_path + \"dev.txt\"\n",
    "test_path = corpus_path + \"test.txt\"\n",
    "model_path = '../../H/models/huggingface/bert-base-chinese'"
   ]
  },
  {
   "cell_type": "code",
   "execution_count": 3,
   "metadata": {
    "ExecuteTime": {
     "end_time": "2020-05-15T08:53:28.316133Z",
     "start_time": "2020-05-15T08:53:28.178402Z"
    }
   },
   "outputs": [
    {
     "name": "stderr",
     "output_type": "stream",
     "text": [
      "180000it [00:00, 1396939.80it/s]"
     ]
    },
    {
     "name": "stdout",
     "output_type": "stream",
     "text": [
      "No of Training Data: 180000\n",
      "No of different Labels: 10\n",
      "Sample Data: 斯里兰卡急派外交部长前往巴基斯坦, Label: 6\n"
     ]
    },
    {
     "name": "stderr",
     "output_type": "stream",
     "text": [
      "\n"
     ]
    }
   ],
   "source": [
    "# 加载语料\n",
    "def load_corpus(path):\n",
    "    sentences = []\n",
    "    labels = []\n",
    "    with open(path, 'r', encoding='UTF-8') as f:\n",
    "        for line in tqdm(f):\n",
    "            line = line.strip()\n",
    "            if not line:\n",
    "                continue\n",
    "            sent, label = line.split('\\t')\n",
    "            sentences.append(sent)\n",
    "            labels.append(int(label))\n",
    "    return sentences, labels\n",
    "\n",
    "\n",
    "train_data, train_labels = load_corpus(train_path)\n",
    "\n",
    "# 数据量\n",
    "print(f\"No of Training Data: {len(train_data)}\")\n",
    "\n",
    "# 多少类\n",
    "print(f\"No of different Labels: {len(set(train_labels))}\")\n",
    "\n",
    "# 训练样本\n",
    "print(f\"Sample Data: {train_data[900]}, Label: {train_labels[900] }\")"
   ]
  },
  {
   "cell_type": "code",
   "execution_count": 41,
   "metadata": {
    "ExecuteTime": {
     "end_time": "2020-05-15T09:27:02.196879Z",
     "start_time": "2020-05-15T09:27:02.191599Z"
    }
   },
   "outputs": [
    {
     "name": "stdout",
     "output_type": "stream",
     "text": [
      "finance\n",
      "realty\n",
      "stocks\n",
      "education\n",
      "science\n",
      "society\n",
      "politics\n",
      "sports\n",
      "game\n",
      "entertainment\n"
     ]
    }
   ],
   "source": [
    "label_names = open(corpus_path + 'class.txt', 'r', encoding='UTF-8').read()\n",
    "print(label_names)"
   ]
  },
  {
   "cell_type": "markdown",
   "metadata": {},
   "source": [
    "> 语料的形式为：句子 + 标签；新闻句子及其对应的类别"
   ]
  },
  {
   "cell_type": "code",
   "execution_count": 4,
   "metadata": {
    "ExecuteTime": {
     "end_time": "2020-05-15T10:36:12.998665Z",
     "start_time": "2020-05-15T10:36:12.983795Z"
    }
   },
   "outputs": [],
   "source": [
    "# 分词器\n",
    "bert_tokenizer = BertTokenizer.from_pretrained(model_path)"
   ]
  },
  {
   "cell_type": "code",
   "execution_count": 6,
   "metadata": {
    "ExecuteTime": {
     "end_time": "2020-05-15T08:54:16.158788Z",
     "start_time": "2020-05-15T08:53:58.685541Z"
    }
   },
   "outputs": [
    {
     "data": {
      "text/plain": [
       "[101,\n",
       " 3172,\n",
       " 7027,\n",
       " 1065,\n",
       " 1305,\n",
       " 2593,\n",
       " 3836,\n",
       " 1912,\n",
       " 769,\n",
       " 6956,\n",
       " 7270,\n",
       " 1184,\n",
       " 2518,\n",
       " 2349,\n",
       " 1825,\n",
       " 3172,\n",
       " 1788,\n",
       " 102]"
      ]
     },
     "execution_count": 6,
     "metadata": {},
     "output_type": "execute_result"
    }
   ],
   "source": [
    "# 向量化\n",
    "def vectorize(sentences, tokenizer):\n",
    "    input_ids = []\n",
    "\n",
    "    for sent in sentences:\n",
    "        encoded_sent = tokenizer.encode(\n",
    "            sent,\n",
    "            add_special_tokens=True,  # 添加特殊符号\n",
    "        )\n",
    "        input_ids.append(encoded_sent)\n",
    "    return input_ids\n",
    "\n",
    "\n",
    "input_ids = vectorize(train_data, tokenizer=bert_tokenizer)\n",
    "input_ids[900]"
   ]
  },
  {
   "cell_type": "code",
   "execution_count": 7,
   "metadata": {
    "ExecuteTime": {
     "end_time": "2020-05-15T08:54:21.024923Z",
     "start_time": "2020-05-15T08:54:21.010210Z"
    }
   },
   "outputs": [
    {
     "name": "stdout",
     "output_type": "stream",
     "text": [
      "Max sentence length:  35\n"
     ]
    }
   ],
   "source": [
    "MAX_LEN = max([len(sen) for sen in input_ids])\n",
    "print(\"Max sentence length: \", MAX_LEN)"
   ]
  },
  {
   "cell_type": "code",
   "execution_count": 8,
   "metadata": {
    "ExecuteTime": {
     "end_time": "2020-05-15T08:54:22.834418Z",
     "start_time": "2020-05-15T08:54:22.237114Z"
    }
   },
   "outputs": [
    {
     "name": "stdout",
     "output_type": "stream",
     "text": [
      "Padding token: [PAD], ID: 0\n"
     ]
    },
    {
     "data": {
      "text/plain": [
       "((180000, 35),\n",
       " array([ 101, 3172, 7027, 1065, 1305, 2593, 3836, 1912,  769, 6956, 7270,\n",
       "        1184, 2518, 2349, 1825, 3172, 1788,  102,    0,    0,    0,    0,\n",
       "           0,    0,    0,    0,    0,    0,    0,    0,    0,    0,    0,\n",
       "           0,    0]))"
      ]
     },
     "execution_count": 8,
     "metadata": {},
     "output_type": "execute_result"
    }
   ],
   "source": [
    "# 填充成相同的长度\n",
    "from tensorflow.keras.preprocessing.sequence import pad_sequences\n",
    "\n",
    "print(\"Padding token: {:}, ID: {:}\".format(bert_tokenizer.pad_token,\n",
    "                                           bert_tokenizer.pad_token_id))\n",
    "input_ids = pad_sequences(input_ids,\n",
    "                          maxlen=MAX_LEN,\n",
    "                          dtype='long',\n",
    "                          value=0,\n",
    "                          truncating=\"post\",\n",
    "                          padding='post')\n",
    "input_ids.shape, input_ids[900]"
   ]
  },
  {
   "cell_type": "code",
   "execution_count": 9,
   "metadata": {
    "ExecuteTime": {
     "end_time": "2020-05-15T08:54:31.159871Z",
     "start_time": "2020-05-15T08:54:28.790089Z"
    }
   },
   "outputs": [
    {
     "name": "stdout",
     "output_type": "stream",
     "text": [
      "[1, 1, 1, 1, 1, 1, 1, 1, 1, 1, 1, 1, 1, 1, 1, 1, 1, 1, 0, 0, 0, 0, 0, 0, 0, 0, 0, 0, 0, 0, 0, 0, 0, 0, 0]\n"
     ]
    }
   ],
   "source": [
    "# 对应的掩码\n",
    "# 填充对应的mask\n",
    "\n",
    "\n",
    "def create_mask(input_ids):\n",
    "    attention_masks = []\n",
    "    for sent in input_ids:\n",
    "        att_mask = [int(token_id > 0) for token_id in sent]\n",
    "        attention_masks.append(att_mask)\n",
    "    return attention_masks\n",
    "\n",
    "\n",
    "mask = create_mask(input_ids)\n",
    "print(mask[900])"
   ]
  },
  {
   "cell_type": "code",
   "execution_count": 10,
   "metadata": {
    "ExecuteTime": {
     "end_time": "2020-05-15T08:54:36.509371Z",
     "start_time": "2020-05-15T08:54:36.373370Z"
    }
   },
   "outputs": [
    {
     "data": {
      "text/plain": [
       "(torch.Size([180000, 35]), torch.Size([180000]), torch.Size([180000, 35]))"
      ]
     },
     "execution_count": 10,
     "metadata": {},
     "output_type": "execute_result"
    }
   ],
   "source": [
    "# 转化为 PyTorch 数据格式\n",
    "import torch\n",
    "\n",
    "train_inputs = torch.tensor(input_ids)\n",
    "train_labels = torch.tensor(train_labels)\n",
    "train_mask = torch.tensor(mask)\n",
    "train_inputs.shape, train_labels.shape, train_mask.shape"
   ]
  },
  {
   "cell_type": "code",
   "execution_count": 12,
   "metadata": {
    "ExecuteTime": {
     "end_time": "2020-05-15T08:54:49.993973Z",
     "start_time": "2020-05-15T08:54:49.987496Z"
    }
   },
   "outputs": [
    {
     "data": {
      "text/plain": [
       "5625"
      ]
     },
     "execution_count": 12,
     "metadata": {},
     "output_type": "execute_result"
    }
   ],
   "source": [
    "# 创建数据管道\n",
    "\n",
    "from torch.utils.data import TensorDataset, DataLoader, RandomSampler, SequentialSampler\n",
    "\n",
    "batch_size = 32\n",
    "train_data = TensorDataset(train_inputs, train_mask, train_labels)\n",
    "train_sampler = RandomSampler(train_data)\n",
    "train_dataloader = DataLoader(train_data,\n",
    "                              sampler=train_sampler,\n",
    "                              batch_size=batch_size)\n",
    "len(train_dataloader)"
   ]
  },
  {
   "cell_type": "code",
   "execution_count": 17,
   "metadata": {
    "ExecuteTime": {
     "end_time": "2020-05-15T10:39:36.630512Z",
     "start_time": "2020-05-15T10:39:36.618405Z"
    }
   },
   "outputs": [],
   "source": [
    "# 将整个过程整合起来\n",
    "import os\n",
    "from tensorflow.keras.preprocessing.sequence import pad_sequences\n",
    "from torch.utils.data import TensorDataset, DataLoader, RandomSampler, SequentialSampler\n",
    "\n",
    "\n",
    "class DataGen:\n",
    "    def __init__(self, corpus_path, tokenizer, num_samples=None):\n",
    "        self.tokenizer = tokenizer\n",
    "        corpus_path = os.path.abspath(corpus_path)\n",
    "        saved_path = corpus_path.split('.')[0]  # 用于保存向量化后的语料\n",
    "        if not os.path.exists(saved_path + '.npz'):  # numpy 的保存格式\n",
    "\n",
    "            train_inputs, train_labels = self.load_corpus(corpus_path)\n",
    "            self.train_labels = train_labels\n",
    "\n",
    "            train_inputs = self.vectorize(train_inputs, self.tokenizer)\n",
    "            MAX_LEN = max([len(seq) for seq in train_inputs])\n",
    "\n",
    "            train_inputs = pad_sequences(\n",
    "                train_inputs,\n",
    "                maxlen=MAX_LEN,\n",
    "                dtype='long',\n",
    "                value=0,\n",
    "                truncating=\"post\",\n",
    "                padding='post',\n",
    "            )\n",
    "            train_mask = self.create_mask(train_inputs)\n",
    "            print(saved_path)\n",
    "            np.savez(saved_path,\n",
    "                     train_inputs=train_inputs,\n",
    "                     train_mask=train_mask,\n",
    "                     train_labels=train_labels)\n",
    "            print('Done')\n",
    "\n",
    "        else:\n",
    "            npzfile = np.load(saved_path + '.npz', allow_pickle=True)\n",
    "            train_inputs = npzfile['train_inputs']\n",
    "            train_labels = npzfile['train_labels']\n",
    "            train_mask = npzfile['train_mask']\n",
    "\n",
    "        if num_samples:\n",
    "            train_inputs = train_inputs[:num_samples]\n",
    "            train_labels = train_labels[:num_samples]\n",
    "            train_mask = train_mask[:num_samples]\n",
    "\n",
    "        self.train_inputs = torch.tensor(train_inputs).long()\n",
    "        self.train_labels = torch.tensor(train_labels).long()\n",
    "        self.train_mask = torch.tensor(train_mask).long()\n",
    "\n",
    "    def __call__(self, batch_size):\n",
    "        train_data = TensorDataset(\n",
    "            self.train_inputs,\n",
    "            self.train_mask,\n",
    "            self.train_labels,\n",
    "        )\n",
    "        train_sampler = RandomSampler(train_data)\n",
    "        train_dataloader = DataLoader(\n",
    "            train_data,\n",
    "            sampler=train_sampler,\n",
    "            batch_size=batch_size,\n",
    "        )\n",
    "        return train_dataloader\n",
    "\n",
    "    def load_corpus(self, path):\n",
    "        sentences = []\n",
    "        labels = []\n",
    "        with open(path, 'r', encoding='UTF-8') as f:\n",
    "            for line in tqdm(f):\n",
    "                line = line.strip()\n",
    "                if not line:\n",
    "                    continue\n",
    "                sent, label = line.split('\\t')\n",
    "                sentences.append(sent)\n",
    "                labels.append(int(label))\n",
    "        return sentences, labels\n",
    "\n",
    "    def vectorize(self, sentences, tokenizer):\n",
    "        input_ids = []\n",
    "\n",
    "        for sent in sentences:\n",
    "            encoded_sent = tokenizer.encode(\n",
    "                sent,\n",
    "                add_special_tokens=True,  # 添加特殊符号\n",
    "            )\n",
    "            input_ids.append(encoded_sent)\n",
    "        return input_ids\n",
    "\n",
    "    def create_mask(self, input_ids):\n",
    "        attention_masks = []\n",
    "        for sent in input_ids:\n",
    "            att_mask = [int(token_id > 0) for token_id in sent]\n",
    "            attention_masks.append(att_mask)\n",
    "        return attention_masks"
   ]
  },
  {
   "cell_type": "code",
   "execution_count": 6,
   "metadata": {
    "ExecuteTime": {
     "end_time": "2020-05-15T10:36:56.621862Z",
     "start_time": "2020-05-15T10:36:35.821293Z"
    }
   },
   "outputs": [
    {
     "name": "stderr",
     "output_type": "stream",
     "text": [
      "180000it [00:00, 1371716.12it/s]\n"
     ]
    },
    {
     "name": "stdout",
     "output_type": "stream",
     "text": [
      "/home/yangbin7/H/datasets/THUCNews/train\n",
      "Done\n",
      "CPU times: user 21.6 s, sys: 139 ms, total: 21.7 s\n",
      "Wall time: 20.8 s\n"
     ]
    },
    {
     "data": {
      "text/plain": [
       "5625"
      ]
     },
     "execution_count": 6,
     "metadata": {},
     "output_type": "execute_result"
    }
   ],
   "source": [
    "%%time\n",
    "train_data_gen = DataGen(train_path, tokenizer=bert_tokenizer)\n",
    "train_dataloader = train_data_gen(batch_size=32)\n",
    "len(train_dataloader)"
   ]
  },
  {
   "cell_type": "code",
   "execution_count": 7,
   "metadata": {
    "ExecuteTime": {
     "end_time": "2020-05-15T10:36:57.782642Z",
     "start_time": "2020-05-15T10:36:56.637326Z"
    }
   },
   "outputs": [
    {
     "name": "stderr",
     "output_type": "stream",
     "text": [
      "10000it [00:00, 987359.70it/s]\n"
     ]
    },
    {
     "name": "stdout",
     "output_type": "stream",
     "text": [
      "/home/yangbin7/H/datasets/THUCNews/dev\n",
      "Done\n",
      "CPU times: user 2.32 s, sys: 4.05 ms, total: 2.32 s\n",
      "Wall time: 1.14 s\n"
     ]
    },
    {
     "data": {
      "text/plain": [
       "313"
      ]
     },
     "execution_count": 7,
     "metadata": {},
     "output_type": "execute_result"
    }
   ],
   "source": [
    "%%time\n",
    "validation_data_gen = DataGen(dev_path, tokenizer=bert_tokenizer)\n",
    "validation_dataloader = validation_data_gen(batch_size=32)\n",
    "len(validation_dataloader)"
   ]
  },
  {
   "cell_type": "code",
   "execution_count": 8,
   "metadata": {
    "ExecuteTime": {
     "end_time": "2020-05-15T10:36:58.972566Z",
     "start_time": "2020-05-15T10:36:57.798717Z"
    }
   },
   "outputs": [
    {
     "name": "stderr",
     "output_type": "stream",
     "text": [
      "10000it [00:00, 1005442.52it/s]\n"
     ]
    },
    {
     "name": "stdout",
     "output_type": "stream",
     "text": [
      "/home/yangbin7/H/datasets/THUCNews/test\n",
      "Done\n",
      "CPU times: user 2.45 s, sys: 19.8 ms, total: 2.47 s\n",
      "Wall time: 1.17 s\n"
     ]
    },
    {
     "data": {
      "text/plain": [
       "313"
      ]
     },
     "execution_count": 8,
     "metadata": {},
     "output_type": "execute_result"
    }
   ],
   "source": [
    "%%time\n",
    "test_data_gen = DataGen(test_path, tokenizer=bert_tokenizer)\n",
    "test_dataloader = test_data_gen(batch_size=32)\n",
    "len(test_dataloader)"
   ]
  },
  {
   "cell_type": "code",
   "execution_count": null,
   "metadata": {},
   "outputs": [],
   "source": []
  },
  {
   "cell_type": "code",
   "execution_count": 17,
   "metadata": {
    "ExecuteTime": {
     "end_time": "2020-05-15T08:55:40.389804Z",
     "start_time": "2020-05-15T08:55:40.376447Z"
    }
   },
   "outputs": [
    {
     "name": "stdout",
     "output_type": "stream",
     "text": [
      "tensor([[ 101, 3719, 1164,  ...,    0,    0,    0],\n",
      "        [ 101, 6205, 7305,  ...,    0,    0,    0],\n",
      "        [ 101, 7357, 3236,  ...,    0,    0,    0],\n",
      "        ...,\n",
      "        [ 101,  772,  689,  ...,    0,    0,    0],\n",
      "        [ 101, 5792, 7674,  ...,    0,    0,    0],\n",
      "        [ 101,  782,  924,  ...,    0,    0,    0]])\n",
      "tensor([[1, 1, 1,  ..., 0, 0, 0],\n",
      "        [1, 1, 1,  ..., 0, 0, 0],\n",
      "        [1, 1, 1,  ..., 0, 0, 0],\n",
      "        ...,\n",
      "        [1, 1, 1,  ..., 0, 0, 0],\n",
      "        [1, 1, 1,  ..., 0, 0, 0],\n",
      "        [1, 1, 1,  ..., 0, 0, 0]])\n",
      "tensor([2, 4, 9, 6, 5, 5, 3, 3, 7, 3, 0, 6, 1, 6, 2, 7, 3, 5, 1, 9, 5, 0, 2, 9,\n",
      "        2, 0, 7, 5, 5, 4, 6, 6])\n"
     ]
    }
   ],
   "source": [
    "for data in train_dataloader:\n",
    "    input_data, input_mask, input_labels = data\n",
    "    print(input_data)\n",
    "    print(input_mask)\n",
    "    print(input_labels)\n",
    "    break"
   ]
  },
  {
   "cell_type": "code",
   "execution_count": null,
   "metadata": {
    "ExecuteTime": {
     "end_time": "2020-05-15T01:21:01.681517Z",
     "start_time": "2020-05-15T01:21:00.554551Z"
    }
   },
   "outputs": [],
   "source": []
  },
  {
   "cell_type": "markdown",
   "metadata": {},
   "source": [
    "## 创建模型\n",
    "`BertForSequenceClassification`已经封装了线性分类层的模型，**输出直接包含了损失**，不需要再进行自定义"
   ]
  },
  {
   "cell_type": "code",
   "execution_count": 19,
   "metadata": {
    "ExecuteTime": {
     "end_time": "2020-05-15T08:56:48.775808Z",
     "start_time": "2020-05-15T08:56:47.133443Z"
    }
   },
   "outputs": [],
   "source": [
    "model_path = '../../H/models/huggingface/bert-base-chinese'\n",
    "model = BertForSequenceClassification.from_pretrained(\n",
    "    model_path,  # 本地文件载入\n",
    "    num_labels=10,  # 指定分类类别\n",
    "    output_attentions=False,  # 输出注意力权重\n",
    "    output_hidden_states=False,  # 输出隐藏状态\n",
    ")\n",
    "for param in model.parameters():  # 所有参数设置成 可训练\n",
    "    param.requires_grad = True\n",
    "\n",
    "model.cuda();"
   ]
  },
  {
   "cell_type": "code",
   "execution_count": 9,
   "metadata": {
    "ExecuteTime": {
     "end_time": "2020-05-15T10:37:22.524340Z",
     "start_time": "2020-05-15T10:37:22.518012Z"
    }
   },
   "outputs": [],
   "source": [
    "# 封装成函数\n",
    "\n",
    "def create_classifier(model_path,\n",
    "                      num_labels,\n",
    "                      output_attentions=True,\n",
    "                      output_hidden_states=True):\n",
    "    model = BertForSequenceClassification.from_pretrained(\n",
    "        model_path,  # 本地文件载入\n",
    "        num_labels=num_labels,  # 指定分类类别\n",
    "        output_attentions=output_attentions,  # 输出注意力权重\n",
    "        output_hidden_states=output_hidden_states,  # 输出隐藏状态\n",
    "    )\n",
    "    for param in model.parameters():\n",
    "        param.requires_grad = True\n",
    "\n",
    "    model.cuda()\n",
    "    return model\n",
    "\n",
    "\n"
   ]
  },
  {
   "cell_type": "code",
   "execution_count": null,
   "metadata": {},
   "outputs": [],
   "source": [
    "model = create_classifier(model_path=model_path, num_labels=10)"
   ]
  },
  {
   "cell_type": "markdown",
   "metadata": {},
   "source": [
    "## 训练模型"
   ]
  },
  {
   "cell_type": "code",
   "execution_count": null,
   "metadata": {},
   "outputs": [],
   "source": []
  },
  {
   "cell_type": "code",
   "execution_count": 21,
   "metadata": {
    "ExecuteTime": {
     "end_time": "2020-05-15T08:57:15.093241Z",
     "start_time": "2020-05-15T08:57:15.087430Z"
    }
   },
   "outputs": [],
   "source": [
    "from transformers import BertForSequenceClassification, AdamW, BertConfig\n",
    "\n",
    "# 优化器\n",
    "optimizer = AdamW(model.parameters(), lr=2e-5, eps=1e-8)\n",
    "\n",
    "\n",
    "# 学习率规划\n",
    "from transformers import get_linear_schedule_with_warmup\n",
    "\n",
    "epochs = 4\n",
    "\n",
    "total_steps = len(train_dataloader) * epochs\n",
    "\n",
    "scheduler = get_linear_schedule_with_warmup(optimizer,\n",
    "                                            num_warmup_steps=0,\n",
    "                                            num_training_steps=total_steps)"
   ]
  },
  {
   "cell_type": "code",
   "execution_count": 10,
   "metadata": {
    "ExecuteTime": {
     "end_time": "2020-05-15T10:37:34.297530Z",
     "start_time": "2020-05-15T10:37:34.290967Z"
    }
   },
   "outputs": [],
   "source": [
    "\n",
    "# 预测精度\n",
    "import numpy as np\n",
    "\n",
    "\n",
    "def flat_accuracy(preds, labels):\n",
    "    pred_flat = np.argmax(preds, axis=1).flatten()\n",
    "    labels_flat = labels.flatten()\n",
    "    return np.sum(pred_flat == labels_flat) / len(labels_flat)\n",
    "\n",
    "\n",
    "# 格式化时间显示\n",
    "import time\n",
    "import datetime\n",
    "\n",
    "\n",
    "def format_time(elapsed):\n",
    "    elapsed_rounded = int(round((elapsed)))\n",
    "\n",
    "    return str(datetime.timedelta(seconds=elapsed_rounded))"
   ]
  },
  {
   "cell_type": "code",
   "execution_count": null,
   "metadata": {
    "ExecuteTime": {
     "end_time": "2020-05-14T15:06:00.472266Z",
     "start_time": "2020-05-14T14:54:15.326069Z"
    },
    "code_folding": []
   },
   "outputs": [],
   "source": [
    "import random\n",
    "\n",
    "\n",
    "device = torch.device(\"cuda\" if torch.cuda.is_available() else \"cpu\")\n",
    "\n",
    "seed_val = 42\n",
    "num_epochs = 2\n",
    "\n",
    "random.seed(seed_val)\n",
    "np.random.seed(seed_val)\n",
    "torch.manual_seed(seed_val)\n",
    "torch.cuda.manual_seed_all(seed_val)\n",
    "\n",
    "loss_values = []\n",
    "\n",
    "for epoch in range(0, num_epochs):\n",
    "\n",
    "    # ========================================\n",
    "    #               Training\n",
    "    # ========================================\n",
    "\n",
    "    print(\"\")\n",
    "    print('======== Epoch {:} / {:} ========'.format(epoch + 1, num_epochs))\n",
    "    print('Training...')\n",
    "\n",
    "    t0 = time.time()\n",
    "\n",
    "    total_loss = 0\n",
    "\n",
    "    model.train()\n",
    "\n",
    "    for step, batch in enumerate(train_dataloader):\n",
    "\n",
    "        if step % 1000 == 0 and not step == 0:\n",
    "            elapsed = format_time(time.time() - t0)\n",
    "\n",
    "            # Report progress.\n",
    "            print('  Batch {:>5,}  of  {:>5,}.    Elapsed: {:}.'.format(\n",
    "                step, len(train_dataloader), elapsed))\n",
    "\n",
    "        b_input_ids = batch[0].to(device)\n",
    "        b_input_mask = batch[1].to(device)\n",
    "        b_labels = batch[2].to(device)\n",
    "\n",
    "        model.zero_grad()\n",
    "\n",
    "        outputs = model(b_input_ids,\n",
    "                        token_type_ids=None,\n",
    "                        attention_mask=b_input_mask,\n",
    "                        labels=b_labels)\n",
    "        # 返回 (loss,logits,hidden_state,attentions) 元组\n",
    "\n",
    "        loss = outputs[0]\n",
    "\n",
    "        total_loss += loss.item()\n",
    "\n",
    "        loss.backward()\n",
    "\n",
    "        torch.nn.utils.clip_grad_norm_(model.parameters(), 1.0)\n",
    "\n",
    "        optimizer.step()\n",
    "\n",
    "        scheduler.step()\n",
    "\n",
    "    avg_train_loss = total_loss / len(train_dataloader)\n",
    "\n",
    "    loss_values.append(avg_train_loss)\n",
    "\n",
    "    print(\"\")\n",
    "    print(\"  Average training loss: {0:.2f}\".format(avg_train_loss))\n",
    "    print(\"  Training epcoh took: {:}\".format(format_time(time.time() - t0)))\n",
    "\n",
    "    # ========================================\n",
    "    #               Validation\n",
    "    # ========================================\n",
    "\n",
    "    print(\"\")\n",
    "    print(\"Running Validation...\")\n",
    "\n",
    "    t0 = time.time()\n",
    "\n",
    "    model.eval()\n",
    "\n",
    "    # Tracking variables\n",
    "    eval_loss, eval_accuracy = 0, 0\n",
    "    nb_eval_steps, nb_eval_examples = 0, 0\n",
    "    \n",
    "    for batch in validation_dataloader:\n",
    "\n",
    "        batch = tuple(t.to(device) for t in batch)\n",
    "\n",
    "        b_input_ids, b_input_mask, b_labels = batch\n",
    "\n",
    "        with torch.no_grad():\n",
    "\n",
    "            outputs = model(b_input_ids,\n",
    "                            token_type_ids=None,\n",
    "                            attention_mask=b_input_mask)\n",
    "        \n",
    "        logits = outputs[0]\n",
    "\n",
    "        logits = logits.detach().cpu().numpy()\n",
    "        label_ids = b_labels.to('cpu').numpy()\n",
    "\n",
    "        tmp_eval_accuracy = flat_accuracy(logits, label_ids)\n",
    "\n",
    "        eval_accuracy += tmp_eval_accuracy\n",
    "\n",
    "        nb_eval_steps += 1\n",
    "\n",
    "    print(\"  Accuracy: {0:.2f}\".format(eval_accuracy / nb_eval_steps))\n",
    "    print(\"  Validation took: {:}\".format(format_time(time.time() - t0)))\n",
    "\n",
    "print(\"\")\n",
    "print(\"Training complete!\")"
   ]
  },
  {
   "cell_type": "code",
   "execution_count": 11,
   "metadata": {
    "ExecuteTime": {
     "end_time": "2020-05-15T10:37:44.450715Z",
     "start_time": "2020-05-15T10:37:44.434594Z"
    },
    "code_folding": []
   },
   "outputs": [],
   "source": [
    "# 训练过程封装\n",
    "\n",
    "from transformers import BertForSequenceClassification, AdamW, BertConfig\n",
    "from transformers import get_linear_schedule_with_warmup  # 学习率规划\n",
    "\n",
    "device = torch.device(\"cuda\" if torch.cuda.is_available else \"cpu\")\n",
    "\n",
    "\n",
    "def train_model(model,\n",
    "                train_dataloader,\n",
    "                validation_dataloader,\n",
    "                OPTIMIZER,\n",
    "                device,\n",
    "                num_epochs=10,\n",
    "                random_seed=42,\n",
    "                print_every=1000):\n",
    "    # 优化器\n",
    "    optimizer = OPTIMIZER(model.parameters(), lr=2e-5, eps=1e-8)\n",
    "    total_steps = len(train_dataloader) * num_epochs\n",
    "    scheduler = get_linear_schedule_with_warmup(\n",
    "        optimizer,\n",
    "        num_warmup_steps=0,\n",
    "        num_training_steps=total_steps,\n",
    "    )\n",
    "\n",
    "    random.seed(random_seed)\n",
    "    np.random.seed(random_seed)\n",
    "    torch.manual_seed(random_seed)\n",
    "    torch.cuda.manual_seed_all(random_seed)\n",
    "\n",
    "    loss_values = []\n",
    "    train_accs = []\n",
    "    validation_accs = []\n",
    "\n",
    "    for epoch in range(0, num_epochs):\n",
    "\n",
    "        # ========================================\n",
    "        #               Training\n",
    "        # ========================================\n",
    "\n",
    "        print(\"\")\n",
    "        print('======== Epoch {:} / {:} ========'.format(\n",
    "            epoch + 1, num_epochs))\n",
    "        print('Training...')\n",
    "\n",
    "        t0 = time.time()\n",
    "\n",
    "        total_loss, train_accuracy = 0, 0\n",
    "\n",
    "        model.train()  # 训练模式\n",
    "\n",
    "        for step, batch in enumerate(train_dataloader):\n",
    "\n",
    "            if step % print_every == 0 and not step == 0:\n",
    "                elapsed = format_time(time.time() - t0)\n",
    "\n",
    "                # Report progress.\n",
    "                print('  Batch {:>5,}  of  {:>5,}.    Elapsed: {:}.'.format(\n",
    "                    step, len(train_dataloader), elapsed))\n",
    "\n",
    "            # 输入参数\n",
    "            b_input_ids = batch[0].to(device)\n",
    "            b_input_mask = batch[1].to(device)\n",
    "            b_labels = batch[2].to(device)\n",
    "\n",
    "            # 梯度归零\n",
    "            model.zero_grad()\n",
    "\n",
    "            # 前向计算，返回 (loss,logits,hidden_state,attentions) 元组\n",
    "            outputs = model(b_input_ids,\n",
    "                            attention_mask=b_input_mask,\n",
    "                            labels=b_labels)\n",
    "\n",
    "            # 损失\n",
    "            loss = outputs[0]\n",
    "            total_loss += loss.item()\n",
    "\n",
    "            # 反向传播\n",
    "            loss.backward()\n",
    "\n",
    "            # 梯度裁剪，避免梯度爆炸\n",
    "            torch.nn.utils.clip_grad_norm_(model.parameters(), 1.0)\n",
    "\n",
    "            # 更新梯度\n",
    "            optimizer.step()\n",
    "            # 更新学习率\n",
    "            scheduler.step()\n",
    "\n",
    "            # 前向计算，预测结果\n",
    "            logits = outputs[1]\n",
    "            logits = logits.detach().cpu().numpy()\n",
    "            label_ids = b_labels.to('cpu').numpy()\n",
    "            tmp_train_accuracy = flat_accuracy(logits, label_ids)\n",
    "            train_accuracy += tmp_train_accuracy\n",
    "\n",
    "        avg_train_loss = total_loss / len(train_dataloader)\n",
    "        avg_train_accuracy = train_accuracy / len(train_dataloader)\n",
    "\n",
    "        loss_values.append(avg_train_loss)\n",
    "        train_accs.append(avg_train_accuracy)\n",
    "\n",
    "        print(\"\")\n",
    "        print(\"  Average training loss: {0:.2f}\".format(avg_train_loss))\n",
    "        print(\n",
    "            \"  Average training accuracy: {0:.4f}\".format(avg_train_accuracy))\n",
    "        print(\"  Training epcoh took: {:}\".format(format_time(time.time() -\n",
    "                                                              t0)))\n",
    "\n",
    "        # ========================================\n",
    "        #               Validation\n",
    "        # ========================================\n",
    "\n",
    "        print(\"\")\n",
    "        print(\"Running Validation...\")\n",
    "\n",
    "        t0 = time.time()\n",
    "\n",
    "        model.eval()  # 验证模式\n",
    "\n",
    "        # Tracking variables\n",
    "        eval_loss, eval_accuracy = 0, 0\n",
    "        nb_eval_steps, nb_eval_examples = 0, 0\n",
    "\n",
    "        for batch in validation_dataloader:\n",
    "\n",
    "            batch = tuple(t.to(device) for t in batch)\n",
    "\n",
    "            b_input_ids, b_input_mask, b_labels = batch\n",
    "\n",
    "            with torch.no_grad():\n",
    "\n",
    "                outputs = model(b_input_ids,\n",
    "                                token_type_ids=None,\n",
    "                                attention_mask=b_input_mask)\n",
    "\n",
    "            logits = outputs[0]\n",
    "\n",
    "            logits = logits.detach().cpu().numpy()\n",
    "            label_ids = b_labels.to('cpu').numpy()\n",
    "\n",
    "            tmp_eval_accuracy = flat_accuracy(logits, label_ids)\n",
    "\n",
    "            eval_accuracy += tmp_eval_accuracy\n",
    "\n",
    "            nb_eval_steps += 1\n",
    "\n",
    "        print(\"  Accuracy: {0:.4f}\".format(eval_accuracy / nb_eval_steps))\n",
    "        print(\"  Validation took: {:}\".format(format_time(time.time() - t0)))\n",
    "        validation_accs.append(eval_accuracy / nb_eval_steps)\n",
    "\n",
    "    print(\"\")\n",
    "    print(\"Training complete!\")\n",
    "    return model, loss_values, train_accs, validation_accs"
   ]
  },
  {
   "cell_type": "code",
   "execution_count": 31,
   "metadata": {
    "ExecuteTime": {
     "end_time": "2020-05-15T09:23:29.082491Z",
     "start_time": "2020-05-15T09:04:15.032068Z"
    }
   },
   "outputs": [
    {
     "name": "stdout",
     "output_type": "stream",
     "text": [
      "\n",
      "======== Epoch 1 / 5 ========\n",
      "Training...\n",
      "\n",
      "  Average training loss: 0.28\n",
      "  Average training accuracy: 0.92\n",
      "  Training epcoh took: 0:03:43\n",
      "\n",
      "Running Validation...\n",
      "  Accuracy: 0.93\n",
      "  Validation took: 0:00:07\n",
      "\n",
      "======== Epoch 2 / 5 ========\n",
      "Training...\n",
      "\n",
      "  Average training loss: 0.16\n",
      "  Average training accuracy: 0.95\n",
      "  Training epcoh took: 0:03:45\n",
      "\n",
      "Running Validation...\n",
      "  Accuracy: 0.93\n",
      "  Validation took: 0:00:07\n",
      "\n",
      "======== Epoch 3 / 5 ========\n",
      "Training...\n",
      "\n",
      "  Average training loss: 0.09\n",
      "  Average training accuracy: 0.97\n",
      "  Training epcoh took: 0:03:45\n",
      "\n",
      "Running Validation...\n",
      "  Accuracy: 0.94\n",
      "  Validation took: 0:00:07\n",
      "\n",
      "======== Epoch 4 / 5 ========\n",
      "Training...\n",
      "\n",
      "  Average training loss: 0.05\n",
      "  Average training accuracy: 0.98\n",
      "  Training epcoh took: 0:03:44\n",
      "\n",
      "Running Validation...\n",
      "  Accuracy: 0.94\n",
      "  Validation took: 0:00:07\n",
      "\n",
      "======== Epoch 5 / 5 ========\n",
      "Training...\n",
      "\n",
      "  Average training loss: 0.03\n",
      "  Average training accuracy: 0.99\n",
      "  Training epcoh took: 0:03:43\n",
      "\n",
      "Running Validation...\n",
      "  Accuracy: 0.94\n",
      "  Validation took: 0:00:07\n",
      "\n",
      "Training complete!\n"
     ]
    }
   ],
   "source": [
    "import random, time\n",
    "train_dataloader = DataGen(train_path,\n",
    "                           tokenizer=bert_tokenizer,\n",
    "                           num_samples=80000)(batch_size=32)\n",
    "validation_dataloader = DataGen(dev_path,\n",
    "                                tokenizer=bert_tokenizer)(batch_size=32)\n",
    "model, loss_values, train_accs, validation_accs = train_model(\n",
    "    model,\n",
    "    train_dataloader,\n",
    "    validation_dataloader,\n",
    "    AdamW,\n",
    "    device,\n",
    "    num_epochs=5,\n",
    "    print_every=500)"
   ]
  },
  {
   "cell_type": "code",
   "execution_count": null,
   "metadata": {},
   "outputs": [],
   "source": []
  },
  {
   "cell_type": "code",
   "execution_count": null,
   "metadata": {},
   "outputs": [],
   "source": []
  },
  {
   "cell_type": "markdown",
   "metadata": {},
   "source": [
    "## 测试模型"
   ]
  },
  {
   "cell_type": "code",
   "execution_count": 12,
   "metadata": {
    "ExecuteTime": {
     "end_time": "2020-05-15T10:37:55.392945Z",
     "start_time": "2020-05-15T10:37:55.386056Z"
    }
   },
   "outputs": [
    {
     "name": "stdout",
     "output_type": "stream",
     "text": [
      "tensor([[ 101, 5125, 3209,  ...,    0,    0,    0],\n",
      "        [ 101, 5401, 1957,  ...,    0,    0,    0],\n",
      "        [ 101, 6225,  830,  ...,    0,    0,    0],\n",
      "        ...,\n",
      "        [ 101, 7770, 3926,  ...,    0,    0,    0],\n",
      "        [ 101, 2791, 2255,  ...,    0,    0,    0],\n",
      "        [ 101, 1367, 1213,  ...,    0,    0,    0]], dtype=torch.int32)\n",
      "tensor([[1, 1, 1,  ..., 0, 0, 0],\n",
      "        [1, 1, 1,  ..., 0, 0, 0],\n",
      "        [1, 1, 1,  ..., 0, 0, 0],\n",
      "        ...,\n",
      "        [1, 1, 1,  ..., 0, 0, 0],\n",
      "        [1, 1, 1,  ..., 0, 0, 0],\n",
      "        [1, 1, 1,  ..., 0, 0, 0]], dtype=torch.int32)\n",
      "tensor([1, 7, 5, 6, 1, 8, 6, 3, 8, 6, 6, 0, 4, 1, 5, 7, 0, 3, 6, 1, 6, 8, 6, 7,\n",
      "        0, 7, 2, 7, 2, 4, 1, 7], dtype=torch.int32)\n"
     ]
    }
   ],
   "source": [
    "for data in test_dataloader:\n",
    "    input_data, input_mask, input_labels = data\n",
    "    print(input_data)\n",
    "    print(input_mask)\n",
    "    print(input_labels)\n",
    "    break"
   ]
  },
  {
   "cell_type": "code",
   "execution_count": 13,
   "metadata": {
    "ExecuteTime": {
     "end_time": "2020-05-15T10:38:19.558916Z",
     "start_time": "2020-05-15T10:38:19.551985Z"
    }
   },
   "outputs": [],
   "source": [
    "def evaluate(model, test_dataloader):\n",
    "    t0 = time.time()\n",
    "\n",
    "    model.eval()\n",
    "\n",
    "    eval_accuracy = 0\n",
    "    nb_eval_steps = 0\n",
    "    for batch in test_dataloader:\n",
    "\n",
    "        batch = tuple(t.to(device) for t in batch)\n",
    "\n",
    "        b_input_ids, b_input_mask, b_labels = batch\n",
    "\n",
    "        with torch.no_grad():\n",
    "\n",
    "            outputs = model(b_input_ids,\n",
    "                            token_type_ids=None,\n",
    "                            attention_mask=b_input_mask)\n",
    "\n",
    "        logits = outputs[0]\n",
    "\n",
    "        logits = logits.detach().cpu().numpy()\n",
    "        label_ids = b_labels.to('cpu').numpy()\n",
    "\n",
    "        tmp_eval_accuracy = flat_accuracy(logits, label_ids)\n",
    "\n",
    "        eval_accuracy += tmp_eval_accuracy\n",
    "\n",
    "        nb_eval_steps += 1\n",
    "\n",
    "    print(\"  Accuracy: {0:.4f}\".format(eval_accuracy / nb_eval_steps))\n",
    "    print(\"  Validation took: {:}\".format(format_time(time.time() - t0)))"
   ]
  },
  {
   "cell_type": "code",
   "execution_count": 40,
   "metadata": {
    "ExecuteTime": {
     "end_time": "2020-05-15T09:25:32.283435Z",
     "start_time": "2020-05-15T09:25:25.116940Z"
    }
   },
   "outputs": [
    {
     "name": "stdout",
     "output_type": "stream",
     "text": [
      "  Accuracy: 0.9424\n",
      "  Validation took: 0:00:07\n"
     ]
    }
   ],
   "source": [
    "evaluate(model, test_dataloader)"
   ]
  },
  {
   "cell_type": "markdown",
   "metadata": {},
   "source": [
    "> 原始 BERT 模型的精度为 0.9424"
   ]
  },
  {
   "cell_type": "markdown",
   "metadata": {},
   "source": [
    "# ERNIE模型分类"
   ]
  },
  {
   "cell_type": "code",
   "execution_count": 42,
   "metadata": {
    "ExecuteTime": {
     "end_time": "2020-05-15T09:31:21.673162Z",
     "start_time": "2020-05-15T09:31:20.138464Z"
    }
   },
   "outputs": [],
   "source": [
    "ernie = BertForSequenceClassification.from_pretrained(\n",
    "    '../../H/models/huggingface/ERNIE/',\n",
    "    num_labels=10,  # 指定分类类别\n",
    "    output_attentions=False,  # 输出注意力权重\n",
    "    output_hidden_states=False,  # 输出隐藏状态\n",
    ")"
   ]
  },
  {
   "cell_type": "code",
   "execution_count": null,
   "metadata": {},
   "outputs": [],
   "source": []
  },
  {
   "cell_type": "code",
   "execution_count": null,
   "metadata": {
    "ExecuteTime": {
     "end_time": "2020-05-15T05:35:10.158151Z",
     "start_time": "2020-05-15T05:35:10.152283Z"
    }
   },
   "outputs": [],
   "source": [
    "import transformers\n",
    "from transformers import BertModel, BertTokenizer"
   ]
  },
  {
   "cell_type": "code",
   "execution_count": null,
   "metadata": {
    "ExecuteTime": {
     "end_time": "2020-05-15T05:35:17.434295Z",
     "start_time": "2020-05-15T05:35:17.421071Z"
    }
   },
   "outputs": [],
   "source": [
    "ernie_tokenizer = BertTokenizer.from_pretrained(\n",
    "    '../../H/models/huggingface/ERNIE/'\n",
    ")"
   ]
  },
  {
   "cell_type": "code",
   "execution_count": null,
   "metadata": {
    "ExecuteTime": {
     "end_time": "2020-05-15T06:44:42.794680Z",
     "start_time": "2020-05-15T06:44:42.785888Z"
    }
   },
   "outputs": [],
   "source": [
    "from torch.nn import CrossEntropyLoss, MSELoss\n",
    "\n",
    "\n",
    "class ERNIE(nn.Module):\n",
    "    def __init__(self, model_path, num_classes):\n",
    "        super(ERNIE, self).__init__()\n",
    "\n",
    "        self.bert = BertModel.from_pretrained(model_path)\n",
    "        for param in self.bert.parameters():\n",
    "            param.requires_grad = True\n",
    "\n",
    "        self.dropout = nn.Dropout(0.1)  # dropout 层\n",
    "\n",
    "        hidden_size = self.bert.config.hidden_size\n",
    "        self.classifier = nn.Linear(hidden_size, num_classes)  # 全连接层，用于最后的分类\n",
    "\n",
    "    def forward(\n",
    "            self,\n",
    "            input_ids=None,\n",
    "            attention_mask=None,\n",
    "            token_type_ids=None,\n",
    "            position_ids=None,\n",
    "            head_mask=None,\n",
    "            inputs_embeds=None,\n",
    "            labels=None,\n",
    "    ):\n",
    "        outputs = self.bert(\n",
    "            input_ids,\n",
    "            attention_mask=attention_mask,\n",
    "            token_type_ids=token_type_ids,\n",
    "            position_ids=position_ids,\n",
    "            head_mask=head_mask,\n",
    "            inputs_embeds=inputs_embeds,\n",
    "        )\n",
    "        pooled_output = outputs[0]\n",
    "\n",
    "        pooled_output = self.dropout(pooled_output)\n",
    "        logits = self.classifier(pooled_output)\n",
    "\n",
    "        outputs = (logits, ) + outputs[2:]\n",
    "\n",
    "        if labels is not None:\n",
    "            if self.num_labels == 1:\n",
    "                #  We are doing regression\n",
    "                loss_fct = MSELoss()\n",
    "                loss = loss_fct(logits.view(-1), labels.view(-1))\n",
    "            else:\n",
    "                loss_fct = CrossEntropyLoss()\n",
    "                loss = loss_fct(logits.view(-1, self.num_labels),\n",
    "                                labels.view(-1))\n",
    "            outputs = (loss, ) + outputs\n",
    "\n",
    "        return outputs"
   ]
  },
  {
   "cell_type": "code",
   "execution_count": null,
   "metadata": {
    "ExecuteTime": {
     "end_time": "2020-05-15T06:44:59.530702Z",
     "start_time": "2020-05-15T06:44:58.452883Z"
    }
   },
   "outputs": [],
   "source": [
    "ernie = ERNIE('../../H/models/huggingface/ERNIE/', num_classes=10)"
   ]
  },
  {
   "cell_type": "code",
   "execution_count": null,
   "metadata": {
    "ExecuteTime": {
     "end_time": "2020-05-15T06:45:24.498827Z",
     "start_time": "2020-05-15T06:45:02.854381Z"
    }
   },
   "outputs": [],
   "source": [
    "import random, time\n",
    "model, loss_values, train_accs, validation_accs = train_model(\n",
    "    ernie,\n",
    "    train_dataloader,\n",
    "    validation_dataloader,\n",
    "    AdamW,\n",
    "    device,\n",
    "    num_epochs=10,\n",
    "    print_every=500)"
   ]
  },
  {
   "cell_type": "code",
   "execution_count": null,
   "metadata": {},
   "outputs": [],
   "source": []
  },
  {
   "cell_type": "code",
   "execution_count": null,
   "metadata": {},
   "outputs": [],
   "source": []
  },
  {
   "cell_type": "code",
   "execution_count": 14,
   "metadata": {
    "ExecuteTime": {
     "end_time": "2020-05-15T10:38:37.392716Z",
     "start_time": "2020-05-15T10:38:34.784708Z"
    }
   },
   "outputs": [],
   "source": [
    "model_path = '../../H/models/huggingface/ERNIE/'\n",
    "ernie =  create_classifier(model_path=model_path, num_labels=10)"
   ]
  },
  {
   "cell_type": "code",
   "execution_count": 18,
   "metadata": {
    "ExecuteTime": {
     "end_time": "2020-05-15T10:39:46.065080Z",
     "start_time": "2020-05-15T10:39:45.978158Z"
    }
   },
   "outputs": [
    {
     "name": "stdout",
     "output_type": "stream",
     "text": [
      "CPU times: user 111 ms, sys: 8.2 ms, total: 120 ms\n",
      "Wall time: 82 ms\n"
     ]
    }
   ],
   "source": [
    "%%time\n",
    "train_dataloader = DataGen(train_path,\n",
    "                           tokenizer=bert_tokenizer,\n",
    "                           num_samples=80000)(batch_size=32)"
   ]
  },
  {
   "cell_type": "code",
   "execution_count": 19,
   "metadata": {
    "ExecuteTime": {
     "end_time": "2020-05-15T10:40:50.945260Z",
     "start_time": "2020-05-15T10:39:49.767694Z"
    }
   },
   "outputs": [
    {
     "name": "stdout",
     "output_type": "stream",
     "text": [
      "\n",
      "======== Epoch 1 / 5 ========\n",
      "Training...\n",
      "  Batch   500  of  2,500.    Elapsed: 0:00:44.\n"
     ]
    },
    {
     "ename": "RuntimeError",
     "evalue": "CUDA error: device-side assert triggered",
     "output_type": "error",
     "traceback": [
      "\u001b[0;31m---------------------------------------------------------------------------\u001b[0m",
      "\u001b[0;31mRuntimeError\u001b[0m                              Traceback (most recent call last)",
      "\u001b[0;32m<ipython-input-19-8a0c905d948a>\u001b[0m in \u001b[0;36m<module>\u001b[0;34m\u001b[0m\n\u001b[1;32m      6\u001b[0m     \u001b[0mdevice\u001b[0m\u001b[0;34m,\u001b[0m\u001b[0;34m\u001b[0m\u001b[0;34m\u001b[0m\u001b[0m\n\u001b[1;32m      7\u001b[0m     \u001b[0mnum_epochs\u001b[0m\u001b[0;34m=\u001b[0m\u001b[0;36m5\u001b[0m\u001b[0;34m,\u001b[0m\u001b[0;34m\u001b[0m\u001b[0;34m\u001b[0m\u001b[0m\n\u001b[0;32m----> 8\u001b[0;31m     print_every=500)\n\u001b[0m",
      "\u001b[0;32m<ipython-input-11-ec51f57bfd68>\u001b[0m in \u001b[0;36mtrain_model\u001b[0;34m(model, train_dataloader, validation_dataloader, OPTIMIZER, device, num_epochs, random_seed, print_every)\u001b[0m\n\u001b[1;32m     70\u001b[0m             outputs = model(b_input_ids,\n\u001b[1;32m     71\u001b[0m                             \u001b[0mattention_mask\u001b[0m\u001b[0;34m=\u001b[0m\u001b[0mb_input_mask\u001b[0m\u001b[0;34m,\u001b[0m\u001b[0;34m\u001b[0m\u001b[0;34m\u001b[0m\u001b[0m\n\u001b[0;32m---> 72\u001b[0;31m                             labels=b_labels)\n\u001b[0m\u001b[1;32m     73\u001b[0m \u001b[0;34m\u001b[0m\u001b[0m\n\u001b[1;32m     74\u001b[0m             \u001b[0;31m# 损失\u001b[0m\u001b[0;34m\u001b[0m\u001b[0;34m\u001b[0m\u001b[0;34m\u001b[0m\u001b[0m\n",
      "\u001b[0;32m~/anaconda3/lib/python3.7/site-packages/torch/nn/modules/module.py\u001b[0m in \u001b[0;36m__call__\u001b[0;34m(self, *input, **kwargs)\u001b[0m\n\u001b[1;32m    530\u001b[0m             \u001b[0mresult\u001b[0m \u001b[0;34m=\u001b[0m \u001b[0mself\u001b[0m\u001b[0;34m.\u001b[0m\u001b[0m_slow_forward\u001b[0m\u001b[0;34m(\u001b[0m\u001b[0;34m*\u001b[0m\u001b[0minput\u001b[0m\u001b[0;34m,\u001b[0m \u001b[0;34m**\u001b[0m\u001b[0mkwargs\u001b[0m\u001b[0;34m)\u001b[0m\u001b[0;34m\u001b[0m\u001b[0;34m\u001b[0m\u001b[0m\n\u001b[1;32m    531\u001b[0m         \u001b[0;32melse\u001b[0m\u001b[0;34m:\u001b[0m\u001b[0;34m\u001b[0m\u001b[0;34m\u001b[0m\u001b[0m\n\u001b[0;32m--> 532\u001b[0;31m             \u001b[0mresult\u001b[0m \u001b[0;34m=\u001b[0m \u001b[0mself\u001b[0m\u001b[0;34m.\u001b[0m\u001b[0mforward\u001b[0m\u001b[0;34m(\u001b[0m\u001b[0;34m*\u001b[0m\u001b[0minput\u001b[0m\u001b[0;34m,\u001b[0m \u001b[0;34m**\u001b[0m\u001b[0mkwargs\u001b[0m\u001b[0;34m)\u001b[0m\u001b[0;34m\u001b[0m\u001b[0;34m\u001b[0m\u001b[0m\n\u001b[0m\u001b[1;32m    533\u001b[0m         \u001b[0;32mfor\u001b[0m \u001b[0mhook\u001b[0m \u001b[0;32min\u001b[0m \u001b[0mself\u001b[0m\u001b[0;34m.\u001b[0m\u001b[0m_forward_hooks\u001b[0m\u001b[0;34m.\u001b[0m\u001b[0mvalues\u001b[0m\u001b[0;34m(\u001b[0m\u001b[0;34m)\u001b[0m\u001b[0;34m:\u001b[0m\u001b[0;34m\u001b[0m\u001b[0;34m\u001b[0m\u001b[0m\n\u001b[1;32m    534\u001b[0m             \u001b[0mhook_result\u001b[0m \u001b[0;34m=\u001b[0m \u001b[0mhook\u001b[0m\u001b[0;34m(\u001b[0m\u001b[0mself\u001b[0m\u001b[0;34m,\u001b[0m \u001b[0minput\u001b[0m\u001b[0;34m,\u001b[0m \u001b[0mresult\u001b[0m\u001b[0;34m)\u001b[0m\u001b[0;34m\u001b[0m\u001b[0;34m\u001b[0m\u001b[0m\n",
      "\u001b[0;32m~/anaconda3/lib/python3.7/site-packages/transformers/modeling_bert.py\u001b[0m in \u001b[0;36mforward\u001b[0;34m(self, input_ids, attention_mask, token_type_ids, position_ids, head_mask, inputs_embeds, labels)\u001b[0m\n\u001b[1;32m   1174\u001b[0m             \u001b[0mposition_ids\u001b[0m\u001b[0;34m=\u001b[0m\u001b[0mposition_ids\u001b[0m\u001b[0;34m,\u001b[0m\u001b[0;34m\u001b[0m\u001b[0;34m\u001b[0m\u001b[0m\n\u001b[1;32m   1175\u001b[0m             \u001b[0mhead_mask\u001b[0m\u001b[0;34m=\u001b[0m\u001b[0mhead_mask\u001b[0m\u001b[0;34m,\u001b[0m\u001b[0;34m\u001b[0m\u001b[0;34m\u001b[0m\u001b[0m\n\u001b[0;32m-> 1176\u001b[0;31m             \u001b[0minputs_embeds\u001b[0m\u001b[0;34m=\u001b[0m\u001b[0minputs_embeds\u001b[0m\u001b[0;34m,\u001b[0m\u001b[0;34m\u001b[0m\u001b[0;34m\u001b[0m\u001b[0m\n\u001b[0m\u001b[1;32m   1177\u001b[0m         )\n\u001b[1;32m   1178\u001b[0m \u001b[0;34m\u001b[0m\u001b[0m\n",
      "\u001b[0;32m~/anaconda3/lib/python3.7/site-packages/torch/nn/modules/module.py\u001b[0m in \u001b[0;36m__call__\u001b[0;34m(self, *input, **kwargs)\u001b[0m\n\u001b[1;32m    530\u001b[0m             \u001b[0mresult\u001b[0m \u001b[0;34m=\u001b[0m \u001b[0mself\u001b[0m\u001b[0;34m.\u001b[0m\u001b[0m_slow_forward\u001b[0m\u001b[0;34m(\u001b[0m\u001b[0;34m*\u001b[0m\u001b[0minput\u001b[0m\u001b[0;34m,\u001b[0m \u001b[0;34m**\u001b[0m\u001b[0mkwargs\u001b[0m\u001b[0;34m)\u001b[0m\u001b[0;34m\u001b[0m\u001b[0;34m\u001b[0m\u001b[0m\n\u001b[1;32m    531\u001b[0m         \u001b[0;32melse\u001b[0m\u001b[0;34m:\u001b[0m\u001b[0;34m\u001b[0m\u001b[0;34m\u001b[0m\u001b[0m\n\u001b[0;32m--> 532\u001b[0;31m             \u001b[0mresult\u001b[0m \u001b[0;34m=\u001b[0m \u001b[0mself\u001b[0m\u001b[0;34m.\u001b[0m\u001b[0mforward\u001b[0m\u001b[0;34m(\u001b[0m\u001b[0;34m*\u001b[0m\u001b[0minput\u001b[0m\u001b[0;34m,\u001b[0m \u001b[0;34m**\u001b[0m\u001b[0mkwargs\u001b[0m\u001b[0;34m)\u001b[0m\u001b[0;34m\u001b[0m\u001b[0;34m\u001b[0m\u001b[0m\n\u001b[0m\u001b[1;32m    533\u001b[0m         \u001b[0;32mfor\u001b[0m \u001b[0mhook\u001b[0m \u001b[0;32min\u001b[0m \u001b[0mself\u001b[0m\u001b[0;34m.\u001b[0m\u001b[0m_forward_hooks\u001b[0m\u001b[0;34m.\u001b[0m\u001b[0mvalues\u001b[0m\u001b[0;34m(\u001b[0m\u001b[0;34m)\u001b[0m\u001b[0;34m:\u001b[0m\u001b[0;34m\u001b[0m\u001b[0;34m\u001b[0m\u001b[0m\n\u001b[1;32m    534\u001b[0m             \u001b[0mhook_result\u001b[0m \u001b[0;34m=\u001b[0m \u001b[0mhook\u001b[0m\u001b[0;34m(\u001b[0m\u001b[0mself\u001b[0m\u001b[0;34m,\u001b[0m \u001b[0minput\u001b[0m\u001b[0;34m,\u001b[0m \u001b[0mresult\u001b[0m\u001b[0;34m)\u001b[0m\u001b[0;34m\u001b[0m\u001b[0;34m\u001b[0m\u001b[0m\n",
      "\u001b[0;32m~/anaconda3/lib/python3.7/site-packages/transformers/modeling_bert.py\u001b[0m in \u001b[0;36mforward\u001b[0;34m(self, input_ids, attention_mask, token_type_ids, position_ids, head_mask, inputs_embeds, encoder_hidden_states, encoder_attention_mask)\u001b[0m\n\u001b[1;32m    788\u001b[0m             \u001b[0mhead_mask\u001b[0m\u001b[0;34m=\u001b[0m\u001b[0mhead_mask\u001b[0m\u001b[0;34m,\u001b[0m\u001b[0;34m\u001b[0m\u001b[0;34m\u001b[0m\u001b[0m\n\u001b[1;32m    789\u001b[0m             \u001b[0mencoder_hidden_states\u001b[0m\u001b[0;34m=\u001b[0m\u001b[0mencoder_hidden_states\u001b[0m\u001b[0;34m,\u001b[0m\u001b[0;34m\u001b[0m\u001b[0;34m\u001b[0m\u001b[0m\n\u001b[0;32m--> 790\u001b[0;31m             \u001b[0mencoder_attention_mask\u001b[0m\u001b[0;34m=\u001b[0m\u001b[0mencoder_extended_attention_mask\u001b[0m\u001b[0;34m,\u001b[0m\u001b[0;34m\u001b[0m\u001b[0;34m\u001b[0m\u001b[0m\n\u001b[0m\u001b[1;32m    791\u001b[0m         )\n\u001b[1;32m    792\u001b[0m         \u001b[0msequence_output\u001b[0m \u001b[0;34m=\u001b[0m \u001b[0mencoder_outputs\u001b[0m\u001b[0;34m[\u001b[0m\u001b[0;36m0\u001b[0m\u001b[0;34m]\u001b[0m\u001b[0;34m\u001b[0m\u001b[0;34m\u001b[0m\u001b[0m\n",
      "\u001b[0;32m~/anaconda3/lib/python3.7/site-packages/torch/nn/modules/module.py\u001b[0m in \u001b[0;36m__call__\u001b[0;34m(self, *input, **kwargs)\u001b[0m\n\u001b[1;32m    530\u001b[0m             \u001b[0mresult\u001b[0m \u001b[0;34m=\u001b[0m \u001b[0mself\u001b[0m\u001b[0;34m.\u001b[0m\u001b[0m_slow_forward\u001b[0m\u001b[0;34m(\u001b[0m\u001b[0;34m*\u001b[0m\u001b[0minput\u001b[0m\u001b[0;34m,\u001b[0m \u001b[0;34m**\u001b[0m\u001b[0mkwargs\u001b[0m\u001b[0;34m)\u001b[0m\u001b[0;34m\u001b[0m\u001b[0;34m\u001b[0m\u001b[0m\n\u001b[1;32m    531\u001b[0m         \u001b[0;32melse\u001b[0m\u001b[0;34m:\u001b[0m\u001b[0;34m\u001b[0m\u001b[0;34m\u001b[0m\u001b[0m\n\u001b[0;32m--> 532\u001b[0;31m             \u001b[0mresult\u001b[0m \u001b[0;34m=\u001b[0m \u001b[0mself\u001b[0m\u001b[0;34m.\u001b[0m\u001b[0mforward\u001b[0m\u001b[0;34m(\u001b[0m\u001b[0;34m*\u001b[0m\u001b[0minput\u001b[0m\u001b[0;34m,\u001b[0m \u001b[0;34m**\u001b[0m\u001b[0mkwargs\u001b[0m\u001b[0;34m)\u001b[0m\u001b[0;34m\u001b[0m\u001b[0;34m\u001b[0m\u001b[0m\n\u001b[0m\u001b[1;32m    533\u001b[0m         \u001b[0;32mfor\u001b[0m \u001b[0mhook\u001b[0m \u001b[0;32min\u001b[0m \u001b[0mself\u001b[0m\u001b[0;34m.\u001b[0m\u001b[0m_forward_hooks\u001b[0m\u001b[0;34m.\u001b[0m\u001b[0mvalues\u001b[0m\u001b[0;34m(\u001b[0m\u001b[0;34m)\u001b[0m\u001b[0;34m:\u001b[0m\u001b[0;34m\u001b[0m\u001b[0;34m\u001b[0m\u001b[0m\n\u001b[1;32m    534\u001b[0m             \u001b[0mhook_result\u001b[0m \u001b[0;34m=\u001b[0m \u001b[0mhook\u001b[0m\u001b[0;34m(\u001b[0m\u001b[0mself\u001b[0m\u001b[0;34m,\u001b[0m \u001b[0minput\u001b[0m\u001b[0;34m,\u001b[0m \u001b[0mresult\u001b[0m\u001b[0;34m)\u001b[0m\u001b[0;34m\u001b[0m\u001b[0;34m\u001b[0m\u001b[0m\n",
      "\u001b[0;32m~/anaconda3/lib/python3.7/site-packages/transformers/modeling_bert.py\u001b[0m in \u001b[0;36mforward\u001b[0;34m(self, hidden_states, attention_mask, head_mask, encoder_hidden_states, encoder_attention_mask)\u001b[0m\n\u001b[1;32m    405\u001b[0m \u001b[0;34m\u001b[0m\u001b[0m\n\u001b[1;32m    406\u001b[0m             layer_outputs = layer_module(\n\u001b[0;32m--> 407\u001b[0;31m                 \u001b[0mhidden_states\u001b[0m\u001b[0;34m,\u001b[0m \u001b[0mattention_mask\u001b[0m\u001b[0;34m,\u001b[0m \u001b[0mhead_mask\u001b[0m\u001b[0;34m[\u001b[0m\u001b[0mi\u001b[0m\u001b[0;34m]\u001b[0m\u001b[0;34m,\u001b[0m \u001b[0mencoder_hidden_states\u001b[0m\u001b[0;34m,\u001b[0m \u001b[0mencoder_attention_mask\u001b[0m\u001b[0;34m\u001b[0m\u001b[0;34m\u001b[0m\u001b[0m\n\u001b[0m\u001b[1;32m    408\u001b[0m             )\n\u001b[1;32m    409\u001b[0m             \u001b[0mhidden_states\u001b[0m \u001b[0;34m=\u001b[0m \u001b[0mlayer_outputs\u001b[0m\u001b[0;34m[\u001b[0m\u001b[0;36m0\u001b[0m\u001b[0;34m]\u001b[0m\u001b[0;34m\u001b[0m\u001b[0;34m\u001b[0m\u001b[0m\n",
      "\u001b[0;32m~/anaconda3/lib/python3.7/site-packages/torch/nn/modules/module.py\u001b[0m in \u001b[0;36m__call__\u001b[0;34m(self, *input, **kwargs)\u001b[0m\n\u001b[1;32m    530\u001b[0m             \u001b[0mresult\u001b[0m \u001b[0;34m=\u001b[0m \u001b[0mself\u001b[0m\u001b[0;34m.\u001b[0m\u001b[0m_slow_forward\u001b[0m\u001b[0;34m(\u001b[0m\u001b[0;34m*\u001b[0m\u001b[0minput\u001b[0m\u001b[0;34m,\u001b[0m \u001b[0;34m**\u001b[0m\u001b[0mkwargs\u001b[0m\u001b[0;34m)\u001b[0m\u001b[0;34m\u001b[0m\u001b[0;34m\u001b[0m\u001b[0m\n\u001b[1;32m    531\u001b[0m         \u001b[0;32melse\u001b[0m\u001b[0;34m:\u001b[0m\u001b[0;34m\u001b[0m\u001b[0;34m\u001b[0m\u001b[0m\n\u001b[0;32m--> 532\u001b[0;31m             \u001b[0mresult\u001b[0m \u001b[0;34m=\u001b[0m \u001b[0mself\u001b[0m\u001b[0;34m.\u001b[0m\u001b[0mforward\u001b[0m\u001b[0;34m(\u001b[0m\u001b[0;34m*\u001b[0m\u001b[0minput\u001b[0m\u001b[0;34m,\u001b[0m \u001b[0;34m**\u001b[0m\u001b[0mkwargs\u001b[0m\u001b[0;34m)\u001b[0m\u001b[0;34m\u001b[0m\u001b[0;34m\u001b[0m\u001b[0m\n\u001b[0m\u001b[1;32m    533\u001b[0m         \u001b[0;32mfor\u001b[0m \u001b[0mhook\u001b[0m \u001b[0;32min\u001b[0m \u001b[0mself\u001b[0m\u001b[0;34m.\u001b[0m\u001b[0m_forward_hooks\u001b[0m\u001b[0;34m.\u001b[0m\u001b[0mvalues\u001b[0m\u001b[0;34m(\u001b[0m\u001b[0;34m)\u001b[0m\u001b[0;34m:\u001b[0m\u001b[0;34m\u001b[0m\u001b[0;34m\u001b[0m\u001b[0m\n\u001b[1;32m    534\u001b[0m             \u001b[0mhook_result\u001b[0m \u001b[0;34m=\u001b[0m \u001b[0mhook\u001b[0m\u001b[0;34m(\u001b[0m\u001b[0mself\u001b[0m\u001b[0;34m,\u001b[0m \u001b[0minput\u001b[0m\u001b[0;34m,\u001b[0m \u001b[0mresult\u001b[0m\u001b[0;34m)\u001b[0m\u001b[0;34m\u001b[0m\u001b[0;34m\u001b[0m\u001b[0m\n",
      "\u001b[0;32m~/anaconda3/lib/python3.7/site-packages/transformers/modeling_bert.py\u001b[0m in \u001b[0;36mforward\u001b[0;34m(self, hidden_states, attention_mask, head_mask, encoder_hidden_states, encoder_attention_mask)\u001b[0m\n\u001b[1;32m    366\u001b[0m         \u001b[0mencoder_attention_mask\u001b[0m\u001b[0;34m=\u001b[0m\u001b[0;32mNone\u001b[0m\u001b[0;34m,\u001b[0m\u001b[0;34m\u001b[0m\u001b[0;34m\u001b[0m\u001b[0m\n\u001b[1;32m    367\u001b[0m     ):\n\u001b[0;32m--> 368\u001b[0;31m         \u001b[0mself_attention_outputs\u001b[0m \u001b[0;34m=\u001b[0m \u001b[0mself\u001b[0m\u001b[0;34m.\u001b[0m\u001b[0mattention\u001b[0m\u001b[0;34m(\u001b[0m\u001b[0mhidden_states\u001b[0m\u001b[0;34m,\u001b[0m \u001b[0mattention_mask\u001b[0m\u001b[0;34m,\u001b[0m \u001b[0mhead_mask\u001b[0m\u001b[0;34m)\u001b[0m\u001b[0;34m\u001b[0m\u001b[0;34m\u001b[0m\u001b[0m\n\u001b[0m\u001b[1;32m    369\u001b[0m         \u001b[0mattention_output\u001b[0m \u001b[0;34m=\u001b[0m \u001b[0mself_attention_outputs\u001b[0m\u001b[0;34m[\u001b[0m\u001b[0;36m0\u001b[0m\u001b[0;34m]\u001b[0m\u001b[0;34m\u001b[0m\u001b[0;34m\u001b[0m\u001b[0m\n\u001b[1;32m    370\u001b[0m         \u001b[0moutputs\u001b[0m \u001b[0;34m=\u001b[0m \u001b[0mself_attention_outputs\u001b[0m\u001b[0;34m[\u001b[0m\u001b[0;36m1\u001b[0m\u001b[0;34m:\u001b[0m\u001b[0;34m]\u001b[0m  \u001b[0;31m# add self attentions if we output attention weights\u001b[0m\u001b[0;34m\u001b[0m\u001b[0;34m\u001b[0m\u001b[0m\n",
      "\u001b[0;32m~/anaconda3/lib/python3.7/site-packages/torch/nn/modules/module.py\u001b[0m in \u001b[0;36m__call__\u001b[0;34m(self, *input, **kwargs)\u001b[0m\n\u001b[1;32m    530\u001b[0m             \u001b[0mresult\u001b[0m \u001b[0;34m=\u001b[0m \u001b[0mself\u001b[0m\u001b[0;34m.\u001b[0m\u001b[0m_slow_forward\u001b[0m\u001b[0;34m(\u001b[0m\u001b[0;34m*\u001b[0m\u001b[0minput\u001b[0m\u001b[0;34m,\u001b[0m \u001b[0;34m**\u001b[0m\u001b[0mkwargs\u001b[0m\u001b[0;34m)\u001b[0m\u001b[0;34m\u001b[0m\u001b[0;34m\u001b[0m\u001b[0m\n\u001b[1;32m    531\u001b[0m         \u001b[0;32melse\u001b[0m\u001b[0;34m:\u001b[0m\u001b[0;34m\u001b[0m\u001b[0;34m\u001b[0m\u001b[0m\n\u001b[0;32m--> 532\u001b[0;31m             \u001b[0mresult\u001b[0m \u001b[0;34m=\u001b[0m \u001b[0mself\u001b[0m\u001b[0;34m.\u001b[0m\u001b[0mforward\u001b[0m\u001b[0;34m(\u001b[0m\u001b[0;34m*\u001b[0m\u001b[0minput\u001b[0m\u001b[0;34m,\u001b[0m \u001b[0;34m**\u001b[0m\u001b[0mkwargs\u001b[0m\u001b[0;34m)\u001b[0m\u001b[0;34m\u001b[0m\u001b[0;34m\u001b[0m\u001b[0m\n\u001b[0m\u001b[1;32m    533\u001b[0m         \u001b[0;32mfor\u001b[0m \u001b[0mhook\u001b[0m \u001b[0;32min\u001b[0m \u001b[0mself\u001b[0m\u001b[0;34m.\u001b[0m\u001b[0m_forward_hooks\u001b[0m\u001b[0;34m.\u001b[0m\u001b[0mvalues\u001b[0m\u001b[0;34m(\u001b[0m\u001b[0;34m)\u001b[0m\u001b[0;34m:\u001b[0m\u001b[0;34m\u001b[0m\u001b[0;34m\u001b[0m\u001b[0m\n\u001b[1;32m    534\u001b[0m             \u001b[0mhook_result\u001b[0m \u001b[0;34m=\u001b[0m \u001b[0mhook\u001b[0m\u001b[0;34m(\u001b[0m\u001b[0mself\u001b[0m\u001b[0;34m,\u001b[0m \u001b[0minput\u001b[0m\u001b[0;34m,\u001b[0m \u001b[0mresult\u001b[0m\u001b[0;34m)\u001b[0m\u001b[0;34m\u001b[0m\u001b[0;34m\u001b[0m\u001b[0m\n",
      "\u001b[0;32m~/anaconda3/lib/python3.7/site-packages/transformers/modeling_bert.py\u001b[0m in \u001b[0;36mforward\u001b[0;34m(self, hidden_states, attention_mask, head_mask, encoder_hidden_states, encoder_attention_mask)\u001b[0m\n\u001b[1;32m    312\u001b[0m     ):\n\u001b[1;32m    313\u001b[0m         self_outputs = self.self(\n\u001b[0;32m--> 314\u001b[0;31m             \u001b[0mhidden_states\u001b[0m\u001b[0;34m,\u001b[0m \u001b[0mattention_mask\u001b[0m\u001b[0;34m,\u001b[0m \u001b[0mhead_mask\u001b[0m\u001b[0;34m,\u001b[0m \u001b[0mencoder_hidden_states\u001b[0m\u001b[0;34m,\u001b[0m \u001b[0mencoder_attention_mask\u001b[0m\u001b[0;34m\u001b[0m\u001b[0;34m\u001b[0m\u001b[0m\n\u001b[0m\u001b[1;32m    315\u001b[0m         )\n\u001b[1;32m    316\u001b[0m         \u001b[0mattention_output\u001b[0m \u001b[0;34m=\u001b[0m \u001b[0mself\u001b[0m\u001b[0;34m.\u001b[0m\u001b[0moutput\u001b[0m\u001b[0;34m(\u001b[0m\u001b[0mself_outputs\u001b[0m\u001b[0;34m[\u001b[0m\u001b[0;36m0\u001b[0m\u001b[0;34m]\u001b[0m\u001b[0;34m,\u001b[0m \u001b[0mhidden_states\u001b[0m\u001b[0;34m)\u001b[0m\u001b[0;34m\u001b[0m\u001b[0;34m\u001b[0m\u001b[0m\n",
      "\u001b[0;32m~/anaconda3/lib/python3.7/site-packages/torch/nn/modules/module.py\u001b[0m in \u001b[0;36m__call__\u001b[0;34m(self, *input, **kwargs)\u001b[0m\n\u001b[1;32m    530\u001b[0m             \u001b[0mresult\u001b[0m \u001b[0;34m=\u001b[0m \u001b[0mself\u001b[0m\u001b[0;34m.\u001b[0m\u001b[0m_slow_forward\u001b[0m\u001b[0;34m(\u001b[0m\u001b[0;34m*\u001b[0m\u001b[0minput\u001b[0m\u001b[0;34m,\u001b[0m \u001b[0;34m**\u001b[0m\u001b[0mkwargs\u001b[0m\u001b[0;34m)\u001b[0m\u001b[0;34m\u001b[0m\u001b[0;34m\u001b[0m\u001b[0m\n\u001b[1;32m    531\u001b[0m         \u001b[0;32melse\u001b[0m\u001b[0;34m:\u001b[0m\u001b[0;34m\u001b[0m\u001b[0;34m\u001b[0m\u001b[0m\n\u001b[0;32m--> 532\u001b[0;31m             \u001b[0mresult\u001b[0m \u001b[0;34m=\u001b[0m \u001b[0mself\u001b[0m\u001b[0;34m.\u001b[0m\u001b[0mforward\u001b[0m\u001b[0;34m(\u001b[0m\u001b[0;34m*\u001b[0m\u001b[0minput\u001b[0m\u001b[0;34m,\u001b[0m \u001b[0;34m**\u001b[0m\u001b[0mkwargs\u001b[0m\u001b[0;34m)\u001b[0m\u001b[0;34m\u001b[0m\u001b[0;34m\u001b[0m\u001b[0m\n\u001b[0m\u001b[1;32m    533\u001b[0m         \u001b[0;32mfor\u001b[0m \u001b[0mhook\u001b[0m \u001b[0;32min\u001b[0m \u001b[0mself\u001b[0m\u001b[0;34m.\u001b[0m\u001b[0m_forward_hooks\u001b[0m\u001b[0;34m.\u001b[0m\u001b[0mvalues\u001b[0m\u001b[0;34m(\u001b[0m\u001b[0;34m)\u001b[0m\u001b[0;34m:\u001b[0m\u001b[0;34m\u001b[0m\u001b[0;34m\u001b[0m\u001b[0m\n\u001b[1;32m    534\u001b[0m             \u001b[0mhook_result\u001b[0m \u001b[0;34m=\u001b[0m \u001b[0mhook\u001b[0m\u001b[0;34m(\u001b[0m\u001b[0mself\u001b[0m\u001b[0;34m,\u001b[0m \u001b[0minput\u001b[0m\u001b[0;34m,\u001b[0m \u001b[0mresult\u001b[0m\u001b[0;34m)\u001b[0m\u001b[0;34m\u001b[0m\u001b[0;34m\u001b[0m\u001b[0m\n",
      "\u001b[0;32m~/anaconda3/lib/python3.7/site-packages/transformers/modeling_bert.py\u001b[0m in \u001b[0;36mforward\u001b[0;34m(self, hidden_states, attention_mask, head_mask, encoder_hidden_states, encoder_attention_mask)\u001b[0m\n\u001b[1;32m    233\u001b[0m         \u001b[0;31m# Take the dot product between \"query\" and \"key\" to get the raw attention scores.\u001b[0m\u001b[0;34m\u001b[0m\u001b[0;34m\u001b[0m\u001b[0;34m\u001b[0m\u001b[0m\n\u001b[1;32m    234\u001b[0m         \u001b[0mattention_scores\u001b[0m \u001b[0;34m=\u001b[0m \u001b[0mtorch\u001b[0m\u001b[0;34m.\u001b[0m\u001b[0mmatmul\u001b[0m\u001b[0;34m(\u001b[0m\u001b[0mquery_layer\u001b[0m\u001b[0;34m,\u001b[0m \u001b[0mkey_layer\u001b[0m\u001b[0;34m.\u001b[0m\u001b[0mtranspose\u001b[0m\u001b[0;34m(\u001b[0m\u001b[0;34m-\u001b[0m\u001b[0;36m1\u001b[0m\u001b[0;34m,\u001b[0m \u001b[0;34m-\u001b[0m\u001b[0;36m2\u001b[0m\u001b[0;34m)\u001b[0m\u001b[0;34m)\u001b[0m\u001b[0;34m\u001b[0m\u001b[0;34m\u001b[0m\u001b[0m\n\u001b[0;32m--> 235\u001b[0;31m         \u001b[0mattention_scores\u001b[0m \u001b[0;34m=\u001b[0m \u001b[0mattention_scores\u001b[0m \u001b[0;34m/\u001b[0m \u001b[0mmath\u001b[0m\u001b[0;34m.\u001b[0m\u001b[0msqrt\u001b[0m\u001b[0;34m(\u001b[0m\u001b[0mself\u001b[0m\u001b[0;34m.\u001b[0m\u001b[0mattention_head_size\u001b[0m\u001b[0;34m)\u001b[0m\u001b[0;34m\u001b[0m\u001b[0;34m\u001b[0m\u001b[0m\n\u001b[0m\u001b[1;32m    236\u001b[0m         \u001b[0;32mif\u001b[0m \u001b[0mattention_mask\u001b[0m \u001b[0;32mis\u001b[0m \u001b[0;32mnot\u001b[0m \u001b[0;32mNone\u001b[0m\u001b[0;34m:\u001b[0m\u001b[0;34m\u001b[0m\u001b[0;34m\u001b[0m\u001b[0m\n\u001b[1;32m    237\u001b[0m             \u001b[0;31m# Apply the attention mask is (precomputed for all layers in BertModel forward() function)\u001b[0m\u001b[0;34m\u001b[0m\u001b[0;34m\u001b[0m\u001b[0;34m\u001b[0m\u001b[0m\n",
      "\u001b[0;31mRuntimeError\u001b[0m: CUDA error: device-side assert triggered"
     ]
    }
   ],
   "source": [
    "ernie, loss_values, train_accs, validation_accs = train_model(\n",
    "    ernie,\n",
    "    train_dataloader,\n",
    "    validation_dataloader,\n",
    "    AdamW,\n",
    "    device,\n",
    "    num_epochs=5,\n",
    "    print_every=500)"
   ]
  },
  {
   "cell_type": "code",
   "execution_count": 17,
   "metadata": {
    "ExecuteTime": {
     "end_time": "2020-05-15T09:45:27.421376Z",
     "start_time": "2020-05-15T09:45:27.397061Z"
    }
   },
   "outputs": [
    {
     "ename": "RuntimeError",
     "evalue": "CUDA error: device-side assert triggered",
     "output_type": "error",
     "traceback": [
      "\u001b[0;31m---------------------------------------------------------------------------\u001b[0m",
      "\u001b[0;31mRuntimeError\u001b[0m                              Traceback (most recent call last)",
      "\u001b[0;32m<ipython-input-17-3ba34ad28efd>\u001b[0m in \u001b[0;36m<module>\u001b[0;34m\u001b[0m\n\u001b[0;32m----> 1\u001b[0;31m \u001b[0mevaluate\u001b[0m\u001b[0;34m(\u001b[0m\u001b[0mernie\u001b[0m\u001b[0;34m,\u001b[0m \u001b[0mtest_dataloader\u001b[0m\u001b[0;34m)\u001b[0m\u001b[0;34m\u001b[0m\u001b[0;34m\u001b[0m\u001b[0m\n\u001b[0m",
      "\u001b[0;32m<ipython-input-11-1f5a5de13cc8>\u001b[0m in \u001b[0;36mevaluate\u001b[0;34m(model, test_dataloader)\u001b[0m\n\u001b[1;32m      8\u001b[0m     \u001b[0;32mfor\u001b[0m \u001b[0mbatch\u001b[0m \u001b[0;32min\u001b[0m \u001b[0mtest_dataloader\u001b[0m\u001b[0;34m:\u001b[0m\u001b[0;34m\u001b[0m\u001b[0;34m\u001b[0m\u001b[0m\n\u001b[1;32m      9\u001b[0m \u001b[0;34m\u001b[0m\u001b[0m\n\u001b[0;32m---> 10\u001b[0;31m         \u001b[0mbatch\u001b[0m \u001b[0;34m=\u001b[0m \u001b[0mtuple\u001b[0m\u001b[0;34m(\u001b[0m\u001b[0mt\u001b[0m\u001b[0;34m.\u001b[0m\u001b[0mto\u001b[0m\u001b[0;34m(\u001b[0m\u001b[0mdevice\u001b[0m\u001b[0;34m)\u001b[0m \u001b[0;32mfor\u001b[0m \u001b[0mt\u001b[0m \u001b[0;32min\u001b[0m \u001b[0mbatch\u001b[0m\u001b[0;34m)\u001b[0m\u001b[0;34m\u001b[0m\u001b[0;34m\u001b[0m\u001b[0m\n\u001b[0m\u001b[1;32m     11\u001b[0m \u001b[0;34m\u001b[0m\u001b[0m\n\u001b[1;32m     12\u001b[0m         \u001b[0mb_input_ids\u001b[0m\u001b[0;34m,\u001b[0m \u001b[0mb_input_mask\u001b[0m\u001b[0;34m,\u001b[0m \u001b[0mb_labels\u001b[0m \u001b[0;34m=\u001b[0m \u001b[0mbatch\u001b[0m\u001b[0;34m\u001b[0m\u001b[0;34m\u001b[0m\u001b[0m\n",
      "\u001b[0;32m<ipython-input-11-1f5a5de13cc8>\u001b[0m in \u001b[0;36m<genexpr>\u001b[0;34m(.0)\u001b[0m\n\u001b[1;32m      8\u001b[0m     \u001b[0;32mfor\u001b[0m \u001b[0mbatch\u001b[0m \u001b[0;32min\u001b[0m \u001b[0mtest_dataloader\u001b[0m\u001b[0;34m:\u001b[0m\u001b[0;34m\u001b[0m\u001b[0;34m\u001b[0m\u001b[0m\n\u001b[1;32m      9\u001b[0m \u001b[0;34m\u001b[0m\u001b[0m\n\u001b[0;32m---> 10\u001b[0;31m         \u001b[0mbatch\u001b[0m \u001b[0;34m=\u001b[0m \u001b[0mtuple\u001b[0m\u001b[0;34m(\u001b[0m\u001b[0mt\u001b[0m\u001b[0;34m.\u001b[0m\u001b[0mto\u001b[0m\u001b[0;34m(\u001b[0m\u001b[0mdevice\u001b[0m\u001b[0;34m)\u001b[0m \u001b[0;32mfor\u001b[0m \u001b[0mt\u001b[0m \u001b[0;32min\u001b[0m \u001b[0mbatch\u001b[0m\u001b[0;34m)\u001b[0m\u001b[0;34m\u001b[0m\u001b[0;34m\u001b[0m\u001b[0m\n\u001b[0m\u001b[1;32m     11\u001b[0m \u001b[0;34m\u001b[0m\u001b[0m\n\u001b[1;32m     12\u001b[0m         \u001b[0mb_input_ids\u001b[0m\u001b[0;34m,\u001b[0m \u001b[0mb_input_mask\u001b[0m\u001b[0;34m,\u001b[0m \u001b[0mb_labels\u001b[0m \u001b[0;34m=\u001b[0m \u001b[0mbatch\u001b[0m\u001b[0;34m\u001b[0m\u001b[0;34m\u001b[0m\u001b[0m\n",
      "\u001b[0;31mRuntimeError\u001b[0m: CUDA error: device-side assert triggered"
     ]
    }
   ],
   "source": [
    "evaluate(ernie, test_dataloader)"
   ]
  },
  {
   "cell_type": "code",
   "execution_count": 19,
   "metadata": {
    "ExecuteTime": {
     "end_time": "2020-05-15T09:49:25.171739Z",
     "start_time": "2020-05-15T09:49:25.165641Z"
    }
   },
   "outputs": [
    {
     "name": "stdout",
     "output_type": "stream",
     "text": [
      "torch.int64\n",
      "torch.int64\n",
      "torch.int64\n"
     ]
    }
   ],
   "source": [
    "for batch in test_dataloader:\n",
    "    for t in batch:\n",
    "        print(t.dtype)\n",
    "\n",
    "    batch = tuple(t.to(device) for t in batch)\n",
    "\n",
    "    b_input_ids, b_input_mask, b_labels = batch\n",
    "    break\n"
   ]
  },
  {
   "cell_type": "code",
   "execution_count": 20,
   "metadata": {
    "ExecuteTime": {
     "end_time": "2020-05-15T09:49:31.315233Z",
     "start_time": "2020-05-15T09:49:31.309805Z"
    }
   },
   "outputs": [
    {
     "data": {
      "text/plain": [
       "tensor([0, 7, 3, 7, 3, 8, 0, 8, 5, 4, 2, 8, 8, 0, 2, 5, 8, 7, 0, 4, 4, 0, 6, 8,\n",
       "        9, 1, 1, 1, 0, 2, 7, 0])"
      ]
     },
     "execution_count": 20,
     "metadata": {},
     "output_type": "execute_result"
    }
   ],
   "source": [
    "t"
   ]
  },
  {
   "cell_type": "code",
   "execution_count": 21,
   "metadata": {
    "ExecuteTime": {
     "end_time": "2020-05-15T09:49:40.026454Z",
     "start_time": "2020-05-15T09:49:40.012017Z"
    }
   },
   "outputs": [
    {
     "ename": "RuntimeError",
     "evalue": "CUDA error: device-side assert triggered",
     "output_type": "error",
     "traceback": [
      "\u001b[0;31m---------------------------------------------------------------------------\u001b[0m",
      "\u001b[0;31mRuntimeError\u001b[0m                              Traceback (most recent call last)",
      "\u001b[0;32m<ipython-input-21-871d9e961b7a>\u001b[0m in \u001b[0;36m<module>\u001b[0;34m\u001b[0m\n\u001b[0;32m----> 1\u001b[0;31m \u001b[0mt\u001b[0m\u001b[0;34m.\u001b[0m\u001b[0mto\u001b[0m\u001b[0;34m(\u001b[0m\u001b[0mdevice\u001b[0m\u001b[0;34m)\u001b[0m\u001b[0;34m\u001b[0m\u001b[0;34m\u001b[0m\u001b[0m\n\u001b[0m",
      "\u001b[0;31mRuntimeError\u001b[0m: CUDA error: device-side assert triggered"
     ]
    }
   ],
   "source": [
    "t.to(device)"
   ]
  },
  {
   "cell_type": "code",
   "execution_count": 22,
   "metadata": {
    "ExecuteTime": {
     "end_time": "2020-05-15T09:50:45.045749Z",
     "start_time": "2020-05-15T09:50:45.035896Z"
    }
   },
   "outputs": [
    {
     "data": {
      "text/plain": [
       "tensor([0, 7, 3, 7, 3, 8, 0, 8, 5, 4, 2, 8, 8, 0, 2, 5, 8, 7, 0, 4, 4, 0, 6, 8,\n",
       "        9, 1, 1, 1, 0, 2, 7, 0])"
      ]
     },
     "execution_count": 22,
     "metadata": {},
     "output_type": "execute_result"
    }
   ],
   "source": [
    "t"
   ]
  },
  {
   "cell_type": "code",
   "execution_count": 23,
   "metadata": {
    "ExecuteTime": {
     "end_time": "2020-05-15T09:50:54.056854Z",
     "start_time": "2020-05-15T09:50:54.045767Z"
    }
   },
   "outputs": [
    {
     "ename": "AttributeError",
     "evalue": "'Tensor' object has no attribute 'astype'",
     "output_type": "error",
     "traceback": [
      "\u001b[0;31m---------------------------------------------------------------------------\u001b[0m",
      "\u001b[0;31mAttributeError\u001b[0m                            Traceback (most recent call last)",
      "\u001b[0;32m<ipython-input-23-2463a306c0a9>\u001b[0m in \u001b[0;36m<module>\u001b[0;34m\u001b[0m\n\u001b[0;32m----> 1\u001b[0;31m \u001b[0mt\u001b[0m\u001b[0;34m.\u001b[0m\u001b[0mastype\u001b[0m\u001b[0;34m(\u001b[0m\u001b[0;34m)\u001b[0m\u001b[0;34m\u001b[0m\u001b[0;34m\u001b[0m\u001b[0m\n\u001b[0m",
      "\u001b[0;31mAttributeError\u001b[0m: 'Tensor' object has no attribute 'astype'"
     ]
    }
   ],
   "source": [
    "t.type()"
   ]
  },
  {
   "cell_type": "code",
   "execution_count": 29,
   "metadata": {
    "ExecuteTime": {
     "end_time": "2020-05-15T09:54:34.716032Z",
     "start_time": "2020-05-15T09:54:34.616589Z"
    }
   },
   "outputs": [
    {
     "ename": "RuntimeError",
     "evalue": "CUDA error: device-side assert triggered",
     "output_type": "error",
     "traceback": [
      "\u001b[0;31m---------------------------------------------------------------------------\u001b[0m",
      "\u001b[0;31mRuntimeError\u001b[0m                              Traceback (most recent call last)",
      "\u001b[0;32m<ipython-input-29-3c74a4f3aeab>\u001b[0m in \u001b[0;36m<module>\u001b[0;34m\u001b[0m\n\u001b[0;32m----> 1\u001b[0;31m \u001b[0mt\u001b[0m\u001b[0;34m.\u001b[0m\u001b[0mint\u001b[0m\u001b[0;34m(\u001b[0m\u001b[0;34m)\u001b[0m\u001b[0;34m.\u001b[0m\u001b[0mto\u001b[0m\u001b[0;34m(\u001b[0m\u001b[0mdevice\u001b[0m\u001b[0;34m)\u001b[0m\u001b[0;34m\u001b[0m\u001b[0;34m\u001b[0m\u001b[0m\n\u001b[0m",
      "\u001b[0;31mRuntimeError\u001b[0m: CUDA error: device-side assert triggered"
     ]
    }
   ],
   "source": [
    "t.int().to(device)"
   ]
  },
  {
   "cell_type": "code",
   "execution_count": 28,
   "metadata": {
    "ExecuteTime": {
     "end_time": "2020-05-15T09:54:15.988064Z",
     "start_time": "2020-05-15T09:54:15.978274Z"
    }
   },
   "outputs": [
    {
     "data": {
      "text/plain": [
       "'torch.FloatTensor'"
      ]
     },
     "execution_count": 28,
     "metadata": {},
     "output_type": "execute_result"
    }
   ],
   "source": [
    "t.float().type()"
   ]
  },
  {
   "cell_type": "code",
   "execution_count": null,
   "metadata": {},
   "outputs": [],
   "source": []
  },
  {
   "cell_type": "code",
   "execution_count": null,
   "metadata": {},
   "outputs": [],
   "source": []
  },
  {
   "cell_type": "code",
   "execution_count": 33,
   "metadata": {
    "ExecuteTime": {
     "end_time": "2020-05-15T10:03:16.857248Z",
     "start_time": "2020-05-15T10:03:16.850469Z"
    }
   },
   "outputs": [
    {
     "data": {
      "text/plain": [
       "torch.int64"
      ]
     },
     "execution_count": 33,
     "metadata": {},
     "output_type": "execute_result"
    }
   ],
   "source": [
    "ttt = torch.tensor([0, 7, 3, 7, 3, 8, 0, 8, 5, 4, 2, 8, 8, 0, 2, 5, 8, 7, 0, 4, 4, 0, 6, 8,\n",
    "        9, 1, 1, 1, 0, 2, 7, 0])\n",
    "ttt.dtype"
   ]
  },
  {
   "cell_type": "code",
   "execution_count": 35,
   "metadata": {
    "ExecuteTime": {
     "end_time": "2020-05-15T10:03:41.132585Z",
     "start_time": "2020-05-15T10:03:41.118768Z"
    }
   },
   "outputs": [
    {
     "ename": "RuntimeError",
     "evalue": "CUDA error: device-side assert triggered",
     "output_type": "error",
     "traceback": [
      "\u001b[0;31m---------------------------------------------------------------------------\u001b[0m",
      "\u001b[0;31mRuntimeError\u001b[0m                              Traceback (most recent call last)",
      "\u001b[0;32m<ipython-input-35-c09ba4889db0>\u001b[0m in \u001b[0;36m<module>\u001b[0;34m\u001b[0m\n\u001b[0;32m----> 1\u001b[0;31m \u001b[0mttt\u001b[0m\u001b[0;34m.\u001b[0m\u001b[0mto\u001b[0m\u001b[0;34m(\u001b[0m\u001b[0mdevice\u001b[0m\u001b[0;34m)\u001b[0m\u001b[0;34m\u001b[0m\u001b[0;34m\u001b[0m\u001b[0m\n\u001b[0m",
      "\u001b[0;31mRuntimeError\u001b[0m: CUDA error: device-side assert triggered"
     ]
    }
   ],
   "source": [
    "ttt.to(device)"
   ]
  },
  {
   "cell_type": "code",
   "execution_count": 36,
   "metadata": {
    "ExecuteTime": {
     "end_time": "2020-05-15T10:04:15.329857Z",
     "start_time": "2020-05-15T10:04:15.324317Z"
    }
   },
   "outputs": [],
   "source": [
    "device = torch.device('cuda' if torch.cuda.is_available else 'cpu')"
   ]
  },
  {
   "cell_type": "code",
   "execution_count": 37,
   "metadata": {
    "ExecuteTime": {
     "end_time": "2020-05-15T10:04:25.267103Z",
     "start_time": "2020-05-15T10:04:25.251796Z"
    }
   },
   "outputs": [
    {
     "ename": "RuntimeError",
     "evalue": "CUDA error: device-side assert triggered",
     "output_type": "error",
     "traceback": [
      "\u001b[0;31m---------------------------------------------------------------------------\u001b[0m",
      "\u001b[0;31mRuntimeError\u001b[0m                              Traceback (most recent call last)",
      "\u001b[0;32m<ipython-input-37-c09ba4889db0>\u001b[0m in \u001b[0;36m<module>\u001b[0;34m\u001b[0m\n\u001b[0;32m----> 1\u001b[0;31m \u001b[0mttt\u001b[0m\u001b[0;34m.\u001b[0m\u001b[0mto\u001b[0m\u001b[0;34m(\u001b[0m\u001b[0mdevice\u001b[0m\u001b[0;34m)\u001b[0m\u001b[0;34m\u001b[0m\u001b[0;34m\u001b[0m\u001b[0m\n\u001b[0m",
      "\u001b[0;31mRuntimeError\u001b[0m: CUDA error: device-side assert triggered"
     ]
    }
   ],
   "source": [
    "ttt.to(device)"
   ]
  },
  {
   "cell_type": "code",
   "execution_count": 41,
   "metadata": {
    "ExecuteTime": {
     "end_time": "2020-05-15T10:17:34.054700Z",
     "start_time": "2020-05-15T10:17:34.037315Z"
    }
   },
   "outputs": [
    {
     "ename": "RuntimeError",
     "evalue": "CUDA error: device-side assert triggered",
     "output_type": "error",
     "traceback": [
      "\u001b[0;31m---------------------------------------------------------------------------\u001b[0m",
      "\u001b[0;31mRuntimeError\u001b[0m                              Traceback (most recent call last)",
      "\u001b[0;32m<ipython-input-41-22474d78aed0>\u001b[0m in \u001b[0;36m<module>\u001b[0;34m\u001b[0m\n\u001b[0;32m----> 1\u001b[0;31m \u001b[0mttt\u001b[0m\u001b[0;34m.\u001b[0m\u001b[0mcuda\u001b[0m\u001b[0;34m(\u001b[0m\u001b[0;34m)\u001b[0m\u001b[0;34m\u001b[0m\u001b[0;34m\u001b[0m\u001b[0m\n\u001b[0m",
      "\u001b[0;31mRuntimeError\u001b[0m: CUDA error: device-side assert triggered"
     ]
    }
   ],
   "source": [
    "ttt.cuda()"
   ]
  },
  {
   "cell_type": "code",
   "execution_count": 42,
   "metadata": {
    "ExecuteTime": {
     "end_time": "2020-05-15T10:17:47.603662Z",
     "start_time": "2020-05-15T10:17:47.455120Z"
    }
   },
   "outputs": [
    {
     "name": "stdout",
     "output_type": "stream",
     "text": [
      "Fri May 15 18:17:47 2020       \r\n",
      "+-----------------------------------------------------------------------------+\r\n",
      "| NVIDIA-SMI 440.48.02    Driver Version: 440.48.02    CUDA Version: 10.2     |\r\n",
      "|-------------------------------+----------------------+----------------------+\r\n",
      "| GPU  Name        Persistence-M| Bus-Id        Disp.A | Volatile Uncorr. ECC |\r\n",
      "| Fan  Temp  Perf  Pwr:Usage/Cap|         Memory-Usage | GPU-Util  Compute M. |\r\n",
      "|===============================+======================+======================|\r\n",
      "|   0  GeForce RTX 208...  Off  | 00000000:01:00.0 Off |                  N/A |\r\n",
      "| 31%   40C    P2    58W / 260W |   4333MiB / 11018MiB |      0%      Default |\r\n",
      "+-------------------------------+----------------------+----------------------+\r\n",
      "                                                                               \r\n",
      "+-----------------------------------------------------------------------------+\r\n",
      "| Processes:                                                       GPU Memory |\r\n",
      "|  GPU       PID   Type   Process name                             Usage      |\r\n",
      "|=============================================================================|\r\n",
      "|    0      1093      G   /usr/lib/xorg/Xorg                             9MiB |\r\n",
      "|    0      1178      G   /usr/bin/gnome-shell                          15MiB |\r\n",
      "|    0      6295      C   /home/yangbin7/anaconda3/bin/python         4295MiB |\r\n",
      "+-----------------------------------------------------------------------------+\r\n"
     ]
    }
   ],
   "source": [
    "!nvidia-smi"
   ]
  },
  {
   "cell_type": "code",
   "execution_count": 43,
   "metadata": {
    "ExecuteTime": {
     "end_time": "2020-05-15T10:18:36.136286Z",
     "start_time": "2020-05-15T10:18:35.992990Z"
    }
   },
   "outputs": [
    {
     "name": "stdout",
     "output_type": "stream",
     "text": [
      "\u001b[32m[    0.000000] \u001b[0mLinux version 5.3.0-26-generic (buildd@lgw01-amd64-039) (gcc version 7.4.0 (Ubuntu 7.4.0-1ubuntu1~18.04.1)) #28~18.04.1-Ubuntu SMP Wed Dec 18 16:40:14 UTC 2019 (Ubuntu 5.3.0-26.28~18.04.1-generic 5.3.13)\r\n",
      "\u001b[32m[    0.000000] \u001b[0m\u001b[33mCommand line\u001b[0m: BOOT_IMAGE=/boot/vmlinuz-5.3.0-26-generic root=/dev/mapper/ubuntu--vg-root ro quiet splash vt.handoff=1\r\n",
      "\u001b[32m[    0.000000] \u001b[0mKERNEL supported cpus:\r\n",
      "\u001b[32m[    0.000000] \u001b[0m  Intel GenuineIntel\r\n",
      "\u001b[32m[    0.000000] \u001b[0m  AMD AuthenticAMD\r\n",
      "\u001b[32m[    0.000000] \u001b[0m  Hygon HygonGenuine\r\n",
      "\u001b[32m[    0.000000] \u001b[0m  Centaur CentaurHauls\r\n",
      "\u001b[32m[    0.000000] \u001b[0m  zhaoxin   Shanghai  \r\n",
      "\u001b[32m[    0.000000] \u001b[0m\u001b[33mx86/fpu\u001b[0m: Supporting XSAVE feature 0x001: 'x87 floating point registers'\r\n",
      "\u001b[32m[    0.000000] \u001b[0m\u001b[33mx86/fpu\u001b[0m: Supporting XSAVE feature 0x002: 'SSE registers'\r\n",
      "\u001b[32m[    0.000000] \u001b[0m\u001b[33mx86/fpu\u001b[0m: Supporting XSAVE feature 0x004: 'AVX registers'\r\n",
      "\u001b[32m[    0.000000] \u001b[0m\u001b[33mx86/fpu\u001b[0m: Supporting XSAVE feature 0x008: 'MPX bounds registers'\r\n",
      "\u001b[32m[    0.000000] \u001b[0m\u001b[33mx86/fpu\u001b[0m: Supporting XSAVE feature 0x010: 'MPX CSR'\r\n",
      "\u001b[32m[    0.000000] \u001b[0m\u001b[33mx86/fpu\u001b[0m: xstate_offset[2]:  576, xstate_sizes[2]:  256\r\n",
      "\u001b[32m[    0.000000] \u001b[0m\u001b[33mx86/fpu\u001b[0m: xstate_offset[3]:  832, xstate_sizes[3]:   64\r\n",
      "\u001b[32m[    0.000000] \u001b[0m\u001b[33mx86/fpu\u001b[0m: xstate_offset[4]:  896, xstate_sizes[4]:   64\r\n",
      "\u001b[32m[    0.000000] \u001b[0m\u001b[33mx86/fpu\u001b[0m: Enabled xstate features 0x1f, context size is 960 bytes, using 'compacted' format.\r\n",
      "\u001b[32m[    0.000000] \u001b[0mBIOS-provided physical RAM map:\r\n",
      "\u001b[32m[    0.000000] \u001b[0m\u001b[33mBIOS-e820\u001b[0m: [mem 0x0000000000000000-0x000000000009d3ff] usable\r\n",
      "\u001b[32m[    0.000000] \u001b[0m\u001b[33mBIOS-e820\u001b[0m: [mem 0x000000000009d400-0x000000000009ffff] reserved\r\n",
      "\u001b[32m[    0.000000] \u001b[0m\u001b[33mBIOS-e820\u001b[0m: [mem 0x00000000000e0000-0x00000000000fffff] reserved\r\n",
      "\u001b[32m[    0.000000] \u001b[0m\u001b[33mBIOS-e820\u001b[0m: [mem 0x0000000000100000-0x00000000385fcfff] usable\r\n",
      "\u001b[32m[    0.000000] \u001b[0m\u001b[33mBIOS-e820\u001b[0m: [mem 0x00000000385fd000-0x00000000385fdfff] ACPI NVS\r\n",
      "\u001b[32m[    0.000000] \u001b[0m\u001b[33mBIOS-e820\u001b[0m: [mem 0x00000000385fe000-0x00000000385fefff] reserved\r\n",
      "\u001b[32m[    0.000000] \u001b[0m\u001b[33mBIOS-e820\u001b[0m: [mem 0x00000000385ff000-0x000000003da14fff] usable\r\n",
      "\u001b[32m[    0.000000] \u001b[0m\u001b[33mBIOS-e820\u001b[0m: [mem 0x000000003da15000-0x000000003de93fff] reserved\r\n",
      "\u001b[32m[    0.000000] \u001b[0m\u001b[33mBIOS-e820\u001b[0m: [mem 0x000000003de94000-0x000000003e012fff] usable\r\n",
      "\u001b[32m[    0.000000] \u001b[0m\u001b[33mBIOS-e820\u001b[0m: [mem 0x000000003e013000-0x000000003e41bfff] ACPI NVS\r\n",
      "\u001b[32m[    0.000000] \u001b[0m\u001b[33mBIOS-e820\u001b[0m: [mem 0x000000003e41c000-0x000000003eefefff] reserved\r\n",
      "\u001b[32m[    0.000000] \u001b[0m\u001b[33mBIOS-e820\u001b[0m: [mem 0x000000003eeff000-0x000000003eefffff] usable\r\n",
      "\u001b[32m[    0.000000] \u001b[0m\u001b[33mBIOS-e820\u001b[0m: [mem 0x000000003ef00000-0x000000003fffffff] reserved\r\n",
      "\u001b[32m[    0.000000] \u001b[0m\u001b[33mBIOS-e820\u001b[0m: [mem 0x00000000e0000000-0x00000000efffffff] reserved\r\n",
      "\u001b[32m[    0.000000] \u001b[0m\u001b[33mBIOS-e820\u001b[0m: [mem 0x00000000fe000000-0x00000000fe010fff] reserved\r\n",
      "\u001b[32m[    0.000000] \u001b[0m\u001b[33mBIOS-e820\u001b[0m: [mem 0x00000000fec00000-0x00000000fec00fff] reserved\r\n",
      "\u001b[32m[    0.000000] \u001b[0m\u001b[33mBIOS-e820\u001b[0m: [mem 0x00000000fee00000-0x00000000fee00fff] reserved\r\n",
      "\u001b[32m[    0.000000] \u001b[0m\u001b[33mBIOS-e820\u001b[0m: [mem 0x00000000ff000000-0x00000000ffffffff] reserved\r\n",
      "\u001b[32m[    0.000000] \u001b[0m\u001b[33mBIOS-e820\u001b[0m: [mem 0x0000000100000000-0x00000010bdffffff] usable\r\n",
      "\u001b[32m[    0.000000] \u001b[0m\u001b[33mNX (Execute Disable) protection\u001b[0m: active\r\n",
      "\u001b[32m[    0.000000] \u001b[0mSMBIOS 3.1.1 present.\r\n",
      "\u001b[32m[    0.000000] \u001b[0m\u001b[33mDMI\u001b[0m: Gigabyte Technology Co., Ltd. Z390 AORUS PRO WIFI/Z390 AORUS PRO WIFI-CF, BIOS F10 06/05/2019\r\n",
      "\u001b[32m[    0.000000] \u001b[0m\u001b[33mtsc\u001b[0m: Detected 3600.000 MHz processor\r\n",
      "\u001b[32m[    0.000916] \u001b[0m\u001b[33me820\u001b[0m: update [mem 0x00000000-0x00000fff] usable ==> reserved\r\n",
      "\u001b[32m[    0.000917] \u001b[0m\u001b[33me820\u001b[0m: remove [mem 0x000a0000-0x000fffff] usable\r\n",
      "\u001b[32m[    0.000920] \u001b[0mlast_pfn = 0x10be000 max_arch_pfn = 0x400000000\r\n",
      "\u001b[32m[    0.000922] \u001b[0m\u001b[33mMTRR default type\u001b[0m: write-back\r\n",
      "\u001b[32m[    0.000922] \u001b[0mMTRR fixed ranges enabled:\r\n",
      "\u001b[32m[    0.000923] \u001b[0m  00000-9FFFF write-back\r\n",
      "\u001b[32m[    0.000923] \u001b[0m  A0000-BFFFF uncachable\r\n",
      "\u001b[32m[    0.000924] \u001b[0m  C0000-FFFFF write-protect\r\n",
      "\u001b[32m[    0.000924] \u001b[0mMTRR variable ranges enabled:\r\n",
      "\u001b[32m[    0.000925] \u001b[0m  0 base 0080000000 mask 7F80000000 uncachable\r\n",
      "\u001b[32m[    0.000925] \u001b[0m  1 base 0040000000 mask 7FC0000000 uncachable\r\n",
      "\u001b[32m[    0.000926] \u001b[0m  2 disabled\r\n",
      "\u001b[32m[    0.000926] \u001b[0m  3 disabled\r\n",
      "\u001b[32m[    0.000926] \u001b[0m  4 disabled\r\n",
      "\u001b[32m[    0.000926] \u001b[0m  5 disabled\r\n",
      "\u001b[32m[    0.000927] \u001b[0m  6 disabled\r\n",
      "\u001b[32m[    0.000927] \u001b[0m  7 disabled\r\n",
      "\u001b[32m[    0.000927] \u001b[0m  8 disabled\r\n",
      "\u001b[32m[    0.000927] \u001b[0m  9 disabled\r\n",
      "\u001b[32m[    0.001242] \u001b[0m\u001b[33mx86/PAT\u001b[0m: Configuration [0-7]: WB  WC  UC- UC  WB  WP  UC- WT  \r\n",
      "\u001b[32m[    0.001378] \u001b[0mlast_pfn = 0x3ef00 max_arch_pfn = 0x400000000\r\n",
      "\u001b[32m[    0.005702] \u001b[0mfound SMP MP-table at [mem 0x000fcdf0-0x000fcdff]\r\n",
      "\u001b[32m[    0.005743] \u001b[0m\u001b[33mcheck\u001b[0m: Scanning 1 areas for low memory corruption\r\n",
      "\u001b[32m[    0.005754] \u001b[0mUsing GB pages for direct mapping\r\n",
      "\u001b[32m[    0.005755] \u001b[0mBRK [0x852401000, 0x852401fff] PGTABLE\r\n",
      "\u001b[32m[    0.005756] \u001b[0mBRK [0x852402000, 0x852402fff] PGTABLE\r\n",
      "\u001b[32m[    0.005756] \u001b[0mBRK [0x852403000, 0x852403fff] PGTABLE\r\n",
      "\u001b[32m[    0.005770] \u001b[0mBRK [0x852404000, 0x852404fff] PGTABLE\r\n",
      "\u001b[32m[    0.005771] \u001b[0mBRK [0x852405000, 0x852405fff] PGTABLE\r\n",
      "\u001b[32m[    0.005817] \u001b[0mBRK [0x852406000, 0x852406fff] PGTABLE\r\n",
      "\u001b[32m[    0.005838] \u001b[0mBRK [0x852407000, 0x852407fff] PGTABLE\r\n",
      "\u001b[32m[    0.005860] \u001b[0mBRK [0x852408000, 0x852408fff] PGTABLE\r\n",
      "\u001b[32m[    0.005862] \u001b[0mBRK [0x852409000, 0x852409fff] PGTABLE\r\n",
      "\u001b[32m[    0.005884] \u001b[0mBRK [0x85240a000, 0x85240afff] PGTABLE\r\n",
      "\u001b[32m[    0.005905] \u001b[0m\u001b[33mRAMDISK\u001b[0m: [mem 0x332b9000-0x35953fff]\r\n",
      "\u001b[32m[    0.005911] \u001b[0m\u001b[33mACPI\u001b[0m: Early table checksum verification disabled\r\n",
      "\u001b[32m[    0.005913] \u001b[0m\u001b[33mACPI\u001b[0m: RSDP 0x00000000000F05B0 000024 (v02 ALASKA)\r\n",
      "\u001b[32m[    0.005915] \u001b[0m\u001b[33mACPI\u001b[0m: XSDT 0x000000003E3300A8 0000CC (v01 ALASKA A M I    01072009 AMI  00010013)\r\n",
      "\u001b[32m[    0.005918] \u001b[0m\u001b[33mACPI\u001b[0m: FACP 0x000000003E370DD8 000114 (v06 ALASKA A M I    01072009 AMI  00010013)\r\n",
      "\u001b[32m[    0.005921] \u001b[0m\u001b[33mACPI\u001b[0m: DSDT 0x000000003E330208 040BCD (v02 ALASKA A M I    01072009 INTL 20160527)\r\n",
      "\u001b[32m[    0.005923] \u001b[0m\u001b[33mACPI\u001b[0m: FACS 0x000000003E41B080 000040\r\n",
      "\u001b[32m[    0.005924] \u001b[0m\u001b[33mACPI\u001b[0m: APIC 0x000000003E370EF0 00012C (v04 ALASKA A M I    01072009 AMI  00010013)\r\n",
      "\u001b[32m[    0.005925] \u001b[0m\u001b[33mACPI\u001b[0m: FPDT 0x000000003E371020 000044 (v01 ALASKA A M I    01072009 AMI  00010013)\r\n",
      "\u001b[32m[    0.005926] \u001b[0m\u001b[33mACPI\u001b[0m: FIDT 0x000000003E371068 00009C (v01 ALASKA A M I    01072009 AMI  00010013)\r\n",
      "\u001b[32m[    0.005928] \u001b[0m\u001b[33mACPI\u001b[0m: MCFG 0x000000003E371108 00003C (v01 ALASKA A M I    01072009 MSFT 00000097)\r\n",
      "\u001b[32m[    0.005929] \u001b[0m\u001b[33mACPI\u001b[0m: SSDT 0x000000003E371148 000204 (v01 ALASKA A M I    00001000 INTL 20160527)\r\n",
      "\u001b[32m[    0.005930] \u001b[0m\u001b[33mACPI\u001b[0m: SSDT 0x000000003E371350 0017D5 (v02 ALASKA A M I    00003000 INTL 20160527)\r\n",
      "\u001b[32m[    0.005932] \u001b[0m\u001b[33mACPI\u001b[0m: SSDT 0x000000003E372B28 007843 (v01 ALASKA A M I    00000001 INTL 20160527)\r\n",
      "\u001b[32m[    0.005933] \u001b[0m\u001b[33mACPI\u001b[0m: SSDT 0x000000003E37A370 0031C7 (v02 ALASKA A M I    00003000 INTL 20160527)\r\n",
      "\u001b[32m[    0.005934] \u001b[0m\u001b[33mACPI\u001b[0m: SSDT 0x000000003E37D538 002358 (v02 ALASKA A M I    00001000 INTL 20160527)\r\n",
      "\u001b[32m[    0.005936] \u001b[0m\u001b[33mACPI\u001b[0m: HPET 0x000000003E37F890 000038 (v01 ALASKA A M I    00000002      01000013)\r\n",
      "\u001b[32m[    0.005937] \u001b[0m\u001b[33mACPI\u001b[0m: SSDT 0x000000003E37F8C8 000F9E (v02 ALASKA A M I    00001000 INTL 20160527)\r\n",
      "\u001b[32m[    0.005938] \u001b[0m\u001b[33mACPI\u001b[0m: SSDT 0x000000003E380868 002D1B (v02 ALASKA A M I    00000000 INTL 20160527)\r\n",
      "\u001b[32m[    0.005939] \u001b[0m\u001b[33mACPI\u001b[0m: UEFI 0x000000003E383588 000042 (v01 ALASKA A M I    00000002      01000013)\r\n",
      "\u001b[32m[    0.005941] \u001b[0m\u001b[33mACPI\u001b[0m: LPIT 0x000000003E3835D0 00005C (v01 ALASKA A M I    00000002      01000013)\r\n",
      "\u001b[32m[    0.005942] \u001b[0m\u001b[33mACPI\u001b[0m: SSDT 0x000000003E383630 0027DE (v02 ALASKA A M I    00001000 INTL 20160527)\r\n",
      "\u001b[32m[    0.005943] \u001b[0m\u001b[33mACPI\u001b[0m: SSDT 0x000000003E385E10 000FFE (v02 ALASKA A M I    00000000 INTL 20160527)\r\n",
      "\u001b[32m[    0.005944] \u001b[0m\u001b[33mACPI\u001b[0m: DBGP 0x000000003E386E10 000034 (v01 ALASKA A M I    00000002      01000013)\r\n",
      "\u001b[32m[    0.005946] \u001b[0m\u001b[33mACPI\u001b[0m: DBG2 0x000000003E386E48 000054 (v00 ALASKA A M I    00000002      01000013)\r\n",
      "\u001b[32m[    0.005947] \u001b[0m\u001b[33mACPI\u001b[0m: DMAR 0x000000003E386EA0 000070 (v01 ALASKA A M I    00000002      01000013)\r\n",
      "\u001b[32m[    0.005948] \u001b[0m\u001b[33mACPI\u001b[0m: WSMT 0x000000003E386F10 000028 (v01 ALASKA A M I    01072009 AMI  00010013)\r\n",
      "\u001b[32m[    0.005953] \u001b[0m\u001b[33mACPI\u001b[0m: Local APIC address 0xfee00000\r\n",
      "\u001b[32m[    0.006116] \u001b[0mNo NUMA configuration found\r\n",
      "\u001b[32m[    0.006116] \u001b[0mFaking a node at [mem 0x0000000000000000-0x00000010bdffffff]\r\n",
      "\u001b[32m[    0.006121] \u001b[0mNODE_DATA(0) allocated [mem 0x10bdfd5000-0x10bdffffff]\r\n",
      "\u001b[32m[    0.006244] \u001b[0mZone ranges:\r\n",
      "\u001b[32m[    0.006244] \u001b[0m  DMA      [mem 0x0000000000001000-0x0000000000ffffff]\r\n",
      "\u001b[32m[    0.006245] \u001b[0m  DMA32    [mem 0x0000000001000000-0x00000000ffffffff]\r\n",
      "\u001b[32m[    0.006246] \u001b[0m  Normal   [mem 0x0000000100000000-0x00000010bdffffff]\r\n",
      "\u001b[32m[    0.006246] \u001b[0m  Device   empty\r\n",
      "\u001b[32m[    0.006246] \u001b[0mMovable zone start for each node\r\n",
      "\u001b[32m[    0.006248] \u001b[0mEarly memory node ranges\r\n",
      "\u001b[32m[    0.006249] \u001b[0m\u001b[33m  node   0\u001b[0m: [mem 0x0000000000001000-0x000000000009cfff]\r\n",
      "\u001b[32m[    0.006249] \u001b[0m\u001b[33m  node   0\u001b[0m: [mem 0x0000000000100000-0x00000000385fcfff]\r\n",
      "\u001b[32m[    0.006250] \u001b[0m\u001b[33m  node   0\u001b[0m: [mem 0x00000000385ff000-0x000000003da14fff]\r\n",
      "\u001b[32m[    0.006250] \u001b[0m\u001b[33m  node   0\u001b[0m: [mem 0x000000003de94000-0x000000003e012fff]\r\n",
      "\u001b[32m[    0.006250] \u001b[0m\u001b[33m  node   0\u001b[0m: [mem 0x000000003eeff000-0x000000003eefffff]\r\n",
      "\u001b[32m[    0.006250] \u001b[0m\u001b[33m  node   0\u001b[0m: [mem 0x0000000100000000-0x00000010bdffffff]\r\n",
      "\u001b[32m[    0.006296] \u001b[0m\u001b[33mZeroed struct page in unavailable ranges\u001b[0m: 9425 pages\r\n",
      "\u001b[32m[    0.006297] \u001b[0mInitmem setup node 0 [mem 0x0000000000001000-0x00000010bdffffff]\r\n",
      "\u001b[32m[    0.006298] \u001b[0m\u001b[33mOn node 0 totalpages\u001b[0m: 16759599\r\n",
      "\u001b[32m[    0.006298] \u001b[0m\u001b[33m  DMA zone\u001b[0m: 64 pages used for memmap\r\n",
      "\u001b[32m[    0.006299] \u001b[0m\u001b[33m  DMA zone\u001b[0m: 21 pages reserved\r\n",
      "\u001b[32m[    0.006299] \u001b[0m\u001b[33m  DMA zone\u001b[0m: 3996 pages, LIFO batch:0\r\n",
      "\u001b[32m[    0.006324] \u001b[0m\u001b[33m  DMA32 zone\u001b[0m: 3887 pages used for memmap\r\n",
      "\u001b[32m[    0.006324] \u001b[0m\u001b[33m  DMA32 zone\u001b[0m: 248723 pages, LIFO batch:63\r\n",
      "\u001b[32m[    0.009605] \u001b[0m\u001b[33m  Normal zone\u001b[0m: 257920 pages used for memmap\r\n",
      "\u001b[32m[    0.009605] \u001b[0m\u001b[33m  Normal zone\u001b[0m: 16506880 pages, LIFO batch:63\r\n",
      "\u001b[32m[    0.105338] \u001b[0m\u001b[33mACPI\u001b[0m: PM-Timer IO Port: 0x1808\r\n",
      "\u001b[32m[    0.105340] \u001b[0m\u001b[33mACPI\u001b[0m: Local APIC address 0xfee00000\r\n",
      "\u001b[32m[    0.105344] \u001b[0m\u001b[33mACPI\u001b[0m: LAPIC_NMI (acpi_id[0x01] high edge lint[0x1])\r\n",
      "\u001b[32m[    0.105344] \u001b[0m\u001b[33mACPI\u001b[0m: LAPIC_NMI (acpi_id[0x02] high edge lint[0x1])\r\n",
      "\u001b[32m[    0.105345] \u001b[0m\u001b[33mACPI\u001b[0m: LAPIC_NMI (acpi_id[0x03] high edge lint[0x1])\r\n",
      "\u001b[32m[    0.105345] \u001b[0m\u001b[33mACPI\u001b[0m: LAPIC_NMI (acpi_id[0x04] high edge lint[0x1])\r\n",
      "\u001b[32m[    0.105345] \u001b[0m\u001b[33mACPI\u001b[0m: LAPIC_NMI (acpi_id[0x05] high edge lint[0x1])\r\n",
      "\u001b[32m[    0.105345] \u001b[0m\u001b[33mACPI\u001b[0m: LAPIC_NMI (acpi_id[0x06] high edge lint[0x1])\r\n",
      "\u001b[32m[    0.105346] \u001b[0m\u001b[33mACPI\u001b[0m: LAPIC_NMI (acpi_id[0x07] high edge lint[0x1])\r\n",
      "\u001b[32m[    0.105346] \u001b[0m\u001b[33mACPI\u001b[0m: LAPIC_NMI (acpi_id[0x08] high edge lint[0x1])\r\n",
      "\u001b[32m[    0.105346] \u001b[0m\u001b[33mACPI\u001b[0m: LAPIC_NMI (acpi_id[0x09] high edge lint[0x1])\r\n",
      "\u001b[32m[    0.105346] \u001b[0m\u001b[33mACPI\u001b[0m: LAPIC_NMI (acpi_id[0x0a] high edge lint[0x1])\r\n",
      "\u001b[32m[    0.105347] \u001b[0m\u001b[33mACPI\u001b[0m: LAPIC_NMI (acpi_id[0x0b] high edge lint[0x1])\r\n",
      "\u001b[32m[    0.105347] \u001b[0m\u001b[33mACPI\u001b[0m: LAPIC_NMI (acpi_id[0x0c] high edge lint[0x1])\r\n",
      "\u001b[32m[    0.105347] \u001b[0m\u001b[33mACPI\u001b[0m: LAPIC_NMI (acpi_id[0x0d] high edge lint[0x1])\r\n",
      "\u001b[32m[    0.105348] \u001b[0m\u001b[33mACPI\u001b[0m: LAPIC_NMI (acpi_id[0x0e] high edge lint[0x1])\r\n",
      "\u001b[32m[    0.105348] \u001b[0m\u001b[33mACPI\u001b[0m: LAPIC_NMI (acpi_id[0x0f] high edge lint[0x1])\r\n",
      "\u001b[32m[    0.105348] \u001b[0m\u001b[33mACPI\u001b[0m: LAPIC_NMI (acpi_id[0x10] high edge lint[0x1])\r\n",
      "\u001b[32m[    0.105383] \u001b[0m\u001b[33mIOAPIC[0]\u001b[0m: apic_id 2, version 32, address 0xfec00000, GSI 0-119\r\n",
      "\u001b[32m[    0.105385] \u001b[0m\u001b[33mACPI\u001b[0m: INT_SRC_OVR (bus 0 bus_irq 0 global_irq 2 dfl dfl)\r\n",
      "\u001b[32m[    0.105385] \u001b[0m\u001b[33mACPI\u001b[0m: INT_SRC_OVR (bus 0 bus_irq 9 global_irq 9 high level)\r\n",
      "\u001b[32m[    0.105386] \u001b[0m\u001b[33mACPI\u001b[0m: IRQ0 used by override.\r\n",
      "\u001b[32m[    0.105387] \u001b[0m\u001b[33mACPI\u001b[0m: IRQ9 used by override.\r\n",
      "\u001b[32m[    0.105388] \u001b[0mUsing ACPI (MADT) for SMP configuration information\r\n",
      "\u001b[32m[    0.105388] \u001b[0m\u001b[33mACPI\u001b[0m: HPET id: 0x8086a201 base: 0xfed00000\r\n",
      "\u001b[32m[    0.105390] \u001b[0m\u001b[33msmpboot\u001b[0m: Allowing 16 CPUs, 0 hotplug CPUs\r\n",
      "\u001b[32m[    0.105398] \u001b[0m\u001b[33mPM\u001b[0m: Registered nosave memory: [mem 0x00000000-0x00000fff]\r\n",
      "\u001b[32m[    0.105399] \u001b[0m\u001b[33mPM\u001b[0m: Registered nosave memory: [mem 0x0009d000-0x0009dfff]\r\n",
      "\u001b[32m[    0.105399] \u001b[0m\u001b[33mPM\u001b[0m: Registered nosave memory: [mem 0x0009e000-0x0009ffff]\r\n",
      "\u001b[32m[    0.105400] \u001b[0m\u001b[33mPM\u001b[0m: Registered nosave memory: [mem 0x000a0000-0x000dffff]\r\n",
      "\u001b[32m[    0.105400] \u001b[0m\u001b[33mPM\u001b[0m: Registered nosave memory: [mem 0x000e0000-0x000fffff]\r\n",
      "\u001b[32m[    0.105401] \u001b[0m\u001b[33mPM\u001b[0m: Registered nosave memory: [mem 0x385fd000-0x385fdfff]\r\n",
      "\u001b[32m[    0.105401] \u001b[0m\u001b[33mPM\u001b[0m: Registered nosave memory: [mem 0x385fe000-0x385fefff]\r\n",
      "\u001b[32m[    0.105401] \u001b[0m\u001b[33mPM\u001b[0m: Registered nosave memory: [mem 0x3da15000-0x3de93fff]\r\n",
      "\u001b[32m[    0.105402] \u001b[0m\u001b[33mPM\u001b[0m: Registered nosave memory: [mem 0x3e013000-0x3e41bfff]\r\n",
      "\u001b[32m[    0.105402] \u001b[0m\u001b[33mPM\u001b[0m: Registered nosave memory: [mem 0x3e41c000-0x3eefefff]\r\n",
      "\u001b[32m[    0.105403] \u001b[0m\u001b[33mPM\u001b[0m: Registered nosave memory: [mem 0x3ef00000-0x3fffffff]\r\n",
      "\u001b[32m[    0.105403] \u001b[0m\u001b[33mPM\u001b[0m: Registered nosave memory: [mem 0x40000000-0xdfffffff]\r\n",
      "\u001b[32m[    0.105404] \u001b[0m\u001b[33mPM\u001b[0m: Registered nosave memory: [mem 0xe0000000-0xefffffff]\r\n",
      "\u001b[32m[    0.105404] \u001b[0m\u001b[33mPM\u001b[0m: Registered nosave memory: [mem 0xf0000000-0xfdffffff]\r\n",
      "\u001b[32m[    0.105404] \u001b[0m\u001b[33mPM\u001b[0m: Registered nosave memory: [mem 0xfe000000-0xfe010fff]\r\n",
      "\u001b[32m[    0.105404] \u001b[0m\u001b[33mPM\u001b[0m: Registered nosave memory: [mem 0xfe011000-0xfebfffff]\r\n",
      "\u001b[32m[    0.105405] \u001b[0m\u001b[33mPM\u001b[0m: Registered nosave memory: [mem 0xfec00000-0xfec00fff]\r\n",
      "\u001b[32m[    0.105405] \u001b[0m\u001b[33mPM\u001b[0m: Registered nosave memory: [mem 0xfec01000-0xfedfffff]\r\n",
      "\u001b[32m[    0.105405] \u001b[0m\u001b[33mPM\u001b[0m: Registered nosave memory: [mem 0xfee00000-0xfee00fff]\r\n",
      "\u001b[32m[    0.105405] \u001b[0m\u001b[33mPM\u001b[0m: Registered nosave memory: [mem 0xfee01000-0xfeffffff]\r\n",
      "\u001b[32m[    0.105406] \u001b[0m\u001b[33mPM\u001b[0m: Registered nosave memory: [mem 0xff000000-0xffffffff]\r\n",
      "\u001b[32m[    0.105406] \u001b[0m[mem 0x40000000-0xdfffffff] available for PCI devices\r\n",
      "\u001b[32m[    0.105407] \u001b[0mBooting paravirtualized kernel on bare hardware\r\n",
      "\u001b[32m[    0.105409] \u001b[0m\u001b[33mclocksource\u001b[0m: refined-jiffies: mask: 0xffffffff max_cycles: 0xffffffff, max_idle_ns: 7645519600211568 ns\r\n",
      "\u001b[32m[    0.105411] \u001b[0m\u001b[33msetup_percpu\u001b[0m: NR_CPUS:8192 nr_cpumask_bits:16 nr_cpu_ids:16 nr_node_ids:1\r\n",
      "\u001b[32m[    0.105610] \u001b[0m\u001b[33mpercpu\u001b[0m: Embedded 54 pages/cpu s184320 r8192 d28672 u262144\r\n",
      "\u001b[32m[    0.105613] \u001b[0m\u001b[33mpcpu-alloc\u001b[0m: s184320 r8192 d28672 u262144 alloc=1*2097152\r\n",
      "\u001b[32m[    0.105613] \u001b[0m\u001b[33mpcpu-alloc\u001b[0m: [0] 00 01 02 03 04 05 06 07 [0] 08 09 10 11 12 13 14 15 \r\n",
      "\u001b[32m[    0.105628] \u001b[0m\u001b[33mBuilt 1 zonelists, mobility grouping on.  Total pages\u001b[0m: 16497707\r\n",
      "\u001b[32m[    0.105628] \u001b[0m\u001b[33mPolicy zone\u001b[0m: Normal\r\n",
      "\u001b[32m[    0.105629] \u001b[0m\u001b[33mKernel command line\u001b[0m: BOOT_IMAGE=/boot/vmlinuz-5.3.0-26-generic root=/dev/mapper/ubuntu--vg-root ro quiet splash vt.handoff=1\r\n",
      "\u001b[32m[    0.107694] \u001b[0m\u001b[33mDentry cache hash table entries\u001b[0m: 8388608 (order: 14, 67108864 bytes, linear)\r\n",
      "\u001b[32m[    0.108698] \u001b[0m\u001b[33mInode-cache hash table entries\u001b[0m: 4194304 (order: 13, 33554432 bytes, linear)\r\n",
      "\u001b[32m[    0.108893] \u001b[0m\u001b[33mmem auto-init\u001b[0m: stack:off, heap alloc:on, heap free:off\r\n",
      "\u001b[32m[    0.110952] \u001b[0m\u001b[33mCalgary\u001b[0m: detecting Calgary via BIOS EBDA area\r\n",
      "\u001b[32m[    0.110953] \u001b[0m\u001b[33mCalgary\u001b[0m: Unable to locate Rio Grande table in EBDA - bailing!\r\n",
      "\u001b[32m[    0.211516] \u001b[0m\u001b[33mMemory\u001b[0m: 65749220K/67038396K available (14339K kernel code, 2370K rwdata, 4668K rodata, 2660K init, 5076K bss, 1289176K reserved, 0K cma-reserved)\r\n",
      "\u001b[32m[    0.211604] \u001b[0m\u001b[33mSLUB\u001b[0m: HWalign=64, Order=0-3, MinObjects=0, CPUs=16, Nodes=1\r\n",
      "\u001b[32m[    0.211611] \u001b[0m\u001b[33mftrace\u001b[0m: allocating 42927 entries in 168 pages\r\n",
      "\u001b[32m[    0.220641] \u001b[0m\u001b[33mrcu\u001b[0m: Hierarchical RCU implementation.\r\n",
      "\u001b[32m[    0.220642] \u001b[0m\u001b[33mrcu\u001b[0m: \tRCU restricting CPUs from NR_CPUS=8192 to nr_cpu_ids=16.\r\n",
      "\u001b[32m[    0.220643] \u001b[0m\tTasks RCU enabled.\r\n",
      "\u001b[32m[    0.220643] \u001b[0m\u001b[33mrcu\u001b[0m: RCU calculated value of scheduler-enlistment delay is 25 jiffies.\r\n",
      "\u001b[32m[    0.220644] \u001b[0m\u001b[33mrcu\u001b[0m: Adjusting geometry for rcu_fanout_leaf=16, nr_cpu_ids=16\r\n",
      "\u001b[32m[    0.222205] \u001b[0m\u001b[33mNR_IRQS\u001b[0m: 524544, nr_irqs: 2184, preallocated irqs: 16\r\n",
      "\u001b[32m[    0.222557] \u001b[0m\u001b[33mrandom\u001b[0m: crng done (trusting CPU's manufacturer)\r\n",
      "\u001b[32m[    0.222574] \u001b[0m\u001b[33mvt handoff\u001b[0m: transparent VT on vt#1\r\n",
      "\u001b[32m[    0.222577] \u001b[0m\u001b[33mConsole\u001b[0m: colour dummy device 80x25\r\n",
      "\u001b[32m[    0.222580] \u001b[0m\u001b[33mprintk\u001b[0m: console [tty0] enabled\r\n",
      "\u001b[32m[    0.222590] \u001b[0m\u001b[33mACPI\u001b[0m: Core revision 20190703\r\n",
      "\u001b[32m[    0.222849] \u001b[0m\u001b[33mclocksource\u001b[0m: hpet: mask: 0xffffffff max_cycles: 0xffffffff, max_idle_ns: 79635855245 ns\r\n",
      "\u001b[32m[    0.222939] \u001b[0m\u001b[33mAPIC\u001b[0m: Switch to symmetric I/O mode setup\r\n",
      "\u001b[32m[    0.222940] \u001b[0m\u001b[33mDMAR\u001b[0m: Host address width 39\r\n",
      "\u001b[32m[    0.222940] \u001b[0m\u001b[33mDMAR\u001b[0m: DRHD base: 0x000000fed91000 flags: 0x1\r\n",
      "\u001b[32m[    0.222943] \u001b[0m\u001b[33mDMAR\u001b[0m: dmar0: reg_base_addr fed91000 ver 1:0 cap d2008c40660462 ecap f050da\r\n",
      "\u001b[32m[    0.222944] \u001b[0m\u001b[33mDMAR\u001b[0m: RMRR base: 0x0000003e88e000 end: 0x0000003ead7fff\r\n",
      "\u001b[32m[    0.222945] \u001b[0m\u001b[33mDMAR-IR\u001b[0m: IOAPIC id 2 under DRHD base  0xfed91000 IOMMU 0\r\n",
      "\u001b[32m[    0.222945] \u001b[0m\u001b[33mDMAR-IR\u001b[0m: HPET id 0 under DRHD base 0xfed91000\r\n",
      "\u001b[32m[    0.222946] \u001b[0m\u001b[33mDMAR-IR\u001b[0m: Queued invalidation will be enabled to support x2apic and Intr-remapping.\r\n",
      "\u001b[32m[    0.224308] \u001b[0m\u001b[33mDMAR-IR\u001b[0m: Enabled IRQ remapping in x2apic mode\r\n",
      "\u001b[32m[    0.224309] \u001b[0mx2apic enabled\r\n",
      "\u001b[32m[    0.224334] \u001b[0mSwitched APIC routing to cluster x2apic.\r\n",
      "\u001b[32m[    0.228993] \u001b[0m\u001b[33m..TIMER\u001b[0m: vector=0x30 apic1=0 pin1=2 apic2=-1 pin2=-1\r\n",
      "\u001b[32m[    0.246904] \u001b[0m\u001b[33mclocksource\u001b[0m: tsc-early: mask: 0xffffffffffffffff max_cycles: 0x33e452fbb2f, max_idle_ns: 440795236593 ns\r\n",
      "\u001b[32m[    0.246907] \u001b[0mCalibrating delay loop (skipped), value calculated using timer frequency.. 7200.00 BogoMIPS (lpj=14400000)\r\n",
      "\u001b[32m[    0.246909] \u001b[0m\u001b[33mpid_max\u001b[0m: default: 32768 minimum: 301\r\n",
      "\u001b[32m[    0.246931] \u001b[0m\u001b[33mLSM\u001b[0m: Security Framework initializing\r\n",
      "\u001b[32m[    0.246937] \u001b[0m\u001b[33mYama\u001b[0m: becoming mindful.\r\n",
      "\u001b[32m[    0.246978] \u001b[0m\u001b[33mAppArmor\u001b[0m: AppArmor initialized\r\n",
      "\u001b[32m[    0.247072] \u001b[0m\u001b[33mMount-cache hash table entries\u001b[0m: 131072 (order: 8, 1048576 bytes, linear)\r\n",
      "\u001b[32m[    0.247158] \u001b[0m\u001b[33mMountpoint-cache hash table entries\u001b[0m: 131072 (order: 8, 1048576 bytes, linear)\r\n",
      "\u001b[32m[    0.247250] \u001b[0m*** VALIDATE proc ***\r\n",
      "\u001b[32m[    0.247280] \u001b[0m*** VALIDATE cgroup1 ***\r\n",
      "\u001b[32m[    0.247281] \u001b[0m*** VALIDATE cgroup2 ***\r\n",
      "\u001b[32m[    0.247315] \u001b[0m\u001b[33mmce\u001b[0m: CPU0: Thermal monitoring enabled (TM1)\r\n",
      "\u001b[32m[    0.247333] \u001b[0m\u001b[33mprocess\u001b[0m: using mwait in idle threads\r\n",
      "\u001b[32m[    0.247334] \u001b[0m\u001b[33mLast level iTLB entries\u001b[0m: 4KB 64, 2MB 8, 4MB 8\r\n",
      "\u001b[32m[    0.247334] \u001b[0m\u001b[33mLast level dTLB entries\u001b[0m: 4KB 64, 2MB 0, 4MB 0, 1GB 4\r\n",
      "\u001b[32m[    0.247336] \u001b[0m\u001b[33mSpectre V1 \u001b[0m: Mitigation: usercopy/swapgs barriers and __user pointer sanitization\r\n",
      "\u001b[32m[    0.247337] \u001b[0m\u001b[33mSpectre V2 \u001b[0m: Mitigation: Full generic retpoline\r\n",
      "\u001b[32m[    0.247337] \u001b[0m\u001b[33mSpectre V2 \u001b[0m: Spectre v2 / SpectreRSB mitigation: Filling RSB on context switch\r\n",
      "\u001b[32m[    0.247337] \u001b[0m\u001b[33mSpectre V2 \u001b[0m: Enabling Restricted Speculation for firmware calls\r\n",
      "\u001b[32m[    0.247338] \u001b[0m\u001b[33mSpectre V2 \u001b[0m: mitigation: Enabling conditional Indirect Branch Prediction Barrier\r\n",
      "\u001b[32m[    0.247338] \u001b[0m\u001b[33mSpectre V2 \u001b[0m: User space: Mitigation: STIBP via seccomp and prctl\r\n",
      "\u001b[32m[    0.247339] \u001b[0m\u001b[33mSpeculative Store Bypass\u001b[0m: Mitigation: Speculative Store Bypass disabled via prctl and seccomp\r\n",
      "\u001b[32m[    0.247340] \u001b[0m\u001b[33mMDS\u001b[0m: Mitigation: Clear CPU buffers\r\n",
      "\u001b[32m[    0.247341] \u001b[0m\u001b[33mTAA\u001b[0m: Mitigation: Clear CPU buffers\r\n",
      "\u001b[32m[    0.247484] \u001b[0m\u001b[33mFreeing SMP alternatives memory\u001b[0m: 40K\r\n",
      "\u001b[32m[    0.248737] \u001b[0mTSC deadline timer enabled\r\n",
      "\u001b[32m[    0.248742] \u001b[0m\u001b[33msmpboot\u001b[0m: CPU0: Intel(R) Core(TM) i9-9900KF CPU @ 3.60GHz (family: 0x6, model: 0x9e, stepping: 0xc)\r\n",
      "\u001b[32m[    0.248796] \u001b[0m\u001b[33mPerformance Events\u001b[0m: PEBS fmt3+, Skylake events, 32-deep LBR, full-width counters, Intel PMU driver.\r\n",
      "\u001b[32m[    0.248799] \u001b[0m\u001b[33m... version\u001b[0m:                4\r\n",
      "\u001b[32m[    0.248800] \u001b[0m\u001b[33m... bit width\u001b[0m:              48\r\n",
      "\u001b[32m[    0.248800] \u001b[0m\u001b[33m... generic registers\u001b[0m:      4\r\n",
      "\u001b[32m[    0.248800] \u001b[0m\u001b[33m... value mask\u001b[0m:             0000ffffffffffff\r\n",
      "\u001b[32m[    0.248800] \u001b[0m\u001b[33m... max period\u001b[0m:             00007fffffffffff\r\n",
      "\u001b[32m[    0.248801] \u001b[0m\u001b[33m... fixed-purpose events\u001b[0m:   3\r\n",
      "\u001b[32m[    0.248801] \u001b[0m\u001b[33m... event mask\u001b[0m:             000000070000000f\r\n",
      "\u001b[32m[    0.248824] \u001b[0m\u001b[33mrcu\u001b[0m: Hierarchical SRCU implementation.\r\n",
      "\u001b[32m[    0.249537] \u001b[0m\u001b[33mNMI watchdog\u001b[0m: Enabled. Permanently consumes one hw-PMU counter.\r\n",
      "\u001b[32m[    0.249605] \u001b[0m\u001b[33msmp\u001b[0m: Bringing up secondary CPUs ...\r\n",
      "\u001b[32m[    0.249652] \u001b[0m\u001b[33mx86\u001b[0m: Booting SMP configuration:\r\n",
      "\u001b[32m[    0.249653] \u001b[0m\u001b[33m.... node  #0, CPUs\u001b[0m:        #1  #2  #3  #4  #5  #6  #7  #8\r\n",
      "\u001b[32m[    0.251417] \u001b[0m\u001b[1mMDS CPU bug present and SMT on, data leak possible. See https://www.kernel.org/doc/html/latest/admin-guide/hw-vuln/mds.html for more details.\u001b[0m\r\n",
      "\u001b[32m[    0.251417] \u001b[0m\u001b[1mTAA CPU bug present and SMT on, data leak possible. See https://www.kernel.org/doc/html/latest/admin-guide/hw-vuln/tsx_async_abort.html for more details.\u001b[0m\r\n",
      "\u001b[32m[    0.251417] \u001b[0m\u001b[1m  #9 #10 #11 #12 #13 #14 #15\u001b[0m\r\n",
      "\u001b[32m[    0.251417] \u001b[0m\u001b[33msmp\u001b[0m: Brought up 1 node, 16 CPUs\r\n",
      "\u001b[32m[    0.251417] \u001b[0m\u001b[33msmpboot\u001b[0m: Max logical packages: 1\r\n",
      "\u001b[32m[    0.251417] \u001b[0m\u001b[33msmpboot\u001b[0m: Total of 16 processors activated (115200.00 BogoMIPS)\r\n",
      "\u001b[32m[    0.255938] \u001b[0m\u001b[33mdevtmpfs\u001b[0m: initialized\r\n",
      "\u001b[32m[    0.255938] \u001b[0m\u001b[33mx86/mm\u001b[0m: Memory block size: 128MB\r\n",
      "\u001b[32m[    0.262637] \u001b[0m\u001b[33mPM\u001b[0m: Registering ACPI NVS region [mem 0x385fd000-0x385fdfff] (4096 bytes)\r\n",
      "\u001b[32m[    0.262637] \u001b[0m\u001b[33mPM\u001b[0m: Registering ACPI NVS region [mem 0x3e013000-0x3e41bfff] (4231168 bytes)\r\n",
      "\u001b[32m[    0.262637] \u001b[0m\u001b[33mclocksource\u001b[0m: jiffies: mask: 0xffffffff max_cycles: 0xffffffff, max_idle_ns: 7645041785100000 ns\r\n",
      "\u001b[32m[    0.262637] \u001b[0m\u001b[33mfutex hash table entries\u001b[0m: 4096 (order: 6, 262144 bytes, linear)\r\n",
      "\u001b[32m[    0.262637] \u001b[0m\u001b[33mpinctrl core\u001b[0m: initialized pinctrl subsystem\r\n",
      "\u001b[32m[    0.262917] \u001b[0m\u001b[33mPM\u001b[0m: RTC time: 00:31:06, date: 2020-05-15\r\n",
      "\u001b[32m[    0.262979] \u001b[0m\u001b[33mNET\u001b[0m: Registered protocol family 16\r\n",
      "\u001b[32m[    0.263027] \u001b[0m\u001b[33maudit\u001b[0m: initializing netlink subsys (disabled)\r\n",
      "\u001b[32m[    0.263033] \u001b[0m\u001b[33maudit\u001b[0m: type=2000 audit(1589502666.040:1): state=initialized audit_enabled=0 res=1\r\n",
      "\u001b[32m[    0.263033] \u001b[0mEISA bus registered\r\n",
      "\u001b[32m[    0.263033] \u001b[0m\u001b[33mcpuidle\u001b[0m: using governor ladder\r\n",
      "\u001b[32m[    0.263033] \u001b[0m\u001b[33mcpuidle\u001b[0m: using governor menu\r\n",
      "\u001b[32m[    0.263033] \u001b[0mACPI FADT declares the system doesn't support PCIe ASPM, so disable it\r\n",
      "\u001b[32m[    0.263033] \u001b[0m\u001b[33mACPI\u001b[0m: bus type PCI registered\r\n",
      "\u001b[32m[    0.263033] \u001b[0m\u001b[33macpiphp\u001b[0m: ACPI Hot Plug PCI Controller Driver version: 0.5\r\n",
      "\u001b[32m[    0.263033] \u001b[0m\u001b[33mPCI\u001b[0m: MMCONFIG for domain 0000 [bus 00-ff] at [mem 0xe0000000-0xefffffff] (base 0xe0000000)\r\n",
      "\u001b[32m[    0.263033] \u001b[0m\u001b[33mPCI\u001b[0m: MMCONFIG at [mem 0xe0000000-0xefffffff] reserved in E820\r\n",
      "\u001b[32m[    0.263033] \u001b[0m\u001b[33mPCI\u001b[0m: Using configuration type 1 for base access\r\n",
      "\u001b[32m[    0.268936] \u001b[0mHugeTLB registered 1.00 GiB page size, pre-allocated 0 pages\r\n",
      "\u001b[32m[    0.268936] \u001b[0mHugeTLB registered 2.00 MiB page size, pre-allocated 0 pages\r\n",
      "\u001b[32m[    0.268936] \u001b[0m\u001b[33mACPI\u001b[0m: Added _OSI(Module Device)\r\n",
      "\u001b[32m[    0.268936] \u001b[0m\u001b[33mACPI\u001b[0m: Added _OSI(Processor Device)\r\n",
      "\u001b[32m[    0.268936] \u001b[0m\u001b[33mACPI\u001b[0m: Added _OSI(3.0 _SCP Extensions)\r\n",
      "\u001b[32m[    0.268936] \u001b[0m\u001b[33mACPI\u001b[0m: Added _OSI(Processor Aggregator Device)\r\n",
      "\u001b[32m[    0.268936] \u001b[0m\u001b[33mACPI\u001b[0m: Added _OSI(Linux-Dell-Video)\r\n",
      "\u001b[32m[    0.268936] \u001b[0m\u001b[33mACPI\u001b[0m: Added _OSI(Linux-Lenovo-NV-HDMI-Audio)\r\n",
      "\u001b[32m[    0.268936] \u001b[0m\u001b[33mACPI\u001b[0m: Added _OSI(Linux-HPI-Hybrid-Graphics)\r\n",
      "\u001b[32m[    0.320497] \u001b[0m\u001b[33mACPI\u001b[0m: 10 ACPI AML tables successfully acquired and loaded\r\n",
      "\u001b[32m[    0.328588] \u001b[0m\u001b[33mACPI\u001b[0m: Dynamic OEM Table Load:\r\n",
      "\u001b[32m[    0.328592] \u001b[0m\u001b[33mACPI\u001b[0m: SSDT 0xFFFF8D65368D3800 00078C (v02 PmRef  Cpu0Ist  00003000 INTL 20160527)\r\n",
      "\u001b[32m[    0.329736] \u001b[0m\u001b[33mACPI\u001b[0m: \\_SB_.PR00: _OSC native thermal LVT Acked\r\n",
      "\u001b[32m[    0.330904] \u001b[0m\u001b[33mACPI\u001b[0m: Dynamic OEM Table Load:\r\n",
      "\u001b[32m[    0.330908] \u001b[0m\u001b[33mACPI\u001b[0m: SSDT 0xFFFF8D6536799000 000400 (v02 PmRef  Cpu0Cst  00003001 INTL 20160527)\r\n",
      "\u001b[32m[    0.331946] \u001b[0m\u001b[33mACPI\u001b[0m: Dynamic OEM Table Load:\r\n",
      "\u001b[32m[    0.331949] \u001b[0m\u001b[33mACPI\u001b[0m: SSDT 0xFFFF8D6536508C00 00011B (v02 PmRef  Cpu0Hwp  00003000 INTL 20160527)\r\n",
      "\u001b[32m[    0.332945] \u001b[0m\u001b[33mACPI\u001b[0m: Dynamic OEM Table Load:\r\n",
      "\u001b[32m[    0.332948] \u001b[0m\u001b[33mACPI\u001b[0m: SSDT 0xFFFF8D65368D7000 000724 (v02 PmRef  HwpLvt   00003000 INTL 20160527)\r\n",
      "\u001b[32m[    0.334219] \u001b[0m\u001b[33mACPI\u001b[0m: Dynamic OEM Table Load:\r\n",
      "\u001b[32m[    0.334223] \u001b[0m\u001b[33mACPI\u001b[0m: SSDT 0xFFFF8D6536BF5000 000EF1 (v02 PmRef  ApIst    00003000 INTL 20160527)\r\n",
      "\u001b[32m[    0.335804] \u001b[0m\u001b[33mACPI\u001b[0m: Dynamic OEM Table Load:\r\n",
      "\u001b[32m[    0.335807] \u001b[0m\u001b[33mACPI\u001b[0m: SSDT 0xFFFF8D653679D800 000317 (v02 PmRef  ApHwp    00003000 INTL 20160527)\r\n",
      "\u001b[32m[    0.336869] \u001b[0m\u001b[33mACPI\u001b[0m: Dynamic OEM Table Load:\r\n",
      "\u001b[32m[    0.336872] \u001b[0m\u001b[33mACPI\u001b[0m: SSDT 0xFFFF8D653679C000 00030A (v02 PmRef  ApCst    00003000 INTL 20160527)\r\n",
      "\u001b[32m[    0.342616] \u001b[0m\u001b[33mACPI\u001b[0m: Interpreter enabled\r\n",
      "\u001b[32m[    0.342640] \u001b[0m\u001b[33mACPI\u001b[0m: (supports S0 S3 S4 S5)\r\n",
      "\u001b[32m[    0.342641] \u001b[0m\u001b[33mACPI\u001b[0m: Using IOAPIC for interrupt routing\r\n",
      "\u001b[32m[    0.342665] \u001b[0m\u001b[33mPCI\u001b[0m: Using host bridge windows from ACPI; if necessary, use \"pci=nocrs\" and report a bug\r\n",
      "\u001b[32m[    0.343572] \u001b[0m\u001b[33mACPI\u001b[0m: Enabled 6 GPEs in block 00 to 7F\r\n",
      "\u001b[32m[    0.353271] \u001b[0m\u001b[33mACPI\u001b[0m: Power Resource [USBC] (on)\r\n",
      "\u001b[32m[    0.355528] \u001b[0m\u001b[33mACPI\u001b[0m: Power Resource [V0PR] (on)\r\n",
      "\u001b[32m[    0.355678] \u001b[0m\u001b[33mACPI\u001b[0m: Power Resource [V1PR] (on)\r\n",
      "\u001b[32m[    0.355823] \u001b[0m\u001b[33mACPI\u001b[0m: Power Resource [V2PR] (on)\r\n",
      "\u001b[32m[    0.359983] \u001b[0m\u001b[33mACPI\u001b[0m: Power Resource [WRST] (on)\r\n",
      "\u001b[32m[    0.363505] \u001b[0m\u001b[33mACPI\u001b[0m: Power Resource [FN00] (off)\r\n",
      "\u001b[32m[    0.363566] \u001b[0m\u001b[33mACPI\u001b[0m: Power Resource [FN01] (off)\r\n",
      "\u001b[32m[    0.363626] \u001b[0m\u001b[33mACPI\u001b[0m: Power Resource [FN02] (off)\r\n",
      "\u001b[32m[    0.363687] \u001b[0m\u001b[33mACPI\u001b[0m: Power Resource [FN03] (off)\r\n",
      "\u001b[32m[    0.363745] \u001b[0m\u001b[33mACPI\u001b[0m: Power Resource [FN04] (off)\r\n",
      "\u001b[32m[    0.364210] \u001b[0m\u001b[33mACPI\u001b[0m: Power Resource [PIN] (off)\r\n",
      "\u001b[32m[    0.364676] \u001b[0m\u001b[33mACPI\u001b[0m: PCI Root Bridge [PCI0] (domain 0000 [bus 00-fe])\r\n",
      "\u001b[32m[    0.364680] \u001b[0m\u001b[33macpi PNP0A08:00\u001b[0m: _OSC: OS supports [ExtendedConfig ASPM ClockPM Segments MSI HPX-Type3]\r\n",
      "\u001b[32m[    0.364822] \u001b[0m\u001b[33macpi PNP0A08:00\u001b[0m: _OSC: platform does not support [PCIeHotplug SHPCHotplug PME]\r\n",
      "\u001b[32m[    0.364956] \u001b[0m\u001b[33macpi PNP0A08:00\u001b[0m: _OSC: OS now controls [AER PCIeCapability LTR]\r\n",
      "\u001b[32m[    0.364956] \u001b[0m\u001b[33macpi PNP0A08:00\u001b[0m: FADT indicates ASPM is unsupported, using BIOS configuration\r\n",
      "\u001b[32m[    0.365732] \u001b[0mPCI host bridge to bus 0000:00\r\n",
      "\u001b[32m[    0.365733] \u001b[0m\u001b[33mpci_bus 0000:00\u001b[0m: root bus resource [io  0x0000-0x0cf7 window]\r\n",
      "\u001b[32m[    0.365734] \u001b[0m\u001b[33mpci_bus 0000:00\u001b[0m: root bus resource [io  0x0d00-0xffff window]\r\n",
      "\u001b[32m[    0.365734] \u001b[0m\u001b[33mpci_bus 0000:00\u001b[0m: root bus resource [mem 0x000a0000-0x000bffff window]\r\n",
      "\u001b[32m[    0.365735] \u001b[0m\u001b[33mpci_bus 0000:00\u001b[0m: root bus resource [mem 0x40000000-0xdfffffff window]\r\n",
      "\u001b[32m[    0.365735] \u001b[0m\u001b[33mpci_bus 0000:00\u001b[0m: root bus resource [mem 0xfc800000-0xfe7fffff window]\r\n",
      "\u001b[32m[    0.365736] \u001b[0m\u001b[33mpci_bus 0000:00\u001b[0m: root bus resource [bus 00-fe]\r\n",
      "\u001b[32m[    0.365741] \u001b[0m\u001b[33mpci 0000:00:00.0\u001b[0m: [8086:3e30] type 00 class 0x060000\r\n",
      "\u001b[32m[    0.366009] \u001b[0m\u001b[33mpci 0000:00:01.0\u001b[0m: [8086:1901] type 01 class 0x060400\r\n",
      "\u001b[32m[    0.366039] \u001b[0m\u001b[33mpci 0000:00:01.0\u001b[0m: PME# supported from D0 D3hot D3cold\r\n",
      "\u001b[32m[    0.366283] \u001b[0m\u001b[33mpci 0000:00:12.0\u001b[0m: [8086:a379] type 00 class 0x118000\r\n",
      "\u001b[32m[    0.366301] \u001b[0m\u001b[33mpci 0000:00:12.0\u001b[0m: reg 0x10: [mem 0x55341000-0x55341fff 64bit]\r\n",
      "\u001b[32m[    0.366468] \u001b[0m\u001b[33mpci 0000:00:14.0\u001b[0m: [8086:a36d] type 00 class 0x0c0330\r\n",
      "\u001b[32m[    0.366483] \u001b[0m\u001b[33mpci 0000:00:14.0\u001b[0m: reg 0x10: [mem 0x55320000-0x5532ffff 64bit]\r\n",
      "\u001b[32m[    0.366531] \u001b[0m\u001b[33mpci 0000:00:14.0\u001b[0m: PME# supported from D3hot D3cold\r\n",
      "\u001b[32m[    0.366680] \u001b[0m\u001b[33mpci 0000:00:14.2\u001b[0m: [8086:a36f] type 00 class 0x050000\r\n",
      "\u001b[32m[    0.366697] \u001b[0m\u001b[33mpci 0000:00:14.2\u001b[0m: reg 0x10: [mem 0x5533a000-0x5533bfff 64bit]\r\n",
      "\u001b[32m[    0.366707] \u001b[0m\u001b[33mpci 0000:00:14.2\u001b[0m: reg 0x18: [mem 0x55340000-0x55340fff 64bit]\r\n",
      "\u001b[32m[    0.366837] \u001b[0m\u001b[33mpci 0000:00:14.3\u001b[0m: [8086:a370] type 00 class 0x028000\r\n",
      "\u001b[32m[    0.366871] \u001b[0m\u001b[33mpci 0000:00:14.3\u001b[0m: reg 0x10: [mem 0x55334000-0x55337fff 64bit]\r\n",
      "\u001b[32m[    0.366965] \u001b[0m\u001b[33mpci 0000:00:14.3\u001b[0m: PME# supported from D0 D3hot D3cold\r\n",
      "\u001b[32m[    0.367083] \u001b[0m\u001b[33mpci 0000:00:16.0\u001b[0m: [8086:a360] type 00 class 0x078000\r\n",
      "\u001b[32m[    0.367105] \u001b[0m\u001b[33mpci 0000:00:16.0\u001b[0m: reg 0x10: [mem 0x5533f000-0x5533ffff 64bit]\r\n",
      "\u001b[32m[    0.367171] \u001b[0m\u001b[33mpci 0000:00:16.0\u001b[0m: PME# supported from D3hot\r\n",
      "\u001b[32m[    0.367345] \u001b[0m\u001b[33mpci 0000:00:17.0\u001b[0m: [8086:a352] type 00 class 0x010601\r\n",
      "\u001b[32m[    0.367358] \u001b[0m\u001b[33mpci 0000:00:17.0\u001b[0m: reg 0x10: [mem 0x55338000-0x55339fff]\r\n",
      "\u001b[32m[    0.367363] \u001b[0m\u001b[33mpci 0000:00:17.0\u001b[0m: reg 0x14: [mem 0x5533e000-0x5533e0ff]\r\n",
      "\u001b[32m[    0.367368] \u001b[0m\u001b[33mpci 0000:00:17.0\u001b[0m: reg 0x18: [io  0x4050-0x4057]\r\n",
      "\u001b[32m[    0.367373] \u001b[0m\u001b[33mpci 0000:00:17.0\u001b[0m: reg 0x1c: [io  0x4040-0x4043]\r\n",
      "\u001b[32m[    0.367378] \u001b[0m\u001b[33mpci 0000:00:17.0\u001b[0m: reg 0x20: [io  0x4020-0x403f]\r\n",
      "\u001b[32m[    0.367384] \u001b[0m\u001b[33mpci 0000:00:17.0\u001b[0m: reg 0x24: [mem 0x5533d000-0x5533d7ff]\r\n",
      "\u001b[32m[    0.367414] \u001b[0m\u001b[33mpci 0000:00:17.0\u001b[0m: PME# supported from D3hot\r\n",
      "\u001b[32m[    0.367570] \u001b[0m\u001b[33mpci 0000:00:1b.0\u001b[0m: [8086:a340] type 01 class 0x060400\r\n",
      "\u001b[32m[    0.367639] \u001b[0m\u001b[33mpci 0000:00:1b.0\u001b[0m: PME# supported from D0 D3hot D3cold\r\n",
      "\u001b[32m[    0.367652] \u001b[0m\u001b[33mpci 0000:00:1b.0\u001b[0m: PTM enabled (root), 4dns granularity\r\n",
      "\u001b[32m[    0.367823] \u001b[0m\u001b[33mpci 0000:00:1c.0\u001b[0m: [8086:a338] type 01 class 0x060400\r\n",
      "\u001b[32m[    0.367891] \u001b[0m\u001b[33mpci 0000:00:1c.0\u001b[0m: PME# supported from D0 D3hot D3cold\r\n",
      "\u001b[32m[    0.368064] \u001b[0m\u001b[33mpci 0000:00:1d.0\u001b[0m: [8086:a330] type 01 class 0x060400\r\n",
      "\u001b[32m[    0.368134] \u001b[0m\u001b[33mpci 0000:00:1d.0\u001b[0m: PME# supported from D0 D3hot D3cold\r\n",
      "\u001b[32m[    0.368313] \u001b[0m\u001b[33mpci 0000:00:1f.0\u001b[0m: [8086:a305] type 00 class 0x060100\r\n",
      "\u001b[32m[    0.368580] \u001b[0m\u001b[33mpci 0000:00:1f.3\u001b[0m: [8086:a348] type 00 class 0x040300\r\n",
      "\u001b[32m[    0.368624] \u001b[0m\u001b[33mpci 0000:00:1f.3\u001b[0m: reg 0x10: [mem 0x55330000-0x55333fff 64bit]\r\n",
      "\u001b[32m[    0.368671] \u001b[0m\u001b[33mpci 0000:00:1f.3\u001b[0m: reg 0x20: [mem 0x55100000-0x551fffff 64bit]\r\n",
      "\u001b[32m[    0.368750] \u001b[0m\u001b[33mpci 0000:00:1f.3\u001b[0m: PME# supported from D3hot D3cold\r\n",
      "\u001b[32m[    0.368972] \u001b[0m\u001b[33mpci 0000:00:1f.4\u001b[0m: [8086:a323] type 00 class 0x0c0500\r\n",
      "\u001b[32m[    0.368990] \u001b[0m\u001b[33mpci 0000:00:1f.4\u001b[0m: reg 0x10: [mem 0x5533c000-0x5533c0ff 64bit]\r\n",
      "\u001b[32m[    0.369007] \u001b[0m\u001b[33mpci 0000:00:1f.4\u001b[0m: reg 0x20: [io  0xefa0-0xefbf]\r\n",
      "\u001b[32m[    0.369129] \u001b[0m\u001b[33mpci 0000:00:1f.5\u001b[0m: [8086:a324] type 00 class 0x0c8000\r\n",
      "\u001b[32m[    0.369142] \u001b[0m\u001b[33mpci 0000:00:1f.5\u001b[0m: reg 0x10: [mem 0xfe010000-0xfe010fff]\r\n",
      "\u001b[32m[    0.369269] \u001b[0m\u001b[33mpci 0000:00:1f.6\u001b[0m: [8086:15bc] type 00 class 0x020000\r\n",
      "\u001b[32m[    0.369301] \u001b[0m\u001b[33mpci 0000:00:1f.6\u001b[0m: reg 0x10: [mem 0x55300000-0x5531ffff]\r\n",
      "\u001b[32m[    0.369426] \u001b[0m\u001b[33mpci 0000:00:1f.6\u001b[0m: PME# supported from D0 D3hot D3cold\r\n",
      "\u001b[32m[    0.369545] \u001b[0m\u001b[33mpci 0000:01:00.0\u001b[0m: [10de:1e07] type 00 class 0x030000\r\n",
      "\u001b[32m[    0.369561] \u001b[0m\u001b[33mpci 0000:01:00.0\u001b[0m: reg 0x10: [mem 0x54000000-0x54ffffff]\r\n",
      "\u001b[32m[    0.369568] \u001b[0m\u001b[33mpci 0000:01:00.0\u001b[0m: reg 0x14: [mem 0x40000000-0x4fffffff 64bit pref]\r\n",
      "\u001b[32m[    0.369576] \u001b[0m\u001b[33mpci 0000:01:00.0\u001b[0m: reg 0x1c: [mem 0x52000000-0x53ffffff 64bit pref]\r\n",
      "\u001b[32m[    0.369581] \u001b[0m\u001b[33mpci 0000:01:00.0\u001b[0m: reg 0x24: [io  0x3000-0x307f]\r\n",
      "\u001b[32m[    0.369586] \u001b[0m\u001b[33mpci 0000:01:00.0\u001b[0m: reg 0x30: [mem 0x55000000-0x5507ffff pref]\r\n",
      "\u001b[32m[    0.369628] \u001b[0m\u001b[33mpci 0000:01:00.0\u001b[0m: PME# supported from D0 D3hot\r\n",
      "\u001b[32m[    0.369654] \u001b[0m\u001b[33mpci 0000:01:00.0\u001b[0m: 32.000 Gb/s available PCIe bandwidth, limited by 2.5 GT/s x16 link at 0000:00:01.0 (capable of 126.016 Gb/s with 8 GT/s x16 link)\r\n",
      "\u001b[32m[    0.369677] \u001b[0m\u001b[33mpci 0000:01:00.1\u001b[0m: [10de:10f7] type 00 class 0x040300\r\n",
      "\u001b[32m[    0.369688] \u001b[0m\u001b[33mpci 0000:01:00.1\u001b[0m: reg 0x10: [mem 0x55080000-0x55083fff]\r\n",
      "\u001b[32m[    0.369776] \u001b[0m\u001b[33mpci 0000:01:00.2\u001b[0m: [10de:1ad6] type 00 class 0x0c0330\r\n",
      "\u001b[32m[    0.369789] \u001b[0m\u001b[33mpci 0000:01:00.2\u001b[0m: reg 0x10: [mem 0x50000000-0x5003ffff 64bit pref]\r\n",
      "\u001b[32m[    0.369801] \u001b[0m\u001b[33mpci 0000:01:00.2\u001b[0m: reg 0x1c: [mem 0x50040000-0x5004ffff 64bit pref]\r\n",
      "\u001b[32m[    0.369842] \u001b[0m\u001b[33mpci 0000:01:00.2\u001b[0m: PME# supported from D0 D3hot\r\n",
      "\u001b[32m[    0.369877] \u001b[0m\u001b[33mpci 0000:01:00.3\u001b[0m: [10de:1ad7] type 00 class 0x0c8000\r\n",
      "\u001b[32m[    0.369888] \u001b[0m\u001b[33mpci 0000:01:00.3\u001b[0m: reg 0x10: [mem 0x55084000-0x55084fff]\r\n",
      "\u001b[32m[    0.369947] \u001b[0m\u001b[33mpci 0000:01:00.3\u001b[0m: PME# supported from D0 D3hot\r\n",
      "\u001b[32m[    0.369998] \u001b[0m\u001b[33mpci 0000:00:01.0\u001b[0m: PCI bridge to [bus 01]\r\n",
      "\u001b[32m[    0.369999] \u001b[0m\u001b[33mpci 0000:00:01.0\u001b[0m:   bridge window [io  0x3000-0x3fff]\r\n",
      "\u001b[32m[    0.370000] \u001b[0m\u001b[33mpci 0000:00:01.0\u001b[0m:   bridge window [mem 0x52000000-0x550fffff]\r\n",
      "\u001b[32m[    0.370002] \u001b[0m\u001b[33mpci 0000:00:01.0\u001b[0m:   bridge window [mem 0x40000000-0x500fffff 64bit pref]\r\n",
      "\u001b[32m[    0.370086] \u001b[0m\u001b[33mpci 0000:02:00.0\u001b[0m: [8086:f1a6] type 00 class 0x010802\r\n",
      "\u001b[32m[    0.370116] \u001b[0m\u001b[33mpci 0000:02:00.0\u001b[0m: reg 0x10: [mem 0x55200000-0x55203fff 64bit]\r\n",
      "\u001b[32m[    0.370303] \u001b[0m\u001b[33mpci 0000:00:1b.0\u001b[0m: PCI bridge to [bus 02]\r\n",
      "\u001b[32m[    0.370306] \u001b[0m\u001b[33mpci 0000:00:1b.0\u001b[0m:   bridge window [mem 0x55200000-0x552fffff]\r\n",
      "\u001b[32m[    0.370382] \u001b[0m\u001b[33macpiphp\u001b[0m: Slot [1] registered\r\n",
      "\u001b[32m[    0.370389] \u001b[0m\u001b[33mpci 0000:00:1c.0\u001b[0m: PCI bridge to [bus 03]\r\n",
      "\u001b[32m[    0.370467] \u001b[0m\u001b[33macpiphp\u001b[0m: Slot [1-1] registered\r\n",
      "\u001b[32m[    0.370470] \u001b[0m\u001b[33mpci 0000:00:1d.0\u001b[0m: PCI bridge to [bus 04]\r\n",
      "\u001b[32m[    0.371553] \u001b[0m\u001b[33mACPI\u001b[0m: PCI Interrupt Link [LNKA] (IRQs) *0\r\n",
      "\u001b[32m[    0.371578] \u001b[0m\u001b[33mACPI\u001b[0m: PCI Interrupt Link [LNKB] (IRQs) *1\r\n",
      "\u001b[32m[    0.371602] \u001b[0m\u001b[33mACPI\u001b[0m: PCI Interrupt Link [LNKC] (IRQs) *0\r\n",
      "\u001b[32m[    0.371625] \u001b[0m\u001b[33mACPI\u001b[0m: PCI Interrupt Link [LNKD] (IRQs) *0\r\n",
      "\u001b[32m[    0.371649] \u001b[0m\u001b[33mACPI\u001b[0m: PCI Interrupt Link [LNKE] (IRQs) *0\r\n",
      "\u001b[32m[    0.371673] \u001b[0m\u001b[33mACPI\u001b[0m: PCI Interrupt Link [LNKF] (IRQs) *0\r\n",
      "\u001b[32m[    0.371696] \u001b[0m\u001b[33mACPI\u001b[0m: PCI Interrupt Link [LNKG] (IRQs) *0\r\n",
      "\u001b[32m[    0.371720] \u001b[0m\u001b[33mACPI\u001b[0m: PCI Interrupt Link [LNKH] (IRQs) *0\r\n",
      "\u001b[32m[    0.372104] \u001b[0mSCSI subsystem initialized\r\n",
      "\u001b[32m[    0.372104] \u001b[0mlibata version 3.00 loaded.\r\n",
      "\u001b[32m[    0.372104] \u001b[0m\u001b[33mpci 0000:01:00.0\u001b[0m: vgaarb: setting as boot VGA device\r\n",
      "\u001b[32m[    0.372104] \u001b[0m\u001b[33mpci 0000:01:00.0\u001b[0m: vgaarb: VGA device added: decodes=io+mem,owns=io+mem,locks=none\r\n",
      "\u001b[32m[    0.372104] \u001b[0m\u001b[33mpci 0000:01:00.0\u001b[0m: vgaarb: bridge control possible\r\n",
      "\u001b[32m[    0.372104] \u001b[0m\u001b[33mvgaarb\u001b[0m: loaded\r\n",
      "\u001b[32m[    0.372104] \u001b[0m\u001b[33mACPI\u001b[0m: bus type USB registered\r\n",
      "\u001b[32m[    0.372104] \u001b[0m\u001b[33musbcore\u001b[0m: registered new interface driver usbfs\r\n",
      "\u001b[32m[    0.372104] \u001b[0m\u001b[33musbcore\u001b[0m: registered new interface driver hub\r\n",
      "\u001b[32m[    0.372104] \u001b[0m\u001b[33musbcore\u001b[0m: registered new device driver usb\r\n",
      "\u001b[32m[    0.372104] \u001b[0m\u001b[33mpps_core\u001b[0m: LinuxPPS API ver. 1 registered\r\n",
      "\u001b[32m[    0.372104] \u001b[0m\u001b[33mpps_core\u001b[0m: Software ver. 5.3.6 - Copyright 2005-2007 Rodolfo Giometti <giometti@linux.it>\r\n",
      "\u001b[32m[    0.372104] \u001b[0mPTP clock support registered\r\n",
      "\u001b[32m[    0.372104] \u001b[0m\u001b[33mEDAC MC\u001b[0m: Ver: 3.0.0\r\n",
      "\u001b[32m[    0.372104] \u001b[0m\u001b[33mPCI\u001b[0m: Using ACPI for IRQ routing\r\n",
      "\u001b[32m[    0.415300] \u001b[0m\u001b[33mPCI\u001b[0m: pci_cache_line_size set to 64 bytes\r\n",
      "\u001b[32m[    0.415375] \u001b[0m\u001b[33me820\u001b[0m: reserve RAM buffer [mem 0x0009d400-0x0009ffff]\r\n",
      "\u001b[32m[    0.415375] \u001b[0m\u001b[33me820\u001b[0m: reserve RAM buffer [mem 0x385fd000-0x3bffffff]\r\n",
      "\u001b[32m[    0.415376] \u001b[0m\u001b[33me820\u001b[0m: reserve RAM buffer [mem 0x3da15000-0x3fffffff]\r\n",
      "\u001b[32m[    0.415376] \u001b[0m\u001b[33me820\u001b[0m: reserve RAM buffer [mem 0x3e013000-0x3fffffff]\r\n",
      "\u001b[32m[    0.415377] \u001b[0m\u001b[33me820\u001b[0m: reserve RAM buffer [mem 0x3ef00000-0x3fffffff]\r\n",
      "\u001b[32m[    0.415377] \u001b[0m\u001b[33me820\u001b[0m: reserve RAM buffer [mem 0x10be000000-0x10bfffffff]\r\n",
      "\u001b[32m[    0.415424] \u001b[0m\u001b[33mNetLabel\u001b[0m: Initializing\r\n",
      "\u001b[32m[    0.415425] \u001b[0m\u001b[33mNetLabel\u001b[0m:  domain hash size = 128\r\n",
      "\u001b[32m[    0.415425] \u001b[0m\u001b[33mNetLabel\u001b[0m:  protocols = UNLABELED CIPSOv4 CALIPSO\r\n",
      "\u001b[32m[    0.415432] \u001b[0m\u001b[33mNetLabel\u001b[0m:  unlabeled traffic allowed by default\r\n",
      "\u001b[32m[    0.415439] \u001b[0m\u001b[33mhpet0\u001b[0m: at MMIO 0xfed00000, IRQs 2, 8, 0, 0, 0, 0, 0, 0\r\n",
      "\u001b[32m[    0.415439] \u001b[0m\u001b[33mhpet0\u001b[0m: 8 comparators, 64-bit 24.000000 MHz counter\r\n",
      "\u001b[32m[    0.416981] \u001b[0m\u001b[33mclocksource\u001b[0m: Switched to clocksource tsc-early\r\n",
      "\u001b[32m[    0.420286] \u001b[0m\u001b[33mVFS\u001b[0m: Disk quotas dquot_6.6.0\r\n",
      "\u001b[32m[    0.420286] \u001b[0m\u001b[33mVFS\u001b[0m: Dquot-cache hash table entries: 512 (order 0, 4096 bytes)\r\n",
      "\u001b[32m[    0.420286] \u001b[0m*** VALIDATE hugetlbfs ***\r\n",
      "\u001b[32m[    0.420286] \u001b[0m\u001b[33mAppArmor\u001b[0m: AppArmor Filesystem Enabled\r\n",
      "\u001b[32m[    0.420286] \u001b[0m\u001b[33mpnp\u001b[0m: PnP ACPI init\r\n",
      "\u001b[32m[    0.420286] \u001b[0m\u001b[33msystem 00:00\u001b[0m: [io  0x0a00-0x0a2f] has been reserved\r\n",
      "\u001b[32m[    0.420286] \u001b[0m\u001b[33msystem 00:00\u001b[0m: [io  0x0a30-0x0a3f] has been reserved\r\n",
      "\u001b[32m[    0.420286] \u001b[0m\u001b[33msystem 00:00\u001b[0m: [io  0x0a40-0x0a4f] has been reserved\r\n",
      "\u001b[32m[    0.420286] \u001b[0m\u001b[33msystem 00:00\u001b[0m: Plug and Play ACPI device, IDs PNP0c02 (active)\r\n",
      "\u001b[32m[    0.420286] \u001b[0m\u001b[33msystem 00:01\u001b[0m: [io  0x0680-0x069f] has been reserved\r\n",
      "\u001b[32m[    0.420286] \u001b[0m\u001b[33msystem 00:01\u001b[0m: [io  0x164e-0x164f] has been reserved\r\n",
      "\u001b[32m[    0.420286] \u001b[0m\u001b[33msystem 00:01\u001b[0m: Plug and Play ACPI device, IDs PNP0c02 (active)\r\n",
      "\u001b[32m[    0.420286] \u001b[0m\u001b[33mpnp 00:02\u001b[0m: Plug and Play ACPI device, IDs PNP0b00 (active)\r\n",
      "\u001b[32m[    0.420286] \u001b[0m\u001b[33msystem 00:03\u001b[0m: [io  0x1854-0x1857] has been reserved\r\n",
      "\u001b[32m[    0.420286] \u001b[0m\u001b[33msystem 00:03\u001b[0m: Plug and Play ACPI device, IDs INT3f0d PNP0c02 (active)\r\n",
      "\u001b[32m[    0.420286] \u001b[0m\u001b[33msystem 00:04\u001b[0m: [mem 0xfed10000-0xfed17fff] has been reserved\r\n",
      "\u001b[32m[    0.420286] \u001b[0m\u001b[33msystem 00:04\u001b[0m: [mem 0xfed18000-0xfed18fff] has been reserved\r\n",
      "\u001b[32m[    0.420286] \u001b[0m\u001b[33msystem 00:04\u001b[0m: [mem 0xfed19000-0xfed19fff] has been reserved\r\n",
      "\u001b[32m[    0.420286] \u001b[0m\u001b[33msystem 00:04\u001b[0m: [mem 0xe0000000-0xefffffff] has been reserved\r\n",
      "\u001b[32m[    0.420286] \u001b[0m\u001b[33msystem 00:04\u001b[0m: [mem 0xfed20000-0xfed3ffff] has been reserved\r\n",
      "\u001b[32m[    0.420286] \u001b[0m\u001b[33msystem 00:04\u001b[0m: [mem 0xfed90000-0xfed93fff] could not be reserved\r\n",
      "\u001b[32m[    0.420286] \u001b[0m\u001b[33msystem 00:04\u001b[0m: [mem 0xfed45000-0xfed8ffff] has been reserved\r\n",
      "\u001b[32m[    0.420286] \u001b[0m\u001b[33msystem 00:04\u001b[0m: [mem 0xfee00000-0xfeefffff] could not be reserved\r\n",
      "\u001b[32m[    0.420286] \u001b[0m\u001b[33msystem 00:04\u001b[0m: Plug and Play ACPI device, IDs PNP0c02 (active)\r\n",
      "\u001b[32m[    0.420286] \u001b[0m\u001b[33msystem 00:05\u001b[0m: [io  0x1800-0x18fe] could not be reserved\r\n",
      "\u001b[32m[    0.420286] \u001b[0m\u001b[33msystem 00:05\u001b[0m: [mem 0xfd000000-0xfd69ffff] has been reserved\r\n",
      "\u001b[32m[    0.420286] \u001b[0m\u001b[33msystem 00:05\u001b[0m: [mem 0xfd6c0000-0xfd6cffff] has been reserved\r\n",
      "\u001b[32m[    0.420286] \u001b[0m\u001b[33msystem 00:05\u001b[0m: [mem 0xfd6f0000-0xfdffffff] has been reserved\r\n",
      "\u001b[32m[    0.420286] \u001b[0m\u001b[33msystem 00:05\u001b[0m: [mem 0xfe000000-0xfe01ffff] could not be reserved\r\n",
      "\u001b[32m[    0.420286] \u001b[0m\u001b[33msystem 00:05\u001b[0m: [mem 0xfe200000-0xfe7fffff] has been reserved\r\n",
      "\u001b[32m[    0.420286] \u001b[0m\u001b[33msystem 00:05\u001b[0m: [mem 0xff000000-0xffffffff] has been reserved\r\n",
      "\u001b[32m[    0.420286] \u001b[0m\u001b[33msystem 00:05\u001b[0m: Plug and Play ACPI device, IDs PNP0c02 (active)\r\n",
      "\u001b[32m[    0.420286] \u001b[0m\u001b[33msystem 00:06\u001b[0m: [io  0x2000-0x20fe] has been reserved\r\n",
      "\u001b[32m[    0.420286] \u001b[0m\u001b[33msystem 00:06\u001b[0m: Plug and Play ACPI device, IDs PNP0c02 (active)\r\n",
      "\u001b[32m[    0.420286] \u001b[0m\u001b[33msystem 00:07\u001b[0m: Plug and Play ACPI device, IDs PNP0c02 (active)\r\n",
      "\u001b[32m[    0.423215] \u001b[0m\u001b[33mpnp\u001b[0m: PnP ACPI: found 8 devices\r\n",
      "\u001b[32m[    0.423825] \u001b[0m\u001b[33mthermal_sys\u001b[0m: Registered thermal governor 'fair_share'\r\n",
      "\u001b[32m[    0.423826] \u001b[0m\u001b[33mthermal_sys\u001b[0m: Registered thermal governor 'bang_bang'\r\n",
      "\u001b[32m[    0.423826] \u001b[0m\u001b[33mthermal_sys\u001b[0m: Registered thermal governor 'step_wise'\r\n",
      "\u001b[32m[    0.423826] \u001b[0m\u001b[33mthermal_sys\u001b[0m: Registered thermal governor 'user_space'\r\n",
      "\u001b[32m[    0.423827] \u001b[0m\u001b[33mthermal_sys\u001b[0m: Registered thermal governor 'power_allocator'\r\n",
      "\u001b[32m[    0.428308] \u001b[0m\u001b[33mclocksource\u001b[0m: acpi_pm: mask: 0xffffff max_cycles: 0xffffff, max_idle_ns: 2085701024 ns\r\n",
      "\u001b[32m[    0.428325] \u001b[0m\u001b[33mpci 0000:00:1d.0\u001b[0m: bridge window [io  0x1000-0x0fff] to [bus 04] add_size 1000\r\n",
      "\u001b[32m[    0.428326] \u001b[0m\u001b[33mpci 0000:00:1d.0\u001b[0m: bridge window [mem 0x00100000-0x000fffff 64bit pref] to [bus 04] add_size 200000 add_align 100000\r\n",
      "\u001b[32m[    0.428327] \u001b[0m\u001b[33mpci 0000:00:1d.0\u001b[0m: bridge window [mem 0x00100000-0x000fffff] to [bus 04] add_size 200000 add_align 100000\r\n",
      "\u001b[32m[    0.428330] \u001b[0m\u001b[33mpci 0000:00:1d.0\u001b[0m: BAR 14: assigned [mem 0x50100000-0x502fffff]\r\n",
      "\u001b[32m[    0.428332] \u001b[0m\u001b[33mpci 0000:00:1d.0\u001b[0m: BAR 15: assigned [mem 0x50300000-0x504fffff 64bit pref]\r\n",
      "\u001b[32m[    0.428333] \u001b[0m\u001b[33mpci 0000:00:1d.0\u001b[0m: BAR 13: assigned [io  0x5000-0x5fff]\r\n",
      "\u001b[32m[    0.428334] \u001b[0m\u001b[33mpci 0000:00:01.0\u001b[0m: PCI bridge to [bus 01]\r\n",
      "\u001b[32m[    0.428335] \u001b[0m\u001b[33mpci 0000:00:01.0\u001b[0m:   bridge window [io  0x3000-0x3fff]\r\n",
      "\u001b[32m[    0.428337] \u001b[0m\u001b[33mpci 0000:00:01.0\u001b[0m:   bridge window [mem 0x52000000-0x550fffff]\r\n",
      "\u001b[32m[    0.428338] \u001b[0m\u001b[33mpci 0000:00:01.0\u001b[0m:   bridge window [mem 0x40000000-0x500fffff 64bit pref]\r\n",
      "\u001b[32m[    0.428340] \u001b[0m\u001b[33mpci 0000:00:1b.0\u001b[0m: PCI bridge to [bus 02]\r\n",
      "\u001b[32m[    0.428346] \u001b[0m\u001b[33mpci 0000:00:1b.0\u001b[0m:   bridge window [mem 0x55200000-0x552fffff]\r\n",
      "\u001b[32m[    0.428350] \u001b[0m\u001b[33mpci 0000:00:1c.0\u001b[0m: PCI bridge to [bus 03]\r\n",
      "\u001b[32m[    0.428358] \u001b[0m\u001b[33mpci 0000:00:1d.0\u001b[0m: PCI bridge to [bus 04]\r\n",
      "\u001b[32m[    0.428361] \u001b[0m\u001b[33mpci 0000:00:1d.0\u001b[0m:   bridge window [io  0x5000-0x5fff]\r\n",
      "\u001b[32m[    0.428363] \u001b[0m\u001b[33mpci 0000:00:1d.0\u001b[0m:   bridge window [mem 0x50100000-0x502fffff]\r\n",
      "\u001b[32m[    0.428365] \u001b[0m\u001b[33mpci 0000:00:1d.0\u001b[0m:   bridge window [mem 0x50300000-0x504fffff 64bit pref]\r\n",
      "\u001b[32m[    0.428369] \u001b[0m\u001b[33mpci_bus 0000:00\u001b[0m: resource 4 [io  0x0000-0x0cf7 window]\r\n",
      "\u001b[32m[    0.428369] \u001b[0m\u001b[33mpci_bus 0000:00\u001b[0m: resource 5 [io  0x0d00-0xffff window]\r\n",
      "\u001b[32m[    0.428370] \u001b[0m\u001b[33mpci_bus 0000:00\u001b[0m: resource 6 [mem 0x000a0000-0x000bffff window]\r\n",
      "\u001b[32m[    0.428370] \u001b[0m\u001b[33mpci_bus 0000:00\u001b[0m: resource 7 [mem 0x40000000-0xdfffffff window]\r\n",
      "\u001b[32m[    0.428371] \u001b[0m\u001b[33mpci_bus 0000:00\u001b[0m: resource 8 [mem 0xfc800000-0xfe7fffff window]\r\n",
      "\u001b[32m[    0.428371] \u001b[0m\u001b[33mpci_bus 0000:01\u001b[0m: resource 0 [io  0x3000-0x3fff]\r\n",
      "\u001b[32m[    0.428372] \u001b[0m\u001b[33mpci_bus 0000:01\u001b[0m: resource 1 [mem 0x52000000-0x550fffff]\r\n",
      "\u001b[32m[    0.428372] \u001b[0m\u001b[33mpci_bus 0000:01\u001b[0m: resource 2 [mem 0x40000000-0x500fffff 64bit pref]\r\n",
      "\u001b[32m[    0.428373] \u001b[0m\u001b[33mpci_bus 0000:02\u001b[0m: resource 1 [mem 0x55200000-0x552fffff]\r\n",
      "\u001b[32m[    0.428373] \u001b[0m\u001b[33mpci_bus 0000:04\u001b[0m: resource 0 [io  0x5000-0x5fff]\r\n",
      "\u001b[32m[    0.428374] \u001b[0m\u001b[33mpci_bus 0000:04\u001b[0m: resource 1 [mem 0x50100000-0x502fffff]\r\n",
      "\u001b[32m[    0.428374] \u001b[0m\u001b[33mpci_bus 0000:04\u001b[0m: resource 2 [mem 0x50300000-0x504fffff 64bit pref]\r\n",
      "\u001b[32m[    0.428481] \u001b[0m\u001b[33mNET\u001b[0m: Registered protocol family 2\r\n",
      "\u001b[32m[    0.428588] \u001b[0m\u001b[33mtcp_listen_portaddr_hash hash table entries\u001b[0m: 32768 (order: 7, 524288 bytes, linear)\r\n",
      "\u001b[32m[    0.428771] \u001b[0m\u001b[33mTCP established hash table entries\u001b[0m: 524288 (order: 10, 4194304 bytes, linear)\r\n",
      "\u001b[32m[    0.429068] \u001b[0m\u001b[33mTCP bind hash table entries\u001b[0m: 65536 (order: 8, 1048576 bytes, linear)\r\n",
      "\u001b[32m[    0.429104] \u001b[0m\u001b[33mTCP\u001b[0m: Hash tables configured (established 524288 bind 65536)\r\n",
      "\u001b[32m[    0.429164] \u001b[0m\u001b[33mUDP hash table entries\u001b[0m: 32768 (order: 8, 1048576 bytes, linear)\r\n",
      "\u001b[32m[    0.429255] \u001b[0m\u001b[33mUDP-Lite hash table entries\u001b[0m: 32768 (order: 8, 1048576 bytes, linear)\r\n",
      "\u001b[32m[    0.429334] \u001b[0m\u001b[33mNET\u001b[0m: Registered protocol family 1\r\n",
      "\u001b[32m[    0.429337] \u001b[0m\u001b[33mNET\u001b[0m: Registered protocol family 44\r\n",
      "\u001b[32m[    0.430036] \u001b[0m\u001b[33mpci 0000:01:00.0\u001b[0m: Video device with shadowed ROM at [mem 0x000c0000-0x000dffff]\r\n",
      "\u001b[32m[    0.430043] \u001b[0m\u001b[33mpci 0000:01:00.1\u001b[0m: D0 power state depends on 0000:01:00.0\r\n",
      "\u001b[32m[    0.430072] \u001b[0m\u001b[33mpci 0000:01:00.2\u001b[0m: D0 power state depends on 0000:01:00.0\r\n",
      "\u001b[32m[    0.430237] \u001b[0m\u001b[33mpci 0000:01:00.3\u001b[0m: D0 power state depends on 0000:01:00.0\r\n",
      "\u001b[32m[    0.430245] \u001b[0m\u001b[33mPCI\u001b[0m: CLS 64 bytes, default 64\r\n",
      "\u001b[32m[    0.430285] \u001b[0mTrying to unpack rootfs image as initramfs...\r\n",
      "\u001b[32m[    0.747223] \u001b[0m\u001b[33mFreeing initrd memory\u001b[0m: 39532K\r\n",
      "\u001b[32m[    0.783006] \u001b[0m\u001b[33mPCI-DMA\u001b[0m: Using software bounce buffering for IO (SWIOTLB)\r\n",
      "\u001b[32m[    0.783010] \u001b[0m\u001b[33msoftware IO TLB\u001b[0m: mapped [mem 0x39a15000-0x3da15000] (64MB)\r\n",
      "\u001b[32m[    0.783304] \u001b[0m\u001b[33mcheck\u001b[0m: Scanning for low memory corruption every 60 seconds\r\n",
      "\u001b[32m[    0.784096] \u001b[0mInitialise system trusted keyrings\r\n",
      "\u001b[32m[    0.784102] \u001b[0mKey type blacklist registered\r\n",
      "\u001b[32m[    0.784119] \u001b[0m\u001b[33mworkingset\u001b[0m: timestamp_bits=36 max_order=24 bucket_order=0\r\n",
      "\u001b[32m[    0.784767] \u001b[0m\u001b[33mzbud\u001b[0m: loaded\r\n",
      "\u001b[32m[    0.784955] \u001b[0m\u001b[33msquashfs\u001b[0m: version 4.0 (2009/01/31) Phillip Lougher\r\n",
      "\u001b[32m[    0.785026] \u001b[0m\u001b[33mfuse\u001b[0m: init (API version 7.31)\r\n",
      "\u001b[32m[    0.785082] \u001b[0mPlatform Keyring initialized\r\n",
      "\u001b[32m[    0.787147] \u001b[0mKey type asymmetric registered\r\n",
      "\u001b[32m[    0.787148] \u001b[0mAsymmetric key parser 'x509' registered\r\n",
      "\u001b[32m[    0.787152] \u001b[0mBlock layer SCSI generic (bsg) driver version 0.4 loaded (major 244)\r\n",
      "\u001b[32m[    0.787178] \u001b[0mio scheduler mq-deadline registered\r\n",
      "\u001b[32m[    0.787483] \u001b[0m\u001b[33mpcieport 0000:00:1b.0\u001b[0m: AER: enabled with IRQ 122\r\n",
      "\u001b[32m[    0.787509] \u001b[0m\u001b[33mpcieport 0000:00:1b.0\u001b[0m: DPC: error containment capabilities: Int Msg #0, RPExt+ PoisonedTLP+ SwTrigger+ RP PIO Log 4, DL_ActiveErr+\r\n",
      "\u001b[32m[    0.787680] \u001b[0m\u001b[33mshpchp\u001b[0m: Standard Hot Plug PCI Controller Driver version: 0.4\r\n",
      "\u001b[32m[    0.787710] \u001b[0m\u001b[33mvesafb\u001b[0m: mode is 640x480x32, linelength=2560, pages=0\r\n",
      "\u001b[32m[    0.787710] \u001b[0m\u001b[33mvesafb\u001b[0m: scrolling: redraw\r\n",
      "\u001b[32m[    0.787710] \u001b[0m\u001b[33mvesafb\u001b[0m: Truecolor: size=8:8:8:8, shift=24:16:8:0\r\n",
      "\u001b[32m[    0.787716] \u001b[0m\u001b[33mvesafb\u001b[0m: framebuffer at 0x53000000, mapped to 0x00000000ed021cfd, using 1216k, total 1216k\r\n",
      "\u001b[32m[    0.787732] \u001b[0m\u001b[33mfbcon\u001b[0m: Deferring console take-over\r\n",
      "\u001b[32m[    0.787732] \u001b[0m\u001b[33mfb0\u001b[0m: VESA VGA frame buffer device\r\n",
      "\u001b[32m[    0.787738] \u001b[0m\u001b[33mintel_idle\u001b[0m: MWAIT substates: 0x11142120\r\n",
      "\u001b[32m[    0.787739] \u001b[0m\u001b[33mintel_idle\u001b[0m: v0.4.1 model 0x9E\r\n",
      "\u001b[32m[    0.788179] \u001b[0m\u001b[33mintel_idle\u001b[0m: lapic_timer_reliable_states 0xffffffff\r\n",
      "\u001b[32m[    0.788303] \u001b[0m\u001b[33minput\u001b[0m: Sleep Button as /devices/LNXSYSTM:00/LNXSYBUS:00/PNP0C0E:00/input/input0\r\n",
      "\u001b[32m[    0.788307] \u001b[0m\u001b[33mACPI\u001b[0m: Sleep Button [SLPB]\r\n",
      "\u001b[32m[    0.788322] \u001b[0m\u001b[33minput\u001b[0m: Power Button as /devices/LNXSYSTM:00/LNXSYBUS:00/PNP0C0C:00/input/input1\r\n",
      "\u001b[32m[    0.788324] \u001b[0m\u001b[33mACPI\u001b[0m: Power Button [PWRB]\r\n",
      "\u001b[32m[    0.788337] \u001b[0m\u001b[33minput\u001b[0m: Power Button as /devices/LNXSYSTM:00/LNXPWRBN:00/input/input2\r\n",
      "\u001b[32m[    0.788342] \u001b[0m\u001b[33mACPI\u001b[0m: Power Button [PWRF]\r\n",
      "\u001b[32m[    0.907210] \u001b[0m\u001b[33mthermal LNXTHERM:00\u001b[0m: registered as thermal_zone0\r\n",
      "\u001b[32m[    0.907211] \u001b[0m\u001b[33mACPI\u001b[0m: Thermal Zone [TZ00] (28 C)\r\n",
      "\u001b[32m[    0.907355] \u001b[0m\u001b[33mSerial\u001b[0m: 8250/16550 driver, 32 ports, IRQ sharing enabled\r\n",
      "\u001b[32m[    0.908478] \u001b[0mLinux agpgart interface v0.103\r\n",
      "\u001b[32m[    0.910503] \u001b[0m\u001b[33mloop\u001b[0m: module loaded\r\n",
      "\u001b[32m[    0.910589] \u001b[0m\u001b[33mlibphy\u001b[0m: Fixed MDIO Bus: probed\r\n",
      "\u001b[32m[    0.910590] \u001b[0m\u001b[33mtun\u001b[0m: Universal TUN/TAP device driver, 1.6\r\n",
      "\u001b[32m[    0.910601] \u001b[0mPPP generic driver version 2.4.2\r\n",
      "\u001b[32m[    0.910619] \u001b[0m\u001b[33mehci_hcd\u001b[0m: USB 2.0 'Enhanced' Host Controller (EHCI) Driver\r\n",
      "\u001b[32m[    0.910621] \u001b[0m\u001b[33mehci-pci\u001b[0m: EHCI PCI platform driver\r\n",
      "\u001b[32m[    0.910626] \u001b[0m\u001b[33mehci-platform\u001b[0m: EHCI generic platform driver\r\n",
      "\u001b[32m[    0.910630] \u001b[0m\u001b[33mohci_hcd\u001b[0m: USB 1.1 'Open' Host Controller (OHCI) Driver\r\n",
      "\u001b[32m[    0.910631] \u001b[0m\u001b[33mohci-pci\u001b[0m: OHCI PCI platform driver\r\n",
      "\u001b[32m[    0.910634] \u001b[0m\u001b[33mohci-platform\u001b[0m: OHCI generic platform driver\r\n",
      "\u001b[32m[    0.910637] \u001b[0m\u001b[33muhci_hcd\u001b[0m: USB Universal Host Controller Interface driver\r\n",
      "\u001b[32m[    0.910740] \u001b[0m\u001b[33mxhci_hcd 0000:00:14.0\u001b[0m: xHCI Host Controller\r\n",
      "\u001b[32m[    0.910742] \u001b[0m\u001b[33mxhci_hcd 0000:00:14.0\u001b[0m: new USB bus registered, assigned bus number 1\r\n",
      "\u001b[32m[    0.911796] \u001b[0m\u001b[33mxhci_hcd 0000:00:14.0\u001b[0m: hcc params 0x200077c1 hci version 0x110 quirks 0x0000000000009810\r\n",
      "\u001b[32m[    0.911798] \u001b[0m\u001b[33mxhci_hcd 0000:00:14.0\u001b[0m: cache line size of 64 is not supported\r\n",
      "\u001b[32m[    0.911902] \u001b[0m\u001b[33musb usb1\u001b[0m: New USB device found, idVendor=1d6b, idProduct=0002, bcdDevice= 5.03\r\n",
      "\u001b[32m[    0.911903] \u001b[0m\u001b[33musb usb1\u001b[0m: New USB device strings: Mfr=3, Product=2, SerialNumber=1\r\n",
      "\u001b[32m[    0.911903] \u001b[0m\u001b[33musb usb1\u001b[0m: Product: xHCI Host Controller\r\n",
      "\u001b[32m[    0.911904] \u001b[0m\u001b[33musb usb1\u001b[0m: Manufacturer: Linux 5.3.0-26-generic xhci-hcd\r\n",
      "\u001b[32m[    0.911904] \u001b[0m\u001b[33musb usb1\u001b[0m: SerialNumber: 0000:00:14.0\r\n",
      "\u001b[32m[    0.911976] \u001b[0m\u001b[33mhub 1-0:1.0\u001b[0m: USB hub found\r\n",
      "\u001b[32m[    0.911989] \u001b[0m\u001b[33mhub 1-0:1.0\u001b[0m: 16 ports detected\r\n",
      "\u001b[32m[    0.913231] \u001b[0m\u001b[33mxhci_hcd 0000:00:14.0\u001b[0m: xHCI Host Controller\r\n",
      "\u001b[32m[    0.913232] \u001b[0m\u001b[33mxhci_hcd 0000:00:14.0\u001b[0m: new USB bus registered, assigned bus number 2\r\n",
      "\u001b[32m[    0.913234] \u001b[0m\u001b[33mxhci_hcd 0000:00:14.0\u001b[0m: Host supports USB 3.1 Enhanced SuperSpeed\r\n",
      "\u001b[32m[    0.913250] \u001b[0m\u001b[33musb usb2\u001b[0m: New USB device found, idVendor=1d6b, idProduct=0003, bcdDevice= 5.03\r\n",
      "\u001b[32m[    0.913250] \u001b[0m\u001b[33musb usb2\u001b[0m: New USB device strings: Mfr=3, Product=2, SerialNumber=1\r\n",
      "\u001b[32m[    0.913251] \u001b[0m\u001b[33musb usb2\u001b[0m: Product: xHCI Host Controller\r\n",
      "\u001b[32m[    0.913251] \u001b[0m\u001b[33musb usb2\u001b[0m: Manufacturer: Linux 5.3.0-26-generic xhci-hcd\r\n",
      "\u001b[32m[    0.913251] \u001b[0m\u001b[33musb usb2\u001b[0m: SerialNumber: 0000:00:14.0\r\n",
      "\u001b[32m[    0.913315] \u001b[0m\u001b[33mhub 2-0:1.0\u001b[0m: USB hub found\r\n",
      "\u001b[32m[    0.913326] \u001b[0m\u001b[33mhub 2-0:1.0\u001b[0m: 10 ports detected\r\n",
      "\u001b[32m[    0.914227] \u001b[0m\u001b[33mxhci_hcd 0000:01:00.2\u001b[0m: xHCI Host Controller\r\n",
      "\u001b[32m[    0.914228] \u001b[0m\u001b[33mxhci_hcd 0000:01:00.2\u001b[0m: new USB bus registered, assigned bus number 3\r\n",
      "\u001b[32m[    0.914828] \u001b[0m\u001b[33mxhci_hcd 0000:01:00.2\u001b[0m: hcc params 0x0180ff05 hci version 0x110 quirks 0x0000000000000010\r\n",
      "\u001b[32m[    0.914896] \u001b[0m\u001b[33musb usb3\u001b[0m: New USB device found, idVendor=1d6b, idProduct=0002, bcdDevice= 5.03\r\n",
      "\u001b[32m[    0.914896] \u001b[0m\u001b[33musb usb3\u001b[0m: New USB device strings: Mfr=3, Product=2, SerialNumber=1\r\n",
      "\u001b[32m[    0.914897] \u001b[0m\u001b[33musb usb3\u001b[0m: Product: xHCI Host Controller\r\n",
      "\u001b[32m[    0.914897] \u001b[0m\u001b[33musb usb3\u001b[0m: Manufacturer: Linux 5.3.0-26-generic xhci-hcd\r\n",
      "\u001b[32m[    0.914898] \u001b[0m\u001b[33musb usb3\u001b[0m: SerialNumber: 0000:01:00.2\r\n",
      "\u001b[32m[    0.915001] \u001b[0m\u001b[33mhub 3-0:1.0\u001b[0m: USB hub found\r\n",
      "\u001b[32m[    0.915004] \u001b[0m\u001b[33mhub 3-0:1.0\u001b[0m: 2 ports detected\r\n",
      "\u001b[32m[    0.915052] \u001b[0m\u001b[33mxhci_hcd 0000:01:00.2\u001b[0m: xHCI Host Controller\r\n",
      "\u001b[32m[    0.915053] \u001b[0m\u001b[33mxhci_hcd 0000:01:00.2\u001b[0m: new USB bus registered, assigned bus number 4\r\n",
      "\u001b[32m[    0.915053] \u001b[0m\u001b[33mxhci_hcd 0000:01:00.2\u001b[0m: Host supports USB 3.1 Enhanced SuperSpeed\r\n",
      "\u001b[32m[    0.915068] \u001b[0m\u001b[33musb usb4\u001b[0m: We don't know the algorithms for LPM for this host, disabling LPM.\r\n",
      "\u001b[32m[    0.915075] \u001b[0m\u001b[33musb usb4\u001b[0m: New USB device found, idVendor=1d6b, idProduct=0003, bcdDevice= 5.03\r\n",
      "\u001b[32m[    0.915075] \u001b[0m\u001b[33musb usb4\u001b[0m: New USB device strings: Mfr=3, Product=2, SerialNumber=1\r\n",
      "\u001b[32m[    0.915076] \u001b[0m\u001b[33musb usb4\u001b[0m: Product: xHCI Host Controller\r\n",
      "\u001b[32m[    0.915076] \u001b[0m\u001b[33musb usb4\u001b[0m: Manufacturer: Linux 5.3.0-26-generic xhci-hcd\r\n",
      "\u001b[32m[    0.915077] \u001b[0m\u001b[33musb usb4\u001b[0m: SerialNumber: 0000:01:00.2\r\n",
      "\u001b[32m[    0.915138] \u001b[0m\u001b[33mhub 4-0:1.0\u001b[0m: USB hub found\r\n",
      "\u001b[32m[    0.915143] \u001b[0m\u001b[33mhub 4-0:1.0\u001b[0m: 4 ports detected\r\n",
      "\u001b[32m[    0.915218] \u001b[0m\u001b[33mi8042\u001b[0m: PNP: No PS/2 controller found.\r\n",
      "\u001b[32m[    0.915308] \u001b[0m\u001b[33mmousedev\u001b[0m: PS/2 mouse device common for all mice\r\n",
      "\u001b[32m[    0.915502] \u001b[0m\u001b[33mrtc_cmos 00:02\u001b[0m: RTC can wake from S4\r\n",
      "\u001b[32m[    0.916019] \u001b[0m\u001b[33mrtc_cmos 00:02\u001b[0m: registered as rtc0\r\n",
      "\u001b[32m[    0.916026] \u001b[0m\u001b[33mrtc_cmos 00:02\u001b[0m: alarms up to one month, y3k, 242 bytes nvram, hpet irqs\r\n",
      "\u001b[32m[    0.916028] \u001b[0mi2c /dev entries driver\r\n",
      "\u001b[32m[    0.916044] \u001b[0m\u001b[33mdevice-mapper\u001b[0m: uevent: version 1.0.3\r\n",
      "\u001b[32m[    0.916083] \u001b[0m\u001b[33mdevice-mapper\u001b[0m: ioctl: 4.40.0-ioctl (2019-01-18) initialised: dm-devel@redhat.com\r\n",
      "\u001b[32m[    0.916104] \u001b[0m\u001b[33mplatform eisa.0\u001b[0m: Probing EISA bus 0\r\n",
      "\u001b[32m[    0.916105] \u001b[0m\u001b[33mplatform eisa.0\u001b[0m\u001b[1m: EISA: Cannot allocate resource for mainboard\r\n",
      "\u001b[0m\u001b[32m[    0.916105] \u001b[0m\u001b[33mplatform eisa.0\u001b[0m\u001b[1m: Cannot allocate resource for EISA slot 1\r\n",
      "\u001b[0m\u001b[32m[    0.916106] \u001b[0m\u001b[33mplatform eisa.0\u001b[0m\u001b[1m: Cannot allocate resource for EISA slot 2\r\n",
      "\u001b[0m\u001b[32m[    0.916106] \u001b[0m\u001b[33mplatform eisa.0\u001b[0m\u001b[1m: Cannot allocate resource for EISA slot 3\r\n",
      "\u001b[0m\u001b[32m[    0.916107] \u001b[0m\u001b[33mplatform eisa.0\u001b[0m\u001b[1m: Cannot allocate resource for EISA slot 4\r\n",
      "\u001b[0m\u001b[32m[    0.916107] \u001b[0m\u001b[33mplatform eisa.0\u001b[0m\u001b[1m: Cannot allocate resource for EISA slot 5\r\n",
      "\u001b[0m\u001b[32m[    0.916107] \u001b[0m\u001b[33mplatform eisa.0\u001b[0m\u001b[1m: Cannot allocate resource for EISA slot 6\r\n",
      "\u001b[0m\u001b[32m[    0.916108] \u001b[0m\u001b[33mplatform eisa.0\u001b[0m\u001b[1m: Cannot allocate resource for EISA slot 7\r\n",
      "\u001b[0m\u001b[32m[    0.916108] \u001b[0m\u001b[33mplatform eisa.0\u001b[0m\u001b[1m: Cannot allocate resource for EISA slot 8\r\n",
      "\u001b[0m\u001b[32m[    0.916109] \u001b[0m\u001b[33mplatform eisa.0\u001b[0m: EISA: Detected 0 cards\r\n",
      "\u001b[32m[    0.916110] \u001b[0m\u001b[33mintel_pstate\u001b[0m: Intel P-state driver initializing\r\n",
      "\u001b[32m[    0.917224] \u001b[0m\u001b[33mintel_pstate\u001b[0m: HWP enabled\r\n",
      "\u001b[32m[    0.917674] \u001b[0m\u001b[33mledtrig-cpu\u001b[0m: registered to indicate activity on CPUs\r\n",
      "\u001b[32m[    0.917707] \u001b[0m\u001b[33mintel_pmc_core INT33A1:00\u001b[0m:  initialized\r\n",
      "\u001b[32m[    0.917882] \u001b[0m\u001b[33mNET\u001b[0m: Registered protocol family 10\r\n",
      "\u001b[32m[    0.921159] \u001b[0mSegment Routing with IPv6\r\n",
      "\u001b[32m[    0.921168] \u001b[0m\u001b[33mNET\u001b[0m: Registered protocol family 17\r\n",
      "\u001b[32m[    0.921182] \u001b[0mKey type dns_resolver registered\r\n",
      "\u001b[32m[    0.922016] \u001b[0m\u001b[33mRAS\u001b[0m: Correctable Errors collector initialized.\r\n",
      "\u001b[32m[    0.922027] \u001b[0m\u001b[33mmicrocode\u001b[0m: sig=0x906ec, pf=0x2, revision=0xae\r\n",
      "\u001b[32m[    0.922511] \u001b[0m\u001b[33mmicrocode\u001b[0m: Microcode Update Driver: v2.2.\r\n",
      "\u001b[32m[    0.922516] \u001b[0m\u001b[33msched_clock\u001b[0m: Marking stable (922131029, 378280)->(930694556, -8185247)\r\n",
      "\u001b[32m[    0.922708] \u001b[0mregistered taskstats version 1\r\n",
      "\u001b[32m[    0.922712] \u001b[0mLoading compiled-in X.509 certificates\r\n",
      "\u001b[32m[    0.923572] \u001b[0m\u001b[33mLoaded X.509 cert 'Build time autogenerated kernel key\u001b[0m: 8098f9b3401d48cb244b138af0c5bac131caef8a'\r\n",
      "\u001b[32m[    0.923599] \u001b[0m\u001b[33mzswap\u001b[0m: loaded using pool lzo/zbud\r\n",
      "\u001b[32m[    0.926582] \u001b[0mKey type big_key registered\r\n",
      "\u001b[32m[    0.928028] \u001b[0mKey type encrypted registered\r\n",
      "\u001b[32m[    0.928030] \u001b[0m\u001b[33mAppArmor\u001b[0m: AppArmor sha1 policy hashing enabled\r\n",
      "\u001b[32m[    0.928048] \u001b[0m\u001b[33mima\u001b[0m: No TPM chip found, activating TPM-bypass!\r\n",
      "\u001b[32m[    0.928050] \u001b[0m\u001b[33mima\u001b[0m: Allocated hash algorithm: sha1\r\n",
      "\u001b[32m[    0.928054] \u001b[0mNo architecture policies found\r\n",
      "\u001b[32m[    0.928059] \u001b[0m\u001b[33mevm\u001b[0m: Initialising EVM extended attributes:\r\n",
      "\u001b[32m[    0.928060] \u001b[0m\u001b[33mevm\u001b[0m: security.selinux\r\n",
      "\u001b[32m[    0.928060] \u001b[0m\u001b[33mevm\u001b[0m: security.SMACK64\r\n",
      "\u001b[32m[    0.928060] \u001b[0m\u001b[33mevm\u001b[0m: security.SMACK64EXEC\r\n",
      "\u001b[32m[    0.928060] \u001b[0m\u001b[33mevm\u001b[0m: security.SMACK64TRANSMUTE\r\n",
      "\u001b[32m[    0.928060] \u001b[0m\u001b[33mevm\u001b[0m: security.SMACK64MMAP\r\n",
      "\u001b[32m[    0.928061] \u001b[0m\u001b[33mevm\u001b[0m: security.apparmor\r\n",
      "\u001b[32m[    0.928061] \u001b[0m\u001b[33mevm\u001b[0m: security.ima\r\n",
      "\u001b[32m[    0.928061] \u001b[0m\u001b[33mevm\u001b[0m: security.capability\r\n",
      "\u001b[32m[    0.928061] \u001b[0m\u001b[33mevm\u001b[0m: HMAC attrs: 0x1\r\n",
      "\u001b[32m[    0.928867] \u001b[0m\u001b[33mPM\u001b[0m:   Magic number: 4:594:506\r\n",
      "\u001b[32m[    0.929112] \u001b[0m\u001b[33mrtc_cmos 00:02\u001b[0m: setting system clock to 2020-05-15T00:31:07 UTC (1589502667)\r\n",
      "\u001b[32m[    0.929878] \u001b[0m\u001b[33mFreeing unused decrypted memory\u001b[0m: 2040K\r\n",
      "\u001b[32m[    0.930221] \u001b[0m\u001b[33mFreeing unused kernel image memory\u001b[0m: 2660K\r\n",
      "\u001b[32m[    0.991106] \u001b[0m\u001b[33mWrite protecting the kernel read-only data\u001b[0m: 22528k\r\n",
      "\u001b[32m[    0.991699] \u001b[0m\u001b[33mFreeing unused kernel image memory\u001b[0m: 2008K\r\n",
      "\u001b[32m[    0.991978] \u001b[0m\u001b[33mFreeing unused kernel image memory\u001b[0m: 1476K\r\n",
      "\u001b[32m[    0.996655] \u001b[0m\u001b[33mx86/mm\u001b[0m: Checked W+X mappings: passed, no W+X pages found.\r\n",
      "\u001b[32m[    0.996656] \u001b[0mRun /init as init process\r\n",
      "\u001b[32m[    1.046872] \u001b[0m\u001b[33macpi PNP0C14:03\u001b[0m\u001b[1m: duplicate WMI GUID 05901221-D566-11D1-B2F0-00A0C9062910 (first instance was on PNP0C14:02)\r\n",
      "\u001b[0m\u001b[32m[    1.047038] \u001b[0m\u001b[33macpi PNP0C14:04\u001b[0m\u001b[1m: duplicate WMI GUID 05901221-D566-11D1-B2F0-00A0C9062910 (first instance was on PNP0C14:02)\r\n",
      "\u001b[0m\u001b[32m[    1.053735] \u001b[0m\u001b[33mahci 0000:00:17.0\u001b[0m: version 3.0\r\n",
      "\u001b[32m[    1.054709] \u001b[0m\u001b[33me1000e\u001b[0m: Intel(R) PRO/1000 Network Driver - 3.2.6-k\r\n",
      "\u001b[32m[    1.054709] \u001b[0m\u001b[33me1000e\u001b[0m: Copyright(c) 1999 - 2015 Intel Corporation.\r\n",
      "\u001b[32m[    1.054888] \u001b[0m\u001b[33me1000e 0000:00:1f.6\u001b[0m: Interrupt Throttling Rate (ints/sec) set to dynamic conservative mode\r\n",
      "\u001b[32m[    1.055145] \u001b[0m\u001b[33mnvme nvme0\u001b[0m: pci function 0000:02:00.0\r\n",
      "\u001b[32m[    1.066934] \u001b[0m\u001b[33mahci 0000:00:17.0\u001b[0m: AHCI 0001.0301 32 slots 4 ports 6 Gbps 0xf impl SATA mode\r\n",
      "\u001b[32m[    1.066935] \u001b[0m\u001b[33mahci 0000:00:17.0\u001b[0m: flags: 64bit ncq sntf clo only pio slum part ems deso sadm sds apst \r\n",
      "\u001b[32m[    1.103489] \u001b[0m\u001b[33mscsi host0\u001b[0m: ahci\r\n",
      "\u001b[32m[    1.103698] \u001b[0m\u001b[33mscsi host1\u001b[0m: ahci\r\n",
      "\u001b[32m[    1.103934] \u001b[0m\u001b[33mscsi host2\u001b[0m: ahci\r\n",
      "\u001b[32m[    1.104106] \u001b[0m\u001b[33mscsi host3\u001b[0m: ahci\r\n",
      "\u001b[32m[    1.104130] \u001b[0m\u001b[33mata1\u001b[0m: SATA max UDMA/133 abar m2048@0x5533d000 port 0x5533d100 irq 128\r\n",
      "\u001b[32m[    1.104131] \u001b[0m\u001b[33mata2\u001b[0m: SATA max UDMA/133 abar m2048@0x5533d000 port 0x5533d180 irq 128\r\n",
      "\u001b[32m[    1.104132] \u001b[0m\u001b[33mata3\u001b[0m: SATA max UDMA/133 abar m2048@0x5533d000 port 0x5533d200 irq 128\r\n",
      "\u001b[32m[    1.104133] \u001b[0m\u001b[33mata4\u001b[0m: SATA max UDMA/133 abar m2048@0x5533d000 port 0x5533d280 irq 128\r\n",
      "\u001b[32m[    1.247069] \u001b[0m\u001b[33musb 1-11\u001b[0m: new high-speed USB device number 2 using xhci_hcd\r\n",
      "\u001b[32m[    1.272972] \u001b[0m\u001b[33mnvme nvme0\u001b[0m: 15/0/0 default/read/poll queues\r\n",
      "\u001b[32m[    1.273730] \u001b[0m\u001b[33m nvme0n1\u001b[0m: p1\r\n",
      "\u001b[32m[    1.392331] \u001b[0m\u001b[33musb 1-11\u001b[0m: New USB device found, idVendor=05e3, idProduct=0608, bcdDevice=85.36\r\n",
      "\u001b[32m[    1.392331] \u001b[0m\u001b[33musb 1-11\u001b[0m: New USB device strings: Mfr=0, Product=1, SerialNumber=0\r\n",
      "\u001b[32m[    1.392332] \u001b[0m\u001b[33musb 1-11\u001b[0m: Product: USB2.0 Hub\r\n",
      "\u001b[32m[    1.392996] \u001b[0m\u001b[33mhub 1-11:1.0\u001b[0m: USB hub found\r\n",
      "\u001b[32m[    1.393247] \u001b[0m\u001b[33mhub 1-11:1.0\u001b[0m: 4 ports detected\r\n",
      "\u001b[32m[    1.418580] \u001b[0m\u001b[33mata1\u001b[0m: SATA link up 6.0 Gbps (SStatus 133 SControl 300)\r\n",
      "\u001b[32m[    1.419189] \u001b[0m\u001b[33mata1.00\u001b[0m: ATA-10: WDC WD20EZAZ-00GGJB0, 80.00A80, max UDMA/133\r\n",
      "\u001b[32m[    1.419190] \u001b[0m\u001b[33mata1.00\u001b[0m: 3907029168 sectors, multi 16: LBA48 NCQ (depth 32), AA\r\n",
      "\u001b[32m[    1.419838] \u001b[0m\u001b[33mata1.00\u001b[0m: configured for UDMA/133\r\n",
      "\u001b[32m[    1.419954] \u001b[0m\u001b[33mscsi 0:0:0:0\u001b[0m: Direct-Access     ATA      WDC WD20EZAZ-00G 0A80 PQ: 0 ANSI: 5\r\n",
      "\u001b[32m[    1.420095] \u001b[0m\u001b[33msd 0:0:0:0\u001b[0m: Attached scsi generic sg0 type 0\r\n",
      "\u001b[32m[    1.420159] \u001b[0m\u001b[33msd 0:0:0:0\u001b[0m: [sda] 3907029168 512-byte logical blocks: (2.00 TB/1.82 TiB)\r\n",
      "\u001b[32m[    1.420160] \u001b[0m\u001b[33msd 0:0:0:0\u001b[0m: [sda] 4096-byte physical blocks\r\n",
      "\u001b[32m[    1.420201] \u001b[0m\u001b[33msd 0:0:0:0\u001b[0m: [sda] Write Protect is off\r\n",
      "\u001b[32m[    1.420202] \u001b[0m\u001b[33msd 0:0:0:0\u001b[0m: [sda] Mode Sense: 00 3a 00 00\r\n",
      "\u001b[32m[    1.420239] \u001b[0m\u001b[33msd 0:0:0:0\u001b[0m: [sda] Write cache: enabled, read cache: enabled, doesn't support DPO or FUA\r\n",
      "\u001b[32m[    1.422384] \u001b[0m\u001b[33mata4\u001b[0m: SATA link down (SStatus 4 SControl 300)\r\n",
      "\u001b[32m[    1.422422] \u001b[0m\u001b[33mata2\u001b[0m: SATA link down (SStatus 4 SControl 300)\r\n",
      "\u001b[32m[    1.422435] \u001b[0m\u001b[33mata3\u001b[0m: SATA link down (SStatus 4 SControl 300)\r\n",
      "\u001b[32m[    1.466122] \u001b[0m\u001b[33me1000e 0000:00:1f.6 0000:00:1f.6 (uninitialized)\u001b[0m: registered PHC clock\r\n",
      "\u001b[32m[    1.470537] \u001b[0m\u001b[33msd 0:0:0:0\u001b[0m: [sda] Attached SCSI disk\r\n",
      "\u001b[32m[    1.519056] \u001b[0m\u001b[33musb 1-12\u001b[0m: new full-speed USB device number 3 using xhci_hcd\r\n",
      "\u001b[32m[    1.538283] \u001b[0m\u001b[33me1000e 0000:00:1f.6 eth0\u001b[0m: (PCI Express:2.5GT/s:Width x1) b4:2e:99:8d:dc:b2\r\n",
      "\u001b[32m[    1.538284] \u001b[0m\u001b[33me1000e 0000:00:1f.6 eth0\u001b[0m: Intel(R) PRO/1000 Network Connection\r\n",
      "\u001b[32m[    1.538342] \u001b[0m\u001b[33me1000e 0000:00:1f.6 eth0\u001b[0m: MAC: 13, PHY: 12, PBA No: FFFFFF-0FF\r\n",
      "\u001b[32m[    1.551788] \u001b[0m\u001b[33me1000e 0000:00:1f.6 eno2\u001b[0m: renamed from eth0\r\n",
      "\u001b[32m[    1.671324] \u001b[0m\u001b[33musb 1-12\u001b[0m: New USB device found, idVendor=048d, idProduct=8297, bcdDevice= 0.03\r\n",
      "\u001b[32m[    1.671325] \u001b[0m\u001b[33musb 1-12\u001b[0m: New USB device strings: Mfr=1, Product=2, SerialNumber=0\r\n",
      "\u001b[32m[    1.671326] \u001b[0m\u001b[33musb 1-12\u001b[0m: Product: ITE Device(8595)\r\n",
      "\u001b[32m[    1.671326] \u001b[0m\u001b[33musb 1-12\u001b[0m: Manufacturer: ITE Tech. Inc.\r\n",
      "\u001b[32m[    1.787076] \u001b[0m\u001b[33mtsc\u001b[0m: Refined TSC clocksource calibration: 3599.990 MHz\r\n",
      "\u001b[32m[    1.787079] \u001b[0m\u001b[33mclocksource\u001b[0m: tsc: mask: 0xffffffffffffffff max_cycles: 0x33e449c7887, max_idle_ns: 440795318932 ns\r\n",
      "\u001b[32m[    1.787136] \u001b[0m\u001b[33mclocksource\u001b[0m: Switched to clocksource tsc\r\n",
      "\u001b[32m[    1.798998] \u001b[0m\u001b[33musb 1-13\u001b[0m: new high-speed USB device number 4 using xhci_hcd\r\n",
      "\u001b[32m[    1.948820] \u001b[0m\u001b[33musb 1-13\u001b[0m: New USB device found, idVendor=05e3, idProduct=0608, bcdDevice=85.36\r\n",
      "\u001b[32m[    1.948821] \u001b[0m\u001b[33musb 1-13\u001b[0m: New USB device strings: Mfr=0, Product=1, SerialNumber=0\r\n",
      "\u001b[32m[    1.948821] \u001b[0m\u001b[33musb 1-13\u001b[0m: Product: USB2.0 Hub\r\n",
      "\u001b[32m[    1.949874] \u001b[0m\u001b[33mhub 1-13:1.0\u001b[0m: USB hub found\r\n",
      "\u001b[32m[    1.950255] \u001b[0m\u001b[33mhub 1-13:1.0\u001b[0m: 4 ports detected\r\n",
      "\u001b[32m[    2.079049] \u001b[0m\u001b[33musb 1-14\u001b[0m: new full-speed USB device number 5 using xhci_hcd\r\n",
      "\u001b[32m[    2.228514] \u001b[0m\u001b[33musb 1-14\u001b[0m\u001b[1m: config 1 interface 1 altsetting 0 endpoint 0x3 has wMaxPacketSize 0, skipping\r\n",
      "\u001b[0m\u001b[32m[    2.228514] \u001b[0m\u001b[33musb 1-14\u001b[0m\u001b[1m: config 1 interface 1 altsetting 0 endpoint 0x83 has wMaxPacketSize 0, skipping\r\n",
      "\u001b[0m\u001b[32m[    2.228516] \u001b[0m\u001b[33musb 1-14\u001b[0m: New USB device found, idVendor=8087, idProduct=0aaa, bcdDevice= 0.02\r\n",
      "\u001b[32m[    2.228517] \u001b[0m\u001b[33musb 1-14\u001b[0m: New USB device strings: Mfr=0, Product=0, SerialNumber=0\r\n",
      "\u001b[32m[    2.232270] \u001b[0m\u001b[33mhidraw\u001b[0m: raw HID events driver (C) Jiri Kosina\r\n",
      "\u001b[32m[    2.233847] \u001b[0m\u001b[33musbcore\u001b[0m: registered new interface driver usbhid\r\n",
      "\u001b[32m[    2.233847] \u001b[0m\u001b[33musbhid\u001b[0m: USB HID core driver\r\n",
      "\u001b[32m[    2.235104] \u001b[0m\u001b[33mhid-generic 0003:048D:8297.0001\u001b[0m: hiddev0,hidraw0: USB HID v1.10 Device [ITE Tech. Inc. ITE Device(8595)] on usb-0000:00:14.0-12/input0\r\n",
      "\u001b[32m[    2.256124] \u001b[0m\u001b[33mfbcon\u001b[0m: Taking over console\r\n",
      "\u001b[32m[    2.256157] \u001b[0m\u001b[33mConsole\u001b[0m: switching to colour frame buffer device 80x30\r\n",
      "\u001b[32m[    2.288755] \u001b[0m\u001b[33mEXT4-fs (dm-0)\u001b[0m: mounted filesystem with ordered data mode. Opts: (null)\r\n",
      "\u001b[32m[    2.345003] \u001b[0m\u001b[33msystemd[1]\u001b[0m: systemd 237 running in system mode. (+PAM +AUDIT +SELINUX +IMA +APPARMOR +SMACK +SYSVINIT +UTMP +LIBCRYPTSETUP +GCRYPT +GNUTLS +ACL +XZ +LZ4 +SECCOMP +BLKID +ELFUTILS +KMOD -IDN2 +IDN -PCRE2 default-hierarchy=hybrid)\r\n",
      "\u001b[32m[    2.367590] \u001b[0m\u001b[33msystemd[1]\u001b[0m: Detected architecture x86-64.\r\n",
      "\u001b[32m[    2.369041] \u001b[0m\u001b[33msystemd[1]\u001b[0m: Set hostname to <carpediem>.\r\n",
      "\u001b[32m[    2.417229] \u001b[0m\u001b[33msystemd[1]\u001b[0m: Reached target Remote File Systems.\r\n",
      "\u001b[32m[    2.417689] \u001b[0m\u001b[33msystemd[1]\u001b[0m: Created slice System Slice.\r\n",
      "\u001b[32m[    2.417729] \u001b[0m\u001b[33msystemd[1]\u001b[0m: Listening on udev Control Socket.\r\n",
      "\u001b[32m[    2.417753] \u001b[0m\u001b[33msystemd[1]\u001b[0m: Listening on Device-mapper event daemon FIFOs.\r\n",
      "\u001b[32m[    2.417777] \u001b[0m\u001b[33msystemd[1]\u001b[0m: Listening on LVM2 metadata daemon socket.\r\n",
      "\u001b[32m[    2.417798] \u001b[0m\u001b[33msystemd[1]\u001b[0m: Listening on LVM2 poll daemon socket.\r\n",
      "\u001b[32m[    2.417823] \u001b[0m\u001b[33msystemd[1]\u001b[0m: Listening on fsck to fsckd communication Socket.\r\n",
      "\u001b[32m[    2.425004] \u001b[0m\u001b[33mlp\u001b[0m: driver loaded but no devices found\r\n",
      "\u001b[32m[    2.426583] \u001b[0m\u001b[33mppdev\u001b[0m: user-space parallel port driver\r\n",
      "\u001b[32m[    2.427279] \u001b[0m\u001b[33mEXT4-fs (dm-0)\u001b[0m: re-mounted. Opts: errors=remount-ro\r\n",
      "\u001b[32m[    2.467919] \u001b[0m\u001b[33msystemd-journald[470]\u001b[0m: Received request to flush runtime journal from PID 1\r\n",
      "\u001b[32m[    2.520050] \u001b[0m\u001b[33maudit\u001b[0m: type=1400 audit(1589502669.086:2): apparmor=\"STATUS\" operation=\"profile_load\" profile=\"unconfined\" name=\"libreoffice-senddoc\" pid=616 comm=\"apparmor_parser\"\r\n",
      "\u001b[32m[    2.520475] \u001b[0m\u001b[33maudit\u001b[0m: type=1400 audit(1589502669.086:3): apparmor=\"STATUS\" operation=\"profile_load\" profile=\"unconfined\" name=\"/usr/sbin/ippusbxd\" pid=621 comm=\"apparmor_parser\"\r\n",
      "\u001b[32m[    2.521264] \u001b[0m\u001b[33maudit\u001b[0m: type=1400 audit(1589502669.086:4): apparmor=\"STATUS\" operation=\"profile_load\" profile=\"unconfined\" name=\"/usr/sbin/cups-browsed\" pid=619 comm=\"apparmor_parser\"\r\n",
      "\u001b[32m[    2.521283] \u001b[0m\u001b[33maudit\u001b[0m: type=1400 audit(1589502669.086:5): apparmor=\"STATUS\" operation=\"profile_load\" profile=\"unconfined\" name=\"/usr/sbin/tcpdump\" pid=623 comm=\"apparmor_parser\"\r\n",
      "\u001b[32m[    2.521575] \u001b[0m\u001b[33maudit\u001b[0m: type=1400 audit(1589502669.086:6): apparmor=\"STATUS\" operation=\"profile_load\" profile=\"unconfined\" name=\"libreoffice-oopslash\" pid=615 comm=\"apparmor_parser\"\r\n",
      "\u001b[32m[    2.522165] \u001b[0m\u001b[33maudit\u001b[0m: type=1400 audit(1589502669.086:7): apparmor=\"STATUS\" operation=\"profile_load\" profile=\"unconfined\" name=\"libreoffice-xpdfimport\" pid=618 comm=\"apparmor_parser\"\r\n",
      "\u001b[32m[    2.522920] \u001b[0m\u001b[33maudit\u001b[0m: type=1400 audit(1589502669.086:8): apparmor=\"STATUS\" operation=\"profile_load\" profile=\"unconfined\" name=\"/sbin/dhclient\" pid=611 comm=\"apparmor_parser\"\r\n",
      "\u001b[32m[    2.522922] \u001b[0m\u001b[33maudit\u001b[0m: type=1400 audit(1589502669.090:9): apparmor=\"STATUS\" operation=\"profile_load\" profile=\"unconfined\" name=\"/usr/lib/NetworkManager/nm-dhcp-client.action\" pid=611 comm=\"apparmor_parser\"\r\n",
      "\u001b[32m[    2.522924] \u001b[0m\u001b[33maudit\u001b[0m: type=1400 audit(1589502669.090:10): apparmor=\"STATUS\" operation=\"profile_load\" profile=\"unconfined\" name=\"/usr/lib/NetworkManager/nm-dhcp-helper\" pid=611 comm=\"apparmor_parser\"\r\n",
      "\u001b[32m[    2.547490] \u001b[0m\u001b[33mmei_me 0000:00:16.0\u001b[0m: enabling device (0004 -> 0006)\r\n",
      "\u001b[32m[    2.554171] \u001b[0m\u001b[33mIPMI message handler\u001b[0m: version 39.2\r\n",
      "\u001b[32m[    2.554278] \u001b[0m\u001b[33mcfg80211\u001b[0m: Loading compiled-in X.509 certificates for regulatory database\r\n",
      "\u001b[32m[    2.555113] \u001b[0mipmi device interface\r\n",
      "\u001b[32m[    2.558347] \u001b[0m\u001b[33mBluetooth\u001b[0m: Core ver 2.22\r\n",
      "\u001b[32m[    2.558356] \u001b[0m\u001b[33mNET\u001b[0m: Registered protocol family 31\r\n",
      "\u001b[32m[    2.558357] \u001b[0m\u001b[33mBluetooth\u001b[0m: HCI device and connection manager initialized\r\n",
      "\u001b[32m[    2.558359] \u001b[0m\u001b[33mBluetooth\u001b[0m: HCI socket layer initialized\r\n",
      "\u001b[32m[    2.558361] \u001b[0m\u001b[33mBluetooth\u001b[0m: L2CAP socket layer initialized\r\n",
      "\u001b[32m[    2.558363] \u001b[0m\u001b[33mBluetooth\u001b[0m: SCO socket layer initialized\r\n",
      "\u001b[32m[    2.559113] \u001b[0m\u001b[33mcfg80211\u001b[0m: Loaded X.509 cert 'sforshee: 00b28ddf47aef9cea7'\r\n",
      "\u001b[32m[    2.563354] \u001b[0m\u001b[33mRAPL PMU\u001b[0m: API unit is 2^-32 Joules, 2 fixed counters, 655360 ms ovfl timer\r\n",
      "\u001b[32m[    2.563356] \u001b[0m\u001b[33mRAPL PMU\u001b[0m: hw unit of domain pp0-core 2^-14 Joules\r\n",
      "\u001b[32m[    2.563356] \u001b[0m\u001b[33mRAPL PMU\u001b[0m: hw unit of domain package 2^-14 Joules\r\n",
      "\u001b[32m[    2.603817] \u001b[0m\u001b[33mcryptd\u001b[0m: max_cpu_qlen set to 1000\r\n",
      "\u001b[32m[    2.606582] \u001b[0m\u001b[33musbcore\u001b[0m: registered new interface driver btusb\r\n",
      "\u001b[32m[    2.608648] \u001b[0mIntel(R) Wireless WiFi driver for Linux\r\n",
      "\u001b[32m[    2.608650] \u001b[0mCopyright(c) 2003- 2015 Intel Corporation\r\n",
      "\u001b[32m[    2.609645] \u001b[0m\u001b[33mBluetooth\u001b[0m: hci0: Firmware revision 0.1 build 226 week 31 2019\r\n",
      "\u001b[32m[    2.612823] \u001b[0mAVX2 version of gcm_enc/dec engaged.\r\n",
      "\u001b[32m[    2.612824] \u001b[0mAES CTR mode by8 optimization enabled\r\n",
      "\u001b[32m[    2.625124] \u001b[0m\u001b[33miwlwifi 0000:00:14.3\u001b[0m: Found debug destination: EXTERNAL_DRAM\r\n",
      "\u001b[32m[    2.625125] \u001b[0m\u001b[33miwlwifi 0000:00:14.3\u001b[0m: Found debug configuration: 0\r\n",
      "\u001b[32m[    2.625359] \u001b[0m\u001b[33miwlwifi 0000:00:14.3\u001b[0m: loaded firmware version 46.6bf1df06.0 op_mode iwlmvm\r\n",
      "\u001b[32m[    2.636771] \u001b[0m\u001b[33mnvidia\u001b[0m\u001b[1m: loading out-of-tree module taints kernel.\u001b[0m\r\n",
      "\u001b[32m[    2.636778] \u001b[0m\u001b[33mnvidia\u001b[0m\u001b[1m: module license 'NVIDIA' taints kernel.\u001b[0m\r\n",
      "\u001b[32m[    2.636778] \u001b[0m\u001b[1mDisabling lock debugging due to kernel taint\u001b[0m\r\n",
      "\u001b[32m[    2.667051] \u001b[0mAdding 999420k swap on /dev/mapper/ubuntu--vg-swap_1.  Priority:-2 extents:1 across:999420k SSFS\r\n",
      "\u001b[32m[    2.671196] \u001b[0m\u001b[33mnvidia\u001b[0m: module verification failed: signature and/or required key missing - tainting kernel\r\n",
      "\u001b[32m[    2.676917] \u001b[0m\u001b[33msnd_hda_intel 0000:01:00.1\u001b[0m: Disabling MSI\r\n",
      "\u001b[32m[    2.676921] \u001b[0m\u001b[33msnd_hda_intel 0000:01:00.1\u001b[0m: Handle vga_switcheroo audio client\r\n",
      "\u001b[32m[    2.678726] \u001b[0m\u001b[33mnvidia-nvlink\u001b[0m: Nvlink Core is being initialized, major device number 237\r\n",
      "\u001b[32m[    2.679480] \u001b[0m\u001b[33mnvidia 0000:01:00.0\u001b[0m: vgaarb: changed VGA decodes: olddecodes=io+mem,decodes=none:owns=io+mem\r\n",
      "\u001b[32m[    2.681593] \u001b[0m\u001b[33miwlwifi 0000:00:14.3\u001b[0m: Detected Intel(R) Dual Band Wireless AC 9560, REV=0x318\r\n",
      "\u001b[32m[    2.688752] \u001b[0m\u001b[33miwlwifi 0000:00:14.3\u001b[0m: Applying debug destination EXTERNAL_DRAM\r\n",
      "\u001b[32m[    2.689231] \u001b[0m\u001b[33miwlwifi 0000:00:14.3\u001b[0m: Allocated 0x00400000 bytes for firmware monitor.\r\n",
      "\u001b[32m[    2.696334] \u001b[0m\u001b[33msnd_hda_codec_realtek hdaudioC0D0\u001b[0m: autoconfig for ALC1220: line_outs=3 (0x14/0x15/0x16/0x0/0x0) type:line\r\n",
      "\u001b[32m[    2.696336] \u001b[0m\u001b[33msnd_hda_codec_realtek hdaudioC0D0\u001b[0m:    speaker_outs=0 (0x0/0x0/0x0/0x0/0x0)\r\n",
      "\u001b[32m[    2.696337] \u001b[0m\u001b[33msnd_hda_codec_realtek hdaudioC0D0\u001b[0m:    hp_outs=1 (0x1b/0x0/0x0/0x0/0x0)\r\n",
      "\u001b[32m[    2.696338] \u001b[0m\u001b[33msnd_hda_codec_realtek hdaudioC0D0\u001b[0m:    mono: mono_out=0x0\r\n",
      "\u001b[32m[    2.696339] \u001b[0m\u001b[33msnd_hda_codec_realtek hdaudioC0D0\u001b[0m:    dig-out=0x1e/0x0\r\n",
      "\u001b[32m[    2.696339] \u001b[0m\u001b[33msnd_hda_codec_realtek hdaudioC0D0\u001b[0m:    inputs:\r\n",
      "\u001b[32m[    2.696341] \u001b[0m\u001b[33msnd_hda_codec_realtek hdaudioC0D0\u001b[0m:      Front Mic=0x19\r\n",
      "\u001b[32m[    2.696342] \u001b[0m\u001b[33msnd_hda_codec_realtek hdaudioC0D0\u001b[0m:      Rear Mic=0x18\r\n",
      "\u001b[32m[    2.696342] \u001b[0m\u001b[33msnd_hda_codec_realtek hdaudioC0D0\u001b[0m:      Line=0x1a\r\n",
      "\u001b[32m[    2.712831] \u001b[0m\u001b[33minput\u001b[0m: HDA Intel PCH Front Mic as /devices/pci0000:00/0000:00:1f.3/sound/card0/input3\r\n",
      "\u001b[32m[    2.712917] \u001b[0m\u001b[33minput\u001b[0m: HDA Intel PCH Rear Mic as /devices/pci0000:00/0000:00:1f.3/sound/card0/input4\r\n",
      "\u001b[32m[    2.712990] \u001b[0m\u001b[33minput\u001b[0m: HDA Intel PCH Line as /devices/pci0000:00/0000:00:1f.3/sound/card0/input5\r\n",
      "\u001b[32m[    2.713063] \u001b[0m\u001b[33minput\u001b[0m: HDA Intel PCH Line Out Front as /devices/pci0000:00/0000:00:1f.3/sound/card0/input6\r\n",
      "\u001b[32m[    2.713122] \u001b[0m\u001b[33minput\u001b[0m: HDA Intel PCH Line Out Surround as /devices/pci0000:00/0000:00:1f.3/sound/card0/input7\r\n",
      "\u001b[32m[    2.713198] \u001b[0m\u001b[33minput\u001b[0m: HDA Intel PCH Line Out CLFE as /devices/pci0000:00/0000:00:1f.3/sound/card0/input8\r\n",
      "\u001b[32m[    2.713245] \u001b[0m\u001b[33minput\u001b[0m: HDA Intel PCH Front Headphone as /devices/pci0000:00/0000:00:1f.3/sound/card0/input9\r\n",
      "\u001b[32m[    2.714150] \u001b[0m\u001b[33mBluetooth\u001b[0m: BNEP (Ethernet Emulation) ver 1.3\r\n",
      "\u001b[32m[    2.714151] \u001b[0m\u001b[33mBluetooth\u001b[0m: BNEP filters: protocol multicast\r\n",
      "\u001b[32m[    2.714153] \u001b[0m\u001b[33mBluetooth\u001b[0m: BNEP socket layer initialized\r\n",
      "\u001b[32m[    2.729219] \u001b[0m\u001b[33miwlwifi 0000:00:14.3\u001b[0m: base HW address: 0c:dd:24:76:4c:10\r\n",
      "\u001b[32m[    2.778976] \u001b[0m\u001b[33mNVRM\u001b[0m\u001b[1m: loading NVIDIA UNIX x86_64 Kernel Module  440.48.02  Tue Jan 14 06:22:51 UTC 2020\u001b[0m\r\n",
      "\u001b[32m[    2.781150] \u001b[0m\u001b[33mnvidia-modeset\u001b[0m: Loading NVIDIA Kernel Mode Setting Driver for UNIX platforms  440.48.02  Tue Jan 14 06:13:28 UTC 2020\r\n",
      "\u001b[32m[    2.782098] \u001b[0m[drm] [nvidia-drm] [GPU ID 0x00000100] Loading driver\r\n",
      "\u001b[32m[    2.782099] \u001b[0m[drm] Initialized nvidia-drm 0.0.0 20160202 for 0000:01:00.0 on minor 0\r\n",
      "\u001b[32m[    2.796543] \u001b[0m\u001b[33mieee80211 phy0\u001b[0m: Selected rate control algorithm 'iwl-mvm-rs'\r\n",
      "\u001b[32m[    2.796815] \u001b[0m\u001b[33mthermal thermal_zone2\u001b[0m\u001b[1m: failed to read out thermal zone (-61)\r\n",
      "\u001b[0m\u001b[32m[    2.799186] \u001b[0m\u001b[33miwlwifi 0000:00:14.3 wlo1\u001b[0m: renamed from wlan0\r\n",
      "\u001b[32m[    2.812117] \u001b[0m\u001b[33mnvidia-uvm\u001b[0m: Loaded the UVM driver, major device number 235.\r\n",
      "\u001b[32m[    2.888030] \u001b[0m\u001b[33mintel_rapl_common\u001b[0m: Found RAPL domain package\r\n",
      "\u001b[32m[    2.888031] \u001b[0m\u001b[33mintel_rapl_common\u001b[0m: Found RAPL domain core\r\n",
      "\u001b[32m[    2.900781] \u001b[0maufs 4.x-rcN-20190805\r\n",
      "\u001b[32m[    2.982205] \u001b[0m\u001b[33mEXT4-fs (sda)\u001b[0m: mounted filesystem with ordered data mode. Opts: (null)\r\n",
      "\u001b[32m[    3.058419] \u001b[0m\u001b[33miwlwifi 0000:00:14.3\u001b[0m: Applying debug destination EXTERNAL_DRAM\r\n",
      "\u001b[32m[    3.172285] \u001b[0m\u001b[33miwlwifi 0000:00:14.3\u001b[0m: Applying debug destination EXTERNAL_DRAM\r\n",
      "\u001b[32m[    3.237276] \u001b[0m\u001b[33miwlwifi 0000:00:14.3\u001b[0m\u001b[1m: FW already configured (0) - re-configuring\r\n",
      "\u001b[0m\u001b[32m[    3.246280] \u001b[0m\u001b[33miwlwifi 0000:00:14.3\u001b[0m\u001b[31m: BIOS contains WGDS but no WRDS\r\n",
      "\u001b[0m\u001b[32m[    3.447526] \u001b[0m\u001b[33minput\u001b[0m: HDA NVidia HDMI/DP,pcm=3 as /devices/pci0000:00/0000:00:01.0/0000:01:00.1/sound/card1/input10\r\n",
      "\u001b[32m[    3.447556] \u001b[0m\u001b[33minput\u001b[0m: HDA NVidia HDMI/DP,pcm=7 as /devices/pci0000:00/0000:00:01.0/0000:01:00.1/sound/card1/input11\r\n",
      "\u001b[32m[    3.447581] \u001b[0m\u001b[33minput\u001b[0m: HDA NVidia HDMI/DP,pcm=8 as /devices/pci0000:00/0000:00:01.0/0000:01:00.1/sound/card1/input12\r\n",
      "\u001b[32m[    3.447604] \u001b[0m\u001b[33minput\u001b[0m: HDA NVidia HDMI/DP,pcm=9 as /devices/pci0000:00/0000:00:01.0/0000:01:00.1/sound/card1/input13\r\n",
      "\u001b[32m[    7.187967] \u001b[0m\u001b[33mwlo1\u001b[0m: authenticate with 50:3a:a0:ea:22:b2\r\n",
      "\u001b[32m[    7.197620] \u001b[0m\u001b[33mwlo1\u001b[0m: send auth to 50:3a:a0:ea:22:b2 (try 1/3)\r\n",
      "\u001b[32m[    7.245024] \u001b[0m\u001b[33mwlo1\u001b[0m: authenticated\r\n",
      "\u001b[32m[    7.247051] \u001b[0m\u001b[33mwlo1\u001b[0m: associate with 50:3a:a0:ea:22:b2 (try 1/3)\r\n",
      "\u001b[32m[    7.251001] \u001b[0m\u001b[33mwlo1\u001b[0m: RX AssocResp from 50:3a:a0:ea:22:b2 (capab=0x411 status=0 aid=4)\r\n",
      "\u001b[32m[    7.255649] \u001b[0m\u001b[33mwlo1\u001b[0m: associated\r\n",
      "\u001b[32m[    7.415665] \u001b[0m\u001b[33mIPv6\u001b[0m: ADDRCONF(NETDEV_CHANGE): wlo1: link becomes ready\r\n",
      "\u001b[32m[    9.186341] \u001b[0m\u001b[33mkauditd_printk_skb\u001b[0m\u001b[1m: 14 callbacks suppressed\u001b[0m\r\n",
      "\u001b[32m[    9.186342] \u001b[0m\u001b[33maudit\u001b[0m: type=1400 audit(1589502675.750:25): apparmor=\"STATUS\" operation=\"profile_load\" profile=\"unconfined\" name=\"docker-default\" pid=1743 comm=\"apparmor_parser\"\r\n",
      "\u001b[32m[    9.271746] \u001b[0m\u001b[33mbridge\u001b[0m: filtering via arp/ip/ip6tables is no longer available by default. Update your scripts to load br_netfilter if you need this.\r\n",
      "\u001b[32m[    9.275554] \u001b[0mBridge firewalling registered\r\n",
      "\u001b[32m[    9.285528] \u001b[0m\u001b[33mbpfilter\u001b[0m: Loaded bpfilter_umh pid 1764\r\n",
      "\u001b[32m[    9.338903] \u001b[0mInitializing XFRM netlink socket\r\n",
      "\u001b[32m[32623.685012] \u001b[0m\u001b[33mNVRM\u001b[0m\u001b[1m: GPU at PCI:0000:01:00: GPU-4a86e448-bed7-4bd7-3006-ccb1f0514298\u001b[0m\r\n",
      "\u001b[32m[32623.685014] \u001b[0m\u001b[33mNVRM\u001b[0m\u001b[1m: GPU Board Serial Number: \u001b[0m\r\n",
      "\u001b[32m[32623.685015] \u001b[0m\u001b[33mNVRM\u001b[0m\u001b[31m: Xid (PCI:0000:01:00): 43, pid=1093, Ch 00000018\u001b[0m\r\n",
      "\u001b[32m[33212.088883] \u001b[0m\u001b[33mNVRM\u001b[0m\u001b[31m: Xid (PCI:0000:01:00): 43, pid=6295, Ch 00000018\u001b[0m\r\n"
     ]
    }
   ],
   "source": [
    "!dmesg"
   ]
  },
  {
   "cell_type": "code",
   "execution_count": 44,
   "metadata": {
    "ExecuteTime": {
     "end_time": "2020-05-15T10:18:58.129893Z",
     "start_time": "2020-05-15T10:18:58.112043Z"
    }
   },
   "outputs": [
    {
     "ename": "RuntimeError",
     "evalue": "CUDA error: device-side assert triggered",
     "output_type": "error",
     "traceback": [
      "\u001b[0;31m---------------------------------------------------------------------------\u001b[0m",
      "\u001b[0;31mRuntimeError\u001b[0m                              Traceback (most recent call last)",
      "\u001b[0;32m<ipython-input-44-22474d78aed0>\u001b[0m in \u001b[0;36m<module>\u001b[0;34m\u001b[0m\n\u001b[0;32m----> 1\u001b[0;31m \u001b[0mttt\u001b[0m\u001b[0;34m.\u001b[0m\u001b[0mcuda\u001b[0m\u001b[0;34m(\u001b[0m\u001b[0;34m)\u001b[0m\u001b[0;34m\u001b[0m\u001b[0;34m\u001b[0m\u001b[0m\n\u001b[0m",
      "\u001b[0;31mRuntimeError\u001b[0m: CUDA error: device-side assert triggered"
     ]
    }
   ],
   "source": [
    "ttt.cuda()"
   ]
  },
  {
   "cell_type": "code",
   "execution_count": 45,
   "metadata": {
    "ExecuteTime": {
     "end_time": "2020-05-15T10:19:07.776864Z",
     "start_time": "2020-05-15T10:19:07.635094Z"
    }
   },
   "outputs": [
    {
     "name": "stdout",
     "output_type": "stream",
     "text": [
      "\u001b[32m[    0.000000] \u001b[0mLinux version 5.3.0-26-generic (buildd@lgw01-amd64-039) (gcc version 7.4.0 (Ubuntu 7.4.0-1ubuntu1~18.04.1)) #28~18.04.1-Ubuntu SMP Wed Dec 18 16:40:14 UTC 2019 (Ubuntu 5.3.0-26.28~18.04.1-generic 5.3.13)\r\n",
      "\u001b[32m[    0.000000] \u001b[0m\u001b[33mCommand line\u001b[0m: BOOT_IMAGE=/boot/vmlinuz-5.3.0-26-generic root=/dev/mapper/ubuntu--vg-root ro quiet splash vt.handoff=1\r\n",
      "\u001b[32m[    0.000000] \u001b[0mKERNEL supported cpus:\r\n",
      "\u001b[32m[    0.000000] \u001b[0m  Intel GenuineIntel\r\n",
      "\u001b[32m[    0.000000] \u001b[0m  AMD AuthenticAMD\r\n",
      "\u001b[32m[    0.000000] \u001b[0m  Hygon HygonGenuine\r\n",
      "\u001b[32m[    0.000000] \u001b[0m  Centaur CentaurHauls\r\n",
      "\u001b[32m[    0.000000] \u001b[0m  zhaoxin   Shanghai  \r\n",
      "\u001b[32m[    0.000000] \u001b[0m\u001b[33mx86/fpu\u001b[0m: Supporting XSAVE feature 0x001: 'x87 floating point registers'\r\n",
      "\u001b[32m[    0.000000] \u001b[0m\u001b[33mx86/fpu\u001b[0m: Supporting XSAVE feature 0x002: 'SSE registers'\r\n",
      "\u001b[32m[    0.000000] \u001b[0m\u001b[33mx86/fpu\u001b[0m: Supporting XSAVE feature 0x004: 'AVX registers'\r\n",
      "\u001b[32m[    0.000000] \u001b[0m\u001b[33mx86/fpu\u001b[0m: Supporting XSAVE feature 0x008: 'MPX bounds registers'\r\n",
      "\u001b[32m[    0.000000] \u001b[0m\u001b[33mx86/fpu\u001b[0m: Supporting XSAVE feature 0x010: 'MPX CSR'\r\n",
      "\u001b[32m[    0.000000] \u001b[0m\u001b[33mx86/fpu\u001b[0m: xstate_offset[2]:  576, xstate_sizes[2]:  256\r\n",
      "\u001b[32m[    0.000000] \u001b[0m\u001b[33mx86/fpu\u001b[0m: xstate_offset[3]:  832, xstate_sizes[3]:   64\r\n",
      "\u001b[32m[    0.000000] \u001b[0m\u001b[33mx86/fpu\u001b[0m: xstate_offset[4]:  896, xstate_sizes[4]:   64\r\n",
      "\u001b[32m[    0.000000] \u001b[0m\u001b[33mx86/fpu\u001b[0m: Enabled xstate features 0x1f, context size is 960 bytes, using 'compacted' format.\r\n",
      "\u001b[32m[    0.000000] \u001b[0mBIOS-provided physical RAM map:\r\n",
      "\u001b[32m[    0.000000] \u001b[0m\u001b[33mBIOS-e820\u001b[0m: [mem 0x0000000000000000-0x000000000009d3ff] usable\r\n",
      "\u001b[32m[    0.000000] \u001b[0m\u001b[33mBIOS-e820\u001b[0m: [mem 0x000000000009d400-0x000000000009ffff] reserved\r\n",
      "\u001b[32m[    0.000000] \u001b[0m\u001b[33mBIOS-e820\u001b[0m: [mem 0x00000000000e0000-0x00000000000fffff] reserved\r\n",
      "\u001b[32m[    0.000000] \u001b[0m\u001b[33mBIOS-e820\u001b[0m: [mem 0x0000000000100000-0x00000000385fcfff] usable\r\n",
      "\u001b[32m[    0.000000] \u001b[0m\u001b[33mBIOS-e820\u001b[0m: [mem 0x00000000385fd000-0x00000000385fdfff] ACPI NVS\r\n",
      "\u001b[32m[    0.000000] \u001b[0m\u001b[33mBIOS-e820\u001b[0m: [mem 0x00000000385fe000-0x00000000385fefff] reserved\r\n",
      "\u001b[32m[    0.000000] \u001b[0m\u001b[33mBIOS-e820\u001b[0m: [mem 0x00000000385ff000-0x000000003da14fff] usable\r\n",
      "\u001b[32m[    0.000000] \u001b[0m\u001b[33mBIOS-e820\u001b[0m: [mem 0x000000003da15000-0x000000003de93fff] reserved\r\n",
      "\u001b[32m[    0.000000] \u001b[0m\u001b[33mBIOS-e820\u001b[0m: [mem 0x000000003de94000-0x000000003e012fff] usable\r\n",
      "\u001b[32m[    0.000000] \u001b[0m\u001b[33mBIOS-e820\u001b[0m: [mem 0x000000003e013000-0x000000003e41bfff] ACPI NVS\r\n",
      "\u001b[32m[    0.000000] \u001b[0m\u001b[33mBIOS-e820\u001b[0m: [mem 0x000000003e41c000-0x000000003eefefff] reserved\r\n",
      "\u001b[32m[    0.000000] \u001b[0m\u001b[33mBIOS-e820\u001b[0m: [mem 0x000000003eeff000-0x000000003eefffff] usable\r\n",
      "\u001b[32m[    0.000000] \u001b[0m\u001b[33mBIOS-e820\u001b[0m: [mem 0x000000003ef00000-0x000000003fffffff] reserved\r\n",
      "\u001b[32m[    0.000000] \u001b[0m\u001b[33mBIOS-e820\u001b[0m: [mem 0x00000000e0000000-0x00000000efffffff] reserved\r\n",
      "\u001b[32m[    0.000000] \u001b[0m\u001b[33mBIOS-e820\u001b[0m: [mem 0x00000000fe000000-0x00000000fe010fff] reserved\r\n",
      "\u001b[32m[    0.000000] \u001b[0m\u001b[33mBIOS-e820\u001b[0m: [mem 0x00000000fec00000-0x00000000fec00fff] reserved\r\n",
      "\u001b[32m[    0.000000] \u001b[0m\u001b[33mBIOS-e820\u001b[0m: [mem 0x00000000fee00000-0x00000000fee00fff] reserved\r\n",
      "\u001b[32m[    0.000000] \u001b[0m\u001b[33mBIOS-e820\u001b[0m: [mem 0x00000000ff000000-0x00000000ffffffff] reserved\r\n",
      "\u001b[32m[    0.000000] \u001b[0m\u001b[33mBIOS-e820\u001b[0m: [mem 0x0000000100000000-0x00000010bdffffff] usable\r\n",
      "\u001b[32m[    0.000000] \u001b[0m\u001b[33mNX (Execute Disable) protection\u001b[0m: active\r\n",
      "\u001b[32m[    0.000000] \u001b[0mSMBIOS 3.1.1 present.\r\n",
      "\u001b[32m[    0.000000] \u001b[0m\u001b[33mDMI\u001b[0m: Gigabyte Technology Co., Ltd. Z390 AORUS PRO WIFI/Z390 AORUS PRO WIFI-CF, BIOS F10 06/05/2019\r\n",
      "\u001b[32m[    0.000000] \u001b[0m\u001b[33mtsc\u001b[0m: Detected 3600.000 MHz processor\r\n",
      "\u001b[32m[    0.000916] \u001b[0m\u001b[33me820\u001b[0m: update [mem 0x00000000-0x00000fff] usable ==> reserved\r\n",
      "\u001b[32m[    0.000917] \u001b[0m\u001b[33me820\u001b[0m: remove [mem 0x000a0000-0x000fffff] usable\r\n",
      "\u001b[32m[    0.000920] \u001b[0mlast_pfn = 0x10be000 max_arch_pfn = 0x400000000\r\n",
      "\u001b[32m[    0.000922] \u001b[0m\u001b[33mMTRR default type\u001b[0m: write-back\r\n",
      "\u001b[32m[    0.000922] \u001b[0mMTRR fixed ranges enabled:\r\n",
      "\u001b[32m[    0.000923] \u001b[0m  00000-9FFFF write-back\r\n",
      "\u001b[32m[    0.000923] \u001b[0m  A0000-BFFFF uncachable\r\n",
      "\u001b[32m[    0.000924] \u001b[0m  C0000-FFFFF write-protect\r\n",
      "\u001b[32m[    0.000924] \u001b[0mMTRR variable ranges enabled:\r\n",
      "\u001b[32m[    0.000925] \u001b[0m  0 base 0080000000 mask 7F80000000 uncachable\r\n",
      "\u001b[32m[    0.000925] \u001b[0m  1 base 0040000000 mask 7FC0000000 uncachable\r\n",
      "\u001b[32m[    0.000926] \u001b[0m  2 disabled\r\n",
      "\u001b[32m[    0.000926] \u001b[0m  3 disabled\r\n",
      "\u001b[32m[    0.000926] \u001b[0m  4 disabled\r\n",
      "\u001b[32m[    0.000926] \u001b[0m  5 disabled\r\n",
      "\u001b[32m[    0.000927] \u001b[0m  6 disabled\r\n",
      "\u001b[32m[    0.000927] \u001b[0m  7 disabled\r\n",
      "\u001b[32m[    0.000927] \u001b[0m  8 disabled\r\n",
      "\u001b[32m[    0.000927] \u001b[0m  9 disabled\r\n",
      "\u001b[32m[    0.001242] \u001b[0m\u001b[33mx86/PAT\u001b[0m: Configuration [0-7]: WB  WC  UC- UC  WB  WP  UC- WT  \r\n",
      "\u001b[32m[    0.001378] \u001b[0mlast_pfn = 0x3ef00 max_arch_pfn = 0x400000000\r\n",
      "\u001b[32m[    0.005702] \u001b[0mfound SMP MP-table at [mem 0x000fcdf0-0x000fcdff]\r\n",
      "\u001b[32m[    0.005743] \u001b[0m\u001b[33mcheck\u001b[0m: Scanning 1 areas for low memory corruption\r\n",
      "\u001b[32m[    0.005754] \u001b[0mUsing GB pages for direct mapping\r\n",
      "\u001b[32m[    0.005755] \u001b[0mBRK [0x852401000, 0x852401fff] PGTABLE\r\n",
      "\u001b[32m[    0.005756] \u001b[0mBRK [0x852402000, 0x852402fff] PGTABLE\r\n",
      "\u001b[32m[    0.005756] \u001b[0mBRK [0x852403000, 0x852403fff] PGTABLE\r\n",
      "\u001b[32m[    0.005770] \u001b[0mBRK [0x852404000, 0x852404fff] PGTABLE\r\n",
      "\u001b[32m[    0.005771] \u001b[0mBRK [0x852405000, 0x852405fff] PGTABLE\r\n",
      "\u001b[32m[    0.005817] \u001b[0mBRK [0x852406000, 0x852406fff] PGTABLE\r\n",
      "\u001b[32m[    0.005838] \u001b[0mBRK [0x852407000, 0x852407fff] PGTABLE\r\n",
      "\u001b[32m[    0.005860] \u001b[0mBRK [0x852408000, 0x852408fff] PGTABLE\r\n",
      "\u001b[32m[    0.005862] \u001b[0mBRK [0x852409000, 0x852409fff] PGTABLE\r\n",
      "\u001b[32m[    0.005884] \u001b[0mBRK [0x85240a000, 0x85240afff] PGTABLE\r\n",
      "\u001b[32m[    0.005905] \u001b[0m\u001b[33mRAMDISK\u001b[0m: [mem 0x332b9000-0x35953fff]\r\n",
      "\u001b[32m[    0.005911] \u001b[0m\u001b[33mACPI\u001b[0m: Early table checksum verification disabled\r\n",
      "\u001b[32m[    0.005913] \u001b[0m\u001b[33mACPI\u001b[0m: RSDP 0x00000000000F05B0 000024 (v02 ALASKA)\r\n",
      "\u001b[32m[    0.005915] \u001b[0m\u001b[33mACPI\u001b[0m: XSDT 0x000000003E3300A8 0000CC (v01 ALASKA A M I    01072009 AMI  00010013)\r\n",
      "\u001b[32m[    0.005918] \u001b[0m\u001b[33mACPI\u001b[0m: FACP 0x000000003E370DD8 000114 (v06 ALASKA A M I    01072009 AMI  00010013)\r\n",
      "\u001b[32m[    0.005921] \u001b[0m\u001b[33mACPI\u001b[0m: DSDT 0x000000003E330208 040BCD (v02 ALASKA A M I    01072009 INTL 20160527)\r\n",
      "\u001b[32m[    0.005923] \u001b[0m\u001b[33mACPI\u001b[0m: FACS 0x000000003E41B080 000040\r\n",
      "\u001b[32m[    0.005924] \u001b[0m\u001b[33mACPI\u001b[0m: APIC 0x000000003E370EF0 00012C (v04 ALASKA A M I    01072009 AMI  00010013)\r\n",
      "\u001b[32m[    0.005925] \u001b[0m\u001b[33mACPI\u001b[0m: FPDT 0x000000003E371020 000044 (v01 ALASKA A M I    01072009 AMI  00010013)\r\n",
      "\u001b[32m[    0.005926] \u001b[0m\u001b[33mACPI\u001b[0m: FIDT 0x000000003E371068 00009C (v01 ALASKA A M I    01072009 AMI  00010013)\r\n",
      "\u001b[32m[    0.005928] \u001b[0m\u001b[33mACPI\u001b[0m: MCFG 0x000000003E371108 00003C (v01 ALASKA A M I    01072009 MSFT 00000097)\r\n",
      "\u001b[32m[    0.005929] \u001b[0m\u001b[33mACPI\u001b[0m: SSDT 0x000000003E371148 000204 (v01 ALASKA A M I    00001000 INTL 20160527)\r\n",
      "\u001b[32m[    0.005930] \u001b[0m\u001b[33mACPI\u001b[0m: SSDT 0x000000003E371350 0017D5 (v02 ALASKA A M I    00003000 INTL 20160527)\r\n",
      "\u001b[32m[    0.005932] \u001b[0m\u001b[33mACPI\u001b[0m: SSDT 0x000000003E372B28 007843 (v01 ALASKA A M I    00000001 INTL 20160527)\r\n",
      "\u001b[32m[    0.005933] \u001b[0m\u001b[33mACPI\u001b[0m: SSDT 0x000000003E37A370 0031C7 (v02 ALASKA A M I    00003000 INTL 20160527)\r\n",
      "\u001b[32m[    0.005934] \u001b[0m\u001b[33mACPI\u001b[0m: SSDT 0x000000003E37D538 002358 (v02 ALASKA A M I    00001000 INTL 20160527)\r\n",
      "\u001b[32m[    0.005936] \u001b[0m\u001b[33mACPI\u001b[0m: HPET 0x000000003E37F890 000038 (v01 ALASKA A M I    00000002      01000013)\r\n",
      "\u001b[32m[    0.005937] \u001b[0m\u001b[33mACPI\u001b[0m: SSDT 0x000000003E37F8C8 000F9E (v02 ALASKA A M I    00001000 INTL 20160527)\r\n",
      "\u001b[32m[    0.005938] \u001b[0m\u001b[33mACPI\u001b[0m: SSDT 0x000000003E380868 002D1B (v02 ALASKA A M I    00000000 INTL 20160527)\r\n",
      "\u001b[32m[    0.005939] \u001b[0m\u001b[33mACPI\u001b[0m: UEFI 0x000000003E383588 000042 (v01 ALASKA A M I    00000002      01000013)\r\n",
      "\u001b[32m[    0.005941] \u001b[0m\u001b[33mACPI\u001b[0m: LPIT 0x000000003E3835D0 00005C (v01 ALASKA A M I    00000002      01000013)\r\n",
      "\u001b[32m[    0.005942] \u001b[0m\u001b[33mACPI\u001b[0m: SSDT 0x000000003E383630 0027DE (v02 ALASKA A M I    00001000 INTL 20160527)\r\n",
      "\u001b[32m[    0.005943] \u001b[0m\u001b[33mACPI\u001b[0m: SSDT 0x000000003E385E10 000FFE (v02 ALASKA A M I    00000000 INTL 20160527)\r\n",
      "\u001b[32m[    0.005944] \u001b[0m\u001b[33mACPI\u001b[0m: DBGP 0x000000003E386E10 000034 (v01 ALASKA A M I    00000002      01000013)\r\n",
      "\u001b[32m[    0.005946] \u001b[0m\u001b[33mACPI\u001b[0m: DBG2 0x000000003E386E48 000054 (v00 ALASKA A M I    00000002      01000013)\r\n",
      "\u001b[32m[    0.005947] \u001b[0m\u001b[33mACPI\u001b[0m: DMAR 0x000000003E386EA0 000070 (v01 ALASKA A M I    00000002      01000013)\r\n",
      "\u001b[32m[    0.005948] \u001b[0m\u001b[33mACPI\u001b[0m: WSMT 0x000000003E386F10 000028 (v01 ALASKA A M I    01072009 AMI  00010013)\r\n",
      "\u001b[32m[    0.005953] \u001b[0m\u001b[33mACPI\u001b[0m: Local APIC address 0xfee00000\r\n",
      "\u001b[32m[    0.006116] \u001b[0mNo NUMA configuration found\r\n",
      "\u001b[32m[    0.006116] \u001b[0mFaking a node at [mem 0x0000000000000000-0x00000010bdffffff]\r\n",
      "\u001b[32m[    0.006121] \u001b[0mNODE_DATA(0) allocated [mem 0x10bdfd5000-0x10bdffffff]\r\n",
      "\u001b[32m[    0.006244] \u001b[0mZone ranges:\r\n",
      "\u001b[32m[    0.006244] \u001b[0m  DMA      [mem 0x0000000000001000-0x0000000000ffffff]\r\n",
      "\u001b[32m[    0.006245] \u001b[0m  DMA32    [mem 0x0000000001000000-0x00000000ffffffff]\r\n",
      "\u001b[32m[    0.006246] \u001b[0m  Normal   [mem 0x0000000100000000-0x00000010bdffffff]\r\n",
      "\u001b[32m[    0.006246] \u001b[0m  Device   empty\r\n",
      "\u001b[32m[    0.006246] \u001b[0mMovable zone start for each node\r\n",
      "\u001b[32m[    0.006248] \u001b[0mEarly memory node ranges\r\n",
      "\u001b[32m[    0.006249] \u001b[0m\u001b[33m  node   0\u001b[0m: [mem 0x0000000000001000-0x000000000009cfff]\r\n",
      "\u001b[32m[    0.006249] \u001b[0m\u001b[33m  node   0\u001b[0m: [mem 0x0000000000100000-0x00000000385fcfff]\r\n",
      "\u001b[32m[    0.006250] \u001b[0m\u001b[33m  node   0\u001b[0m: [mem 0x00000000385ff000-0x000000003da14fff]\r\n",
      "\u001b[32m[    0.006250] \u001b[0m\u001b[33m  node   0\u001b[0m: [mem 0x000000003de94000-0x000000003e012fff]\r\n",
      "\u001b[32m[    0.006250] \u001b[0m\u001b[33m  node   0\u001b[0m: [mem 0x000000003eeff000-0x000000003eefffff]\r\n",
      "\u001b[32m[    0.006250] \u001b[0m\u001b[33m  node   0\u001b[0m: [mem 0x0000000100000000-0x00000010bdffffff]\r\n",
      "\u001b[32m[    0.006296] \u001b[0m\u001b[33mZeroed struct page in unavailable ranges\u001b[0m: 9425 pages\r\n",
      "\u001b[32m[    0.006297] \u001b[0mInitmem setup node 0 [mem 0x0000000000001000-0x00000010bdffffff]\r\n",
      "\u001b[32m[    0.006298] \u001b[0m\u001b[33mOn node 0 totalpages\u001b[0m: 16759599\r\n",
      "\u001b[32m[    0.006298] \u001b[0m\u001b[33m  DMA zone\u001b[0m: 64 pages used for memmap\r\n",
      "\u001b[32m[    0.006299] \u001b[0m\u001b[33m  DMA zone\u001b[0m: 21 pages reserved\r\n",
      "\u001b[32m[    0.006299] \u001b[0m\u001b[33m  DMA zone\u001b[0m: 3996 pages, LIFO batch:0\r\n",
      "\u001b[32m[    0.006324] \u001b[0m\u001b[33m  DMA32 zone\u001b[0m: 3887 pages used for memmap\r\n",
      "\u001b[32m[    0.006324] \u001b[0m\u001b[33m  DMA32 zone\u001b[0m: 248723 pages, LIFO batch:63\r\n",
      "\u001b[32m[    0.009605] \u001b[0m\u001b[33m  Normal zone\u001b[0m: 257920 pages used for memmap\r\n",
      "\u001b[32m[    0.009605] \u001b[0m\u001b[33m  Normal zone\u001b[0m: 16506880 pages, LIFO batch:63\r\n",
      "\u001b[32m[    0.105338] \u001b[0m\u001b[33mACPI\u001b[0m: PM-Timer IO Port: 0x1808\r\n",
      "\u001b[32m[    0.105340] \u001b[0m\u001b[33mACPI\u001b[0m: Local APIC address 0xfee00000\r\n",
      "\u001b[32m[    0.105344] \u001b[0m\u001b[33mACPI\u001b[0m: LAPIC_NMI (acpi_id[0x01] high edge lint[0x1])\r\n",
      "\u001b[32m[    0.105344] \u001b[0m\u001b[33mACPI\u001b[0m: LAPIC_NMI (acpi_id[0x02] high edge lint[0x1])\r\n",
      "\u001b[32m[    0.105345] \u001b[0m\u001b[33mACPI\u001b[0m: LAPIC_NMI (acpi_id[0x03] high edge lint[0x1])\r\n",
      "\u001b[32m[    0.105345] \u001b[0m\u001b[33mACPI\u001b[0m: LAPIC_NMI (acpi_id[0x04] high edge lint[0x1])\r\n",
      "\u001b[32m[    0.105345] \u001b[0m\u001b[33mACPI\u001b[0m: LAPIC_NMI (acpi_id[0x05] high edge lint[0x1])\r\n",
      "\u001b[32m[    0.105345] \u001b[0m\u001b[33mACPI\u001b[0m: LAPIC_NMI (acpi_id[0x06] high edge lint[0x1])\r\n",
      "\u001b[32m[    0.105346] \u001b[0m\u001b[33mACPI\u001b[0m: LAPIC_NMI (acpi_id[0x07] high edge lint[0x1])\r\n",
      "\u001b[32m[    0.105346] \u001b[0m\u001b[33mACPI\u001b[0m: LAPIC_NMI (acpi_id[0x08] high edge lint[0x1])\r\n",
      "\u001b[32m[    0.105346] \u001b[0m\u001b[33mACPI\u001b[0m: LAPIC_NMI (acpi_id[0x09] high edge lint[0x1])\r\n",
      "\u001b[32m[    0.105346] \u001b[0m\u001b[33mACPI\u001b[0m: LAPIC_NMI (acpi_id[0x0a] high edge lint[0x1])\r\n",
      "\u001b[32m[    0.105347] \u001b[0m\u001b[33mACPI\u001b[0m: LAPIC_NMI (acpi_id[0x0b] high edge lint[0x1])\r\n",
      "\u001b[32m[    0.105347] \u001b[0m\u001b[33mACPI\u001b[0m: LAPIC_NMI (acpi_id[0x0c] high edge lint[0x1])\r\n",
      "\u001b[32m[    0.105347] \u001b[0m\u001b[33mACPI\u001b[0m: LAPIC_NMI (acpi_id[0x0d] high edge lint[0x1])\r\n",
      "\u001b[32m[    0.105348] \u001b[0m\u001b[33mACPI\u001b[0m: LAPIC_NMI (acpi_id[0x0e] high edge lint[0x1])\r\n",
      "\u001b[32m[    0.105348] \u001b[0m\u001b[33mACPI\u001b[0m: LAPIC_NMI (acpi_id[0x0f] high edge lint[0x1])\r\n",
      "\u001b[32m[    0.105348] \u001b[0m\u001b[33mACPI\u001b[0m: LAPIC_NMI (acpi_id[0x10] high edge lint[0x1])\r\n",
      "\u001b[32m[    0.105383] \u001b[0m\u001b[33mIOAPIC[0]\u001b[0m: apic_id 2, version 32, address 0xfec00000, GSI 0-119\r\n",
      "\u001b[32m[    0.105385] \u001b[0m\u001b[33mACPI\u001b[0m: INT_SRC_OVR (bus 0 bus_irq 0 global_irq 2 dfl dfl)\r\n",
      "\u001b[32m[    0.105385] \u001b[0m\u001b[33mACPI\u001b[0m: INT_SRC_OVR (bus 0 bus_irq 9 global_irq 9 high level)\r\n",
      "\u001b[32m[    0.105386] \u001b[0m\u001b[33mACPI\u001b[0m: IRQ0 used by override.\r\n",
      "\u001b[32m[    0.105387] \u001b[0m\u001b[33mACPI\u001b[0m: IRQ9 used by override.\r\n",
      "\u001b[32m[    0.105388] \u001b[0mUsing ACPI (MADT) for SMP configuration information\r\n",
      "\u001b[32m[    0.105388] \u001b[0m\u001b[33mACPI\u001b[0m: HPET id: 0x8086a201 base: 0xfed00000\r\n",
      "\u001b[32m[    0.105390] \u001b[0m\u001b[33msmpboot\u001b[0m: Allowing 16 CPUs, 0 hotplug CPUs\r\n",
      "\u001b[32m[    0.105398] \u001b[0m\u001b[33mPM\u001b[0m: Registered nosave memory: [mem 0x00000000-0x00000fff]\r\n",
      "\u001b[32m[    0.105399] \u001b[0m\u001b[33mPM\u001b[0m: Registered nosave memory: [mem 0x0009d000-0x0009dfff]\r\n",
      "\u001b[32m[    0.105399] \u001b[0m\u001b[33mPM\u001b[0m: Registered nosave memory: [mem 0x0009e000-0x0009ffff]\r\n",
      "\u001b[32m[    0.105400] \u001b[0m\u001b[33mPM\u001b[0m: Registered nosave memory: [mem 0x000a0000-0x000dffff]\r\n",
      "\u001b[32m[    0.105400] \u001b[0m\u001b[33mPM\u001b[0m: Registered nosave memory: [mem 0x000e0000-0x000fffff]\r\n",
      "\u001b[32m[    0.105401] \u001b[0m\u001b[33mPM\u001b[0m: Registered nosave memory: [mem 0x385fd000-0x385fdfff]\r\n",
      "\u001b[32m[    0.105401] \u001b[0m\u001b[33mPM\u001b[0m: Registered nosave memory: [mem 0x385fe000-0x385fefff]\r\n",
      "\u001b[32m[    0.105401] \u001b[0m\u001b[33mPM\u001b[0m: Registered nosave memory: [mem 0x3da15000-0x3de93fff]\r\n",
      "\u001b[32m[    0.105402] \u001b[0m\u001b[33mPM\u001b[0m: Registered nosave memory: [mem 0x3e013000-0x3e41bfff]\r\n",
      "\u001b[32m[    0.105402] \u001b[0m\u001b[33mPM\u001b[0m: Registered nosave memory: [mem 0x3e41c000-0x3eefefff]\r\n",
      "\u001b[32m[    0.105403] \u001b[0m\u001b[33mPM\u001b[0m: Registered nosave memory: [mem 0x3ef00000-0x3fffffff]\r\n",
      "\u001b[32m[    0.105403] \u001b[0m\u001b[33mPM\u001b[0m: Registered nosave memory: [mem 0x40000000-0xdfffffff]\r\n",
      "\u001b[32m[    0.105404] \u001b[0m\u001b[33mPM\u001b[0m: Registered nosave memory: [mem 0xe0000000-0xefffffff]\r\n",
      "\u001b[32m[    0.105404] \u001b[0m\u001b[33mPM\u001b[0m: Registered nosave memory: [mem 0xf0000000-0xfdffffff]\r\n",
      "\u001b[32m[    0.105404] \u001b[0m\u001b[33mPM\u001b[0m: Registered nosave memory: [mem 0xfe000000-0xfe010fff]\r\n",
      "\u001b[32m[    0.105404] \u001b[0m\u001b[33mPM\u001b[0m: Registered nosave memory: [mem 0xfe011000-0xfebfffff]\r\n",
      "\u001b[32m[    0.105405] \u001b[0m\u001b[33mPM\u001b[0m: Registered nosave memory: [mem 0xfec00000-0xfec00fff]\r\n",
      "\u001b[32m[    0.105405] \u001b[0m\u001b[33mPM\u001b[0m: Registered nosave memory: [mem 0xfec01000-0xfedfffff]\r\n",
      "\u001b[32m[    0.105405] \u001b[0m\u001b[33mPM\u001b[0m: Registered nosave memory: [mem 0xfee00000-0xfee00fff]\r\n",
      "\u001b[32m[    0.105405] \u001b[0m\u001b[33mPM\u001b[0m: Registered nosave memory: [mem 0xfee01000-0xfeffffff]\r\n",
      "\u001b[32m[    0.105406] \u001b[0m\u001b[33mPM\u001b[0m: Registered nosave memory: [mem 0xff000000-0xffffffff]\r\n",
      "\u001b[32m[    0.105406] \u001b[0m[mem 0x40000000-0xdfffffff] available for PCI devices\r\n",
      "\u001b[32m[    0.105407] \u001b[0mBooting paravirtualized kernel on bare hardware\r\n",
      "\u001b[32m[    0.105409] \u001b[0m\u001b[33mclocksource\u001b[0m: refined-jiffies: mask: 0xffffffff max_cycles: 0xffffffff, max_idle_ns: 7645519600211568 ns\r\n",
      "\u001b[32m[    0.105411] \u001b[0m\u001b[33msetup_percpu\u001b[0m: NR_CPUS:8192 nr_cpumask_bits:16 nr_cpu_ids:16 nr_node_ids:1\r\n",
      "\u001b[32m[    0.105610] \u001b[0m\u001b[33mpercpu\u001b[0m: Embedded 54 pages/cpu s184320 r8192 d28672 u262144\r\n",
      "\u001b[32m[    0.105613] \u001b[0m\u001b[33mpcpu-alloc\u001b[0m: s184320 r8192 d28672 u262144 alloc=1*2097152\r\n",
      "\u001b[32m[    0.105613] \u001b[0m\u001b[33mpcpu-alloc\u001b[0m: [0] 00 01 02 03 04 05 06 07 [0] 08 09 10 11 12 13 14 15 \r\n",
      "\u001b[32m[    0.105628] \u001b[0m\u001b[33mBuilt 1 zonelists, mobility grouping on.  Total pages\u001b[0m: 16497707\r\n",
      "\u001b[32m[    0.105628] \u001b[0m\u001b[33mPolicy zone\u001b[0m: Normal\r\n",
      "\u001b[32m[    0.105629] \u001b[0m\u001b[33mKernel command line\u001b[0m: BOOT_IMAGE=/boot/vmlinuz-5.3.0-26-generic root=/dev/mapper/ubuntu--vg-root ro quiet splash vt.handoff=1\r\n",
      "\u001b[32m[    0.107694] \u001b[0m\u001b[33mDentry cache hash table entries\u001b[0m: 8388608 (order: 14, 67108864 bytes, linear)\r\n",
      "\u001b[32m[    0.108698] \u001b[0m\u001b[33mInode-cache hash table entries\u001b[0m: 4194304 (order: 13, 33554432 bytes, linear)\r\n",
      "\u001b[32m[    0.108893] \u001b[0m\u001b[33mmem auto-init\u001b[0m: stack:off, heap alloc:on, heap free:off\r\n",
      "\u001b[32m[    0.110952] \u001b[0m\u001b[33mCalgary\u001b[0m: detecting Calgary via BIOS EBDA area\r\n",
      "\u001b[32m[    0.110953] \u001b[0m\u001b[33mCalgary\u001b[0m: Unable to locate Rio Grande table in EBDA - bailing!\r\n",
      "\u001b[32m[    0.211516] \u001b[0m\u001b[33mMemory\u001b[0m: 65749220K/67038396K available (14339K kernel code, 2370K rwdata, 4668K rodata, 2660K init, 5076K bss, 1289176K reserved, 0K cma-reserved)\r\n",
      "\u001b[32m[    0.211604] \u001b[0m\u001b[33mSLUB\u001b[0m: HWalign=64, Order=0-3, MinObjects=0, CPUs=16, Nodes=1\r\n",
      "\u001b[32m[    0.211611] \u001b[0m\u001b[33mftrace\u001b[0m: allocating 42927 entries in 168 pages\r\n",
      "\u001b[32m[    0.220641] \u001b[0m\u001b[33mrcu\u001b[0m: Hierarchical RCU implementation.\r\n",
      "\u001b[32m[    0.220642] \u001b[0m\u001b[33mrcu\u001b[0m: \tRCU restricting CPUs from NR_CPUS=8192 to nr_cpu_ids=16.\r\n",
      "\u001b[32m[    0.220643] \u001b[0m\tTasks RCU enabled.\r\n",
      "\u001b[32m[    0.220643] \u001b[0m\u001b[33mrcu\u001b[0m: RCU calculated value of scheduler-enlistment delay is 25 jiffies.\r\n",
      "\u001b[32m[    0.220644] \u001b[0m\u001b[33mrcu\u001b[0m: Adjusting geometry for rcu_fanout_leaf=16, nr_cpu_ids=16\r\n",
      "\u001b[32m[    0.222205] \u001b[0m\u001b[33mNR_IRQS\u001b[0m: 524544, nr_irqs: 2184, preallocated irqs: 16\r\n",
      "\u001b[32m[    0.222557] \u001b[0m\u001b[33mrandom\u001b[0m: crng done (trusting CPU's manufacturer)\r\n",
      "\u001b[32m[    0.222574] \u001b[0m\u001b[33mvt handoff\u001b[0m: transparent VT on vt#1\r\n",
      "\u001b[32m[    0.222577] \u001b[0m\u001b[33mConsole\u001b[0m: colour dummy device 80x25\r\n",
      "\u001b[32m[    0.222580] \u001b[0m\u001b[33mprintk\u001b[0m: console [tty0] enabled\r\n",
      "\u001b[32m[    0.222590] \u001b[0m\u001b[33mACPI\u001b[0m: Core revision 20190703\r\n",
      "\u001b[32m[    0.222849] \u001b[0m\u001b[33mclocksource\u001b[0m: hpet: mask: 0xffffffff max_cycles: 0xffffffff, max_idle_ns: 79635855245 ns\r\n",
      "\u001b[32m[    0.222939] \u001b[0m\u001b[33mAPIC\u001b[0m: Switch to symmetric I/O mode setup\r\n",
      "\u001b[32m[    0.222940] \u001b[0m\u001b[33mDMAR\u001b[0m: Host address width 39\r\n",
      "\u001b[32m[    0.222940] \u001b[0m\u001b[33mDMAR\u001b[0m: DRHD base: 0x000000fed91000 flags: 0x1\r\n",
      "\u001b[32m[    0.222943] \u001b[0m\u001b[33mDMAR\u001b[0m: dmar0: reg_base_addr fed91000 ver 1:0 cap d2008c40660462 ecap f050da\r\n",
      "\u001b[32m[    0.222944] \u001b[0m\u001b[33mDMAR\u001b[0m: RMRR base: 0x0000003e88e000 end: 0x0000003ead7fff\r\n",
      "\u001b[32m[    0.222945] \u001b[0m\u001b[33mDMAR-IR\u001b[0m: IOAPIC id 2 under DRHD base  0xfed91000 IOMMU 0\r\n",
      "\u001b[32m[    0.222945] \u001b[0m\u001b[33mDMAR-IR\u001b[0m: HPET id 0 under DRHD base 0xfed91000\r\n",
      "\u001b[32m[    0.222946] \u001b[0m\u001b[33mDMAR-IR\u001b[0m: Queued invalidation will be enabled to support x2apic and Intr-remapping.\r\n",
      "\u001b[32m[    0.224308] \u001b[0m\u001b[33mDMAR-IR\u001b[0m: Enabled IRQ remapping in x2apic mode\r\n",
      "\u001b[32m[    0.224309] \u001b[0mx2apic enabled\r\n",
      "\u001b[32m[    0.224334] \u001b[0mSwitched APIC routing to cluster x2apic.\r\n",
      "\u001b[32m[    0.228993] \u001b[0m\u001b[33m..TIMER\u001b[0m: vector=0x30 apic1=0 pin1=2 apic2=-1 pin2=-1\r\n",
      "\u001b[32m[    0.246904] \u001b[0m\u001b[33mclocksource\u001b[0m: tsc-early: mask: 0xffffffffffffffff max_cycles: 0x33e452fbb2f, max_idle_ns: 440795236593 ns\r\n",
      "\u001b[32m[    0.246907] \u001b[0mCalibrating delay loop (skipped), value calculated using timer frequency.. 7200.00 BogoMIPS (lpj=14400000)\r\n",
      "\u001b[32m[    0.246909] \u001b[0m\u001b[33mpid_max\u001b[0m: default: 32768 minimum: 301\r\n",
      "\u001b[32m[    0.246931] \u001b[0m\u001b[33mLSM\u001b[0m: Security Framework initializing\r\n",
      "\u001b[32m[    0.246937] \u001b[0m\u001b[33mYama\u001b[0m: becoming mindful.\r\n",
      "\u001b[32m[    0.246978] \u001b[0m\u001b[33mAppArmor\u001b[0m: AppArmor initialized\r\n",
      "\u001b[32m[    0.247072] \u001b[0m\u001b[33mMount-cache hash table entries\u001b[0m: 131072 (order: 8, 1048576 bytes, linear)\r\n",
      "\u001b[32m[    0.247158] \u001b[0m\u001b[33mMountpoint-cache hash table entries\u001b[0m: 131072 (order: 8, 1048576 bytes, linear)\r\n",
      "\u001b[32m[    0.247250] \u001b[0m*** VALIDATE proc ***\r\n",
      "\u001b[32m[    0.247280] \u001b[0m*** VALIDATE cgroup1 ***\r\n",
      "\u001b[32m[    0.247281] \u001b[0m*** VALIDATE cgroup2 ***\r\n",
      "\u001b[32m[    0.247315] \u001b[0m\u001b[33mmce\u001b[0m: CPU0: Thermal monitoring enabled (TM1)\r\n",
      "\u001b[32m[    0.247333] \u001b[0m\u001b[33mprocess\u001b[0m: using mwait in idle threads\r\n",
      "\u001b[32m[    0.247334] \u001b[0m\u001b[33mLast level iTLB entries\u001b[0m: 4KB 64, 2MB 8, 4MB 8\r\n",
      "\u001b[32m[    0.247334] \u001b[0m\u001b[33mLast level dTLB entries\u001b[0m: 4KB 64, 2MB 0, 4MB 0, 1GB 4\r\n",
      "\u001b[32m[    0.247336] \u001b[0m\u001b[33mSpectre V1 \u001b[0m: Mitigation: usercopy/swapgs barriers and __user pointer sanitization\r\n",
      "\u001b[32m[    0.247337] \u001b[0m\u001b[33mSpectre V2 \u001b[0m: Mitigation: Full generic retpoline\r\n",
      "\u001b[32m[    0.247337] \u001b[0m\u001b[33mSpectre V2 \u001b[0m: Spectre v2 / SpectreRSB mitigation: Filling RSB on context switch\r\n",
      "\u001b[32m[    0.247337] \u001b[0m\u001b[33mSpectre V2 \u001b[0m: Enabling Restricted Speculation for firmware calls\r\n",
      "\u001b[32m[    0.247338] \u001b[0m\u001b[33mSpectre V2 \u001b[0m: mitigation: Enabling conditional Indirect Branch Prediction Barrier\r\n",
      "\u001b[32m[    0.247338] \u001b[0m\u001b[33mSpectre V2 \u001b[0m: User space: Mitigation: STIBP via seccomp and prctl\r\n",
      "\u001b[32m[    0.247339] \u001b[0m\u001b[33mSpeculative Store Bypass\u001b[0m: Mitigation: Speculative Store Bypass disabled via prctl and seccomp\r\n",
      "\u001b[32m[    0.247340] \u001b[0m\u001b[33mMDS\u001b[0m: Mitigation: Clear CPU buffers\r\n",
      "\u001b[32m[    0.247341] \u001b[0m\u001b[33mTAA\u001b[0m: Mitigation: Clear CPU buffers\r\n",
      "\u001b[32m[    0.247484] \u001b[0m\u001b[33mFreeing SMP alternatives memory\u001b[0m: 40K\r\n",
      "\u001b[32m[    0.248737] \u001b[0mTSC deadline timer enabled\r\n",
      "\u001b[32m[    0.248742] \u001b[0m\u001b[33msmpboot\u001b[0m: CPU0: Intel(R) Core(TM) i9-9900KF CPU @ 3.60GHz (family: 0x6, model: 0x9e, stepping: 0xc)\r\n",
      "\u001b[32m[    0.248796] \u001b[0m\u001b[33mPerformance Events\u001b[0m: PEBS fmt3+, Skylake events, 32-deep LBR, full-width counters, Intel PMU driver.\r\n",
      "\u001b[32m[    0.248799] \u001b[0m\u001b[33m... version\u001b[0m:                4\r\n",
      "\u001b[32m[    0.248800] \u001b[0m\u001b[33m... bit width\u001b[0m:              48\r\n",
      "\u001b[32m[    0.248800] \u001b[0m\u001b[33m... generic registers\u001b[0m:      4\r\n",
      "\u001b[32m[    0.248800] \u001b[0m\u001b[33m... value mask\u001b[0m:             0000ffffffffffff\r\n",
      "\u001b[32m[    0.248800] \u001b[0m\u001b[33m... max period\u001b[0m:             00007fffffffffff\r\n",
      "\u001b[32m[    0.248801] \u001b[0m\u001b[33m... fixed-purpose events\u001b[0m:   3\r\n",
      "\u001b[32m[    0.248801] \u001b[0m\u001b[33m... event mask\u001b[0m:             000000070000000f\r\n",
      "\u001b[32m[    0.248824] \u001b[0m\u001b[33mrcu\u001b[0m: Hierarchical SRCU implementation.\r\n",
      "\u001b[32m[    0.249537] \u001b[0m\u001b[33mNMI watchdog\u001b[0m: Enabled. Permanently consumes one hw-PMU counter.\r\n",
      "\u001b[32m[    0.249605] \u001b[0m\u001b[33msmp\u001b[0m: Bringing up secondary CPUs ...\r\n",
      "\u001b[32m[    0.249652] \u001b[0m\u001b[33mx86\u001b[0m: Booting SMP configuration:\r\n",
      "\u001b[32m[    0.249653] \u001b[0m\u001b[33m.... node  #0, CPUs\u001b[0m:        #1  #2  #3  #4  #5  #6  #7  #8\r\n",
      "\u001b[32m[    0.251417] \u001b[0m\u001b[1mMDS CPU bug present and SMT on, data leak possible. See https://www.kernel.org/doc/html/latest/admin-guide/hw-vuln/mds.html for more details.\u001b[0m\r\n",
      "\u001b[32m[    0.251417] \u001b[0m\u001b[1mTAA CPU bug present and SMT on, data leak possible. See https://www.kernel.org/doc/html/latest/admin-guide/hw-vuln/tsx_async_abort.html for more details.\u001b[0m\r\n",
      "\u001b[32m[    0.251417] \u001b[0m\u001b[1m  #9 #10 #11 #12 #13 #14 #15\u001b[0m\r\n",
      "\u001b[32m[    0.251417] \u001b[0m\u001b[33msmp\u001b[0m: Brought up 1 node, 16 CPUs\r\n",
      "\u001b[32m[    0.251417] \u001b[0m\u001b[33msmpboot\u001b[0m: Max logical packages: 1\r\n",
      "\u001b[32m[    0.251417] \u001b[0m\u001b[33msmpboot\u001b[0m: Total of 16 processors activated (115200.00 BogoMIPS)\r\n",
      "\u001b[32m[    0.255938] \u001b[0m\u001b[33mdevtmpfs\u001b[0m: initialized\r\n",
      "\u001b[32m[    0.255938] \u001b[0m\u001b[33mx86/mm\u001b[0m: Memory block size: 128MB\r\n",
      "\u001b[32m[    0.262637] \u001b[0m\u001b[33mPM\u001b[0m: Registering ACPI NVS region [mem 0x385fd000-0x385fdfff] (4096 bytes)\r\n",
      "\u001b[32m[    0.262637] \u001b[0m\u001b[33mPM\u001b[0m: Registering ACPI NVS region [mem 0x3e013000-0x3e41bfff] (4231168 bytes)\r\n",
      "\u001b[32m[    0.262637] \u001b[0m\u001b[33mclocksource\u001b[0m: jiffies: mask: 0xffffffff max_cycles: 0xffffffff, max_idle_ns: 7645041785100000 ns\r\n",
      "\u001b[32m[    0.262637] \u001b[0m\u001b[33mfutex hash table entries\u001b[0m: 4096 (order: 6, 262144 bytes, linear)\r\n",
      "\u001b[32m[    0.262637] \u001b[0m\u001b[33mpinctrl core\u001b[0m: initialized pinctrl subsystem\r\n",
      "\u001b[32m[    0.262917] \u001b[0m\u001b[33mPM\u001b[0m: RTC time: 00:31:06, date: 2020-05-15\r\n",
      "\u001b[32m[    0.262979] \u001b[0m\u001b[33mNET\u001b[0m: Registered protocol family 16\r\n",
      "\u001b[32m[    0.263027] \u001b[0m\u001b[33maudit\u001b[0m: initializing netlink subsys (disabled)\r\n",
      "\u001b[32m[    0.263033] \u001b[0m\u001b[33maudit\u001b[0m: type=2000 audit(1589502666.040:1): state=initialized audit_enabled=0 res=1\r\n",
      "\u001b[32m[    0.263033] \u001b[0mEISA bus registered\r\n",
      "\u001b[32m[    0.263033] \u001b[0m\u001b[33mcpuidle\u001b[0m: using governor ladder\r\n",
      "\u001b[32m[    0.263033] \u001b[0m\u001b[33mcpuidle\u001b[0m: using governor menu\r\n",
      "\u001b[32m[    0.263033] \u001b[0mACPI FADT declares the system doesn't support PCIe ASPM, so disable it\r\n",
      "\u001b[32m[    0.263033] \u001b[0m\u001b[33mACPI\u001b[0m: bus type PCI registered\r\n",
      "\u001b[32m[    0.263033] \u001b[0m\u001b[33macpiphp\u001b[0m: ACPI Hot Plug PCI Controller Driver version: 0.5\r\n",
      "\u001b[32m[    0.263033] \u001b[0m\u001b[33mPCI\u001b[0m: MMCONFIG for domain 0000 [bus 00-ff] at [mem 0xe0000000-0xefffffff] (base 0xe0000000)\r\n",
      "\u001b[32m[    0.263033] \u001b[0m\u001b[33mPCI\u001b[0m: MMCONFIG at [mem 0xe0000000-0xefffffff] reserved in E820\r\n",
      "\u001b[32m[    0.263033] \u001b[0m\u001b[33mPCI\u001b[0m: Using configuration type 1 for base access\r\n",
      "\u001b[32m[    0.268936] \u001b[0mHugeTLB registered 1.00 GiB page size, pre-allocated 0 pages\r\n",
      "\u001b[32m[    0.268936] \u001b[0mHugeTLB registered 2.00 MiB page size, pre-allocated 0 pages\r\n",
      "\u001b[32m[    0.268936] \u001b[0m\u001b[33mACPI\u001b[0m: Added _OSI(Module Device)\r\n",
      "\u001b[32m[    0.268936] \u001b[0m\u001b[33mACPI\u001b[0m: Added _OSI(Processor Device)\r\n",
      "\u001b[32m[    0.268936] \u001b[0m\u001b[33mACPI\u001b[0m: Added _OSI(3.0 _SCP Extensions)\r\n",
      "\u001b[32m[    0.268936] \u001b[0m\u001b[33mACPI\u001b[0m: Added _OSI(Processor Aggregator Device)\r\n",
      "\u001b[32m[    0.268936] \u001b[0m\u001b[33mACPI\u001b[0m: Added _OSI(Linux-Dell-Video)\r\n",
      "\u001b[32m[    0.268936] \u001b[0m\u001b[33mACPI\u001b[0m: Added _OSI(Linux-Lenovo-NV-HDMI-Audio)\r\n",
      "\u001b[32m[    0.268936] \u001b[0m\u001b[33mACPI\u001b[0m: Added _OSI(Linux-HPI-Hybrid-Graphics)\r\n",
      "\u001b[32m[    0.320497] \u001b[0m\u001b[33mACPI\u001b[0m: 10 ACPI AML tables successfully acquired and loaded\r\n",
      "\u001b[32m[    0.328588] \u001b[0m\u001b[33mACPI\u001b[0m: Dynamic OEM Table Load:\r\n",
      "\u001b[32m[    0.328592] \u001b[0m\u001b[33mACPI\u001b[0m: SSDT 0xFFFF8D65368D3800 00078C (v02 PmRef  Cpu0Ist  00003000 INTL 20160527)\r\n",
      "\u001b[32m[    0.329736] \u001b[0m\u001b[33mACPI\u001b[0m: \\_SB_.PR00: _OSC native thermal LVT Acked\r\n",
      "\u001b[32m[    0.330904] \u001b[0m\u001b[33mACPI\u001b[0m: Dynamic OEM Table Load:\r\n",
      "\u001b[32m[    0.330908] \u001b[0m\u001b[33mACPI\u001b[0m: SSDT 0xFFFF8D6536799000 000400 (v02 PmRef  Cpu0Cst  00003001 INTL 20160527)\r\n",
      "\u001b[32m[    0.331946] \u001b[0m\u001b[33mACPI\u001b[0m: Dynamic OEM Table Load:\r\n",
      "\u001b[32m[    0.331949] \u001b[0m\u001b[33mACPI\u001b[0m: SSDT 0xFFFF8D6536508C00 00011B (v02 PmRef  Cpu0Hwp  00003000 INTL 20160527)\r\n",
      "\u001b[32m[    0.332945] \u001b[0m\u001b[33mACPI\u001b[0m: Dynamic OEM Table Load:\r\n",
      "\u001b[32m[    0.332948] \u001b[0m\u001b[33mACPI\u001b[0m: SSDT 0xFFFF8D65368D7000 000724 (v02 PmRef  HwpLvt   00003000 INTL 20160527)\r\n",
      "\u001b[32m[    0.334219] \u001b[0m\u001b[33mACPI\u001b[0m: Dynamic OEM Table Load:\r\n",
      "\u001b[32m[    0.334223] \u001b[0m\u001b[33mACPI\u001b[0m: SSDT 0xFFFF8D6536BF5000 000EF1 (v02 PmRef  ApIst    00003000 INTL 20160527)\r\n",
      "\u001b[32m[    0.335804] \u001b[0m\u001b[33mACPI\u001b[0m: Dynamic OEM Table Load:\r\n",
      "\u001b[32m[    0.335807] \u001b[0m\u001b[33mACPI\u001b[0m: SSDT 0xFFFF8D653679D800 000317 (v02 PmRef  ApHwp    00003000 INTL 20160527)\r\n",
      "\u001b[32m[    0.336869] \u001b[0m\u001b[33mACPI\u001b[0m: Dynamic OEM Table Load:\r\n",
      "\u001b[32m[    0.336872] \u001b[0m\u001b[33mACPI\u001b[0m: SSDT 0xFFFF8D653679C000 00030A (v02 PmRef  ApCst    00003000 INTL 20160527)\r\n",
      "\u001b[32m[    0.342616] \u001b[0m\u001b[33mACPI\u001b[0m: Interpreter enabled\r\n",
      "\u001b[32m[    0.342640] \u001b[0m\u001b[33mACPI\u001b[0m: (supports S0 S3 S4 S5)\r\n",
      "\u001b[32m[    0.342641] \u001b[0m\u001b[33mACPI\u001b[0m: Using IOAPIC for interrupt routing\r\n",
      "\u001b[32m[    0.342665] \u001b[0m\u001b[33mPCI\u001b[0m: Using host bridge windows from ACPI; if necessary, use \"pci=nocrs\" and report a bug\r\n",
      "\u001b[32m[    0.343572] \u001b[0m\u001b[33mACPI\u001b[0m: Enabled 6 GPEs in block 00 to 7F\r\n",
      "\u001b[32m[    0.353271] \u001b[0m\u001b[33mACPI\u001b[0m: Power Resource [USBC] (on)\r\n",
      "\u001b[32m[    0.355528] \u001b[0m\u001b[33mACPI\u001b[0m: Power Resource [V0PR] (on)\r\n",
      "\u001b[32m[    0.355678] \u001b[0m\u001b[33mACPI\u001b[0m: Power Resource [V1PR] (on)\r\n",
      "\u001b[32m[    0.355823] \u001b[0m\u001b[33mACPI\u001b[0m: Power Resource [V2PR] (on)\r\n",
      "\u001b[32m[    0.359983] \u001b[0m\u001b[33mACPI\u001b[0m: Power Resource [WRST] (on)\r\n",
      "\u001b[32m[    0.363505] \u001b[0m\u001b[33mACPI\u001b[0m: Power Resource [FN00] (off)\r\n",
      "\u001b[32m[    0.363566] \u001b[0m\u001b[33mACPI\u001b[0m: Power Resource [FN01] (off)\r\n",
      "\u001b[32m[    0.363626] \u001b[0m\u001b[33mACPI\u001b[0m: Power Resource [FN02] (off)\r\n",
      "\u001b[32m[    0.363687] \u001b[0m\u001b[33mACPI\u001b[0m: Power Resource [FN03] (off)\r\n",
      "\u001b[32m[    0.363745] \u001b[0m\u001b[33mACPI\u001b[0m: Power Resource [FN04] (off)\r\n",
      "\u001b[32m[    0.364210] \u001b[0m\u001b[33mACPI\u001b[0m: Power Resource [PIN] (off)\r\n",
      "\u001b[32m[    0.364676] \u001b[0m\u001b[33mACPI\u001b[0m: PCI Root Bridge [PCI0] (domain 0000 [bus 00-fe])\r\n",
      "\u001b[32m[    0.364680] \u001b[0m\u001b[33macpi PNP0A08:00\u001b[0m: _OSC: OS supports [ExtendedConfig ASPM ClockPM Segments MSI HPX-Type3]\r\n",
      "\u001b[32m[    0.364822] \u001b[0m\u001b[33macpi PNP0A08:00\u001b[0m: _OSC: platform does not support [PCIeHotplug SHPCHotplug PME]\r\n",
      "\u001b[32m[    0.364956] \u001b[0m\u001b[33macpi PNP0A08:00\u001b[0m: _OSC: OS now controls [AER PCIeCapability LTR]\r\n",
      "\u001b[32m[    0.364956] \u001b[0m\u001b[33macpi PNP0A08:00\u001b[0m: FADT indicates ASPM is unsupported, using BIOS configuration\r\n",
      "\u001b[32m[    0.365732] \u001b[0mPCI host bridge to bus 0000:00\r\n",
      "\u001b[32m[    0.365733] \u001b[0m\u001b[33mpci_bus 0000:00\u001b[0m: root bus resource [io  0x0000-0x0cf7 window]\r\n",
      "\u001b[32m[    0.365734] \u001b[0m\u001b[33mpci_bus 0000:00\u001b[0m: root bus resource [io  0x0d00-0xffff window]\r\n",
      "\u001b[32m[    0.365734] \u001b[0m\u001b[33mpci_bus 0000:00\u001b[0m: root bus resource [mem 0x000a0000-0x000bffff window]\r\n",
      "\u001b[32m[    0.365735] \u001b[0m\u001b[33mpci_bus 0000:00\u001b[0m: root bus resource [mem 0x40000000-0xdfffffff window]\r\n",
      "\u001b[32m[    0.365735] \u001b[0m\u001b[33mpci_bus 0000:00\u001b[0m: root bus resource [mem 0xfc800000-0xfe7fffff window]\r\n",
      "\u001b[32m[    0.365736] \u001b[0m\u001b[33mpci_bus 0000:00\u001b[0m: root bus resource [bus 00-fe]\r\n",
      "\u001b[32m[    0.365741] \u001b[0m\u001b[33mpci 0000:00:00.0\u001b[0m: [8086:3e30] type 00 class 0x060000\r\n",
      "\u001b[32m[    0.366009] \u001b[0m\u001b[33mpci 0000:00:01.0\u001b[0m: [8086:1901] type 01 class 0x060400\r\n",
      "\u001b[32m[    0.366039] \u001b[0m\u001b[33mpci 0000:00:01.0\u001b[0m: PME# supported from D0 D3hot D3cold\r\n",
      "\u001b[32m[    0.366283] \u001b[0m\u001b[33mpci 0000:00:12.0\u001b[0m: [8086:a379] type 00 class 0x118000\r\n",
      "\u001b[32m[    0.366301] \u001b[0m\u001b[33mpci 0000:00:12.0\u001b[0m: reg 0x10: [mem 0x55341000-0x55341fff 64bit]\r\n",
      "\u001b[32m[    0.366468] \u001b[0m\u001b[33mpci 0000:00:14.0\u001b[0m: [8086:a36d] type 00 class 0x0c0330\r\n",
      "\u001b[32m[    0.366483] \u001b[0m\u001b[33mpci 0000:00:14.0\u001b[0m: reg 0x10: [mem 0x55320000-0x5532ffff 64bit]\r\n",
      "\u001b[32m[    0.366531] \u001b[0m\u001b[33mpci 0000:00:14.0\u001b[0m: PME# supported from D3hot D3cold\r\n",
      "\u001b[32m[    0.366680] \u001b[0m\u001b[33mpci 0000:00:14.2\u001b[0m: [8086:a36f] type 00 class 0x050000\r\n",
      "\u001b[32m[    0.366697] \u001b[0m\u001b[33mpci 0000:00:14.2\u001b[0m: reg 0x10: [mem 0x5533a000-0x5533bfff 64bit]\r\n",
      "\u001b[32m[    0.366707] \u001b[0m\u001b[33mpci 0000:00:14.2\u001b[0m: reg 0x18: [mem 0x55340000-0x55340fff 64bit]\r\n",
      "\u001b[32m[    0.366837] \u001b[0m\u001b[33mpci 0000:00:14.3\u001b[0m: [8086:a370] type 00 class 0x028000\r\n",
      "\u001b[32m[    0.366871] \u001b[0m\u001b[33mpci 0000:00:14.3\u001b[0m: reg 0x10: [mem 0x55334000-0x55337fff 64bit]\r\n",
      "\u001b[32m[    0.366965] \u001b[0m\u001b[33mpci 0000:00:14.3\u001b[0m: PME# supported from D0 D3hot D3cold\r\n",
      "\u001b[32m[    0.367083] \u001b[0m\u001b[33mpci 0000:00:16.0\u001b[0m: [8086:a360] type 00 class 0x078000\r\n",
      "\u001b[32m[    0.367105] \u001b[0m\u001b[33mpci 0000:00:16.0\u001b[0m: reg 0x10: [mem 0x5533f000-0x5533ffff 64bit]\r\n",
      "\u001b[32m[    0.367171] \u001b[0m\u001b[33mpci 0000:00:16.0\u001b[0m: PME# supported from D3hot\r\n",
      "\u001b[32m[    0.367345] \u001b[0m\u001b[33mpci 0000:00:17.0\u001b[0m: [8086:a352] type 00 class 0x010601\r\n",
      "\u001b[32m[    0.367358] \u001b[0m\u001b[33mpci 0000:00:17.0\u001b[0m: reg 0x10: [mem 0x55338000-0x55339fff]\r\n",
      "\u001b[32m[    0.367363] \u001b[0m\u001b[33mpci 0000:00:17.0\u001b[0m: reg 0x14: [mem 0x5533e000-0x5533e0ff]\r\n",
      "\u001b[32m[    0.367368] \u001b[0m\u001b[33mpci 0000:00:17.0\u001b[0m: reg 0x18: [io  0x4050-0x4057]\r\n",
      "\u001b[32m[    0.367373] \u001b[0m\u001b[33mpci 0000:00:17.0\u001b[0m: reg 0x1c: [io  0x4040-0x4043]\r\n",
      "\u001b[32m[    0.367378] \u001b[0m\u001b[33mpci 0000:00:17.0\u001b[0m: reg 0x20: [io  0x4020-0x403f]\r\n",
      "\u001b[32m[    0.367384] \u001b[0m\u001b[33mpci 0000:00:17.0\u001b[0m: reg 0x24: [mem 0x5533d000-0x5533d7ff]\r\n",
      "\u001b[32m[    0.367414] \u001b[0m\u001b[33mpci 0000:00:17.0\u001b[0m: PME# supported from D3hot\r\n",
      "\u001b[32m[    0.367570] \u001b[0m\u001b[33mpci 0000:00:1b.0\u001b[0m: [8086:a340] type 01 class 0x060400\r\n",
      "\u001b[32m[    0.367639] \u001b[0m\u001b[33mpci 0000:00:1b.0\u001b[0m: PME# supported from D0 D3hot D3cold\r\n",
      "\u001b[32m[    0.367652] \u001b[0m\u001b[33mpci 0000:00:1b.0\u001b[0m: PTM enabled (root), 4dns granularity\r\n",
      "\u001b[32m[    0.367823] \u001b[0m\u001b[33mpci 0000:00:1c.0\u001b[0m: [8086:a338] type 01 class 0x060400\r\n",
      "\u001b[32m[    0.367891] \u001b[0m\u001b[33mpci 0000:00:1c.0\u001b[0m: PME# supported from D0 D3hot D3cold\r\n",
      "\u001b[32m[    0.368064] \u001b[0m\u001b[33mpci 0000:00:1d.0\u001b[0m: [8086:a330] type 01 class 0x060400\r\n",
      "\u001b[32m[    0.368134] \u001b[0m\u001b[33mpci 0000:00:1d.0\u001b[0m: PME# supported from D0 D3hot D3cold\r\n",
      "\u001b[32m[    0.368313] \u001b[0m\u001b[33mpci 0000:00:1f.0\u001b[0m: [8086:a305] type 00 class 0x060100\r\n",
      "\u001b[32m[    0.368580] \u001b[0m\u001b[33mpci 0000:00:1f.3\u001b[0m: [8086:a348] type 00 class 0x040300\r\n",
      "\u001b[32m[    0.368624] \u001b[0m\u001b[33mpci 0000:00:1f.3\u001b[0m: reg 0x10: [mem 0x55330000-0x55333fff 64bit]\r\n",
      "\u001b[32m[    0.368671] \u001b[0m\u001b[33mpci 0000:00:1f.3\u001b[0m: reg 0x20: [mem 0x55100000-0x551fffff 64bit]\r\n",
      "\u001b[32m[    0.368750] \u001b[0m\u001b[33mpci 0000:00:1f.3\u001b[0m: PME# supported from D3hot D3cold\r\n",
      "\u001b[32m[    0.368972] \u001b[0m\u001b[33mpci 0000:00:1f.4\u001b[0m: [8086:a323] type 00 class 0x0c0500\r\n",
      "\u001b[32m[    0.368990] \u001b[0m\u001b[33mpci 0000:00:1f.4\u001b[0m: reg 0x10: [mem 0x5533c000-0x5533c0ff 64bit]\r\n",
      "\u001b[32m[    0.369007] \u001b[0m\u001b[33mpci 0000:00:1f.4\u001b[0m: reg 0x20: [io  0xefa0-0xefbf]\r\n",
      "\u001b[32m[    0.369129] \u001b[0m\u001b[33mpci 0000:00:1f.5\u001b[0m: [8086:a324] type 00 class 0x0c8000\r\n",
      "\u001b[32m[    0.369142] \u001b[0m\u001b[33mpci 0000:00:1f.5\u001b[0m: reg 0x10: [mem 0xfe010000-0xfe010fff]\r\n",
      "\u001b[32m[    0.369269] \u001b[0m\u001b[33mpci 0000:00:1f.6\u001b[0m: [8086:15bc] type 00 class 0x020000\r\n",
      "\u001b[32m[    0.369301] \u001b[0m\u001b[33mpci 0000:00:1f.6\u001b[0m: reg 0x10: [mem 0x55300000-0x5531ffff]\r\n",
      "\u001b[32m[    0.369426] \u001b[0m\u001b[33mpci 0000:00:1f.6\u001b[0m: PME# supported from D0 D3hot D3cold\r\n",
      "\u001b[32m[    0.369545] \u001b[0m\u001b[33mpci 0000:01:00.0\u001b[0m: [10de:1e07] type 00 class 0x030000\r\n",
      "\u001b[32m[    0.369561] \u001b[0m\u001b[33mpci 0000:01:00.0\u001b[0m: reg 0x10: [mem 0x54000000-0x54ffffff]\r\n",
      "\u001b[32m[    0.369568] \u001b[0m\u001b[33mpci 0000:01:00.0\u001b[0m: reg 0x14: [mem 0x40000000-0x4fffffff 64bit pref]\r\n",
      "\u001b[32m[    0.369576] \u001b[0m\u001b[33mpci 0000:01:00.0\u001b[0m: reg 0x1c: [mem 0x52000000-0x53ffffff 64bit pref]\r\n",
      "\u001b[32m[    0.369581] \u001b[0m\u001b[33mpci 0000:01:00.0\u001b[0m: reg 0x24: [io  0x3000-0x307f]\r\n",
      "\u001b[32m[    0.369586] \u001b[0m\u001b[33mpci 0000:01:00.0\u001b[0m: reg 0x30: [mem 0x55000000-0x5507ffff pref]\r\n",
      "\u001b[32m[    0.369628] \u001b[0m\u001b[33mpci 0000:01:00.0\u001b[0m: PME# supported from D0 D3hot\r\n",
      "\u001b[32m[    0.369654] \u001b[0m\u001b[33mpci 0000:01:00.0\u001b[0m: 32.000 Gb/s available PCIe bandwidth, limited by 2.5 GT/s x16 link at 0000:00:01.0 (capable of 126.016 Gb/s with 8 GT/s x16 link)\r\n",
      "\u001b[32m[    0.369677] \u001b[0m\u001b[33mpci 0000:01:00.1\u001b[0m: [10de:10f7] type 00 class 0x040300\r\n",
      "\u001b[32m[    0.369688] \u001b[0m\u001b[33mpci 0000:01:00.1\u001b[0m: reg 0x10: [mem 0x55080000-0x55083fff]\r\n",
      "\u001b[32m[    0.369776] \u001b[0m\u001b[33mpci 0000:01:00.2\u001b[0m: [10de:1ad6] type 00 class 0x0c0330\r\n",
      "\u001b[32m[    0.369789] \u001b[0m\u001b[33mpci 0000:01:00.2\u001b[0m: reg 0x10: [mem 0x50000000-0x5003ffff 64bit pref]\r\n",
      "\u001b[32m[    0.369801] \u001b[0m\u001b[33mpci 0000:01:00.2\u001b[0m: reg 0x1c: [mem 0x50040000-0x5004ffff 64bit pref]\r\n",
      "\u001b[32m[    0.369842] \u001b[0m\u001b[33mpci 0000:01:00.2\u001b[0m: PME# supported from D0 D3hot\r\n",
      "\u001b[32m[    0.369877] \u001b[0m\u001b[33mpci 0000:01:00.3\u001b[0m: [10de:1ad7] type 00 class 0x0c8000\r\n",
      "\u001b[32m[    0.369888] \u001b[0m\u001b[33mpci 0000:01:00.3\u001b[0m: reg 0x10: [mem 0x55084000-0x55084fff]\r\n",
      "\u001b[32m[    0.369947] \u001b[0m\u001b[33mpci 0000:01:00.3\u001b[0m: PME# supported from D0 D3hot\r\n",
      "\u001b[32m[    0.369998] \u001b[0m\u001b[33mpci 0000:00:01.0\u001b[0m: PCI bridge to [bus 01]\r\n",
      "\u001b[32m[    0.369999] \u001b[0m\u001b[33mpci 0000:00:01.0\u001b[0m:   bridge window [io  0x3000-0x3fff]\r\n",
      "\u001b[32m[    0.370000] \u001b[0m\u001b[33mpci 0000:00:01.0\u001b[0m:   bridge window [mem 0x52000000-0x550fffff]\r\n",
      "\u001b[32m[    0.370002] \u001b[0m\u001b[33mpci 0000:00:01.0\u001b[0m:   bridge window [mem 0x40000000-0x500fffff 64bit pref]\r\n",
      "\u001b[32m[    0.370086] \u001b[0m\u001b[33mpci 0000:02:00.0\u001b[0m: [8086:f1a6] type 00 class 0x010802\r\n",
      "\u001b[32m[    0.370116] \u001b[0m\u001b[33mpci 0000:02:00.0\u001b[0m: reg 0x10: [mem 0x55200000-0x55203fff 64bit]\r\n",
      "\u001b[32m[    0.370303] \u001b[0m\u001b[33mpci 0000:00:1b.0\u001b[0m: PCI bridge to [bus 02]\r\n",
      "\u001b[32m[    0.370306] \u001b[0m\u001b[33mpci 0000:00:1b.0\u001b[0m:   bridge window [mem 0x55200000-0x552fffff]\r\n",
      "\u001b[32m[    0.370382] \u001b[0m\u001b[33macpiphp\u001b[0m: Slot [1] registered\r\n",
      "\u001b[32m[    0.370389] \u001b[0m\u001b[33mpci 0000:00:1c.0\u001b[0m: PCI bridge to [bus 03]\r\n",
      "\u001b[32m[    0.370467] \u001b[0m\u001b[33macpiphp\u001b[0m: Slot [1-1] registered\r\n",
      "\u001b[32m[    0.370470] \u001b[0m\u001b[33mpci 0000:00:1d.0\u001b[0m: PCI bridge to [bus 04]\r\n",
      "\u001b[32m[    0.371553] \u001b[0m\u001b[33mACPI\u001b[0m: PCI Interrupt Link [LNKA] (IRQs) *0\r\n",
      "\u001b[32m[    0.371578] \u001b[0m\u001b[33mACPI\u001b[0m: PCI Interrupt Link [LNKB] (IRQs) *1\r\n",
      "\u001b[32m[    0.371602] \u001b[0m\u001b[33mACPI\u001b[0m: PCI Interrupt Link [LNKC] (IRQs) *0\r\n",
      "\u001b[32m[    0.371625] \u001b[0m\u001b[33mACPI\u001b[0m: PCI Interrupt Link [LNKD] (IRQs) *0\r\n",
      "\u001b[32m[    0.371649] \u001b[0m\u001b[33mACPI\u001b[0m: PCI Interrupt Link [LNKE] (IRQs) *0\r\n",
      "\u001b[32m[    0.371673] \u001b[0m\u001b[33mACPI\u001b[0m: PCI Interrupt Link [LNKF] (IRQs) *0\r\n",
      "\u001b[32m[    0.371696] \u001b[0m\u001b[33mACPI\u001b[0m: PCI Interrupt Link [LNKG] (IRQs) *0\r\n",
      "\u001b[32m[    0.371720] \u001b[0m\u001b[33mACPI\u001b[0m: PCI Interrupt Link [LNKH] (IRQs) *0\r\n",
      "\u001b[32m[    0.372104] \u001b[0mSCSI subsystem initialized\r\n",
      "\u001b[32m[    0.372104] \u001b[0mlibata version 3.00 loaded.\r\n",
      "\u001b[32m[    0.372104] \u001b[0m\u001b[33mpci 0000:01:00.0\u001b[0m: vgaarb: setting as boot VGA device\r\n",
      "\u001b[32m[    0.372104] \u001b[0m\u001b[33mpci 0000:01:00.0\u001b[0m: vgaarb: VGA device added: decodes=io+mem,owns=io+mem,locks=none\r\n",
      "\u001b[32m[    0.372104] \u001b[0m\u001b[33mpci 0000:01:00.0\u001b[0m: vgaarb: bridge control possible\r\n",
      "\u001b[32m[    0.372104] \u001b[0m\u001b[33mvgaarb\u001b[0m: loaded\r\n",
      "\u001b[32m[    0.372104] \u001b[0m\u001b[33mACPI\u001b[0m: bus type USB registered\r\n",
      "\u001b[32m[    0.372104] \u001b[0m\u001b[33musbcore\u001b[0m: registered new interface driver usbfs\r\n",
      "\u001b[32m[    0.372104] \u001b[0m\u001b[33musbcore\u001b[0m: registered new interface driver hub\r\n",
      "\u001b[32m[    0.372104] \u001b[0m\u001b[33musbcore\u001b[0m: registered new device driver usb\r\n",
      "\u001b[32m[    0.372104] \u001b[0m\u001b[33mpps_core\u001b[0m: LinuxPPS API ver. 1 registered\r\n",
      "\u001b[32m[    0.372104] \u001b[0m\u001b[33mpps_core\u001b[0m: Software ver. 5.3.6 - Copyright 2005-2007 Rodolfo Giometti <giometti@linux.it>\r\n",
      "\u001b[32m[    0.372104] \u001b[0mPTP clock support registered\r\n",
      "\u001b[32m[    0.372104] \u001b[0m\u001b[33mEDAC MC\u001b[0m: Ver: 3.0.0\r\n",
      "\u001b[32m[    0.372104] \u001b[0m\u001b[33mPCI\u001b[0m: Using ACPI for IRQ routing\r\n",
      "\u001b[32m[    0.415300] \u001b[0m\u001b[33mPCI\u001b[0m: pci_cache_line_size set to 64 bytes\r\n",
      "\u001b[32m[    0.415375] \u001b[0m\u001b[33me820\u001b[0m: reserve RAM buffer [mem 0x0009d400-0x0009ffff]\r\n",
      "\u001b[32m[    0.415375] \u001b[0m\u001b[33me820\u001b[0m: reserve RAM buffer [mem 0x385fd000-0x3bffffff]\r\n",
      "\u001b[32m[    0.415376] \u001b[0m\u001b[33me820\u001b[0m: reserve RAM buffer [mem 0x3da15000-0x3fffffff]\r\n",
      "\u001b[32m[    0.415376] \u001b[0m\u001b[33me820\u001b[0m: reserve RAM buffer [mem 0x3e013000-0x3fffffff]\r\n",
      "\u001b[32m[    0.415377] \u001b[0m\u001b[33me820\u001b[0m: reserve RAM buffer [mem 0x3ef00000-0x3fffffff]\r\n",
      "\u001b[32m[    0.415377] \u001b[0m\u001b[33me820\u001b[0m: reserve RAM buffer [mem 0x10be000000-0x10bfffffff]\r\n",
      "\u001b[32m[    0.415424] \u001b[0m\u001b[33mNetLabel\u001b[0m: Initializing\r\n",
      "\u001b[32m[    0.415425] \u001b[0m\u001b[33mNetLabel\u001b[0m:  domain hash size = 128\r\n",
      "\u001b[32m[    0.415425] \u001b[0m\u001b[33mNetLabel\u001b[0m:  protocols = UNLABELED CIPSOv4 CALIPSO\r\n",
      "\u001b[32m[    0.415432] \u001b[0m\u001b[33mNetLabel\u001b[0m:  unlabeled traffic allowed by default\r\n",
      "\u001b[32m[    0.415439] \u001b[0m\u001b[33mhpet0\u001b[0m: at MMIO 0xfed00000, IRQs 2, 8, 0, 0, 0, 0, 0, 0\r\n",
      "\u001b[32m[    0.415439] \u001b[0m\u001b[33mhpet0\u001b[0m: 8 comparators, 64-bit 24.000000 MHz counter\r\n",
      "\u001b[32m[    0.416981] \u001b[0m\u001b[33mclocksource\u001b[0m: Switched to clocksource tsc-early\r\n",
      "\u001b[32m[    0.420286] \u001b[0m\u001b[33mVFS\u001b[0m: Disk quotas dquot_6.6.0\r\n",
      "\u001b[32m[    0.420286] \u001b[0m\u001b[33mVFS\u001b[0m: Dquot-cache hash table entries: 512 (order 0, 4096 bytes)\r\n",
      "\u001b[32m[    0.420286] \u001b[0m*** VALIDATE hugetlbfs ***\r\n",
      "\u001b[32m[    0.420286] \u001b[0m\u001b[33mAppArmor\u001b[0m: AppArmor Filesystem Enabled\r\n",
      "\u001b[32m[    0.420286] \u001b[0m\u001b[33mpnp\u001b[0m: PnP ACPI init\r\n",
      "\u001b[32m[    0.420286] \u001b[0m\u001b[33msystem 00:00\u001b[0m: [io  0x0a00-0x0a2f] has been reserved\r\n",
      "\u001b[32m[    0.420286] \u001b[0m\u001b[33msystem 00:00\u001b[0m: [io  0x0a30-0x0a3f] has been reserved\r\n",
      "\u001b[32m[    0.420286] \u001b[0m\u001b[33msystem 00:00\u001b[0m: [io  0x0a40-0x0a4f] has been reserved\r\n",
      "\u001b[32m[    0.420286] \u001b[0m\u001b[33msystem 00:00\u001b[0m: Plug and Play ACPI device, IDs PNP0c02 (active)\r\n",
      "\u001b[32m[    0.420286] \u001b[0m\u001b[33msystem 00:01\u001b[0m: [io  0x0680-0x069f] has been reserved\r\n",
      "\u001b[32m[    0.420286] \u001b[0m\u001b[33msystem 00:01\u001b[0m: [io  0x164e-0x164f] has been reserved\r\n",
      "\u001b[32m[    0.420286] \u001b[0m\u001b[33msystem 00:01\u001b[0m: Plug and Play ACPI device, IDs PNP0c02 (active)\r\n",
      "\u001b[32m[    0.420286] \u001b[0m\u001b[33mpnp 00:02\u001b[0m: Plug and Play ACPI device, IDs PNP0b00 (active)\r\n",
      "\u001b[32m[    0.420286] \u001b[0m\u001b[33msystem 00:03\u001b[0m: [io  0x1854-0x1857] has been reserved\r\n",
      "\u001b[32m[    0.420286] \u001b[0m\u001b[33msystem 00:03\u001b[0m: Plug and Play ACPI device, IDs INT3f0d PNP0c02 (active)\r\n",
      "\u001b[32m[    0.420286] \u001b[0m\u001b[33msystem 00:04\u001b[0m: [mem 0xfed10000-0xfed17fff] has been reserved\r\n",
      "\u001b[32m[    0.420286] \u001b[0m\u001b[33msystem 00:04\u001b[0m: [mem 0xfed18000-0xfed18fff] has been reserved\r\n",
      "\u001b[32m[    0.420286] \u001b[0m\u001b[33msystem 00:04\u001b[0m: [mem 0xfed19000-0xfed19fff] has been reserved\r\n",
      "\u001b[32m[    0.420286] \u001b[0m\u001b[33msystem 00:04\u001b[0m: [mem 0xe0000000-0xefffffff] has been reserved\r\n",
      "\u001b[32m[    0.420286] \u001b[0m\u001b[33msystem 00:04\u001b[0m: [mem 0xfed20000-0xfed3ffff] has been reserved\r\n",
      "\u001b[32m[    0.420286] \u001b[0m\u001b[33msystem 00:04\u001b[0m: [mem 0xfed90000-0xfed93fff] could not be reserved\r\n",
      "\u001b[32m[    0.420286] \u001b[0m\u001b[33msystem 00:04\u001b[0m: [mem 0xfed45000-0xfed8ffff] has been reserved\r\n",
      "\u001b[32m[    0.420286] \u001b[0m\u001b[33msystem 00:04\u001b[0m: [mem 0xfee00000-0xfeefffff] could not be reserved\r\n",
      "\u001b[32m[    0.420286] \u001b[0m\u001b[33msystem 00:04\u001b[0m: Plug and Play ACPI device, IDs PNP0c02 (active)\r\n",
      "\u001b[32m[    0.420286] \u001b[0m\u001b[33msystem 00:05\u001b[0m: [io  0x1800-0x18fe] could not be reserved\r\n",
      "\u001b[32m[    0.420286] \u001b[0m\u001b[33msystem 00:05\u001b[0m: [mem 0xfd000000-0xfd69ffff] has been reserved\r\n",
      "\u001b[32m[    0.420286] \u001b[0m\u001b[33msystem 00:05\u001b[0m: [mem 0xfd6c0000-0xfd6cffff] has been reserved\r\n",
      "\u001b[32m[    0.420286] \u001b[0m\u001b[33msystem 00:05\u001b[0m: [mem 0xfd6f0000-0xfdffffff] has been reserved\r\n",
      "\u001b[32m[    0.420286] \u001b[0m\u001b[33msystem 00:05\u001b[0m: [mem 0xfe000000-0xfe01ffff] could not be reserved\r\n",
      "\u001b[32m[    0.420286] \u001b[0m\u001b[33msystem 00:05\u001b[0m: [mem 0xfe200000-0xfe7fffff] has been reserved\r\n",
      "\u001b[32m[    0.420286] \u001b[0m\u001b[33msystem 00:05\u001b[0m: [mem 0xff000000-0xffffffff] has been reserved\r\n",
      "\u001b[32m[    0.420286] \u001b[0m\u001b[33msystem 00:05\u001b[0m: Plug and Play ACPI device, IDs PNP0c02 (active)\r\n",
      "\u001b[32m[    0.420286] \u001b[0m\u001b[33msystem 00:06\u001b[0m: [io  0x2000-0x20fe] has been reserved\r\n",
      "\u001b[32m[    0.420286] \u001b[0m\u001b[33msystem 00:06\u001b[0m: Plug and Play ACPI device, IDs PNP0c02 (active)\r\n",
      "\u001b[32m[    0.420286] \u001b[0m\u001b[33msystem 00:07\u001b[0m: Plug and Play ACPI device, IDs PNP0c02 (active)\r\n",
      "\u001b[32m[    0.423215] \u001b[0m\u001b[33mpnp\u001b[0m: PnP ACPI: found 8 devices\r\n",
      "\u001b[32m[    0.423825] \u001b[0m\u001b[33mthermal_sys\u001b[0m: Registered thermal governor 'fair_share'\r\n",
      "\u001b[32m[    0.423826] \u001b[0m\u001b[33mthermal_sys\u001b[0m: Registered thermal governor 'bang_bang'\r\n",
      "\u001b[32m[    0.423826] \u001b[0m\u001b[33mthermal_sys\u001b[0m: Registered thermal governor 'step_wise'\r\n",
      "\u001b[32m[    0.423826] \u001b[0m\u001b[33mthermal_sys\u001b[0m: Registered thermal governor 'user_space'\r\n",
      "\u001b[32m[    0.423827] \u001b[0m\u001b[33mthermal_sys\u001b[0m: Registered thermal governor 'power_allocator'\r\n",
      "\u001b[32m[    0.428308] \u001b[0m\u001b[33mclocksource\u001b[0m: acpi_pm: mask: 0xffffff max_cycles: 0xffffff, max_idle_ns: 2085701024 ns\r\n",
      "\u001b[32m[    0.428325] \u001b[0m\u001b[33mpci 0000:00:1d.0\u001b[0m: bridge window [io  0x1000-0x0fff] to [bus 04] add_size 1000\r\n",
      "\u001b[32m[    0.428326] \u001b[0m\u001b[33mpci 0000:00:1d.0\u001b[0m: bridge window [mem 0x00100000-0x000fffff 64bit pref] to [bus 04] add_size 200000 add_align 100000\r\n",
      "\u001b[32m[    0.428327] \u001b[0m\u001b[33mpci 0000:00:1d.0\u001b[0m: bridge window [mem 0x00100000-0x000fffff] to [bus 04] add_size 200000 add_align 100000\r\n",
      "\u001b[32m[    0.428330] \u001b[0m\u001b[33mpci 0000:00:1d.0\u001b[0m: BAR 14: assigned [mem 0x50100000-0x502fffff]\r\n",
      "\u001b[32m[    0.428332] \u001b[0m\u001b[33mpci 0000:00:1d.0\u001b[0m: BAR 15: assigned [mem 0x50300000-0x504fffff 64bit pref]\r\n",
      "\u001b[32m[    0.428333] \u001b[0m\u001b[33mpci 0000:00:1d.0\u001b[0m: BAR 13: assigned [io  0x5000-0x5fff]\r\n",
      "\u001b[32m[    0.428334] \u001b[0m\u001b[33mpci 0000:00:01.0\u001b[0m: PCI bridge to [bus 01]\r\n",
      "\u001b[32m[    0.428335] \u001b[0m\u001b[33mpci 0000:00:01.0\u001b[0m:   bridge window [io  0x3000-0x3fff]\r\n",
      "\u001b[32m[    0.428337] \u001b[0m\u001b[33mpci 0000:00:01.0\u001b[0m:   bridge window [mem 0x52000000-0x550fffff]\r\n",
      "\u001b[32m[    0.428338] \u001b[0m\u001b[33mpci 0000:00:01.0\u001b[0m:   bridge window [mem 0x40000000-0x500fffff 64bit pref]\r\n",
      "\u001b[32m[    0.428340] \u001b[0m\u001b[33mpci 0000:00:1b.0\u001b[0m: PCI bridge to [bus 02]\r\n",
      "\u001b[32m[    0.428346] \u001b[0m\u001b[33mpci 0000:00:1b.0\u001b[0m:   bridge window [mem 0x55200000-0x552fffff]\r\n",
      "\u001b[32m[    0.428350] \u001b[0m\u001b[33mpci 0000:00:1c.0\u001b[0m: PCI bridge to [bus 03]\r\n",
      "\u001b[32m[    0.428358] \u001b[0m\u001b[33mpci 0000:00:1d.0\u001b[0m: PCI bridge to [bus 04]\r\n",
      "\u001b[32m[    0.428361] \u001b[0m\u001b[33mpci 0000:00:1d.0\u001b[0m:   bridge window [io  0x5000-0x5fff]\r\n",
      "\u001b[32m[    0.428363] \u001b[0m\u001b[33mpci 0000:00:1d.0\u001b[0m:   bridge window [mem 0x50100000-0x502fffff]\r\n",
      "\u001b[32m[    0.428365] \u001b[0m\u001b[33mpci 0000:00:1d.0\u001b[0m:   bridge window [mem 0x50300000-0x504fffff 64bit pref]\r\n",
      "\u001b[32m[    0.428369] \u001b[0m\u001b[33mpci_bus 0000:00\u001b[0m: resource 4 [io  0x0000-0x0cf7 window]\r\n",
      "\u001b[32m[    0.428369] \u001b[0m\u001b[33mpci_bus 0000:00\u001b[0m: resource 5 [io  0x0d00-0xffff window]\r\n",
      "\u001b[32m[    0.428370] \u001b[0m\u001b[33mpci_bus 0000:00\u001b[0m: resource 6 [mem 0x000a0000-0x000bffff window]\r\n",
      "\u001b[32m[    0.428370] \u001b[0m\u001b[33mpci_bus 0000:00\u001b[0m: resource 7 [mem 0x40000000-0xdfffffff window]\r\n",
      "\u001b[32m[    0.428371] \u001b[0m\u001b[33mpci_bus 0000:00\u001b[0m: resource 8 [mem 0xfc800000-0xfe7fffff window]\r\n",
      "\u001b[32m[    0.428371] \u001b[0m\u001b[33mpci_bus 0000:01\u001b[0m: resource 0 [io  0x3000-0x3fff]\r\n",
      "\u001b[32m[    0.428372] \u001b[0m\u001b[33mpci_bus 0000:01\u001b[0m: resource 1 [mem 0x52000000-0x550fffff]\r\n",
      "\u001b[32m[    0.428372] \u001b[0m\u001b[33mpci_bus 0000:01\u001b[0m: resource 2 [mem 0x40000000-0x500fffff 64bit pref]\r\n",
      "\u001b[32m[    0.428373] \u001b[0m\u001b[33mpci_bus 0000:02\u001b[0m: resource 1 [mem 0x55200000-0x552fffff]\r\n",
      "\u001b[32m[    0.428373] \u001b[0m\u001b[33mpci_bus 0000:04\u001b[0m: resource 0 [io  0x5000-0x5fff]\r\n",
      "\u001b[32m[    0.428374] \u001b[0m\u001b[33mpci_bus 0000:04\u001b[0m: resource 1 [mem 0x50100000-0x502fffff]\r\n",
      "\u001b[32m[    0.428374] \u001b[0m\u001b[33mpci_bus 0000:04\u001b[0m: resource 2 [mem 0x50300000-0x504fffff 64bit pref]\r\n",
      "\u001b[32m[    0.428481] \u001b[0m\u001b[33mNET\u001b[0m: Registered protocol family 2\r\n",
      "\u001b[32m[    0.428588] \u001b[0m\u001b[33mtcp_listen_portaddr_hash hash table entries\u001b[0m: 32768 (order: 7, 524288 bytes, linear)\r\n",
      "\u001b[32m[    0.428771] \u001b[0m\u001b[33mTCP established hash table entries\u001b[0m: 524288 (order: 10, 4194304 bytes, linear)\r\n",
      "\u001b[32m[    0.429068] \u001b[0m\u001b[33mTCP bind hash table entries\u001b[0m: 65536 (order: 8, 1048576 bytes, linear)\r\n",
      "\u001b[32m[    0.429104] \u001b[0m\u001b[33mTCP\u001b[0m: Hash tables configured (established 524288 bind 65536)\r\n",
      "\u001b[32m[    0.429164] \u001b[0m\u001b[33mUDP hash table entries\u001b[0m: 32768 (order: 8, 1048576 bytes, linear)\r\n",
      "\u001b[32m[    0.429255] \u001b[0m\u001b[33mUDP-Lite hash table entries\u001b[0m: 32768 (order: 8, 1048576 bytes, linear)\r\n",
      "\u001b[32m[    0.429334] \u001b[0m\u001b[33mNET\u001b[0m: Registered protocol family 1\r\n",
      "\u001b[32m[    0.429337] \u001b[0m\u001b[33mNET\u001b[0m: Registered protocol family 44\r\n",
      "\u001b[32m[    0.430036] \u001b[0m\u001b[33mpci 0000:01:00.0\u001b[0m: Video device with shadowed ROM at [mem 0x000c0000-0x000dffff]\r\n",
      "\u001b[32m[    0.430043] \u001b[0m\u001b[33mpci 0000:01:00.1\u001b[0m: D0 power state depends on 0000:01:00.0\r\n",
      "\u001b[32m[    0.430072] \u001b[0m\u001b[33mpci 0000:01:00.2\u001b[0m: D0 power state depends on 0000:01:00.0\r\n",
      "\u001b[32m[    0.430237] \u001b[0m\u001b[33mpci 0000:01:00.3\u001b[0m: D0 power state depends on 0000:01:00.0\r\n",
      "\u001b[32m[    0.430245] \u001b[0m\u001b[33mPCI\u001b[0m: CLS 64 bytes, default 64\r\n",
      "\u001b[32m[    0.430285] \u001b[0mTrying to unpack rootfs image as initramfs...\r\n",
      "\u001b[32m[    0.747223] \u001b[0m\u001b[33mFreeing initrd memory\u001b[0m: 39532K\r\n",
      "\u001b[32m[    0.783006] \u001b[0m\u001b[33mPCI-DMA\u001b[0m: Using software bounce buffering for IO (SWIOTLB)\r\n",
      "\u001b[32m[    0.783010] \u001b[0m\u001b[33msoftware IO TLB\u001b[0m: mapped [mem 0x39a15000-0x3da15000] (64MB)\r\n",
      "\u001b[32m[    0.783304] \u001b[0m\u001b[33mcheck\u001b[0m: Scanning for low memory corruption every 60 seconds\r\n",
      "\u001b[32m[    0.784096] \u001b[0mInitialise system trusted keyrings\r\n",
      "\u001b[32m[    0.784102] \u001b[0mKey type blacklist registered\r\n",
      "\u001b[32m[    0.784119] \u001b[0m\u001b[33mworkingset\u001b[0m: timestamp_bits=36 max_order=24 bucket_order=0\r\n",
      "\u001b[32m[    0.784767] \u001b[0m\u001b[33mzbud\u001b[0m: loaded\r\n",
      "\u001b[32m[    0.784955] \u001b[0m\u001b[33msquashfs\u001b[0m: version 4.0 (2009/01/31) Phillip Lougher\r\n",
      "\u001b[32m[    0.785026] \u001b[0m\u001b[33mfuse\u001b[0m: init (API version 7.31)\r\n",
      "\u001b[32m[    0.785082] \u001b[0mPlatform Keyring initialized\r\n",
      "\u001b[32m[    0.787147] \u001b[0mKey type asymmetric registered\r\n",
      "\u001b[32m[    0.787148] \u001b[0mAsymmetric key parser 'x509' registered\r\n",
      "\u001b[32m[    0.787152] \u001b[0mBlock layer SCSI generic (bsg) driver version 0.4 loaded (major 244)\r\n",
      "\u001b[32m[    0.787178] \u001b[0mio scheduler mq-deadline registered\r\n",
      "\u001b[32m[    0.787483] \u001b[0m\u001b[33mpcieport 0000:00:1b.0\u001b[0m: AER: enabled with IRQ 122\r\n",
      "\u001b[32m[    0.787509] \u001b[0m\u001b[33mpcieport 0000:00:1b.0\u001b[0m: DPC: error containment capabilities: Int Msg #0, RPExt+ PoisonedTLP+ SwTrigger+ RP PIO Log 4, DL_ActiveErr+\r\n",
      "\u001b[32m[    0.787680] \u001b[0m\u001b[33mshpchp\u001b[0m: Standard Hot Plug PCI Controller Driver version: 0.4\r\n",
      "\u001b[32m[    0.787710] \u001b[0m\u001b[33mvesafb\u001b[0m: mode is 640x480x32, linelength=2560, pages=0\r\n",
      "\u001b[32m[    0.787710] \u001b[0m\u001b[33mvesafb\u001b[0m: scrolling: redraw\r\n",
      "\u001b[32m[    0.787710] \u001b[0m\u001b[33mvesafb\u001b[0m: Truecolor: size=8:8:8:8, shift=24:16:8:0\r\n",
      "\u001b[32m[    0.787716] \u001b[0m\u001b[33mvesafb\u001b[0m: framebuffer at 0x53000000, mapped to 0x00000000ed021cfd, using 1216k, total 1216k\r\n",
      "\u001b[32m[    0.787732] \u001b[0m\u001b[33mfbcon\u001b[0m: Deferring console take-over\r\n",
      "\u001b[32m[    0.787732] \u001b[0m\u001b[33mfb0\u001b[0m: VESA VGA frame buffer device\r\n",
      "\u001b[32m[    0.787738] \u001b[0m\u001b[33mintel_idle\u001b[0m: MWAIT substates: 0x11142120\r\n",
      "\u001b[32m[    0.787739] \u001b[0m\u001b[33mintel_idle\u001b[0m: v0.4.1 model 0x9E\r\n",
      "\u001b[32m[    0.788179] \u001b[0m\u001b[33mintel_idle\u001b[0m: lapic_timer_reliable_states 0xffffffff\r\n",
      "\u001b[32m[    0.788303] \u001b[0m\u001b[33minput\u001b[0m: Sleep Button as /devices/LNXSYSTM:00/LNXSYBUS:00/PNP0C0E:00/input/input0\r\n",
      "\u001b[32m[    0.788307] \u001b[0m\u001b[33mACPI\u001b[0m: Sleep Button [SLPB]\r\n",
      "\u001b[32m[    0.788322] \u001b[0m\u001b[33minput\u001b[0m: Power Button as /devices/LNXSYSTM:00/LNXSYBUS:00/PNP0C0C:00/input/input1\r\n",
      "\u001b[32m[    0.788324] \u001b[0m\u001b[33mACPI\u001b[0m: Power Button [PWRB]\r\n",
      "\u001b[32m[    0.788337] \u001b[0m\u001b[33minput\u001b[0m: Power Button as /devices/LNXSYSTM:00/LNXPWRBN:00/input/input2\r\n",
      "\u001b[32m[    0.788342] \u001b[0m\u001b[33mACPI\u001b[0m: Power Button [PWRF]\r\n",
      "\u001b[32m[    0.907210] \u001b[0m\u001b[33mthermal LNXTHERM:00\u001b[0m: registered as thermal_zone0\r\n",
      "\u001b[32m[    0.907211] \u001b[0m\u001b[33mACPI\u001b[0m: Thermal Zone [TZ00] (28 C)\r\n",
      "\u001b[32m[    0.907355] \u001b[0m\u001b[33mSerial\u001b[0m: 8250/16550 driver, 32 ports, IRQ sharing enabled\r\n",
      "\u001b[32m[    0.908478] \u001b[0mLinux agpgart interface v0.103\r\n",
      "\u001b[32m[    0.910503] \u001b[0m\u001b[33mloop\u001b[0m: module loaded\r\n",
      "\u001b[32m[    0.910589] \u001b[0m\u001b[33mlibphy\u001b[0m: Fixed MDIO Bus: probed\r\n",
      "\u001b[32m[    0.910590] \u001b[0m\u001b[33mtun\u001b[0m: Universal TUN/TAP device driver, 1.6\r\n",
      "\u001b[32m[    0.910601] \u001b[0mPPP generic driver version 2.4.2\r\n",
      "\u001b[32m[    0.910619] \u001b[0m\u001b[33mehci_hcd\u001b[0m: USB 2.0 'Enhanced' Host Controller (EHCI) Driver\r\n",
      "\u001b[32m[    0.910621] \u001b[0m\u001b[33mehci-pci\u001b[0m: EHCI PCI platform driver\r\n",
      "\u001b[32m[    0.910626] \u001b[0m\u001b[33mehci-platform\u001b[0m: EHCI generic platform driver\r\n",
      "\u001b[32m[    0.910630] \u001b[0m\u001b[33mohci_hcd\u001b[0m: USB 1.1 'Open' Host Controller (OHCI) Driver\r\n",
      "\u001b[32m[    0.910631] \u001b[0m\u001b[33mohci-pci\u001b[0m: OHCI PCI platform driver\r\n",
      "\u001b[32m[    0.910634] \u001b[0m\u001b[33mohci-platform\u001b[0m: OHCI generic platform driver\r\n",
      "\u001b[32m[    0.910637] \u001b[0m\u001b[33muhci_hcd\u001b[0m: USB Universal Host Controller Interface driver\r\n",
      "\u001b[32m[    0.910740] \u001b[0m\u001b[33mxhci_hcd 0000:00:14.0\u001b[0m: xHCI Host Controller\r\n",
      "\u001b[32m[    0.910742] \u001b[0m\u001b[33mxhci_hcd 0000:00:14.0\u001b[0m: new USB bus registered, assigned bus number 1\r\n",
      "\u001b[32m[    0.911796] \u001b[0m\u001b[33mxhci_hcd 0000:00:14.0\u001b[0m: hcc params 0x200077c1 hci version 0x110 quirks 0x0000000000009810\r\n",
      "\u001b[32m[    0.911798] \u001b[0m\u001b[33mxhci_hcd 0000:00:14.0\u001b[0m: cache line size of 64 is not supported\r\n",
      "\u001b[32m[    0.911902] \u001b[0m\u001b[33musb usb1\u001b[0m: New USB device found, idVendor=1d6b, idProduct=0002, bcdDevice= 5.03\r\n",
      "\u001b[32m[    0.911903] \u001b[0m\u001b[33musb usb1\u001b[0m: New USB device strings: Mfr=3, Product=2, SerialNumber=1\r\n",
      "\u001b[32m[    0.911903] \u001b[0m\u001b[33musb usb1\u001b[0m: Product: xHCI Host Controller\r\n",
      "\u001b[32m[    0.911904] \u001b[0m\u001b[33musb usb1\u001b[0m: Manufacturer: Linux 5.3.0-26-generic xhci-hcd\r\n",
      "\u001b[32m[    0.911904] \u001b[0m\u001b[33musb usb1\u001b[0m: SerialNumber: 0000:00:14.0\r\n",
      "\u001b[32m[    0.911976] \u001b[0m\u001b[33mhub 1-0:1.0\u001b[0m: USB hub found\r\n",
      "\u001b[32m[    0.911989] \u001b[0m\u001b[33mhub 1-0:1.0\u001b[0m: 16 ports detected\r\n",
      "\u001b[32m[    0.913231] \u001b[0m\u001b[33mxhci_hcd 0000:00:14.0\u001b[0m: xHCI Host Controller\r\n",
      "\u001b[32m[    0.913232] \u001b[0m\u001b[33mxhci_hcd 0000:00:14.0\u001b[0m: new USB bus registered, assigned bus number 2\r\n",
      "\u001b[32m[    0.913234] \u001b[0m\u001b[33mxhci_hcd 0000:00:14.0\u001b[0m: Host supports USB 3.1 Enhanced SuperSpeed\r\n",
      "\u001b[32m[    0.913250] \u001b[0m\u001b[33musb usb2\u001b[0m: New USB device found, idVendor=1d6b, idProduct=0003, bcdDevice= 5.03\r\n",
      "\u001b[32m[    0.913250] \u001b[0m\u001b[33musb usb2\u001b[0m: New USB device strings: Mfr=3, Product=2, SerialNumber=1\r\n",
      "\u001b[32m[    0.913251] \u001b[0m\u001b[33musb usb2\u001b[0m: Product: xHCI Host Controller\r\n",
      "\u001b[32m[    0.913251] \u001b[0m\u001b[33musb usb2\u001b[0m: Manufacturer: Linux 5.3.0-26-generic xhci-hcd\r\n",
      "\u001b[32m[    0.913251] \u001b[0m\u001b[33musb usb2\u001b[0m: SerialNumber: 0000:00:14.0\r\n",
      "\u001b[32m[    0.913315] \u001b[0m\u001b[33mhub 2-0:1.0\u001b[0m: USB hub found\r\n",
      "\u001b[32m[    0.913326] \u001b[0m\u001b[33mhub 2-0:1.0\u001b[0m: 10 ports detected\r\n",
      "\u001b[32m[    0.914227] \u001b[0m\u001b[33mxhci_hcd 0000:01:00.2\u001b[0m: xHCI Host Controller\r\n",
      "\u001b[32m[    0.914228] \u001b[0m\u001b[33mxhci_hcd 0000:01:00.2\u001b[0m: new USB bus registered, assigned bus number 3\r\n",
      "\u001b[32m[    0.914828] \u001b[0m\u001b[33mxhci_hcd 0000:01:00.2\u001b[0m: hcc params 0x0180ff05 hci version 0x110 quirks 0x0000000000000010\r\n",
      "\u001b[32m[    0.914896] \u001b[0m\u001b[33musb usb3\u001b[0m: New USB device found, idVendor=1d6b, idProduct=0002, bcdDevice= 5.03\r\n",
      "\u001b[32m[    0.914896] \u001b[0m\u001b[33musb usb3\u001b[0m: New USB device strings: Mfr=3, Product=2, SerialNumber=1\r\n",
      "\u001b[32m[    0.914897] \u001b[0m\u001b[33musb usb3\u001b[0m: Product: xHCI Host Controller\r\n",
      "\u001b[32m[    0.914897] \u001b[0m\u001b[33musb usb3\u001b[0m: Manufacturer: Linux 5.3.0-26-generic xhci-hcd\r\n",
      "\u001b[32m[    0.914898] \u001b[0m\u001b[33musb usb3\u001b[0m: SerialNumber: 0000:01:00.2\r\n",
      "\u001b[32m[    0.915001] \u001b[0m\u001b[33mhub 3-0:1.0\u001b[0m: USB hub found\r\n",
      "\u001b[32m[    0.915004] \u001b[0m\u001b[33mhub 3-0:1.0\u001b[0m: 2 ports detected\r\n",
      "\u001b[32m[    0.915052] \u001b[0m\u001b[33mxhci_hcd 0000:01:00.2\u001b[0m: xHCI Host Controller\r\n",
      "\u001b[32m[    0.915053] \u001b[0m\u001b[33mxhci_hcd 0000:01:00.2\u001b[0m: new USB bus registered, assigned bus number 4\r\n",
      "\u001b[32m[    0.915053] \u001b[0m\u001b[33mxhci_hcd 0000:01:00.2\u001b[0m: Host supports USB 3.1 Enhanced SuperSpeed\r\n",
      "\u001b[32m[    0.915068] \u001b[0m\u001b[33musb usb4\u001b[0m: We don't know the algorithms for LPM for this host, disabling LPM.\r\n",
      "\u001b[32m[    0.915075] \u001b[0m\u001b[33musb usb4\u001b[0m: New USB device found, idVendor=1d6b, idProduct=0003, bcdDevice= 5.03\r\n",
      "\u001b[32m[    0.915075] \u001b[0m\u001b[33musb usb4\u001b[0m: New USB device strings: Mfr=3, Product=2, SerialNumber=1\r\n",
      "\u001b[32m[    0.915076] \u001b[0m\u001b[33musb usb4\u001b[0m: Product: xHCI Host Controller\r\n",
      "\u001b[32m[    0.915076] \u001b[0m\u001b[33musb usb4\u001b[0m: Manufacturer: Linux 5.3.0-26-generic xhci-hcd\r\n",
      "\u001b[32m[    0.915077] \u001b[0m\u001b[33musb usb4\u001b[0m: SerialNumber: 0000:01:00.2\r\n",
      "\u001b[32m[    0.915138] \u001b[0m\u001b[33mhub 4-0:1.0\u001b[0m: USB hub found\r\n",
      "\u001b[32m[    0.915143] \u001b[0m\u001b[33mhub 4-0:1.0\u001b[0m: 4 ports detected\r\n",
      "\u001b[32m[    0.915218] \u001b[0m\u001b[33mi8042\u001b[0m: PNP: No PS/2 controller found.\r\n",
      "\u001b[32m[    0.915308] \u001b[0m\u001b[33mmousedev\u001b[0m: PS/2 mouse device common for all mice\r\n",
      "\u001b[32m[    0.915502] \u001b[0m\u001b[33mrtc_cmos 00:02\u001b[0m: RTC can wake from S4\r\n",
      "\u001b[32m[    0.916019] \u001b[0m\u001b[33mrtc_cmos 00:02\u001b[0m: registered as rtc0\r\n",
      "\u001b[32m[    0.916026] \u001b[0m\u001b[33mrtc_cmos 00:02\u001b[0m: alarms up to one month, y3k, 242 bytes nvram, hpet irqs\r\n",
      "\u001b[32m[    0.916028] \u001b[0mi2c /dev entries driver\r\n",
      "\u001b[32m[    0.916044] \u001b[0m\u001b[33mdevice-mapper\u001b[0m: uevent: version 1.0.3\r\n",
      "\u001b[32m[    0.916083] \u001b[0m\u001b[33mdevice-mapper\u001b[0m: ioctl: 4.40.0-ioctl (2019-01-18) initialised: dm-devel@redhat.com\r\n",
      "\u001b[32m[    0.916104] \u001b[0m\u001b[33mplatform eisa.0\u001b[0m: Probing EISA bus 0\r\n",
      "\u001b[32m[    0.916105] \u001b[0m\u001b[33mplatform eisa.0\u001b[0m\u001b[1m: EISA: Cannot allocate resource for mainboard\r\n",
      "\u001b[0m\u001b[32m[    0.916105] \u001b[0m\u001b[33mplatform eisa.0\u001b[0m\u001b[1m: Cannot allocate resource for EISA slot 1\r\n",
      "\u001b[0m\u001b[32m[    0.916106] \u001b[0m\u001b[33mplatform eisa.0\u001b[0m\u001b[1m: Cannot allocate resource for EISA slot 2\r\n",
      "\u001b[0m\u001b[32m[    0.916106] \u001b[0m\u001b[33mplatform eisa.0\u001b[0m\u001b[1m: Cannot allocate resource for EISA slot 3\r\n",
      "\u001b[0m\u001b[32m[    0.916107] \u001b[0m\u001b[33mplatform eisa.0\u001b[0m\u001b[1m: Cannot allocate resource for EISA slot 4\r\n",
      "\u001b[0m\u001b[32m[    0.916107] \u001b[0m\u001b[33mplatform eisa.0\u001b[0m\u001b[1m: Cannot allocate resource for EISA slot 5\r\n",
      "\u001b[0m\u001b[32m[    0.916107] \u001b[0m\u001b[33mplatform eisa.0\u001b[0m\u001b[1m: Cannot allocate resource for EISA slot 6\r\n",
      "\u001b[0m\u001b[32m[    0.916108] \u001b[0m\u001b[33mplatform eisa.0\u001b[0m\u001b[1m: Cannot allocate resource for EISA slot 7\r\n",
      "\u001b[0m\u001b[32m[    0.916108] \u001b[0m\u001b[33mplatform eisa.0\u001b[0m\u001b[1m: Cannot allocate resource for EISA slot 8\r\n",
      "\u001b[0m\u001b[32m[    0.916109] \u001b[0m\u001b[33mplatform eisa.0\u001b[0m: EISA: Detected 0 cards\r\n",
      "\u001b[32m[    0.916110] \u001b[0m\u001b[33mintel_pstate\u001b[0m: Intel P-state driver initializing\r\n",
      "\u001b[32m[    0.917224] \u001b[0m\u001b[33mintel_pstate\u001b[0m: HWP enabled\r\n",
      "\u001b[32m[    0.917674] \u001b[0m\u001b[33mledtrig-cpu\u001b[0m: registered to indicate activity on CPUs\r\n",
      "\u001b[32m[    0.917707] \u001b[0m\u001b[33mintel_pmc_core INT33A1:00\u001b[0m:  initialized\r\n",
      "\u001b[32m[    0.917882] \u001b[0m\u001b[33mNET\u001b[0m: Registered protocol family 10\r\n",
      "\u001b[32m[    0.921159] \u001b[0mSegment Routing with IPv6\r\n",
      "\u001b[32m[    0.921168] \u001b[0m\u001b[33mNET\u001b[0m: Registered protocol family 17\r\n",
      "\u001b[32m[    0.921182] \u001b[0mKey type dns_resolver registered\r\n",
      "\u001b[32m[    0.922016] \u001b[0m\u001b[33mRAS\u001b[0m: Correctable Errors collector initialized.\r\n",
      "\u001b[32m[    0.922027] \u001b[0m\u001b[33mmicrocode\u001b[0m: sig=0x906ec, pf=0x2, revision=0xae\r\n",
      "\u001b[32m[    0.922511] \u001b[0m\u001b[33mmicrocode\u001b[0m: Microcode Update Driver: v2.2.\r\n",
      "\u001b[32m[    0.922516] \u001b[0m\u001b[33msched_clock\u001b[0m: Marking stable (922131029, 378280)->(930694556, -8185247)\r\n",
      "\u001b[32m[    0.922708] \u001b[0mregistered taskstats version 1\r\n",
      "\u001b[32m[    0.922712] \u001b[0mLoading compiled-in X.509 certificates\r\n",
      "\u001b[32m[    0.923572] \u001b[0m\u001b[33mLoaded X.509 cert 'Build time autogenerated kernel key\u001b[0m: 8098f9b3401d48cb244b138af0c5bac131caef8a'\r\n",
      "\u001b[32m[    0.923599] \u001b[0m\u001b[33mzswap\u001b[0m: loaded using pool lzo/zbud\r\n",
      "\u001b[32m[    0.926582] \u001b[0mKey type big_key registered\r\n",
      "\u001b[32m[    0.928028] \u001b[0mKey type encrypted registered\r\n",
      "\u001b[32m[    0.928030] \u001b[0m\u001b[33mAppArmor\u001b[0m: AppArmor sha1 policy hashing enabled\r\n",
      "\u001b[32m[    0.928048] \u001b[0m\u001b[33mima\u001b[0m: No TPM chip found, activating TPM-bypass!\r\n",
      "\u001b[32m[    0.928050] \u001b[0m\u001b[33mima\u001b[0m: Allocated hash algorithm: sha1\r\n",
      "\u001b[32m[    0.928054] \u001b[0mNo architecture policies found\r\n",
      "\u001b[32m[    0.928059] \u001b[0m\u001b[33mevm\u001b[0m: Initialising EVM extended attributes:\r\n",
      "\u001b[32m[    0.928060] \u001b[0m\u001b[33mevm\u001b[0m: security.selinux\r\n",
      "\u001b[32m[    0.928060] \u001b[0m\u001b[33mevm\u001b[0m: security.SMACK64\r\n",
      "\u001b[32m[    0.928060] \u001b[0m\u001b[33mevm\u001b[0m: security.SMACK64EXEC\r\n",
      "\u001b[32m[    0.928060] \u001b[0m\u001b[33mevm\u001b[0m: security.SMACK64TRANSMUTE\r\n",
      "\u001b[32m[    0.928060] \u001b[0m\u001b[33mevm\u001b[0m: security.SMACK64MMAP\r\n",
      "\u001b[32m[    0.928061] \u001b[0m\u001b[33mevm\u001b[0m: security.apparmor\r\n",
      "\u001b[32m[    0.928061] \u001b[0m\u001b[33mevm\u001b[0m: security.ima\r\n",
      "\u001b[32m[    0.928061] \u001b[0m\u001b[33mevm\u001b[0m: security.capability\r\n",
      "\u001b[32m[    0.928061] \u001b[0m\u001b[33mevm\u001b[0m: HMAC attrs: 0x1\r\n",
      "\u001b[32m[    0.928867] \u001b[0m\u001b[33mPM\u001b[0m:   Magic number: 4:594:506\r\n",
      "\u001b[32m[    0.929112] \u001b[0m\u001b[33mrtc_cmos 00:02\u001b[0m: setting system clock to 2020-05-15T00:31:07 UTC (1589502667)\r\n",
      "\u001b[32m[    0.929878] \u001b[0m\u001b[33mFreeing unused decrypted memory\u001b[0m: 2040K\r\n",
      "\u001b[32m[    0.930221] \u001b[0m\u001b[33mFreeing unused kernel image memory\u001b[0m: 2660K\r\n",
      "\u001b[32m[    0.991106] \u001b[0m\u001b[33mWrite protecting the kernel read-only data\u001b[0m: 22528k\r\n",
      "\u001b[32m[    0.991699] \u001b[0m\u001b[33mFreeing unused kernel image memory\u001b[0m: 2008K\r\n",
      "\u001b[32m[    0.991978] \u001b[0m\u001b[33mFreeing unused kernel image memory\u001b[0m: 1476K\r\n",
      "\u001b[32m[    0.996655] \u001b[0m\u001b[33mx86/mm\u001b[0m: Checked W+X mappings: passed, no W+X pages found.\r\n",
      "\u001b[32m[    0.996656] \u001b[0mRun /init as init process\r\n",
      "\u001b[32m[    1.046872] \u001b[0m\u001b[33macpi PNP0C14:03\u001b[0m\u001b[1m: duplicate WMI GUID 05901221-D566-11D1-B2F0-00A0C9062910 (first instance was on PNP0C14:02)\r\n",
      "\u001b[0m\u001b[32m[    1.047038] \u001b[0m\u001b[33macpi PNP0C14:04\u001b[0m\u001b[1m: duplicate WMI GUID 05901221-D566-11D1-B2F0-00A0C9062910 (first instance was on PNP0C14:02)\r\n",
      "\u001b[0m\u001b[32m[    1.053735] \u001b[0m\u001b[33mahci 0000:00:17.0\u001b[0m: version 3.0\r\n",
      "\u001b[32m[    1.054709] \u001b[0m\u001b[33me1000e\u001b[0m: Intel(R) PRO/1000 Network Driver - 3.2.6-k\r\n",
      "\u001b[32m[    1.054709] \u001b[0m\u001b[33me1000e\u001b[0m: Copyright(c) 1999 - 2015 Intel Corporation.\r\n",
      "\u001b[32m[    1.054888] \u001b[0m\u001b[33me1000e 0000:00:1f.6\u001b[0m: Interrupt Throttling Rate (ints/sec) set to dynamic conservative mode\r\n",
      "\u001b[32m[    1.055145] \u001b[0m\u001b[33mnvme nvme0\u001b[0m: pci function 0000:02:00.0\r\n",
      "\u001b[32m[    1.066934] \u001b[0m\u001b[33mahci 0000:00:17.0\u001b[0m: AHCI 0001.0301 32 slots 4 ports 6 Gbps 0xf impl SATA mode\r\n",
      "\u001b[32m[    1.066935] \u001b[0m\u001b[33mahci 0000:00:17.0\u001b[0m: flags: 64bit ncq sntf clo only pio slum part ems deso sadm sds apst \r\n",
      "\u001b[32m[    1.103489] \u001b[0m\u001b[33mscsi host0\u001b[0m: ahci\r\n",
      "\u001b[32m[    1.103698] \u001b[0m\u001b[33mscsi host1\u001b[0m: ahci\r\n",
      "\u001b[32m[    1.103934] \u001b[0m\u001b[33mscsi host2\u001b[0m: ahci\r\n",
      "\u001b[32m[    1.104106] \u001b[0m\u001b[33mscsi host3\u001b[0m: ahci\r\n",
      "\u001b[32m[    1.104130] \u001b[0m\u001b[33mata1\u001b[0m: SATA max UDMA/133 abar m2048@0x5533d000 port 0x5533d100 irq 128\r\n",
      "\u001b[32m[    1.104131] \u001b[0m\u001b[33mata2\u001b[0m: SATA max UDMA/133 abar m2048@0x5533d000 port 0x5533d180 irq 128\r\n",
      "\u001b[32m[    1.104132] \u001b[0m\u001b[33mata3\u001b[0m: SATA max UDMA/133 abar m2048@0x5533d000 port 0x5533d200 irq 128\r\n",
      "\u001b[32m[    1.104133] \u001b[0m\u001b[33mata4\u001b[0m: SATA max UDMA/133 abar m2048@0x5533d000 port 0x5533d280 irq 128\r\n",
      "\u001b[32m[    1.247069] \u001b[0m\u001b[33musb 1-11\u001b[0m: new high-speed USB device number 2 using xhci_hcd\r\n",
      "\u001b[32m[    1.272972] \u001b[0m\u001b[33mnvme nvme0\u001b[0m: 15/0/0 default/read/poll queues\r\n",
      "\u001b[32m[    1.273730] \u001b[0m\u001b[33m nvme0n1\u001b[0m: p1\r\n",
      "\u001b[32m[    1.392331] \u001b[0m\u001b[33musb 1-11\u001b[0m: New USB device found, idVendor=05e3, idProduct=0608, bcdDevice=85.36\r\n",
      "\u001b[32m[    1.392331] \u001b[0m\u001b[33musb 1-11\u001b[0m: New USB device strings: Mfr=0, Product=1, SerialNumber=0\r\n",
      "\u001b[32m[    1.392332] \u001b[0m\u001b[33musb 1-11\u001b[0m: Product: USB2.0 Hub\r\n",
      "\u001b[32m[    1.392996] \u001b[0m\u001b[33mhub 1-11:1.0\u001b[0m: USB hub found\r\n",
      "\u001b[32m[    1.393247] \u001b[0m\u001b[33mhub 1-11:1.0\u001b[0m: 4 ports detected\r\n",
      "\u001b[32m[    1.418580] \u001b[0m\u001b[33mata1\u001b[0m: SATA link up 6.0 Gbps (SStatus 133 SControl 300)\r\n",
      "\u001b[32m[    1.419189] \u001b[0m\u001b[33mata1.00\u001b[0m: ATA-10: WDC WD20EZAZ-00GGJB0, 80.00A80, max UDMA/133\r\n",
      "\u001b[32m[    1.419190] \u001b[0m\u001b[33mata1.00\u001b[0m: 3907029168 sectors, multi 16: LBA48 NCQ (depth 32), AA\r\n",
      "\u001b[32m[    1.419838] \u001b[0m\u001b[33mata1.00\u001b[0m: configured for UDMA/133\r\n",
      "\u001b[32m[    1.419954] \u001b[0m\u001b[33mscsi 0:0:0:0\u001b[0m: Direct-Access     ATA      WDC WD20EZAZ-00G 0A80 PQ: 0 ANSI: 5\r\n",
      "\u001b[32m[    1.420095] \u001b[0m\u001b[33msd 0:0:0:0\u001b[0m: Attached scsi generic sg0 type 0\r\n",
      "\u001b[32m[    1.420159] \u001b[0m\u001b[33msd 0:0:0:0\u001b[0m: [sda] 3907029168 512-byte logical blocks: (2.00 TB/1.82 TiB)\r\n",
      "\u001b[32m[    1.420160] \u001b[0m\u001b[33msd 0:0:0:0\u001b[0m: [sda] 4096-byte physical blocks\r\n",
      "\u001b[32m[    1.420201] \u001b[0m\u001b[33msd 0:0:0:0\u001b[0m: [sda] Write Protect is off\r\n",
      "\u001b[32m[    1.420202] \u001b[0m\u001b[33msd 0:0:0:0\u001b[0m: [sda] Mode Sense: 00 3a 00 00\r\n",
      "\u001b[32m[    1.420239] \u001b[0m\u001b[33msd 0:0:0:0\u001b[0m: [sda] Write cache: enabled, read cache: enabled, doesn't support DPO or FUA\r\n",
      "\u001b[32m[    1.422384] \u001b[0m\u001b[33mata4\u001b[0m: SATA link down (SStatus 4 SControl 300)\r\n",
      "\u001b[32m[    1.422422] \u001b[0m\u001b[33mata2\u001b[0m: SATA link down (SStatus 4 SControl 300)\r\n",
      "\u001b[32m[    1.422435] \u001b[0m\u001b[33mata3\u001b[0m: SATA link down (SStatus 4 SControl 300)\r\n",
      "\u001b[32m[    1.466122] \u001b[0m\u001b[33me1000e 0000:00:1f.6 0000:00:1f.6 (uninitialized)\u001b[0m: registered PHC clock\r\n",
      "\u001b[32m[    1.470537] \u001b[0m\u001b[33msd 0:0:0:0\u001b[0m: [sda] Attached SCSI disk\r\n",
      "\u001b[32m[    1.519056] \u001b[0m\u001b[33musb 1-12\u001b[0m: new full-speed USB device number 3 using xhci_hcd\r\n",
      "\u001b[32m[    1.538283] \u001b[0m\u001b[33me1000e 0000:00:1f.6 eth0\u001b[0m: (PCI Express:2.5GT/s:Width x1) b4:2e:99:8d:dc:b2\r\n",
      "\u001b[32m[    1.538284] \u001b[0m\u001b[33me1000e 0000:00:1f.6 eth0\u001b[0m: Intel(R) PRO/1000 Network Connection\r\n",
      "\u001b[32m[    1.538342] \u001b[0m\u001b[33me1000e 0000:00:1f.6 eth0\u001b[0m: MAC: 13, PHY: 12, PBA No: FFFFFF-0FF\r\n",
      "\u001b[32m[    1.551788] \u001b[0m\u001b[33me1000e 0000:00:1f.6 eno2\u001b[0m: renamed from eth0\r\n",
      "\u001b[32m[    1.671324] \u001b[0m\u001b[33musb 1-12\u001b[0m: New USB device found, idVendor=048d, idProduct=8297, bcdDevice= 0.03\r\n",
      "\u001b[32m[    1.671325] \u001b[0m\u001b[33musb 1-12\u001b[0m: New USB device strings: Mfr=1, Product=2, SerialNumber=0\r\n",
      "\u001b[32m[    1.671326] \u001b[0m\u001b[33musb 1-12\u001b[0m: Product: ITE Device(8595)\r\n",
      "\u001b[32m[    1.671326] \u001b[0m\u001b[33musb 1-12\u001b[0m: Manufacturer: ITE Tech. Inc.\r\n",
      "\u001b[32m[    1.787076] \u001b[0m\u001b[33mtsc\u001b[0m: Refined TSC clocksource calibration: 3599.990 MHz\r\n",
      "\u001b[32m[    1.787079] \u001b[0m\u001b[33mclocksource\u001b[0m: tsc: mask: 0xffffffffffffffff max_cycles: 0x33e449c7887, max_idle_ns: 440795318932 ns\r\n",
      "\u001b[32m[    1.787136] \u001b[0m\u001b[33mclocksource\u001b[0m: Switched to clocksource tsc\r\n",
      "\u001b[32m[    1.798998] \u001b[0m\u001b[33musb 1-13\u001b[0m: new high-speed USB device number 4 using xhci_hcd\r\n",
      "\u001b[32m[    1.948820] \u001b[0m\u001b[33musb 1-13\u001b[0m: New USB device found, idVendor=05e3, idProduct=0608, bcdDevice=85.36\r\n",
      "\u001b[32m[    1.948821] \u001b[0m\u001b[33musb 1-13\u001b[0m: New USB device strings: Mfr=0, Product=1, SerialNumber=0\r\n",
      "\u001b[32m[    1.948821] \u001b[0m\u001b[33musb 1-13\u001b[0m: Product: USB2.0 Hub\r\n",
      "\u001b[32m[    1.949874] \u001b[0m\u001b[33mhub 1-13:1.0\u001b[0m: USB hub found\r\n",
      "\u001b[32m[    1.950255] \u001b[0m\u001b[33mhub 1-13:1.0\u001b[0m: 4 ports detected\r\n",
      "\u001b[32m[    2.079049] \u001b[0m\u001b[33musb 1-14\u001b[0m: new full-speed USB device number 5 using xhci_hcd\r\n",
      "\u001b[32m[    2.228514] \u001b[0m\u001b[33musb 1-14\u001b[0m\u001b[1m: config 1 interface 1 altsetting 0 endpoint 0x3 has wMaxPacketSize 0, skipping\r\n",
      "\u001b[0m\u001b[32m[    2.228514] \u001b[0m\u001b[33musb 1-14\u001b[0m\u001b[1m: config 1 interface 1 altsetting 0 endpoint 0x83 has wMaxPacketSize 0, skipping\r\n",
      "\u001b[0m\u001b[32m[    2.228516] \u001b[0m\u001b[33musb 1-14\u001b[0m: New USB device found, idVendor=8087, idProduct=0aaa, bcdDevice= 0.02\r\n",
      "\u001b[32m[    2.228517] \u001b[0m\u001b[33musb 1-14\u001b[0m: New USB device strings: Mfr=0, Product=0, SerialNumber=0\r\n",
      "\u001b[32m[    2.232270] \u001b[0m\u001b[33mhidraw\u001b[0m: raw HID events driver (C) Jiri Kosina\r\n",
      "\u001b[32m[    2.233847] \u001b[0m\u001b[33musbcore\u001b[0m: registered new interface driver usbhid\r\n",
      "\u001b[32m[    2.233847] \u001b[0m\u001b[33musbhid\u001b[0m: USB HID core driver\r\n",
      "\u001b[32m[    2.235104] \u001b[0m\u001b[33mhid-generic 0003:048D:8297.0001\u001b[0m: hiddev0,hidraw0: USB HID v1.10 Device [ITE Tech. Inc. ITE Device(8595)] on usb-0000:00:14.0-12/input0\r\n",
      "\u001b[32m[    2.256124] \u001b[0m\u001b[33mfbcon\u001b[0m: Taking over console\r\n",
      "\u001b[32m[    2.256157] \u001b[0m\u001b[33mConsole\u001b[0m: switching to colour frame buffer device 80x30\r\n",
      "\u001b[32m[    2.288755] \u001b[0m\u001b[33mEXT4-fs (dm-0)\u001b[0m: mounted filesystem with ordered data mode. Opts: (null)\r\n",
      "\u001b[32m[    2.345003] \u001b[0m\u001b[33msystemd[1]\u001b[0m: systemd 237 running in system mode. (+PAM +AUDIT +SELINUX +IMA +APPARMOR +SMACK +SYSVINIT +UTMP +LIBCRYPTSETUP +GCRYPT +GNUTLS +ACL +XZ +LZ4 +SECCOMP +BLKID +ELFUTILS +KMOD -IDN2 +IDN -PCRE2 default-hierarchy=hybrid)\r\n",
      "\u001b[32m[    2.367590] \u001b[0m\u001b[33msystemd[1]\u001b[0m: Detected architecture x86-64.\r\n",
      "\u001b[32m[    2.369041] \u001b[0m\u001b[33msystemd[1]\u001b[0m: Set hostname to <carpediem>.\r\n",
      "\u001b[32m[    2.417229] \u001b[0m\u001b[33msystemd[1]\u001b[0m: Reached target Remote File Systems.\r\n",
      "\u001b[32m[    2.417689] \u001b[0m\u001b[33msystemd[1]\u001b[0m: Created slice System Slice.\r\n",
      "\u001b[32m[    2.417729] \u001b[0m\u001b[33msystemd[1]\u001b[0m: Listening on udev Control Socket.\r\n",
      "\u001b[32m[    2.417753] \u001b[0m\u001b[33msystemd[1]\u001b[0m: Listening on Device-mapper event daemon FIFOs.\r\n",
      "\u001b[32m[    2.417777] \u001b[0m\u001b[33msystemd[1]\u001b[0m: Listening on LVM2 metadata daemon socket.\r\n",
      "\u001b[32m[    2.417798] \u001b[0m\u001b[33msystemd[1]\u001b[0m: Listening on LVM2 poll daemon socket.\r\n",
      "\u001b[32m[    2.417823] \u001b[0m\u001b[33msystemd[1]\u001b[0m: Listening on fsck to fsckd communication Socket.\r\n",
      "\u001b[32m[    2.425004] \u001b[0m\u001b[33mlp\u001b[0m: driver loaded but no devices found\r\n",
      "\u001b[32m[    2.426583] \u001b[0m\u001b[33mppdev\u001b[0m: user-space parallel port driver\r\n",
      "\u001b[32m[    2.427279] \u001b[0m\u001b[33mEXT4-fs (dm-0)\u001b[0m: re-mounted. Opts: errors=remount-ro\r\n",
      "\u001b[32m[    2.467919] \u001b[0m\u001b[33msystemd-journald[470]\u001b[0m: Received request to flush runtime journal from PID 1\r\n",
      "\u001b[32m[    2.520050] \u001b[0m\u001b[33maudit\u001b[0m: type=1400 audit(1589502669.086:2): apparmor=\"STATUS\" operation=\"profile_load\" profile=\"unconfined\" name=\"libreoffice-senddoc\" pid=616 comm=\"apparmor_parser\"\r\n",
      "\u001b[32m[    2.520475] \u001b[0m\u001b[33maudit\u001b[0m: type=1400 audit(1589502669.086:3): apparmor=\"STATUS\" operation=\"profile_load\" profile=\"unconfined\" name=\"/usr/sbin/ippusbxd\" pid=621 comm=\"apparmor_parser\"\r\n",
      "\u001b[32m[    2.521264] \u001b[0m\u001b[33maudit\u001b[0m: type=1400 audit(1589502669.086:4): apparmor=\"STATUS\" operation=\"profile_load\" profile=\"unconfined\" name=\"/usr/sbin/cups-browsed\" pid=619 comm=\"apparmor_parser\"\r\n",
      "\u001b[32m[    2.521283] \u001b[0m\u001b[33maudit\u001b[0m: type=1400 audit(1589502669.086:5): apparmor=\"STATUS\" operation=\"profile_load\" profile=\"unconfined\" name=\"/usr/sbin/tcpdump\" pid=623 comm=\"apparmor_parser\"\r\n",
      "\u001b[32m[    2.521575] \u001b[0m\u001b[33maudit\u001b[0m: type=1400 audit(1589502669.086:6): apparmor=\"STATUS\" operation=\"profile_load\" profile=\"unconfined\" name=\"libreoffice-oopslash\" pid=615 comm=\"apparmor_parser\"\r\n",
      "\u001b[32m[    2.522165] \u001b[0m\u001b[33maudit\u001b[0m: type=1400 audit(1589502669.086:7): apparmor=\"STATUS\" operation=\"profile_load\" profile=\"unconfined\" name=\"libreoffice-xpdfimport\" pid=618 comm=\"apparmor_parser\"\r\n",
      "\u001b[32m[    2.522920] \u001b[0m\u001b[33maudit\u001b[0m: type=1400 audit(1589502669.086:8): apparmor=\"STATUS\" operation=\"profile_load\" profile=\"unconfined\" name=\"/sbin/dhclient\" pid=611 comm=\"apparmor_parser\"\r\n",
      "\u001b[32m[    2.522922] \u001b[0m\u001b[33maudit\u001b[0m: type=1400 audit(1589502669.090:9): apparmor=\"STATUS\" operation=\"profile_load\" profile=\"unconfined\" name=\"/usr/lib/NetworkManager/nm-dhcp-client.action\" pid=611 comm=\"apparmor_parser\"\r\n",
      "\u001b[32m[    2.522924] \u001b[0m\u001b[33maudit\u001b[0m: type=1400 audit(1589502669.090:10): apparmor=\"STATUS\" operation=\"profile_load\" profile=\"unconfined\" name=\"/usr/lib/NetworkManager/nm-dhcp-helper\" pid=611 comm=\"apparmor_parser\"\r\n",
      "\u001b[32m[    2.547490] \u001b[0m\u001b[33mmei_me 0000:00:16.0\u001b[0m: enabling device (0004 -> 0006)\r\n",
      "\u001b[32m[    2.554171] \u001b[0m\u001b[33mIPMI message handler\u001b[0m: version 39.2\r\n",
      "\u001b[32m[    2.554278] \u001b[0m\u001b[33mcfg80211\u001b[0m: Loading compiled-in X.509 certificates for regulatory database\r\n",
      "\u001b[32m[    2.555113] \u001b[0mipmi device interface\r\n",
      "\u001b[32m[    2.558347] \u001b[0m\u001b[33mBluetooth\u001b[0m: Core ver 2.22\r\n",
      "\u001b[32m[    2.558356] \u001b[0m\u001b[33mNET\u001b[0m: Registered protocol family 31\r\n",
      "\u001b[32m[    2.558357] \u001b[0m\u001b[33mBluetooth\u001b[0m: HCI device and connection manager initialized\r\n",
      "\u001b[32m[    2.558359] \u001b[0m\u001b[33mBluetooth\u001b[0m: HCI socket layer initialized\r\n",
      "\u001b[32m[    2.558361] \u001b[0m\u001b[33mBluetooth\u001b[0m: L2CAP socket layer initialized\r\n",
      "\u001b[32m[    2.558363] \u001b[0m\u001b[33mBluetooth\u001b[0m: SCO socket layer initialized\r\n",
      "\u001b[32m[    2.559113] \u001b[0m\u001b[33mcfg80211\u001b[0m: Loaded X.509 cert 'sforshee: 00b28ddf47aef9cea7'\r\n",
      "\u001b[32m[    2.563354] \u001b[0m\u001b[33mRAPL PMU\u001b[0m: API unit is 2^-32 Joules, 2 fixed counters, 655360 ms ovfl timer\r\n",
      "\u001b[32m[    2.563356] \u001b[0m\u001b[33mRAPL PMU\u001b[0m: hw unit of domain pp0-core 2^-14 Joules\r\n",
      "\u001b[32m[    2.563356] \u001b[0m\u001b[33mRAPL PMU\u001b[0m: hw unit of domain package 2^-14 Joules\r\n",
      "\u001b[32m[    2.603817] \u001b[0m\u001b[33mcryptd\u001b[0m: max_cpu_qlen set to 1000\r\n",
      "\u001b[32m[    2.606582] \u001b[0m\u001b[33musbcore\u001b[0m: registered new interface driver btusb\r\n",
      "\u001b[32m[    2.608648] \u001b[0mIntel(R) Wireless WiFi driver for Linux\r\n",
      "\u001b[32m[    2.608650] \u001b[0mCopyright(c) 2003- 2015 Intel Corporation\r\n",
      "\u001b[32m[    2.609645] \u001b[0m\u001b[33mBluetooth\u001b[0m: hci0: Firmware revision 0.1 build 226 week 31 2019\r\n",
      "\u001b[32m[    2.612823] \u001b[0mAVX2 version of gcm_enc/dec engaged.\r\n",
      "\u001b[32m[    2.612824] \u001b[0mAES CTR mode by8 optimization enabled\r\n",
      "\u001b[32m[    2.625124] \u001b[0m\u001b[33miwlwifi 0000:00:14.3\u001b[0m: Found debug destination: EXTERNAL_DRAM\r\n",
      "\u001b[32m[    2.625125] \u001b[0m\u001b[33miwlwifi 0000:00:14.3\u001b[0m: Found debug configuration: 0\r\n",
      "\u001b[32m[    2.625359] \u001b[0m\u001b[33miwlwifi 0000:00:14.3\u001b[0m: loaded firmware version 46.6bf1df06.0 op_mode iwlmvm\r\n",
      "\u001b[32m[    2.636771] \u001b[0m\u001b[33mnvidia\u001b[0m\u001b[1m: loading out-of-tree module taints kernel.\u001b[0m\r\n",
      "\u001b[32m[    2.636778] \u001b[0m\u001b[33mnvidia\u001b[0m\u001b[1m: module license 'NVIDIA' taints kernel.\u001b[0m\r\n",
      "\u001b[32m[    2.636778] \u001b[0m\u001b[1mDisabling lock debugging due to kernel taint\u001b[0m\r\n",
      "\u001b[32m[    2.667051] \u001b[0mAdding 999420k swap on /dev/mapper/ubuntu--vg-swap_1.  Priority:-2 extents:1 across:999420k SSFS\r\n",
      "\u001b[32m[    2.671196] \u001b[0m\u001b[33mnvidia\u001b[0m: module verification failed: signature and/or required key missing - tainting kernel\r\n",
      "\u001b[32m[    2.676917] \u001b[0m\u001b[33msnd_hda_intel 0000:01:00.1\u001b[0m: Disabling MSI\r\n",
      "\u001b[32m[    2.676921] \u001b[0m\u001b[33msnd_hda_intel 0000:01:00.1\u001b[0m: Handle vga_switcheroo audio client\r\n",
      "\u001b[32m[    2.678726] \u001b[0m\u001b[33mnvidia-nvlink\u001b[0m: Nvlink Core is being initialized, major device number 237\r\n",
      "\u001b[32m[    2.679480] \u001b[0m\u001b[33mnvidia 0000:01:00.0\u001b[0m: vgaarb: changed VGA decodes: olddecodes=io+mem,decodes=none:owns=io+mem\r\n",
      "\u001b[32m[    2.681593] \u001b[0m\u001b[33miwlwifi 0000:00:14.3\u001b[0m: Detected Intel(R) Dual Band Wireless AC 9560, REV=0x318\r\n",
      "\u001b[32m[    2.688752] \u001b[0m\u001b[33miwlwifi 0000:00:14.3\u001b[0m: Applying debug destination EXTERNAL_DRAM\r\n",
      "\u001b[32m[    2.689231] \u001b[0m\u001b[33miwlwifi 0000:00:14.3\u001b[0m: Allocated 0x00400000 bytes for firmware monitor.\r\n",
      "\u001b[32m[    2.696334] \u001b[0m\u001b[33msnd_hda_codec_realtek hdaudioC0D0\u001b[0m: autoconfig for ALC1220: line_outs=3 (0x14/0x15/0x16/0x0/0x0) type:line\r\n",
      "\u001b[32m[    2.696336] \u001b[0m\u001b[33msnd_hda_codec_realtek hdaudioC0D0\u001b[0m:    speaker_outs=0 (0x0/0x0/0x0/0x0/0x0)\r\n",
      "\u001b[32m[    2.696337] \u001b[0m\u001b[33msnd_hda_codec_realtek hdaudioC0D0\u001b[0m:    hp_outs=1 (0x1b/0x0/0x0/0x0/0x0)\r\n",
      "\u001b[32m[    2.696338] \u001b[0m\u001b[33msnd_hda_codec_realtek hdaudioC0D0\u001b[0m:    mono: mono_out=0x0\r\n",
      "\u001b[32m[    2.696339] \u001b[0m\u001b[33msnd_hda_codec_realtek hdaudioC0D0\u001b[0m:    dig-out=0x1e/0x0\r\n",
      "\u001b[32m[    2.696339] \u001b[0m\u001b[33msnd_hda_codec_realtek hdaudioC0D0\u001b[0m:    inputs:\r\n",
      "\u001b[32m[    2.696341] \u001b[0m\u001b[33msnd_hda_codec_realtek hdaudioC0D0\u001b[0m:      Front Mic=0x19\r\n",
      "\u001b[32m[    2.696342] \u001b[0m\u001b[33msnd_hda_codec_realtek hdaudioC0D0\u001b[0m:      Rear Mic=0x18\r\n",
      "\u001b[32m[    2.696342] \u001b[0m\u001b[33msnd_hda_codec_realtek hdaudioC0D0\u001b[0m:      Line=0x1a\r\n",
      "\u001b[32m[    2.712831] \u001b[0m\u001b[33minput\u001b[0m: HDA Intel PCH Front Mic as /devices/pci0000:00/0000:00:1f.3/sound/card0/input3\r\n",
      "\u001b[32m[    2.712917] \u001b[0m\u001b[33minput\u001b[0m: HDA Intel PCH Rear Mic as /devices/pci0000:00/0000:00:1f.3/sound/card0/input4\r\n",
      "\u001b[32m[    2.712990] \u001b[0m\u001b[33minput\u001b[0m: HDA Intel PCH Line as /devices/pci0000:00/0000:00:1f.3/sound/card0/input5\r\n",
      "\u001b[32m[    2.713063] \u001b[0m\u001b[33minput\u001b[0m: HDA Intel PCH Line Out Front as /devices/pci0000:00/0000:00:1f.3/sound/card0/input6\r\n",
      "\u001b[32m[    2.713122] \u001b[0m\u001b[33minput\u001b[0m: HDA Intel PCH Line Out Surround as /devices/pci0000:00/0000:00:1f.3/sound/card0/input7\r\n",
      "\u001b[32m[    2.713198] \u001b[0m\u001b[33minput\u001b[0m: HDA Intel PCH Line Out CLFE as /devices/pci0000:00/0000:00:1f.3/sound/card0/input8\r\n",
      "\u001b[32m[    2.713245] \u001b[0m\u001b[33minput\u001b[0m: HDA Intel PCH Front Headphone as /devices/pci0000:00/0000:00:1f.3/sound/card0/input9\r\n",
      "\u001b[32m[    2.714150] \u001b[0m\u001b[33mBluetooth\u001b[0m: BNEP (Ethernet Emulation) ver 1.3\r\n",
      "\u001b[32m[    2.714151] \u001b[0m\u001b[33mBluetooth\u001b[0m: BNEP filters: protocol multicast\r\n",
      "\u001b[32m[    2.714153] \u001b[0m\u001b[33mBluetooth\u001b[0m: BNEP socket layer initialized\r\n",
      "\u001b[32m[    2.729219] \u001b[0m\u001b[33miwlwifi 0000:00:14.3\u001b[0m: base HW address: 0c:dd:24:76:4c:10\r\n",
      "\u001b[32m[    2.778976] \u001b[0m\u001b[33mNVRM\u001b[0m\u001b[1m: loading NVIDIA UNIX x86_64 Kernel Module  440.48.02  Tue Jan 14 06:22:51 UTC 2020\u001b[0m\r\n",
      "\u001b[32m[    2.781150] \u001b[0m\u001b[33mnvidia-modeset\u001b[0m: Loading NVIDIA Kernel Mode Setting Driver for UNIX platforms  440.48.02  Tue Jan 14 06:13:28 UTC 2020\r\n",
      "\u001b[32m[    2.782098] \u001b[0m[drm] [nvidia-drm] [GPU ID 0x00000100] Loading driver\r\n",
      "\u001b[32m[    2.782099] \u001b[0m[drm] Initialized nvidia-drm 0.0.0 20160202 for 0000:01:00.0 on minor 0\r\n",
      "\u001b[32m[    2.796543] \u001b[0m\u001b[33mieee80211 phy0\u001b[0m: Selected rate control algorithm 'iwl-mvm-rs'\r\n",
      "\u001b[32m[    2.796815] \u001b[0m\u001b[33mthermal thermal_zone2\u001b[0m\u001b[1m: failed to read out thermal zone (-61)\r\n",
      "\u001b[0m\u001b[32m[    2.799186] \u001b[0m\u001b[33miwlwifi 0000:00:14.3 wlo1\u001b[0m: renamed from wlan0\r\n",
      "\u001b[32m[    2.812117] \u001b[0m\u001b[33mnvidia-uvm\u001b[0m: Loaded the UVM driver, major device number 235.\r\n",
      "\u001b[32m[    2.888030] \u001b[0m\u001b[33mintel_rapl_common\u001b[0m: Found RAPL domain package\r\n",
      "\u001b[32m[    2.888031] \u001b[0m\u001b[33mintel_rapl_common\u001b[0m: Found RAPL domain core\r\n",
      "\u001b[32m[    2.900781] \u001b[0maufs 4.x-rcN-20190805\r\n",
      "\u001b[32m[    2.982205] \u001b[0m\u001b[33mEXT4-fs (sda)\u001b[0m: mounted filesystem with ordered data mode. Opts: (null)\r\n",
      "\u001b[32m[    3.058419] \u001b[0m\u001b[33miwlwifi 0000:00:14.3\u001b[0m: Applying debug destination EXTERNAL_DRAM\r\n",
      "\u001b[32m[    3.172285] \u001b[0m\u001b[33miwlwifi 0000:00:14.3\u001b[0m: Applying debug destination EXTERNAL_DRAM\r\n",
      "\u001b[32m[    3.237276] \u001b[0m\u001b[33miwlwifi 0000:00:14.3\u001b[0m\u001b[1m: FW already configured (0) - re-configuring\r\n",
      "\u001b[0m\u001b[32m[    3.246280] \u001b[0m\u001b[33miwlwifi 0000:00:14.3\u001b[0m\u001b[31m: BIOS contains WGDS but no WRDS\r\n",
      "\u001b[0m\u001b[32m[    3.447526] \u001b[0m\u001b[33minput\u001b[0m: HDA NVidia HDMI/DP,pcm=3 as /devices/pci0000:00/0000:00:01.0/0000:01:00.1/sound/card1/input10\r\n",
      "\u001b[32m[    3.447556] \u001b[0m\u001b[33minput\u001b[0m: HDA NVidia HDMI/DP,pcm=7 as /devices/pci0000:00/0000:00:01.0/0000:01:00.1/sound/card1/input11\r\n",
      "\u001b[32m[    3.447581] \u001b[0m\u001b[33minput\u001b[0m: HDA NVidia HDMI/DP,pcm=8 as /devices/pci0000:00/0000:00:01.0/0000:01:00.1/sound/card1/input12\r\n",
      "\u001b[32m[    3.447604] \u001b[0m\u001b[33minput\u001b[0m: HDA NVidia HDMI/DP,pcm=9 as /devices/pci0000:00/0000:00:01.0/0000:01:00.1/sound/card1/input13\r\n",
      "\u001b[32m[    7.187967] \u001b[0m\u001b[33mwlo1\u001b[0m: authenticate with 50:3a:a0:ea:22:b2\r\n",
      "\u001b[32m[    7.197620] \u001b[0m\u001b[33mwlo1\u001b[0m: send auth to 50:3a:a0:ea:22:b2 (try 1/3)\r\n",
      "\u001b[32m[    7.245024] \u001b[0m\u001b[33mwlo1\u001b[0m: authenticated\r\n",
      "\u001b[32m[    7.247051] \u001b[0m\u001b[33mwlo1\u001b[0m: associate with 50:3a:a0:ea:22:b2 (try 1/3)\r\n",
      "\u001b[32m[    7.251001] \u001b[0m\u001b[33mwlo1\u001b[0m: RX AssocResp from 50:3a:a0:ea:22:b2 (capab=0x411 status=0 aid=4)\r\n",
      "\u001b[32m[    7.255649] \u001b[0m\u001b[33mwlo1\u001b[0m: associated\r\n",
      "\u001b[32m[    7.415665] \u001b[0m\u001b[33mIPv6\u001b[0m: ADDRCONF(NETDEV_CHANGE): wlo1: link becomes ready\r\n",
      "\u001b[32m[    9.186341] \u001b[0m\u001b[33mkauditd_printk_skb\u001b[0m\u001b[1m: 14 callbacks suppressed\u001b[0m\r\n",
      "\u001b[32m[    9.186342] \u001b[0m\u001b[33maudit\u001b[0m: type=1400 audit(1589502675.750:25): apparmor=\"STATUS\" operation=\"profile_load\" profile=\"unconfined\" name=\"docker-default\" pid=1743 comm=\"apparmor_parser\"\r\n",
      "\u001b[32m[    9.271746] \u001b[0m\u001b[33mbridge\u001b[0m: filtering via arp/ip/ip6tables is no longer available by default. Update your scripts to load br_netfilter if you need this.\r\n",
      "\u001b[32m[    9.275554] \u001b[0mBridge firewalling registered\r\n",
      "\u001b[32m[    9.285528] \u001b[0m\u001b[33mbpfilter\u001b[0m: Loaded bpfilter_umh pid 1764\r\n",
      "\u001b[32m[    9.338903] \u001b[0mInitializing XFRM netlink socket\r\n",
      "\u001b[32m[32623.685012] \u001b[0m\u001b[33mNVRM\u001b[0m\u001b[1m: GPU at PCI:0000:01:00: GPU-4a86e448-bed7-4bd7-3006-ccb1f0514298\u001b[0m\r\n",
      "\u001b[32m[32623.685014] \u001b[0m\u001b[33mNVRM\u001b[0m\u001b[1m: GPU Board Serial Number: \u001b[0m\r\n",
      "\u001b[32m[32623.685015] \u001b[0m\u001b[33mNVRM\u001b[0m\u001b[31m: Xid (PCI:0000:01:00): 43, pid=1093, Ch 00000018\u001b[0m\r\n",
      "\u001b[32m[33212.088883] \u001b[0m\u001b[33mNVRM\u001b[0m\u001b[31m: Xid (PCI:0000:01:00): 43, pid=6295, Ch 00000018\u001b[0m\r\n"
     ]
    }
   ],
   "source": [
    "!dmesg"
   ]
  },
  {
   "cell_type": "code",
   "execution_count": 46,
   "metadata": {
    "ExecuteTime": {
     "end_time": "2020-05-15T10:21:17.592729Z",
     "start_time": "2020-05-15T10:21:17.586355Z"
    }
   },
   "outputs": [
    {
     "data": {
      "text/plain": [
       "tensor([1, 2, 3, 4, 5])"
      ]
     },
     "execution_count": 46,
     "metadata": {},
     "output_type": "execute_result"
    }
   ],
   "source": [
    "ttttttt = torch.tensor([1,2,3,4,5])\n",
    "ttttttt"
   ]
  },
  {
   "cell_type": "code",
   "execution_count": 47,
   "metadata": {
    "ExecuteTime": {
     "end_time": "2020-05-15T10:21:26.715589Z",
     "start_time": "2020-05-15T10:21:26.697999Z"
    }
   },
   "outputs": [
    {
     "ename": "RuntimeError",
     "evalue": "CUDA error: device-side assert triggered",
     "output_type": "error",
     "traceback": [
      "\u001b[0;31m---------------------------------------------------------------------------\u001b[0m",
      "\u001b[0;31mRuntimeError\u001b[0m                              Traceback (most recent call last)",
      "\u001b[0;32m<ipython-input-47-c5d797a2bd58>\u001b[0m in \u001b[0;36m<module>\u001b[0;34m\u001b[0m\n\u001b[0;32m----> 1\u001b[0;31m \u001b[0mttttttt\u001b[0m\u001b[0;34m.\u001b[0m\u001b[0mcuda\u001b[0m\u001b[0;34m(\u001b[0m\u001b[0;34m)\u001b[0m\u001b[0;34m\u001b[0m\u001b[0;34m\u001b[0m\u001b[0m\n\u001b[0m",
      "\u001b[0;31mRuntimeError\u001b[0m: CUDA error: device-side assert triggered"
     ]
    }
   ],
   "source": [
    "ttttttt.cuda()"
   ]
  },
  {
   "cell_type": "code",
   "execution_count": 48,
   "metadata": {
    "ExecuteTime": {
     "end_time": "2020-05-15T10:22:59.791108Z",
     "start_time": "2020-05-15T10:22:59.784527Z"
    }
   },
   "outputs": [],
   "source": [
    "import os\n",
    "os.environ['CUDA_LAUNCH_BLOCKING'] = \"1\""
   ]
  },
  {
   "cell_type": "code",
   "execution_count": 49,
   "metadata": {
    "ExecuteTime": {
     "end_time": "2020-05-15T10:23:05.942849Z",
     "start_time": "2020-05-15T10:23:05.928138Z"
    }
   },
   "outputs": [
    {
     "ename": "RuntimeError",
     "evalue": "CUDA error: device-side assert triggered",
     "output_type": "error",
     "traceback": [
      "\u001b[0;31m---------------------------------------------------------------------------\u001b[0m",
      "\u001b[0;31mRuntimeError\u001b[0m                              Traceback (most recent call last)",
      "\u001b[0;32m<ipython-input-49-c5d797a2bd58>\u001b[0m in \u001b[0;36m<module>\u001b[0;34m\u001b[0m\n\u001b[0;32m----> 1\u001b[0;31m \u001b[0mttttttt\u001b[0m\u001b[0;34m.\u001b[0m\u001b[0mcuda\u001b[0m\u001b[0;34m(\u001b[0m\u001b[0;34m)\u001b[0m\u001b[0;34m\u001b[0m\u001b[0;34m\u001b[0m\u001b[0m\n\u001b[0m",
      "\u001b[0;31mRuntimeError\u001b[0m: CUDA error: device-side assert triggered"
     ]
    }
   ],
   "source": [
    "ttttttt.cuda()"
   ]
  },
  {
   "cell_type": "code",
   "execution_count": null,
   "metadata": {},
   "outputs": [],
   "source": []
  },
  {
   "cell_type": "code",
   "execution_count": 22,
   "metadata": {
    "ExecuteTime": {
     "end_time": "2020-05-15T11:04:53.663672Z",
     "start_time": "2020-05-15T11:04:53.657949Z"
    }
   },
   "outputs": [
    {
     "data": {
      "text/plain": [
       "['[CLS]', '你', '号', '杠', '啊', '发', '到', '付', '啊', '啊', '[SEP]']"
      ]
     },
     "execution_count": 22,
     "metadata": {},
     "output_type": "execute_result"
    }
   ],
   "source": [
    "bert_tokenizer.convert_ids_to_tokens(bert_tokenizer.encode(\"你号杠啊发到付啊啊\"))"
   ]
  },
  {
   "cell_type": "code",
   "execution_count": null,
   "metadata": {},
   "outputs": [],
   "source": []
  }
 ],
 "metadata": {
  "kernelspec": {
   "display_name": "Python 3",
   "language": "python",
   "name": "python3"
  },
  "language_info": {
   "codemirror_mode": {
    "name": "ipython",
    "version": 3
   },
   "file_extension": ".py",
   "mimetype": "text/x-python",
   "name": "python",
   "nbconvert_exporter": "python",
   "pygments_lexer": "ipython3",
   "version": "3.7.7"
  },
  "toc": {
   "base_numbering": 1,
   "nav_menu": {},
   "number_sections": true,
   "sideBar": true,
   "skip_h1_title": false,
   "title_cell": "Table of Contents",
   "title_sidebar": "Contents",
   "toc_cell": false,
   "toc_position": {},
   "toc_section_display": true,
   "toc_window_display": false
  },
  "varInspector": {
   "cols": {
    "lenName": 16,
    "lenType": 16,
    "lenVar": 40
   },
   "kernels_config": {
    "python": {
     "delete_cmd_postfix": "",
     "delete_cmd_prefix": "del ",
     "library": "var_list.py",
     "varRefreshCmd": "print(var_dic_list())"
    },
    "r": {
     "delete_cmd_postfix": ") ",
     "delete_cmd_prefix": "rm(",
     "library": "var_list.r",
     "varRefreshCmd": "cat(var_dic_list()) "
    }
   },
   "position": {
    "height": "743.068px",
    "left": "1015.26px",
    "right": "20px",
    "top": "49.9858px",
    "width": "653.324px"
   },
   "types_to_exclude": [
    "module",
    "function",
    "builtin_function_or_method",
    "instance",
    "_Feature"
   ],
   "window_display": false
  }
 },
 "nbformat": 4,
 "nbformat_minor": 4
}
