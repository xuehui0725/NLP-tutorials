{
 "cells": [
  {
   "cell_type": "markdown",
   "metadata": {},
   "source": [
    "# 加载数据"
   ]
  },
  {
   "cell_type": "code",
   "execution_count": 1,
   "metadata": {
    "ExecuteTime": {
     "end_time": "2020-05-28T00:57:04.664661Z",
     "start_time": "2020-05-28T00:57:04.236349Z"
    }
   },
   "outputs": [
    {
     "data": {
      "text/html": [
       "<div>\n",
       "<style scoped>\n",
       "    .dataframe tbody tr th:only-of-type {\n",
       "        vertical-align: middle;\n",
       "    }\n",
       "\n",
       "    .dataframe tbody tr th {\n",
       "        vertical-align: top;\n",
       "    }\n",
       "\n",
       "    .dataframe thead th {\n",
       "        text-align: right;\n",
       "    }\n",
       "</style>\n",
       "<table border=\"1\" class=\"dataframe\">\n",
       "  <thead>\n",
       "    <tr style=\"text-align: right;\">\n",
       "      <th></th>\n",
       "      <th>Sentence #</th>\n",
       "      <th>Word</th>\n",
       "      <th>POS</th>\n",
       "      <th>Tag</th>\n",
       "    </tr>\n",
       "  </thead>\n",
       "  <tbody>\n",
       "    <tr>\n",
       "      <th>1048565</th>\n",
       "      <td>Sentence: 47958</td>\n",
       "      <td>impact</td>\n",
       "      <td>NN</td>\n",
       "      <td>O</td>\n",
       "    </tr>\n",
       "    <tr>\n",
       "      <th>1048566</th>\n",
       "      <td>Sentence: 47958</td>\n",
       "      <td>.</td>\n",
       "      <td>.</td>\n",
       "      <td>O</td>\n",
       "    </tr>\n",
       "    <tr>\n",
       "      <th>1048567</th>\n",
       "      <td>Sentence: 47959</td>\n",
       "      <td>Indian</td>\n",
       "      <td>JJ</td>\n",
       "      <td>B-gpe</td>\n",
       "    </tr>\n",
       "    <tr>\n",
       "      <th>1048568</th>\n",
       "      <td>Sentence: 47959</td>\n",
       "      <td>forces</td>\n",
       "      <td>NNS</td>\n",
       "      <td>O</td>\n",
       "    </tr>\n",
       "    <tr>\n",
       "      <th>1048569</th>\n",
       "      <td>Sentence: 47959</td>\n",
       "      <td>said</td>\n",
       "      <td>VBD</td>\n",
       "      <td>O</td>\n",
       "    </tr>\n",
       "    <tr>\n",
       "      <th>1048570</th>\n",
       "      <td>Sentence: 47959</td>\n",
       "      <td>they</td>\n",
       "      <td>PRP</td>\n",
       "      <td>O</td>\n",
       "    </tr>\n",
       "    <tr>\n",
       "      <th>1048571</th>\n",
       "      <td>Sentence: 47959</td>\n",
       "      <td>responded</td>\n",
       "      <td>VBD</td>\n",
       "      <td>O</td>\n",
       "    </tr>\n",
       "    <tr>\n",
       "      <th>1048572</th>\n",
       "      <td>Sentence: 47959</td>\n",
       "      <td>to</td>\n",
       "      <td>TO</td>\n",
       "      <td>O</td>\n",
       "    </tr>\n",
       "    <tr>\n",
       "      <th>1048573</th>\n",
       "      <td>Sentence: 47959</td>\n",
       "      <td>the</td>\n",
       "      <td>DT</td>\n",
       "      <td>O</td>\n",
       "    </tr>\n",
       "    <tr>\n",
       "      <th>1048574</th>\n",
       "      <td>Sentence: 47959</td>\n",
       "      <td>attack</td>\n",
       "      <td>NN</td>\n",
       "      <td>O</td>\n",
       "    </tr>\n",
       "  </tbody>\n",
       "</table>\n",
       "</div>"
      ],
      "text/plain": [
       "              Sentence #       Word  POS    Tag\n",
       "1048565  Sentence: 47958     impact   NN      O\n",
       "1048566  Sentence: 47958          .    .      O\n",
       "1048567  Sentence: 47959     Indian   JJ  B-gpe\n",
       "1048568  Sentence: 47959     forces  NNS      O\n",
       "1048569  Sentence: 47959       said  VBD      O\n",
       "1048570  Sentence: 47959       they  PRP      O\n",
       "1048571  Sentence: 47959  responded  VBD      O\n",
       "1048572  Sentence: 47959         to   TO      O\n",
       "1048573  Sentence: 47959        the   DT      O\n",
       "1048574  Sentence: 47959     attack   NN      O"
      ]
     },
     "execution_count": 1,
     "metadata": {},
     "output_type": "execute_result"
    }
   ],
   "source": [
    "import pandas as pd\n",
    "import numpy as np\n",
    "from tqdm import tqdm, trange\n",
    "\n",
    "data = pd.read_csv(\n",
    "    \"../datasets/ner/kaggle-entity-annotated-corpus/ner_dataset.csv\",\n",
    "    encoding=\"latin1\").fillna(method=\"ffill\")\n",
    "data.tail(10)"
   ]
  },
  {
   "cell_type": "code",
   "execution_count": 2,
   "metadata": {
    "ExecuteTime": {
     "end_time": "2020-05-28T00:57:32.711641Z",
     "start_time": "2020-05-28T00:57:32.704306Z"
    }
   },
   "outputs": [],
   "source": [
    "class SentenceGetter(object):\n",
    "    def __init__(self, data):\n",
    "        self.n_sent = 1\n",
    "        self.data = data\n",
    "        self.empty = False\n",
    "        \n",
    "        # 按句子分组\n",
    "        agg_func = lambda s: [(w, p, t) for w, p, t in zip(\n",
    "            s[\"Word\"].values.tolist(), s[\"POS\"].values.tolist(), s[\"Tag\"].\n",
    "            values.tolist())]\n",
    "        self.grouped = self.data.groupby(\"Sentence #\").apply(agg_func)\n",
    "        self.sentences = [s for s in self.grouped]\n",
    "\n",
    "    def get_next(self):\n",
    "        try:\n",
    "            s = self.grouped[\"Sentence: {}\".format(self.n_sent)]\n",
    "            self.n_sent += 1\n",
    "            return s\n",
    "        except:\n",
    "            return None"
   ]
  },
  {
   "cell_type": "code",
   "execution_count": 9,
   "metadata": {
    "ExecuteTime": {
     "end_time": "2020-05-28T00:59:35.082228Z",
     "start_time": "2020-05-28T00:59:32.002277Z"
    }
   },
   "outputs": [],
   "source": [
    "getter = SentenceGetter(data)"
   ]
  },
  {
   "cell_type": "code",
   "execution_count": 14,
   "metadata": {
    "ExecuteTime": {
     "end_time": "2020-05-28T01:00:28.125818Z",
     "start_time": "2020-05-28T01:00:28.111569Z"
    }
   },
   "outputs": [
    {
     "data": {
      "text/plain": [
       "Sentence #\n",
       "Sentence: 1        [(Thousands, NNS, O), (of, IN, O), (demonstrat...\n",
       "Sentence: 10       [(Iranian, JJ, B-gpe), (officials, NNS, O), (s...\n",
       "Sentence: 100      [(Helicopter, NN, O), (gunships, NNS, O), (Sat...\n",
       "Sentence: 1000     [(They, PRP, O), (left, VBD, O), (after, IN, O...\n",
       "Sentence: 10000    [(U.N., NNP, B-geo), (relief, NN, O), (coordin...\n",
       "dtype: object"
      ]
     },
     "execution_count": 14,
     "metadata": {},
     "output_type": "execute_result"
    }
   ],
   "source": [
    "# 数据以句子为单位，每个句子由 单词-词性-实体类别 三元组组成\n",
    "getter.grouped.head(5)"
   ]
  },
  {
   "cell_type": "code",
   "execution_count": 15,
   "metadata": {
    "ExecuteTime": {
     "end_time": "2020-05-28T01:01:48.436159Z",
     "start_time": "2020-05-28T01:01:48.295843Z"
    }
   },
   "outputs": [
    {
     "name": "stdout",
     "output_type": "stream",
     "text": [
      "['Thousands', 'of', 'demonstrators', 'have', 'marched', 'through', 'London', 'to', 'protest', 'the', 'war', 'in', 'Iraq', 'and', 'demand', 'the', 'withdrawal', 'of', 'British', 'troops', 'from', 'that', 'country', '.']\n"
     ]
    }
   ],
   "source": [
    "sentences = [[word[0] for word in sentence] for sentence in getter.sentences]\n",
    "print(sentences[0])"
   ]
  },
  {
   "cell_type": "code",
   "execution_count": 16,
   "metadata": {
    "ExecuteTime": {
     "end_time": "2020-05-28T01:01:50.394288Z",
     "start_time": "2020-05-28T01:01:50.345934Z"
    }
   },
   "outputs": [
    {
     "name": "stdout",
     "output_type": "stream",
     "text": [
      "['O', 'O', 'O', 'O', 'O', 'O', 'B-geo', 'O', 'O', 'O', 'O', 'O', 'B-geo', 'O', 'O', 'O', 'O', 'O', 'B-gpe', 'O', 'O', 'O', 'O', 'O']\n"
     ]
    }
   ],
   "source": [
    "labels = [[s[2] for s in sentence] for sentence in getter.sentences]\n",
    "print(labels[0])"
   ]
  },
  {
   "cell_type": "code",
   "execution_count": 17,
   "metadata": {
    "ExecuteTime": {
     "end_time": "2020-05-28T01:02:17.287519Z",
     "start_time": "2020-05-28T01:02:17.268863Z"
    }
   },
   "outputs": [],
   "source": [
    "# 创建标签字典\n",
    "\n",
    "tag_values = list(set(data[\"Tag\"].values))\n",
    "tag_values.append(\"PAD\")\n",
    "tag2idx = {t: i for i, t in enumerate(tag_values)}"
   ]
  },
  {
   "cell_type": "code",
   "execution_count": 18,
   "metadata": {
    "ExecuteTime": {
     "end_time": "2020-05-28T01:02:24.545028Z",
     "start_time": "2020-05-28T01:02:24.537240Z"
    }
   },
   "outputs": [
    {
     "name": "stdout",
     "output_type": "stream",
     "text": [
      "{'I-art': 0, 'I-nat': 1, 'B-org': 2, 'I-org': 3, 'B-tim': 4, 'B-art': 5, 'I-eve': 6, 'B-geo': 7, 'O': 8, 'B-nat': 9, 'B-eve': 10, 'B-gpe': 11, 'I-gpe': 12, 'I-per': 13, 'B-per': 14, 'I-tim': 15, 'I-geo': 16, 'PAD': 17}\n"
     ]
    }
   ],
   "source": [
    "print(tag2idx)"
   ]
  },
  {
   "cell_type": "markdown",
   "metadata": {},
   "source": [
    "> 添加了 `PAD` 标签"
   ]
  },
  {
   "cell_type": "markdown",
   "metadata": {},
   "source": [
    "# 数据管道"
   ]
  },
  {
   "cell_type": "code",
   "execution_count": 19,
   "metadata": {
    "ExecuteTime": {
     "end_time": "2020-05-28T01:02:56.858281Z",
     "start_time": "2020-05-28T01:02:55.265236Z"
    }
   },
   "outputs": [
    {
     "data": {
      "text/plain": [
       "'1.4.0'"
      ]
     },
     "execution_count": 19,
     "metadata": {},
     "output_type": "execute_result"
    }
   ],
   "source": [
    "import torch\n",
    "from torch.utils.data import TensorDataset, DataLoader, RandomSampler, SequentialSampler\n",
    "from transformers import BertTokenizer, BertConfig\n",
    "\n",
    "from tensorflow.keras.preprocessing.sequence import pad_sequences\n",
    "from sklearn.model_selection import train_test_split\n",
    "\n",
    "torch.__version__"
   ]
  },
  {
   "cell_type": "code",
   "execution_count": 20,
   "metadata": {
    "ExecuteTime": {
     "end_time": "2020-05-28T01:03:13.514786Z",
     "start_time": "2020-05-28T01:03:13.486862Z"
    }
   },
   "outputs": [],
   "source": [
    "# 参数\n",
    "MAX_LEN = 75\n",
    "bs = 32\n",
    "\n",
    "device = torch.device(\"cuda\" if torch.cuda.is_available() else \"cpu\")\n",
    "n_gpu = torch.cuda.device_count()"
   ]
  },
  {
   "cell_type": "code",
   "execution_count": 21,
   "metadata": {
    "ExecuteTime": {
     "end_time": "2020-05-28T01:03:17.288602Z",
     "start_time": "2020-05-28T01:03:17.280145Z"
    }
   },
   "outputs": [
    {
     "data": {
      "text/plain": [
       "device(type='cuda')"
      ]
     },
     "execution_count": 21,
     "metadata": {},
     "output_type": "execute_result"
    }
   ],
   "source": [
    "device"
   ]
  },
  {
   "cell_type": "code",
   "execution_count": 22,
   "metadata": {
    "ExecuteTime": {
     "end_time": "2020-05-28T01:03:19.229892Z",
     "start_time": "2020-05-28T01:03:19.221405Z"
    }
   },
   "outputs": [
    {
     "data": {
      "text/plain": [
       "1"
      ]
     },
     "execution_count": 22,
     "metadata": {},
     "output_type": "execute_result"
    }
   ],
   "source": [
    "n_gpu"
   ]
  },
  {
   "cell_type": "code",
   "execution_count": 23,
   "metadata": {
    "ExecuteTime": {
     "end_time": "2020-05-28T01:03:22.203181Z",
     "start_time": "2020-05-28T01:03:22.196754Z"
    }
   },
   "outputs": [
    {
     "data": {
      "text/plain": [
       "'GeForce RTX 2080 Ti'"
      ]
     },
     "execution_count": 23,
     "metadata": {},
     "output_type": "execute_result"
    }
   ],
   "source": [
    "torch.cuda.get_device_name(0)"
   ]
  },
  {
   "cell_type": "code",
   "execution_count": 24,
   "metadata": {
    "ExecuteTime": {
     "end_time": "2020-05-28T01:03:42.998724Z",
     "start_time": "2020-05-28T01:03:42.978398Z"
    }
   },
   "outputs": [],
   "source": [
    "# 分词器\n",
    "\n",
    "model_path = \"../../H/models/huggingface/torch/bert-base-cased/\"\n",
    "tokenizer = BertTokenizer.from_pretrained(model_path, do_lower_case=False)"
   ]
  },
  {
   "cell_type": "code",
   "execution_count": 25,
   "metadata": {
    "ExecuteTime": {
     "end_time": "2020-05-28T01:05:41.153408Z",
     "start_time": "2020-05-28T01:05:41.147402Z"
    }
   },
   "outputs": [],
   "source": [
    "# 单词可能拆分成子词\n",
    "\n",
    "def tokenize_and_preserve_labels(sentence, text_labels):\n",
    "    tokenized_sentence = []\n",
    "    labels = []\n",
    "\n",
    "    for word, label in zip(sentence, text_labels):\n",
    "\n",
    "        # Tokenize the word and count # of subwords the word is broken into\n",
    "        tokenized_word = tokenizer.tokenize(word)\n",
    "        n_subwords = len(tokenized_word)\n",
    "\n",
    "        # Add the tokenized word to the final tokenized word list\n",
    "        tokenized_sentence.extend(tokenized_word)\n",
    "\n",
    "        # Add the same label to the new list of labels `n_subwords` times\n",
    "        labels.extend([label] * n_subwords)\n",
    "\n",
    "    return tokenized_sentence, labels"
   ]
  },
  {
   "cell_type": "code",
   "execution_count": 26,
   "metadata": {
    "ExecuteTime": {
     "end_time": "2020-05-28T01:06:08.022495Z",
     "start_time": "2020-05-28T01:05:46.163254Z"
    }
   },
   "outputs": [],
   "source": [
    "tokenized_texts_and_labels = [\n",
    "    tokenize_and_preserve_labels(sent, labs)\n",
    "    for sent, labs in zip(sentences, labels)\n",
    "]"
   ]
  },
  {
   "cell_type": "code",
   "execution_count": 27,
   "metadata": {
    "ExecuteTime": {
     "end_time": "2020-05-28T01:06:24.268866Z",
     "start_time": "2020-05-28T01:06:24.255978Z"
    }
   },
   "outputs": [],
   "source": [
    "tokenized_texts = [\n",
    "    token_label_pair[0] for token_label_pair in tokenized_texts_and_labels\n",
    "]\n",
    "labels = [\n",
    "    token_label_pair[1] for token_label_pair in tokenized_texts_and_labels\n",
    "]"
   ]
  },
  {
   "cell_type": "code",
   "execution_count": 28,
   "metadata": {
    "ExecuteTime": {
     "end_time": "2020-05-28T01:06:39.416849Z",
     "start_time": "2020-05-28T01:06:39.411686Z"
    }
   },
   "outputs": [
    {
     "name": "stdout",
     "output_type": "stream",
     "text": [
      "['In', 'Beirut', ',', 'a', 'string', 'of', 'officials', 'voiced', 'their', 'anger', ',', 'while', 'at', 'the', 'United', 'Nations', 'summit', 'in', 'New', 'York', ',', 'Prime', 'Minister', 'F', '##ou', '##ad', 'Sin', '##ior', '##a', 'said', 'the', 'Lebanese', 'people', 'are', 're', '##sol', '##ute', 'in', 'preventing', 'such', 'attempts', 'from', 'destroying', 'their', 'spirit', '.']\n"
     ]
    }
   ],
   "source": [
    "print(tokenized_texts[10])"
   ]
  },
  {
   "cell_type": "code",
   "execution_count": 29,
   "metadata": {
    "ExecuteTime": {
     "end_time": "2020-05-28T01:06:49.753653Z",
     "start_time": "2020-05-28T01:06:49.751598Z"
    }
   },
   "outputs": [
    {
     "name": "stdout",
     "output_type": "stream",
     "text": [
      "['O', 'B-geo', 'O', 'O', 'O', 'O', 'O', 'O', 'O', 'O', 'O', 'O', 'O', 'O', 'B-org', 'I-org', 'O', 'O', 'B-geo', 'I-geo', 'O', 'B-per', 'O', 'B-per', 'B-per', 'B-per', 'I-per', 'I-per', 'I-per', 'O', 'O', 'B-gpe', 'O', 'O', 'O', 'O', 'O', 'O', 'O', 'O', 'O', 'O', 'O', 'O', 'O', 'O']\n"
     ]
    }
   ],
   "source": [
    "print(labels[10])"
   ]
  },
  {
   "cell_type": "code",
   "execution_count": 30,
   "metadata": {
    "ExecuteTime": {
     "end_time": "2020-05-28T01:08:00.415921Z",
     "start_time": "2020-05-28T01:07:59.794278Z"
    }
   },
   "outputs": [],
   "source": [
    "# 文本转换成数值向量，并处理成等长\n",
    "\n",
    "input_ids = pad_sequences(\n",
    "    [tokenizer.convert_tokens_to_ids(txt) for txt in tokenized_texts],\n",
    "    maxlen=MAX_LEN,\n",
    "    dtype=\"long\",  # np.int64。满足 torch 中的模块的要求\n",
    "    value=0.0,\n",
    "    truncating=\"post\",\n",
    "    padding=\"post\",\n",
    ")"
   ]
  },
  {
   "cell_type": "code",
   "execution_count": 32,
   "metadata": {
    "ExecuteTime": {
     "end_time": "2020-05-28T01:10:10.776545Z",
     "start_time": "2020-05-28T01:10:10.557937Z"
    }
   },
   "outputs": [],
   "source": [
    "# 标签转换成数值向量，并处理成等长\n",
    "\n",
    "tags = pad_sequences(\n",
    "    [[tag2idx.get(l) for l in lab] for lab in labels],\n",
    "    maxlen=MAX_LEN,\n",
    "    value=tag2idx[\"PAD\"],\n",
    "    padding=\"post\",\n",
    "    dtype=\"long\",\n",
    "    truncating=\"post\",\n",
    ")"
   ]
  },
  {
   "cell_type": "code",
   "execution_count": 36,
   "metadata": {
    "ExecuteTime": {
     "end_time": "2020-05-28T01:13:36.702294Z",
     "start_time": "2020-05-28T01:13:32.589062Z"
    }
   },
   "outputs": [],
   "source": [
    "# 输入掩码，表征哪些元素是填充的\n",
    "\n",
    "attention_masks = [[float(i != 0.0) for i in ii] for ii in input_ids]\n",
    "# attention_masks = input_ids != 0"
   ]
  },
  {
   "cell_type": "code",
   "execution_count": 37,
   "metadata": {
    "ExecuteTime": {
     "end_time": "2020-05-28T01:13:38.250534Z",
     "start_time": "2020-05-28T01:13:38.217878Z"
    }
   },
   "outputs": [],
   "source": [
    "# 拆分数据集，训练、验证、测试\n",
    "\n",
    "tr_inputs, val_inputs, tr_tags, val_tags = train_test_split(\n",
    "    input_ids,\n",
    "    tags,\n",
    "    random_state=2018,\n",
    "    test_size=0.1,\n",
    ")\n",
    "tr_masks, val_masks, _, _ = train_test_split(\n",
    "    attention_masks,\n",
    "    input_ids,\n",
    "    random_state=2018,\n",
    "    test_size=0.1,\n",
    ")"
   ]
  },
  {
   "cell_type": "code",
   "execution_count": 38,
   "metadata": {
    "ExecuteTime": {
     "end_time": "2020-05-28T01:14:03.360753Z",
     "start_time": "2020-05-28T01:14:03.213000Z"
    }
   },
   "outputs": [],
   "source": [
    "# 转换成 torch 张量\n",
    "\n",
    "tr_inputs = torch.tensor(tr_inputs)\n",
    "val_inputs = torch.tensor(val_inputs)\n",
    "tr_tags = torch.tensor(tr_tags)\n",
    "val_tags = torch.tensor(val_tags)\n",
    "tr_masks = torch.tensor(tr_masks)\n",
    "val_masks = torch.tensor(val_masks)"
   ]
  },
  {
   "cell_type": "code",
   "execution_count": 39,
   "metadata": {
    "ExecuteTime": {
     "end_time": "2020-05-28T01:14:19.191645Z",
     "start_time": "2020-05-28T01:14:19.186166Z"
    }
   },
   "outputs": [],
   "source": [
    "# 创建批量数据集\n",
    "\n",
    "train_data = TensorDataset(tr_inputs, tr_masks, tr_tags)\n",
    "train_sampler = RandomSampler(train_data)\n",
    "train_dataloader = DataLoader(train_data, sampler=train_sampler, batch_size=bs)\n",
    "\n",
    "valid_data = TensorDataset(val_inputs, val_masks, val_tags)\n",
    "valid_sampler = SequentialSampler(valid_data)\n",
    "valid_dataloader = DataLoader(valid_data, sampler=valid_sampler, batch_size=bs)"
   ]
  },
  {
   "cell_type": "markdown",
   "metadata": {},
   "source": [
    "# 创建模型"
   ]
  },
  {
   "cell_type": "code",
   "execution_count": 40,
   "metadata": {
    "ExecuteTime": {
     "end_time": "2020-05-28T01:15:19.395637Z",
     "start_time": "2020-05-28T01:15:19.389554Z"
    }
   },
   "outputs": [
    {
     "data": {
      "text/plain": [
       "'2.10.0'"
      ]
     },
     "execution_count": 40,
     "metadata": {},
     "output_type": "execute_result"
    }
   ],
   "source": [
    "import transformers\n",
    "from transformers import BertForTokenClassification, AdamW\n",
    "\n",
    "transformers.__version__"
   ]
  },
  {
   "cell_type": "code",
   "execution_count": 41,
   "metadata": {
    "ExecuteTime": {
     "end_time": "2020-05-28T01:15:24.668050Z",
     "start_time": "2020-05-28T01:15:22.769205Z"
    }
   },
   "outputs": [],
   "source": [
    "# Bert 用于分类\n",
    "model = BertForTokenClassification.from_pretrained(\n",
    "    model_path,\n",
    "    num_labels=len(tag2idx),  # 分类类别数，加上了 PAD\n",
    "    output_attentions=False,\n",
    "    output_hidden_states=False,\n",
    ")"
   ]
  },
  {
   "cell_type": "code",
   "execution_count": 42,
   "metadata": {
    "ExecuteTime": {
     "end_time": "2020-05-28T01:15:26.875246Z",
     "start_time": "2020-05-28T01:15:25.671419Z"
    }
   },
   "outputs": [],
   "source": [
    "model.cuda();"
   ]
  },
  {
   "cell_type": "code",
   "execution_count": 44,
   "metadata": {
    "ExecuteTime": {
     "end_time": "2020-05-28T01:19:08.360515Z",
     "start_time": "2020-05-28T01:19:08.353163Z"
    }
   },
   "outputs": [],
   "source": [
    "# 1. 优调整个模型，bert 模型及其上的分类层\n",
    "\n",
    "FULL_FINETUNING = True\n",
    "if FULL_FINETUNING:\n",
    "    param_optimizer = list(model.named_parameters())\n",
    "    no_decay = ['bias', 'gamma', 'beta']\n",
    "    optimizer_grouped_parameters = [{\n",
    "        'params':\n",
    "        [p for n, p in param_optimizer if not any(nd in n for nd in no_decay)],\n",
    "        'weight_decay_rate':\n",
    "        0.01\n",
    "    }, {\n",
    "        'params':\n",
    "        [p for n, p in param_optimizer if any(nd in n for nd in no_decay)],\n",
    "        'weight_decay_rate':\n",
    "        0.0\n",
    "    }]\n",
    "\n",
    "# 2. 仅仅训练最顶层的分类层    \n",
    "else:\n",
    "    param_optimizer = list(model.classifier.named_parameters())\n",
    "    optimizer_grouped_parameters = [{\n",
    "        \"params\": [p for n, p in param_optimizer]\n",
    "    }]\n",
    "\n",
    "# 优化器    \n",
    "optimizer = AdamW(optimizer_grouped_parameters, lr=3e-5, eps=1e-8)"
   ]
  },
  {
   "cell_type": "code",
   "execution_count": 45,
   "metadata": {
    "ExecuteTime": {
     "end_time": "2020-05-28T01:20:14.609431Z",
     "start_time": "2020-05-28T01:20:14.604163Z"
    }
   },
   "outputs": [],
   "source": [
    "from transformers import get_linear_schedule_with_warmup\n",
    "\n",
    "epochs = 3\n",
    "max_grad_norm = 1.0\n",
    "\n",
    "# 总的训练次数\n",
    "total_steps = len(train_dataloader) * epochs\n",
    "\n",
    "# 学习率规划\n",
    "scheduler = get_linear_schedule_with_warmup(\n",
    "    optimizer,\n",
    "    num_warmup_steps=0,\n",
    "    num_training_steps=total_steps,\n",
    ")"
   ]
  },
  {
   "cell_type": "markdown",
   "metadata": {},
   "source": [
    "# 训练模型"
   ]
  },
  {
   "cell_type": "code",
   "execution_count": 47,
   "metadata": {
    "ExecuteTime": {
     "end_time": "2020-05-28T01:32:34.636569Z",
     "start_time": "2020-05-28T01:32:34.631582Z"
    }
   },
   "outputs": [],
   "source": [
    "from sklearn.metrics import f1_score, accuracy_score, classification_report"
   ]
  },
  {
   "cell_type": "code",
   "execution_count": 61,
   "metadata": {
    "ExecuteTime": {
     "end_time": "2020-05-28T02:06:05.678715Z",
     "start_time": "2020-05-28T01:55:12.336488Z"
    }
   },
   "outputs": [
    {
     "name": "stderr",
     "output_type": "stream",
     "text": [
      "\r",
      "Epoch:   0%|          | 0/3 [00:00<?, ?it/s]"
     ]
    },
    {
     "name": "stdout",
     "output_type": "stream",
     "text": [
      "Average train loss: 0.06987917738890012 at epoch 0\n",
      "Validation loss: 0.13099516734480857 at epoch 0\n",
      "Validation Accuracy: 0.961826026810711at epoch 0\n",
      "Validation F1-Score: 0.6354711494451535at epoch 0\n"
     ]
    },
    {
     "name": "stderr",
     "output_type": "stream",
     "text": [
      "\r",
      "Epoch:  33%|███▎      | 1/3 [03:37<07:15, 217.62s/it]"
     ]
    },
    {
     "name": "stdout",
     "output_type": "stream",
     "text": [
      "              precision    recall  f1-score   support\n",
      "\n",
      "       B-art       0.18      0.32      0.23        53\n",
      "       B-eve       0.42      0.38      0.40        39\n",
      "       B-geo       0.91      0.86      0.88      6325\n",
      "       B-gpe       0.93      0.96      0.94      1727\n",
      "       B-nat       0.38      0.41      0.39        34\n",
      "       B-org       0.73      0.82      0.77      3265\n",
      "       B-per       0.85      0.85      0.85      2813\n",
      "       B-tim       0.86      0.90      0.88      2254\n",
      "       I-art       0.11      0.26      0.15        19\n",
      "       I-eve       0.15      0.33      0.20        18\n",
      "       I-geo       0.81      0.77      0.79       898\n",
      "       I-gpe       0.58      0.75      0.65        20\n",
      "       I-nat       0.17      0.33      0.22         3\n",
      "       I-org       0.75      0.81      0.78      2152\n",
      "       I-per       0.94      0.85      0.89      3987\n",
      "       I-tim       0.76      0.79      0.77       767\n",
      "           O       0.99      0.99      0.99     97070\n",
      "\n",
      "    accuracy                           0.96    121444\n",
      "   macro avg       0.62      0.67      0.64    121444\n",
      "weighted avg       0.96      0.96      0.96    121444\n",
      "\n",
      "\n",
      "Average train loss: 0.06977526041050149 at epoch 1\n",
      "Validation loss: 0.13099516734480857 at epoch 1\n",
      "Validation Accuracy: 0.961826026810711at epoch 1\n",
      "Validation F1-Score: 0.6354711494451535at epoch 1\n"
     ]
    },
    {
     "name": "stderr",
     "output_type": "stream",
     "text": [
      "\r",
      "Epoch:  67%|██████▋   | 2/3 [07:15<03:37, 217.68s/it]"
     ]
    },
    {
     "name": "stdout",
     "output_type": "stream",
     "text": [
      "              precision    recall  f1-score   support\n",
      "\n",
      "       B-art       0.18      0.32      0.23        53\n",
      "       B-eve       0.42      0.38      0.40        39\n",
      "       B-geo       0.91      0.86      0.88      6325\n",
      "       B-gpe       0.93      0.96      0.94      1727\n",
      "       B-nat       0.38      0.41      0.39        34\n",
      "       B-org       0.73      0.82      0.77      3265\n",
      "       B-per       0.85      0.85      0.85      2813\n",
      "       B-tim       0.86      0.90      0.88      2254\n",
      "       I-art       0.11      0.26      0.15        19\n",
      "       I-eve       0.15      0.33      0.20        18\n",
      "       I-geo       0.81      0.77      0.79       898\n",
      "       I-gpe       0.58      0.75      0.65        20\n",
      "       I-nat       0.17      0.33      0.22         3\n",
      "       I-org       0.75      0.81      0.78      2152\n",
      "       I-per       0.94      0.85      0.89      3987\n",
      "       I-tim       0.76      0.79      0.77       767\n",
      "           O       0.99      0.99      0.99     97070\n",
      "\n",
      "    accuracy                           0.96    121444\n",
      "   macro avg       0.62      0.67      0.64    121444\n",
      "weighted avg       0.96      0.96      0.96    121444\n",
      "\n",
      "\n",
      "Average train loss: 0.06955887069766878 at epoch 2\n",
      "Validation loss: 0.13099516734480857 at epoch 2\n",
      "Validation Accuracy: 0.961826026810711at epoch 2\n",
      "Validation F1-Score: 0.6354711494451535at epoch 2\n"
     ]
    },
    {
     "name": "stderr",
     "output_type": "stream",
     "text": [
      "Epoch: 100%|██████████| 3/3 [10:53<00:00, 217.78s/it]"
     ]
    },
    {
     "name": "stdout",
     "output_type": "stream",
     "text": [
      "              precision    recall  f1-score   support\n",
      "\n",
      "       B-art       0.18      0.32      0.23        53\n",
      "       B-eve       0.42      0.38      0.40        39\n",
      "       B-geo       0.91      0.86      0.88      6325\n",
      "       B-gpe       0.93      0.96      0.94      1727\n",
      "       B-nat       0.38      0.41      0.39        34\n",
      "       B-org       0.73      0.82      0.77      3265\n",
      "       B-per       0.85      0.85      0.85      2813\n",
      "       B-tim       0.86      0.90      0.88      2254\n",
      "       I-art       0.11      0.26      0.15        19\n",
      "       I-eve       0.15      0.33      0.20        18\n",
      "       I-geo       0.81      0.77      0.79       898\n",
      "       I-gpe       0.58      0.75      0.65        20\n",
      "       I-nat       0.17      0.33      0.22         3\n",
      "       I-org       0.75      0.81      0.78      2152\n",
      "       I-per       0.94      0.85      0.89      3987\n",
      "       I-tim       0.76      0.79      0.77       767\n",
      "           O       0.99      0.99      0.99     97070\n",
      "\n",
      "    accuracy                           0.96    121444\n",
      "   macro avg       0.62      0.67      0.64    121444\n",
      "weighted avg       0.96      0.96      0.96    121444\n",
      "\n",
      "\n"
     ]
    },
    {
     "name": "stderr",
     "output_type": "stream",
     "text": [
      "\n"
     ]
    }
   ],
   "source": [
    "## 记录每一周次训练完的平均损失和验证损失\n",
    "loss_values, validation_loss_values = [], []\n",
    "\n",
    "for epoch in trange(epochs, desc=\"Epoch\"):\n",
    "    # ========================================\n",
    "    #               训练\n",
    "    # ========================================\n",
    "\n",
    "    #  训练模式\n",
    "    model.train()\n",
    "\n",
    "    # 损失\n",
    "    total_loss = 0\n",
    "\n",
    "    # 训练循环\n",
    "    for step, batch in enumerate(train_dataloader):\n",
    "        # 数据 gpu\n",
    "        batch = tuple(t.to(device) for t in batch)\n",
    "        b_input_ids, b_input_mask, b_labels = batch\n",
    "\n",
    "        # 梯度清零\n",
    "        model.zero_grad()\n",
    "\n",
    "        # 前向计算，获得损失\n",
    "        outputs = model(b_input_ids,\n",
    "                        token_type_ids=None,\n",
    "                        attention_mask=b_input_mask,\n",
    "                        labels=b_labels)\n",
    "        loss = outputs[0]\n",
    "\n",
    "        # 反向传播\n",
    "        loss.backward()\n",
    "\n",
    "        # 累加损失\n",
    "        total_loss += loss.item()\n",
    "\n",
    "        # 梯度裁剪，防止梯度爆炸\n",
    "        torch.nn.utils.clip_grad_norm_(parameters=model.parameters(),\n",
    "                                       max_norm=max_grad_norm)\n",
    "        # 更新参数\n",
    "        optimizer.step()\n",
    "        # 更新学习率\n",
    "        scheduler.step()\n",
    "\n",
    "    # 计算每一训练循环的平均损失\n",
    "    avg_train_loss = total_loss / len(train_dataloader)\n",
    "    print(\"Average train loss: {} at epoch {}\".format(avg_train_loss, epoch))\n",
    "\n",
    "    loss_values.append(avg_train_loss)\n",
    "\n",
    "    # ========================================\n",
    "    #               验证\n",
    "    # ========================================\n",
    "\n",
    "    # 验证模式\n",
    "    model.eval()\n",
    "\n",
    "    # 验证损失及验证精度\n",
    "    eval_loss, eval_accuracy = 0, 0\n",
    "\n",
    "    nb_eval_steps, nb_eval_examples = 0, 0\n",
    "\n",
    "    predictions, true_labels = [], []\n",
    "    for batch in valid_dataloader:\n",
    "        batch = tuple(t.to(device) for t in batch)\n",
    "        b_input_ids, b_input_mask, b_labels = batch\n",
    "\n",
    "        # 验证时，不更新梯度\n",
    "        with torch.no_grad():\n",
    "\n",
    "            # 没有提供标签值，返回值为 权重分布，而不是损失值\n",
    "            outputs = model(b_input_ids,\n",
    "                            token_type_ids=None,\n",
    "                            attention_mask=b_input_mask,\n",
    "                            labels=b_labels)\n",
    "\n",
    "        # 数据移动到 cpu 上\n",
    "        logits = outputs[1].detach().cpu().numpy()\n",
    "        label_ids = b_labels.to('cpu').numpy()\n",
    "\n",
    "        # 累加损失值\n",
    "        eval_loss += outputs[0].mean().item()\n",
    "        predictions.extend([list(p) for p in np.argmax(logits, axis=2)])\n",
    "        true_labels.extend(label_ids)\n",
    "\n",
    "    eval_loss = eval_loss / len(valid_dataloader)\n",
    "    validation_loss_values.append(eval_loss)\n",
    "    print(\"Validation loss: {} at epoch {}\".format(eval_loss, epoch))\n",
    "\n",
    "    # 计算精度\n",
    "    pred_tags = [\n",
    "        tag_values[p_i] for p, l in zip(predictions, true_labels)\n",
    "        for p_i, l_i in zip(p, l) if tag_values[l_i] != \"PAD\"\n",
    "    ]\n",
    "    valid_tags = [\n",
    "        tag_values[l_i] for l in true_labels for l_i in l\n",
    "        if tag_values[l_i] != \"PAD\"\n",
    "    ]\n",
    "    print(\"Validation Accuracy: {}at epoch {}\".format(\n",
    "        accuracy_score(pred_tags, valid_tags), epoch))\n",
    "    print(\"Validation F1-Score: {}at epoch {}\".format(\n",
    "        f1_score(pred_tags, valid_tags, average='macro'), epoch))\n",
    "    valid_report = classification_report(pred_tags, valid_tags)\n",
    "    print(valid_report)\n",
    "    print()"
   ]
  },
  {
   "cell_type": "markdown",
   "metadata": {},
   "source": [
    "> 少数标签的识别正确率非常低，B-art，B-nat，I-art 等，对应的样本量非常少"
   ]
  },
  {
   "cell_type": "code",
   "execution_count": null,
   "metadata": {},
   "outputs": [],
   "source": []
  },
  {
   "cell_type": "code",
   "execution_count": 62,
   "metadata": {
    "ExecuteTime": {
     "end_time": "2020-05-28T02:10:42.448303Z",
     "start_time": "2020-05-28T02:10:42.163352Z"
    }
   },
   "outputs": [
    {
     "data": {
      "image/png": "[encoded data removed]",
      "text/plain": [
       "<Figure size 864x432 with 1 Axes>"
      ]
     },
     "metadata": {},
     "output_type": "display_data"
    }
   ],
   "source": [
    "import matplotlib.pyplot as plt\n",
    "%matplotlib inline\n",
    "\n",
    "import seaborn as sns\n",
    "\n",
    "# Use plot styling from seaborn.\n",
    "sns.set(style='darkgrid')\n",
    "\n",
    "# Increase the plot size and font size.\n",
    "sns.set(font_scale=1.5)\n",
    "plt.rcParams[\"figure.figsize\"] = (12, 6)\n",
    "\n",
    "# Plot the learning curve.\n",
    "plt.plot(loss_values, 'b-o', label=\"training loss\")\n",
    "plt.plot(validation_loss_values, 'r-o', label=\"validation loss\")\n",
    "\n",
    "# Label the plot.\n",
    "plt.title(\"Learning curve\")\n",
    "plt.xlabel(\"Epoch\")\n",
    "plt.ylabel(\"Loss\")\n",
    "plt.legend()\n",
    "\n",
    "plt.show()"
   ]
  },
  {
   "cell_type": "markdown",
   "metadata": {},
   "source": [
    ">  - 模型训练周次太少\n",
    " - 模型很快稳定下来"
   ]
  },
  {
   "cell_type": "markdown",
   "metadata": {},
   "source": [
    "# 使用模型"
   ]
  },
  {
   "cell_type": "code",
   "execution_count": 63,
   "metadata": {
    "ExecuteTime": {
     "end_time": "2020-05-28T02:12:54.337363Z",
     "start_time": "2020-05-28T02:12:54.331121Z"
    }
   },
   "outputs": [],
   "source": [
    "test_sentence = \"\"\"\n",
    "Mr. Trump’s tweets began just moments after a Fox News report by Mike Tobin, a \n",
    "reporter for the network, about protests in Minnesota and elsewhere. \n",
    "\"\"\""
   ]
  },
  {
   "cell_type": "code",
   "execution_count": 65,
   "metadata": {
    "ExecuteTime": {
     "end_time": "2020-05-28T02:13:10.729261Z",
     "start_time": "2020-05-28T02:13:10.715598Z"
    }
   },
   "outputs": [
    {
     "name": "stdout",
     "output_type": "stream",
     "text": [
      "tensor([[  101,  1828,   119,  8499,   787,   188,   189, 24887,  1116,  1310,\n",
      "          1198,  4899,  1170,   170,  3977,  3128,  2592,  1118,  2639,  1706,\n",
      "          7939,   117,   170,  6672,  1111,  1103,  2443,   117,  1164,  7853,\n",
      "          1107,  4332,  1105,  6890,   119,   102]], device='cuda:0')\n"
     ]
    }
   ],
   "source": [
    "tokenized_sentence = tokenizer.encode(test_sentence)\n",
    "input_ids = torch.tensor([tokenized_sentence]).cuda()\n",
    "print(input_ids)"
   ]
  },
  {
   "cell_type": "code",
   "execution_count": 66,
   "metadata": {
    "ExecuteTime": {
     "end_time": "2020-05-28T02:13:26.293023Z",
     "start_time": "2020-05-28T02:13:26.279954Z"
    }
   },
   "outputs": [],
   "source": [
    "with torch.no_grad():\n",
    "    output = model(input_ids)\n",
    "label_indices = np.argmax(output[0].to('cpu').numpy(), axis=2)"
   ]
  },
  {
   "cell_type": "code",
   "execution_count": 67,
   "metadata": {
    "ExecuteTime": {
     "end_time": "2020-05-28T02:13:47.479519Z",
     "start_time": "2020-05-28T02:13:47.476496Z"
    }
   },
   "outputs": [],
   "source": [
    "# join bpe split tokens\n",
    "tokens = tokenizer.convert_ids_to_tokens(input_ids.to('cpu').numpy()[0])\n",
    "new_tokens, new_labels = [], []\n",
    "for token, label_idx in zip(tokens, label_indices[0]):\n",
    "    if token.startswith(\"##\"):\n",
    "        new_tokens[-1] = new_tokens[-1] + token[2:]\n",
    "    else:\n",
    "        new_labels.append(tag_values[label_idx])\n",
    "        new_tokens.append(token)"
   ]
  },
  {
   "cell_type": "code",
   "execution_count": 68,
   "metadata": {
    "ExecuteTime": {
     "end_time": "2020-05-28T02:13:56.083457Z",
     "start_time": "2020-05-28T02:13:56.076509Z"
    }
   },
   "outputs": [
    {
     "name": "stdout",
     "output_type": "stream",
     "text": [
      "O\t[CLS]\n",
      "B-per\tMr\n",
      "B-per\t.\n",
      "I-per\tTrump\n",
      "O\t’\n",
      "O\ts\n",
      "O\ttweets\n",
      "O\tbegan\n",
      "O\tjust\n",
      "O\tmoments\n",
      "O\tafter\n",
      "O\ta\n",
      "B-org\tFox\n",
      "I-org\tNews\n",
      "O\treport\n",
      "O\tby\n",
      "B-per\tMike\n",
      "I-per\tTobin\n",
      "O\t,\n",
      "O\ta\n",
      "O\treporter\n",
      "O\tfor\n",
      "O\tthe\n",
      "O\tnetwork\n",
      "O\t,\n",
      "O\tabout\n",
      "O\tprotests\n",
      "O\tin\n",
      "B-geo\tMinnesota\n",
      "O\tand\n",
      "O\telsewhere\n",
      "O\t.\n",
      "O\t[SEP]\n"
     ]
    }
   ],
   "source": [
    "for token, label in zip(new_tokens, new_labels):\n",
    "    print(\"{}\\t{}\".format(label, token))"
   ]
  },
  {
   "cell_type": "code",
   "execution_count": null,
   "metadata": {},
   "outputs": [],
   "source": []
  }
 ],
 "metadata": {
  "kernelspec": {
   "display_name": "Python 3",
   "language": "python",
   "name": "python3"
  },
  "language_info": {
   "codemirror_mode": {
    "name": "ipython",
    "version": 3
   },
   "file_extension": ".py",
   "mimetype": "text/x-python",
   "name": "python",
   "nbconvert_exporter": "python",
   "pygments_lexer": "ipython3",
   "version": "3.7.7"
  },
  "toc": {
   "base_numbering": 1,
   "nav_menu": {},
   "number_sections": true,
   "sideBar": true,
   "skip_h1_title": false,
   "title_cell": "Table of Contents",
   "title_sidebar": "Contents",
   "toc_cell": false,
   "toc_position": {},
   "toc_section_display": true,
   "toc_window_display": false
  },
  "varInspector": {
   "cols": {
    "lenName": 16,
    "lenType": 16,
    "lenVar": 40
   },
   "kernels_config": {
    "python": {
     "delete_cmd_postfix": "",
     "delete_cmd_prefix": "del ",
     "library": "var_list.py",
     "varRefreshCmd": "print(var_dic_list())"
    },
    "r": {
     "delete_cmd_postfix": ") ",
     "delete_cmd_prefix": "rm(",
     "library": "var_list.r",
     "varRefreshCmd": "cat(var_dic_list()) "
    }
   },
   "types_to_exclude": [
    "module",
    "function",
    "builtin_function_or_method",
    "instance",
    "_Feature"
   ],
   "window_display": false
  }
 },
 "nbformat": 4,
 "nbformat_minor": 4
}
