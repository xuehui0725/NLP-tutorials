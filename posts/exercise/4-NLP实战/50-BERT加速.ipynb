{
 "cells": [
  {
   "cell_type": "markdown",
   "metadata": {},
   "source": [
    "BERT的性能强大，唯一的问题是其尺寸   \n",
    "- BERT-base 包含 110M 参数，BERT-large 包含 340M 参数，也因此很难将其部署到很多内存受限的环境中，如手机或嵌入式设备   \n",
    "\n",
    "也导致训练和推理非常耗时  \n",
    "\n",
    "\n",
    "优化神经网络：\n",
    "- 架构提升：如更改为更快模型架构，RNN替换成Transformer，更聪明的优化技术\n",
    "- 模型压缩：减枝等\n",
    "- 模型蒸馏：训练更小的模型，能够复现原始模型\n",
    "\n",
    "\n",
    "架构和优化：\n",
    "- 大规模的分布式训练\n",
    "- layerwise adaptive large batch optimization technique ： LAMB "
   ]
  }
 ],
 "metadata": {
  "kernelspec": {
   "display_name": "Python 3",
   "language": "python",
   "name": "python3"
  },
  "language_info": {
   "codemirror_mode": {
    "name": "ipython",
    "version": 3
   },
   "file_extension": ".py",
   "mimetype": "text/x-python",
   "name": "python",
   "nbconvert_exporter": "python",
   "pygments_lexer": "ipython3",
   "version": "3.7.4"
  },
  "toc": {
   "base_numbering": 1,
   "nav_menu": {},
   "number_sections": true,
   "sideBar": true,
   "skip_h1_title": false,
   "title_cell": "Table of Contents",
   "title_sidebar": "Contents",
   "toc_cell": false,
   "toc_position": {},
   "toc_section_display": true,
   "toc_window_display": false
  },
  "varInspector": {
   "cols": {
    "lenName": 16,
    "lenType": 16,
    "lenVar": 40
   },
   "kernels_config": {
    "python": {
     "delete_cmd_postfix": "",
     "delete_cmd_prefix": "del ",
     "library": "var_list.py",
     "varRefreshCmd": "print(var_dic_list())"
    },
    "r": {
     "delete_cmd_postfix": ") ",
     "delete_cmd_prefix": "rm(",
     "library": "var_list.r",
     "varRefreshCmd": "cat(var_dic_list()) "
    }
   },
   "types_to_exclude": [
    "module",
    "function",
    "builtin_function_or_method",
    "instance",
    "_Feature"
   ],
   "window_display": false
  }
 },
 "nbformat": 4,
 "nbformat_minor": 4
}
